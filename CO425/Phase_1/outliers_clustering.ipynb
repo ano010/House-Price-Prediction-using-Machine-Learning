{
 "cells": [
  {
   "cell_type": "code",
   "execution_count": 25,
   "metadata": {},
   "outputs": [
    {
     "data": {
      "text/plain": [
       "[<matplotlib.lines.Line2D at 0x1beee7c4400>]"
      ]
     },
     "execution_count": 25,
     "metadata": {},
     "output_type": "execute_result"
    },
    {
     "data": {
      "image/png": "[encoded data removed]",
      "text/plain": [
       "<Figure size 432x288 with 1 Axes>"
      ]
     },
     "metadata": {
      "needs_background": "light"
     },
     "output_type": "display_data"
    }
   ],
   "source": [
    "import matplotlib.pyplot as plt\n",
    "df = pd.read_csv(\"../data_set_535_ano_sankee_six.csv\")\n",
    "k_rng = range(1, 10)\n",
    "sse = []\n",
    "for k in k_rng:\n",
    "    km = KMeans(n_clusters=k)\n",
    "    km.fit(df)\n",
    "    sse.append(km.inertia_)\n",
    "    \n",
    "plt.xlabel('K')\n",
    "plt.ylabel('Sum of squared error')\n",
    "plt.plot(k_rng, sse)"
   ]
  },
  {
   "cell_type": "code",
   "execution_count": 26,
   "metadata": {},
   "outputs": [
    {
     "name": "stdout",
     "output_type": "stream",
     "text": [
      "cluster1 (412, 7)\n",
      "cluster2 (21, 7)\n",
      "cluster3 (7, 7)\n",
      "cluster4 (95, 7)\n"
     ]
    },
    {
     "name": "stderr",
     "output_type": "stream",
     "text": [
      "c:\\users\\ano\\appdata\\local\\programs\\python\\python38\\lib\\site-packages\\sklearn\\metrics\\_regression.py:582: UndefinedMetricWarning: R^2 score is not well-defined with less than two samples.\n",
      "  warnings.warn(msg, UndefinedMetricWarning)\n",
      "c:\\users\\ano\\appdata\\local\\programs\\python\\python38\\lib\\site-packages\\sklearn\\metrics\\_regression.py:582: UndefinedMetricWarning: R^2 score is not well-defined with less than two samples.\n",
      "  warnings.warn(msg, UndefinedMetricWarning)\n",
      "c:\\users\\ano\\appdata\\local\\programs\\python\\python38\\lib\\site-packages\\sklearn\\metrics\\_regression.py:582: UndefinedMetricWarning: R^2 score is not well-defined with less than two samples.\n",
      "  warnings.warn(msg, UndefinedMetricWarning)\n"
     ]
    },
    {
     "name": "stdout",
     "output_type": "stream",
     "text": [
      "cluster1_l: 0.612999356193739\n",
      "cluster2_l: -0.6092415625242438\n",
      "cluster3_l: nan\n",
      "cluster4_l: 0.03066539756469957\n"
     ]
    }
   ],
   "source": [
    "import pandas as pd\n",
    "import numpy as np\n",
    "from sklearn.cluster import KMeans\n",
    "from sklearn.linear_model import LinearRegression\n",
    "from sklearn.ensemble import RandomForestRegressor\n",
    "from sklearn.model_selection import cross_val_score\n",
    "\n",
    "# Removing outliers by clustering\n",
    "# k = 4\n",
    "\n",
    "df = pd.read_csv(\"../data_set_535_ano_sankee_six.csv\")\n",
    "\n",
    "km = KMeans(n_clusters = 4)\n",
    "y_predicted = km.fit_predict(df)\n",
    "df['cluster'] = y_predicted\n",
    "df1 = df[df.cluster == 0]\n",
    "df2 = df[df.cluster == 1]\n",
    "df3 = df[df.cluster == 2]\n",
    "df4 = df[df.cluster == 3]\n",
    "\n",
    "print('cluster1', df1.shape)\n",
    "print('cluster2', df2.shape)\n",
    "print('cluster3', df3.shape)\n",
    "print('cluster4', df4.shape)\n",
    "\n",
    "lr = LinearRegression()\n",
    "rf = RandomForestRegressor()\n",
    "\n",
    "X1 = df1.drop('price', axis = 1).drop('cluster', axis = 1)\n",
    "y1 = df1['price']\n",
    "\n",
    "X2 = df2.drop('price', axis = 1).drop('cluster', axis = 1)\n",
    "y2 = df2['price']\n",
    "\n",
    "X3 = df3.drop('price', axis = 1).drop('cluster', axis = 1)\n",
    "y3 = df3['price']\n",
    "\n",
    "X4 = df4.drop('price', axis = 1).drop('cluster', axis = 1)\n",
    "y4 = df4['price']\n",
    "\n",
    "dfc = df1.drop('cluster', axis=1)\n",
    "dfc.to_csv(\"house_data_first_semister_clustered.csv\", index=False)\n",
    "\n",
    "scores_cluster1_l = cross_val_score(rf, X1, y1, cv=5)\n",
    "scores_cluster2_l = cross_val_score(rf, X2, y2, cv = 5)\n",
    "scores_cluster3_l = cross_val_score(rf, X3, y3, cv = 5)\n",
    "scores_cluster4_l = cross_val_score(rf, X4, y4, cv = 5)\n",
    "\n",
    "print('cluster1_l:', np.mean(scores_cluster1_l))\n",
    "print('cluster2_l:', np.mean(scores_cluster2_l))\n",
    "print('cluster3_l:', np.mean(scores_cluster3_l))\n",
    "print('cluster4_l:', np.mean(scores_cluster4_l))"
   ]
  },
  {
   "cell_type": "code",
   "execution_count": 1,
   "metadata": {},
   "outputs": [
    {
     "name": "stdout",
     "output_type": "stream",
     "text": [
      "(412, 6)\n",
      "[{'model': 'lr', 'best_score': 0.4277174332228858, 'best_params': {}}, {'model': 'rf', 'best_score': 0.6647806164876564, 'best_params': {'max_depth': 25, 'max_features': 1, 'n_estimators': 100}}, {'model': 'knn', 'best_score': 0.5556847295182271, 'best_params': {'n_neighbors': 50}}]\n"
     ]
    },
    {
     "data": {
      "text/html": [
       "<div>\n",
       "<style scoped>\n",
       "    .dataframe tbody tr th:only-of-type {\n",
       "        vertical-align: middle;\n",
       "    }\n",
       "\n",
       "    .dataframe tbody tr th {\n",
       "        vertical-align: top;\n",
       "    }\n",
       "\n",
       "    .dataframe thead th {\n",
       "        text-align: right;\n",
       "    }\n",
       "</style>\n",
       "<table border=\"1\" class=\"dataframe\">\n",
       "  <thead>\n",
       "    <tr style=\"text-align: right;\">\n",
       "      <th></th>\n",
       "      <th>model</th>\n",
       "      <th>best_score</th>\n",
       "      <th>best_params</th>\n",
       "    </tr>\n",
       "  </thead>\n",
       "  <tbody>\n",
       "    <tr>\n",
       "      <th>0</th>\n",
       "      <td>lr</td>\n",
       "      <td>0.427717</td>\n",
       "      <td>{}</td>\n",
       "    </tr>\n",
       "    <tr>\n",
       "      <th>1</th>\n",
       "      <td>rf</td>\n",
       "      <td>0.664781</td>\n",
       "      <td>{'max_depth': 25, 'max_features': 1, 'n_estima...</td>\n",
       "    </tr>\n",
       "    <tr>\n",
       "      <th>2</th>\n",
       "      <td>knn</td>\n",
       "      <td>0.555685</td>\n",
       "      <td>{'n_neighbors': 50}</td>\n",
       "    </tr>\n",
       "  </tbody>\n",
       "</table>\n",
       "</div>"
      ],
      "text/plain": [
       "  model  best_score                                        best_params\n",
       "0    lr    0.427717                                                 {}\n",
       "1    rf    0.664781  {'max_depth': 25, 'max_features': 1, 'n_estima...\n",
       "2   knn    0.555685                                {'n_neighbors': 50}"
      ]
     },
     "execution_count": 1,
     "metadata": {},
     "output_type": "execute_result"
    }
   ],
   "source": [
    "#removed outliers by clustering\n",
    "# instances: 412, features: 6\n",
    "\n",
    "import pandas as pd\n",
    "import numpy as np\n",
    "from sklearn.cluster import KMeans\n",
    "from sklearn.model_selection import GridSearchCV, cross_val_score\n",
    "from sklearn.linear_model import LinearRegression\n",
    "from sklearn.ensemble import RandomForestRegressor\n",
    "from sklearn.neighbors import KNeighborsRegressor\n",
    "from sklearn.svm import SVR\n",
    "from sklearn.neural_network import MLPRegressor\n",
    "\n",
    "df = pd.read_csv(\"house_data_first_semister_clustered.csv\")\n",
    "print(df.shape)\n",
    "\n",
    "X = df.drop('price', axis = 1)\n",
    "y = df['price']\n",
    "\n",
    "model_params = {\n",
    "    'lr': {\n",
    "        'model': LinearRegression(),\n",
    "        'params': {}\n",
    "    },\n",
    "    'rf': {\n",
    "        'model': RandomForestRegressor(),\n",
    "        'params': {\n",
    "            'n_estimators': [10, 20, 50, 70, 100, 150],\n",
    "            'max_features': [1, 2, 3, 4, 5],\n",
    "            'max_depth': [1, 2, 5, 10, 15, 20, 25]\n",
    "        }\n",
    "    },\n",
    "    'knn': {\n",
    "        'model': KNeighborsRegressor(),\n",
    "        'params': {\n",
    "            'n_neighbors': [5, 10, 15, 25, 30, 50, 100]\n",
    "        }\n",
    "    }\n",
    "}\n",
    "\n",
    "scores = []\n",
    "\n",
    "for model_name, mp in model_params.items():\n",
    "    clf = GridSearchCV(mp['model'], mp['params'], cv=5, return_train_score=False)\n",
    "    clf.fit(X, y)\n",
    "    scores.append({\n",
    "        'model': model_name,\n",
    "        'best_score': clf.best_score_,\n",
    "        'best_params': clf.best_params_\n",
    "    })\n",
    "    \n",
    "print(scores)    \n",
    "df = pd.DataFrame(scores, columns=['model', 'best_score', 'best_params'])\n",
    "df.to_csv('first_semister_result_outliers_clustring_method.csv', index = False)\n",
    "df"
   ]
  },
  {
   "cell_type": "code",
   "execution_count": 11,
   "metadata": {},
   "outputs": [
    {
     "name": "stdout",
     "output_type": "stream",
     "text": [
      "LR:  0.4277174332228858\n",
      "RF:  0.6551594942787263\n",
      "KNN:  0.5556847295182271\n"
     ]
    }
   ],
   "source": [
    "df = pd.read_csv(\"house_data_first_semister_clustered.csv\")\n",
    "\n",
    "\n",
    "X = df.drop('price', axis = 1)\n",
    "y = df['price']\n",
    "\n",
    "score_lr = cross_val_score(LinearRegression(), X, y, cv=5)\n",
    "score_rf = cross_val_score(RandomForestRegressor(max_depth=25, max_features=1, n_estimators=100), X, y, cv=5)\n",
    "score_knn = cross_val_score(KNeighborsRegressor(n_neighbors=50), X, y, cv=5)\n",
    "\n",
    "print('LR: ', np.mean(score_lr))\n",
    "print('RF: ', np.mean(score_rf))\n",
    "print('KNN: ', np.mean(score_knn))"
   ]
  }
 ],
 "metadata": {
  "kernelspec": {
   "display_name": "Python 3",
   "language": "python",
   "name": "python3"
  },
  "language_info": {
   "codemirror_mode": {
    "name": "ipython",
    "version": 3
   },
   "file_extension": ".py",
   "mimetype": "text/x-python",
   "name": "python",
   "nbconvert_exporter": "python",
   "pygments_lexer": "ipython3",
   "version": "3.8.1"
  }
 },
 "nbformat": 4,
 "nbformat_minor": 4
}
