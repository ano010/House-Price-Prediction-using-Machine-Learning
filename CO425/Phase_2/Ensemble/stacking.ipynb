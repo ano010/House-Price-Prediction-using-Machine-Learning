{
 "cells": [
  {
   "cell_type": "code",
   "execution_count": 1,
   "metadata": {},
   "outputs": [
    {
     "name": "stdout",
     "output_type": "stream",
     "text": [
      "5-fold cross validation scores:\n",
      "\n",
      "R^2 Score: 0.60 (+/- 0.01) [LR]\n",
      "R^2 Score: 0.33 (+/- 0.02) [KNN]\n",
      "R^2 Score: 0.83 (+/- 0.01) [RF]\n",
      "R^2 Score: 0.81 (+/- 0.01) [BR]\n",
      "[11:43:55] WARNING: C:/Jenkins/workspace/xgboost-win64_release_0.90/src/objective/regression_obj.cu:152: reg:linear is now deprecated in favor of reg:squarederror.\n",
      "[11:43:58] WARNING: C:/Jenkins/workspace/xgboost-win64_release_0.90/src/objective/regression_obj.cu:152: reg:linear is now deprecated in favor of reg:squarederror.\n",
      "[11:43:59] WARNING: C:/Jenkins/workspace/xgboost-win64_release_0.90/src/objective/regression_obj.cu:152: reg:linear is now deprecated in favor of reg:squarederror.\n",
      "[11:44:02] WARNING: C:/Jenkins/workspace/xgboost-win64_release_0.90/src/objective/regression_obj.cu:152: reg:linear is now deprecated in favor of reg:squarederror.\n",
      "[11:44:03] WARNING: C:/Jenkins/workspace/xgboost-win64_release_0.90/src/objective/regression_obj.cu:152: reg:linear is now deprecated in favor of reg:squarederror.\n",
      "R^2 Score: 0.81 (+/- 0.02) [XGB]\n",
      "R^2 Score: -0.06 (+/- 0.02) [SVR]\n",
      "R^2 Score: -3.18 (+/- 4.24) [MLP]\n"
     ]
    },
    {
     "data": {
      "text/plain": [
       "0.6063022068094079"
      ]
     },
     "execution_count": 1,
     "metadata": {},
     "output_type": "execute_result"
    }
   ],
   "source": [
    "import pandas as pd\n",
    "from sklearn.metrics import r2_score\n",
    "from sklearn.model_selection import cross_val_score\n",
    "from sklearn.linear_model import LinearRegression\n",
    "from sklearn.ensemble import RandomForestRegressor\n",
    "import xgboost\n",
    "\n",
    "from sklearn.neighbors import KNeighborsRegressor\n",
    "from sklearn.svm import SVR\n",
    "from mlxtend.regressor import StackingRegressor\n",
    "from sklearn.neural_network import MLPRegressor\n",
    "from sklearn.model_selection import train_test_split\n",
    "\n",
    "from sklearn import tree\n",
    "from sklearn.ensemble import BaggingRegressor\n",
    "\n",
    "\n",
    "#file = pd.read_csv('house-data-set-cleaned-3.csv')\n",
    "file = pd.read_csv('kc_house_data.csv')\n",
    "df = pd.DataFrame(file)\n",
    "\n",
    "X = df.drop(\"price\", axis=1)\n",
    "y= df.price\n",
    "X_train, X_test, y_train, y_test = train_test_split(X, y, random_state=42)\n",
    "\n",
    "BR = BaggingRegressor(tree.DecisionTreeRegressor(random_state=1))\n",
    "LR = LinearRegression()\n",
    "KNN = KNeighborsRegressor()\n",
    "SVR = SVR()\n",
    "MLP = MLPRegressor()\n",
    "RF = RandomForestRegressor()\n",
    "XGB=xgboost.XGBRegressor()\n",
    "\n",
    "stack = StackingRegressor(regressors=[RF, LR, KNN, XGB], \n",
    "                           meta_regressor=LR)\n",
    "\n",
    "print('5-fold cross validation scores:\\n')\n",
    "\n",
    "for clf, label in zip([LR, KNN, RF, BR, XGB, SVR, MLP], ['LR', 'KNN', 'RF', 'BR', 'XGB', 'SVR', 'MLP']):\n",
    "    scores = cross_val_score(clf, X, y, cv=5)\n",
    "    print(\"R^2 Score: %0.2f (+/- %0.2f) [%s]\" % (\n",
    "        scores.mean(), scores.std(), label))\n",
    "\n",
    "LR.fit(X_train, y_train).score(X_test, y_test)"
   ]
  },
  {
   "cell_type": "code",
   "execution_count": null,
   "metadata": {},
   "outputs": [],
   "source": []
  }
 ],
 "metadata": {
  "kernelspec": {
   "display_name": "Python 3",
   "language": "python",
   "name": "python3"
  },
  "language_info": {
   "codemirror_mode": {
    "name": "ipython",
    "version": 3
   },
   "file_extension": ".py",
   "mimetype": "text/x-python",
   "name": "python",
   "nbconvert_exporter": "python",
   "pygments_lexer": "ipython3",
   "version": "3.8.1"
  }
 },
 "nbformat": 4,
 "nbformat_minor": 4
}
