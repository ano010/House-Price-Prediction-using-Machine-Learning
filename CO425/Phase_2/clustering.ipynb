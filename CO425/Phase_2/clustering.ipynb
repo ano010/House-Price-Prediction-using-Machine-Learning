{
 "cells": [
  {
   "cell_type": "code",
   "execution_count": 1,
   "metadata": {},
   "outputs": [],
   "source": [
    "import pandas as pd\n",
    "import numpy as np \n",
    "import seaborn as sns\n",
    "import joblib\n",
    "from sklearn.cluster import KMeans\n",
    "from sklearn.model_selection import train_test_split, cross_val_score\n",
    "from sklearn.preprocessing import LabelEncoder, OneHotEncoder, MinMaxScaler\n",
    "from sklearn import linear_model\n",
    "from sklearn.ensemble import RandomForestRegressor"
   ]
  },
  {
   "cell_type": "code",
   "execution_count": null,
   "metadata": {},
   "outputs": [],
   "source": [
    "# previous semistor: 535 instances, 21 features\n",
    "\n",
    "df = pd.read_csv(\"../data_set_535_ano_sankee.csv\")\n",
    "\n",
    "print(df.shape)\n",
    "\n",
    "X = df.drop('price', axis = 1)\n",
    "y = df['price']\n",
    "\n",
    "lr = linear_model.LinearRegression()\n",
    "rf = RandomForestRegressor()\n",
    "\n",
    "scores_l = cross_val_score(lr, X, y, cv=3, scoring = 'r2')\n",
    "scores_r = cross_val_score(rf, X, y, cv=3, scoring = 'r2')\n",
    "print('lr', np.mean(scores_l))\n",
    "print('rf', np.mean(scores_r))"
   ]
  },
  {
   "cell_type": "code",
   "execution_count": null,
   "metadata": {},
   "outputs": [],
   "source": [
    "# previous semistor: 535 instances, 6 features\n",
    "\n",
    "df = pd.read_csv(\"../data_set_535_ano_sankee.csv\")\n",
    "\n",
    "print(df.shape)\n",
    "\n",
    "X = df.drop('price', axis = 1)\n",
    "y = df['price']\n",
    "\n",
    "lr = linear_model.LinearRegression()\n",
    "rf = RandomForestRegressor()\n",
    "\n",
    "scores_l = cross_val_score(lr, X, y, cv=3, scoring = 'r2')\n",
    "scores_r = cross_val_score(rf, X, y, cv=3, scoring = 'r2')\n",
    "print('lr', np.mean(scores_l))\n",
    "print('rf', np.mean(scores_r))"
   ]
  },
  {
   "cell_type": "code",
   "execution_count": 3,
   "metadata": {},
   "outputs": [
    {
     "name": "stdout",
     "output_type": "stream",
     "text": [
      "(7577, 6)\n",
      "lr 0.4085045159117596\n",
      "rf 0.7008147806366753\n"
     ]
    }
   ],
   "source": [
    "# instances: 7577, features: 6\n",
    "df = pd.read_csv(\"../house_data_set_cleaned_3.csv\")\n",
    "\n",
    "print(df.shape)\n",
    "\n",
    "X = df.drop('price', axis = 1)\n",
    "y = df['price']\n",
    "\n",
    "lr = linear_model.LinearRegression()\n",
    "rf = RandomForestRegressor()\n",
    "\n",
    "scores_l = cross_val_score(lr, X, y, cv=10, scoring = 'r2')\n",
    "scores_r = cross_val_score(rf, X, y, cv=10, scoring = 'r2')\n",
    "print('lr', np.mean(scores_l))\n",
    "print('rf', np.mean(scores_r))"
   ]
  },
  {
   "cell_type": "code",
   "execution_count": 4,
   "metadata": {},
   "outputs": [
    {
     "name": "stdout",
     "output_type": "stream",
     "text": [
      "(7577, 44)\n",
      "lr 0.6061521742823847\n",
      "rf 0.7006249300474027\n"
     ]
    }
   ],
   "source": [
    "# One hot encoding\n",
    "# instances: 7577, features: 6\n",
    "\n",
    "df = pd.read_csv(\"../house_data_set_cleaned_3.csv\")\n",
    "    \n",
    "dummies = pd.get_dummies(df.location)\n",
    "merged = pd.concat([df, dummies], axis='columns')\n",
    "df = merged.drop(['location', 39], axis='columns')\n",
    "\n",
    "df.to_csv(\"../house_data_colombo.csv\", index = False)\n",
    "\n",
    "df = pd.read_csv(\"../house_data_colombo.csv\")\n",
    "print(df.shape)\n",
    "\n",
    "X = df.drop(\"price\", axis = 1)\n",
    "y = df.price\n",
    "\n",
    "lr = linear_model.LinearRegression()\n",
    "rf = RandomForestRegressor()\n",
    "\n",
    "scores_l = cross_val_score(lr, X, y, cv=10, scoring = 'r2')\n",
    "scores_r = cross_val_score(rf, X, y, cv=10, scoring = 'r2')\n",
    "print('lr', np.mean(scores_l))\n",
    "print('rf', np.mean(scores_r))"
   ]
  },
  {
   "cell_type": "code",
   "execution_count": null,
   "metadata": {},
   "outputs": [],
   "source": [
    "sns.pairplot(df, x_vars=['beds', 'baths', 'house_size', 'land_size'], y_vars='price', height=7, aspect=0.5, kind='reg')"
   ]
  },
  {
   "cell_type": "code",
   "execution_count": 5,
   "metadata": {},
   "outputs": [
    {
     "data": {
      "text/plain": [
       "[<matplotlib.lines.Line2D at 0x1c582ffa7c0>]"
      ]
     },
     "execution_count": 5,
     "metadata": {},
     "output_type": "execute_result"
    },
    {
     "data": {
      "image/png": "[encoded data removed]",
      "text/plain": [
       "<Figure size 432x288 with 1 Axes>"
      ]
     },
     "metadata": {
      "needs_background": "light"
     },
     "output_type": "display_data"
    }
   ],
   "source": [
    "# Elbow method\n",
    "# Finding k value\n",
    "\n",
    "import matplotlib.pyplot as plt\n",
    "k_rng = range(1, 10)\n",
    "sse = []\n",
    "for k in k_rng:\n",
    "    km = KMeans(n_clusters=k)\n",
    "    km.fit(df)\n",
    "    sse.append(km.inertia_)\n",
    "    \n",
    "plt.xlabel('K')\n",
    "plt.ylabel('Sum of squared error')\n",
    "plt.plot(k_rng, sse)"
   ]
  },
  {
   "cell_type": "code",
   "execution_count": 13,
   "metadata": {},
   "outputs": [
    {
     "name": "stdout",
     "output_type": "stream",
     "text": [
      "cluster1 (6813, 7)\n",
      "cluster2 (606, 7)\n",
      "cluster3 (158, 7)\n",
      "cluster1_l: 0.5082728090218621\n",
      "cluster2_l: 0.04750422761437785\n",
      "cluster3_l: -0.24071182429446286\n"
     ]
    }
   ],
   "source": [
    "# Removing outliers by clustering\n",
    "\n",
    "df = pd.read_csv(\"../house_data_set_cleaned_3.csv\")\n",
    "\n",
    "km = KMeans(n_clusters = 3)\n",
    "y_predicted = km.fit_predict(df)\n",
    "df['cluster'] = y_predicted\n",
    "df.to_csv('../house_data_colombo_with_cluster_feature.csv', index = False)\n",
    "df1 = df[df.cluster == 0]\n",
    "df2 = df[df.cluster == 1]\n",
    "df3 = df[df.cluster == 2]\n",
    "\n",
    "print('cluster1', df1.shape)\n",
    "print('cluster2', df2.shape)\n",
    "print('cluster3', df3.shape)\n",
    "\n",
    "lr = linear_model.LinearRegression()\n",
    "rf = RandomForestRegressor()\n",
    "\n",
    "X1 = df1.drop('price', axis = 1).drop('cluster', axis = 1)\n",
    "y1 = df1['price']\n",
    "\n",
    "X2 = df2.drop('price', axis = 1).drop('cluster', axis = 1)\n",
    "y2 = df2['price']\n",
    "\n",
    "X3 = df3.drop('price', axis = 1).drop('cluster', axis = 1)\n",
    "y3 = df3['price']\n",
    "\n",
    "df1_rc = df1.drop('cluster', axis = 1)\n",
    "df1_rc.to_csv('../house_data_colombo_cluster1.csv', index = False)\n",
    "\n",
    "\n",
    "scores_cluster1_l = cross_val_score(lr, X1, y1, cv=10)\n",
    "scores_cluster2_l = cross_val_score(lr, X2, y2, cv = 10)\n",
    "scores_cluster3_l = cross_val_score(lr, X3, y3, cv = 10)\n",
    "\n",
    "print('cluster1_l:', np.mean(scores_cluster1_l))\n",
    "print('cluster2_l:', np.mean(scores_cluster2_l))\n",
    "print('cluster3_l:', np.mean(scores_cluster3_l))"
   ]
  }
 ],
 "metadata": {
  "kernelspec": {
   "display_name": "Python 3",
   "language": "python",
   "name": "python3"
  },
  "language_info": {
   "codemirror_mode": {
    "name": "ipython",
    "version": 3
   },
   "file_extension": ".py",
   "mimetype": "text/x-python",
   "name": "python",
   "nbconvert_exporter": "python",
   "pygments_lexer": "ipython3",
   "version": "3.8.1"
  }
 },
 "nbformat": 4,
 "nbformat_minor": 4
}
