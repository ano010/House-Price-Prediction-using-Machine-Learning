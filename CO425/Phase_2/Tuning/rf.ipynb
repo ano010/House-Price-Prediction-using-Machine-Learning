{
 "cells": [
  {
   "cell_type": "markdown",
   "metadata": {},
   "source": [
    "# Before Clustering"
   ]
  },
  {
   "cell_type": "code",
   "execution_count": null,
   "metadata": {},
   "outputs": [],
   "source": [
    "# result with tuned parameters\n",
    "\n",
    "import pandas as pd\n",
    "import numpy as np\n",
    "from sklearn.model_selection import cross_val_score\n",
    "from sklearn.linear_model import LinearRegression\n",
    "from sklearn.ensemble import RandomForestRegressor\n",
    "\n",
    "df = pd.read_csv(\"../../Resources/house_data_colombo_one_hot_encoded_locations.csv\")\n",
    "\n",
    "X = df.drop('price', axis = 1)\n",
    "y = df['price']\n",
    "\n",
    "rf_score_rmse = -1 * cross_val_score(RandomForestRegressor(), X, y, cv=10, scoring='neg_root_mean_squared_error')\n",
    "rf_score_r2 = cross_val_score(RandomForestRegressor(), X, y, cv=10, scoring='r2')\n",
    "\n",
    "lr_score_rmse = -1 * cross_val_score(LinearRegression(), X, y, cv=10, scoring='neg_root_mean_squared_error')\n",
    "lr_score_r2 = cross_val_score(LinearRegression(), X, y, cv=10, scoring='r2')\n",
    "\n",
    "print('RF_R2: ', np.mean(rf_score_r2))\n",
    "print('RF_RMSE: ', np.mean(rf_score_rmse))\n",
    "\n",
    "print('LR_R2: ', np.mean(lr_score_r2))\n",
    "print('LR_RMSE: ', np.mean(lr_score_rmse))"
   ]
  },
  {
   "cell_type": "code",
   "execution_count": 4,
   "metadata": {},
   "outputs": [
    {
     "name": "stdout",
     "output_type": "stream",
     "text": [
      "RF_R2:  0.6246404655123297 CV:  2\n",
      "RF_RMSE:  20961031.77316074 CV:  2\n",
      "LR_R2:  0.6058523119266621 CV:  2\n",
      "LR_RMSE:  21579208.74437546 CV:  2\n",
      "RF_R2:  0.6828138005552579 CV:  5\n",
      "RF_RMSE:  19228356.75043059 CV:  5\n",
      "LR_R2:  0.6051902581590842 CV:  5\n",
      "LR_RMSE:  21533265.118993886 CV:  5\n",
      "RF_R2:  0.7048712351971416 CV:  10\n",
      "RF_RMSE:  18534695.326717936 CV:  10\n",
      "LR_R2:  0.6061521742823847 CV:  10\n",
      "LR_RMSE:  21382890.8549489 CV:  10\n",
      "RF_R2:  0.7026009519351017 CV:  15\n",
      "RF_RMSE:  18356893.74933418 CV:  15\n",
      "LR_R2:  0.6088650066382189 CV:  15\n",
      "LR_RMSE:  21232875.381625578 CV:  15\n",
      "RF_R2:  0.7018662863575889 CV:  20\n",
      "RF_RMSE:  18340477.91384694 CV:  20\n",
      "LR_R2:  0.5985091592172882 CV:  20\n",
      "LR_RMSE:  21313396.400056202 CV:  20\n"
     ]
    }
   ],
   "source": [
    "# cv\n",
    "import pandas as pd\n",
    "import numpy as np\n",
    "from sklearn.model_selection import cross_val_score\n",
    "from sklearn.linear_model import LinearRegression\n",
    "from sklearn.ensemble import RandomForestRegressor\n",
    "\n",
    "df = pd.read_csv(\"../../Resources/house_data_colombo_one_hot_encoded_locations.csv\")\n",
    "\n",
    "X = df.drop('price', axis = 1)\n",
    "y = df['price']\n",
    "\n",
    "for cv in [2 ,5, 10, 15, 20]:\n",
    "    rf_score_rmse = -1 * cross_val_score(RandomForestRegressor(), X, y, cv=cv, scoring='neg_root_mean_squared_error')\n",
    "    rf_score_r2 = cross_val_score(RandomForestRegressor(), X, y, cv=cv, scoring='r2')\n",
    "\n",
    "    lr_score_rmse = -1 * cross_val_score(LinearRegression(), X, y, cv=cv, scoring='neg_root_mean_squared_error')\n",
    "    lr_score_r2 = cross_val_score(LinearRegression(), X, y, cv=cv, scoring='r2')\n",
    "\n",
    "    print('RF_R2: ', np.mean(rf_score_r2), 'CV: ', cv)\n",
    "    print('RF_RMSE: ', np.mean(rf_score_rmse), 'CV: ', cv)\n",
    "\n",
    "    print('LR_R2: ', np.mean(lr_score_r2), 'CV: ', cv)\n",
    "    print('LR_RMSE: ', np.mean(lr_score_rmse), 'CV: ', cv)"
   ]
  },
  {
   "cell_type": "markdown",
   "metadata": {},
   "source": [
    "# After Clustering"
   ]
  },
  {
   "cell_type": "code",
   "execution_count": 3,
   "metadata": {},
   "outputs": [
    {
     "name": "stdout",
     "output_type": "stream",
     "text": [
      "RF_R2:  0.7541427074139531\n",
      "RF_RMSE:  5269950.600009492\n",
      "LR_R2:  0.5082728090218621\n",
      "LR_RMSE:  7444027.21348537\n"
     ]
    }
   ],
   "source": [
    "# cluster 1: small houses\n",
    "\n",
    "import pandas as pd\n",
    "import numpy as np\n",
    "from sklearn.model_selection import cross_val_score\n",
    "from sklearn.linear_model import LinearRegression\n",
    "from sklearn.ensemble import RandomForestRegressor\n",
    "from sklearn.neighbors import KNeighborsRegressor\n",
    "from sklearn.model_selection import ShuffleSplit\n",
    "# cv = ShuffleSplit(n_splits=5, test_size=0.3, random_state=0)\n",
    "df = pd.read_csv(\"../../Resources/house_data_colombo_cluster1.csv\")\n",
    "\n",
    "\n",
    "X = df.drop('price', axis = 1)\n",
    "y = df['price']\n",
    "\n",
    "rf_score_rmse = -1 * cross_val_score(RandomForestRegressor(), X, y, cv=10, scoring='neg_root_mean_squared_error')\n",
    "rf_score_r2 = cross_val_score(RandomForestRegressor(), X, y, cv=10, scoring='r2')\n",
    "\n",
    "lr_score_rmse = -1 * cross_val_score(LinearRegression(), X, y, cv=10, scoring='neg_root_mean_squared_error')\n",
    "lr_score_r2 = cross_val_score(LinearRegression(), X, y, cv=10, scoring='r2')\n",
    "\n",
    "print('RF_R2: ', np.mean(rf_score_r2))\n",
    "print('RF_RMSE: ', np.mean(rf_score_rmse))\n",
    "\n",
    "print('LR_R2: ', np.mean(lr_score_r2))\n",
    "print('LR_RMSE: ', np.mean(lr_score_rmse))"
   ]
  },
  {
   "cell_type": "code",
   "execution_count": 4,
   "metadata": {},
   "outputs": [
    {
     "name": "stdout",
     "output_type": "stream",
     "text": [
      "RF_R2:  0.27885847029784705\n",
      "RF_RMSE:  51189985.24477121\n",
      "LR_R2:  -0.24071182429446286\n",
      "LR_RMSE:  64252996.62007052\n"
     ]
    }
   ],
   "source": [
    "# cluster 2: large houses\n",
    "\n",
    "import pandas as pd\n",
    "import numpy as np\n",
    "from sklearn.model_selection import cross_val_score\n",
    "from sklearn.linear_model import LinearRegression\n",
    "from sklearn.ensemble import RandomForestRegressor\n",
    "from sklearn.neighbors import KNeighborsRegressor\n",
    "df = pd.read_csv(\"../../Resources/house_data_colombo_cluster2.csv\")\n",
    "\n",
    "\n",
    "X = df.drop('price', axis = 1)\n",
    "y = df['price']\n",
    "\n",
    "rf_score_rmse = -1 * cross_val_score(RandomForestRegressor(), X, y, cv=10, scoring='neg_root_mean_squared_error')\n",
    "rf_score_r2 = cross_val_score(RandomForestRegressor(), X, y, cv=10, scoring='r2')\n",
    "\n",
    "lr_score_rmse = -1 * cross_val_score(LinearRegression(), X, y, cv=10, scoring='neg_root_mean_squared_error')\n",
    "lr_score_r2 = cross_val_score(LinearRegression(), X, y, cv=10, scoring='r2')\n",
    "\n",
    "print('RF_R2: ', np.mean(rf_score_r2))\n",
    "print('RF_RMSE: ', np.mean(rf_score_rmse))\n",
    "\n",
    "print('LR_R2: ', np.mean(lr_score_r2))\n",
    "print('LR_RMSE: ', np.mean(lr_score_rmse))"
   ]
  },
  {
   "cell_type": "code",
   "execution_count": 6,
   "metadata": {},
   "outputs": [
    {
     "name": "stdout",
     "output_type": "stream",
     "text": [
      "RF_R2:  0.4219605094879622\n",
      "RF_RMSE:  17673408.02693551\n",
      "LR_R2:  0.04750422761437785\n",
      "LR_RMSE:  22977433.53300809\n"
     ]
    }
   ],
   "source": [
    "# cluster 3: moderate houses\n",
    "\n",
    "import pandas as pd\n",
    "import numpy as np\n",
    "from sklearn.model_selection import cross_val_score\n",
    "from sklearn.linear_model import LinearRegression\n",
    "from sklearn.ensemble import RandomForestRegressor\n",
    "from sklearn.neighbors import KNeighborsRegressor\n",
    "\n",
    "df = pd.read_csv(\"../../Resources/house_data_colombo_cluster3.csv\")\n",
    "\n",
    "\n",
    "X = df.drop('price', axis = 1)\n",
    "y = df['price']\n",
    "\n",
    "rf_score_rmse = -1 * cross_val_score(RandomForestRegressor(), X, y, cv=10, scoring='neg_root_mean_squared_error')\n",
    "rf_score_r2 = cross_val_score(RandomForestRegressor(), X, y, cv=10, scoring='r2')\n",
    "\n",
    "lr_score_rmse = -1 * cross_val_score(LinearRegression(), X, y, cv=10, scoring='neg_root_mean_squared_error')\n",
    "lr_score_r2 = cross_val_score(LinearRegression(), X, y, cv=10, scoring='r2')\n",
    "\n",
    "print('RF_R2: ', np.mean(rf_score_r2))\n",
    "print('RF_RMSE: ', np.mean(rf_score_rmse))\n",
    "\n",
    "print('LR_R2: ', np.mean(lr_score_r2))\n",
    "print('LR_RMSE: ', np.mean(lr_score_rmse))"
   ]
  },
  {
   "cell_type": "markdown",
   "metadata": {},
   "source": [
    "# Outlier Handling"
   ]
  },
  {
   "cell_type": "code",
   "execution_count": 17,
   "metadata": {},
   "outputs": [
    {
     "name": "stdout",
     "output_type": "stream",
     "text": [
      "[[0.52396277 0.0252401  0.93031859 ... 0.12137333 0.09586552 0.26551863]\n",
      " [0.02948442 0.0252401  0.70272298 ... 0.12137333 0.09586552 0.26551863]\n",
      " [0.33489752 0.0252401  0.1137978  ... 0.12137333 0.09586552 0.26551863]\n",
      " ...\n",
      " [0.48905842 0.82097344 0.1137978  ... 0.12137333 0.09586552 0.26551863]\n",
      " [0.13049386 0.0252401  0.70272298 ... 0.12137333 0.09586552 0.26551863]\n",
      " [0.21775475 0.0252401  0.70272298 ... 0.12137333 0.09586552 0.26551863]]\n"
     ]
    }
   ],
   "source": [
    "import pandas as pd\n",
    "import numpy as np\n",
    "import seaborn as sns\n",
    "from scipy.stats import norm\n",
    "from scipy import stats\n",
    "\n",
    "df = pd.read_csv(\"../../Resources/house_data_colombo_one_hot_encoded_locations.csv\")\n",
    "\n",
    "X = df.drop('price', axis = 1)\n",
    "y = df['price']\n",
    "\n",
    "z = np.abs(stats.zscore(df))\n",
    "print(z)"
   ]
  },
  {
   "cell_type": "code",
   "execution_count": 11,
   "metadata": {},
   "outputs": [
    {
     "data": {
      "text/plain": [
       "<matplotlib.axes._subplots.AxesSubplot at 0x1c7c8c50190>"
      ]
     },
     "execution_count": 11,
     "metadata": {},
     "output_type": "execute_result"
    },
    {
     "data": {
      "image/png": "[encoded data removed]",
      "text/plain": [
       "<Figure size 432x288 with 1 Axes>"
      ]
     },
     "metadata": {
      "needs_background": "light"
     },
     "output_type": "display_data"
    }
   ],
   "source": [
    "sns.distplot(df['price'], fit=norm)"
   ]
  },
  {
   "cell_type": "code",
   "execution_count": 13,
   "metadata": {},
   "outputs": [
    {
     "data": {
      "text/plain": [
       "<matplotlib.axes._subplots.AxesSubplot at 0x1c7c8db0580>"
      ]
     },
     "execution_count": 13,
     "metadata": {},
     "output_type": "execute_result"
    },
    {
     "data": {
      "image/png": "[encoded data removed]",
      "text/plain": [
       "<Figure size 432x288 with 1 Axes>"
      ]
     },
     "metadata": {
      "needs_background": "light"
     },
     "output_type": "display_data"
    }
   ],
   "source": [
    "sns.distplot(df['house_size'], fit=norm)"
   ]
  },
  {
   "cell_type": "code",
   "execution_count": 9,
   "metadata": {},
   "outputs": [
    {
     "data": {
      "text/plain": [
       "<matplotlib.axes._subplots.AxesSubplot at 0x1c7c8c31970>"
      ]
     },
     "execution_count": 9,
     "metadata": {},
     "output_type": "execute_result"
    },
    {
     "data": {
      "image/png": "[encoded data removed]",
      "text/plain": [
       "<Figure size 432x288 with 1 Axes>"
      ]
     },
     "metadata": {
      "needs_background": "light"
     },
     "output_type": "display_data"
    }
   ],
   "source": [
    "sns.distplot(df['land_size'], fit=norm)"
   ]
  },
  {
   "cell_type": "code",
   "execution_count": 14,
   "metadata": {},
   "outputs": [
    {
     "data": {
      "text/plain": [
       "<matplotlib.axes._subplots.AxesSubplot at 0x1c7c8414f70>"
      ]
     },
     "execution_count": 14,
     "metadata": {},
     "output_type": "execute_result"
    },
    {
     "data": {
      "image/png": "[encoded data removed]",
      "text/plain": [
       "<Figure size 432x288 with 1 Axes>"
      ]
     },
     "metadata": {
      "needs_background": "light"
     },
     "output_type": "display_data"
    }
   ],
   "source": [
    "sns.distplot(df['beds'], fit=norm)"
   ]
  },
  {
   "cell_type": "code",
   "execution_count": 15,
   "metadata": {},
   "outputs": [
    {
     "data": {
      "text/plain": [
       "<matplotlib.axes._subplots.AxesSubplot at 0x1c7c84dc070>"
      ]
     },
     "execution_count": 15,
     "metadata": {},
     "output_type": "execute_result"
    },
    {
     "data": {
      "image/png": "[encoded data removed]",
      "text/plain": [
       "<Figure size 432x288 with 1 Axes>"
      ]
     },
     "metadata": {
      "needs_background": "light"
     },
     "output_type": "display_data"
    }
   ],
   "source": [
    "sns.distplot(df['baths'], fit=norm)"
   ]
  },
  {
   "cell_type": "markdown",
   "metadata": {},
   "source": [
    "# Z-score method"
   ]
  },
  {
   "cell_type": "code",
   "execution_count": 25,
   "metadata": {},
   "outputs": [
    {
     "name": "stdout",
     "output_type": "stream",
     "text": [
      "[[0.52396277 0.0252401  0.93031859 ... 0.12137333 0.09586552 0.26551863]\n",
      " [0.02948442 0.0252401  0.70272298 ... 0.12137333 0.09586552 0.26551863]\n",
      " [0.33489752 0.0252401  0.1137978  ... 0.12137333 0.09586552 0.26551863]\n",
      " ...\n",
      " [0.48905842 0.82097344 0.1137978  ... 0.12137333 0.09586552 0.26551863]\n",
      " [0.13049386 0.0252401  0.70272298 ... 0.12137333 0.09586552 0.26551863]\n",
      " [0.21775475 0.0252401  0.70272298 ... 0.12137333 0.09586552 0.26551863]]\n",
      "(array([   1,    3,    4, ..., 7573, 7575, 7576], dtype=int64), array([30, 30,  9, ..., 28,  8,  8], dtype=int64))\n"
     ]
    },
    {
     "data": {
      "text/plain": [
       "(2769, 44)"
      ]
     },
     "execution_count": 25,
     "metadata": {},
     "output_type": "execute_result"
    }
   ],
   "source": [
    "import pandas as pd\n",
    "import numpy as np\n",
    "import seaborn as sns\n",
    "from scipy.stats import norm\n",
    "from scipy import stats\n",
    "\n",
    "df = pd.read_csv(\"../../Resources/house_data_colombo_one_hot_encoded_locations.csv\")\n",
    "\n",
    "X = df.drop('price', axis = 1)\n",
    "y = df['price']\n",
    "\n",
    "z = np.abs(stats.zscore(df))\n",
    "print(z)\n",
    "\n",
    "print(np.where(z > 3))\n",
    "\n",
    "df = df[(z < 3).all(axis=1)]\n",
    "df.shape"
   ]
  },
  {
   "cell_type": "markdown",
   "metadata": {},
   "source": [
    "# Removing Outliers: Small Houses"
   ]
  },
  {
   "cell_type": "code",
   "execution_count": 1,
   "metadata": {},
   "outputs": [
    {
     "name": "stdout",
     "output_type": "stream",
     "text": [
      "(6671, 6)\n",
      "R2:  0.764676482154847\n",
      "RMSE:  5105478.719187013\n"
     ]
    }
   ],
   "source": [
    "import pandas as pd\n",
    "import numpy as np\n",
    "from scipy import stats\n",
    "from sklearn.model_selection import cross_val_score\n",
    "from sklearn.linear_model import LinearRegression\n",
    "from sklearn.ensemble import RandomForestRegressor\n",
    "from sklearn.neighbors import KNeighborsRegressor\n",
    "import joblib\n",
    "\n",
    "df = pd.read_csv(\"../../Resources/house_data_colombo_cluster1.csv\")\n",
    "\n",
    "X = df.drop('price', axis = 1)\n",
    "y = df['price']\n",
    "\n",
    "z = np.abs(stats.zscore(df))\n",
    "\n",
    "df = df[(z < 3).all(axis=1)]\n",
    "\n",
    "print(df.shape)\n",
    "\n",
    "X = df.drop('price', axis = 1)\n",
    "y = df['price']\n",
    "\n",
    "score_r2 = cross_val_score(RandomForestRegressor(max_depth=25, max_features=4, n_estimators=100), X, y, cv=10, scoring='r2')\n",
    "score_rmse = -1 * cross_val_score(RandomForestRegressor(max_depth=25, max_features=4, n_estimators=100), X, y, cv=10, scoring='neg_root_mean_squared_error')\n",
    "\n",
    "print('R2: ', np.mean(score_r2))\n",
    "print('RMSE: ', np.mean(score_rmse))\n",
    "\n",
    "# df.to_csv(\"small_houses_outliers_removed.csv\", index = False)\n",
    "\n",
    "\n"
   ]
  },
  {
   "cell_type": "code",
   "execution_count": 19,
   "metadata": {},
   "outputs": [
    {
     "data": {
      "text/plain": [
       "array([15903714.28571429])"
      ]
     },
     "execution_count": 19,
     "metadata": {},
     "output_type": "execute_result"
    }
   ],
   "source": [
    "import joblib\n",
    "rf = RandomForestRegressor(max_depth=25, max_features=4, n_estimators=100)\n",
    "rf.fit(X, y)\n",
    "rf.predict([[34, 4, 2, 1750, 6.5]])\n",
    "joblib.dump(rf, 'rf_model.sav')\n",
    "loaded_model = joblib.load('rf_model.sav')\n",
    "loaded_model.predict([[34, 4, 2, 1750, 6.5]])"
   ]
  },
  {
   "cell_type": "code",
   "execution_count": 11,
   "metadata": {},
   "outputs": [
    {
     "data": {
      "text/html": [
       "<div>\n",
       "<style scoped>\n",
       "    .dataframe tbody tr th:only-of-type {\n",
       "        vertical-align: middle;\n",
       "    }\n",
       "\n",
       "    .dataframe tbody tr th {\n",
       "        vertical-align: top;\n",
       "    }\n",
       "\n",
       "    .dataframe thead th {\n",
       "        text-align: right;\n",
       "    }\n",
       "</style>\n",
       "<table border=\"1\" class=\"dataframe\">\n",
       "  <thead>\n",
       "    <tr style=\"text-align: right;\">\n",
       "      <th></th>\n",
       "      <th>location</th>\n",
       "      <th>beds</th>\n",
       "      <th>baths</th>\n",
       "      <th>house_size</th>\n",
       "      <th>land_size</th>\n",
       "    </tr>\n",
       "  </thead>\n",
       "  <tbody>\n",
       "    <tr>\n",
       "      <th>0</th>\n",
       "      <td>35</td>\n",
       "      <td>4</td>\n",
       "      <td>2</td>\n",
       "      <td>1750.0</td>\n",
       "      <td>6.5</td>\n",
       "    </tr>\n",
       "    <tr>\n",
       "      <th>1</th>\n",
       "      <td>25</td>\n",
       "      <td>4</td>\n",
       "      <td>4</td>\n",
       "      <td>3510.0</td>\n",
       "      <td>9.0</td>\n",
       "    </tr>\n",
       "    <tr>\n",
       "      <th>2</th>\n",
       "      <td>28</td>\n",
       "      <td>4</td>\n",
       "      <td>3</td>\n",
       "      <td>2850.0</td>\n",
       "      <td>7.5</td>\n",
       "    </tr>\n",
       "    <tr>\n",
       "      <th>3</th>\n",
       "      <td>25</td>\n",
       "      <td>7</td>\n",
       "      <td>4</td>\n",
       "      <td>1700.0</td>\n",
       "      <td>15.0</td>\n",
       "    </tr>\n",
       "    <tr>\n",
       "      <th>4</th>\n",
       "      <td>4</td>\n",
       "      <td>5</td>\n",
       "      <td>4</td>\n",
       "      <td>3500.0</td>\n",
       "      <td>8.0</td>\n",
       "    </tr>\n",
       "    <tr>\n",
       "      <th>...</th>\n",
       "      <td>...</td>\n",
       "      <td>...</td>\n",
       "      <td>...</td>\n",
       "      <td>...</td>\n",
       "      <td>...</td>\n",
       "    </tr>\n",
       "    <tr>\n",
       "      <th>6808</th>\n",
       "      <td>35</td>\n",
       "      <td>4</td>\n",
       "      <td>4</td>\n",
       "      <td>2000.0</td>\n",
       "      <td>9.0</td>\n",
       "    </tr>\n",
       "    <tr>\n",
       "      <th>6809</th>\n",
       "      <td>31</td>\n",
       "      <td>3</td>\n",
       "      <td>1</td>\n",
       "      <td>2500.0</td>\n",
       "      <td>9.0</td>\n",
       "    </tr>\n",
       "    <tr>\n",
       "      <th>6810</th>\n",
       "      <td>35</td>\n",
       "      <td>3</td>\n",
       "      <td>3</td>\n",
       "      <td>1456.0</td>\n",
       "      <td>10.0</td>\n",
       "    </tr>\n",
       "    <tr>\n",
       "      <th>6811</th>\n",
       "      <td>3</td>\n",
       "      <td>4</td>\n",
       "      <td>4</td>\n",
       "      <td>4200.0</td>\n",
       "      <td>12.0</td>\n",
       "    </tr>\n",
       "    <tr>\n",
       "      <th>6812</th>\n",
       "      <td>3</td>\n",
       "      <td>4</td>\n",
       "      <td>4</td>\n",
       "      <td>2930.0</td>\n",
       "      <td>10.0</td>\n",
       "    </tr>\n",
       "  </tbody>\n",
       "</table>\n",
       "<p>6671 rows × 5 columns</p>\n",
       "</div>"
      ],
      "text/plain": [
       "      location  beds  baths  house_size  land_size\n",
       "0           35     4      2      1750.0        6.5\n",
       "1           25     4      4      3510.0        9.0\n",
       "2           28     4      3      2850.0        7.5\n",
       "3           25     7      4      1700.0       15.0\n",
       "4            4     5      4      3500.0        8.0\n",
       "...        ...   ...    ...         ...        ...\n",
       "6808        35     4      4      2000.0        9.0\n",
       "6809        31     3      1      2500.0        9.0\n",
       "6810        35     3      3      1456.0       10.0\n",
       "6811         3     4      4      4200.0       12.0\n",
       "6812         3     4      4      2930.0       10.0\n",
       "\n",
       "[6671 rows x 5 columns]"
      ]
     },
     "execution_count": 11,
     "metadata": {},
     "output_type": "execute_result"
    }
   ],
   "source": [
    "X"
   ]
  },
  {
   "cell_type": "code",
   "execution_count": 3,
   "metadata": {},
   "outputs": [
    {
     "name": "stdout",
     "output_type": "stream",
     "text": [
      "(6671, 6)\n",
      "RF_R2:  0.7143296461207274 CV:  2\n",
      "RF_RMSE:  5627654.744902158 CV:  2\n",
      "LR_R2:  0.5307772769154897 CV 2\n",
      "LR_RMSE:  7177731.314872455 CV 2\n",
      "RF_R2:  0.7516644715223625 CV:  5\n",
      "RF_RMSE:  5233467.3341064155 CV:  5\n",
      "LR_R2:  0.5332247681526748 CV 5\n",
      "LR_RMSE:  7155828.968557199 CV 5\n",
      "RF_R2:  0.7619971480455202 CV:  10\n",
      "RF_RMSE:  5146625.628121024 CV:  10\n",
      "LR_R2:  0.5336117431530508 CV 10\n",
      "LR_RMSE:  7144942.6003356725 CV 10\n",
      "RF_R2:  0.7648018823592764 CV:  15\n",
      "RF_RMSE:  5081206.619090142 CV:  15\n",
      "LR_R2:  0.5333703680083666 CV 15\n",
      "LR_RMSE:  7140417.42530387 CV 15\n",
      "RF_R2:  0.7606825521346231 CV:  20\n",
      "RF_RMSE:  5082189.150219497 CV:  20\n",
      "LR_R2:  0.5326896654304845 CV 20\n",
      "LR_RMSE:  7138868.4693810865 CV 20\n"
     ]
    }
   ],
   "source": [
    "import pandas as pd\n",
    "import numpy as np\n",
    "from scipy import stats\n",
    "from sklearn.model_selection import cross_val_score\n",
    "from sklearn.linear_model import LinearRegression\n",
    "from sklearn.ensemble import RandomForestRegressor\n",
    "from sklearn.neighbors import KNeighborsRegressor\n",
    "\n",
    "df = pd.read_csv(\"../../Resources/house_data_colombo_cluster1.csv\")\n",
    "\n",
    "X = df.drop('price', axis = 1)\n",
    "y = df['price']\n",
    "\n",
    "z = np.abs(stats.zscore(df))\n",
    "\n",
    "df = df[(z < 3).all(axis=1)]\n",
    "\n",
    "print(df.shape)\n",
    "\n",
    "X = df.drop('price', axis = 1)\n",
    "y = df['price']\n",
    "\n",
    "# score_r2 = cross_val_score(RandomForestRegressor(max_depth=25, max_features=4, n_estimators=100), X, y, cv=10, scoring='r2')\n",
    "# score_rmse = -1 * cross_val_score(RandomForestRegressor(max_depth=25, max_features=4, n_estimators=100), X, y, cv=10, scoring='neg_root_mean_squared_error')\n",
    "\n",
    "# print('R2: ', np.mean(score_r2))\n",
    "# print('RMSE: ', np.mean(score_rmse))\n",
    "\n",
    "# df.to_csv(\"small_houses_outliers_removed.csv\", index = False)\n",
    "\n",
    "for cv in [2,5,10,15,20]:\n",
    "    rf_score_rmse = -1 * cross_val_score(RandomForestRegressor(), X, y, cv=cv, scoring='neg_root_mean_squared_error')\n",
    "    rf_score_r2 = cross_val_score(RandomForestRegressor(), X, y, cv=cv, scoring='r2')\n",
    "\n",
    "    lr_score_rmse = -1 * cross_val_score(LinearRegression(), X, y, cv=cv, scoring='neg_root_mean_squared_error')\n",
    "    lr_score_r2 = cross_val_score(LinearRegression(), X, y, cv=cv, scoring='r2')\n",
    "\n",
    "    print('RF_R2: ', np.mean(rf_score_r2), \"CV: \", cv)\n",
    "    print('RF_RMSE: ', np.mean(rf_score_rmse), \"CV: \", cv)\n",
    "\n",
    "    print('LR_R2: ', np.mean(lr_score_r2), \"CV\", cv)\n",
    "    print('LR_RMSE: ', np.mean(lr_score_rmse), \"CV\", cv)"
   ]
  },
  {
   "cell_type": "code",
   "execution_count": 3,
   "metadata": {},
   "outputs": [
    {
     "name": "stdout",
     "output_type": "stream",
     "text": [
      "(6671, 6)\n",
      "RF_R2:  0.7161262997341863 CV:  2\n",
      "RF_RMSE:  5600064.942696821 CV:  2\n",
      "LR_R2:  0.5307772769154897 CV 2\n",
      "LR_RMSE:  7177731.314872455 CV 2\n",
      "RF_R2:  0.7522207541116332 CV:  5\n",
      "RF_RMSE:  5215886.473037643 CV:  5\n",
      "LR_R2:  0.5332247681526748 CV 5\n",
      "LR_RMSE:  7155828.968557199 CV 5\n",
      "RF_R2:  0.7613907121012405 CV:  10\n",
      "RF_RMSE:  5103644.516885172 CV:  10\n",
      "LR_R2:  0.5336117431530508 CV 10\n",
      "LR_RMSE:  7144942.6003356725 CV 10\n",
      "RF_R2:  0.7638438861166779 CV:  15\n",
      "RF_RMSE:  5076957.09316572 CV:  15\n",
      "LR_R2:  0.5333703680083666 CV 15\n",
      "LR_RMSE:  7140417.42530387 CV 15\n",
      "RF_R2:  0.7621507955491417 CV:  20\n",
      "RF_RMSE:  5056722.397055794 CV:  20\n",
      "LR_R2:  0.5326896654304845 CV 20\n",
      "LR_RMSE:  7138868.4693810865 CV 20\n"
     ]
    }
   ],
   "source": [
    "import pandas as pd\n",
    "import numpy as np\n",
    "from scipy import stats\n",
    "from sklearn.model_selection import cross_val_score\n",
    "from sklearn.linear_model import LinearRegression\n",
    "from sklearn.ensemble import RandomForestRegressor\n",
    "from sklearn.neighbors import KNeighborsRegressor\n",
    "\n",
    "df = pd.read_csv(\"../../Resources/house_data_colombo_cluster1.csv\")\n",
    "\n",
    "X = df.drop('price', axis = 1)\n",
    "y = df['price']\n",
    "\n",
    "z = np.abs(stats.zscore(df))\n",
    "\n",
    "df = df[(z < 3).all(axis=1)]\n",
    "\n",
    "print(df.shape)\n",
    "\n",
    "X = df.drop('price', axis = 1)\n",
    "y = df['price']\n",
    "\n",
    "# score_r2 = cross_val_score(RandomForestRegressor(max_depth=25, max_features=4, n_estimators=100), X, y, cv=10, scoring='r2')\n",
    "# score_rmse = -1 * cross_val_score(RandomForestRegressor(max_depth=25, max_features=4, n_estimators=100), X, y, cv=10, scoring='neg_root_mean_squared_error')\n",
    "\n",
    "# print('R2: ', np.mean(score_r2))\n",
    "# print('RMSE: ', np.mean(score_rmse))\n",
    "\n",
    "df.to_csv(\"../../Resources/small_houses_outliers_removed.csv\", index = False)\n",
    "\n",
    "for cv in [2,5,10,15,20]:\n",
    "    rf_score_rmse = -1 * cross_val_score(RandomForestRegressor(max_depth=20, max_features=4, n_estimators=100), X, y, cv=cv, scoring='neg_root_mean_squared_error')\n",
    "    rf_score_r2 = cross_val_score(RandomForestRegressor(), X, y, cv=cv, scoring='r2')\n",
    "\n",
    "    lr_score_rmse = -1 * cross_val_score(LinearRegression(), X, y, cv=cv, scoring='neg_root_mean_squared_error')\n",
    "    lr_score_r2 = cross_val_score(LinearRegression(), X, y, cv=cv, scoring='r2')\n",
    "\n",
    "    print('RF_R2: ', np.mean(rf_score_r2), \"CV: \", cv)\n",
    "    print('RF_RMSE: ', np.mean(rf_score_rmse), \"CV: \", cv)\n",
    "\n",
    "    print('LR_R2: ', np.mean(lr_score_r2), \"CV\", cv)\n",
    "    print('LR_RMSE: ', np.mean(lr_score_rmse), \"CV\", cv)\n",
    "    \n",
    "    rf_score_r2"
   ]
  },
  {
   "cell_type": "code",
   "execution_count": 4,
   "metadata": {},
   "outputs": [
    {
     "data": {
      "text/plain": [
       "array([0.75950058, 0.77970597, 0.6837616 , 0.74449519, 0.77921105,\n",
       "       0.70459985, 0.80331985, 0.7394773 , 0.7957972 , 0.77809033,\n",
       "       0.72913077, 0.76079548, 0.82634447, 0.80349541, 0.80560113,\n",
       "       0.71712193, 0.7473024 , 0.77040066, 0.76520913, 0.74965559])"
      ]
     },
     "execution_count": 4,
     "metadata": {},
     "output_type": "execute_result"
    }
   ],
   "source": [
    " rf_score_r2"
   ]
  },
  {
   "cell_type": "markdown",
   "metadata": {},
   "source": [
    "# Removing Outliers: Large Houses"
   ]
  },
  {
   "cell_type": "code",
   "execution_count": 6,
   "metadata": {},
   "outputs": [
    {
     "name": "stdout",
     "output_type": "stream",
     "text": [
      "(158, 6)\n",
      "(151, 6)\n",
      "R2:  0.3662963613585068\n",
      "RMSE:  34023618.578518406\n",
      "(151, 6)\n"
     ]
    }
   ],
   "source": [
    "import pandas as pd\n",
    "import numpy as np\n",
    "from scipy import stats\n",
    "from sklearn.model_selection import cross_val_score\n",
    "from sklearn.linear_model import LinearRegression\n",
    "from sklearn.ensemble import RandomForestRegressor\n",
    "from sklearn.neighbors import KNeighborsRegressor\n",
    "\n",
    "df = pd.read_csv(\"../../Resources/house_data_colombo_cluster2.csv\")\n",
    "\n",
    "print(df.shape)\n",
    "\n",
    "X = df.drop('price', axis = 1)\n",
    "y = df['price']\n",
    "\n",
    "z = np.abs(stats.zscore(df))\n",
    "\n",
    "df = df[(z < 3).all(axis=1)]\n",
    "\n",
    "print(df.shape)\n",
    "\n",
    "X = df.drop('price', axis = 1)\n",
    "y = df['price']\n",
    "\n",
    "score_r2 = cross_val_score(RandomForestRegressor(max_depth=25, max_features=4, n_estimators=100), X, y, cv=10, scoring='r2')\n",
    "score_rmse = -1 * cross_val_score(RandomForestRegressor(max_depth=25, max_features=4, n_estimators=100), X, y, cv=10, scoring='neg_root_mean_squared_error')\n",
    "\n",
    "print('R2: ', np.mean(score_r2))\n",
    "print('RMSE: ', np.mean(score_rmse))\n",
    "\n",
    "df.to_csv(\"large_houses_outliers_removed.csv\", index = False)\n",
    "print(df.shape)"
   ]
  },
  {
   "cell_type": "markdown",
   "metadata": {},
   "source": [
    "# Removing Outliers: Moderate Houses"
   ]
  },
  {
   "cell_type": "code",
   "execution_count": 8,
   "metadata": {},
   "outputs": [
    {
     "name": "stdout",
     "output_type": "stream",
     "text": [
      "(606, 6)\n",
      "(577, 6)\n",
      "R2:  0.42544536726517646\n",
      "RMSE:  17733306.197828665\n"
     ]
    },
    {
     "data": {
      "text/plain": [
       "(577, 6)"
      ]
     },
     "execution_count": 8,
     "metadata": {},
     "output_type": "execute_result"
    }
   ],
   "source": [
    "import pandas as pd\n",
    "import numpy as np\n",
    "from scipy import stats\n",
    "from sklearn.model_selection import cross_val_score\n",
    "from sklearn.linear_model import LinearRegression\n",
    "from sklearn.ensemble import RandomForestRegressor\n",
    "from sklearn.neighbors import KNeighborsRegressor\n",
    "\n",
    "df = pd.read_csv(\"../../Resources/house_data_colombo_cluster3.csv\")\n",
    "\n",
    "print(df.shape)\n",
    "\n",
    "X = df.drop('price', axis = 1)\n",
    "y = df['price']\n",
    "\n",
    "z = np.abs(stats.zscore(df))\n",
    "\n",
    "df = df[(z < 3).all(axis=1)]\n",
    "\n",
    "print(df.shape)\n",
    "\n",
    "X = df.drop('price', axis = 1)\n",
    "y = df['price']\n",
    "\n",
    "score_r2 = cross_val_score(RandomForestRegressor(max_depth=25, max_features=4, n_estimators=100), X, y, cv=10, scoring='r2')\n",
    "score_rmse = -1 * cross_val_score(RandomForestRegressor(max_depth=25, max_features=4, n_estimators=100), X, y, cv=10, scoring='neg_root_mean_squared_error')\n",
    "\n",
    "print('R2: ', np.mean(score_r2))\n",
    "print('RMSE: ', np.mean(score_rmse))\n",
    "\n",
    "df.to_csv(\"moderate_houses_outliers_removed.csv\", index = False)\n",
    "df.shape"
   ]
  },
  {
   "cell_type": "markdown",
   "metadata": {},
   "source": [
    "# Concatenate Clusters"
   ]
  },
  {
   "cell_type": "code",
   "execution_count": 2,
   "metadata": {},
   "outputs": [
    {
     "name": "stdout",
     "output_type": "stream",
     "text": [
      "Small Houses:  (6671, 6)\n",
      "moderate Houses:  (577, 6)\n",
      "Large Houses:  (151, 6)\n",
      "R2:  0.12207907129802824\n",
      "RMSE:  16974140.326900672\n"
     ]
    }
   ],
   "source": [
    "import pandas as pd\n",
    "import numpy as np\n",
    "from scipy import stats\n",
    "from sklearn.model_selection import cross_val_score\n",
    "from sklearn.linear_model import LinearRegression\n",
    "from sklearn.ensemble import RandomForestRegressor\n",
    "from sklearn.neighbors import KNeighborsRegressor\n",
    "\n",
    "df_small = pd.read_csv(\"small_houses_outliers_removed.csv\")\n",
    "df_moderate = pd.read_csv(\"moderate_houses_outliers_removed.csv\")\n",
    "df_large = pd.read_csv(\"large_houses_outliers_removed.csv\")\n",
    "\n",
    "print(\"Small Houses: \", df_small.shape)\n",
    "print(\"moderate Houses: \", df_moderate.shape)\n",
    "print(\"Large Houses: \", df_large.shape)\n",
    "\n",
    "df1 = pd.concat([df_small, df_moderate, df_large], ignore_index = True)\n",
    "df2 = pd.read_csv(\"../../Resources/house_data_set_cleaned_3.csv\")\n",
    "\n",
    "X = df1.drop('price', axis = 1)\n",
    "y = df1['price']\n",
    "\n",
    "score_r2 = cross_val_score(RandomForestRegressor(max_depth=25, max_features=4, n_estimators=100), X, y, cv=10, scoring='r2')\n",
    "score_rmse = -1 * cross_val_score(RandomForestRegressor(max_depth=25, max_features=4, n_estimators=100), X, y, cv=10, scoring='neg_root_mean_squared_error')\n",
    "\n",
    "print('R2: ', np.mean(score_r2))\n",
    "print('RMSE: ', np.mean(score_rmse))"
   ]
  },
  {
   "cell_type": "code",
   "execution_count": 11,
   "metadata": {},
   "outputs": [
    {
     "name": "stderr",
     "output_type": "stream",
     "text": [
      "c:\\users\\ano\\appdata\\local\\programs\\python\\python38\\lib\\site-packages\\sklearn\\model_selection\\_split.py:292: FutureWarning: Setting a random_state has no effect since shuffle is False. This will raise an error in 0.24. You should leave random_state to its default (None), or set shuffle=True.\n",
      "  warnings.warn(\n",
      "c:\\users\\ano\\appdata\\local\\programs\\python\\python38\\lib\\site-packages\\sklearn\\model_selection\\_split.py:665: UserWarning: The least populated class in y has only 1 members, which is less than n_splits=10.\n",
      "  warnings.warn((\"The least populated class in y has only %d\"\n"
     ]
    },
    {
     "name": "stdout",
     "output_type": "stream",
     "text": [
      "Small Houses:  (6671, 6)\n",
      "moderate Houses:  (577, 6)\n",
      "Large Houses:  (151, 6)\n"
     ]
    },
    {
     "name": "stderr",
     "output_type": "stream",
     "text": [
      "c:\\users\\ano\\appdata\\local\\programs\\python\\python38\\lib\\site-packages\\sklearn\\model_selection\\_split.py:665: UserWarning: The least populated class in y has only 1 members, which is less than n_splits=10.\n",
      "  warnings.warn((\"The least populated class in y has only %d\"\n"
     ]
    },
    {
     "name": "stdout",
     "output_type": "stream",
     "text": [
      "R2:  0.7506933961117991\n",
      "RMSE:  16029893.124427864\n"
     ]
    }
   ],
   "source": [
    "# StratifiedKFold\n",
    "\n",
    "import pandas as pd\n",
    "import numpy as np\n",
    "from sklearn.model_selection import StratifiedKFold\n",
    "from sklearn.model_selection import cross_val_score\n",
    "from sklearn.ensemble import RandomForestRegressor\n",
    "\n",
    "cv = StratifiedKFold(n_splits=10, random_state=0)\n",
    "\n",
    "df_small = pd.read_csv(\"small_houses_outliers_removed.csv\")\n",
    "df_moderate = pd.read_csv(\"moderate_houses_outliers_removed.csv\")\n",
    "df_large = pd.read_csv(\"large_houses_outliers_removed.csv\")\n",
    "\n",
    "print(\"Small Houses: \", df_small.shape)\n",
    "print(\"moderate Houses: \", df_moderate.shape)\n",
    "print(\"Large Houses: \", df_large.shape)\n",
    "\n",
    "df1 = pd.concat([df_small, df_moderate, df_large], ignore_index = True)\n",
    "#df2 = pd.read_csv(\"../../Resources/house_data_colombo_cluster1.csv\")\n",
    "\n",
    "X = df1.drop('price', axis = 1)\n",
    "y = df1['price']\n",
    "\n",
    "score_r2 = cross_val_score(RandomForestRegressor(max_depth=25, max_features=4, n_estimators=100), X, y, cv=cv, scoring='r2')\n",
    "score_rmse = -1 * cross_val_score(RandomForestRegressor(max_depth=25, max_features=4, n_estimators=100), X, y, cv=cv, scoring='neg_root_mean_squared_error')\n",
    "\n",
    "print('R2: ', np.mean(score_r2))\n",
    "print('RMSE: ', np.mean(score_rmse))"
   ]
  }
 ],
 "metadata": {
  "kernelspec": {
   "display_name": "Python 3",
   "language": "python",
   "name": "python3"
  },
  "language_info": {
   "codemirror_mode": {
    "name": "ipython",
    "version": 3
   },
   "file_extension": ".py",
   "mimetype": "text/x-python",
   "name": "python",
   "nbconvert_exporter": "python",
   "pygments_lexer": "ipython3",
   "version": "3.8.2"
  }
 },
 "nbformat": 4,
 "nbformat_minor": 4
}
