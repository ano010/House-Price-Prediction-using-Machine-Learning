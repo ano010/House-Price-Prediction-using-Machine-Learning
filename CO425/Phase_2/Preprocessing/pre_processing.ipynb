{
 "cells": [
  {
   "cell_type": "code",
   "execution_count": 1,
   "metadata": {},
   "outputs": [],
   "source": [
    "import pandas as pd\n",
    "import numpy as np \n",
    "import seaborn as sns\n",
    "import joblib\n",
    "from sklearn.cluster import KMeans\n",
    "from sklearn.model_selection import train_test_split, cross_val_score\n",
    "from sklearn.preprocessing import LabelEncoder, OneHotEncoder, MinMaxScaler\n",
    "from sklearn import linear_model\n",
    "from sklearn.ensemble import RandomForestRegressor"
   ]
  },
  {
   "cell_type": "code",
   "execution_count": 7,
   "metadata": {},
   "outputs": [
    {
     "name": "stdout",
     "output_type": "stream",
     "text": [
      "(7548, 6)\n"
     ]
    }
   ],
   "source": [
    "# previous semistor: 535 instances, 21 features\n",
    "\n",
    "df = pd.read_csv(\"../../Resources/house_dataset_apr_processed.csv\")\n",
    "\n",
    "\n",
    "df.drop_duplicates(keep='first', inplace=True)\n",
    "\n",
    "df.to_csv(\"../../Resources/house_data_cleaned.csv\", index = False)\n",
    "\n",
    "print(df.shape)\n",
    "\n",
    "X = df.drop('price', axis = 1)\n",
    "y = df['price']"
   ]
  }
 ],
 "metadata": {
  "kernelspec": {
   "display_name": "Python 3",
   "language": "python",
   "name": "python3"
  },
  "language_info": {
   "codemirror_mode": {
    "name": "ipython",
    "version": 3
   },
   "file_extension": ".py",
   "mimetype": "text/x-python",
   "name": "python",
   "nbconvert_exporter": "python",
   "pygments_lexer": "ipython3",
   "version": "3.8.1"
  }
 },
 "nbformat": 4,
 "nbformat_minor": 4
}
