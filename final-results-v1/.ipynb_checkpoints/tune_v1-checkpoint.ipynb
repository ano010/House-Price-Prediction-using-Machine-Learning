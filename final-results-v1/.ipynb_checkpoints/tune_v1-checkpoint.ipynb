{
 "cells": [
  {
   "cell_type": "code",
   "execution_count": 5,
   "metadata": {},
   "outputs": [],
   "source": [
    "import numpy as np\n",
    "import pandas as pd\n",
    "\n",
    "from sklearn.cluster import KMeans\n",
    "\n",
    "from sklearn.model_selection import train_test_split\n",
    "from sklearn.preprocessing import LabelEncoder\n",
    "\n",
    "from sklearn.ensemble import RandomForestRegressor\n",
    "from sklearn.linear_model import LinearRegression, Lasso, Ridge\n",
    "from sklearn.neighbors import KNeighborsRegressor\n",
    "from sklearn.neural_network import MLPRegressor\n",
    "from sklearn.tree import DecisionTreeRegressor\n",
    "from sklearn.model_selection import train_test_split, GridSearchCV, cross_val_score, cross_val_predict, KFold\n",
    "from sklearn.preprocessing import StandardScaler, PolynomialFeatures, OneHotEncoder, MinMaxScaler\n",
    "from sklearn.pipeline import Pipeline\n",
    "from sklearn import linear_model\n",
    "from sklearn.metrics import accuracy_score,recall_score,precision_score,f1_score\n",
    "from sklearn.metrics import confusion_matrix\n",
    "import pickle\n"
   ]
  },
  {
   "cell_type": "code",
   "execution_count": 2,
   "metadata": {},
   "outputs": [],
   "source": [
    "df = pd.read_csv('./dataset-cleaned.csv')\n"
   ]
  },
  {
   "cell_type": "code",
   "execution_count": 3,
   "metadata": {},
   "outputs": [],
   "source": [
    "features_important =[\n",
    "    ['Beds', 'Baths', 'Land Size','0', '1', '2', '3',\n",
    "       '4', '5', '6', '7', '8', '9', '10', '11', '12', '13', '14', '15', '16',\n",
    "       '17', '18', '19', '20', '21', '22', '23', '24', '25', '26', '27', '28',\n",
    "       '29', '30', '31', '32', '33', '34', '35', '36', '37', '38' ],\n",
    "    [ 'Beds', 'Baths','House Size', 'h_l_ratio','0', '1', '2', '3',\n",
    "       '4', '5', '6', '7', '8', '9', '10', '11', '12', '13', '14', '15', '16',\n",
    "       '17', '18', '19', '20', '21', '22', '23', '24', '25', '26', '27', '28',\n",
    "       '29', '30', '31', '32', '33', '34', '35', '36', '37', '38'],\n",
    "    [ 'Beds', 'Baths', 'Land Size', 'h_l_ratio', '0', '1', '2', '3',\n",
    "       '4', '5', '6', '7', '8', '9', '10', '11', '12', '13', '14', '15', '16',\n",
    "       '17', '18', '19', '20', '21', '22', '23', '24', '25', '26', '27', '28',\n",
    "       '29', '30', '31', '32', '33', '34', '35', '36', '37', '38'],\n",
    "    [ 'Beds', 'Baths', 'Land Size', 'Bed Size', '0', '1', '2', '3',\n",
    "       '4', '5', '6', '7', '8', '9', '10', '11', '12', '13', '14', '15', '16',\n",
    "       '17', '18', '19', '20', '21', '22', '23', '24', '25', '26', '27', '28',\n",
    "       '29', '30', '31', '32', '33', '34', '35', '36', '37', '38'],\n",
    "    [ 'Beds', 'House Size', 'Land Size', 'b_b_ratio','0', '1', '2', '3',\n",
    "       '4', '5', '6', '7', '8', '9', '10', '11', '12', '13', '14', '15', '16',\n",
    "       '17', '18', '19', '20', '21', '22', '23', '24', '25', '26', '27', '28',\n",
    "       '29', '30', '31', '32', '33', '34', '35', '36', '37', '38'],\n",
    "    [ 'Beds', 'House Size', 'h_l_ratio', 'b_b_ratio', '0', '1', '2', '3',\n",
    "       '4', '5', '6', '7', '8', '9', '10', '11', '12', '13', '14', '15', '16',\n",
    "       '17', '18', '19', '20', '21', '22', '23', '24', '25', '26', '27', '28',\n",
    "       '29', '30', '31', '32', '33', '34', '35', '36', '37', '38'],\n",
    "    [ 'Beds', 'Land Size', 'h_l_ratio', 'b_b_ratio', '0', '1', '2', '3',\n",
    "       '4', '5', '6', '7', '8', '9', '10', '11', '12', '13', '14', '15', '16',\n",
    "       '17', '18', '19', '20', '21', '22', '23', '24', '25', '26', '27', '28',\n",
    "       '29', '30', '31', '32', '33', '34', '35', '36', '37', '38'],\n",
    "    [ 'Beds', 'Baths', 'House Size', 'h_l_ratio', 'b_b_ratio','0', '1', '2', '3',\n",
    "       '4', '5', '6', '7', '8', '9', '10', '11', '12', '13', '14', '15', '16',\n",
    "       '17', '18', '19', '20', '21', '22', '23', '24', '25', '26', '27', '28',\n",
    "       '29', '30', '31', '32', '33', '34', '35', '36', '37', '38'],\n",
    "    [ 'Beds', 'Baths', 'Land Size', 'h_l_ratio', 'b_b_ratio', '0', '1', '2', '3',\n",
    "       '4', '5', '6', '7', '8', '9', '10', '11', '12', '13', '14', '15', '16',\n",
    "       '17', '18', '19', '20', '21', '22', '23', '24', '25', '26', '27', '28',\n",
    "       '29', '30', '31', '32', '33', '34', '35', '36', '37', '38'],\n",
    "    [ 'Beds', 'Baths', 'h_l_ratio', 'Bed Size', 'b_b_ratio', '0', '1', '2', '3',\n",
    "       '4', '5', '6', '7', '8', '9', '10', '11', '12', '13', '14', '15', '16',\n",
    "       '17', '18', '19', '20', '21', '22', '23', '24', '25', '26', '27', '28',\n",
    "       '29', '30', '31', '32', '33', '34', '35', '36', '37', '38']  \n",
    "]\n"
   ]
  },
  {
   "cell_type": "code",
   "execution_count": 4,
   "metadata": {},
   "outputs": [],
   "source": [
    "param_grid = { \n",
    "    'n_estimators': [20, 40, 50, 80,100, 120, 130, 150, 180, 200, 220, ],\n",
    "    'max_features': [1, 2, 3, 4, 5, 6,8, 9,10,11,12,15,18,'auto', 'sqrt', 'log2'],\n",
    "    'max_depth' : [4,5,6,7,8, 10],\n",
    "    'criterion' :['mse', 'mae']\n",
    "}\n"
   ]
  },
  {
   "cell_type": "code",
   "execution_count": 6,
   "metadata": {},
   "outputs": [],
   "source": [
    "def tune_params(file_name, df, param_grid ):\n",
    "    print('working')\n",
    "    #split dataset\n",
    "    X_train,X_test,Y_train,Y_test = train_test_split(\n",
    "        df.drop(['Price'], axis=1),\n",
    "        df['Price'],\n",
    "        test_size=0.33,\n",
    "        random_state=42)\n",
    "    grid_search = GridSearchCV(param_grid=param_grid, estimator=RandomForestRegressor(), cv=5, scoring='r2', n_jobs=-1)\n",
    "    grid_search.fit(X_train, Y_train)\n",
    "    y_pred = grid_search.predict(X_test)\n",
    "    #measures\n",
    "    rmse = np.sqrt(((y_pred - Y_test) ** 2).mean())\n",
    "    with open('grid_search_v1', 'wb') as file:\n",
    "      pickle.dump(grid_search, file)\n",
    "    with open(file_name, 'a') as file:\n",
    "        file.write(str(rmse))\n",
    "        file.write('\\n')\n",
    "        file.write(str(grid_search.best_estimator_))\n",
    "        file.write('\\n')\n",
    "        file.write(str(grid_search.best_params_))\n",
    "        file.write('\\n')"
   ]
  },
  {
   "cell_type": "code",
   "execution_count": 7,
   "metadata": {},
   "outputs": [
    {
     "data": {
      "text/plain": [
       "Index(['Unnamed: 0', 'index', 'Location', 'Price', 'Beds', 'Baths',\n",
       "       'House Size', 'Land Size', '0', '1', '2', '3', '4', '5', '6', '7', '8',\n",
       "       '9', '10', '11', '12', '13', '14', '15', '16', '17', '18', '19', '20',\n",
       "       '21', '22', '23', '24', '25', '26', '27', '28', '29', '30', '31', '32',\n",
       "       '33', '34', '35', '36', '37', '38', '39', 'h_l_ratio', 'Bed Size',\n",
       "       'b_b_ratio'],\n",
       "      dtype='object')"
      ]
     },
     "execution_count": 7,
     "metadata": {},
     "output_type": "execute_result"
    }
   ],
   "source": [
    "df.columns"
   ]
  },
  {
   "cell_type": "code",
   "execution_count": null,
   "metadata": {},
   "outputs": [],
   "source": [
    "tune_params('sample.txt', df.drop(['Location', 'index', 'Unnamed: 0'], axis=1), sample)"
   ]
  }
 ],
 "metadata": {
  "kernelspec": {
   "display_name": "Python 3",
   "language": "python",
   "name": "python3"
  },
  "language_info": {
   "codemirror_mode": {
    "name": "ipython",
    "version": 3
   },
   "file_extension": ".py",
   "mimetype": "text/x-python",
   "name": "python",
   "nbconvert_exporter": "python",
   "pygments_lexer": "ipython3",
   "version": "3.7.6"
  }
 },
 "nbformat": 4,
 "nbformat_minor": 4
}
