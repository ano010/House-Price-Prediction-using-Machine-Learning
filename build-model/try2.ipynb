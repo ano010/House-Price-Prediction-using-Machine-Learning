{
 "cells": [
  {
   "cell_type": "code",
   "execution_count": 2,
   "metadata": {},
   "outputs": [
    {
     "name": "stderr",
     "output_type": "stream",
     "text": [
      "/root/anaconda3/envs/learn-ml/lib/python3.6/importlib/_bootstrap.py:219: RuntimeWarning: numpy.ufunc size changed, may indicate binary incompatibility. Expected 192 from C header, got 216 from PyObject\n",
      "  return f(*args, **kwds)\n"
     ]
    }
   ],
   "source": [
    "import numpy as np\n",
    "import pandas as pd\n",
    "\n",
    "from math import sqrt\n",
    "\n",
    "from sklearn.metrics import mean_squared_error\n",
    "from sklearn.metrics import r2_score\n",
    "\n",
    "import matplotlib.pyplot as plt\n",
    "\n",
    "from sklearn.ensemble import RandomForestRegressor\n",
    "from sklearn.linear_model import LinearRegression, Lasso, Ridge\n",
    "from sklearn.neighbors import KNeighborsRegressor\n",
    "from sklearn.neural_network import MLPRegressor\n",
    "from sklearn.tree import DecisionTreeRegressor\n",
    "from sklearn.model_selection import train_test_split, GridSearchCV, cross_val_score, cross_val_predict, KFold\n",
    "from sklearn.preprocessing import StandardScaler, PolynomialFeatures\n",
    "from sklearn.pipeline import Pipeline\n",
    "from sklearn import linear_model\n",
    "from sklearn.svm import SVR \n",
    "\n",
    "import seaborn as sns"
   ]
  },
  {
   "cell_type": "markdown",
   "metadata": {},
   "source": [
    "read file"
   ]
  },
  {
   "cell_type": "code",
   "execution_count": 3,
   "metadata": {},
   "outputs": [],
   "source": [
    "df = pd.read_csv('./house-data-set-cleaned-3.csv')"
   ]
  },
  {
   "cell_type": "code",
   "execution_count": 6,
   "metadata": {},
   "outputs": [
    {
     "data": {
      "text/plain": [
       "0    12500000\n",
       "1    29500000\n",
       "2    19000000\n",
       "3    35000000\n",
       "4    29500000\n",
       "Name: Price, dtype: int64"
      ]
     },
     "execution_count": 6,
     "metadata": {},
     "output_type": "execute_result"
    }
   ],
   "source": [
    "df_X = df.drop(columns=['Unnamed: 0', 'Price'], axis=1)\n",
    "df_Y = df['Price']\n",
    "# df_X.head()\n",
    "df_Y.head()"
   ]
  },
  {
   "cell_type": "code",
   "execution_count": 18,
   "metadata": {},
   "outputs": [],
   "source": [
    "X = df_X\n",
    "Y = df_Y"
   ]
  },
  {
   "cell_type": "code",
   "execution_count": 19,
   "metadata": {},
   "outputs": [],
   "source": [
    "X_train, X_test, Y_train, Y_test = train_test_split(\n",
    "    X,\n",
    "    Y,\n",
    "    test_size=0.25,\n",
    "    random_state=42\n",
    ")"
   ]
  },
  {
   "cell_type": "code",
   "execution_count": 20,
   "metadata": {},
   "outputs": [],
   "source": [
    "def model(pipeline, parameters, X_train, y_train, X, y, X_test, y_test):\n",
    "    print('********************************************************************')\n",
    "    grid_obj = GridSearchCV(estimator= pipeline,\n",
    "                            param_grid = parameters,\n",
    "                            cv =3,\n",
    "                            verbose = 2,\n",
    "                            n_jobs =1,\n",
    "                            refit=True,\n",
    "                            error_score='raise'\n",
    "                            )\n",
    "    print(X_train)\n",
    "    grid_obj.fit(X_train, y_train)\n",
    "    \n",
    "    results = pd.DataFrame(pd.DataFrame(grid_obj.cv_results_))\n",
    "    results_sorted = results.sort_values(by=['mean_test_score'], ascending=False)\n",
    "\n",
    "    print(\"#### Results\")\n",
    "    print(results_sorted)\n",
    "    print(grid_obj)\n",
    "    print(\"best index\", grid_obj.best_index_)\n",
    "    print(\"best score\", grid_obj.best_score_)\n",
    "    print(\"best params\", grid_obj.best_params_)\n",
    "\n",
    "    estimator = grid_obj.best_estimator_\n",
    "\n",
    "    print(estimator)\n",
    "    # if estimator.named_steps['scl'] == True:\n",
    "    #     X = (X - X.mean())/ (X.std())\n",
    "    #     y = (y - y.mean())/ (y.std())\n",
    "\n",
    "    shuffle = KFold(n_splits =3,\n",
    "                    shuffle=True,\n",
    "                    random_state =10)\n",
    "    cv_scores = cross_val_score(estimator, X, y.values.ravel(), cv=shuffle, scoring='r2')\n",
    "    print(\"#### CV Results\")\n",
    "    print(\"mean score\", cv_scores.mean())\n",
    "    \n",
    "    estimator.fit(X_train,y_train)\n",
    "    y_p = estimator.predict(X_test)\n",
    "    rmse = sqrt(mean_squared_error(y_test, y_p))\n",
    "    print(r2_score(y_p, y_test))\n",
    "    plt.scatter(y_p, y_test)\n",
    "    xmin, xmax = plt.xlim()\n",
    "    ymin, ymax = plt.ylim()\n",
    "    plt.plot([xmin, xmax], [ymin, ymax], \"g--\", lw=1, alpha=0.4)\n",
    "    plt.xlabel(\"True prices\")\n",
    "    plt.ylabel(\"Predicted prices\")\n",
    "    plt.title('Predicted prices (LKR) vs. True prices (LKR) (Test-Train Split)')\n",
    "    plt.show()\n",
    "    \n",
    "    '''Show model coefficients or feature importances'''\n",
    "\n",
    "    try:\n",
    "        print(\"Model coefficients: \", list(zip(list(X), estimator.named_steps['clf'].coef_)))\n",
    "    except:\n",
    "        print(\"Model does not support model coefficients\")\n",
    "\n",
    "    try:\n",
    "        print(\"Feature importances: \", list(zip(list(X), estimator.named_steps['clf'].feature_importances_)))\n",
    "    except:\n",
    "        print(\"Model does not support feature importances\")\n",
    "\n",
    "    '''Predict along CV and plot y vs. y_predicted in scatter'''\n",
    "\n",
    "    y_pred = cross_val_predict(estimator, X, y, cv=shuffle)\n",
    "    \n",
    "    plt.scatter(y, y_pred)\n",
    "    xmin, xmax = plt.xlim()\n",
    "    ymin, ymax = plt.ylim()\n",
    "    plt.plot([xmin, xmax], [ymin, ymax], \"g--\", lw=1, alpha=0.4)\n",
    "    plt.xlabel(\"True prices\")\n",
    "    plt.ylabel(\"Predicted prices\")\n",
    "    # plt.annotate(' R-squared CV = {}'.format(round(float(cv_scores.mean()), 3)), size=9,\n",
    "    #          xy=(xmin,ymax), xytext=(10, -15), textcoords='offset points')\n",
    "    # plt.annotate(grid_obj.best_params_, size=9,\n",
    "    #              xy=(xmin, ymax), xytext=(10, -35), textcoords='offset points', wrap=True)\n",
    "    plt.title('Predicted prices (LKR) vs. True prices (LKR) (KFold)')\n",
    "    plt.show()\n",
    "    rmse = sqrt(mean_squared_error(y, y_pred))\n",
    "    print('rmse: ', rmse)\n",
    "    print('*********************************************************************')\n",
    "\n"
   ]
  },
  {
   "cell_type": "code",
   "execution_count": 21,
   "metadata": {},
   "outputs": [],
   "source": [
    "pipe_forest = Pipeline([('clf', RandomForestRegressor())])\n",
    "param_forest = {'clf__n_estimators': [10, 20, 50, 70, 100, 120, 130,140, 150, 200],\n",
    "                'clf__max_features': [None, 1, 2,3],\n",
    "                'clf__max_depth': [1, 2, 5, 10, 15, 20, 25]}"
   ]
  },
  {
   "cell_type": "code",
   "execution_count": 22,
   "metadata": {},
   "outputs": [],
   "source": [
    "pipe_neural = Pipeline([('scl', StandardScaler()),\n",
    "                        ('clf', MLPRegressor())])\n",
    "\n",
    "param_neural = {'clf__alpha': [0.001, 0.01, 0.1, 1, 10, 100],\n",
    "                'clf__hidden_layer_sizes': [(5),(10,10),(7,7,7),(20, 20,20, 20), (30,30, 30), (20, 20,20), (15, 15,15)],\n",
    "                'clf__solver': ['lbfgs'],\n",
    "                'clf__activation': ['relu', 'tanh'],\n",
    "                'clf__learning_rate' : ['constant', 'invscaling']}\n"
   ]
  },
  {
   "cell_type": "code",
   "execution_count": 23,
   "metadata": {},
   "outputs": [],
   "source": [
    "params_lr = {'fit_intercept':[True,False], 'normalize':[True,False]}\n"
   ]
  },
  {
   "cell_type": "code",
   "execution_count": 26,
   "metadata": {},
   "outputs": [],
   "source": [
    "pipe_knn = Pipeline([('clf', KNeighborsRegressor())])\n",
    "param_knn = {'clf__n_neighbors':[5, 10, 15, 25, 30]}"
   ]
  },
  {
   "cell_type": "code",
   "execution_count": 27,
   "metadata": {},
   "outputs": [
    {
     "name": "stdout",
     "output_type": "stream",
     "text": [
      "      Location  Beds  Baths  House Size  Land Size\n",
      "3317        29     4      2      2700.0        7.3\n",
      "691         33     2      1      1200.0       18.0\n",
      "533         38     5      4      3800.0        7.8\n",
      "6364        20     4      2      1500.0       10.0\n",
      "6763        28     4      4      4100.0       10.0\n",
      "...        ...   ...    ...         ...        ...\n",
      "5191        35     3      1      1600.0       20.0\n",
      "5226        26     4      3      4500.0       11.2\n",
      "5390        36     5      3      3200.0       17.0\n",
      "860         20     2      1      1250.0        7.5\n",
      "7270         1     3      2      1200.0        6.8\n",
      "\n",
      "[5682 rows x 5 columns]\n",
      "Fitting 3 folds for each of 4 candidates, totalling 12 fits\n",
      "[CV] fit_intercept=True, normalize=True ..............................\n",
      "[CV] ............... fit_intercept=True, normalize=True, total=   0.0s\n",
      "[CV] fit_intercept=True, normalize=True ..............................\n",
      "[CV] ............... fit_intercept=True, normalize=True, total=   0.0s\n",
      "[CV] fit_intercept=True, normalize=True ..............................\n",
      "[CV] ............... fit_intercept=True, normalize=True, total=   0.0s\n",
      "[CV] fit_intercept=True, normalize=False .............................\n",
      "[CV] .............. fit_intercept=True, normalize=False, total=   0.0s\n",
      "[CV] fit_intercept=True, normalize=False .............................\n",
      "[CV] .............. fit_intercept=True, normalize=False, total=   0.0s\n",
      "[CV] fit_intercept=True, normalize=False .............................\n",
      "[CV] .............. fit_intercept=True, normalize=False, total=   0.0s\n",
      "[CV] fit_intercept=False, normalize=True .............................\n",
      "[CV] .............. fit_intercept=False, normalize=True, total=   0.0s\n",
      "[CV] fit_intercept=False, normalize=True .............................\n",
      "[CV] .............. fit_intercept=False, normalize=True, total=   0.0s\n",
      "[CV] fit_intercept=False, normalize=True .............................\n",
      "[CV] .............. fit_intercept=False, normalize=True, total=   0.0s\n",
      "[CV] fit_intercept=False, normalize=False ............................\n",
      "[CV] ............. fit_intercept=False, normalize=False, total=   0.0s\n",
      "[CV] fit_intercept=False, normalize=False ............................\n",
      "[CV] ............. fit_intercept=False, normalize=False, total=   0.0s\n",
      "[CV] fit_intercept=False, normalize=False ............................\n",
      "[CV] ............. fit_intercept=False, normalize=False, total=   0.0s\n",
      "#### Results\n",
      "   mean_fit_time  std_fit_time  mean_score_time  std_score_time  \\\n",
      "1       0.005130      0.002137         0.002397        0.000883   \n",
      "0       0.016779      0.009990         0.005661        0.002958   \n",
      "2       0.002762      0.000108         0.001352        0.000028   \n",
      "3       0.002829      0.000062         0.001370        0.000028   \n",
      "\n",
      "  param_fit_intercept param_normalize  \\\n",
      "1                True           False   \n",
      "0                True            True   \n",
      "2               False            True   \n",
      "3               False           False   \n",
      "\n",
      "                                         params  split0_test_score  \\\n",
      "1   {'fit_intercept': True, 'normalize': False}           0.435093   \n",
      "0    {'fit_intercept': True, 'normalize': True}           0.435093   \n",
      "2   {'fit_intercept': False, 'normalize': True}           0.426169   \n",
      "3  {'fit_intercept': False, 'normalize': False}           0.426169   \n",
      "\n",
      "   split1_test_score  split2_test_score  mean_test_score  std_test_score  \\\n",
      "1           0.403495           0.418465         0.419018        0.012906   \n",
      "0           0.403495           0.418465         0.419018        0.012906   \n",
      "2           0.394316           0.409253         0.409913        0.013012   \n",
      "3           0.394316           0.409253         0.409913        0.013012   \n",
      "\n",
      "   rank_test_score  \n",
      "1                1  \n",
      "0                2  \n",
      "2                3  \n",
      "3                3  \n",
      "GridSearchCV(cv=3, error_score='raise',\n",
      "             estimator=LinearRegression(copy_X=True, fit_intercept=True,\n",
      "                                        n_jobs=None, normalize=False),\n",
      "             iid='deprecated', n_jobs=1,\n",
      "             param_grid={'fit_intercept': [True, False],\n",
      "                         'normalize': [True, False]},\n",
      "             pre_dispatch='2*n_jobs', refit=True, return_train_score=False,\n",
      "             scoring=None, verbose=2)\n",
      "best index 1\n",
      "best score 0.4190177420922214\n",
      "best params {'fit_intercept': True, 'normalize': False}\n",
      "LinearRegression(copy_X=True, fit_intercept=True, n_jobs=None, normalize=False)\n",
      "#### CV Results\n",
      "mean score 0.4019370578603337\n",
      "Test train split\n",
      "-0.44787514981888865\n"
     ]
    },
    {
     "name": "stderr",
     "output_type": "stream",
     "text": [
      "[Parallel(n_jobs=1)]: Using backend SequentialBackend with 1 concurrent workers.\n",
      "[Parallel(n_jobs=1)]: Done   1 out of   1 | elapsed:    0.0s remaining:    0.0s\n",
      "[Parallel(n_jobs=1)]: Done  12 out of  12 | elapsed:    0.1s finished\n"
     ]
    },
    {
     "data": {
      "image/png": "[encoded data removed]",
      "text/plain": [
       "<Figure size 432x288 with 1 Axes>"
      ]
     },
     "metadata": {
      "needs_background": "light"
     },
     "output_type": "display_data"
    },
    {
     "name": "stdout",
     "output_type": "stream",
     "text": [
      "*********************************************************************\n",
      "r2 :  -0.44787514981888865\n",
      "best:  {'fit_intercept': True, 'normalize': False}\n",
      "rmse:  27589108.976735163\n",
      "*********************************************************************\n",
      "Model does not support model coefficients\n",
      "Model does not support feature importances\n"
     ]
    },
    {
     "data": {
      "image/png": "[encoded data removed]",
      "text/plain": [
       "<Figure size 432x288 with 1 Axes>"
      ]
     },
     "metadata": {
      "needs_background": "light"
     },
     "output_type": "display_data"
    },
    {
     "name": "stdout",
     "output_type": "stream",
     "text": [
      "*********************************************************************\n",
      "r2 :  0.402\n",
      "best:  {'fit_intercept': True, 'normalize': False}\n",
      "rmse:  26561970.722480897\n",
      "*********************************************************************\n"
     ]
    }
   ],
   "source": [
    "model(linear_model.LinearRegression(), params_lr, X_train, Y_train, X, Y, X_test, Y_test)\n",
    "\n",
    "\n",
    "# model(pipe_forest, param_forest, X_train, Y_train, X, Y, X_test, Y_test)\n",
    "# model(pipe_neural, param_neural, X_train, Y_train, X, Y, X_test, Y_test)"
   ]
  },
  {
   "cell_type": "code",
   "execution_count": 28,
   "metadata": {},
   "outputs": [
    {
     "name": "stdout",
     "output_type": "stream",
     "text": [
      "      Location  Beds  Baths  House Size  Land Size\n",
      "3317        29     4      2      2700.0        7.3\n",
      "691         33     2      1      1200.0       18.0\n",
      "533         38     5      4      3800.0        7.8\n",
      "6364        20     4      2      1500.0       10.0\n",
      "6763        28     4      4      4100.0       10.0\n",
      "...        ...   ...    ...         ...        ...\n",
      "5191        35     3      1      1600.0       20.0\n",
      "5226        26     4      3      4500.0       11.2\n",
      "5390        36     5      3      3200.0       17.0\n",
      "860         20     2      1      1250.0        7.5\n",
      "7270         1     3      2      1200.0        6.8\n",
      "\n",
      "[5682 rows x 5 columns]\n",
      "Fitting 3 folds for each of 5 candidates, totalling 15 fits\n",
      "[CV] clf__n_neighbors=5 ..............................................\n",
      "[CV] ............................... clf__n_neighbors=5, total=   0.0s\n",
      "[CV] clf__n_neighbors=5 ..............................................\n",
      "[CV] ............................... clf__n_neighbors=5, total=   0.0s\n",
      "[CV] clf__n_neighbors=5 ..............................................\n",
      "[CV] ............................... clf__n_neighbors=5, total=   0.0s\n",
      "[CV] clf__n_neighbors=10 .............................................\n",
      "[CV] .............................. clf__n_neighbors=10, total=   0.0s\n",
      "[CV] clf__n_neighbors=10 .............................................\n",
      "[CV] .............................. clf__n_neighbors=10, total=   0.0s\n",
      "[CV] clf__n_neighbors=10 .............................................\n",
      "[CV] .............................. clf__n_neighbors=10, total=   0.0s\n",
      "[CV] clf__n_neighbors=15 .............................................\n",
      "[CV] .............................. clf__n_neighbors=15, total=   0.0s\n",
      "[CV] clf__n_neighbors=15 .............................................\n",
      "[CV] .............................. clf__n_neighbors=15, total=   0.0s\n",
      "[CV] clf__n_neighbors=15 .............................................\n",
      "[CV] .............................. clf__n_neighbors=15, total=   0.0s\n",
      "[CV] clf__n_neighbors=25 .............................................\n"
     ]
    },
    {
     "name": "stderr",
     "output_type": "stream",
     "text": [
      "[Parallel(n_jobs=1)]: Using backend SequentialBackend with 1 concurrent workers.\n",
      "[Parallel(n_jobs=1)]: Done   1 out of   1 | elapsed:    0.0s remaining:    0.0s\n"
     ]
    },
    {
     "name": "stdout",
     "output_type": "stream",
     "text": [
      "[CV] .............................. clf__n_neighbors=25, total=   0.0s\n",
      "[CV] clf__n_neighbors=25 .............................................\n",
      "[CV] .............................. clf__n_neighbors=25, total=   0.0s\n",
      "[CV] clf__n_neighbors=25 .............................................\n",
      "[CV] .............................. clf__n_neighbors=25, total=   0.0s\n",
      "[CV] clf__n_neighbors=30 .............................................\n",
      "[CV] .............................. clf__n_neighbors=30, total=   0.0s\n",
      "[CV] clf__n_neighbors=30 .............................................\n",
      "[CV] .............................. clf__n_neighbors=30, total=   0.0s\n",
      "[CV] clf__n_neighbors=30 .............................................\n",
      "[CV] .............................. clf__n_neighbors=30, total=   0.0s\n",
      "#### Results\n",
      "   mean_fit_time  std_fit_time  mean_score_time  std_score_time  \\\n",
      "1       0.004788      0.000073         0.009925        0.000020   \n",
      "2       0.004683      0.000050         0.011404        0.000232   \n",
      "3       0.005787      0.000896         0.017874        0.002916   \n",
      "4       0.005959      0.000874         0.015807        0.001663   \n",
      "0       0.010459      0.004356         0.015309        0.004707   \n",
      "\n",
      "  param_clf__n_neighbors                    params  split0_test_score  \\\n",
      "1                     10  {'clf__n_neighbors': 10}           0.431847   \n",
      "2                     15  {'clf__n_neighbors': 15}           0.440301   \n",
      "3                     25  {'clf__n_neighbors': 25}           0.416680   \n",
      "4                     30  {'clf__n_neighbors': 30}           0.421281   \n",
      "0                      5   {'clf__n_neighbors': 5}           0.372274   \n",
      "\n",
      "   split1_test_score  split2_test_score  mean_test_score  std_test_score  \\\n",
      "1           0.450757           0.421597         0.434734        0.012078   \n",
      "2           0.432852           0.421299         0.431484        0.007818   \n",
      "3           0.415033           0.422321         0.418011        0.003121   \n",
      "4           0.409902           0.414345         0.415176        0.004682   \n",
      "0           0.439879           0.411241         0.407798        0.027707   \n",
      "\n",
      "   rank_test_score  \n",
      "1                1  \n",
      "2                2  \n",
      "3                3  \n",
      "4                4  \n",
      "0                5  \n",
      "GridSearchCV(cv=3, error_score='raise',\n",
      "             estimator=Pipeline(memory=None,\n",
      "                                steps=[('clf',\n",
      "                                        KNeighborsRegressor(algorithm='auto',\n",
      "                                                            leaf_size=30,\n",
      "                                                            metric='minkowski',\n",
      "                                                            metric_params=None,\n",
      "                                                            n_jobs=None,\n",
      "                                                            n_neighbors=5, p=2,\n",
      "                                                            weights='uniform'))],\n",
      "                                verbose=False),\n",
      "             iid='deprecated', n_jobs=1,\n",
      "             param_grid={'clf__n_neighbors': [5, 10, 15, 25, 30]},\n",
      "             pre_dispatch='2*n_jobs', refit=True, return_train_score=False,\n",
      "             scoring=None, verbose=2)\n",
      "best index 1\n",
      "best score 0.43473386803463243\n",
      "best params {'clf__n_neighbors': 10}\n",
      "Pipeline(memory=None,\n",
      "         steps=[('clf',\n",
      "                 KNeighborsRegressor(algorithm='auto', leaf_size=30,\n",
      "                                     metric='minkowski', metric_params=None,\n",
      "                                     n_jobs=None, n_neighbors=10, p=2,\n",
      "                                     weights='uniform'))],\n",
      "         verbose=False)\n",
      "#### CV Results\n",
      "mean score 0.4625414384030624\n"
     ]
    },
    {
     "name": "stderr",
     "output_type": "stream",
     "text": [
      "[Parallel(n_jobs=1)]: Done  15 out of  15 | elapsed:    0.3s finished\n"
     ]
    },
    {
     "name": "stdout",
     "output_type": "stream",
     "text": [
      "Test train split\n",
      "0.0557433665534961\n"
     ]
    },
    {
     "data": {
      "image/png": "[encoded data removed]",
      "text/plain": [
       "<Figure size 432x288 with 1 Axes>"
      ]
     },
     "metadata": {
      "needs_background": "light"
     },
     "output_type": "display_data"
    },
    {
     "name": "stdout",
     "output_type": "stream",
     "text": [
      "*********************************************************************\n",
      "r2 :  0.0557433665534961\n",
      "best:  {'clf__n_neighbors': 10}\n",
      "rmse:  24001667.1122748\n",
      "*********************************************************************\n",
      "Model does not support model coefficients\n",
      "Model does not support feature importances\n"
     ]
    },
    {
     "data": {
      "image/png": "[encoded data removed]",
      "text/plain": [
       "<Figure size 432x288 with 1 Axes>"
      ]
     },
     "metadata": {
      "needs_background": "light"
     },
     "output_type": "display_data"
    },
    {
     "name": "stdout",
     "output_type": "stream",
     "text": [
      "*********************************************************************\n",
      "r2 :  0.463\n",
      "best:  {'clf__n_neighbors': 10}\n",
      "rmse:  25178704.025507025\n",
      "*********************************************************************\n"
     ]
    }
   ],
   "source": [
    " model(pipe_knn, param_knn, X_train, Y_train, X, Y, X_test, Y_test)"
   ]
  },
  {
   "cell_type": "code",
   "execution_count": 29,
   "metadata": {},
   "outputs": [
    {
     "name": "stdout",
     "output_type": "stream",
     "text": [
      "      Location  Beds  Baths  House Size  Land Size\n",
      "3317        29     4      2      2700.0        7.3\n",
      "691         33     2      1      1200.0       18.0\n",
      "533         38     5      4      3800.0        7.8\n",
      "6364        20     4      2      1500.0       10.0\n",
      "6763        28     4      4      4100.0       10.0\n",
      "...        ...   ...    ...         ...        ...\n",
      "5191        35     3      1      1600.0       20.0\n",
      "5226        26     4      3      4500.0       11.2\n",
      "5390        36     5      3      3200.0       17.0\n",
      "860         20     2      1      1250.0        7.5\n",
      "7270         1     3      2      1200.0        6.8\n",
      "\n",
      "[5682 rows x 5 columns]\n",
      "Fitting 3 folds for each of 280 candidates, totalling 840 fits\n",
      "[CV] clf__max_depth=1, clf__max_features=None, clf__n_estimators=10 ..\n",
      "[CV]  clf__max_depth=1, clf__max_features=None, clf__n_estimators=10, total=   0.1s\n",
      "[CV] clf__max_depth=1, clf__max_features=None, clf__n_estimators=10 ..\n",
      "[CV]  clf__max_depth=1, clf__max_features=None, clf__n_estimators=10, total=   0.0s\n",
      "[CV] clf__max_depth=1, clf__max_features=None, clf__n_estimators=10 ..\n",
      "[CV]  clf__max_depth=1, clf__max_features=None, clf__n_estimators=10, total=   0.0s\n",
      "[CV] clf__max_depth=1, clf__max_features=None, clf__n_estimators=20 ..\n",
      "[CV]  clf__max_depth=1, clf__max_features=None, clf__n_estimators=20, total=   0.0s\n",
      "[CV] clf__max_depth=1, clf__max_features=None, clf__n_estimators=20 ..\n",
      "[CV]  clf__max_depth=1, clf__max_features=None, clf__n_estimators=20, total=   0.0s\n",
      "[CV] clf__max_depth=1, clf__max_features=None, clf__n_estimators=20 ..\n"
     ]
    },
    {
     "name": "stderr",
     "output_type": "stream",
     "text": [
      "[Parallel(n_jobs=1)]: Using backend SequentialBackend with 1 concurrent workers.\n",
      "[Parallel(n_jobs=1)]: Done   1 out of   1 | elapsed:    0.1s remaining:    0.0s\n"
     ]
    },
    {
     "name": "stdout",
     "output_type": "stream",
     "text": [
      "[CV]  clf__max_depth=1, clf__max_features=None, clf__n_estimators=20, total=   0.1s\n",
      "[CV] clf__max_depth=1, clf__max_features=None, clf__n_estimators=50 ..\n",
      "[CV]  clf__max_depth=1, clf__max_features=None, clf__n_estimators=50, total=   0.1s\n",
      "[CV] clf__max_depth=1, clf__max_features=None, clf__n_estimators=50 ..\n",
      "[CV]  clf__max_depth=1, clf__max_features=None, clf__n_estimators=50, total=   0.1s\n",
      "[CV] clf__max_depth=1, clf__max_features=None, clf__n_estimators=50 ..\n",
      "[CV]  clf__max_depth=1, clf__max_features=None, clf__n_estimators=50, total=   0.1s\n",
      "[CV] clf__max_depth=1, clf__max_features=None, clf__n_estimators=70 ..\n",
      "[CV]  clf__max_depth=1, clf__max_features=None, clf__n_estimators=70, total=   0.1s\n",
      "[CV] clf__max_depth=1, clf__max_features=None, clf__n_estimators=70 ..\n",
      "[CV]  clf__max_depth=1, clf__max_features=None, clf__n_estimators=70, total=   0.1s\n",
      "[CV] clf__max_depth=1, clf__max_features=None, clf__n_estimators=70 ..\n",
      "[CV]  clf__max_depth=1, clf__max_features=None, clf__n_estimators=70, total=   0.1s\n",
      "[CV] clf__max_depth=1, clf__max_features=None, clf__n_estimators=100 .\n",
      "[CV]  clf__max_depth=1, clf__max_features=None, clf__n_estimators=100, total=   0.2s\n",
      "[CV] clf__max_depth=1, clf__max_features=None, clf__n_estimators=100 .\n",
      "[CV]  clf__max_depth=1, clf__max_features=None, clf__n_estimators=100, total=   0.3s\n",
      "[CV] clf__max_depth=1, clf__max_features=None, clf__n_estimators=100 .\n",
      "[CV]  clf__max_depth=1, clf__max_features=None, clf__n_estimators=100, total=   0.3s\n",
      "[CV] clf__max_depth=1, clf__max_features=None, clf__n_estimators=120 .\n",
      "[CV]  clf__max_depth=1, clf__max_features=None, clf__n_estimators=120, total=   0.3s\n",
      "[CV] clf__max_depth=1, clf__max_features=None, clf__n_estimators=120 .\n",
      "[CV]  clf__max_depth=1, clf__max_features=None, clf__n_estimators=120, total=   0.3s\n",
      "[CV] clf__max_depth=1, clf__max_features=None, clf__n_estimators=120 .\n",
      "[CV]  clf__max_depth=1, clf__max_features=None, clf__n_estimators=120, total=   0.2s\n",
      "[CV] clf__max_depth=1, clf__max_features=None, clf__n_estimators=130 .\n",
      "[CV]  clf__max_depth=1, clf__max_features=None, clf__n_estimators=130, total=   0.2s\n",
      "[CV] clf__max_depth=1, clf__max_features=None, clf__n_estimators=130 .\n",
      "[CV]  clf__max_depth=1, clf__max_features=None, clf__n_estimators=130, total=   0.2s\n",
      "[CV] clf__max_depth=1, clf__max_features=None, clf__n_estimators=130 .\n",
      "[CV]  clf__max_depth=1, clf__max_features=None, clf__n_estimators=130, total=   0.2s\n",
      "[CV] clf__max_depth=1, clf__max_features=None, clf__n_estimators=140 .\n",
      "[CV]  clf__max_depth=1, clf__max_features=None, clf__n_estimators=140, total=   0.3s\n",
      "[CV] clf__max_depth=1, clf__max_features=None, clf__n_estimators=140 .\n",
      "[CV]  clf__max_depth=1, clf__max_features=None, clf__n_estimators=140, total=   0.2s\n",
      "[CV] clf__max_depth=1, clf__max_features=None, clf__n_estimators=140 .\n",
      "[CV]  clf__max_depth=1, clf__max_features=None, clf__n_estimators=140, total=   0.4s\n",
      "[CV] clf__max_depth=1, clf__max_features=None, clf__n_estimators=150 .\n",
      "[CV]  clf__max_depth=1, clf__max_features=None, clf__n_estimators=150, total=   0.3s\n",
      "[CV] clf__max_depth=1, clf__max_features=None, clf__n_estimators=150 .\n",
      "[CV]  clf__max_depth=1, clf__max_features=None, clf__n_estimators=150, total=   0.3s\n",
      "[CV] clf__max_depth=1, clf__max_features=None, clf__n_estimators=150 .\n",
      "[CV]  clf__max_depth=1, clf__max_features=None, clf__n_estimators=150, total=   0.4s\n",
      "[CV] clf__max_depth=1, clf__max_features=None, clf__n_estimators=200 .\n",
      "[CV]  clf__max_depth=1, clf__max_features=None, clf__n_estimators=200, total=   0.5s\n",
      "[CV] clf__max_depth=1, clf__max_features=None, clf__n_estimators=200 .\n",
      "[CV]  clf__max_depth=1, clf__max_features=None, clf__n_estimators=200, total=   0.3s\n",
      "[CV] clf__max_depth=1, clf__max_features=None, clf__n_estimators=200 .\n",
      "[CV]  clf__max_depth=1, clf__max_features=None, clf__n_estimators=200, total=   0.3s\n",
      "[CV] clf__max_depth=1, clf__max_features=1, clf__n_estimators=10 .....\n",
      "[CV]  clf__max_depth=1, clf__max_features=1, clf__n_estimators=10, total=   0.0s\n",
      "[CV] clf__max_depth=1, clf__max_features=1, clf__n_estimators=10 .....\n",
      "[CV]  clf__max_depth=1, clf__max_features=1, clf__n_estimators=10, total=   0.0s\n",
      "[CV] clf__max_depth=1, clf__max_features=1, clf__n_estimators=10 .....\n",
      "[CV]  clf__max_depth=1, clf__max_features=1, clf__n_estimators=10, total=   0.0s\n",
      "[CV] clf__max_depth=1, clf__max_features=1, clf__n_estimators=20 .....\n",
      "[CV]  clf__max_depth=1, clf__max_features=1, clf__n_estimators=20, total=   0.0s\n",
      "[CV] clf__max_depth=1, clf__max_features=1, clf__n_estimators=20 .....\n",
      "[CV]  clf__max_depth=1, clf__max_features=1, clf__n_estimators=20, total=   0.0s\n",
      "[CV] clf__max_depth=1, clf__max_features=1, clf__n_estimators=20 .....\n",
      "[CV]  clf__max_depth=1, clf__max_features=1, clf__n_estimators=20, total=   0.0s\n",
      "[CV] clf__max_depth=1, clf__max_features=1, clf__n_estimators=50 .....\n",
      "[CV]  clf__max_depth=1, clf__max_features=1, clf__n_estimators=50, total=   0.1s\n",
      "[CV] clf__max_depth=1, clf__max_features=1, clf__n_estimators=50 .....\n",
      "[CV]  clf__max_depth=1, clf__max_features=1, clf__n_estimators=50, total=   0.1s\n",
      "[CV] clf__max_depth=1, clf__max_features=1, clf__n_estimators=50 .....\n",
      "[CV]  clf__max_depth=1, clf__max_features=1, clf__n_estimators=50, total=   0.1s\n",
      "[CV] clf__max_depth=1, clf__max_features=1, clf__n_estimators=70 .....\n",
      "[CV]  clf__max_depth=1, clf__max_features=1, clf__n_estimators=70, total=   0.2s\n",
      "[CV] clf__max_depth=1, clf__max_features=1, clf__n_estimators=70 .....\n",
      "[CV]  clf__max_depth=1, clf__max_features=1, clf__n_estimators=70, total=   0.1s\n",
      "[CV] clf__max_depth=1, clf__max_features=1, clf__n_estimators=70 .....\n",
      "[CV]  clf__max_depth=1, clf__max_features=1, clf__n_estimators=70, total=   0.1s\n",
      "[CV] clf__max_depth=1, clf__max_features=1, clf__n_estimators=100 ....\n",
      "[CV]  clf__max_depth=1, clf__max_features=1, clf__n_estimators=100, total=   0.3s\n",
      "[CV] clf__max_depth=1, clf__max_features=1, clf__n_estimators=100 ....\n",
      "[CV]  clf__max_depth=1, clf__max_features=1, clf__n_estimators=100, total=   0.3s\n",
      "[CV] clf__max_depth=1, clf__max_features=1, clf__n_estimators=100 ....\n",
      "[CV]  clf__max_depth=1, clf__max_features=1, clf__n_estimators=100, total=   0.1s\n",
      "[CV] clf__max_depth=1, clf__max_features=1, clf__n_estimators=120 ....\n",
      "[CV]  clf__max_depth=1, clf__max_features=1, clf__n_estimators=120, total=   0.3s\n",
      "[CV] clf__max_depth=1, clf__max_features=1, clf__n_estimators=120 ....\n",
      "[CV]  clf__max_depth=1, clf__max_features=1, clf__n_estimators=120, total=   0.2s\n",
      "[CV] clf__max_depth=1, clf__max_features=1, clf__n_estimators=120 ....\n",
      "[CV]  clf__max_depth=1, clf__max_features=1, clf__n_estimators=120, total=   0.2s\n",
      "[CV] clf__max_depth=1, clf__max_features=1, clf__n_estimators=130 ....\n",
      "[CV]  clf__max_depth=1, clf__max_features=1, clf__n_estimators=130, total=   0.2s\n",
      "[CV] clf__max_depth=1, clf__max_features=1, clf__n_estimators=130 ....\n",
      "[CV]  clf__max_depth=1, clf__max_features=1, clf__n_estimators=130, total=   0.2s\n",
      "[CV] clf__max_depth=1, clf__max_features=1, clf__n_estimators=130 ....\n",
      "[CV]  clf__max_depth=1, clf__max_features=1, clf__n_estimators=130, total=   0.2s\n",
      "[CV] clf__max_depth=1, clf__max_features=1, clf__n_estimators=140 ....\n",
      "[CV]  clf__max_depth=1, clf__max_features=1, clf__n_estimators=140, total=   0.2s\n",
      "[CV] clf__max_depth=1, clf__max_features=1, clf__n_estimators=140 ....\n",
      "[CV]  clf__max_depth=1, clf__max_features=1, clf__n_estimators=140, total=   0.2s\n",
      "[CV] clf__max_depth=1, clf__max_features=1, clf__n_estimators=140 ....\n",
      "[CV]  clf__max_depth=1, clf__max_features=1, clf__n_estimators=140, total=   0.2s\n",
      "[CV] clf__max_depth=1, clf__max_features=1, clf__n_estimators=150 ....\n",
      "[CV]  clf__max_depth=1, clf__max_features=1, clf__n_estimators=150, total=   0.2s\n",
      "[CV] clf__max_depth=1, clf__max_features=1, clf__n_estimators=150 ....\n",
      "[CV]  clf__max_depth=1, clf__max_features=1, clf__n_estimators=150, total=   0.2s\n",
      "[CV] clf__max_depth=1, clf__max_features=1, clf__n_estimators=150 ....\n",
      "[CV]  clf__max_depth=1, clf__max_features=1, clf__n_estimators=150, total=   0.2s\n",
      "[CV] clf__max_depth=1, clf__max_features=1, clf__n_estimators=200 ....\n",
      "[CV]  clf__max_depth=1, clf__max_features=1, clf__n_estimators=200, total=   0.3s\n",
      "[CV] clf__max_depth=1, clf__max_features=1, clf__n_estimators=200 ....\n",
      "[CV]  clf__max_depth=1, clf__max_features=1, clf__n_estimators=200, total=   0.3s\n",
      "[CV] clf__max_depth=1, clf__max_features=1, clf__n_estimators=200 ....\n",
      "[CV]  clf__max_depth=1, clf__max_features=1, clf__n_estimators=200, total=   0.3s\n",
      "[CV] clf__max_depth=1, clf__max_features=2, clf__n_estimators=10 .....\n",
      "[CV]  clf__max_depth=1, clf__max_features=2, clf__n_estimators=10, total=   0.0s\n",
      "[CV] clf__max_depth=1, clf__max_features=2, clf__n_estimators=10 .....\n",
      "[CV]  clf__max_depth=1, clf__max_features=2, clf__n_estimators=10, total=   0.0s\n",
      "[CV] clf__max_depth=1, clf__max_features=2, clf__n_estimators=10 .....\n",
      "[CV]  clf__max_depth=1, clf__max_features=2, clf__n_estimators=10, total=   0.0s\n",
      "[CV] clf__max_depth=1, clf__max_features=2, clf__n_estimators=20 .....\n",
      "[CV]  clf__max_depth=1, clf__max_features=2, clf__n_estimators=20, total=   0.0s\n",
      "[CV] clf__max_depth=1, clf__max_features=2, clf__n_estimators=20 .....\n",
      "[CV]  clf__max_depth=1, clf__max_features=2, clf__n_estimators=20, total=   0.0s\n",
      "[CV] clf__max_depth=1, clf__max_features=2, clf__n_estimators=20 .....\n",
      "[CV]  clf__max_depth=1, clf__max_features=2, clf__n_estimators=20, total=   0.0s\n",
      "[CV] clf__max_depth=1, clf__max_features=2, clf__n_estimators=50 .....\n",
      "[CV]  clf__max_depth=1, clf__max_features=2, clf__n_estimators=50, total=   0.1s\n",
      "[CV] clf__max_depth=1, clf__max_features=2, clf__n_estimators=50 .....\n",
      "[CV]  clf__max_depth=1, clf__max_features=2, clf__n_estimators=50, total=   0.1s\n",
      "[CV] clf__max_depth=1, clf__max_features=2, clf__n_estimators=50 .....\n",
      "[CV]  clf__max_depth=1, clf__max_features=2, clf__n_estimators=50, total=   0.1s\n",
      "[CV] clf__max_depth=1, clf__max_features=2, clf__n_estimators=70 .....\n",
      "[CV]  clf__max_depth=1, clf__max_features=2, clf__n_estimators=70, total=   0.1s\n",
      "[CV] clf__max_depth=1, clf__max_features=2, clf__n_estimators=70 .....\n",
      "[CV]  clf__max_depth=1, clf__max_features=2, clf__n_estimators=70, total=   0.1s\n",
      "[CV] clf__max_depth=1, clf__max_features=2, clf__n_estimators=70 .....\n",
      "[CV]  clf__max_depth=1, clf__max_features=2, clf__n_estimators=70, total=   0.1s\n",
      "[CV] clf__max_depth=1, clf__max_features=2, clf__n_estimators=100 ....\n",
      "[CV]  clf__max_depth=1, clf__max_features=2, clf__n_estimators=100, total=   0.2s\n",
      "[CV] clf__max_depth=1, clf__max_features=2, clf__n_estimators=100 ....\n",
      "[CV]  clf__max_depth=1, clf__max_features=2, clf__n_estimators=100, total=   0.2s\n",
      "[CV] clf__max_depth=1, clf__max_features=2, clf__n_estimators=100 ....\n",
      "[CV]  clf__max_depth=1, clf__max_features=2, clf__n_estimators=100, total=   0.1s\n",
      "[CV] clf__max_depth=1, clf__max_features=2, clf__n_estimators=120 ....\n",
      "[CV]  clf__max_depth=1, clf__max_features=2, clf__n_estimators=120, total=   0.2s\n",
      "[CV] clf__max_depth=1, clf__max_features=2, clf__n_estimators=120 ....\n",
      "[CV]  clf__max_depth=1, clf__max_features=2, clf__n_estimators=120, total=   0.2s\n",
      "[CV] clf__max_depth=1, clf__max_features=2, clf__n_estimators=120 ....\n",
      "[CV]  clf__max_depth=1, clf__max_features=2, clf__n_estimators=120, total=   0.2s\n",
      "[CV] clf__max_depth=1, clf__max_features=2, clf__n_estimators=130 ....\n",
      "[CV]  clf__max_depth=1, clf__max_features=2, clf__n_estimators=130, total=   0.2s\n",
      "[CV] clf__max_depth=1, clf__max_features=2, clf__n_estimators=130 ....\n",
      "[CV]  clf__max_depth=1, clf__max_features=2, clf__n_estimators=130, total=   0.2s\n",
      "[CV] clf__max_depth=1, clf__max_features=2, clf__n_estimators=130 ....\n",
      "[CV]  clf__max_depth=1, clf__max_features=2, clf__n_estimators=130, total=   0.2s\n",
      "[CV] clf__max_depth=1, clf__max_features=2, clf__n_estimators=140 ....\n",
      "[CV]  clf__max_depth=1, clf__max_features=2, clf__n_estimators=140, total=   0.2s\n",
      "[CV] clf__max_depth=1, clf__max_features=2, clf__n_estimators=140 ....\n",
      "[CV]  clf__max_depth=1, clf__max_features=2, clf__n_estimators=140, total=   0.2s\n",
      "[CV] clf__max_depth=1, clf__max_features=2, clf__n_estimators=140 ....\n",
      "[CV]  clf__max_depth=1, clf__max_features=2, clf__n_estimators=140, total=   0.2s\n",
      "[CV] clf__max_depth=1, clf__max_features=2, clf__n_estimators=150 ....\n",
      "[CV]  clf__max_depth=1, clf__max_features=2, clf__n_estimators=150, total=   0.2s\n",
      "[CV] clf__max_depth=1, clf__max_features=2, clf__n_estimators=150 ....\n",
      "[CV]  clf__max_depth=1, clf__max_features=2, clf__n_estimators=150, total=   0.2s\n",
      "[CV] clf__max_depth=1, clf__max_features=2, clf__n_estimators=150 ....\n",
      "[CV]  clf__max_depth=1, clf__max_features=2, clf__n_estimators=150, total=   0.2s\n",
      "[CV] clf__max_depth=1, clf__max_features=2, clf__n_estimators=200 ....\n",
      "[CV]  clf__max_depth=1, clf__max_features=2, clf__n_estimators=200, total=   0.3s\n",
      "[CV] clf__max_depth=1, clf__max_features=2, clf__n_estimators=200 ....\n",
      "[CV]  clf__max_depth=1, clf__max_features=2, clf__n_estimators=200, total=   0.5s\n",
      "[CV] clf__max_depth=1, clf__max_features=2, clf__n_estimators=200 ....\n",
      "[CV]  clf__max_depth=1, clf__max_features=2, clf__n_estimators=200, total=   0.7s\n",
      "[CV] clf__max_depth=1, clf__max_features=3, clf__n_estimators=10 .....\n",
      "[CV]  clf__max_depth=1, clf__max_features=3, clf__n_estimators=10, total=   0.0s\n",
      "[CV] clf__max_depth=1, clf__max_features=3, clf__n_estimators=10 .....\n",
      "[CV]  clf__max_depth=1, clf__max_features=3, clf__n_estimators=10, total=   0.0s\n",
      "[CV] clf__max_depth=1, clf__max_features=3, clf__n_estimators=10 .....\n",
      "[CV]  clf__max_depth=1, clf__max_features=3, clf__n_estimators=10, total=   0.0s\n",
      "[CV] clf__max_depth=1, clf__max_features=3, clf__n_estimators=20 .....\n",
      "[CV]  clf__max_depth=1, clf__max_features=3, clf__n_estimators=20, total=   0.0s\n",
      "[CV] clf__max_depth=1, clf__max_features=3, clf__n_estimators=20 .....\n",
      "[CV]  clf__max_depth=1, clf__max_features=3, clf__n_estimators=20, total=   0.0s\n",
      "[CV] clf__max_depth=1, clf__max_features=3, clf__n_estimators=20 .....\n",
      "[CV]  clf__max_depth=1, clf__max_features=3, clf__n_estimators=20, total=   0.0s\n",
      "[CV] clf__max_depth=1, clf__max_features=3, clf__n_estimators=50 .....\n",
      "[CV]  clf__max_depth=1, clf__max_features=3, clf__n_estimators=50, total=   0.1s\n",
      "[CV] clf__max_depth=1, clf__max_features=3, clf__n_estimators=50 .....\n",
      "[CV]  clf__max_depth=1, clf__max_features=3, clf__n_estimators=50, total=   0.1s\n",
      "[CV] clf__max_depth=1, clf__max_features=3, clf__n_estimators=50 .....\n",
      "[CV]  clf__max_depth=1, clf__max_features=3, clf__n_estimators=50, total=   0.1s\n",
      "[CV] clf__max_depth=1, clf__max_features=3, clf__n_estimators=70 .....\n",
      "[CV]  clf__max_depth=1, clf__max_features=3, clf__n_estimators=70, total=   0.1s\n",
      "[CV] clf__max_depth=1, clf__max_features=3, clf__n_estimators=70 .....\n",
      "[CV]  clf__max_depth=1, clf__max_features=3, clf__n_estimators=70, total=   0.2s\n",
      "[CV] clf__max_depth=1, clf__max_features=3, clf__n_estimators=70 .....\n",
      "[CV]  clf__max_depth=1, clf__max_features=3, clf__n_estimators=70, total=   0.2s\n",
      "[CV] clf__max_depth=1, clf__max_features=3, clf__n_estimators=100 ....\n",
      "[CV]  clf__max_depth=1, clf__max_features=3, clf__n_estimators=100, total=   0.2s\n",
      "[CV] clf__max_depth=1, clf__max_features=3, clf__n_estimators=100 ....\n",
      "[CV]  clf__max_depth=1, clf__max_features=3, clf__n_estimators=100, total=   0.2s\n",
      "[CV] clf__max_depth=1, clf__max_features=3, clf__n_estimators=100 ....\n",
      "[CV]  clf__max_depth=1, clf__max_features=3, clf__n_estimators=100, total=   0.2s\n",
      "[CV] clf__max_depth=1, clf__max_features=3, clf__n_estimators=120 ....\n",
      "[CV]  clf__max_depth=1, clf__max_features=3, clf__n_estimators=120, total=   0.2s\n",
      "[CV] clf__max_depth=1, clf__max_features=3, clf__n_estimators=120 ....\n",
      "[CV]  clf__max_depth=1, clf__max_features=3, clf__n_estimators=120, total=   0.2s\n",
      "[CV] clf__max_depth=1, clf__max_features=3, clf__n_estimators=120 ....\n",
      "[CV]  clf__max_depth=1, clf__max_features=3, clf__n_estimators=120, total=   0.3s\n",
      "[CV] clf__max_depth=1, clf__max_features=3, clf__n_estimators=130 ....\n",
      "[CV]  clf__max_depth=1, clf__max_features=3, clf__n_estimators=130, total=   0.2s\n",
      "[CV] clf__max_depth=1, clf__max_features=3, clf__n_estimators=130 ....\n",
      "[CV]  clf__max_depth=1, clf__max_features=3, clf__n_estimators=130, total=   0.2s\n",
      "[CV] clf__max_depth=1, clf__max_features=3, clf__n_estimators=130 ....\n",
      "[CV]  clf__max_depth=1, clf__max_features=3, clf__n_estimators=130, total=   0.2s\n",
      "[CV] clf__max_depth=1, clf__max_features=3, clf__n_estimators=140 ....\n",
      "[CV]  clf__max_depth=1, clf__max_features=3, clf__n_estimators=140, total=   0.2s\n",
      "[CV] clf__max_depth=1, clf__max_features=3, clf__n_estimators=140 ....\n",
      "[CV]  clf__max_depth=1, clf__max_features=3, clf__n_estimators=140, total=   0.3s\n",
      "[CV] clf__max_depth=1, clf__max_features=3, clf__n_estimators=140 ....\n",
      "[CV]  clf__max_depth=1, clf__max_features=3, clf__n_estimators=140, total=   0.3s\n",
      "[CV] clf__max_depth=1, clf__max_features=3, clf__n_estimators=150 ....\n",
      "[CV]  clf__max_depth=1, clf__max_features=3, clf__n_estimators=150, total=   0.3s\n",
      "[CV] clf__max_depth=1, clf__max_features=3, clf__n_estimators=150 ....\n",
      "[CV]  clf__max_depth=1, clf__max_features=3, clf__n_estimators=150, total=   0.2s\n",
      "[CV] clf__max_depth=1, clf__max_features=3, clf__n_estimators=150 ....\n",
      "[CV]  clf__max_depth=1, clf__max_features=3, clf__n_estimators=150, total=   0.3s\n",
      "[CV] clf__max_depth=1, clf__max_features=3, clf__n_estimators=200 ....\n",
      "[CV]  clf__max_depth=1, clf__max_features=3, clf__n_estimators=200, total=   0.3s\n",
      "[CV] clf__max_depth=1, clf__max_features=3, clf__n_estimators=200 ....\n",
      "[CV]  clf__max_depth=1, clf__max_features=3, clf__n_estimators=200, total=   0.3s\n",
      "[CV] clf__max_depth=1, clf__max_features=3, clf__n_estimators=200 ....\n",
      "[CV]  clf__max_depth=1, clf__max_features=3, clf__n_estimators=200, total=   0.3s\n",
      "[CV] clf__max_depth=2, clf__max_features=None, clf__n_estimators=10 ..\n",
      "[CV]  clf__max_depth=2, clf__max_features=None, clf__n_estimators=10, total=   0.0s\n",
      "[CV] clf__max_depth=2, clf__max_features=None, clf__n_estimators=10 ..\n",
      "[CV]  clf__max_depth=2, clf__max_features=None, clf__n_estimators=10, total=   0.0s\n",
      "[CV] clf__max_depth=2, clf__max_features=None, clf__n_estimators=10 ..\n",
      "[CV]  clf__max_depth=2, clf__max_features=None, clf__n_estimators=10, total=   0.0s\n",
      "[CV] clf__max_depth=2, clf__max_features=None, clf__n_estimators=20 ..\n",
      "[CV]  clf__max_depth=2, clf__max_features=None, clf__n_estimators=20, total=   0.0s\n",
      "[CV] clf__max_depth=2, clf__max_features=None, clf__n_estimators=20 ..\n",
      "[CV]  clf__max_depth=2, clf__max_features=None, clf__n_estimators=20, total=   0.0s\n",
      "[CV] clf__max_depth=2, clf__max_features=None, clf__n_estimators=20 ..\n",
      "[CV]  clf__max_depth=2, clf__max_features=None, clf__n_estimators=20, total=   0.1s\n",
      "[CV] clf__max_depth=2, clf__max_features=None, clf__n_estimators=50 ..\n",
      "[CV]  clf__max_depth=2, clf__max_features=None, clf__n_estimators=50, total=   0.1s\n",
      "[CV] clf__max_depth=2, clf__max_features=None, clf__n_estimators=50 ..\n",
      "[CV]  clf__max_depth=2, clf__max_features=None, clf__n_estimators=50, total=   0.1s\n",
      "[CV] clf__max_depth=2, clf__max_features=None, clf__n_estimators=50 ..\n",
      "[CV]  clf__max_depth=2, clf__max_features=None, clf__n_estimators=50, total=   0.1s\n",
      "[CV] clf__max_depth=2, clf__max_features=None, clf__n_estimators=70 ..\n",
      "[CV]  clf__max_depth=2, clf__max_features=None, clf__n_estimators=70, total=   0.2s\n",
      "[CV] clf__max_depth=2, clf__max_features=None, clf__n_estimators=70 ..\n",
      "[CV]  clf__max_depth=2, clf__max_features=None, clf__n_estimators=70, total=   0.2s\n",
      "[CV] clf__max_depth=2, clf__max_features=None, clf__n_estimators=70 ..\n",
      "[CV]  clf__max_depth=2, clf__max_features=None, clf__n_estimators=70, total=   0.2s\n",
      "[CV] clf__max_depth=2, clf__max_features=None, clf__n_estimators=100 .\n",
      "[CV]  clf__max_depth=2, clf__max_features=None, clf__n_estimators=100, total=   0.2s\n",
      "[CV] clf__max_depth=2, clf__max_features=None, clf__n_estimators=100 .\n",
      "[CV]  clf__max_depth=2, clf__max_features=None, clf__n_estimators=100, total=   0.2s\n",
      "[CV] clf__max_depth=2, clf__max_features=None, clf__n_estimators=100 .\n",
      "[CV]  clf__max_depth=2, clf__max_features=None, clf__n_estimators=100, total=   0.3s\n",
      "[CV] clf__max_depth=2, clf__max_features=None, clf__n_estimators=120 .\n",
      "[CV]  clf__max_depth=2, clf__max_features=None, clf__n_estimators=120, total=   0.4s\n",
      "[CV] clf__max_depth=2, clf__max_features=None, clf__n_estimators=120 .\n",
      "[CV]  clf__max_depth=2, clf__max_features=None, clf__n_estimators=120, total=   0.4s\n",
      "[CV] clf__max_depth=2, clf__max_features=None, clf__n_estimators=120 .\n",
      "[CV]  clf__max_depth=2, clf__max_features=None, clf__n_estimators=120, total=   0.3s\n",
      "[CV] clf__max_depth=2, clf__max_features=None, clf__n_estimators=130 .\n",
      "[CV]  clf__max_depth=2, clf__max_features=None, clf__n_estimators=130, total=   0.3s\n",
      "[CV] clf__max_depth=2, clf__max_features=None, clf__n_estimators=130 .\n",
      "[CV]  clf__max_depth=2, clf__max_features=None, clf__n_estimators=130, total=   0.4s\n",
      "[CV] clf__max_depth=2, clf__max_features=None, clf__n_estimators=130 .\n",
      "[CV]  clf__max_depth=2, clf__max_features=None, clf__n_estimators=130, total=   0.3s\n",
      "[CV] clf__max_depth=2, clf__max_features=None, clf__n_estimators=140 .\n",
      "[CV]  clf__max_depth=2, clf__max_features=None, clf__n_estimators=140, total=   0.3s\n",
      "[CV] clf__max_depth=2, clf__max_features=None, clf__n_estimators=140 .\n",
      "[CV]  clf__max_depth=2, clf__max_features=None, clf__n_estimators=140, total=   0.3s\n",
      "[CV] clf__max_depth=2, clf__max_features=None, clf__n_estimators=140 .\n",
      "[CV]  clf__max_depth=2, clf__max_features=None, clf__n_estimators=140, total=   0.3s\n",
      "[CV] clf__max_depth=2, clf__max_features=None, clf__n_estimators=150 .\n",
      "[CV]  clf__max_depth=2, clf__max_features=None, clf__n_estimators=150, total=   0.3s\n",
      "[CV] clf__max_depth=2, clf__max_features=None, clf__n_estimators=150 .\n",
      "[CV]  clf__max_depth=2, clf__max_features=None, clf__n_estimators=150, total=   0.3s\n",
      "[CV] clf__max_depth=2, clf__max_features=None, clf__n_estimators=150 .\n",
      "[CV]  clf__max_depth=2, clf__max_features=None, clf__n_estimators=150, total=   0.3s\n",
      "[CV] clf__max_depth=2, clf__max_features=None, clf__n_estimators=200 .\n",
      "[CV]  clf__max_depth=2, clf__max_features=None, clf__n_estimators=200, total=   0.4s\n",
      "[CV] clf__max_depth=2, clf__max_features=None, clf__n_estimators=200 .\n",
      "[CV]  clf__max_depth=2, clf__max_features=None, clf__n_estimators=200, total=   0.5s\n",
      "[CV] clf__max_depth=2, clf__max_features=None, clf__n_estimators=200 .\n",
      "[CV]  clf__max_depth=2, clf__max_features=None, clf__n_estimators=200, total=   0.5s\n",
      "[CV] clf__max_depth=2, clf__max_features=1, clf__n_estimators=10 .....\n",
      "[CV]  clf__max_depth=2, clf__max_features=1, clf__n_estimators=10, total=   0.0s\n",
      "[CV] clf__max_depth=2, clf__max_features=1, clf__n_estimators=10 .....\n",
      "[CV]  clf__max_depth=2, clf__max_features=1, clf__n_estimators=10, total=   0.0s\n",
      "[CV] clf__max_depth=2, clf__max_features=1, clf__n_estimators=10 .....\n",
      "[CV]  clf__max_depth=2, clf__max_features=1, clf__n_estimators=10, total=   0.0s\n",
      "[CV] clf__max_depth=2, clf__max_features=1, clf__n_estimators=20 .....\n",
      "[CV]  clf__max_depth=2, clf__max_features=1, clf__n_estimators=20, total=   0.0s\n",
      "[CV] clf__max_depth=2, clf__max_features=1, clf__n_estimators=20 .....\n",
      "[CV]  clf__max_depth=2, clf__max_features=1, clf__n_estimators=20, total=   0.0s\n",
      "[CV] clf__max_depth=2, clf__max_features=1, clf__n_estimators=20 .....\n",
      "[CV]  clf__max_depth=2, clf__max_features=1, clf__n_estimators=20, total=   0.0s\n",
      "[CV] clf__max_depth=2, clf__max_features=1, clf__n_estimators=50 .....\n",
      "[CV]  clf__max_depth=2, clf__max_features=1, clf__n_estimators=50, total=   0.1s\n",
      "[CV] clf__max_depth=2, clf__max_features=1, clf__n_estimators=50 .....\n",
      "[CV]  clf__max_depth=2, clf__max_features=1, clf__n_estimators=50, total=   0.1s\n",
      "[CV] clf__max_depth=2, clf__max_features=1, clf__n_estimators=50 .....\n",
      "[CV]  clf__max_depth=2, clf__max_features=1, clf__n_estimators=50, total=   0.1s\n",
      "[CV] clf__max_depth=2, clf__max_features=1, clf__n_estimators=70 .....\n",
      "[CV]  clf__max_depth=2, clf__max_features=1, clf__n_estimators=70, total=   0.1s\n",
      "[CV] clf__max_depth=2, clf__max_features=1, clf__n_estimators=70 .....\n",
      "[CV]  clf__max_depth=2, clf__max_features=1, clf__n_estimators=70, total=   0.1s\n",
      "[CV] clf__max_depth=2, clf__max_features=1, clf__n_estimators=70 .....\n",
      "[CV]  clf__max_depth=2, clf__max_features=1, clf__n_estimators=70, total=   0.1s\n",
      "[CV] clf__max_depth=2, clf__max_features=1, clf__n_estimators=100 ....\n",
      "[CV]  clf__max_depth=2, clf__max_features=1, clf__n_estimators=100, total=   0.2s\n",
      "[CV] clf__max_depth=2, clf__max_features=1, clf__n_estimators=100 ....\n",
      "[CV]  clf__max_depth=2, clf__max_features=1, clf__n_estimators=100, total=   0.3s\n",
      "[CV] clf__max_depth=2, clf__max_features=1, clf__n_estimators=100 ....\n",
      "[CV]  clf__max_depth=2, clf__max_features=1, clf__n_estimators=100, total=   0.2s\n",
      "[CV] clf__max_depth=2, clf__max_features=1, clf__n_estimators=120 ....\n",
      "[CV]  clf__max_depth=2, clf__max_features=1, clf__n_estimators=120, total=   0.2s\n",
      "[CV] clf__max_depth=2, clf__max_features=1, clf__n_estimators=120 ....\n",
      "[CV]  clf__max_depth=2, clf__max_features=1, clf__n_estimators=120, total=   0.2s\n",
      "[CV] clf__max_depth=2, clf__max_features=1, clf__n_estimators=120 ....\n",
      "[CV]  clf__max_depth=2, clf__max_features=1, clf__n_estimators=120, total=   0.2s\n",
      "[CV] clf__max_depth=2, clf__max_features=1, clf__n_estimators=130 ....\n",
      "[CV]  clf__max_depth=2, clf__max_features=1, clf__n_estimators=130, total=   0.2s\n",
      "[CV] clf__max_depth=2, clf__max_features=1, clf__n_estimators=130 ....\n",
      "[CV]  clf__max_depth=2, clf__max_features=1, clf__n_estimators=130, total=   0.2s\n",
      "[CV] clf__max_depth=2, clf__max_features=1, clf__n_estimators=130 ....\n",
      "[CV]  clf__max_depth=2, clf__max_features=1, clf__n_estimators=130, total=   0.2s\n",
      "[CV] clf__max_depth=2, clf__max_features=1, clf__n_estimators=140 ....\n",
      "[CV]  clf__max_depth=2, clf__max_features=1, clf__n_estimators=140, total=   0.2s\n",
      "[CV] clf__max_depth=2, clf__max_features=1, clf__n_estimators=140 ....\n",
      "[CV]  clf__max_depth=2, clf__max_features=1, clf__n_estimators=140, total=   0.2s\n",
      "[CV] clf__max_depth=2, clf__max_features=1, clf__n_estimators=140 ....\n",
      "[CV]  clf__max_depth=2, clf__max_features=1, clf__n_estimators=140, total=   0.2s\n",
      "[CV] clf__max_depth=2, clf__max_features=1, clf__n_estimators=150 ....\n",
      "[CV]  clf__max_depth=2, clf__max_features=1, clf__n_estimators=150, total=   0.2s\n",
      "[CV] clf__max_depth=2, clf__max_features=1, clf__n_estimators=150 ....\n",
      "[CV]  clf__max_depth=2, clf__max_features=1, clf__n_estimators=150, total=   0.2s\n",
      "[CV] clf__max_depth=2, clf__max_features=1, clf__n_estimators=150 ....\n",
      "[CV]  clf__max_depth=2, clf__max_features=1, clf__n_estimators=150, total=   0.2s\n",
      "[CV] clf__max_depth=2, clf__max_features=1, clf__n_estimators=200 ....\n",
      "[CV]  clf__max_depth=2, clf__max_features=1, clf__n_estimators=200, total=   0.3s\n",
      "[CV] clf__max_depth=2, clf__max_features=1, clf__n_estimators=200 ....\n",
      "[CV]  clf__max_depth=2, clf__max_features=1, clf__n_estimators=200, total=   0.3s\n",
      "[CV] clf__max_depth=2, clf__max_features=1, clf__n_estimators=200 ....\n",
      "[CV]  clf__max_depth=2, clf__max_features=1, clf__n_estimators=200, total=   0.3s\n",
      "[CV] clf__max_depth=2, clf__max_features=2, clf__n_estimators=10 .....\n",
      "[CV]  clf__max_depth=2, clf__max_features=2, clf__n_estimators=10, total=   0.0s\n",
      "[CV] clf__max_depth=2, clf__max_features=2, clf__n_estimators=10 .....\n",
      "[CV]  clf__max_depth=2, clf__max_features=2, clf__n_estimators=10, total=   0.0s\n",
      "[CV] clf__max_depth=2, clf__max_features=2, clf__n_estimators=10 .....\n",
      "[CV]  clf__max_depth=2, clf__max_features=2, clf__n_estimators=10, total=   0.0s\n",
      "[CV] clf__max_depth=2, clf__max_features=2, clf__n_estimators=20 .....\n",
      "[CV]  clf__max_depth=2, clf__max_features=2, clf__n_estimators=20, total=   0.0s\n",
      "[CV] clf__max_depth=2, clf__max_features=2, clf__n_estimators=20 .....\n",
      "[CV]  clf__max_depth=2, clf__max_features=2, clf__n_estimators=20, total=   0.0s\n",
      "[CV] clf__max_depth=2, clf__max_features=2, clf__n_estimators=20 .....\n",
      "[CV]  clf__max_depth=2, clf__max_features=2, clf__n_estimators=20, total=   0.0s\n",
      "[CV] clf__max_depth=2, clf__max_features=2, clf__n_estimators=50 .....\n",
      "[CV]  clf__max_depth=2, clf__max_features=2, clf__n_estimators=50, total=   0.1s\n",
      "[CV] clf__max_depth=2, clf__max_features=2, clf__n_estimators=50 .....\n",
      "[CV]  clf__max_depth=2, clf__max_features=2, clf__n_estimators=50, total=   0.1s\n",
      "[CV] clf__max_depth=2, clf__max_features=2, clf__n_estimators=50 .....\n",
      "[CV]  clf__max_depth=2, clf__max_features=2, clf__n_estimators=50, total=   0.1s\n",
      "[CV] clf__max_depth=2, clf__max_features=2, clf__n_estimators=70 .....\n",
      "[CV]  clf__max_depth=2, clf__max_features=2, clf__n_estimators=70, total=   0.1s\n",
      "[CV] clf__max_depth=2, clf__max_features=2, clf__n_estimators=70 .....\n",
      "[CV]  clf__max_depth=2, clf__max_features=2, clf__n_estimators=70, total=   0.1s\n",
      "[CV] clf__max_depth=2, clf__max_features=2, clf__n_estimators=70 .....\n",
      "[CV]  clf__max_depth=2, clf__max_features=2, clf__n_estimators=70, total=   0.1s\n",
      "[CV] clf__max_depth=2, clf__max_features=2, clf__n_estimators=100 ....\n",
      "[CV]  clf__max_depth=2, clf__max_features=2, clf__n_estimators=100, total=   0.2s\n",
      "[CV] clf__max_depth=2, clf__max_features=2, clf__n_estimators=100 ....\n",
      "[CV]  clf__max_depth=2, clf__max_features=2, clf__n_estimators=100, total=   0.2s\n",
      "[CV] clf__max_depth=2, clf__max_features=2, clf__n_estimators=100 ....\n",
      "[CV]  clf__max_depth=2, clf__max_features=2, clf__n_estimators=100, total=   0.2s\n",
      "[CV] clf__max_depth=2, clf__max_features=2, clf__n_estimators=120 ....\n",
      "[CV]  clf__max_depth=2, clf__max_features=2, clf__n_estimators=120, total=   0.2s\n",
      "[CV] clf__max_depth=2, clf__max_features=2, clf__n_estimators=120 ....\n",
      "[CV]  clf__max_depth=2, clf__max_features=2, clf__n_estimators=120, total=   0.2s\n",
      "[CV] clf__max_depth=2, clf__max_features=2, clf__n_estimators=120 ....\n",
      "[CV]  clf__max_depth=2, clf__max_features=2, clf__n_estimators=120, total=   0.2s\n",
      "[CV] clf__max_depth=2, clf__max_features=2, clf__n_estimators=130 ....\n",
      "[CV]  clf__max_depth=2, clf__max_features=2, clf__n_estimators=130, total=   0.2s\n",
      "[CV] clf__max_depth=2, clf__max_features=2, clf__n_estimators=130 ....\n",
      "[CV]  clf__max_depth=2, clf__max_features=2, clf__n_estimators=130, total=   0.2s\n",
      "[CV] clf__max_depth=2, clf__max_features=2, clf__n_estimators=130 ....\n",
      "[CV]  clf__max_depth=2, clf__max_features=2, clf__n_estimators=130, total=   0.2s\n",
      "[CV] clf__max_depth=2, clf__max_features=2, clf__n_estimators=140 ....\n",
      "[CV]  clf__max_depth=2, clf__max_features=2, clf__n_estimators=140, total=   0.2s\n",
      "[CV] clf__max_depth=2, clf__max_features=2, clf__n_estimators=140 ....\n",
      "[CV]  clf__max_depth=2, clf__max_features=2, clf__n_estimators=140, total=   0.2s\n",
      "[CV] clf__max_depth=2, clf__max_features=2, clf__n_estimators=140 ....\n",
      "[CV]  clf__max_depth=2, clf__max_features=2, clf__n_estimators=140, total=   0.2s\n",
      "[CV] clf__max_depth=2, clf__max_features=2, clf__n_estimators=150 ....\n",
      "[CV]  clf__max_depth=2, clf__max_features=2, clf__n_estimators=150, total=   0.3s\n",
      "[CV] clf__max_depth=2, clf__max_features=2, clf__n_estimators=150 ....\n",
      "[CV]  clf__max_depth=2, clf__max_features=2, clf__n_estimators=150, total=   0.3s\n",
      "[CV] clf__max_depth=2, clf__max_features=2, clf__n_estimators=150 ....\n",
      "[CV]  clf__max_depth=2, clf__max_features=2, clf__n_estimators=150, total=   0.3s\n",
      "[CV] clf__max_depth=2, clf__max_features=2, clf__n_estimators=200 ....\n",
      "[CV]  clf__max_depth=2, clf__max_features=2, clf__n_estimators=200, total=   0.3s\n",
      "[CV] clf__max_depth=2, clf__max_features=2, clf__n_estimators=200 ....\n",
      "[CV]  clf__max_depth=2, clf__max_features=2, clf__n_estimators=200, total=   0.3s\n",
      "[CV] clf__max_depth=2, clf__max_features=2, clf__n_estimators=200 ....\n",
      "[CV]  clf__max_depth=2, clf__max_features=2, clf__n_estimators=200, total=   0.3s\n",
      "[CV] clf__max_depth=2, clf__max_features=3, clf__n_estimators=10 .....\n",
      "[CV]  clf__max_depth=2, clf__max_features=3, clf__n_estimators=10, total=   0.0s\n",
      "[CV] clf__max_depth=2, clf__max_features=3, clf__n_estimators=10 .....\n",
      "[CV]  clf__max_depth=2, clf__max_features=3, clf__n_estimators=10, total=   0.0s\n",
      "[CV] clf__max_depth=2, clf__max_features=3, clf__n_estimators=10 .....\n",
      "[CV]  clf__max_depth=2, clf__max_features=3, clf__n_estimators=10, total=   0.0s\n",
      "[CV] clf__max_depth=2, clf__max_features=3, clf__n_estimators=20 .....\n",
      "[CV]  clf__max_depth=2, clf__max_features=3, clf__n_estimators=20, total=   0.0s\n",
      "[CV] clf__max_depth=2, clf__max_features=3, clf__n_estimators=20 .....\n",
      "[CV]  clf__max_depth=2, clf__max_features=3, clf__n_estimators=20, total=   0.0s\n",
      "[CV] clf__max_depth=2, clf__max_features=3, clf__n_estimators=20 .....\n",
      "[CV]  clf__max_depth=2, clf__max_features=3, clf__n_estimators=20, total=   0.0s\n",
      "[CV] clf__max_depth=2, clf__max_features=3, clf__n_estimators=50 .....\n",
      "[CV]  clf__max_depth=2, clf__max_features=3, clf__n_estimators=50, total=   0.1s\n",
      "[CV] clf__max_depth=2, clf__max_features=3, clf__n_estimators=50 .....\n",
      "[CV]  clf__max_depth=2, clf__max_features=3, clf__n_estimators=50, total=   0.1s\n",
      "[CV] clf__max_depth=2, clf__max_features=3, clf__n_estimators=50 .....\n",
      "[CV]  clf__max_depth=2, clf__max_features=3, clf__n_estimators=50, total=   0.1s\n",
      "[CV] clf__max_depth=2, clf__max_features=3, clf__n_estimators=70 .....\n",
      "[CV]  clf__max_depth=2, clf__max_features=3, clf__n_estimators=70, total=   0.1s\n",
      "[CV] clf__max_depth=2, clf__max_features=3, clf__n_estimators=70 .....\n",
      "[CV]  clf__max_depth=2, clf__max_features=3, clf__n_estimators=70, total=   0.1s\n",
      "[CV] clf__max_depth=2, clf__max_features=3, clf__n_estimators=70 .....\n",
      "[CV]  clf__max_depth=2, clf__max_features=3, clf__n_estimators=70, total=   0.1s\n",
      "[CV] clf__max_depth=2, clf__max_features=3, clf__n_estimators=100 ....\n",
      "[CV]  clf__max_depth=2, clf__max_features=3, clf__n_estimators=100, total=   0.2s\n",
      "[CV] clf__max_depth=2, clf__max_features=3, clf__n_estimators=100 ....\n",
      "[CV]  clf__max_depth=2, clf__max_features=3, clf__n_estimators=100, total=   0.2s\n",
      "[CV] clf__max_depth=2, clf__max_features=3, clf__n_estimators=100 ....\n",
      "[CV]  clf__max_depth=2, clf__max_features=3, clf__n_estimators=100, total=   0.2s\n",
      "[CV] clf__max_depth=2, clf__max_features=3, clf__n_estimators=120 ....\n",
      "[CV]  clf__max_depth=2, clf__max_features=3, clf__n_estimators=120, total=   0.2s\n",
      "[CV] clf__max_depth=2, clf__max_features=3, clf__n_estimators=120 ....\n",
      "[CV]  clf__max_depth=2, clf__max_features=3, clf__n_estimators=120, total=   0.2s\n",
      "[CV] clf__max_depth=2, clf__max_features=3, clf__n_estimators=120 ....\n",
      "[CV]  clf__max_depth=2, clf__max_features=3, clf__n_estimators=120, total=   0.2s\n",
      "[CV] clf__max_depth=2, clf__max_features=3, clf__n_estimators=130 ....\n",
      "[CV]  clf__max_depth=2, clf__max_features=3, clf__n_estimators=130, total=   0.3s\n",
      "[CV] clf__max_depth=2, clf__max_features=3, clf__n_estimators=130 ....\n",
      "[CV]  clf__max_depth=2, clf__max_features=3, clf__n_estimators=130, total=   0.2s\n",
      "[CV] clf__max_depth=2, clf__max_features=3, clf__n_estimators=130 ....\n",
      "[CV]  clf__max_depth=2, clf__max_features=3, clf__n_estimators=130, total=   0.2s\n",
      "[CV] clf__max_depth=2, clf__max_features=3, clf__n_estimators=140 ....\n",
      "[CV]  clf__max_depth=2, clf__max_features=3, clf__n_estimators=140, total=   0.3s\n",
      "[CV] clf__max_depth=2, clf__max_features=3, clf__n_estimators=140 ....\n",
      "[CV]  clf__max_depth=2, clf__max_features=3, clf__n_estimators=140, total=   0.3s\n",
      "[CV] clf__max_depth=2, clf__max_features=3, clf__n_estimators=140 ....\n",
      "[CV]  clf__max_depth=2, clf__max_features=3, clf__n_estimators=140, total=   0.3s\n",
      "[CV] clf__max_depth=2, clf__max_features=3, clf__n_estimators=150 ....\n",
      "[CV]  clf__max_depth=2, clf__max_features=3, clf__n_estimators=150, total=   0.3s\n",
      "[CV] clf__max_depth=2, clf__max_features=3, clf__n_estimators=150 ....\n",
      "[CV]  clf__max_depth=2, clf__max_features=3, clf__n_estimators=150, total=   0.3s\n",
      "[CV] clf__max_depth=2, clf__max_features=3, clf__n_estimators=150 ....\n",
      "[CV]  clf__max_depth=2, clf__max_features=3, clf__n_estimators=150, total=   0.3s\n",
      "[CV] clf__max_depth=2, clf__max_features=3, clf__n_estimators=200 ....\n",
      "[CV]  clf__max_depth=2, clf__max_features=3, clf__n_estimators=200, total=   0.4s\n",
      "[CV] clf__max_depth=2, clf__max_features=3, clf__n_estimators=200 ....\n",
      "[CV]  clf__max_depth=2, clf__max_features=3, clf__n_estimators=200, total=   0.4s\n",
      "[CV] clf__max_depth=2, clf__max_features=3, clf__n_estimators=200 ....\n",
      "[CV]  clf__max_depth=2, clf__max_features=3, clf__n_estimators=200, total=   0.4s\n",
      "[CV] clf__max_depth=5, clf__max_features=None, clf__n_estimators=10 ..\n",
      "[CV]  clf__max_depth=5, clf__max_features=None, clf__n_estimators=10, total=   0.0s\n",
      "[CV] clf__max_depth=5, clf__max_features=None, clf__n_estimators=10 ..\n",
      "[CV]  clf__max_depth=5, clf__max_features=None, clf__n_estimators=10, total=   0.0s\n",
      "[CV] clf__max_depth=5, clf__max_features=None, clf__n_estimators=10 ..\n",
      "[CV]  clf__max_depth=5, clf__max_features=None, clf__n_estimators=10, total=   0.0s\n",
      "[CV] clf__max_depth=5, clf__max_features=None, clf__n_estimators=20 ..\n",
      "[CV]  clf__max_depth=5, clf__max_features=None, clf__n_estimators=20, total=   0.1s\n",
      "[CV] clf__max_depth=5, clf__max_features=None, clf__n_estimators=20 ..\n",
      "[CV]  clf__max_depth=5, clf__max_features=None, clf__n_estimators=20, total=   0.1s\n",
      "[CV] clf__max_depth=5, clf__max_features=None, clf__n_estimators=20 ..\n",
      "[CV]  clf__max_depth=5, clf__max_features=None, clf__n_estimators=20, total=   0.1s\n",
      "[CV] clf__max_depth=5, clf__max_features=None, clf__n_estimators=50 ..\n",
      "[CV]  clf__max_depth=5, clf__max_features=None, clf__n_estimators=50, total=   0.2s\n",
      "[CV] clf__max_depth=5, clf__max_features=None, clf__n_estimators=50 ..\n",
      "[CV]  clf__max_depth=5, clf__max_features=None, clf__n_estimators=50, total=   0.2s\n",
      "[CV] clf__max_depth=5, clf__max_features=None, clf__n_estimators=50 ..\n",
      "[CV]  clf__max_depth=5, clf__max_features=None, clf__n_estimators=50, total=   0.2s\n",
      "[CV] clf__max_depth=5, clf__max_features=None, clf__n_estimators=70 ..\n",
      "[CV]  clf__max_depth=5, clf__max_features=None, clf__n_estimators=70, total=   0.2s\n",
      "[CV] clf__max_depth=5, clf__max_features=None, clf__n_estimators=70 ..\n",
      "[CV]  clf__max_depth=5, clf__max_features=None, clf__n_estimators=70, total=   0.2s\n",
      "[CV] clf__max_depth=5, clf__max_features=None, clf__n_estimators=70 ..\n",
      "[CV]  clf__max_depth=5, clf__max_features=None, clf__n_estimators=70, total=   0.2s\n",
      "[CV] clf__max_depth=5, clf__max_features=None, clf__n_estimators=100 .\n",
      "[CV]  clf__max_depth=5, clf__max_features=None, clf__n_estimators=100, total=   0.3s\n",
      "[CV] clf__max_depth=5, clf__max_features=None, clf__n_estimators=100 .\n",
      "[CV]  clf__max_depth=5, clf__max_features=None, clf__n_estimators=100, total=   0.3s\n",
      "[CV] clf__max_depth=5, clf__max_features=None, clf__n_estimators=100 .\n",
      "[CV]  clf__max_depth=5, clf__max_features=None, clf__n_estimators=100, total=   0.3s\n",
      "[CV] clf__max_depth=5, clf__max_features=None, clf__n_estimators=120 .\n",
      "[CV]  clf__max_depth=5, clf__max_features=None, clf__n_estimators=120, total=   0.4s\n",
      "[CV] clf__max_depth=5, clf__max_features=None, clf__n_estimators=120 .\n",
      "[CV]  clf__max_depth=5, clf__max_features=None, clf__n_estimators=120, total=   0.4s\n",
      "[CV] clf__max_depth=5, clf__max_features=None, clf__n_estimators=120 .\n",
      "[CV]  clf__max_depth=5, clf__max_features=None, clf__n_estimators=120, total=   0.4s\n",
      "[CV] clf__max_depth=5, clf__max_features=None, clf__n_estimators=130 .\n",
      "[CV]  clf__max_depth=5, clf__max_features=None, clf__n_estimators=130, total=   0.4s\n",
      "[CV] clf__max_depth=5, clf__max_features=None, clf__n_estimators=130 .\n",
      "[CV]  clf__max_depth=5, clf__max_features=None, clf__n_estimators=130, total=   0.4s\n",
      "[CV] clf__max_depth=5, clf__max_features=None, clf__n_estimators=130 .\n",
      "[CV]  clf__max_depth=5, clf__max_features=None, clf__n_estimators=130, total=   0.5s\n",
      "[CV] clf__max_depth=5, clf__max_features=None, clf__n_estimators=140 .\n",
      "[CV]  clf__max_depth=5, clf__max_features=None, clf__n_estimators=140, total=   0.5s\n",
      "[CV] clf__max_depth=5, clf__max_features=None, clf__n_estimators=140 .\n",
      "[CV]  clf__max_depth=5, clf__max_features=None, clf__n_estimators=140, total=   0.5s\n",
      "[CV] clf__max_depth=5, clf__max_features=None, clf__n_estimators=140 .\n",
      "[CV]  clf__max_depth=5, clf__max_features=None, clf__n_estimators=140, total=   0.5s\n",
      "[CV] clf__max_depth=5, clf__max_features=None, clf__n_estimators=150 .\n",
      "[CV]  clf__max_depth=5, clf__max_features=None, clf__n_estimators=150, total=   0.5s\n",
      "[CV] clf__max_depth=5, clf__max_features=None, clf__n_estimators=150 .\n",
      "[CV]  clf__max_depth=5, clf__max_features=None, clf__n_estimators=150, total=   0.5s\n",
      "[CV] clf__max_depth=5, clf__max_features=None, clf__n_estimators=150 .\n",
      "[CV]  clf__max_depth=5, clf__max_features=None, clf__n_estimators=150, total=   0.5s\n",
      "[CV] clf__max_depth=5, clf__max_features=None, clf__n_estimators=200 .\n",
      "[CV]  clf__max_depth=5, clf__max_features=None, clf__n_estimators=200, total=   0.7s\n",
      "[CV] clf__max_depth=5, clf__max_features=None, clf__n_estimators=200 .\n",
      "[CV]  clf__max_depth=5, clf__max_features=None, clf__n_estimators=200, total=   0.7s\n",
      "[CV] clf__max_depth=5, clf__max_features=None, clf__n_estimators=200 .\n",
      "[CV]  clf__max_depth=5, clf__max_features=None, clf__n_estimators=200, total=   0.6s\n",
      "[CV] clf__max_depth=5, clf__max_features=1, clf__n_estimators=10 .....\n",
      "[CV]  clf__max_depth=5, clf__max_features=1, clf__n_estimators=10, total=   0.0s\n",
      "[CV] clf__max_depth=5, clf__max_features=1, clf__n_estimators=10 .....\n",
      "[CV]  clf__max_depth=5, clf__max_features=1, clf__n_estimators=10, total=   0.0s\n",
      "[CV] clf__max_depth=5, clf__max_features=1, clf__n_estimators=10 .....\n",
      "[CV]  clf__max_depth=5, clf__max_features=1, clf__n_estimators=10, total=   0.0s\n",
      "[CV] clf__max_depth=5, clf__max_features=1, clf__n_estimators=20 .....\n",
      "[CV]  clf__max_depth=5, clf__max_features=1, clf__n_estimators=20, total=   0.0s\n",
      "[CV] clf__max_depth=5, clf__max_features=1, clf__n_estimators=20 .....\n",
      "[CV]  clf__max_depth=5, clf__max_features=1, clf__n_estimators=20, total=   0.0s\n",
      "[CV] clf__max_depth=5, clf__max_features=1, clf__n_estimators=20 .....\n",
      "[CV]  clf__max_depth=5, clf__max_features=1, clf__n_estimators=20, total=   0.0s\n",
      "[CV] clf__max_depth=5, clf__max_features=1, clf__n_estimators=50 .....\n",
      "[CV]  clf__max_depth=5, clf__max_features=1, clf__n_estimators=50, total=   0.1s\n",
      "[CV] clf__max_depth=5, clf__max_features=1, clf__n_estimators=50 .....\n",
      "[CV]  clf__max_depth=5, clf__max_features=1, clf__n_estimators=50, total=   0.1s\n",
      "[CV] clf__max_depth=5, clf__max_features=1, clf__n_estimators=50 .....\n",
      "[CV]  clf__max_depth=5, clf__max_features=1, clf__n_estimators=50, total=   0.1s\n",
      "[CV] clf__max_depth=5, clf__max_features=1, clf__n_estimators=70 .....\n",
      "[CV]  clf__max_depth=5, clf__max_features=1, clf__n_estimators=70, total=   0.1s\n",
      "[CV] clf__max_depth=5, clf__max_features=1, clf__n_estimators=70 .....\n",
      "[CV]  clf__max_depth=5, clf__max_features=1, clf__n_estimators=70, total=   0.1s\n",
      "[CV] clf__max_depth=5, clf__max_features=1, clf__n_estimators=70 .....\n",
      "[CV]  clf__max_depth=5, clf__max_features=1, clf__n_estimators=70, total=   0.1s\n",
      "[CV] clf__max_depth=5, clf__max_features=1, clf__n_estimators=100 ....\n",
      "[CV]  clf__max_depth=5, clf__max_features=1, clf__n_estimators=100, total=   0.2s\n",
      "[CV] clf__max_depth=5, clf__max_features=1, clf__n_estimators=100 ....\n",
      "[CV]  clf__max_depth=5, clf__max_features=1, clf__n_estimators=100, total=   0.2s\n",
      "[CV] clf__max_depth=5, clf__max_features=1, clf__n_estimators=100 ....\n",
      "[CV]  clf__max_depth=5, clf__max_features=1, clf__n_estimators=100, total=   0.2s\n",
      "[CV] clf__max_depth=5, clf__max_features=1, clf__n_estimators=120 ....\n",
      "[CV]  clf__max_depth=5, clf__max_features=1, clf__n_estimators=120, total=   0.2s\n",
      "[CV] clf__max_depth=5, clf__max_features=1, clf__n_estimators=120 ....\n",
      "[CV]  clf__max_depth=5, clf__max_features=1, clf__n_estimators=120, total=   0.2s\n",
      "[CV] clf__max_depth=5, clf__max_features=1, clf__n_estimators=120 ....\n",
      "[CV]  clf__max_depth=5, clf__max_features=1, clf__n_estimators=120, total=   0.3s\n",
      "[CV] clf__max_depth=5, clf__max_features=1, clf__n_estimators=130 ....\n",
      "[CV]  clf__max_depth=5, clf__max_features=1, clf__n_estimators=130, total=   0.2s\n",
      "[CV] clf__max_depth=5, clf__max_features=1, clf__n_estimators=130 ....\n",
      "[CV]  clf__max_depth=5, clf__max_features=1, clf__n_estimators=130, total=   0.3s\n",
      "[CV] clf__max_depth=5, clf__max_features=1, clf__n_estimators=130 ....\n",
      "[CV]  clf__max_depth=5, clf__max_features=1, clf__n_estimators=130, total=   0.3s\n",
      "[CV] clf__max_depth=5, clf__max_features=1, clf__n_estimators=140 ....\n",
      "[CV]  clf__max_depth=5, clf__max_features=1, clf__n_estimators=140, total=   0.3s\n",
      "[CV] clf__max_depth=5, clf__max_features=1, clf__n_estimators=140 ....\n",
      "[CV]  clf__max_depth=5, clf__max_features=1, clf__n_estimators=140, total=   0.3s\n",
      "[CV] clf__max_depth=5, clf__max_features=1, clf__n_estimators=140 ....\n",
      "[CV]  clf__max_depth=5, clf__max_features=1, clf__n_estimators=140, total=   0.3s\n",
      "[CV] clf__max_depth=5, clf__max_features=1, clf__n_estimators=150 ....\n",
      "[CV]  clf__max_depth=5, clf__max_features=1, clf__n_estimators=150, total=   0.3s\n",
      "[CV] clf__max_depth=5, clf__max_features=1, clf__n_estimators=150 ....\n",
      "[CV]  clf__max_depth=5, clf__max_features=1, clf__n_estimators=150, total=   0.3s\n",
      "[CV] clf__max_depth=5, clf__max_features=1, clf__n_estimators=150 ....\n",
      "[CV]  clf__max_depth=5, clf__max_features=1, clf__n_estimators=150, total=   0.3s\n",
      "[CV] clf__max_depth=5, clf__max_features=1, clf__n_estimators=200 ....\n",
      "[CV]  clf__max_depth=5, clf__max_features=1, clf__n_estimators=200, total=   0.4s\n",
      "[CV] clf__max_depth=5, clf__max_features=1, clf__n_estimators=200 ....\n",
      "[CV]  clf__max_depth=5, clf__max_features=1, clf__n_estimators=200, total=   0.4s\n",
      "[CV] clf__max_depth=5, clf__max_features=1, clf__n_estimators=200 ....\n",
      "[CV]  clf__max_depth=5, clf__max_features=1, clf__n_estimators=200, total=   0.4s\n",
      "[CV] clf__max_depth=5, clf__max_features=2, clf__n_estimators=10 .....\n",
      "[CV]  clf__max_depth=5, clf__max_features=2, clf__n_estimators=10, total=   0.0s\n",
      "[CV] clf__max_depth=5, clf__max_features=2, clf__n_estimators=10 .....\n",
      "[CV]  clf__max_depth=5, clf__max_features=2, clf__n_estimators=10, total=   0.0s\n",
      "[CV] clf__max_depth=5, clf__max_features=2, clf__n_estimators=10 .....\n",
      "[CV]  clf__max_depth=5, clf__max_features=2, clf__n_estimators=10, total=   0.0s\n",
      "[CV] clf__max_depth=5, clf__max_features=2, clf__n_estimators=20 .....\n",
      "[CV]  clf__max_depth=5, clf__max_features=2, clf__n_estimators=20, total=   0.0s\n",
      "[CV] clf__max_depth=5, clf__max_features=2, clf__n_estimators=20 .....\n",
      "[CV]  clf__max_depth=5, clf__max_features=2, clf__n_estimators=20, total=   0.0s\n",
      "[CV] clf__max_depth=5, clf__max_features=2, clf__n_estimators=20 .....\n",
      "[CV]  clf__max_depth=5, clf__max_features=2, clf__n_estimators=20, total=   0.1s\n",
      "[CV] clf__max_depth=5, clf__max_features=2, clf__n_estimators=50 .....\n",
      "[CV]  clf__max_depth=5, clf__max_features=2, clf__n_estimators=50, total=   0.1s\n",
      "[CV] clf__max_depth=5, clf__max_features=2, clf__n_estimators=50 .....\n",
      "[CV]  clf__max_depth=5, clf__max_features=2, clf__n_estimators=50, total=   0.1s\n",
      "[CV] clf__max_depth=5, clf__max_features=2, clf__n_estimators=50 .....\n",
      "[CV]  clf__max_depth=5, clf__max_features=2, clf__n_estimators=50, total=   0.1s\n",
      "[CV] clf__max_depth=5, clf__max_features=2, clf__n_estimators=70 .....\n",
      "[CV]  clf__max_depth=5, clf__max_features=2, clf__n_estimators=70, total=   0.2s\n",
      "[CV] clf__max_depth=5, clf__max_features=2, clf__n_estimators=70 .....\n",
      "[CV]  clf__max_depth=5, clf__max_features=2, clf__n_estimators=70, total=   0.2s\n",
      "[CV] clf__max_depth=5, clf__max_features=2, clf__n_estimators=70 .....\n",
      "[CV]  clf__max_depth=5, clf__max_features=2, clf__n_estimators=70, total=   0.2s\n",
      "[CV] clf__max_depth=5, clf__max_features=2, clf__n_estimators=100 ....\n",
      "[CV]  clf__max_depth=5, clf__max_features=2, clf__n_estimators=100, total=   0.2s\n",
      "[CV] clf__max_depth=5, clf__max_features=2, clf__n_estimators=100 ....\n",
      "[CV]  clf__max_depth=5, clf__max_features=2, clf__n_estimators=100, total=   0.2s\n",
      "[CV] clf__max_depth=5, clf__max_features=2, clf__n_estimators=100 ....\n",
      "[CV]  clf__max_depth=5, clf__max_features=2, clf__n_estimators=100, total=   0.2s\n",
      "[CV] clf__max_depth=5, clf__max_features=2, clf__n_estimators=120 ....\n",
      "[CV]  clf__max_depth=5, clf__max_features=2, clf__n_estimators=120, total=   0.3s\n",
      "[CV] clf__max_depth=5, clf__max_features=2, clf__n_estimators=120 ....\n",
      "[CV]  clf__max_depth=5, clf__max_features=2, clf__n_estimators=120, total=   0.3s\n",
      "[CV] clf__max_depth=5, clf__max_features=2, clf__n_estimators=120 ....\n",
      "[CV]  clf__max_depth=5, clf__max_features=2, clf__n_estimators=120, total=   0.3s\n",
      "[CV] clf__max_depth=5, clf__max_features=2, clf__n_estimators=130 ....\n",
      "[CV]  clf__max_depth=5, clf__max_features=2, clf__n_estimators=130, total=   0.3s\n",
      "[CV] clf__max_depth=5, clf__max_features=2, clf__n_estimators=130 ....\n",
      "[CV]  clf__max_depth=5, clf__max_features=2, clf__n_estimators=130, total=   0.3s\n",
      "[CV] clf__max_depth=5, clf__max_features=2, clf__n_estimators=130 ....\n",
      "[CV]  clf__max_depth=5, clf__max_features=2, clf__n_estimators=130, total=   0.3s\n",
      "[CV] clf__max_depth=5, clf__max_features=2, clf__n_estimators=140 ....\n",
      "[CV]  clf__max_depth=5, clf__max_features=2, clf__n_estimators=140, total=   0.3s\n",
      "[CV] clf__max_depth=5, clf__max_features=2, clf__n_estimators=140 ....\n",
      "[CV]  clf__max_depth=5, clf__max_features=2, clf__n_estimators=140, total=   0.3s\n",
      "[CV] clf__max_depth=5, clf__max_features=2, clf__n_estimators=140 ....\n",
      "[CV]  clf__max_depth=5, clf__max_features=2, clf__n_estimators=140, total=   0.3s\n",
      "[CV] clf__max_depth=5, clf__max_features=2, clf__n_estimators=150 ....\n",
      "[CV]  clf__max_depth=5, clf__max_features=2, clf__n_estimators=150, total=   0.4s\n",
      "[CV] clf__max_depth=5, clf__max_features=2, clf__n_estimators=150 ....\n",
      "[CV]  clf__max_depth=5, clf__max_features=2, clf__n_estimators=150, total=   0.3s\n",
      "[CV] clf__max_depth=5, clf__max_features=2, clf__n_estimators=150 ....\n",
      "[CV]  clf__max_depth=5, clf__max_features=2, clf__n_estimators=150, total=   0.3s\n",
      "[CV] clf__max_depth=5, clf__max_features=2, clf__n_estimators=200 ....\n",
      "[CV]  clf__max_depth=5, clf__max_features=2, clf__n_estimators=200, total=   0.4s\n",
      "[CV] clf__max_depth=5, clf__max_features=2, clf__n_estimators=200 ....\n",
      "[CV]  clf__max_depth=5, clf__max_features=2, clf__n_estimators=200, total=   0.5s\n",
      "[CV] clf__max_depth=5, clf__max_features=2, clf__n_estimators=200 ....\n",
      "[CV]  clf__max_depth=5, clf__max_features=2, clf__n_estimators=200, total=   0.5s\n",
      "[CV] clf__max_depth=5, clf__max_features=3, clf__n_estimators=10 .....\n",
      "[CV]  clf__max_depth=5, clf__max_features=3, clf__n_estimators=10, total=   0.0s\n",
      "[CV] clf__max_depth=5, clf__max_features=3, clf__n_estimators=10 .....\n",
      "[CV]  clf__max_depth=5, clf__max_features=3, clf__n_estimators=10, total=   0.0s\n",
      "[CV] clf__max_depth=5, clf__max_features=3, clf__n_estimators=10 .....\n",
      "[CV]  clf__max_depth=5, clf__max_features=3, clf__n_estimators=10, total=   0.0s\n",
      "[CV] clf__max_depth=5, clf__max_features=3, clf__n_estimators=20 .....\n",
      "[CV]  clf__max_depth=5, clf__max_features=3, clf__n_estimators=20, total=   0.1s\n",
      "[CV] clf__max_depth=5, clf__max_features=3, clf__n_estimators=20 .....\n",
      "[CV]  clf__max_depth=5, clf__max_features=3, clf__n_estimators=20, total=   0.1s\n",
      "[CV] clf__max_depth=5, clf__max_features=3, clf__n_estimators=20 .....\n",
      "[CV]  clf__max_depth=5, clf__max_features=3, clf__n_estimators=20, total=   0.1s\n",
      "[CV] clf__max_depth=5, clf__max_features=3, clf__n_estimators=50 .....\n",
      "[CV]  clf__max_depth=5, clf__max_features=3, clf__n_estimators=50, total=   0.1s\n",
      "[CV] clf__max_depth=5, clf__max_features=3, clf__n_estimators=50 .....\n",
      "[CV]  clf__max_depth=5, clf__max_features=3, clf__n_estimators=50, total=   0.1s\n",
      "[CV] clf__max_depth=5, clf__max_features=3, clf__n_estimators=50 .....\n",
      "[CV]  clf__max_depth=5, clf__max_features=3, clf__n_estimators=50, total=   0.1s\n",
      "[CV] clf__max_depth=5, clf__max_features=3, clf__n_estimators=70 .....\n",
      "[CV]  clf__max_depth=5, clf__max_features=3, clf__n_estimators=70, total=   0.2s\n",
      "[CV] clf__max_depth=5, clf__max_features=3, clf__n_estimators=70 .....\n",
      "[CV]  clf__max_depth=5, clf__max_features=3, clf__n_estimators=70, total=   0.2s\n",
      "[CV] clf__max_depth=5, clf__max_features=3, clf__n_estimators=70 .....\n",
      "[CV]  clf__max_depth=5, clf__max_features=3, clf__n_estimators=70, total=   0.2s\n",
      "[CV] clf__max_depth=5, clf__max_features=3, clf__n_estimators=100 ....\n",
      "[CV]  clf__max_depth=5, clf__max_features=3, clf__n_estimators=100, total=   0.3s\n",
      "[CV] clf__max_depth=5, clf__max_features=3, clf__n_estimators=100 ....\n",
      "[CV]  clf__max_depth=5, clf__max_features=3, clf__n_estimators=100, total=   0.3s\n",
      "[CV] clf__max_depth=5, clf__max_features=3, clf__n_estimators=100 ....\n",
      "[CV]  clf__max_depth=5, clf__max_features=3, clf__n_estimators=100, total=   0.3s\n",
      "[CV] clf__max_depth=5, clf__max_features=3, clf__n_estimators=120 ....\n",
      "[CV]  clf__max_depth=5, clf__max_features=3, clf__n_estimators=120, total=   0.3s\n",
      "[CV] clf__max_depth=5, clf__max_features=3, clf__n_estimators=120 ....\n",
      "[CV]  clf__max_depth=5, clf__max_features=3, clf__n_estimators=120, total=   0.3s\n",
      "[CV] clf__max_depth=5, clf__max_features=3, clf__n_estimators=120 ....\n",
      "[CV]  clf__max_depth=5, clf__max_features=3, clf__n_estimators=120, total=   0.3s\n",
      "[CV] clf__max_depth=5, clf__max_features=3, clf__n_estimators=130 ....\n",
      "[CV]  clf__max_depth=5, clf__max_features=3, clf__n_estimators=130, total=   0.3s\n",
      "[CV] clf__max_depth=5, clf__max_features=3, clf__n_estimators=130 ....\n",
      "[CV]  clf__max_depth=5, clf__max_features=3, clf__n_estimators=130, total=   0.3s\n",
      "[CV] clf__max_depth=5, clf__max_features=3, clf__n_estimators=130 ....\n",
      "[CV]  clf__max_depth=5, clf__max_features=3, clf__n_estimators=130, total=   0.3s\n",
      "[CV] clf__max_depth=5, clf__max_features=3, clf__n_estimators=140 ....\n",
      "[CV]  clf__max_depth=5, clf__max_features=3, clf__n_estimators=140, total=   0.4s\n",
      "[CV] clf__max_depth=5, clf__max_features=3, clf__n_estimators=140 ....\n",
      "[CV]  clf__max_depth=5, clf__max_features=3, clf__n_estimators=140, total=   0.4s\n",
      "[CV] clf__max_depth=5, clf__max_features=3, clf__n_estimators=140 ....\n",
      "[CV]  clf__max_depth=5, clf__max_features=3, clf__n_estimators=140, total=   0.4s\n",
      "[CV] clf__max_depth=5, clf__max_features=3, clf__n_estimators=150 ....\n",
      "[CV]  clf__max_depth=5, clf__max_features=3, clf__n_estimators=150, total=   0.4s\n",
      "[CV] clf__max_depth=5, clf__max_features=3, clf__n_estimators=150 ....\n",
      "[CV]  clf__max_depth=5, clf__max_features=3, clf__n_estimators=150, total=   0.4s\n",
      "[CV] clf__max_depth=5, clf__max_features=3, clf__n_estimators=150 ....\n",
      "[CV]  clf__max_depth=5, clf__max_features=3, clf__n_estimators=150, total=   0.4s\n",
      "[CV] clf__max_depth=5, clf__max_features=3, clf__n_estimators=200 ....\n",
      "[CV]  clf__max_depth=5, clf__max_features=3, clf__n_estimators=200, total=   0.5s\n",
      "[CV] clf__max_depth=5, clf__max_features=3, clf__n_estimators=200 ....\n",
      "[CV]  clf__max_depth=5, clf__max_features=3, clf__n_estimators=200, total=   0.5s\n",
      "[CV] clf__max_depth=5, clf__max_features=3, clf__n_estimators=200 ....\n",
      "[CV]  clf__max_depth=5, clf__max_features=3, clf__n_estimators=200, total=   0.5s\n",
      "[CV] clf__max_depth=10, clf__max_features=None, clf__n_estimators=10 .\n",
      "[CV]  clf__max_depth=10, clf__max_features=None, clf__n_estimators=10, total=   0.1s\n",
      "[CV] clf__max_depth=10, clf__max_features=None, clf__n_estimators=10 .\n",
      "[CV]  clf__max_depth=10, clf__max_features=None, clf__n_estimators=10, total=   0.1s\n",
      "[CV] clf__max_depth=10, clf__max_features=None, clf__n_estimators=10 .\n",
      "[CV]  clf__max_depth=10, clf__max_features=None, clf__n_estimators=10, total=   0.1s\n",
      "[CV] clf__max_depth=10, clf__max_features=None, clf__n_estimators=20 .\n",
      "[CV]  clf__max_depth=10, clf__max_features=None, clf__n_estimators=20, total=   0.1s\n",
      "[CV] clf__max_depth=10, clf__max_features=None, clf__n_estimators=20 .\n",
      "[CV]  clf__max_depth=10, clf__max_features=None, clf__n_estimators=20, total=   0.1s\n",
      "[CV] clf__max_depth=10, clf__max_features=None, clf__n_estimators=20 .\n",
      "[CV]  clf__max_depth=10, clf__max_features=None, clf__n_estimators=20, total=   0.1s\n",
      "[CV] clf__max_depth=10, clf__max_features=None, clf__n_estimators=50 .\n",
      "[CV]  clf__max_depth=10, clf__max_features=None, clf__n_estimators=50, total=   0.3s\n",
      "[CV] clf__max_depth=10, clf__max_features=None, clf__n_estimators=50 .\n",
      "[CV]  clf__max_depth=10, clf__max_features=None, clf__n_estimators=50, total=   0.3s\n",
      "[CV] clf__max_depth=10, clf__max_features=None, clf__n_estimators=50 .\n",
      "[CV]  clf__max_depth=10, clf__max_features=None, clf__n_estimators=50, total=   0.3s\n",
      "[CV] clf__max_depth=10, clf__max_features=None, clf__n_estimators=70 .\n",
      "[CV]  clf__max_depth=10, clf__max_features=None, clf__n_estimators=70, total=   0.4s\n",
      "[CV] clf__max_depth=10, clf__max_features=None, clf__n_estimators=70 .\n",
      "[CV]  clf__max_depth=10, clf__max_features=None, clf__n_estimators=70, total=   0.4s\n",
      "[CV] clf__max_depth=10, clf__max_features=None, clf__n_estimators=70 .\n",
      "[CV]  clf__max_depth=10, clf__max_features=None, clf__n_estimators=70, total=   0.4s\n",
      "[CV] clf__max_depth=10, clf__max_features=None, clf__n_estimators=100 \n",
      "[CV]  clf__max_depth=10, clf__max_features=None, clf__n_estimators=100, total=   0.5s\n",
      "[CV] clf__max_depth=10, clf__max_features=None, clf__n_estimators=100 \n",
      "[CV]  clf__max_depth=10, clf__max_features=None, clf__n_estimators=100, total=   0.5s\n",
      "[CV] clf__max_depth=10, clf__max_features=None, clf__n_estimators=100 \n",
      "[CV]  clf__max_depth=10, clf__max_features=None, clf__n_estimators=100, total=   0.5s\n",
      "[CV] clf__max_depth=10, clf__max_features=None, clf__n_estimators=120 \n",
      "[CV]  clf__max_depth=10, clf__max_features=None, clf__n_estimators=120, total=   0.6s\n",
      "[CV] clf__max_depth=10, clf__max_features=None, clf__n_estimators=120 \n",
      "[CV]  clf__max_depth=10, clf__max_features=None, clf__n_estimators=120, total=   0.6s\n",
      "[CV] clf__max_depth=10, clf__max_features=None, clf__n_estimators=120 \n",
      "[CV]  clf__max_depth=10, clf__max_features=None, clf__n_estimators=120, total=   0.6s\n",
      "[CV] clf__max_depth=10, clf__max_features=None, clf__n_estimators=130 \n",
      "[CV]  clf__max_depth=10, clf__max_features=None, clf__n_estimators=130, total=   0.7s\n",
      "[CV] clf__max_depth=10, clf__max_features=None, clf__n_estimators=130 \n",
      "[CV]  clf__max_depth=10, clf__max_features=None, clf__n_estimators=130, total=   0.7s\n",
      "[CV] clf__max_depth=10, clf__max_features=None, clf__n_estimators=130 \n",
      "[CV]  clf__max_depth=10, clf__max_features=None, clf__n_estimators=130, total=   0.7s\n",
      "[CV] clf__max_depth=10, clf__max_features=None, clf__n_estimators=140 \n",
      "[CV]  clf__max_depth=10, clf__max_features=None, clf__n_estimators=140, total=   0.7s\n",
      "[CV] clf__max_depth=10, clf__max_features=None, clf__n_estimators=140 \n",
      "[CV]  clf__max_depth=10, clf__max_features=None, clf__n_estimators=140, total=   0.7s\n",
      "[CV] clf__max_depth=10, clf__max_features=None, clf__n_estimators=140 \n",
      "[CV]  clf__max_depth=10, clf__max_features=None, clf__n_estimators=140, total=   0.7s\n",
      "[CV] clf__max_depth=10, clf__max_features=None, clf__n_estimators=150 \n",
      "[CV]  clf__max_depth=10, clf__max_features=None, clf__n_estimators=150, total=   0.8s\n",
      "[CV] clf__max_depth=10, clf__max_features=None, clf__n_estimators=150 \n",
      "[CV]  clf__max_depth=10, clf__max_features=None, clf__n_estimators=150, total=   0.8s\n",
      "[CV] clf__max_depth=10, clf__max_features=None, clf__n_estimators=150 \n",
      "[CV]  clf__max_depth=10, clf__max_features=None, clf__n_estimators=150, total=   0.8s\n",
      "[CV] clf__max_depth=10, clf__max_features=None, clf__n_estimators=200 \n",
      "[CV]  clf__max_depth=10, clf__max_features=None, clf__n_estimators=200, total=   1.0s\n",
      "[CV] clf__max_depth=10, clf__max_features=None, clf__n_estimators=200 \n",
      "[CV]  clf__max_depth=10, clf__max_features=None, clf__n_estimators=200, total=   1.0s\n",
      "[CV] clf__max_depth=10, clf__max_features=None, clf__n_estimators=200 \n",
      "[CV]  clf__max_depth=10, clf__max_features=None, clf__n_estimators=200, total=   1.0s\n",
      "[CV] clf__max_depth=10, clf__max_features=1, clf__n_estimators=10 ....\n",
      "[CV]  clf__max_depth=10, clf__max_features=1, clf__n_estimators=10, total=   0.0s\n",
      "[CV] clf__max_depth=10, clf__max_features=1, clf__n_estimators=10 ....\n",
      "[CV]  clf__max_depth=10, clf__max_features=1, clf__n_estimators=10, total=   0.0s\n",
      "[CV] clf__max_depth=10, clf__max_features=1, clf__n_estimators=10 ....\n",
      "[CV]  clf__max_depth=10, clf__max_features=1, clf__n_estimators=10, total=   0.0s\n",
      "[CV] clf__max_depth=10, clf__max_features=1, clf__n_estimators=20 ....\n",
      "[CV]  clf__max_depth=10, clf__max_features=1, clf__n_estimators=20, total=   0.1s\n",
      "[CV] clf__max_depth=10, clf__max_features=1, clf__n_estimators=20 ....\n",
      "[CV]  clf__max_depth=10, clf__max_features=1, clf__n_estimators=20, total=   0.1s\n",
      "[CV] clf__max_depth=10, clf__max_features=1, clf__n_estimators=20 ....\n",
      "[CV]  clf__max_depth=10, clf__max_features=1, clf__n_estimators=20, total=   0.1s\n",
      "[CV] clf__max_depth=10, clf__max_features=1, clf__n_estimators=50 ....\n",
      "[CV]  clf__max_depth=10, clf__max_features=1, clf__n_estimators=50, total=   0.1s\n",
      "[CV] clf__max_depth=10, clf__max_features=1, clf__n_estimators=50 ....\n",
      "[CV]  clf__max_depth=10, clf__max_features=1, clf__n_estimators=50, total=   0.1s\n",
      "[CV] clf__max_depth=10, clf__max_features=1, clf__n_estimators=50 ....\n",
      "[CV]  clf__max_depth=10, clf__max_features=1, clf__n_estimators=50, total=   0.1s\n",
      "[CV] clf__max_depth=10, clf__max_features=1, clf__n_estimators=70 ....\n",
      "[CV]  clf__max_depth=10, clf__max_features=1, clf__n_estimators=70, total=   0.2s\n",
      "[CV] clf__max_depth=10, clf__max_features=1, clf__n_estimators=70 ....\n",
      "[CV]  clf__max_depth=10, clf__max_features=1, clf__n_estimators=70, total=   0.2s\n",
      "[CV] clf__max_depth=10, clf__max_features=1, clf__n_estimators=70 ....\n",
      "[CV]  clf__max_depth=10, clf__max_features=1, clf__n_estimators=70, total=   0.2s\n",
      "[CV] clf__max_depth=10, clf__max_features=1, clf__n_estimators=100 ...\n",
      "[CV]  clf__max_depth=10, clf__max_features=1, clf__n_estimators=100, total=   0.3s\n",
      "[CV] clf__max_depth=10, clf__max_features=1, clf__n_estimators=100 ...\n",
      "[CV]  clf__max_depth=10, clf__max_features=1, clf__n_estimators=100, total=   0.3s\n",
      "[CV] clf__max_depth=10, clf__max_features=1, clf__n_estimators=100 ...\n",
      "[CV]  clf__max_depth=10, clf__max_features=1, clf__n_estimators=100, total=   0.3s\n",
      "[CV] clf__max_depth=10, clf__max_features=1, clf__n_estimators=120 ...\n",
      "[CV]  clf__max_depth=10, clf__max_features=1, clf__n_estimators=120, total=   0.3s\n",
      "[CV] clf__max_depth=10, clf__max_features=1, clf__n_estimators=120 ...\n",
      "[CV]  clf__max_depth=10, clf__max_features=1, clf__n_estimators=120, total=   0.3s\n",
      "[CV] clf__max_depth=10, clf__max_features=1, clf__n_estimators=120 ...\n",
      "[CV]  clf__max_depth=10, clf__max_features=1, clf__n_estimators=120, total=   0.7s\n",
      "[CV] clf__max_depth=10, clf__max_features=1, clf__n_estimators=130 ...\n",
      "[CV]  clf__max_depth=10, clf__max_features=1, clf__n_estimators=130, total=   0.6s\n",
      "[CV] clf__max_depth=10, clf__max_features=1, clf__n_estimators=130 ...\n",
      "[CV]  clf__max_depth=10, clf__max_features=1, clf__n_estimators=130, total=   0.3s\n",
      "[CV] clf__max_depth=10, clf__max_features=1, clf__n_estimators=130 ...\n",
      "[CV]  clf__max_depth=10, clf__max_features=1, clf__n_estimators=130, total=   0.5s\n",
      "[CV] clf__max_depth=10, clf__max_features=1, clf__n_estimators=140 ...\n",
      "[CV]  clf__max_depth=10, clf__max_features=1, clf__n_estimators=140, total=   0.5s\n",
      "[CV] clf__max_depth=10, clf__max_features=1, clf__n_estimators=140 ...\n",
      "[CV]  clf__max_depth=10, clf__max_features=1, clf__n_estimators=140, total=   0.4s\n",
      "[CV] clf__max_depth=10, clf__max_features=1, clf__n_estimators=140 ...\n",
      "[CV]  clf__max_depth=10, clf__max_features=1, clf__n_estimators=140, total=   0.4s\n",
      "[CV] clf__max_depth=10, clf__max_features=1, clf__n_estimators=150 ...\n",
      "[CV]  clf__max_depth=10, clf__max_features=1, clf__n_estimators=150, total=   0.4s\n",
      "[CV] clf__max_depth=10, clf__max_features=1, clf__n_estimators=150 ...\n",
      "[CV]  clf__max_depth=10, clf__max_features=1, clf__n_estimators=150, total=   0.4s\n",
      "[CV] clf__max_depth=10, clf__max_features=1, clf__n_estimators=150 ...\n",
      "[CV]  clf__max_depth=10, clf__max_features=1, clf__n_estimators=150, total=   0.4s\n",
      "[CV] clf__max_depth=10, clf__max_features=1, clf__n_estimators=200 ...\n",
      "[CV]  clf__max_depth=10, clf__max_features=1, clf__n_estimators=200, total=   0.5s\n",
      "[CV] clf__max_depth=10, clf__max_features=1, clf__n_estimators=200 ...\n",
      "[CV]  clf__max_depth=10, clf__max_features=1, clf__n_estimators=200, total=   0.5s\n",
      "[CV] clf__max_depth=10, clf__max_features=1, clf__n_estimators=200 ...\n",
      "[CV]  clf__max_depth=10, clf__max_features=1, clf__n_estimators=200, total=   0.5s\n",
      "[CV] clf__max_depth=10, clf__max_features=2, clf__n_estimators=10 ....\n",
      "[CV]  clf__max_depth=10, clf__max_features=2, clf__n_estimators=10, total=   0.0s\n",
      "[CV] clf__max_depth=10, clf__max_features=2, clf__n_estimators=10 ....\n",
      "[CV]  clf__max_depth=10, clf__max_features=2, clf__n_estimators=10, total=   0.0s\n",
      "[CV] clf__max_depth=10, clf__max_features=2, clf__n_estimators=10 ....\n",
      "[CV]  clf__max_depth=10, clf__max_features=2, clf__n_estimators=10, total=   0.0s\n",
      "[CV] clf__max_depth=10, clf__max_features=2, clf__n_estimators=20 ....\n",
      "[CV]  clf__max_depth=10, clf__max_features=2, clf__n_estimators=20, total=   0.1s\n",
      "[CV] clf__max_depth=10, clf__max_features=2, clf__n_estimators=20 ....\n",
      "[CV]  clf__max_depth=10, clf__max_features=2, clf__n_estimators=20, total=   0.1s\n",
      "[CV] clf__max_depth=10, clf__max_features=2, clf__n_estimators=20 ....\n",
      "[CV]  clf__max_depth=10, clf__max_features=2, clf__n_estimators=20, total=   0.1s\n",
      "[CV] clf__max_depth=10, clf__max_features=2, clf__n_estimators=50 ....\n",
      "[CV]  clf__max_depth=10, clf__max_features=2, clf__n_estimators=50, total=   0.2s\n",
      "[CV] clf__max_depth=10, clf__max_features=2, clf__n_estimators=50 ....\n",
      "[CV]  clf__max_depth=10, clf__max_features=2, clf__n_estimators=50, total=   0.2s\n",
      "[CV] clf__max_depth=10, clf__max_features=2, clf__n_estimators=50 ....\n",
      "[CV]  clf__max_depth=10, clf__max_features=2, clf__n_estimators=50, total=   0.2s\n",
      "[CV] clf__max_depth=10, clf__max_features=2, clf__n_estimators=70 ....\n",
      "[CV]  clf__max_depth=10, clf__max_features=2, clf__n_estimators=70, total=   0.2s\n",
      "[CV] clf__max_depth=10, clf__max_features=2, clf__n_estimators=70 ....\n",
      "[CV]  clf__max_depth=10, clf__max_features=2, clf__n_estimators=70, total=   0.2s\n",
      "[CV] clf__max_depth=10, clf__max_features=2, clf__n_estimators=70 ....\n",
      "[CV]  clf__max_depth=10, clf__max_features=2, clf__n_estimators=70, total=   0.2s\n",
      "[CV] clf__max_depth=10, clf__max_features=2, clf__n_estimators=100 ...\n",
      "[CV]  clf__max_depth=10, clf__max_features=2, clf__n_estimators=100, total=   0.3s\n",
      "[CV] clf__max_depth=10, clf__max_features=2, clf__n_estimators=100 ...\n",
      "[CV]  clf__max_depth=10, clf__max_features=2, clf__n_estimators=100, total=   0.3s\n",
      "[CV] clf__max_depth=10, clf__max_features=2, clf__n_estimators=100 ...\n",
      "[CV]  clf__max_depth=10, clf__max_features=2, clf__n_estimators=100, total=   0.3s\n",
      "[CV] clf__max_depth=10, clf__max_features=2, clf__n_estimators=120 ...\n",
      "[CV]  clf__max_depth=10, clf__max_features=2, clf__n_estimators=120, total=   0.4s\n",
      "[CV] clf__max_depth=10, clf__max_features=2, clf__n_estimators=120 ...\n",
      "[CV]  clf__max_depth=10, clf__max_features=2, clf__n_estimators=120, total=   0.4s\n",
      "[CV] clf__max_depth=10, clf__max_features=2, clf__n_estimators=120 ...\n",
      "[CV]  clf__max_depth=10, clf__max_features=2, clf__n_estimators=120, total=   0.4s\n",
      "[CV] clf__max_depth=10, clf__max_features=2, clf__n_estimators=130 ...\n",
      "[CV]  clf__max_depth=10, clf__max_features=2, clf__n_estimators=130, total=   0.4s\n",
      "[CV] clf__max_depth=10, clf__max_features=2, clf__n_estimators=130 ...\n",
      "[CV]  clf__max_depth=10, clf__max_features=2, clf__n_estimators=130, total=   0.4s\n",
      "[CV] clf__max_depth=10, clf__max_features=2, clf__n_estimators=130 ...\n",
      "[CV]  clf__max_depth=10, clf__max_features=2, clf__n_estimators=130, total=   0.4s\n",
      "[CV] clf__max_depth=10, clf__max_features=2, clf__n_estimators=140 ...\n",
      "[CV]  clf__max_depth=10, clf__max_features=2, clf__n_estimators=140, total=   0.4s\n",
      "[CV] clf__max_depth=10, clf__max_features=2, clf__n_estimators=140 ...\n",
      "[CV]  clf__max_depth=10, clf__max_features=2, clf__n_estimators=140, total=   0.4s\n",
      "[CV] clf__max_depth=10, clf__max_features=2, clf__n_estimators=140 ...\n",
      "[CV]  clf__max_depth=10, clf__max_features=2, clf__n_estimators=140, total=   0.4s\n",
      "[CV] clf__max_depth=10, clf__max_features=2, clf__n_estimators=150 ...\n",
      "[CV]  clf__max_depth=10, clf__max_features=2, clf__n_estimators=150, total=   0.5s\n",
      "[CV] clf__max_depth=10, clf__max_features=2, clf__n_estimators=150 ...\n",
      "[CV]  clf__max_depth=10, clf__max_features=2, clf__n_estimators=150, total=   0.5s\n",
      "[CV] clf__max_depth=10, clf__max_features=2, clf__n_estimators=150 ...\n",
      "[CV]  clf__max_depth=10, clf__max_features=2, clf__n_estimators=150, total=   0.5s\n",
      "[CV] clf__max_depth=10, clf__max_features=2, clf__n_estimators=200 ...\n",
      "[CV]  clf__max_depth=10, clf__max_features=2, clf__n_estimators=200, total=   0.6s\n",
      "[CV] clf__max_depth=10, clf__max_features=2, clf__n_estimators=200 ...\n",
      "[CV]  clf__max_depth=10, clf__max_features=2, clf__n_estimators=200, total=   0.6s\n",
      "[CV] clf__max_depth=10, clf__max_features=2, clf__n_estimators=200 ...\n",
      "[CV]  clf__max_depth=10, clf__max_features=2, clf__n_estimators=200, total=   0.6s\n",
      "[CV] clf__max_depth=10, clf__max_features=3, clf__n_estimators=10 ....\n",
      "[CV]  clf__max_depth=10, clf__max_features=3, clf__n_estimators=10, total=   0.0s\n",
      "[CV] clf__max_depth=10, clf__max_features=3, clf__n_estimators=10 ....\n",
      "[CV]  clf__max_depth=10, clf__max_features=3, clf__n_estimators=10, total=   0.0s\n",
      "[CV] clf__max_depth=10, clf__max_features=3, clf__n_estimators=10 ....\n",
      "[CV]  clf__max_depth=10, clf__max_features=3, clf__n_estimators=10, total=   0.0s\n",
      "[CV] clf__max_depth=10, clf__max_features=3, clf__n_estimators=20 ....\n",
      "[CV]  clf__max_depth=10, clf__max_features=3, clf__n_estimators=20, total=   0.1s\n",
      "[CV] clf__max_depth=10, clf__max_features=3, clf__n_estimators=20 ....\n",
      "[CV]  clf__max_depth=10, clf__max_features=3, clf__n_estimators=20, total=   0.1s\n",
      "[CV] clf__max_depth=10, clf__max_features=3, clf__n_estimators=20 ....\n",
      "[CV]  clf__max_depth=10, clf__max_features=3, clf__n_estimators=20, total=   0.1s\n",
      "[CV] clf__max_depth=10, clf__max_features=3, clf__n_estimators=50 ....\n",
      "[CV]  clf__max_depth=10, clf__max_features=3, clf__n_estimators=50, total=   0.2s\n",
      "[CV] clf__max_depth=10, clf__max_features=3, clf__n_estimators=50 ....\n",
      "[CV]  clf__max_depth=10, clf__max_features=3, clf__n_estimators=50, total=   0.2s\n",
      "[CV] clf__max_depth=10, clf__max_features=3, clf__n_estimators=50 ....\n",
      "[CV]  clf__max_depth=10, clf__max_features=3, clf__n_estimators=50, total=   0.2s\n",
      "[CV] clf__max_depth=10, clf__max_features=3, clf__n_estimators=70 ....\n",
      "[CV]  clf__max_depth=10, clf__max_features=3, clf__n_estimators=70, total=   0.3s\n",
      "[CV] clf__max_depth=10, clf__max_features=3, clf__n_estimators=70 ....\n",
      "[CV]  clf__max_depth=10, clf__max_features=3, clf__n_estimators=70, total=   0.3s\n",
      "[CV] clf__max_depth=10, clf__max_features=3, clf__n_estimators=70 ....\n",
      "[CV]  clf__max_depth=10, clf__max_features=3, clf__n_estimators=70, total=   0.3s\n",
      "[CV] clf__max_depth=10, clf__max_features=3, clf__n_estimators=100 ...\n",
      "[CV]  clf__max_depth=10, clf__max_features=3, clf__n_estimators=100, total=   0.4s\n",
      "[CV] clf__max_depth=10, clf__max_features=3, clf__n_estimators=100 ...\n",
      "[CV]  clf__max_depth=10, clf__max_features=3, clf__n_estimators=100, total=   0.4s\n",
      "[CV] clf__max_depth=10, clf__max_features=3, clf__n_estimators=100 ...\n",
      "[CV]  clf__max_depth=10, clf__max_features=3, clf__n_estimators=100, total=   0.4s\n",
      "[CV] clf__max_depth=10, clf__max_features=3, clf__n_estimators=120 ...\n",
      "[CV]  clf__max_depth=10, clf__max_features=3, clf__n_estimators=120, total=   0.5s\n",
      "[CV] clf__max_depth=10, clf__max_features=3, clf__n_estimators=120 ...\n",
      "[CV]  clf__max_depth=10, clf__max_features=3, clf__n_estimators=120, total=   0.5s\n",
      "[CV] clf__max_depth=10, clf__max_features=3, clf__n_estimators=120 ...\n",
      "[CV]  clf__max_depth=10, clf__max_features=3, clf__n_estimators=120, total=   0.5s\n",
      "[CV] clf__max_depth=10, clf__max_features=3, clf__n_estimators=130 ...\n",
      "[CV]  clf__max_depth=10, clf__max_features=3, clf__n_estimators=130, total=   0.5s\n",
      "[CV] clf__max_depth=10, clf__max_features=3, clf__n_estimators=130 ...\n",
      "[CV]  clf__max_depth=10, clf__max_features=3, clf__n_estimators=130, total=   0.5s\n",
      "[CV] clf__max_depth=10, clf__max_features=3, clf__n_estimators=130 ...\n",
      "[CV]  clf__max_depth=10, clf__max_features=3, clf__n_estimators=130, total=   0.5s\n",
      "[CV] clf__max_depth=10, clf__max_features=3, clf__n_estimators=140 ...\n",
      "[CV]  clf__max_depth=10, clf__max_features=3, clf__n_estimators=140, total=   0.5s\n",
      "[CV] clf__max_depth=10, clf__max_features=3, clf__n_estimators=140 ...\n",
      "[CV]  clf__max_depth=10, clf__max_features=3, clf__n_estimators=140, total=   0.5s\n",
      "[CV] clf__max_depth=10, clf__max_features=3, clf__n_estimators=140 ...\n",
      "[CV]  clf__max_depth=10, clf__max_features=3, clf__n_estimators=140, total=   0.5s\n",
      "[CV] clf__max_depth=10, clf__max_features=3, clf__n_estimators=150 ...\n",
      "[CV]  clf__max_depth=10, clf__max_features=3, clf__n_estimators=150, total=   0.6s\n",
      "[CV] clf__max_depth=10, clf__max_features=3, clf__n_estimators=150 ...\n",
      "[CV]  clf__max_depth=10, clf__max_features=3, clf__n_estimators=150, total=   0.6s\n",
      "[CV] clf__max_depth=10, clf__max_features=3, clf__n_estimators=150 ...\n",
      "[CV]  clf__max_depth=10, clf__max_features=3, clf__n_estimators=150, total=   0.6s\n",
      "[CV] clf__max_depth=10, clf__max_features=3, clf__n_estimators=200 ...\n",
      "[CV]  clf__max_depth=10, clf__max_features=3, clf__n_estimators=200, total=   0.8s\n",
      "[CV] clf__max_depth=10, clf__max_features=3, clf__n_estimators=200 ...\n",
      "[CV]  clf__max_depth=10, clf__max_features=3, clf__n_estimators=200, total=   0.8s\n",
      "[CV] clf__max_depth=10, clf__max_features=3, clf__n_estimators=200 ...\n",
      "[CV]  clf__max_depth=10, clf__max_features=3, clf__n_estimators=200, total=   0.8s\n",
      "[CV] clf__max_depth=15, clf__max_features=None, clf__n_estimators=10 .\n",
      "[CV]  clf__max_depth=15, clf__max_features=None, clf__n_estimators=10, total=   0.1s\n",
      "[CV] clf__max_depth=15, clf__max_features=None, clf__n_estimators=10 .\n",
      "[CV]  clf__max_depth=15, clf__max_features=None, clf__n_estimators=10, total=   0.1s\n",
      "[CV] clf__max_depth=15, clf__max_features=None, clf__n_estimators=10 .\n",
      "[CV]  clf__max_depth=15, clf__max_features=None, clf__n_estimators=10, total=   0.1s\n",
      "[CV] clf__max_depth=15, clf__max_features=None, clf__n_estimators=20 .\n",
      "[CV]  clf__max_depth=15, clf__max_features=None, clf__n_estimators=20, total=   0.1s\n",
      "[CV] clf__max_depth=15, clf__max_features=None, clf__n_estimators=20 .\n",
      "[CV]  clf__max_depth=15, clf__max_features=None, clf__n_estimators=20, total=   0.1s\n",
      "[CV] clf__max_depth=15, clf__max_features=None, clf__n_estimators=20 .\n",
      "[CV]  clf__max_depth=15, clf__max_features=None, clf__n_estimators=20, total=   0.1s\n",
      "[CV] clf__max_depth=15, clf__max_features=None, clf__n_estimators=50 .\n",
      "[CV]  clf__max_depth=15, clf__max_features=None, clf__n_estimators=50, total=   0.4s\n",
      "[CV] clf__max_depth=15, clf__max_features=None, clf__n_estimators=50 .\n",
      "[CV]  clf__max_depth=15, clf__max_features=None, clf__n_estimators=50, total=   0.3s\n",
      "[CV] clf__max_depth=15, clf__max_features=None, clf__n_estimators=50 .\n",
      "[CV]  clf__max_depth=15, clf__max_features=None, clf__n_estimators=50, total=   0.4s\n",
      "[CV] clf__max_depth=15, clf__max_features=None, clf__n_estimators=70 .\n",
      "[CV]  clf__max_depth=15, clf__max_features=None, clf__n_estimators=70, total=   0.5s\n",
      "[CV] clf__max_depth=15, clf__max_features=None, clf__n_estimators=70 .\n",
      "[CV]  clf__max_depth=15, clf__max_features=None, clf__n_estimators=70, total=   0.5s\n",
      "[CV] clf__max_depth=15, clf__max_features=None, clf__n_estimators=70 .\n",
      "[CV]  clf__max_depth=15, clf__max_features=None, clf__n_estimators=70, total=   0.5s\n",
      "[CV] clf__max_depth=15, clf__max_features=None, clf__n_estimators=100 \n",
      "[CV]  clf__max_depth=15, clf__max_features=None, clf__n_estimators=100, total=   0.7s\n",
      "[CV] clf__max_depth=15, clf__max_features=None, clf__n_estimators=100 \n",
      "[CV]  clf__max_depth=15, clf__max_features=None, clf__n_estimators=100, total=   0.7s\n",
      "[CV] clf__max_depth=15, clf__max_features=None, clf__n_estimators=100 \n",
      "[CV]  clf__max_depth=15, clf__max_features=None, clf__n_estimators=100, total=   0.7s\n",
      "[CV] clf__max_depth=15, clf__max_features=None, clf__n_estimators=120 \n",
      "[CV]  clf__max_depth=15, clf__max_features=None, clf__n_estimators=120, total=   0.8s\n",
      "[CV] clf__max_depth=15, clf__max_features=None, clf__n_estimators=120 \n",
      "[CV]  clf__max_depth=15, clf__max_features=None, clf__n_estimators=120, total=   0.8s\n",
      "[CV] clf__max_depth=15, clf__max_features=None, clf__n_estimators=120 \n",
      "[CV]  clf__max_depth=15, clf__max_features=None, clf__n_estimators=120, total=   0.8s\n",
      "[CV] clf__max_depth=15, clf__max_features=None, clf__n_estimators=130 \n",
      "[CV]  clf__max_depth=15, clf__max_features=None, clf__n_estimators=130, total=   0.9s\n",
      "[CV] clf__max_depth=15, clf__max_features=None, clf__n_estimators=130 \n",
      "[CV]  clf__max_depth=15, clf__max_features=None, clf__n_estimators=130, total=   0.9s\n",
      "[CV] clf__max_depth=15, clf__max_features=None, clf__n_estimators=130 \n",
      "[CV]  clf__max_depth=15, clf__max_features=None, clf__n_estimators=130, total=   0.9s\n",
      "[CV] clf__max_depth=15, clf__max_features=None, clf__n_estimators=140 \n",
      "[CV]  clf__max_depth=15, clf__max_features=None, clf__n_estimators=140, total=   1.0s\n",
      "[CV] clf__max_depth=15, clf__max_features=None, clf__n_estimators=140 \n",
      "[CV]  clf__max_depth=15, clf__max_features=None, clf__n_estimators=140, total=   1.0s\n",
      "[CV] clf__max_depth=15, clf__max_features=None, clf__n_estimators=140 \n",
      "[CV]  clf__max_depth=15, clf__max_features=None, clf__n_estimators=140, total=   1.0s\n",
      "[CV] clf__max_depth=15, clf__max_features=None, clf__n_estimators=150 \n",
      "[CV]  clf__max_depth=15, clf__max_features=None, clf__n_estimators=150, total=   1.0s\n",
      "[CV] clf__max_depth=15, clf__max_features=None, clf__n_estimators=150 \n",
      "[CV]  clf__max_depth=15, clf__max_features=None, clf__n_estimators=150, total=   1.0s\n",
      "[CV] clf__max_depth=15, clf__max_features=None, clf__n_estimators=150 \n",
      "[CV]  clf__max_depth=15, clf__max_features=None, clf__n_estimators=150, total=   1.0s\n",
      "[CV] clf__max_depth=15, clf__max_features=None, clf__n_estimators=200 \n",
      "[CV]  clf__max_depth=15, clf__max_features=None, clf__n_estimators=200, total=   1.4s\n",
      "[CV] clf__max_depth=15, clf__max_features=None, clf__n_estimators=200 \n",
      "[CV]  clf__max_depth=15, clf__max_features=None, clf__n_estimators=200, total=   1.4s\n",
      "[CV] clf__max_depth=15, clf__max_features=None, clf__n_estimators=200 \n",
      "[CV]  clf__max_depth=15, clf__max_features=None, clf__n_estimators=200, total=   1.4s\n",
      "[CV] clf__max_depth=15, clf__max_features=1, clf__n_estimators=10 ....\n",
      "[CV]  clf__max_depth=15, clf__max_features=1, clf__n_estimators=10, total=   0.0s\n",
      "[CV] clf__max_depth=15, clf__max_features=1, clf__n_estimators=10 ....\n",
      "[CV]  clf__max_depth=15, clf__max_features=1, clf__n_estimators=10, total=   0.0s\n",
      "[CV] clf__max_depth=15, clf__max_features=1, clf__n_estimators=10 ....\n",
      "[CV]  clf__max_depth=15, clf__max_features=1, clf__n_estimators=10, total=   0.0s\n",
      "[CV] clf__max_depth=15, clf__max_features=1, clf__n_estimators=20 ....\n",
      "[CV]  clf__max_depth=15, clf__max_features=1, clf__n_estimators=20, total=   0.1s\n",
      "[CV] clf__max_depth=15, clf__max_features=1, clf__n_estimators=20 ....\n",
      "[CV]  clf__max_depth=15, clf__max_features=1, clf__n_estimators=20, total=   0.1s\n",
      "[CV] clf__max_depth=15, clf__max_features=1, clf__n_estimators=20 ....\n",
      "[CV]  clf__max_depth=15, clf__max_features=1, clf__n_estimators=20, total=   0.1s\n",
      "[CV] clf__max_depth=15, clf__max_features=1, clf__n_estimators=50 ....\n",
      "[CV]  clf__max_depth=15, clf__max_features=1, clf__n_estimators=50, total=   0.2s\n",
      "[CV] clf__max_depth=15, clf__max_features=1, clf__n_estimators=50 ....\n",
      "[CV]  clf__max_depth=15, clf__max_features=1, clf__n_estimators=50, total=   0.2s\n",
      "[CV] clf__max_depth=15, clf__max_features=1, clf__n_estimators=50 ....\n",
      "[CV]  clf__max_depth=15, clf__max_features=1, clf__n_estimators=50, total=   0.2s\n",
      "[CV] clf__max_depth=15, clf__max_features=1, clf__n_estimators=70 ....\n",
      "[CV]  clf__max_depth=15, clf__max_features=1, clf__n_estimators=70, total=   0.2s\n",
      "[CV] clf__max_depth=15, clf__max_features=1, clf__n_estimators=70 ....\n",
      "[CV]  clf__max_depth=15, clf__max_features=1, clf__n_estimators=70, total=   0.2s\n",
      "[CV] clf__max_depth=15, clf__max_features=1, clf__n_estimators=70 ....\n",
      "[CV]  clf__max_depth=15, clf__max_features=1, clf__n_estimators=70, total=   0.2s\n",
      "[CV] clf__max_depth=15, clf__max_features=1, clf__n_estimators=100 ...\n",
      "[CV]  clf__max_depth=15, clf__max_features=1, clf__n_estimators=100, total=   0.3s\n",
      "[CV] clf__max_depth=15, clf__max_features=1, clf__n_estimators=100 ...\n",
      "[CV]  clf__max_depth=15, clf__max_features=1, clf__n_estimators=100, total=   0.3s\n",
      "[CV] clf__max_depth=15, clf__max_features=1, clf__n_estimators=100 ...\n",
      "[CV]  clf__max_depth=15, clf__max_features=1, clf__n_estimators=100, total=   0.3s\n",
      "[CV] clf__max_depth=15, clf__max_features=1, clf__n_estimators=120 ...\n",
      "[CV]  clf__max_depth=15, clf__max_features=1, clf__n_estimators=120, total=   0.4s\n",
      "[CV] clf__max_depth=15, clf__max_features=1, clf__n_estimators=120 ...\n",
      "[CV]  clf__max_depth=15, clf__max_features=1, clf__n_estimators=120, total=   0.4s\n",
      "[CV] clf__max_depth=15, clf__max_features=1, clf__n_estimators=120 ...\n",
      "[CV]  clf__max_depth=15, clf__max_features=1, clf__n_estimators=120, total=   0.4s\n",
      "[CV] clf__max_depth=15, clf__max_features=1, clf__n_estimators=130 ...\n",
      "[CV]  clf__max_depth=15, clf__max_features=1, clf__n_estimators=130, total=   0.4s\n",
      "[CV] clf__max_depth=15, clf__max_features=1, clf__n_estimators=130 ...\n",
      "[CV]  clf__max_depth=15, clf__max_features=1, clf__n_estimators=130, total=   0.4s\n",
      "[CV] clf__max_depth=15, clf__max_features=1, clf__n_estimators=130 ...\n",
      "[CV]  clf__max_depth=15, clf__max_features=1, clf__n_estimators=130, total=   0.4s\n",
      "[CV] clf__max_depth=15, clf__max_features=1, clf__n_estimators=140 ...\n",
      "[CV]  clf__max_depth=15, clf__max_features=1, clf__n_estimators=140, total=   0.5s\n",
      "[CV] clf__max_depth=15, clf__max_features=1, clf__n_estimators=140 ...\n",
      "[CV]  clf__max_depth=15, clf__max_features=1, clf__n_estimators=140, total=   0.4s\n",
      "[CV] clf__max_depth=15, clf__max_features=1, clf__n_estimators=140 ...\n",
      "[CV]  clf__max_depth=15, clf__max_features=1, clf__n_estimators=140, total=   0.5s\n",
      "[CV] clf__max_depth=15, clf__max_features=1, clf__n_estimators=150 ...\n",
      "[CV]  clf__max_depth=15, clf__max_features=1, clf__n_estimators=150, total=   0.5s\n",
      "[CV] clf__max_depth=15, clf__max_features=1, clf__n_estimators=150 ...\n",
      "[CV]  clf__max_depth=15, clf__max_features=1, clf__n_estimators=150, total=   0.5s\n",
      "[CV] clf__max_depth=15, clf__max_features=1, clf__n_estimators=150 ...\n",
      "[CV]  clf__max_depth=15, clf__max_features=1, clf__n_estimators=150, total=   0.5s\n",
      "[CV] clf__max_depth=15, clf__max_features=1, clf__n_estimators=200 ...\n",
      "[CV]  clf__max_depth=15, clf__max_features=1, clf__n_estimators=200, total=   0.7s\n",
      "[CV] clf__max_depth=15, clf__max_features=1, clf__n_estimators=200 ...\n",
      "[CV]  clf__max_depth=15, clf__max_features=1, clf__n_estimators=200, total=   0.6s\n",
      "[CV] clf__max_depth=15, clf__max_features=1, clf__n_estimators=200 ...\n",
      "[CV]  clf__max_depth=15, clf__max_features=1, clf__n_estimators=200, total=   0.6s\n",
      "[CV] clf__max_depth=15, clf__max_features=2, clf__n_estimators=10 ....\n",
      "[CV]  clf__max_depth=15, clf__max_features=2, clf__n_estimators=10, total=   0.0s\n",
      "[CV] clf__max_depth=15, clf__max_features=2, clf__n_estimators=10 ....\n",
      "[CV]  clf__max_depth=15, clf__max_features=2, clf__n_estimators=10, total=   0.0s\n",
      "[CV] clf__max_depth=15, clf__max_features=2, clf__n_estimators=10 ....\n",
      "[CV]  clf__max_depth=15, clf__max_features=2, clf__n_estimators=10, total=   0.0s\n",
      "[CV] clf__max_depth=15, clf__max_features=2, clf__n_estimators=20 ....\n",
      "[CV]  clf__max_depth=15, clf__max_features=2, clf__n_estimators=20, total=   0.1s\n",
      "[CV] clf__max_depth=15, clf__max_features=2, clf__n_estimators=20 ....\n",
      "[CV]  clf__max_depth=15, clf__max_features=2, clf__n_estimators=20, total=   0.1s\n",
      "[CV] clf__max_depth=15, clf__max_features=2, clf__n_estimators=20 ....\n",
      "[CV]  clf__max_depth=15, clf__max_features=2, clf__n_estimators=20, total=   0.1s\n",
      "[CV] clf__max_depth=15, clf__max_features=2, clf__n_estimators=50 ....\n",
      "[CV]  clf__max_depth=15, clf__max_features=2, clf__n_estimators=50, total=   0.2s\n",
      "[CV] clf__max_depth=15, clf__max_features=2, clf__n_estimators=50 ....\n",
      "[CV]  clf__max_depth=15, clf__max_features=2, clf__n_estimators=50, total=   0.2s\n",
      "[CV] clf__max_depth=15, clf__max_features=2, clf__n_estimators=50 ....\n",
      "[CV]  clf__max_depth=15, clf__max_features=2, clf__n_estimators=50, total=   0.2s\n",
      "[CV] clf__max_depth=15, clf__max_features=2, clf__n_estimators=70 ....\n",
      "[CV]  clf__max_depth=15, clf__max_features=2, clf__n_estimators=70, total=   0.3s\n",
      "[CV] clf__max_depth=15, clf__max_features=2, clf__n_estimators=70 ....\n",
      "[CV]  clf__max_depth=15, clf__max_features=2, clf__n_estimators=70, total=   0.3s\n",
      "[CV] clf__max_depth=15, clf__max_features=2, clf__n_estimators=70 ....\n",
      "[CV]  clf__max_depth=15, clf__max_features=2, clf__n_estimators=70, total=   0.3s\n",
      "[CV] clf__max_depth=15, clf__max_features=2, clf__n_estimators=100 ...\n",
      "[CV]  clf__max_depth=15, clf__max_features=2, clf__n_estimators=100, total=   0.4s\n",
      "[CV] clf__max_depth=15, clf__max_features=2, clf__n_estimators=100 ...\n",
      "[CV]  clf__max_depth=15, clf__max_features=2, clf__n_estimators=100, total=   0.4s\n",
      "[CV] clf__max_depth=15, clf__max_features=2, clf__n_estimators=100 ...\n",
      "[CV]  clf__max_depth=15, clf__max_features=2, clf__n_estimators=100, total=   0.4s\n",
      "[CV] clf__max_depth=15, clf__max_features=2, clf__n_estimators=120 ...\n",
      "[CV]  clf__max_depth=15, clf__max_features=2, clf__n_estimators=120, total=   0.5s\n",
      "[CV] clf__max_depth=15, clf__max_features=2, clf__n_estimators=120 ...\n",
      "[CV]  clf__max_depth=15, clf__max_features=2, clf__n_estimators=120, total=   0.5s\n",
      "[CV] clf__max_depth=15, clf__max_features=2, clf__n_estimators=120 ...\n",
      "[CV]  clf__max_depth=15, clf__max_features=2, clf__n_estimators=120, total=   0.5s\n",
      "[CV] clf__max_depth=15, clf__max_features=2, clf__n_estimators=130 ...\n",
      "[CV]  clf__max_depth=15, clf__max_features=2, clf__n_estimators=130, total=   0.5s\n",
      "[CV] clf__max_depth=15, clf__max_features=2, clf__n_estimators=130 ...\n",
      "[CV]  clf__max_depth=15, clf__max_features=2, clf__n_estimators=130, total=   0.5s\n",
      "[CV] clf__max_depth=15, clf__max_features=2, clf__n_estimators=130 ...\n",
      "[CV]  clf__max_depth=15, clf__max_features=2, clf__n_estimators=130, total=   0.5s\n",
      "[CV] clf__max_depth=15, clf__max_features=2, clf__n_estimators=140 ...\n",
      "[CV]  clf__max_depth=15, clf__max_features=2, clf__n_estimators=140, total=   0.6s\n",
      "[CV] clf__max_depth=15, clf__max_features=2, clf__n_estimators=140 ...\n",
      "[CV]  clf__max_depth=15, clf__max_features=2, clf__n_estimators=140, total=   0.6s\n",
      "[CV] clf__max_depth=15, clf__max_features=2, clf__n_estimators=140 ...\n",
      "[CV]  clf__max_depth=15, clf__max_features=2, clf__n_estimators=140, total=   0.6s\n",
      "[CV] clf__max_depth=15, clf__max_features=2, clf__n_estimators=150 ...\n",
      "[CV]  clf__max_depth=15, clf__max_features=2, clf__n_estimators=150, total=   0.6s\n",
      "[CV] clf__max_depth=15, clf__max_features=2, clf__n_estimators=150 ...\n",
      "[CV]  clf__max_depth=15, clf__max_features=2, clf__n_estimators=150, total=   0.6s\n",
      "[CV] clf__max_depth=15, clf__max_features=2, clf__n_estimators=150 ...\n",
      "[CV]  clf__max_depth=15, clf__max_features=2, clf__n_estimators=150, total=   0.6s\n",
      "[CV] clf__max_depth=15, clf__max_features=2, clf__n_estimators=200 ...\n",
      "[CV]  clf__max_depth=15, clf__max_features=2, clf__n_estimators=200, total=   0.8s\n",
      "[CV] clf__max_depth=15, clf__max_features=2, clf__n_estimators=200 ...\n",
      "[CV]  clf__max_depth=15, clf__max_features=2, clf__n_estimators=200, total=   0.8s\n",
      "[CV] clf__max_depth=15, clf__max_features=2, clf__n_estimators=200 ...\n",
      "[CV]  clf__max_depth=15, clf__max_features=2, clf__n_estimators=200, total=   0.8s\n",
      "[CV] clf__max_depth=15, clf__max_features=3, clf__n_estimators=10 ....\n",
      "[CV]  clf__max_depth=15, clf__max_features=3, clf__n_estimators=10, total=   0.1s\n",
      "[CV] clf__max_depth=15, clf__max_features=3, clf__n_estimators=10 ....\n",
      "[CV]  clf__max_depth=15, clf__max_features=3, clf__n_estimators=10, total=   0.1s\n",
      "[CV] clf__max_depth=15, clf__max_features=3, clf__n_estimators=10 ....\n",
      "[CV]  clf__max_depth=15, clf__max_features=3, clf__n_estimators=10, total=   0.1s\n",
      "[CV] clf__max_depth=15, clf__max_features=3, clf__n_estimators=20 ....\n",
      "[CV]  clf__max_depth=15, clf__max_features=3, clf__n_estimators=20, total=   0.1s\n",
      "[CV] clf__max_depth=15, clf__max_features=3, clf__n_estimators=20 ....\n",
      "[CV]  clf__max_depth=15, clf__max_features=3, clf__n_estimators=20, total=   0.1s\n",
      "[CV] clf__max_depth=15, clf__max_features=3, clf__n_estimators=20 ....\n",
      "[CV]  clf__max_depth=15, clf__max_features=3, clf__n_estimators=20, total=   0.1s\n",
      "[CV] clf__max_depth=15, clf__max_features=3, clf__n_estimators=50 ....\n",
      "[CV]  clf__max_depth=15, clf__max_features=3, clf__n_estimators=50, total=   0.3s\n",
      "[CV] clf__max_depth=15, clf__max_features=3, clf__n_estimators=50 ....\n",
      "[CV]  clf__max_depth=15, clf__max_features=3, clf__n_estimators=50, total=   0.3s\n",
      "[CV] clf__max_depth=15, clf__max_features=3, clf__n_estimators=50 ....\n",
      "[CV]  clf__max_depth=15, clf__max_features=3, clf__n_estimators=50, total=   0.3s\n",
      "[CV] clf__max_depth=15, clf__max_features=3, clf__n_estimators=70 ....\n",
      "[CV]  clf__max_depth=15, clf__max_features=3, clf__n_estimators=70, total=   0.4s\n",
      "[CV] clf__max_depth=15, clf__max_features=3, clf__n_estimators=70 ....\n",
      "[CV]  clf__max_depth=15, clf__max_features=3, clf__n_estimators=70, total=   0.4s\n",
      "[CV] clf__max_depth=15, clf__max_features=3, clf__n_estimators=70 ....\n",
      "[CV]  clf__max_depth=15, clf__max_features=3, clf__n_estimators=70, total=   0.4s\n",
      "[CV] clf__max_depth=15, clf__max_features=3, clf__n_estimators=100 ...\n",
      "[CV]  clf__max_depth=15, clf__max_features=3, clf__n_estimators=100, total=   0.5s\n",
      "[CV] clf__max_depth=15, clf__max_features=3, clf__n_estimators=100 ...\n",
      "[CV]  clf__max_depth=15, clf__max_features=3, clf__n_estimators=100, total=   0.5s\n",
      "[CV] clf__max_depth=15, clf__max_features=3, clf__n_estimators=100 ...\n",
      "[CV]  clf__max_depth=15, clf__max_features=3, clf__n_estimators=100, total=   0.5s\n",
      "[CV] clf__max_depth=15, clf__max_features=3, clf__n_estimators=120 ...\n",
      "[CV]  clf__max_depth=15, clf__max_features=3, clf__n_estimators=120, total=   0.6s\n",
      "[CV] clf__max_depth=15, clf__max_features=3, clf__n_estimators=120 ...\n",
      "[CV]  clf__max_depth=15, clf__max_features=3, clf__n_estimators=120, total=   0.6s\n",
      "[CV] clf__max_depth=15, clf__max_features=3, clf__n_estimators=120 ...\n",
      "[CV]  clf__max_depth=15, clf__max_features=3, clf__n_estimators=120, total=   0.6s\n",
      "[CV] clf__max_depth=15, clf__max_features=3, clf__n_estimators=130 ...\n",
      "[CV]  clf__max_depth=15, clf__max_features=3, clf__n_estimators=130, total=   0.7s\n",
      "[CV] clf__max_depth=15, clf__max_features=3, clf__n_estimators=130 ...\n",
      "[CV]  clf__max_depth=15, clf__max_features=3, clf__n_estimators=130, total=   0.7s\n",
      "[CV] clf__max_depth=15, clf__max_features=3, clf__n_estimators=130 ...\n",
      "[CV]  clf__max_depth=15, clf__max_features=3, clf__n_estimators=130, total=   0.7s\n",
      "[CV] clf__max_depth=15, clf__max_features=3, clf__n_estimators=140 ...\n",
      "[CV]  clf__max_depth=15, clf__max_features=3, clf__n_estimators=140, total=   0.7s\n",
      "[CV] clf__max_depth=15, clf__max_features=3, clf__n_estimators=140 ...\n",
      "[CV]  clf__max_depth=15, clf__max_features=3, clf__n_estimators=140, total=   0.7s\n",
      "[CV] clf__max_depth=15, clf__max_features=3, clf__n_estimators=140 ...\n",
      "[CV]  clf__max_depth=15, clf__max_features=3, clf__n_estimators=140, total=   0.7s\n",
      "[CV] clf__max_depth=15, clf__max_features=3, clf__n_estimators=150 ...\n",
      "[CV]  clf__max_depth=15, clf__max_features=3, clf__n_estimators=150, total=   0.8s\n",
      "[CV] clf__max_depth=15, clf__max_features=3, clf__n_estimators=150 ...\n",
      "[CV]  clf__max_depth=15, clf__max_features=3, clf__n_estimators=150, total=   0.8s\n",
      "[CV] clf__max_depth=15, clf__max_features=3, clf__n_estimators=150 ...\n",
      "[CV]  clf__max_depth=15, clf__max_features=3, clf__n_estimators=150, total=   0.8s\n",
      "[CV] clf__max_depth=15, clf__max_features=3, clf__n_estimators=200 ...\n",
      "[CV]  clf__max_depth=15, clf__max_features=3, clf__n_estimators=200, total=   1.0s\n",
      "[CV] clf__max_depth=15, clf__max_features=3, clf__n_estimators=200 ...\n",
      "[CV]  clf__max_depth=15, clf__max_features=3, clf__n_estimators=200, total=   1.0s\n",
      "[CV] clf__max_depth=15, clf__max_features=3, clf__n_estimators=200 ...\n",
      "[CV]  clf__max_depth=15, clf__max_features=3, clf__n_estimators=200, total=   1.0s\n",
      "[CV] clf__max_depth=20, clf__max_features=None, clf__n_estimators=10 .\n",
      "[CV]  clf__max_depth=20, clf__max_features=None, clf__n_estimators=10, total=   0.1s\n",
      "[CV] clf__max_depth=20, clf__max_features=None, clf__n_estimators=10 .\n",
      "[CV]  clf__max_depth=20, clf__max_features=None, clf__n_estimators=10, total=   0.1s\n",
      "[CV] clf__max_depth=20, clf__max_features=None, clf__n_estimators=10 .\n",
      "[CV]  clf__max_depth=20, clf__max_features=None, clf__n_estimators=10, total=   0.1s\n",
      "[CV] clf__max_depth=20, clf__max_features=None, clf__n_estimators=20 .\n",
      "[CV]  clf__max_depth=20, clf__max_features=None, clf__n_estimators=20, total=   0.2s\n",
      "[CV] clf__max_depth=20, clf__max_features=None, clf__n_estimators=20 .\n",
      "[CV]  clf__max_depth=20, clf__max_features=None, clf__n_estimators=20, total=   0.2s\n",
      "[CV] clf__max_depth=20, clf__max_features=None, clf__n_estimators=20 .\n",
      "[CV]  clf__max_depth=20, clf__max_features=None, clf__n_estimators=20, total=   0.2s\n",
      "[CV] clf__max_depth=20, clf__max_features=None, clf__n_estimators=50 .\n",
      "[CV]  clf__max_depth=20, clf__max_features=None, clf__n_estimators=50, total=   0.4s\n",
      "[CV] clf__max_depth=20, clf__max_features=None, clf__n_estimators=50 .\n",
      "[CV]  clf__max_depth=20, clf__max_features=None, clf__n_estimators=50, total=   0.4s\n",
      "[CV] clf__max_depth=20, clf__max_features=None, clf__n_estimators=50 .\n",
      "[CV]  clf__max_depth=20, clf__max_features=None, clf__n_estimators=50, total=   0.4s\n",
      "[CV] clf__max_depth=20, clf__max_features=None, clf__n_estimators=70 .\n",
      "[CV]  clf__max_depth=20, clf__max_features=None, clf__n_estimators=70, total=   0.5s\n",
      "[CV] clf__max_depth=20, clf__max_features=None, clf__n_estimators=70 .\n",
      "[CV]  clf__max_depth=20, clf__max_features=None, clf__n_estimators=70, total=   0.5s\n",
      "[CV] clf__max_depth=20, clf__max_features=None, clf__n_estimators=70 .\n",
      "[CV]  clf__max_depth=20, clf__max_features=None, clf__n_estimators=70, total=   0.5s\n",
      "[CV] clf__max_depth=20, clf__max_features=None, clf__n_estimators=100 \n",
      "[CV]  clf__max_depth=20, clf__max_features=None, clf__n_estimators=100, total=   0.8s\n",
      "[CV] clf__max_depth=20, clf__max_features=None, clf__n_estimators=100 \n",
      "[CV]  clf__max_depth=20, clf__max_features=None, clf__n_estimators=100, total=   0.8s\n",
      "[CV] clf__max_depth=20, clf__max_features=None, clf__n_estimators=100 \n",
      "[CV]  clf__max_depth=20, clf__max_features=None, clf__n_estimators=100, total=   0.8s\n",
      "[CV] clf__max_depth=20, clf__max_features=None, clf__n_estimators=120 \n",
      "[CV]  clf__max_depth=20, clf__max_features=None, clf__n_estimators=120, total=   0.9s\n",
      "[CV] clf__max_depth=20, clf__max_features=None, clf__n_estimators=120 \n",
      "[CV]  clf__max_depth=20, clf__max_features=None, clf__n_estimators=120, total=   0.9s\n",
      "[CV] clf__max_depth=20, clf__max_features=None, clf__n_estimators=120 \n",
      "[CV]  clf__max_depth=20, clf__max_features=None, clf__n_estimators=120, total=   0.9s\n",
      "[CV] clf__max_depth=20, clf__max_features=None, clf__n_estimators=130 \n",
      "[CV]  clf__max_depth=20, clf__max_features=None, clf__n_estimators=130, total=   1.0s\n",
      "[CV] clf__max_depth=20, clf__max_features=None, clf__n_estimators=130 \n",
      "[CV]  clf__max_depth=20, clf__max_features=None, clf__n_estimators=130, total=   1.0s\n",
      "[CV] clf__max_depth=20, clf__max_features=None, clf__n_estimators=130 \n",
      "[CV]  clf__max_depth=20, clf__max_features=None, clf__n_estimators=130, total=   1.0s\n",
      "[CV] clf__max_depth=20, clf__max_features=None, clf__n_estimators=140 \n",
      "[CV]  clf__max_depth=20, clf__max_features=None, clf__n_estimators=140, total=   1.1s\n",
      "[CV] clf__max_depth=20, clf__max_features=None, clf__n_estimators=140 \n",
      "[CV]  clf__max_depth=20, clf__max_features=None, clf__n_estimators=140, total=   1.1s\n",
      "[CV] clf__max_depth=20, clf__max_features=None, clf__n_estimators=140 \n",
      "[CV]  clf__max_depth=20, clf__max_features=None, clf__n_estimators=140, total=   1.1s\n",
      "[CV] clf__max_depth=20, clf__max_features=None, clf__n_estimators=150 \n",
      "[CV]  clf__max_depth=20, clf__max_features=None, clf__n_estimators=150, total=   1.2s\n",
      "[CV] clf__max_depth=20, clf__max_features=None, clf__n_estimators=150 \n",
      "[CV]  clf__max_depth=20, clf__max_features=None, clf__n_estimators=150, total=   1.1s\n",
      "[CV] clf__max_depth=20, clf__max_features=None, clf__n_estimators=150 \n",
      "[CV]  clf__max_depth=20, clf__max_features=None, clf__n_estimators=150, total=   1.2s\n",
      "[CV] clf__max_depth=20, clf__max_features=None, clf__n_estimators=200 \n",
      "[CV]  clf__max_depth=20, clf__max_features=None, clf__n_estimators=200, total=   1.5s\n",
      "[CV] clf__max_depth=20, clf__max_features=None, clf__n_estimators=200 \n",
      "[CV]  clf__max_depth=20, clf__max_features=None, clf__n_estimators=200, total=   1.5s\n",
      "[CV] clf__max_depth=20, clf__max_features=None, clf__n_estimators=200 \n",
      "[CV]  clf__max_depth=20, clf__max_features=None, clf__n_estimators=200, total=   1.6s\n",
      "[CV] clf__max_depth=20, clf__max_features=1, clf__n_estimators=10 ....\n",
      "[CV]  clf__max_depth=20, clf__max_features=1, clf__n_estimators=10, total=   0.0s\n",
      "[CV] clf__max_depth=20, clf__max_features=1, clf__n_estimators=10 ....\n",
      "[CV]  clf__max_depth=20, clf__max_features=1, clf__n_estimators=10, total=   0.0s\n",
      "[CV] clf__max_depth=20, clf__max_features=1, clf__n_estimators=10 ....\n",
      "[CV]  clf__max_depth=20, clf__max_features=1, clf__n_estimators=10, total=   0.0s\n",
      "[CV] clf__max_depth=20, clf__max_features=1, clf__n_estimators=20 ....\n",
      "[CV]  clf__max_depth=20, clf__max_features=1, clf__n_estimators=20, total=   0.1s\n",
      "[CV] clf__max_depth=20, clf__max_features=1, clf__n_estimators=20 ....\n",
      "[CV]  clf__max_depth=20, clf__max_features=1, clf__n_estimators=20, total=   0.1s\n",
      "[CV] clf__max_depth=20, clf__max_features=1, clf__n_estimators=20 ....\n",
      "[CV]  clf__max_depth=20, clf__max_features=1, clf__n_estimators=20, total=   0.1s\n",
      "[CV] clf__max_depth=20, clf__max_features=1, clf__n_estimators=50 ....\n",
      "[CV]  clf__max_depth=20, clf__max_features=1, clf__n_estimators=50, total=   0.2s\n",
      "[CV] clf__max_depth=20, clf__max_features=1, clf__n_estimators=50 ....\n",
      "[CV]  clf__max_depth=20, clf__max_features=1, clf__n_estimators=50, total=   0.2s\n",
      "[CV] clf__max_depth=20, clf__max_features=1, clf__n_estimators=50 ....\n",
      "[CV]  clf__max_depth=20, clf__max_features=1, clf__n_estimators=50, total=   0.2s\n",
      "[CV] clf__max_depth=20, clf__max_features=1, clf__n_estimators=70 ....\n",
      "[CV]  clf__max_depth=20, clf__max_features=1, clf__n_estimators=70, total=   0.3s\n",
      "[CV] clf__max_depth=20, clf__max_features=1, clf__n_estimators=70 ....\n",
      "[CV]  clf__max_depth=20, clf__max_features=1, clf__n_estimators=70, total=   0.3s\n",
      "[CV] clf__max_depth=20, clf__max_features=1, clf__n_estimators=70 ....\n",
      "[CV]  clf__max_depth=20, clf__max_features=1, clf__n_estimators=70, total=   0.3s\n",
      "[CV] clf__max_depth=20, clf__max_features=1, clf__n_estimators=100 ...\n",
      "[CV]  clf__max_depth=20, clf__max_features=1, clf__n_estimators=100, total=   0.4s\n",
      "[CV] clf__max_depth=20, clf__max_features=1, clf__n_estimators=100 ...\n",
      "[CV]  clf__max_depth=20, clf__max_features=1, clf__n_estimators=100, total=   0.4s\n",
      "[CV] clf__max_depth=20, clf__max_features=1, clf__n_estimators=100 ...\n",
      "[CV]  clf__max_depth=20, clf__max_features=1, clf__n_estimators=100, total=   0.4s\n",
      "[CV] clf__max_depth=20, clf__max_features=1, clf__n_estimators=120 ...\n",
      "[CV]  clf__max_depth=20, clf__max_features=1, clf__n_estimators=120, total=   0.4s\n",
      "[CV] clf__max_depth=20, clf__max_features=1, clf__n_estimators=120 ...\n",
      "[CV]  clf__max_depth=20, clf__max_features=1, clf__n_estimators=120, total=   0.4s\n",
      "[CV] clf__max_depth=20, clf__max_features=1, clf__n_estimators=120 ...\n",
      "[CV]  clf__max_depth=20, clf__max_features=1, clf__n_estimators=120, total=   0.4s\n",
      "[CV] clf__max_depth=20, clf__max_features=1, clf__n_estimators=130 ...\n",
      "[CV]  clf__max_depth=20, clf__max_features=1, clf__n_estimators=130, total=   0.5s\n",
      "[CV] clf__max_depth=20, clf__max_features=1, clf__n_estimators=130 ...\n",
      "[CV]  clf__max_depth=20, clf__max_features=1, clf__n_estimators=130, total=   0.5s\n",
      "[CV] clf__max_depth=20, clf__max_features=1, clf__n_estimators=130 ...\n",
      "[CV]  clf__max_depth=20, clf__max_features=1, clf__n_estimators=130, total=   0.5s\n",
      "[CV] clf__max_depth=20, clf__max_features=1, clf__n_estimators=140 ...\n",
      "[CV]  clf__max_depth=20, clf__max_features=1, clf__n_estimators=140, total=   0.5s\n",
      "[CV] clf__max_depth=20, clf__max_features=1, clf__n_estimators=140 ...\n",
      "[CV]  clf__max_depth=20, clf__max_features=1, clf__n_estimators=140, total=   0.5s\n",
      "[CV] clf__max_depth=20, clf__max_features=1, clf__n_estimators=140 ...\n",
      "[CV]  clf__max_depth=20, clf__max_features=1, clf__n_estimators=140, total=   0.5s\n",
      "[CV] clf__max_depth=20, clf__max_features=1, clf__n_estimators=150 ...\n",
      "[CV]  clf__max_depth=20, clf__max_features=1, clf__n_estimators=150, total=   0.5s\n",
      "[CV] clf__max_depth=20, clf__max_features=1, clf__n_estimators=150 ...\n",
      "[CV]  clf__max_depth=20, clf__max_features=1, clf__n_estimators=150, total=   0.5s\n",
      "[CV] clf__max_depth=20, clf__max_features=1, clf__n_estimators=150 ...\n",
      "[CV]  clf__max_depth=20, clf__max_features=1, clf__n_estimators=150, total=   0.5s\n",
      "[CV] clf__max_depth=20, clf__max_features=1, clf__n_estimators=200 ...\n",
      "[CV]  clf__max_depth=20, clf__max_features=1, clf__n_estimators=200, total=   0.7s\n",
      "[CV] clf__max_depth=20, clf__max_features=1, clf__n_estimators=200 ...\n",
      "[CV]  clf__max_depth=20, clf__max_features=1, clf__n_estimators=200, total=   0.7s\n",
      "[CV] clf__max_depth=20, clf__max_features=1, clf__n_estimators=200 ...\n",
      "[CV]  clf__max_depth=20, clf__max_features=1, clf__n_estimators=200, total=   0.7s\n",
      "[CV] clf__max_depth=20, clf__max_features=2, clf__n_estimators=10 ....\n",
      "[CV]  clf__max_depth=20, clf__max_features=2, clf__n_estimators=10, total=   0.1s\n",
      "[CV] clf__max_depth=20, clf__max_features=2, clf__n_estimators=10 ....\n",
      "[CV]  clf__max_depth=20, clf__max_features=2, clf__n_estimators=10, total=   0.0s\n",
      "[CV] clf__max_depth=20, clf__max_features=2, clf__n_estimators=10 ....\n",
      "[CV]  clf__max_depth=20, clf__max_features=2, clf__n_estimators=10, total=   0.1s\n",
      "[CV] clf__max_depth=20, clf__max_features=2, clf__n_estimators=20 ....\n",
      "[CV]  clf__max_depth=20, clf__max_features=2, clf__n_estimators=20, total=   0.1s\n",
      "[CV] clf__max_depth=20, clf__max_features=2, clf__n_estimators=20 ....\n",
      "[CV]  clf__max_depth=20, clf__max_features=2, clf__n_estimators=20, total=   0.1s\n",
      "[CV] clf__max_depth=20, clf__max_features=2, clf__n_estimators=20 ....\n",
      "[CV]  clf__max_depth=20, clf__max_features=2, clf__n_estimators=20, total=   0.1s\n",
      "[CV] clf__max_depth=20, clf__max_features=2, clf__n_estimators=50 ....\n",
      "[CV]  clf__max_depth=20, clf__max_features=2, clf__n_estimators=50, total=   0.2s\n",
      "[CV] clf__max_depth=20, clf__max_features=2, clf__n_estimators=50 ....\n",
      "[CV]  clf__max_depth=20, clf__max_features=2, clf__n_estimators=50, total=   0.2s\n",
      "[CV] clf__max_depth=20, clf__max_features=2, clf__n_estimators=50 ....\n",
      "[CV]  clf__max_depth=20, clf__max_features=2, clf__n_estimators=50, total=   0.2s\n",
      "[CV] clf__max_depth=20, clf__max_features=2, clf__n_estimators=70 ....\n",
      "[CV]  clf__max_depth=20, clf__max_features=2, clf__n_estimators=70, total=   0.3s\n",
      "[CV] clf__max_depth=20, clf__max_features=2, clf__n_estimators=70 ....\n",
      "[CV]  clf__max_depth=20, clf__max_features=2, clf__n_estimators=70, total=   0.3s\n",
      "[CV] clf__max_depth=20, clf__max_features=2, clf__n_estimators=70 ....\n",
      "[CV]  clf__max_depth=20, clf__max_features=2, clf__n_estimators=70, total=   0.3s\n",
      "[CV] clf__max_depth=20, clf__max_features=2, clf__n_estimators=100 ...\n",
      "[CV]  clf__max_depth=20, clf__max_features=2, clf__n_estimators=100, total=   0.5s\n",
      "[CV] clf__max_depth=20, clf__max_features=2, clf__n_estimators=100 ...\n",
      "[CV]  clf__max_depth=20, clf__max_features=2, clf__n_estimators=100, total=   0.5s\n",
      "[CV] clf__max_depth=20, clf__max_features=2, clf__n_estimators=100 ...\n",
      "[CV]  clf__max_depth=20, clf__max_features=2, clf__n_estimators=100, total=   0.5s\n",
      "[CV] clf__max_depth=20, clf__max_features=2, clf__n_estimators=120 ...\n",
      "[CV]  clf__max_depth=20, clf__max_features=2, clf__n_estimators=120, total=   0.5s\n",
      "[CV] clf__max_depth=20, clf__max_features=2, clf__n_estimators=120 ...\n",
      "[CV]  clf__max_depth=20, clf__max_features=2, clf__n_estimators=120, total=   0.6s\n",
      "[CV] clf__max_depth=20, clf__max_features=2, clf__n_estimators=120 ...\n",
      "[CV]  clf__max_depth=20, clf__max_features=2, clf__n_estimators=120, total=   0.6s\n",
      "[CV] clf__max_depth=20, clf__max_features=2, clf__n_estimators=130 ...\n",
      "[CV]  clf__max_depth=20, clf__max_features=2, clf__n_estimators=130, total=   0.6s\n",
      "[CV] clf__max_depth=20, clf__max_features=2, clf__n_estimators=130 ...\n",
      "[CV]  clf__max_depth=20, clf__max_features=2, clf__n_estimators=130, total=   0.6s\n",
      "[CV] clf__max_depth=20, clf__max_features=2, clf__n_estimators=130 ...\n",
      "[CV]  clf__max_depth=20, clf__max_features=2, clf__n_estimators=130, total=   0.6s\n",
      "[CV] clf__max_depth=20, clf__max_features=2, clf__n_estimators=140 ...\n",
      "[CV]  clf__max_depth=20, clf__max_features=2, clf__n_estimators=140, total=   0.6s\n",
      "[CV] clf__max_depth=20, clf__max_features=2, clf__n_estimators=140 ...\n",
      "[CV]  clf__max_depth=20, clf__max_features=2, clf__n_estimators=140, total=   0.6s\n",
      "[CV] clf__max_depth=20, clf__max_features=2, clf__n_estimators=140 ...\n",
      "[CV]  clf__max_depth=20, clf__max_features=2, clf__n_estimators=140, total=   0.6s\n",
      "[CV] clf__max_depth=20, clf__max_features=2, clf__n_estimators=150 ...\n",
      "[CV]  clf__max_depth=20, clf__max_features=2, clf__n_estimators=150, total=   0.7s\n",
      "[CV] clf__max_depth=20, clf__max_features=2, clf__n_estimators=150 ...\n",
      "[CV]  clf__max_depth=20, clf__max_features=2, clf__n_estimators=150, total=   0.7s\n",
      "[CV] clf__max_depth=20, clf__max_features=2, clf__n_estimators=150 ...\n",
      "[CV]  clf__max_depth=20, clf__max_features=2, clf__n_estimators=150, total=   0.7s\n",
      "[CV] clf__max_depth=20, clf__max_features=2, clf__n_estimators=200 ...\n",
      "[CV]  clf__max_depth=20, clf__max_features=2, clf__n_estimators=200, total=   0.9s\n",
      "[CV] clf__max_depth=20, clf__max_features=2, clf__n_estimators=200 ...\n",
      "[CV]  clf__max_depth=20, clf__max_features=2, clf__n_estimators=200, total=   0.9s\n",
      "[CV] clf__max_depth=20, clf__max_features=2, clf__n_estimators=200 ...\n",
      "[CV]  clf__max_depth=20, clf__max_features=2, clf__n_estimators=200, total=   0.9s\n",
      "[CV] clf__max_depth=20, clf__max_features=3, clf__n_estimators=10 ....\n",
      "[CV]  clf__max_depth=20, clf__max_features=3, clf__n_estimators=10, total=   0.1s\n",
      "[CV] clf__max_depth=20, clf__max_features=3, clf__n_estimators=10 ....\n",
      "[CV]  clf__max_depth=20, clf__max_features=3, clf__n_estimators=10, total=   0.1s\n",
      "[CV] clf__max_depth=20, clf__max_features=3, clf__n_estimators=10 ....\n",
      "[CV]  clf__max_depth=20, clf__max_features=3, clf__n_estimators=10, total=   0.1s\n",
      "[CV] clf__max_depth=20, clf__max_features=3, clf__n_estimators=20 ....\n",
      "[CV]  clf__max_depth=20, clf__max_features=3, clf__n_estimators=20, total=   0.1s\n",
      "[CV] clf__max_depth=20, clf__max_features=3, clf__n_estimators=20 ....\n",
      "[CV]  clf__max_depth=20, clf__max_features=3, clf__n_estimators=20, total=   0.1s\n",
      "[CV] clf__max_depth=20, clf__max_features=3, clf__n_estimators=20 ....\n",
      "[CV]  clf__max_depth=20, clf__max_features=3, clf__n_estimators=20, total=   0.1s\n",
      "[CV] clf__max_depth=20, clf__max_features=3, clf__n_estimators=50 ....\n",
      "[CV]  clf__max_depth=20, clf__max_features=3, clf__n_estimators=50, total=   0.3s\n",
      "[CV] clf__max_depth=20, clf__max_features=3, clf__n_estimators=50 ....\n",
      "[CV]  clf__max_depth=20, clf__max_features=3, clf__n_estimators=50, total=   0.3s\n",
      "[CV] clf__max_depth=20, clf__max_features=3, clf__n_estimators=50 ....\n",
      "[CV]  clf__max_depth=20, clf__max_features=3, clf__n_estimators=50, total=   0.3s\n",
      "[CV] clf__max_depth=20, clf__max_features=3, clf__n_estimators=70 ....\n",
      "[CV]  clf__max_depth=20, clf__max_features=3, clf__n_estimators=70, total=   0.4s\n",
      "[CV] clf__max_depth=20, clf__max_features=3, clf__n_estimators=70 ....\n",
      "[CV]  clf__max_depth=20, clf__max_features=3, clf__n_estimators=70, total=   0.4s\n",
      "[CV] clf__max_depth=20, clf__max_features=3, clf__n_estimators=70 ....\n",
      "[CV]  clf__max_depth=20, clf__max_features=3, clf__n_estimators=70, total=   0.4s\n",
      "[CV] clf__max_depth=20, clf__max_features=3, clf__n_estimators=100 ...\n",
      "[CV]  clf__max_depth=20, clf__max_features=3, clf__n_estimators=100, total=   0.6s\n",
      "[CV] clf__max_depth=20, clf__max_features=3, clf__n_estimators=100 ...\n",
      "[CV]  clf__max_depth=20, clf__max_features=3, clf__n_estimators=100, total=   0.6s\n",
      "[CV] clf__max_depth=20, clf__max_features=3, clf__n_estimators=100 ...\n",
      "[CV]  clf__max_depth=20, clf__max_features=3, clf__n_estimators=100, total=   0.6s\n",
      "[CV] clf__max_depth=20, clf__max_features=3, clf__n_estimators=120 ...\n",
      "[CV]  clf__max_depth=20, clf__max_features=3, clf__n_estimators=120, total=   0.7s\n",
      "[CV] clf__max_depth=20, clf__max_features=3, clf__n_estimators=120 ...\n",
      "[CV]  clf__max_depth=20, clf__max_features=3, clf__n_estimators=120, total=   0.7s\n",
      "[CV] clf__max_depth=20, clf__max_features=3, clf__n_estimators=120 ...\n",
      "[CV]  clf__max_depth=20, clf__max_features=3, clf__n_estimators=120, total=   0.7s\n",
      "[CV] clf__max_depth=20, clf__max_features=3, clf__n_estimators=130 ...\n",
      "[CV]  clf__max_depth=20, clf__max_features=3, clf__n_estimators=130, total=   0.7s\n",
      "[CV] clf__max_depth=20, clf__max_features=3, clf__n_estimators=130 ...\n",
      "[CV]  clf__max_depth=20, clf__max_features=3, clf__n_estimators=130, total=   0.7s\n",
      "[CV] clf__max_depth=20, clf__max_features=3, clf__n_estimators=130 ...\n",
      "[CV]  clf__max_depth=20, clf__max_features=3, clf__n_estimators=130, total=   0.7s\n",
      "[CV] clf__max_depth=20, clf__max_features=3, clf__n_estimators=140 ...\n",
      "[CV]  clf__max_depth=20, clf__max_features=3, clf__n_estimators=140, total=   0.8s\n",
      "[CV] clf__max_depth=20, clf__max_features=3, clf__n_estimators=140 ...\n",
      "[CV]  clf__max_depth=20, clf__max_features=3, clf__n_estimators=140, total=   0.8s\n",
      "[CV] clf__max_depth=20, clf__max_features=3, clf__n_estimators=140 ...\n",
      "[CV]  clf__max_depth=20, clf__max_features=3, clf__n_estimators=140, total=   0.8s\n",
      "[CV] clf__max_depth=20, clf__max_features=3, clf__n_estimators=150 ...\n",
      "[CV]  clf__max_depth=20, clf__max_features=3, clf__n_estimators=150, total=   0.8s\n",
      "[CV] clf__max_depth=20, clf__max_features=3, clf__n_estimators=150 ...\n",
      "[CV]  clf__max_depth=20, clf__max_features=3, clf__n_estimators=150, total=   0.8s\n",
      "[CV] clf__max_depth=20, clf__max_features=3, clf__n_estimators=150 ...\n",
      "[CV]  clf__max_depth=20, clf__max_features=3, clf__n_estimators=150, total=   0.9s\n",
      "[CV] clf__max_depth=20, clf__max_features=3, clf__n_estimators=200 ...\n",
      "[CV]  clf__max_depth=20, clf__max_features=3, clf__n_estimators=200, total=   1.1s\n",
      "[CV] clf__max_depth=20, clf__max_features=3, clf__n_estimators=200 ...\n",
      "[CV]  clf__max_depth=20, clf__max_features=3, clf__n_estimators=200, total=   1.1s\n",
      "[CV] clf__max_depth=20, clf__max_features=3, clf__n_estimators=200 ...\n",
      "[CV]  clf__max_depth=20, clf__max_features=3, clf__n_estimators=200, total=   1.1s\n",
      "[CV] clf__max_depth=25, clf__max_features=None, clf__n_estimators=10 .\n",
      "[CV]  clf__max_depth=25, clf__max_features=None, clf__n_estimators=10, total=   0.1s\n",
      "[CV] clf__max_depth=25, clf__max_features=None, clf__n_estimators=10 .\n",
      "[CV]  clf__max_depth=25, clf__max_features=None, clf__n_estimators=10, total=   0.1s\n",
      "[CV] clf__max_depth=25, clf__max_features=None, clf__n_estimators=10 .\n",
      "[CV]  clf__max_depth=25, clf__max_features=None, clf__n_estimators=10, total=   0.1s\n",
      "[CV] clf__max_depth=25, clf__max_features=None, clf__n_estimators=20 .\n",
      "[CV]  clf__max_depth=25, clf__max_features=None, clf__n_estimators=20, total=   0.2s\n",
      "[CV] clf__max_depth=25, clf__max_features=None, clf__n_estimators=20 .\n",
      "[CV]  clf__max_depth=25, clf__max_features=None, clf__n_estimators=20, total=   0.3s\n",
      "[CV] clf__max_depth=25, clf__max_features=None, clf__n_estimators=20 .\n",
      "[CV]  clf__max_depth=25, clf__max_features=None, clf__n_estimators=20, total=   0.3s\n",
      "[CV] clf__max_depth=25, clf__max_features=None, clf__n_estimators=50 .\n",
      "[CV]  clf__max_depth=25, clf__max_features=None, clf__n_estimators=50, total=   0.5s\n",
      "[CV] clf__max_depth=25, clf__max_features=None, clf__n_estimators=50 .\n",
      "[CV]  clf__max_depth=25, clf__max_features=None, clf__n_estimators=50, total=   0.6s\n",
      "[CV] clf__max_depth=25, clf__max_features=None, clf__n_estimators=50 .\n",
      "[CV]  clf__max_depth=25, clf__max_features=None, clf__n_estimators=50, total=   0.4s\n",
      "[CV] clf__max_depth=25, clf__max_features=None, clf__n_estimators=70 .\n",
      "[CV]  clf__max_depth=25, clf__max_features=None, clf__n_estimators=70, total=   0.9s\n",
      "[CV] clf__max_depth=25, clf__max_features=None, clf__n_estimators=70 .\n",
      "[CV]  clf__max_depth=25, clf__max_features=None, clf__n_estimators=70, total=   0.7s\n",
      "[CV] clf__max_depth=25, clf__max_features=None, clf__n_estimators=70 .\n",
      "[CV]  clf__max_depth=25, clf__max_features=None, clf__n_estimators=70, total=   0.8s\n",
      "[CV] clf__max_depth=25, clf__max_features=None, clf__n_estimators=100 \n",
      "[CV]  clf__max_depth=25, clf__max_features=None, clf__n_estimators=100, total=   1.6s\n",
      "[CV] clf__max_depth=25, clf__max_features=None, clf__n_estimators=100 \n",
      "[CV]  clf__max_depth=25, clf__max_features=None, clf__n_estimators=100, total=   1.2s\n",
      "[CV] clf__max_depth=25, clf__max_features=None, clf__n_estimators=100 \n",
      "[CV]  clf__max_depth=25, clf__max_features=None, clf__n_estimators=100, total=   0.8s\n",
      "[CV] clf__max_depth=25, clf__max_features=None, clf__n_estimators=120 \n",
      "[CV]  clf__max_depth=25, clf__max_features=None, clf__n_estimators=120, total=   1.0s\n",
      "[CV] clf__max_depth=25, clf__max_features=None, clf__n_estimators=120 \n",
      "[CV]  clf__max_depth=25, clf__max_features=None, clf__n_estimators=120, total=   1.0s\n",
      "[CV] clf__max_depth=25, clf__max_features=None, clf__n_estimators=120 \n",
      "[CV]  clf__max_depth=25, clf__max_features=None, clf__n_estimators=120, total=   1.0s\n",
      "[CV] clf__max_depth=25, clf__max_features=None, clf__n_estimators=130 \n",
      "[CV]  clf__max_depth=25, clf__max_features=None, clf__n_estimators=130, total=   1.0s\n",
      "[CV] clf__max_depth=25, clf__max_features=None, clf__n_estimators=130 \n",
      "[CV]  clf__max_depth=25, clf__max_features=None, clf__n_estimators=130, total=   1.0s\n",
      "[CV] clf__max_depth=25, clf__max_features=None, clf__n_estimators=130 \n",
      "[CV]  clf__max_depth=25, clf__max_features=None, clf__n_estimators=130, total=   1.0s\n",
      "[CV] clf__max_depth=25, clf__max_features=None, clf__n_estimators=140 \n",
      "[CV]  clf__max_depth=25, clf__max_features=None, clf__n_estimators=140, total=   1.1s\n",
      "[CV] clf__max_depth=25, clf__max_features=None, clf__n_estimators=140 \n",
      "[CV]  clf__max_depth=25, clf__max_features=None, clf__n_estimators=140, total=   1.1s\n",
      "[CV] clf__max_depth=25, clf__max_features=None, clf__n_estimators=140 \n",
      "[CV]  clf__max_depth=25, clf__max_features=None, clf__n_estimators=140, total=   1.1s\n",
      "[CV] clf__max_depth=25, clf__max_features=None, clf__n_estimators=150 \n",
      "[CV]  clf__max_depth=25, clf__max_features=None, clf__n_estimators=150, total=   1.2s\n",
      "[CV] clf__max_depth=25, clf__max_features=None, clf__n_estimators=150 \n",
      "[CV]  clf__max_depth=25, clf__max_features=None, clf__n_estimators=150, total=   1.2s\n",
      "[CV] clf__max_depth=25, clf__max_features=None, clf__n_estimators=150 \n",
      "[CV]  clf__max_depth=25, clf__max_features=None, clf__n_estimators=150, total=   1.2s\n",
      "[CV] clf__max_depth=25, clf__max_features=None, clf__n_estimators=200 \n",
      "[CV]  clf__max_depth=25, clf__max_features=None, clf__n_estimators=200, total=   1.6s\n",
      "[CV] clf__max_depth=25, clf__max_features=None, clf__n_estimators=200 \n",
      "[CV]  clf__max_depth=25, clf__max_features=None, clf__n_estimators=200, total=   1.6s\n",
      "[CV] clf__max_depth=25, clf__max_features=None, clf__n_estimators=200 \n",
      "[CV]  clf__max_depth=25, clf__max_features=None, clf__n_estimators=200, total=   1.6s\n",
      "[CV] clf__max_depth=25, clf__max_features=1, clf__n_estimators=10 ....\n",
      "[CV]  clf__max_depth=25, clf__max_features=1, clf__n_estimators=10, total=   0.0s\n",
      "[CV] clf__max_depth=25, clf__max_features=1, clf__n_estimators=10 ....\n",
      "[CV]  clf__max_depth=25, clf__max_features=1, clf__n_estimators=10, total=   0.0s\n",
      "[CV] clf__max_depth=25, clf__max_features=1, clf__n_estimators=10 ....\n",
      "[CV]  clf__max_depth=25, clf__max_features=1, clf__n_estimators=10, total=   0.0s\n",
      "[CV] clf__max_depth=25, clf__max_features=1, clf__n_estimators=20 ....\n",
      "[CV]  clf__max_depth=25, clf__max_features=1, clf__n_estimators=20, total=   0.1s\n",
      "[CV] clf__max_depth=25, clf__max_features=1, clf__n_estimators=20 ....\n",
      "[CV]  clf__max_depth=25, clf__max_features=1, clf__n_estimators=20, total=   0.1s\n",
      "[CV] clf__max_depth=25, clf__max_features=1, clf__n_estimators=20 ....\n",
      "[CV]  clf__max_depth=25, clf__max_features=1, clf__n_estimators=20, total=   0.1s\n",
      "[CV] clf__max_depth=25, clf__max_features=1, clf__n_estimators=50 ....\n",
      "[CV]  clf__max_depth=25, clf__max_features=1, clf__n_estimators=50, total=   0.2s\n",
      "[CV] clf__max_depth=25, clf__max_features=1, clf__n_estimators=50 ....\n",
      "[CV]  clf__max_depth=25, clf__max_features=1, clf__n_estimators=50, total=   0.2s\n",
      "[CV] clf__max_depth=25, clf__max_features=1, clf__n_estimators=50 ....\n",
      "[CV]  clf__max_depth=25, clf__max_features=1, clf__n_estimators=50, total=   0.2s\n",
      "[CV] clf__max_depth=25, clf__max_features=1, clf__n_estimators=70 ....\n",
      "[CV]  clf__max_depth=25, clf__max_features=1, clf__n_estimators=70, total=   0.3s\n",
      "[CV] clf__max_depth=25, clf__max_features=1, clf__n_estimators=70 ....\n",
      "[CV]  clf__max_depth=25, clf__max_features=1, clf__n_estimators=70, total=   0.3s\n",
      "[CV] clf__max_depth=25, clf__max_features=1, clf__n_estimators=70 ....\n",
      "[CV]  clf__max_depth=25, clf__max_features=1, clf__n_estimators=70, total=   0.3s\n",
      "[CV] clf__max_depth=25, clf__max_features=1, clf__n_estimators=100 ...\n",
      "[CV]  clf__max_depth=25, clf__max_features=1, clf__n_estimators=100, total=   0.4s\n",
      "[CV] clf__max_depth=25, clf__max_features=1, clf__n_estimators=100 ...\n",
      "[CV]  clf__max_depth=25, clf__max_features=1, clf__n_estimators=100, total=   0.4s\n",
      "[CV] clf__max_depth=25, clf__max_features=1, clf__n_estimators=100 ...\n",
      "[CV]  clf__max_depth=25, clf__max_features=1, clf__n_estimators=100, total=   0.4s\n",
      "[CV] clf__max_depth=25, clf__max_features=1, clf__n_estimators=120 ...\n",
      "[CV]  clf__max_depth=25, clf__max_features=1, clf__n_estimators=120, total=   0.5s\n",
      "[CV] clf__max_depth=25, clf__max_features=1, clf__n_estimators=120 ...\n",
      "[CV]  clf__max_depth=25, clf__max_features=1, clf__n_estimators=120, total=   0.5s\n",
      "[CV] clf__max_depth=25, clf__max_features=1, clf__n_estimators=120 ...\n",
      "[CV]  clf__max_depth=25, clf__max_features=1, clf__n_estimators=120, total=   0.5s\n",
      "[CV] clf__max_depth=25, clf__max_features=1, clf__n_estimators=130 ...\n",
      "[CV]  clf__max_depth=25, clf__max_features=1, clf__n_estimators=130, total=   0.5s\n",
      "[CV] clf__max_depth=25, clf__max_features=1, clf__n_estimators=130 ...\n",
      "[CV]  clf__max_depth=25, clf__max_features=1, clf__n_estimators=130, total=   0.5s\n",
      "[CV] clf__max_depth=25, clf__max_features=1, clf__n_estimators=130 ...\n",
      "[CV]  clf__max_depth=25, clf__max_features=1, clf__n_estimators=130, total=   0.6s\n",
      "[CV] clf__max_depth=25, clf__max_features=1, clf__n_estimators=140 ...\n",
      "[CV]  clf__max_depth=25, clf__max_features=1, clf__n_estimators=140, total=   0.5s\n",
      "[CV] clf__max_depth=25, clf__max_features=1, clf__n_estimators=140 ...\n",
      "[CV]  clf__max_depth=25, clf__max_features=1, clf__n_estimators=140, total=   0.7s\n",
      "[CV] clf__max_depth=25, clf__max_features=1, clf__n_estimators=140 ...\n",
      "[CV]  clf__max_depth=25, clf__max_features=1, clf__n_estimators=140, total=   0.8s\n",
      "[CV] clf__max_depth=25, clf__max_features=1, clf__n_estimators=150 ...\n",
      "[CV]  clf__max_depth=25, clf__max_features=1, clf__n_estimators=150, total=   0.6s\n",
      "[CV] clf__max_depth=25, clf__max_features=1, clf__n_estimators=150 ...\n",
      "[CV]  clf__max_depth=25, clf__max_features=1, clf__n_estimators=150, total=   0.6s\n",
      "[CV] clf__max_depth=25, clf__max_features=1, clf__n_estimators=150 ...\n",
      "[CV]  clf__max_depth=25, clf__max_features=1, clf__n_estimators=150, total=   0.6s\n",
      "[CV] clf__max_depth=25, clf__max_features=1, clf__n_estimators=200 ...\n",
      "[CV]  clf__max_depth=25, clf__max_features=1, clf__n_estimators=200, total=   0.8s\n",
      "[CV] clf__max_depth=25, clf__max_features=1, clf__n_estimators=200 ...\n",
      "[CV]  clf__max_depth=25, clf__max_features=1, clf__n_estimators=200, total=   0.8s\n",
      "[CV] clf__max_depth=25, clf__max_features=1, clf__n_estimators=200 ...\n",
      "[CV]  clf__max_depth=25, clf__max_features=1, clf__n_estimators=200, total=   0.8s\n",
      "[CV] clf__max_depth=25, clf__max_features=2, clf__n_estimators=10 ....\n",
      "[CV]  clf__max_depth=25, clf__max_features=2, clf__n_estimators=10, total=   0.1s\n",
      "[CV] clf__max_depth=25, clf__max_features=2, clf__n_estimators=10 ....\n",
      "[CV]  clf__max_depth=25, clf__max_features=2, clf__n_estimators=10, total=   0.1s\n",
      "[CV] clf__max_depth=25, clf__max_features=2, clf__n_estimators=10 ....\n",
      "[CV]  clf__max_depth=25, clf__max_features=2, clf__n_estimators=10, total=   0.1s\n",
      "[CV] clf__max_depth=25, clf__max_features=2, clf__n_estimators=20 ....\n",
      "[CV]  clf__max_depth=25, clf__max_features=2, clf__n_estimators=20, total=   0.1s\n",
      "[CV] clf__max_depth=25, clf__max_features=2, clf__n_estimators=20 ....\n",
      "[CV]  clf__max_depth=25, clf__max_features=2, clf__n_estimators=20, total=   0.1s\n",
      "[CV] clf__max_depth=25, clf__max_features=2, clf__n_estimators=20 ....\n",
      "[CV]  clf__max_depth=25, clf__max_features=2, clf__n_estimators=20, total=   0.1s\n",
      "[CV] clf__max_depth=25, clf__max_features=2, clf__n_estimators=50 ....\n",
      "[CV]  clf__max_depth=25, clf__max_features=2, clf__n_estimators=50, total=   0.3s\n",
      "[CV] clf__max_depth=25, clf__max_features=2, clf__n_estimators=50 ....\n",
      "[CV]  clf__max_depth=25, clf__max_features=2, clf__n_estimators=50, total=   0.4s\n",
      "[CV] clf__max_depth=25, clf__max_features=2, clf__n_estimators=50 ....\n",
      "[CV]  clf__max_depth=25, clf__max_features=2, clf__n_estimators=50, total=   0.3s\n",
      "[CV] clf__max_depth=25, clf__max_features=2, clf__n_estimators=70 ....\n",
      "[CV]  clf__max_depth=25, clf__max_features=2, clf__n_estimators=70, total=   0.3s\n",
      "[CV] clf__max_depth=25, clf__max_features=2, clf__n_estimators=70 ....\n",
      "[CV]  clf__max_depth=25, clf__max_features=2, clf__n_estimators=70, total=   0.4s\n",
      "[CV] clf__max_depth=25, clf__max_features=2, clf__n_estimators=70 ....\n",
      "[CV]  clf__max_depth=25, clf__max_features=2, clf__n_estimators=70, total=   0.4s\n",
      "[CV] clf__max_depth=25, clf__max_features=2, clf__n_estimators=100 ...\n",
      "[CV]  clf__max_depth=25, clf__max_features=2, clf__n_estimators=100, total=   0.5s\n",
      "[CV] clf__max_depth=25, clf__max_features=2, clf__n_estimators=100 ...\n",
      "[CV]  clf__max_depth=25, clf__max_features=2, clf__n_estimators=100, total=   0.5s\n",
      "[CV] clf__max_depth=25, clf__max_features=2, clf__n_estimators=100 ...\n",
      "[CV]  clf__max_depth=25, clf__max_features=2, clf__n_estimators=100, total=   0.5s\n",
      "[CV] clf__max_depth=25, clf__max_features=2, clf__n_estimators=120 ...\n",
      "[CV]  clf__max_depth=25, clf__max_features=2, clf__n_estimators=120, total=   0.6s\n",
      "[CV] clf__max_depth=25, clf__max_features=2, clf__n_estimators=120 ...\n",
      "[CV]  clf__max_depth=25, clf__max_features=2, clf__n_estimators=120, total=   0.6s\n",
      "[CV] clf__max_depth=25, clf__max_features=2, clf__n_estimators=120 ...\n",
      "[CV]  clf__max_depth=25, clf__max_features=2, clf__n_estimators=120, total=   0.6s\n",
      "[CV] clf__max_depth=25, clf__max_features=2, clf__n_estimators=130 ...\n",
      "[CV]  clf__max_depth=25, clf__max_features=2, clf__n_estimators=130, total=   0.6s\n",
      "[CV] clf__max_depth=25, clf__max_features=2, clf__n_estimators=130 ...\n",
      "[CV]  clf__max_depth=25, clf__max_features=2, clf__n_estimators=130, total=   0.6s\n",
      "[CV] clf__max_depth=25, clf__max_features=2, clf__n_estimators=130 ...\n",
      "[CV]  clf__max_depth=25, clf__max_features=2, clf__n_estimators=130, total=   0.6s\n",
      "[CV] clf__max_depth=25, clf__max_features=2, clf__n_estimators=140 ...\n",
      "[CV]  clf__max_depth=25, clf__max_features=2, clf__n_estimators=140, total=   0.7s\n",
      "[CV] clf__max_depth=25, clf__max_features=2, clf__n_estimators=140 ...\n",
      "[CV]  clf__max_depth=25, clf__max_features=2, clf__n_estimators=140, total=   0.7s\n",
      "[CV] clf__max_depth=25, clf__max_features=2, clf__n_estimators=140 ...\n",
      "[CV]  clf__max_depth=25, clf__max_features=2, clf__n_estimators=140, total=   0.7s\n",
      "[CV] clf__max_depth=25, clf__max_features=2, clf__n_estimators=150 ...\n",
      "[CV]  clf__max_depth=25, clf__max_features=2, clf__n_estimators=150, total=   0.7s\n",
      "[CV] clf__max_depth=25, clf__max_features=2, clf__n_estimators=150 ...\n",
      "[CV]  clf__max_depth=25, clf__max_features=2, clf__n_estimators=150, total=   0.7s\n",
      "[CV] clf__max_depth=25, clf__max_features=2, clf__n_estimators=150 ...\n",
      "[CV]  clf__max_depth=25, clf__max_features=2, clf__n_estimators=150, total=   0.7s\n",
      "[CV] clf__max_depth=25, clf__max_features=2, clf__n_estimators=200 ...\n",
      "[CV]  clf__max_depth=25, clf__max_features=2, clf__n_estimators=200, total=   1.2s\n",
      "[CV] clf__max_depth=25, clf__max_features=2, clf__n_estimators=200 ...\n",
      "[CV]  clf__max_depth=25, clf__max_features=2, clf__n_estimators=200, total=   1.0s\n",
      "[CV] clf__max_depth=25, clf__max_features=2, clf__n_estimators=200 ...\n",
      "[CV]  clf__max_depth=25, clf__max_features=2, clf__n_estimators=200, total=   1.0s\n",
      "[CV] clf__max_depth=25, clf__max_features=3, clf__n_estimators=10 ....\n",
      "[CV]  clf__max_depth=25, clf__max_features=3, clf__n_estimators=10, total=   0.1s\n",
      "[CV] clf__max_depth=25, clf__max_features=3, clf__n_estimators=10 ....\n",
      "[CV]  clf__max_depth=25, clf__max_features=3, clf__n_estimators=10, total=   0.1s\n",
      "[CV] clf__max_depth=25, clf__max_features=3, clf__n_estimators=10 ....\n",
      "[CV]  clf__max_depth=25, clf__max_features=3, clf__n_estimators=10, total=   0.1s\n",
      "[CV] clf__max_depth=25, clf__max_features=3, clf__n_estimators=20 ....\n",
      "[CV]  clf__max_depth=25, clf__max_features=3, clf__n_estimators=20, total=   0.1s\n",
      "[CV] clf__max_depth=25, clf__max_features=3, clf__n_estimators=20 ....\n",
      "[CV]  clf__max_depth=25, clf__max_features=3, clf__n_estimators=20, total=   0.1s\n",
      "[CV] clf__max_depth=25, clf__max_features=3, clf__n_estimators=20 ....\n",
      "[CV]  clf__max_depth=25, clf__max_features=3, clf__n_estimators=20, total=   0.1s\n",
      "[CV] clf__max_depth=25, clf__max_features=3, clf__n_estimators=50 ....\n",
      "[CV]  clf__max_depth=25, clf__max_features=3, clf__n_estimators=50, total=   0.3s\n",
      "[CV] clf__max_depth=25, clf__max_features=3, clf__n_estimators=50 ....\n",
      "[CV]  clf__max_depth=25, clf__max_features=3, clf__n_estimators=50, total=   0.3s\n",
      "[CV] clf__max_depth=25, clf__max_features=3, clf__n_estimators=50 ....\n",
      "[CV]  clf__max_depth=25, clf__max_features=3, clf__n_estimators=50, total=   0.3s\n",
      "[CV] clf__max_depth=25, clf__max_features=3, clf__n_estimators=70 ....\n",
      "[CV]  clf__max_depth=25, clf__max_features=3, clf__n_estimators=70, total=   0.4s\n",
      "[CV] clf__max_depth=25, clf__max_features=3, clf__n_estimators=70 ....\n",
      "[CV]  clf__max_depth=25, clf__max_features=3, clf__n_estimators=70, total=   0.4s\n",
      "[CV] clf__max_depth=25, clf__max_features=3, clf__n_estimators=70 ....\n",
      "[CV]  clf__max_depth=25, clf__max_features=3, clf__n_estimators=70, total=   0.4s\n",
      "[CV] clf__max_depth=25, clf__max_features=3, clf__n_estimators=100 ...\n",
      "[CV]  clf__max_depth=25, clf__max_features=3, clf__n_estimators=100, total=   0.6s\n",
      "[CV] clf__max_depth=25, clf__max_features=3, clf__n_estimators=100 ...\n",
      "[CV]  clf__max_depth=25, clf__max_features=3, clf__n_estimators=100, total=   0.6s\n",
      "[CV] clf__max_depth=25, clf__max_features=3, clf__n_estimators=100 ...\n",
      "[CV]  clf__max_depth=25, clf__max_features=3, clf__n_estimators=100, total=   0.6s\n",
      "[CV] clf__max_depth=25, clf__max_features=3, clf__n_estimators=120 ...\n",
      "[CV]  clf__max_depth=25, clf__max_features=3, clf__n_estimators=120, total=   0.7s\n",
      "[CV] clf__max_depth=25, clf__max_features=3, clf__n_estimators=120 ...\n",
      "[CV]  clf__max_depth=25, clf__max_features=3, clf__n_estimators=120, total=   0.7s\n",
      "[CV] clf__max_depth=25, clf__max_features=3, clf__n_estimators=120 ...\n",
      "[CV]  clf__max_depth=25, clf__max_features=3, clf__n_estimators=120, total=   0.7s\n",
      "[CV] clf__max_depth=25, clf__max_features=3, clf__n_estimators=130 ...\n",
      "[CV]  clf__max_depth=25, clf__max_features=3, clf__n_estimators=130, total=   0.8s\n",
      "[CV] clf__max_depth=25, clf__max_features=3, clf__n_estimators=130 ...\n",
      "[CV]  clf__max_depth=25, clf__max_features=3, clf__n_estimators=130, total=   0.8s\n",
      "[CV] clf__max_depth=25, clf__max_features=3, clf__n_estimators=130 ...\n",
      "[CV]  clf__max_depth=25, clf__max_features=3, clf__n_estimators=130, total=   0.8s\n",
      "[CV] clf__max_depth=25, clf__max_features=3, clf__n_estimators=140 ...\n",
      "[CV]  clf__max_depth=25, clf__max_features=3, clf__n_estimators=140, total=   0.8s\n",
      "[CV] clf__max_depth=25, clf__max_features=3, clf__n_estimators=140 ...\n",
      "[CV]  clf__max_depth=25, clf__max_features=3, clf__n_estimators=140, total=   0.8s\n",
      "[CV] clf__max_depth=25, clf__max_features=3, clf__n_estimators=140 ...\n",
      "[CV]  clf__max_depth=25, clf__max_features=3, clf__n_estimators=140, total=   0.8s\n",
      "[CV] clf__max_depth=25, clf__max_features=3, clf__n_estimators=150 ...\n",
      "[CV]  clf__max_depth=25, clf__max_features=3, clf__n_estimators=150, total=   0.9s\n",
      "[CV] clf__max_depth=25, clf__max_features=3, clf__n_estimators=150 ...\n",
      "[CV]  clf__max_depth=25, clf__max_features=3, clf__n_estimators=150, total=   0.9s\n",
      "[CV] clf__max_depth=25, clf__max_features=3, clf__n_estimators=150 ...\n",
      "[CV]  clf__max_depth=25, clf__max_features=3, clf__n_estimators=150, total=   0.9s\n",
      "[CV] clf__max_depth=25, clf__max_features=3, clf__n_estimators=200 ...\n",
      "[CV]  clf__max_depth=25, clf__max_features=3, clf__n_estimators=200, total=   1.3s\n",
      "[CV] clf__max_depth=25, clf__max_features=3, clf__n_estimators=200 ...\n",
      "[CV]  clf__max_depth=25, clf__max_features=3, clf__n_estimators=200, total=   1.6s\n",
      "[CV] clf__max_depth=25, clf__max_features=3, clf__n_estimators=200 ...\n",
      "[CV]  clf__max_depth=25, clf__max_features=3, clf__n_estimators=200, total=   1.2s\n"
     ]
    },
    {
     "name": "stderr",
     "output_type": "stream",
     "text": [
      "[Parallel(n_jobs=1)]: Done 840 out of 840 | elapsed:  5.2min finished\n"
     ]
    },
    {
     "name": "stdout",
     "output_type": "stream",
     "text": [
      "#### Results\n",
      "     mean_fit_time  std_fit_time  mean_score_time  std_score_time  \\\n",
      "237       0.730645      0.005378         0.051140        0.000216   \n",
      "235       0.642995      0.014254         0.044389        0.000130   \n",
      "275       0.660078      0.005494         0.045584        0.000116   \n",
      "204       0.731616      0.004624         0.036986        0.000273   \n",
      "234       0.523401      0.002454         0.036963        0.000073   \n",
      "..             ...           ...              ...             ...   \n",
      "12        0.067412      0.003471         0.005985        0.001022   \n",
      "17        0.183912      0.006937         0.011401        0.000075   \n",
      "14        0.233178      0.079270         0.011560        0.003806   \n",
      "13        0.139398      0.051329         0.014253        0.010153   \n",
      "10        0.015083      0.000189         0.002358        0.000058   \n",
      "\n",
      "    param_clf__max_depth param_clf__max_features param_clf__n_estimators  \\\n",
      "237                   20                       3                     140   \n",
      "235                   20                       3                     120   \n",
      "275                   25                       3                     120   \n",
      "204                   20                    None                     100   \n",
      "234                   20                       3                     100   \n",
      "..                   ...                     ...                     ...   \n",
      "12                     1                       1                      50   \n",
      "17                     1                       1                     140   \n",
      "14                     1                       1                     100   \n",
      "13                     1                       1                      70   \n",
      "10                     1                       1                      10   \n",
      "\n",
      "                                                params  split0_test_score  \\\n",
      "237  {'clf__max_depth': 20, 'clf__max_features': 3,...           0.655501   \n",
      "235  {'clf__max_depth': 20, 'clf__max_features': 3,...           0.652141   \n",
      "275  {'clf__max_depth': 25, 'clf__max_features': 3,...           0.657506   \n",
      "204  {'clf__max_depth': 20, 'clf__max_features': No...           0.648097   \n",
      "234  {'clf__max_depth': 20, 'clf__max_features': 3,...           0.653210   \n",
      "..                                                 ...                ...   \n",
      "12   {'clf__max_depth': 1, 'clf__max_features': 1, ...           0.237668   \n",
      "17   {'clf__max_depth': 1, 'clf__max_features': 1, ...           0.235750   \n",
      "14   {'clf__max_depth': 1, 'clf__max_features': 1, ...           0.249979   \n",
      "13   {'clf__max_depth': 1, 'clf__max_features': 1, ...           0.262143   \n",
      "10   {'clf__max_depth': 1, 'clf__max_features': 1, ...           0.260160   \n",
      "\n",
      "     split1_test_score  split2_test_score  mean_test_score  std_test_score  \\\n",
      "237           0.671621           0.661889         0.663004        0.006628   \n",
      "235           0.670597           0.658957         0.660565        0.007620   \n",
      "275           0.660471           0.662567         0.660181        0.002076   \n",
      "204           0.667468           0.658274         0.657946        0.007912   \n",
      "234           0.657227           0.661949         0.657462        0.003572   \n",
      "..                 ...                ...              ...             ...   \n",
      "12            0.221947           0.216025         0.225213        0.009133   \n",
      "17            0.206211           0.223131         0.221697        0.012101   \n",
      "14            0.207237           0.206047         0.221088        0.020435   \n",
      "13            0.203339           0.196443         0.220642        0.029481   \n",
      "10            0.221944           0.160589         0.214231        0.041014   \n",
      "\n",
      "     rank_test_score  \n",
      "237                1  \n",
      "235                2  \n",
      "275                3  \n",
      "204                4  \n",
      "234                5  \n",
      "..               ...  \n",
      "12               276  \n",
      "17               277  \n",
      "14               278  \n",
      "13               279  \n",
      "10               280  \n",
      "\n",
      "[280 rows x 14 columns]\n",
      "GridSearchCV(cv=3, error_score='raise',\n",
      "             estimator=Pipeline(memory=None,\n",
      "                                steps=[('clf',\n",
      "                                        RandomForestRegressor(bootstrap=True,\n",
      "                                                              ccp_alpha=0.0,\n",
      "                                                              criterion='mse',\n",
      "                                                              max_depth=None,\n",
      "                                                              max_features='auto',\n",
      "                                                              max_leaf_nodes=None,\n",
      "                                                              max_samples=None,\n",
      "                                                              min_impurity_decrease=0.0,\n",
      "                                                              min_impurity_split=None,\n",
      "                                                              min_samples_leaf=1,\n",
      "                                                              min_samples_split=2,\n",
      "                                                              min_weight_fraction_leaf=0.0,\n",
      "                                                              n_estimators=100,\n",
      "                                                              n_jobs=None,\n",
      "                                                              oob_score=False,\n",
      "                                                              random_state=None,\n",
      "                                                              verbose=0,\n",
      "                                                              warm_start=False))],\n",
      "                                verbose=False),\n",
      "             iid='deprecated', n_jobs=1,\n",
      "             param_grid={'clf__max_depth': [1, 2, 5, 10, 15, 20, 25],\n",
      "                         'clf__max_features': [None, 1, 2, 3],\n",
      "                         'clf__n_estimators': [10, 20, 50, 70, 100, 120, 130,\n",
      "                                               140, 150, 200]},\n",
      "             pre_dispatch='2*n_jobs', refit=True, return_train_score=False,\n",
      "             scoring=None, verbose=2)\n",
      "best index 237\n",
      "best score 0.6630038805136916\n",
      "best params {'clf__max_depth': 20, 'clf__max_features': 3, 'clf__n_estimators': 140}\n",
      "Pipeline(memory=None,\n",
      "         steps=[('clf',\n",
      "                 RandomForestRegressor(bootstrap=True, ccp_alpha=0.0,\n",
      "                                       criterion='mse', max_depth=20,\n",
      "                                       max_features=3, max_leaf_nodes=None,\n",
      "                                       max_samples=None,\n",
      "                                       min_impurity_decrease=0.0,\n",
      "                                       min_impurity_split=None,\n",
      "                                       min_samples_leaf=1, min_samples_split=2,\n",
      "                                       min_weight_fraction_leaf=0.0,\n",
      "                                       n_estimators=140, n_jobs=None,\n",
      "                                       oob_score=False, random_state=None,\n",
      "                                       verbose=0, warm_start=False))],\n",
      "         verbose=False)\n",
      "#### CV Results\n",
      "mean score 0.6706482297836244\n",
      "Test train split\n",
      "0.5369888998598593\n"
     ]
    },
    {
     "data": {
      "image/png": "[encoded data removed]",
      "text/plain": [
       "<Figure size 432x288 with 1 Axes>"
      ]
     },
     "metadata": {
      "needs_background": "light"
     },
     "output_type": "display_data"
    },
    {
     "name": "stdout",
     "output_type": "stream",
     "text": [
      "*********************************************************************\n",
      "r2 :  0.5369888998598593\n",
      "best:  {'clf__max_depth': 20, 'clf__max_features': 3, 'clf__n_estimators': 140}\n",
      "rmse:  19059040.725985855\n",
      "*********************************************************************\n",
      "Model does not support model coefficients\n",
      "Feature importances:  [('Location', 0.22424410185780802), ('Beds', 0.0647402438759029), ('Baths', 0.1095054849049464), ('House Size', 0.3627529149653182), ('Land Size', 0.23875725439602452)]\n"
     ]
    },
    {
     "data": {
      "image/png": "[encoded data removed]",
      "text/plain": [
       "<Figure size 432x288 with 1 Axes>"
      ]
     },
     "metadata": {
      "needs_background": "light"
     },
     "output_type": "display_data"
    },
    {
     "name": "stdout",
     "output_type": "stream",
     "text": [
      "*********************************************************************\n",
      "r2 :  0.671\n",
      "best:  {'clf__max_depth': 20, 'clf__max_features': 3, 'clf__n_estimators': 140}\n",
      "rmse:  19511428.091292564\n",
      "*********************************************************************\n"
     ]
    }
   ],
   "source": [
    "model(pipe_forest, param_forest, X_train, Y_train, X, Y, X_test, Y_test)\n"
   ]
  },
  {
   "cell_type": "code",
   "execution_count": 30,
   "metadata": {},
   "outputs": [
    {
     "name": "stdout",
     "output_type": "stream",
     "text": [
      "      Location  Beds  Baths  House Size  Land Size\n",
      "3317        29     4      2      2700.0        7.3\n",
      "691         33     2      1      1200.0       18.0\n",
      "533         38     5      4      3800.0        7.8\n",
      "6364        20     4      2      1500.0       10.0\n",
      "6763        28     4      4      4100.0       10.0\n",
      "...        ...   ...    ...         ...        ...\n",
      "5191        35     3      1      1600.0       20.0\n",
      "5226        26     4      3      4500.0       11.2\n",
      "5390        36     5      3      3200.0       17.0\n",
      "860         20     2      1      1250.0        7.5\n",
      "7270         1     3      2      1200.0        6.8\n",
      "\n",
      "[5682 rows x 5 columns]\n",
      "Fitting 3 folds for each of 168 candidates, totalling 504 fits\n",
      "[CV] clf__activation=relu, clf__alpha=0.001, clf__hidden_layer_sizes=5, clf__learning_rate=constant, clf__solver=lbfgs \n"
     ]
    },
    {
     "name": "stderr",
     "output_type": "stream",
     "text": [
      "[Parallel(n_jobs=1)]: Using backend SequentialBackend with 1 concurrent workers.\n",
      "/root/anaconda3/envs/learn-ml/lib/python3.6/site-packages/sklearn/neural_network/_multilayer_perceptron.py:470: ConvergenceWarning: lbfgs failed to converge (status=1):\n",
      "STOP: TOTAL NO. of ITERATIONS REACHED LIMIT.\n",
      "\n",
      "Increase the number of iterations (max_iter) or scale the data as shown in:\n",
      "    https://scikit-learn.org/stable/modules/preprocessing.html\n",
      "  self.n_iter_ = _check_optimize_result(\"lbfgs\", opt_res, self.max_iter)\n",
      "[Parallel(n_jobs=1)]: Done   1 out of   1 | elapsed:    0.3s remaining:    0.0s\n"
     ]
    },
    {
     "name": "stdout",
     "output_type": "stream",
     "text": [
      "[CV]  clf__activation=relu, clf__alpha=0.001, clf__hidden_layer_sizes=5, clf__learning_rate=constant, clf__solver=lbfgs, total=   0.3s\n",
      "[CV] clf__activation=relu, clf__alpha=0.001, clf__hidden_layer_sizes=5, clf__learning_rate=constant, clf__solver=lbfgs \n"
     ]
    },
    {
     "name": "stderr",
     "output_type": "stream",
     "text": [
      "/root/anaconda3/envs/learn-ml/lib/python3.6/site-packages/sklearn/neural_network/_multilayer_perceptron.py:470: ConvergenceWarning: lbfgs failed to converge (status=1):\n",
      "STOP: TOTAL NO. of ITERATIONS REACHED LIMIT.\n",
      "\n",
      "Increase the number of iterations (max_iter) or scale the data as shown in:\n",
      "    https://scikit-learn.org/stable/modules/preprocessing.html\n",
      "  self.n_iter_ = _check_optimize_result(\"lbfgs\", opt_res, self.max_iter)\n"
     ]
    },
    {
     "name": "stdout",
     "output_type": "stream",
     "text": [
      "[CV]  clf__activation=relu, clf__alpha=0.001, clf__hidden_layer_sizes=5, clf__learning_rate=constant, clf__solver=lbfgs, total=   0.3s\n",
      "[CV] clf__activation=relu, clf__alpha=0.001, clf__hidden_layer_sizes=5, clf__learning_rate=constant, clf__solver=lbfgs \n"
     ]
    },
    {
     "name": "stderr",
     "output_type": "stream",
     "text": [
      "/root/anaconda3/envs/learn-ml/lib/python3.6/site-packages/sklearn/neural_network/_multilayer_perceptron.py:470: ConvergenceWarning: lbfgs failed to converge (status=1):\n",
      "STOP: TOTAL NO. of ITERATIONS REACHED LIMIT.\n",
      "\n",
      "Increase the number of iterations (max_iter) or scale the data as shown in:\n",
      "    https://scikit-learn.org/stable/modules/preprocessing.html\n",
      "  self.n_iter_ = _check_optimize_result(\"lbfgs\", opt_res, self.max_iter)\n"
     ]
    },
    {
     "name": "stdout",
     "output_type": "stream",
     "text": [
      "[CV]  clf__activation=relu, clf__alpha=0.001, clf__hidden_layer_sizes=5, clf__learning_rate=constant, clf__solver=lbfgs, total=   0.3s\n",
      "[CV] clf__activation=relu, clf__alpha=0.001, clf__hidden_layer_sizes=5, clf__learning_rate=invscaling, clf__solver=lbfgs \n",
      "[CV]  clf__activation=relu, clf__alpha=0.001, clf__hidden_layer_sizes=5, clf__learning_rate=invscaling, clf__solver=lbfgs, total=   0.3s\n",
      "[CV] clf__activation=relu, clf__alpha=0.001, clf__hidden_layer_sizes=5, clf__learning_rate=invscaling, clf__solver=lbfgs \n",
      "[CV]  clf__activation=relu, clf__alpha=0.001, clf__hidden_layer_sizes=5, clf__learning_rate=invscaling, clf__solver=lbfgs, total=   0.2s\n",
      "[CV] clf__activation=relu, clf__alpha=0.001, clf__hidden_layer_sizes=5, clf__learning_rate=invscaling, clf__solver=lbfgs \n"
     ]
    },
    {
     "name": "stderr",
     "output_type": "stream",
     "text": [
      "/root/anaconda3/envs/learn-ml/lib/python3.6/site-packages/sklearn/neural_network/_multilayer_perceptron.py:470: ConvergenceWarning: lbfgs failed to converge (status=1):\n",
      "STOP: TOTAL NO. of ITERATIONS REACHED LIMIT.\n",
      "\n",
      "Increase the number of iterations (max_iter) or scale the data as shown in:\n",
      "    https://scikit-learn.org/stable/modules/preprocessing.html\n",
      "  self.n_iter_ = _check_optimize_result(\"lbfgs\", opt_res, self.max_iter)\n",
      "/root/anaconda3/envs/learn-ml/lib/python3.6/site-packages/sklearn/neural_network/_multilayer_perceptron.py:470: ConvergenceWarning: lbfgs failed to converge (status=1):\n",
      "STOP: TOTAL NO. of ITERATIONS REACHED LIMIT.\n",
      "\n",
      "Increase the number of iterations (max_iter) or scale the data as shown in:\n",
      "    https://scikit-learn.org/stable/modules/preprocessing.html\n",
      "  self.n_iter_ = _check_optimize_result(\"lbfgs\", opt_res, self.max_iter)\n"
     ]
    },
    {
     "name": "stdout",
     "output_type": "stream",
     "text": [
      "[CV]  clf__activation=relu, clf__alpha=0.001, clf__hidden_layer_sizes=5, clf__learning_rate=invscaling, clf__solver=lbfgs, total=   0.2s\n",
      "[CV] clf__activation=relu, clf__alpha=0.001, clf__hidden_layer_sizes=(10, 10), clf__learning_rate=constant, clf__solver=lbfgs \n",
      "[CV]  clf__activation=relu, clf__alpha=0.001, clf__hidden_layer_sizes=(10, 10), clf__learning_rate=constant, clf__solver=lbfgs, total=   0.1s\n",
      "[CV] clf__activation=relu, clf__alpha=0.001, clf__hidden_layer_sizes=(10, 10), clf__learning_rate=constant, clf__solver=lbfgs \n"
     ]
    },
    {
     "name": "stderr",
     "output_type": "stream",
     "text": [
      "/root/anaconda3/envs/learn-ml/lib/python3.6/site-packages/sklearn/neural_network/_multilayer_perceptron.py:470: ConvergenceWarning: lbfgs failed to converge (status=1):\n",
      "STOP: TOTAL NO. of ITERATIONS REACHED LIMIT.\n",
      "\n",
      "Increase the number of iterations (max_iter) or scale the data as shown in:\n",
      "    https://scikit-learn.org/stable/modules/preprocessing.html\n",
      "  self.n_iter_ = _check_optimize_result(\"lbfgs\", opt_res, self.max_iter)\n"
     ]
    },
    {
     "name": "stdout",
     "output_type": "stream",
     "text": [
      "[CV]  clf__activation=relu, clf__alpha=0.001, clf__hidden_layer_sizes=(10, 10), clf__learning_rate=constant, clf__solver=lbfgs, total=   0.7s\n",
      "[CV] clf__activation=relu, clf__alpha=0.001, clf__hidden_layer_sizes=(10, 10), clf__learning_rate=constant, clf__solver=lbfgs \n"
     ]
    },
    {
     "name": "stderr",
     "output_type": "stream",
     "text": [
      "/root/anaconda3/envs/learn-ml/lib/python3.6/site-packages/sklearn/neural_network/_multilayer_perceptron.py:470: ConvergenceWarning: lbfgs failed to converge (status=1):\n",
      "STOP: TOTAL NO. of ITERATIONS REACHED LIMIT.\n",
      "\n",
      "Increase the number of iterations (max_iter) or scale the data as shown in:\n",
      "    https://scikit-learn.org/stable/modules/preprocessing.html\n",
      "  self.n_iter_ = _check_optimize_result(\"lbfgs\", opt_res, self.max_iter)\n"
     ]
    },
    {
     "name": "stdout",
     "output_type": "stream",
     "text": [
      "[CV]  clf__activation=relu, clf__alpha=0.001, clf__hidden_layer_sizes=(10, 10), clf__learning_rate=constant, clf__solver=lbfgs, total=   0.8s\n",
      "[CV] clf__activation=relu, clf__alpha=0.001, clf__hidden_layer_sizes=(10, 10), clf__learning_rate=invscaling, clf__solver=lbfgs \n"
     ]
    },
    {
     "name": "stderr",
     "output_type": "stream",
     "text": [
      "/root/anaconda3/envs/learn-ml/lib/python3.6/site-packages/sklearn/neural_network/_multilayer_perceptron.py:470: ConvergenceWarning: lbfgs failed to converge (status=1):\n",
      "STOP: TOTAL NO. of ITERATIONS REACHED LIMIT.\n",
      "\n",
      "Increase the number of iterations (max_iter) or scale the data as shown in:\n",
      "    https://scikit-learn.org/stable/modules/preprocessing.html\n",
      "  self.n_iter_ = _check_optimize_result(\"lbfgs\", opt_res, self.max_iter)\n"
     ]
    },
    {
     "name": "stdout",
     "output_type": "stream",
     "text": [
      "[CV]  clf__activation=relu, clf__alpha=0.001, clf__hidden_layer_sizes=(10, 10), clf__learning_rate=invscaling, clf__solver=lbfgs, total=   0.4s\n",
      "[CV] clf__activation=relu, clf__alpha=0.001, clf__hidden_layer_sizes=(10, 10), clf__learning_rate=invscaling, clf__solver=lbfgs \n"
     ]
    },
    {
     "name": "stderr",
     "output_type": "stream",
     "text": [
      "/root/anaconda3/envs/learn-ml/lib/python3.6/site-packages/sklearn/neural_network/_multilayer_perceptron.py:470: ConvergenceWarning: lbfgs failed to converge (status=1):\n",
      "STOP: TOTAL NO. of ITERATIONS REACHED LIMIT.\n",
      "\n",
      "Increase the number of iterations (max_iter) or scale the data as shown in:\n",
      "    https://scikit-learn.org/stable/modules/preprocessing.html\n",
      "  self.n_iter_ = _check_optimize_result(\"lbfgs\", opt_res, self.max_iter)\n"
     ]
    },
    {
     "name": "stdout",
     "output_type": "stream",
     "text": [
      "[CV]  clf__activation=relu, clf__alpha=0.001, clf__hidden_layer_sizes=(10, 10), clf__learning_rate=invscaling, clf__solver=lbfgs, total=   0.6s\n",
      "[CV] clf__activation=relu, clf__alpha=0.001, clf__hidden_layer_sizes=(10, 10), clf__learning_rate=invscaling, clf__solver=lbfgs \n"
     ]
    },
    {
     "name": "stderr",
     "output_type": "stream",
     "text": [
      "/root/anaconda3/envs/learn-ml/lib/python3.6/site-packages/sklearn/neural_network/_multilayer_perceptron.py:470: ConvergenceWarning: lbfgs failed to converge (status=1):\n",
      "STOP: TOTAL NO. of ITERATIONS REACHED LIMIT.\n",
      "\n",
      "Increase the number of iterations (max_iter) or scale the data as shown in:\n",
      "    https://scikit-learn.org/stable/modules/preprocessing.html\n",
      "  self.n_iter_ = _check_optimize_result(\"lbfgs\", opt_res, self.max_iter)\n"
     ]
    },
    {
     "name": "stdout",
     "output_type": "stream",
     "text": [
      "[CV]  clf__activation=relu, clf__alpha=0.001, clf__hidden_layer_sizes=(10, 10), clf__learning_rate=invscaling, clf__solver=lbfgs, total=   0.4s\n",
      "[CV] clf__activation=relu, clf__alpha=0.001, clf__hidden_layer_sizes=(7, 7, 7), clf__learning_rate=constant, clf__solver=lbfgs \n"
     ]
    },
    {
     "name": "stderr",
     "output_type": "stream",
     "text": [
      "/root/anaconda3/envs/learn-ml/lib/python3.6/site-packages/sklearn/neural_network/_multilayer_perceptron.py:470: ConvergenceWarning: lbfgs failed to converge (status=1):\n",
      "STOP: TOTAL NO. of ITERATIONS REACHED LIMIT.\n",
      "\n",
      "Increase the number of iterations (max_iter) or scale the data as shown in:\n",
      "    https://scikit-learn.org/stable/modules/preprocessing.html\n",
      "  self.n_iter_ = _check_optimize_result(\"lbfgs\", opt_res, self.max_iter)\n"
     ]
    },
    {
     "name": "stdout",
     "output_type": "stream",
     "text": [
      "[CV]  clf__activation=relu, clf__alpha=0.001, clf__hidden_layer_sizes=(7, 7, 7), clf__learning_rate=constant, clf__solver=lbfgs, total=   0.5s\n",
      "[CV] clf__activation=relu, clf__alpha=0.001, clf__hidden_layer_sizes=(7, 7, 7), clf__learning_rate=constant, clf__solver=lbfgs \n"
     ]
    },
    {
     "name": "stderr",
     "output_type": "stream",
     "text": [
      "/root/anaconda3/envs/learn-ml/lib/python3.6/site-packages/sklearn/neural_network/_multilayer_perceptron.py:470: ConvergenceWarning: lbfgs failed to converge (status=1):\n",
      "STOP: TOTAL NO. of ITERATIONS REACHED LIMIT.\n",
      "\n",
      "Increase the number of iterations (max_iter) or scale the data as shown in:\n",
      "    https://scikit-learn.org/stable/modules/preprocessing.html\n",
      "  self.n_iter_ = _check_optimize_result(\"lbfgs\", opt_res, self.max_iter)\n"
     ]
    },
    {
     "name": "stdout",
     "output_type": "stream",
     "text": [
      "[CV]  clf__activation=relu, clf__alpha=0.001, clf__hidden_layer_sizes=(7, 7, 7), clf__learning_rate=constant, clf__solver=lbfgs, total=   0.7s\n",
      "[CV] clf__activation=relu, clf__alpha=0.001, clf__hidden_layer_sizes=(7, 7, 7), clf__learning_rate=constant, clf__solver=lbfgs \n"
     ]
    },
    {
     "name": "stderr",
     "output_type": "stream",
     "text": [
      "/root/anaconda3/envs/learn-ml/lib/python3.6/site-packages/sklearn/neural_network/_multilayer_perceptron.py:470: ConvergenceWarning: lbfgs failed to converge (status=1):\n",
      "STOP: TOTAL NO. of ITERATIONS REACHED LIMIT.\n",
      "\n",
      "Increase the number of iterations (max_iter) or scale the data as shown in:\n",
      "    https://scikit-learn.org/stable/modules/preprocessing.html\n",
      "  self.n_iter_ = _check_optimize_result(\"lbfgs\", opt_res, self.max_iter)\n"
     ]
    },
    {
     "name": "stdout",
     "output_type": "stream",
     "text": [
      "[CV]  clf__activation=relu, clf__alpha=0.001, clf__hidden_layer_sizes=(7, 7, 7), clf__learning_rate=constant, clf__solver=lbfgs, total=   0.7s\n",
      "[CV] clf__activation=relu, clf__alpha=0.001, clf__hidden_layer_sizes=(7, 7, 7), clf__learning_rate=invscaling, clf__solver=lbfgs \n"
     ]
    },
    {
     "name": "stderr",
     "output_type": "stream",
     "text": [
      "/root/anaconda3/envs/learn-ml/lib/python3.6/site-packages/sklearn/neural_network/_multilayer_perceptron.py:470: ConvergenceWarning: lbfgs failed to converge (status=1):\n",
      "STOP: TOTAL NO. of ITERATIONS REACHED LIMIT.\n",
      "\n",
      "Increase the number of iterations (max_iter) or scale the data as shown in:\n",
      "    https://scikit-learn.org/stable/modules/preprocessing.html\n",
      "  self.n_iter_ = _check_optimize_result(\"lbfgs\", opt_res, self.max_iter)\n"
     ]
    },
    {
     "name": "stdout",
     "output_type": "stream",
     "text": [
      "[CV]  clf__activation=relu, clf__alpha=0.001, clf__hidden_layer_sizes=(7, 7, 7), clf__learning_rate=invscaling, clf__solver=lbfgs, total=   0.9s\n",
      "[CV] clf__activation=relu, clf__alpha=0.001, clf__hidden_layer_sizes=(7, 7, 7), clf__learning_rate=invscaling, clf__solver=lbfgs \n"
     ]
    },
    {
     "name": "stderr",
     "output_type": "stream",
     "text": [
      "/root/anaconda3/envs/learn-ml/lib/python3.6/site-packages/sklearn/neural_network/_multilayer_perceptron.py:470: ConvergenceWarning: lbfgs failed to converge (status=1):\n",
      "STOP: TOTAL NO. of ITERATIONS REACHED LIMIT.\n",
      "\n",
      "Increase the number of iterations (max_iter) or scale the data as shown in:\n",
      "    https://scikit-learn.org/stable/modules/preprocessing.html\n",
      "  self.n_iter_ = _check_optimize_result(\"lbfgs\", opt_res, self.max_iter)\n"
     ]
    },
    {
     "name": "stdout",
     "output_type": "stream",
     "text": [
      "[CV]  clf__activation=relu, clf__alpha=0.001, clf__hidden_layer_sizes=(7, 7, 7), clf__learning_rate=invscaling, clf__solver=lbfgs, total=   0.6s\n",
      "[CV] clf__activation=relu, clf__alpha=0.001, clf__hidden_layer_sizes=(7, 7, 7), clf__learning_rate=invscaling, clf__solver=lbfgs \n",
      "[CV]  clf__activation=relu, clf__alpha=0.001, clf__hidden_layer_sizes=(7, 7, 7), clf__learning_rate=invscaling, clf__solver=lbfgs, total=   0.2s\n",
      "[CV] clf__activation=relu, clf__alpha=0.001, clf__hidden_layer_sizes=(20, 20, 20, 20), clf__learning_rate=constant, clf__solver=lbfgs \n"
     ]
    },
    {
     "name": "stderr",
     "output_type": "stream",
     "text": [
      "/root/anaconda3/envs/learn-ml/lib/python3.6/site-packages/sklearn/neural_network/_multilayer_perceptron.py:470: ConvergenceWarning: lbfgs failed to converge (status=1):\n",
      "STOP: TOTAL NO. of ITERATIONS REACHED LIMIT.\n",
      "\n",
      "Increase the number of iterations (max_iter) or scale the data as shown in:\n",
      "    https://scikit-learn.org/stable/modules/preprocessing.html\n",
      "  self.n_iter_ = _check_optimize_result(\"lbfgs\", opt_res, self.max_iter)\n"
     ]
    },
    {
     "name": "stdout",
     "output_type": "stream",
     "text": [
      "[CV]  clf__activation=relu, clf__alpha=0.001, clf__hidden_layer_sizes=(20, 20, 20, 20), clf__learning_rate=constant, clf__solver=lbfgs, total=   1.3s\n",
      "[CV] clf__activation=relu, clf__alpha=0.001, clf__hidden_layer_sizes=(20, 20, 20, 20), clf__learning_rate=constant, clf__solver=lbfgs \n"
     ]
    },
    {
     "name": "stderr",
     "output_type": "stream",
     "text": [
      "/root/anaconda3/envs/learn-ml/lib/python3.6/site-packages/sklearn/neural_network/_multilayer_perceptron.py:470: ConvergenceWarning: lbfgs failed to converge (status=1):\n",
      "STOP: TOTAL NO. of ITERATIONS REACHED LIMIT.\n",
      "\n",
      "Increase the number of iterations (max_iter) or scale the data as shown in:\n",
      "    https://scikit-learn.org/stable/modules/preprocessing.html\n",
      "  self.n_iter_ = _check_optimize_result(\"lbfgs\", opt_res, self.max_iter)\n"
     ]
    },
    {
     "name": "stdout",
     "output_type": "stream",
     "text": [
      "[CV]  clf__activation=relu, clf__alpha=0.001, clf__hidden_layer_sizes=(20, 20, 20, 20), clf__learning_rate=constant, clf__solver=lbfgs, total=   1.3s\n",
      "[CV] clf__activation=relu, clf__alpha=0.001, clf__hidden_layer_sizes=(20, 20, 20, 20), clf__learning_rate=constant, clf__solver=lbfgs \n"
     ]
    },
    {
     "name": "stderr",
     "output_type": "stream",
     "text": [
      "/root/anaconda3/envs/learn-ml/lib/python3.6/site-packages/sklearn/neural_network/_multilayer_perceptron.py:470: ConvergenceWarning: lbfgs failed to converge (status=1):\n",
      "STOP: TOTAL NO. of ITERATIONS REACHED LIMIT.\n",
      "\n",
      "Increase the number of iterations (max_iter) or scale the data as shown in:\n",
      "    https://scikit-learn.org/stable/modules/preprocessing.html\n",
      "  self.n_iter_ = _check_optimize_result(\"lbfgs\", opt_res, self.max_iter)\n",
      "/root/anaconda3/envs/learn-ml/lib/python3.6/site-packages/sklearn/neural_network/_multilayer_perceptron.py:470: ConvergenceWarning: lbfgs failed to converge (status=2):\n",
      "ABNORMAL_TERMINATION_IN_LNSRCH.\n",
      "\n",
      "Increase the number of iterations (max_iter) or scale the data as shown in:\n",
      "    https://scikit-learn.org/stable/modules/preprocessing.html\n",
      "  self.n_iter_ = _check_optimize_result(\"lbfgs\", opt_res, self.max_iter)\n"
     ]
    },
    {
     "name": "stdout",
     "output_type": "stream",
     "text": [
      "[CV]  clf__activation=relu, clf__alpha=0.001, clf__hidden_layer_sizes=(20, 20, 20, 20), clf__learning_rate=constant, clf__solver=lbfgs, total=   1.3s\n",
      "[CV] clf__activation=relu, clf__alpha=0.001, clf__hidden_layer_sizes=(20, 20, 20, 20), clf__learning_rate=invscaling, clf__solver=lbfgs \n",
      "[CV]  clf__activation=relu, clf__alpha=0.001, clf__hidden_layer_sizes=(20, 20, 20, 20), clf__learning_rate=invscaling, clf__solver=lbfgs, total=   0.1s\n",
      "[CV] clf__activation=relu, clf__alpha=0.001, clf__hidden_layer_sizes=(20, 20, 20, 20), clf__learning_rate=invscaling, clf__solver=lbfgs \n"
     ]
    },
    {
     "name": "stderr",
     "output_type": "stream",
     "text": [
      "/root/anaconda3/envs/learn-ml/lib/python3.6/site-packages/sklearn/neural_network/_multilayer_perceptron.py:470: ConvergenceWarning: lbfgs failed to converge (status=1):\n",
      "STOP: TOTAL NO. of ITERATIONS REACHED LIMIT.\n",
      "\n",
      "Increase the number of iterations (max_iter) or scale the data as shown in:\n",
      "    https://scikit-learn.org/stable/modules/preprocessing.html\n",
      "  self.n_iter_ = _check_optimize_result(\"lbfgs\", opt_res, self.max_iter)\n"
     ]
    },
    {
     "name": "stdout",
     "output_type": "stream",
     "text": [
      "[CV]  clf__activation=relu, clf__alpha=0.001, clf__hidden_layer_sizes=(20, 20, 20, 20), clf__learning_rate=invscaling, clf__solver=lbfgs, total=   1.3s\n",
      "[CV] clf__activation=relu, clf__alpha=0.001, clf__hidden_layer_sizes=(20, 20, 20, 20), clf__learning_rate=invscaling, clf__solver=lbfgs \n"
     ]
    },
    {
     "name": "stderr",
     "output_type": "stream",
     "text": [
      "/root/anaconda3/envs/learn-ml/lib/python3.6/site-packages/sklearn/neural_network/_multilayer_perceptron.py:470: ConvergenceWarning: lbfgs failed to converge (status=1):\n",
      "STOP: TOTAL NO. of ITERATIONS REACHED LIMIT.\n",
      "\n",
      "Increase the number of iterations (max_iter) or scale the data as shown in:\n",
      "    https://scikit-learn.org/stable/modules/preprocessing.html\n",
      "  self.n_iter_ = _check_optimize_result(\"lbfgs\", opt_res, self.max_iter)\n"
     ]
    },
    {
     "name": "stdout",
     "output_type": "stream",
     "text": [
      "[CV]  clf__activation=relu, clf__alpha=0.001, clf__hidden_layer_sizes=(20, 20, 20, 20), clf__learning_rate=invscaling, clf__solver=lbfgs, total=   1.2s\n",
      "[CV] clf__activation=relu, clf__alpha=0.001, clf__hidden_layer_sizes=(30, 30, 30), clf__learning_rate=constant, clf__solver=lbfgs \n"
     ]
    },
    {
     "name": "stderr",
     "output_type": "stream",
     "text": [
      "/root/anaconda3/envs/learn-ml/lib/python3.6/site-packages/sklearn/neural_network/_multilayer_perceptron.py:470: ConvergenceWarning: lbfgs failed to converge (status=1):\n",
      "STOP: TOTAL NO. of ITERATIONS REACHED LIMIT.\n",
      "\n",
      "Increase the number of iterations (max_iter) or scale the data as shown in:\n",
      "    https://scikit-learn.org/stable/modules/preprocessing.html\n",
      "  self.n_iter_ = _check_optimize_result(\"lbfgs\", opt_res, self.max_iter)\n"
     ]
    },
    {
     "name": "stdout",
     "output_type": "stream",
     "text": [
      "[CV]  clf__activation=relu, clf__alpha=0.001, clf__hidden_layer_sizes=(30, 30, 30), clf__learning_rate=constant, clf__solver=lbfgs, total=   1.4s\n",
      "[CV] clf__activation=relu, clf__alpha=0.001, clf__hidden_layer_sizes=(30, 30, 30), clf__learning_rate=constant, clf__solver=lbfgs \n"
     ]
    },
    {
     "name": "stderr",
     "output_type": "stream",
     "text": [
      "/root/anaconda3/envs/learn-ml/lib/python3.6/site-packages/sklearn/neural_network/_multilayer_perceptron.py:470: ConvergenceWarning: lbfgs failed to converge (status=1):\n",
      "STOP: TOTAL NO. of ITERATIONS REACHED LIMIT.\n",
      "\n",
      "Increase the number of iterations (max_iter) or scale the data as shown in:\n",
      "    https://scikit-learn.org/stable/modules/preprocessing.html\n",
      "  self.n_iter_ = _check_optimize_result(\"lbfgs\", opt_res, self.max_iter)\n"
     ]
    },
    {
     "name": "stdout",
     "output_type": "stream",
     "text": [
      "[CV]  clf__activation=relu, clf__alpha=0.001, clf__hidden_layer_sizes=(30, 30, 30), clf__learning_rate=constant, clf__solver=lbfgs, total=   1.3s\n",
      "[CV] clf__activation=relu, clf__alpha=0.001, clf__hidden_layer_sizes=(30, 30, 30), clf__learning_rate=constant, clf__solver=lbfgs \n"
     ]
    },
    {
     "name": "stderr",
     "output_type": "stream",
     "text": [
      "/root/anaconda3/envs/learn-ml/lib/python3.6/site-packages/sklearn/neural_network/_multilayer_perceptron.py:470: ConvergenceWarning: lbfgs failed to converge (status=1):\n",
      "STOP: TOTAL NO. of ITERATIONS REACHED LIMIT.\n",
      "\n",
      "Increase the number of iterations (max_iter) or scale the data as shown in:\n",
      "    https://scikit-learn.org/stable/modules/preprocessing.html\n",
      "  self.n_iter_ = _check_optimize_result(\"lbfgs\", opt_res, self.max_iter)\n"
     ]
    },
    {
     "name": "stdout",
     "output_type": "stream",
     "text": [
      "[CV]  clf__activation=relu, clf__alpha=0.001, clf__hidden_layer_sizes=(30, 30, 30), clf__learning_rate=constant, clf__solver=lbfgs, total=   1.3s\n",
      "[CV] clf__activation=relu, clf__alpha=0.001, clf__hidden_layer_sizes=(30, 30, 30), clf__learning_rate=invscaling, clf__solver=lbfgs \n"
     ]
    },
    {
     "name": "stderr",
     "output_type": "stream",
     "text": [
      "/root/anaconda3/envs/learn-ml/lib/python3.6/site-packages/sklearn/neural_network/_multilayer_perceptron.py:470: ConvergenceWarning: lbfgs failed to converge (status=1):\n",
      "STOP: TOTAL NO. of ITERATIONS REACHED LIMIT.\n",
      "\n",
      "Increase the number of iterations (max_iter) or scale the data as shown in:\n",
      "    https://scikit-learn.org/stable/modules/preprocessing.html\n",
      "  self.n_iter_ = _check_optimize_result(\"lbfgs\", opt_res, self.max_iter)\n"
     ]
    },
    {
     "name": "stdout",
     "output_type": "stream",
     "text": [
      "[CV]  clf__activation=relu, clf__alpha=0.001, clf__hidden_layer_sizes=(30, 30, 30), clf__learning_rate=invscaling, clf__solver=lbfgs, total=   1.8s\n",
      "[CV] clf__activation=relu, clf__alpha=0.001, clf__hidden_layer_sizes=(30, 30, 30), clf__learning_rate=invscaling, clf__solver=lbfgs \n"
     ]
    },
    {
     "name": "stderr",
     "output_type": "stream",
     "text": [
      "/root/anaconda3/envs/learn-ml/lib/python3.6/site-packages/sklearn/neural_network/_multilayer_perceptron.py:470: ConvergenceWarning: lbfgs failed to converge (status=2):\n",
      "ABNORMAL_TERMINATION_IN_LNSRCH.\n",
      "\n",
      "Increase the number of iterations (max_iter) or scale the data as shown in:\n",
      "    https://scikit-learn.org/stable/modules/preprocessing.html\n",
      "  self.n_iter_ = _check_optimize_result(\"lbfgs\", opt_res, self.max_iter)\n"
     ]
    },
    {
     "name": "stdout",
     "output_type": "stream",
     "text": [
      "[CV]  clf__activation=relu, clf__alpha=0.001, clf__hidden_layer_sizes=(30, 30, 30), clf__learning_rate=invscaling, clf__solver=lbfgs, total=   0.3s\n",
      "[CV] clf__activation=relu, clf__alpha=0.001, clf__hidden_layer_sizes=(30, 30, 30), clf__learning_rate=invscaling, clf__solver=lbfgs \n"
     ]
    },
    {
     "name": "stderr",
     "output_type": "stream",
     "text": [
      "/root/anaconda3/envs/learn-ml/lib/python3.6/site-packages/sklearn/neural_network/_multilayer_perceptron.py:470: ConvergenceWarning: lbfgs failed to converge (status=1):\n",
      "STOP: TOTAL NO. of ITERATIONS REACHED LIMIT.\n",
      "\n",
      "Increase the number of iterations (max_iter) or scale the data as shown in:\n",
      "    https://scikit-learn.org/stable/modules/preprocessing.html\n",
      "  self.n_iter_ = _check_optimize_result(\"lbfgs\", opt_res, self.max_iter)\n"
     ]
    },
    {
     "name": "stdout",
     "output_type": "stream",
     "text": [
      "[CV]  clf__activation=relu, clf__alpha=0.001, clf__hidden_layer_sizes=(30, 30, 30), clf__learning_rate=invscaling, clf__solver=lbfgs, total=   1.6s\n",
      "[CV] clf__activation=relu, clf__alpha=0.001, clf__hidden_layer_sizes=(20, 20, 20), clf__learning_rate=constant, clf__solver=lbfgs \n"
     ]
    },
    {
     "name": "stderr",
     "output_type": "stream",
     "text": [
      "/root/anaconda3/envs/learn-ml/lib/python3.6/site-packages/sklearn/neural_network/_multilayer_perceptron.py:470: ConvergenceWarning: lbfgs failed to converge (status=1):\n",
      "STOP: TOTAL NO. of ITERATIONS REACHED LIMIT.\n",
      "\n",
      "Increase the number of iterations (max_iter) or scale the data as shown in:\n",
      "    https://scikit-learn.org/stable/modules/preprocessing.html\n",
      "  self.n_iter_ = _check_optimize_result(\"lbfgs\", opt_res, self.max_iter)\n"
     ]
    },
    {
     "name": "stdout",
     "output_type": "stream",
     "text": [
      "[CV]  clf__activation=relu, clf__alpha=0.001, clf__hidden_layer_sizes=(20, 20, 20), clf__learning_rate=constant, clf__solver=lbfgs, total=   0.8s\n",
      "[CV] clf__activation=relu, clf__alpha=0.001, clf__hidden_layer_sizes=(20, 20, 20), clf__learning_rate=constant, clf__solver=lbfgs \n"
     ]
    },
    {
     "name": "stderr",
     "output_type": "stream",
     "text": [
      "/root/anaconda3/envs/learn-ml/lib/python3.6/site-packages/sklearn/neural_network/_multilayer_perceptron.py:470: ConvergenceWarning: lbfgs failed to converge (status=1):\n",
      "STOP: TOTAL NO. of ITERATIONS REACHED LIMIT.\n",
      "\n",
      "Increase the number of iterations (max_iter) or scale the data as shown in:\n",
      "    https://scikit-learn.org/stable/modules/preprocessing.html\n",
      "  self.n_iter_ = _check_optimize_result(\"lbfgs\", opt_res, self.max_iter)\n"
     ]
    },
    {
     "name": "stdout",
     "output_type": "stream",
     "text": [
      "[CV]  clf__activation=relu, clf__alpha=0.001, clf__hidden_layer_sizes=(20, 20, 20), clf__learning_rate=constant, clf__solver=lbfgs, total=   1.1s\n",
      "[CV] clf__activation=relu, clf__alpha=0.001, clf__hidden_layer_sizes=(20, 20, 20), clf__learning_rate=constant, clf__solver=lbfgs \n"
     ]
    },
    {
     "name": "stderr",
     "output_type": "stream",
     "text": [
      "/root/anaconda3/envs/learn-ml/lib/python3.6/site-packages/sklearn/neural_network/_multilayer_perceptron.py:470: ConvergenceWarning: lbfgs failed to converge (status=1):\n",
      "STOP: TOTAL NO. of ITERATIONS REACHED LIMIT.\n",
      "\n",
      "Increase the number of iterations (max_iter) or scale the data as shown in:\n",
      "    https://scikit-learn.org/stable/modules/preprocessing.html\n",
      "  self.n_iter_ = _check_optimize_result(\"lbfgs\", opt_res, self.max_iter)\n"
     ]
    },
    {
     "name": "stdout",
     "output_type": "stream",
     "text": [
      "[CV]  clf__activation=relu, clf__alpha=0.001, clf__hidden_layer_sizes=(20, 20, 20), clf__learning_rate=constant, clf__solver=lbfgs, total=   1.0s\n",
      "[CV] clf__activation=relu, clf__alpha=0.001, clf__hidden_layer_sizes=(20, 20, 20), clf__learning_rate=invscaling, clf__solver=lbfgs \n"
     ]
    },
    {
     "name": "stderr",
     "output_type": "stream",
     "text": [
      "/root/anaconda3/envs/learn-ml/lib/python3.6/site-packages/sklearn/neural_network/_multilayer_perceptron.py:470: ConvergenceWarning: lbfgs failed to converge (status=1):\n",
      "STOP: TOTAL NO. of ITERATIONS REACHED LIMIT.\n",
      "\n",
      "Increase the number of iterations (max_iter) or scale the data as shown in:\n",
      "    https://scikit-learn.org/stable/modules/preprocessing.html\n",
      "  self.n_iter_ = _check_optimize_result(\"lbfgs\", opt_res, self.max_iter)\n"
     ]
    },
    {
     "name": "stdout",
     "output_type": "stream",
     "text": [
      "[CV]  clf__activation=relu, clf__alpha=0.001, clf__hidden_layer_sizes=(20, 20, 20), clf__learning_rate=invscaling, clf__solver=lbfgs, total=   0.9s\n",
      "[CV] clf__activation=relu, clf__alpha=0.001, clf__hidden_layer_sizes=(20, 20, 20), clf__learning_rate=invscaling, clf__solver=lbfgs \n"
     ]
    },
    {
     "name": "stderr",
     "output_type": "stream",
     "text": [
      "/root/anaconda3/envs/learn-ml/lib/python3.6/site-packages/sklearn/neural_network/_multilayer_perceptron.py:470: ConvergenceWarning: lbfgs failed to converge (status=1):\n",
      "STOP: TOTAL NO. of ITERATIONS REACHED LIMIT.\n",
      "\n",
      "Increase the number of iterations (max_iter) or scale the data as shown in:\n",
      "    https://scikit-learn.org/stable/modules/preprocessing.html\n",
      "  self.n_iter_ = _check_optimize_result(\"lbfgs\", opt_res, self.max_iter)\n"
     ]
    },
    {
     "name": "stdout",
     "output_type": "stream",
     "text": [
      "[CV]  clf__activation=relu, clf__alpha=0.001, clf__hidden_layer_sizes=(20, 20, 20), clf__learning_rate=invscaling, clf__solver=lbfgs, total=   0.9s\n",
      "[CV] clf__activation=relu, clf__alpha=0.001, clf__hidden_layer_sizes=(20, 20, 20), clf__learning_rate=invscaling, clf__solver=lbfgs \n"
     ]
    },
    {
     "name": "stderr",
     "output_type": "stream",
     "text": [
      "/root/anaconda3/envs/learn-ml/lib/python3.6/site-packages/sklearn/neural_network/_multilayer_perceptron.py:470: ConvergenceWarning: lbfgs failed to converge (status=1):\n",
      "STOP: TOTAL NO. of ITERATIONS REACHED LIMIT.\n",
      "\n",
      "Increase the number of iterations (max_iter) or scale the data as shown in:\n",
      "    https://scikit-learn.org/stable/modules/preprocessing.html\n",
      "  self.n_iter_ = _check_optimize_result(\"lbfgs\", opt_res, self.max_iter)\n"
     ]
    },
    {
     "name": "stdout",
     "output_type": "stream",
     "text": [
      "[CV]  clf__activation=relu, clf__alpha=0.001, clf__hidden_layer_sizes=(20, 20, 20), clf__learning_rate=invscaling, clf__solver=lbfgs, total=   0.9s\n",
      "[CV] clf__activation=relu, clf__alpha=0.001, clf__hidden_layer_sizes=(15, 15, 15), clf__learning_rate=constant, clf__solver=lbfgs \n"
     ]
    },
    {
     "name": "stderr",
     "output_type": "stream",
     "text": [
      "/root/anaconda3/envs/learn-ml/lib/python3.6/site-packages/sklearn/neural_network/_multilayer_perceptron.py:470: ConvergenceWarning: lbfgs failed to converge (status=1):\n",
      "STOP: TOTAL NO. of ITERATIONS REACHED LIMIT.\n",
      "\n",
      "Increase the number of iterations (max_iter) or scale the data as shown in:\n",
      "    https://scikit-learn.org/stable/modules/preprocessing.html\n",
      "  self.n_iter_ = _check_optimize_result(\"lbfgs\", opt_res, self.max_iter)\n"
     ]
    },
    {
     "name": "stdout",
     "output_type": "stream",
     "text": [
      "[CV]  clf__activation=relu, clf__alpha=0.001, clf__hidden_layer_sizes=(15, 15, 15), clf__learning_rate=constant, clf__solver=lbfgs, total=   0.7s\n",
      "[CV] clf__activation=relu, clf__alpha=0.001, clf__hidden_layer_sizes=(15, 15, 15), clf__learning_rate=constant, clf__solver=lbfgs \n"
     ]
    },
    {
     "name": "stderr",
     "output_type": "stream",
     "text": [
      "/root/anaconda3/envs/learn-ml/lib/python3.6/site-packages/sklearn/neural_network/_multilayer_perceptron.py:470: ConvergenceWarning: lbfgs failed to converge (status=1):\n",
      "STOP: TOTAL NO. of ITERATIONS REACHED LIMIT.\n",
      "\n",
      "Increase the number of iterations (max_iter) or scale the data as shown in:\n",
      "    https://scikit-learn.org/stable/modules/preprocessing.html\n",
      "  self.n_iter_ = _check_optimize_result(\"lbfgs\", opt_res, self.max_iter)\n"
     ]
    },
    {
     "name": "stdout",
     "output_type": "stream",
     "text": [
      "[CV]  clf__activation=relu, clf__alpha=0.001, clf__hidden_layer_sizes=(15, 15, 15), clf__learning_rate=constant, clf__solver=lbfgs, total=   0.7s\n",
      "[CV] clf__activation=relu, clf__alpha=0.001, clf__hidden_layer_sizes=(15, 15, 15), clf__learning_rate=constant, clf__solver=lbfgs \n"
     ]
    },
    {
     "name": "stderr",
     "output_type": "stream",
     "text": [
      "/root/anaconda3/envs/learn-ml/lib/python3.6/site-packages/sklearn/neural_network/_multilayer_perceptron.py:470: ConvergenceWarning: lbfgs failed to converge (status=1):\n",
      "STOP: TOTAL NO. of ITERATIONS REACHED LIMIT.\n",
      "\n",
      "Increase the number of iterations (max_iter) or scale the data as shown in:\n",
      "    https://scikit-learn.org/stable/modules/preprocessing.html\n",
      "  self.n_iter_ = _check_optimize_result(\"lbfgs\", opt_res, self.max_iter)\n",
      "/root/anaconda3/envs/learn-ml/lib/python3.6/site-packages/sklearn/neural_network/_multilayer_perceptron.py:470: ConvergenceWarning: lbfgs failed to converge (status=2):\n",
      "ABNORMAL_TERMINATION_IN_LNSRCH.\n",
      "\n",
      "Increase the number of iterations (max_iter) or scale the data as shown in:\n",
      "    https://scikit-learn.org/stable/modules/preprocessing.html\n",
      "  self.n_iter_ = _check_optimize_result(\"lbfgs\", opt_res, self.max_iter)\n"
     ]
    },
    {
     "name": "stdout",
     "output_type": "stream",
     "text": [
      "[CV]  clf__activation=relu, clf__alpha=0.001, clf__hidden_layer_sizes=(15, 15, 15), clf__learning_rate=constant, clf__solver=lbfgs, total=   0.8s\n",
      "[CV] clf__activation=relu, clf__alpha=0.001, clf__hidden_layer_sizes=(15, 15, 15), clf__learning_rate=invscaling, clf__solver=lbfgs \n",
      "[CV]  clf__activation=relu, clf__alpha=0.001, clf__hidden_layer_sizes=(15, 15, 15), clf__learning_rate=invscaling, clf__solver=lbfgs, total=   0.1s\n",
      "[CV] clf__activation=relu, clf__alpha=0.001, clf__hidden_layer_sizes=(15, 15, 15), clf__learning_rate=invscaling, clf__solver=lbfgs \n"
     ]
    },
    {
     "name": "stderr",
     "output_type": "stream",
     "text": [
      "/root/anaconda3/envs/learn-ml/lib/python3.6/site-packages/sklearn/neural_network/_multilayer_perceptron.py:470: ConvergenceWarning: lbfgs failed to converge (status=1):\n",
      "STOP: TOTAL NO. of ITERATIONS REACHED LIMIT.\n",
      "\n",
      "Increase the number of iterations (max_iter) or scale the data as shown in:\n",
      "    https://scikit-learn.org/stable/modules/preprocessing.html\n",
      "  self.n_iter_ = _check_optimize_result(\"lbfgs\", opt_res, self.max_iter)\n"
     ]
    },
    {
     "name": "stdout",
     "output_type": "stream",
     "text": [
      "[CV]  clf__activation=relu, clf__alpha=0.001, clf__hidden_layer_sizes=(15, 15, 15), clf__learning_rate=invscaling, clf__solver=lbfgs, total=   0.7s\n",
      "[CV] clf__activation=relu, clf__alpha=0.001, clf__hidden_layer_sizes=(15, 15, 15), clf__learning_rate=invscaling, clf__solver=lbfgs \n",
      "[CV]  clf__activation=relu, clf__alpha=0.001, clf__hidden_layer_sizes=(15, 15, 15), clf__learning_rate=invscaling, clf__solver=lbfgs, total=   1.0s\n",
      "[CV] clf__activation=relu, clf__alpha=0.01, clf__hidden_layer_sizes=5, clf__learning_rate=constant, clf__solver=lbfgs \n",
      "[CV]  clf__activation=relu, clf__alpha=0.01, clf__hidden_layer_sizes=5, clf__learning_rate=constant, clf__solver=lbfgs, total=   0.1s\n",
      "[CV] clf__activation=relu, clf__alpha=0.01, clf__hidden_layer_sizes=5, clf__learning_rate=constant, clf__solver=lbfgs \n"
     ]
    },
    {
     "name": "stderr",
     "output_type": "stream",
     "text": [
      "/root/anaconda3/envs/learn-ml/lib/python3.6/site-packages/sklearn/neural_network/_multilayer_perceptron.py:470: ConvergenceWarning: lbfgs failed to converge (status=1):\n",
      "STOP: TOTAL NO. of ITERATIONS REACHED LIMIT.\n",
      "\n",
      "Increase the number of iterations (max_iter) or scale the data as shown in:\n",
      "    https://scikit-learn.org/stable/modules/preprocessing.html\n",
      "  self.n_iter_ = _check_optimize_result(\"lbfgs\", opt_res, self.max_iter)\n"
     ]
    },
    {
     "name": "stdout",
     "output_type": "stream",
     "text": [
      "[CV]  clf__activation=relu, clf__alpha=0.01, clf__hidden_layer_sizes=5, clf__learning_rate=constant, clf__solver=lbfgs, total=   0.2s\n",
      "[CV] clf__activation=relu, clf__alpha=0.01, clf__hidden_layer_sizes=5, clf__learning_rate=constant, clf__solver=lbfgs \n",
      "[CV]  clf__activation=relu, clf__alpha=0.01, clf__hidden_layer_sizes=5, clf__learning_rate=constant, clf__solver=lbfgs, total=   0.2s\n",
      "[CV] clf__activation=relu, clf__alpha=0.01, clf__hidden_layer_sizes=5, clf__learning_rate=invscaling, clf__solver=lbfgs \n"
     ]
    },
    {
     "name": "stderr",
     "output_type": "stream",
     "text": [
      "/root/anaconda3/envs/learn-ml/lib/python3.6/site-packages/sklearn/neural_network/_multilayer_perceptron.py:470: ConvergenceWarning: lbfgs failed to converge (status=1):\n",
      "STOP: TOTAL NO. of ITERATIONS REACHED LIMIT.\n",
      "\n",
      "Increase the number of iterations (max_iter) or scale the data as shown in:\n",
      "    https://scikit-learn.org/stable/modules/preprocessing.html\n",
      "  self.n_iter_ = _check_optimize_result(\"lbfgs\", opt_res, self.max_iter)\n"
     ]
    },
    {
     "name": "stdout",
     "output_type": "stream",
     "text": [
      "[CV]  clf__activation=relu, clf__alpha=0.01, clf__hidden_layer_sizes=5, clf__learning_rate=invscaling, clf__solver=lbfgs, total=   0.2s\n",
      "[CV] clf__activation=relu, clf__alpha=0.01, clf__hidden_layer_sizes=5, clf__learning_rate=invscaling, clf__solver=lbfgs \n",
      "[CV]  clf__activation=relu, clf__alpha=0.01, clf__hidden_layer_sizes=5, clf__learning_rate=invscaling, clf__solver=lbfgs, total=   0.1s\n",
      "[CV] clf__activation=relu, clf__alpha=0.01, clf__hidden_layer_sizes=5, clf__learning_rate=invscaling, clf__solver=lbfgs \n"
     ]
    },
    {
     "name": "stderr",
     "output_type": "stream",
     "text": [
      "/root/anaconda3/envs/learn-ml/lib/python3.6/site-packages/sklearn/neural_network/_multilayer_perceptron.py:470: ConvergenceWarning: lbfgs failed to converge (status=1):\n",
      "STOP: TOTAL NO. of ITERATIONS REACHED LIMIT.\n",
      "\n",
      "Increase the number of iterations (max_iter) or scale the data as shown in:\n",
      "    https://scikit-learn.org/stable/modules/preprocessing.html\n",
      "  self.n_iter_ = _check_optimize_result(\"lbfgs\", opt_res, self.max_iter)\n"
     ]
    },
    {
     "name": "stdout",
     "output_type": "stream",
     "text": [
      "[CV]  clf__activation=relu, clf__alpha=0.01, clf__hidden_layer_sizes=5, clf__learning_rate=invscaling, clf__solver=lbfgs, total=   0.2s\n",
      "[CV] clf__activation=relu, clf__alpha=0.01, clf__hidden_layer_sizes=(10, 10), clf__learning_rate=constant, clf__solver=lbfgs \n"
     ]
    },
    {
     "name": "stderr",
     "output_type": "stream",
     "text": [
      "/root/anaconda3/envs/learn-ml/lib/python3.6/site-packages/sklearn/neural_network/_multilayer_perceptron.py:470: ConvergenceWarning: lbfgs failed to converge (status=1):\n",
      "STOP: TOTAL NO. of ITERATIONS REACHED LIMIT.\n",
      "\n",
      "Increase the number of iterations (max_iter) or scale the data as shown in:\n",
      "    https://scikit-learn.org/stable/modules/preprocessing.html\n",
      "  self.n_iter_ = _check_optimize_result(\"lbfgs\", opt_res, self.max_iter)\n"
     ]
    },
    {
     "name": "stdout",
     "output_type": "stream",
     "text": [
      "[CV]  clf__activation=relu, clf__alpha=0.01, clf__hidden_layer_sizes=(10, 10), clf__learning_rate=constant, clf__solver=lbfgs, total=   0.4s\n",
      "[CV] clf__activation=relu, clf__alpha=0.01, clf__hidden_layer_sizes=(10, 10), clf__learning_rate=constant, clf__solver=lbfgs \n"
     ]
    },
    {
     "name": "stderr",
     "output_type": "stream",
     "text": [
      "/root/anaconda3/envs/learn-ml/lib/python3.6/site-packages/sklearn/neural_network/_multilayer_perceptron.py:470: ConvergenceWarning: lbfgs failed to converge (status=1):\n",
      "STOP: TOTAL NO. of ITERATIONS REACHED LIMIT.\n",
      "\n",
      "Increase the number of iterations (max_iter) or scale the data as shown in:\n",
      "    https://scikit-learn.org/stable/modules/preprocessing.html\n",
      "  self.n_iter_ = _check_optimize_result(\"lbfgs\", opt_res, self.max_iter)\n"
     ]
    },
    {
     "name": "stdout",
     "output_type": "stream",
     "text": [
      "[CV]  clf__activation=relu, clf__alpha=0.01, clf__hidden_layer_sizes=(10, 10), clf__learning_rate=constant, clf__solver=lbfgs, total=   0.4s\n",
      "[CV] clf__activation=relu, clf__alpha=0.01, clf__hidden_layer_sizes=(10, 10), clf__learning_rate=constant, clf__solver=lbfgs \n"
     ]
    },
    {
     "name": "stderr",
     "output_type": "stream",
     "text": [
      "/root/anaconda3/envs/learn-ml/lib/python3.6/site-packages/sklearn/neural_network/_multilayer_perceptron.py:470: ConvergenceWarning: lbfgs failed to converge (status=1):\n",
      "STOP: TOTAL NO. of ITERATIONS REACHED LIMIT.\n",
      "\n",
      "Increase the number of iterations (max_iter) or scale the data as shown in:\n",
      "    https://scikit-learn.org/stable/modules/preprocessing.html\n",
      "  self.n_iter_ = _check_optimize_result(\"lbfgs\", opt_res, self.max_iter)\n"
     ]
    },
    {
     "name": "stdout",
     "output_type": "stream",
     "text": [
      "[CV]  clf__activation=relu, clf__alpha=0.01, clf__hidden_layer_sizes=(10, 10), clf__learning_rate=constant, clf__solver=lbfgs, total=   0.4s\n",
      "[CV] clf__activation=relu, clf__alpha=0.01, clf__hidden_layer_sizes=(10, 10), clf__learning_rate=invscaling, clf__solver=lbfgs \n"
     ]
    },
    {
     "name": "stderr",
     "output_type": "stream",
     "text": [
      "/root/anaconda3/envs/learn-ml/lib/python3.6/site-packages/sklearn/neural_network/_multilayer_perceptron.py:470: ConvergenceWarning: lbfgs failed to converge (status=1):\n",
      "STOP: TOTAL NO. of ITERATIONS REACHED LIMIT.\n",
      "\n",
      "Increase the number of iterations (max_iter) or scale the data as shown in:\n",
      "    https://scikit-learn.org/stable/modules/preprocessing.html\n",
      "  self.n_iter_ = _check_optimize_result(\"lbfgs\", opt_res, self.max_iter)\n"
     ]
    },
    {
     "name": "stdout",
     "output_type": "stream",
     "text": [
      "[CV]  clf__activation=relu, clf__alpha=0.01, clf__hidden_layer_sizes=(10, 10), clf__learning_rate=invscaling, clf__solver=lbfgs, total=   0.4s\n",
      "[CV] clf__activation=relu, clf__alpha=0.01, clf__hidden_layer_sizes=(10, 10), clf__learning_rate=invscaling, clf__solver=lbfgs \n"
     ]
    },
    {
     "name": "stderr",
     "output_type": "stream",
     "text": [
      "/root/anaconda3/envs/learn-ml/lib/python3.6/site-packages/sklearn/neural_network/_multilayer_perceptron.py:470: ConvergenceWarning: lbfgs failed to converge (status=1):\n",
      "STOP: TOTAL NO. of ITERATIONS REACHED LIMIT.\n",
      "\n",
      "Increase the number of iterations (max_iter) or scale the data as shown in:\n",
      "    https://scikit-learn.org/stable/modules/preprocessing.html\n",
      "  self.n_iter_ = _check_optimize_result(\"lbfgs\", opt_res, self.max_iter)\n"
     ]
    },
    {
     "name": "stdout",
     "output_type": "stream",
     "text": [
      "[CV]  clf__activation=relu, clf__alpha=0.01, clf__hidden_layer_sizes=(10, 10), clf__learning_rate=invscaling, clf__solver=lbfgs, total=   0.4s\n",
      "[CV] clf__activation=relu, clf__alpha=0.01, clf__hidden_layer_sizes=(10, 10), clf__learning_rate=invscaling, clf__solver=lbfgs \n",
      "[CV]  clf__activation=relu, clf__alpha=0.01, clf__hidden_layer_sizes=(10, 10), clf__learning_rate=invscaling, clf__solver=lbfgs, total=   0.3s\n",
      "[CV] clf__activation=relu, clf__alpha=0.01, clf__hidden_layer_sizes=(7, 7, 7), clf__learning_rate=constant, clf__solver=lbfgs \n",
      "[CV]  clf__activation=relu, clf__alpha=0.01, clf__hidden_layer_sizes=(7, 7, 7), clf__learning_rate=constant, clf__solver=lbfgs, total=   0.1s\n",
      "[CV] clf__activation=relu, clf__alpha=0.01, clf__hidden_layer_sizes=(7, 7, 7), clf__learning_rate=constant, clf__solver=lbfgs \n"
     ]
    },
    {
     "name": "stderr",
     "output_type": "stream",
     "text": [
      "/root/anaconda3/envs/learn-ml/lib/python3.6/site-packages/sklearn/neural_network/_multilayer_perceptron.py:470: ConvergenceWarning: lbfgs failed to converge (status=2):\n",
      "ABNORMAL_TERMINATION_IN_LNSRCH.\n",
      "\n",
      "Increase the number of iterations (max_iter) or scale the data as shown in:\n",
      "    https://scikit-learn.org/stable/modules/preprocessing.html\n",
      "  self.n_iter_ = _check_optimize_result(\"lbfgs\", opt_res, self.max_iter)\n",
      "/root/anaconda3/envs/learn-ml/lib/python3.6/site-packages/sklearn/neural_network/_multilayer_perceptron.py:470: ConvergenceWarning: lbfgs failed to converge (status=1):\n",
      "STOP: TOTAL NO. of ITERATIONS REACHED LIMIT.\n",
      "\n",
      "Increase the number of iterations (max_iter) or scale the data as shown in:\n",
      "    https://scikit-learn.org/stable/modules/preprocessing.html\n",
      "  self.n_iter_ = _check_optimize_result(\"lbfgs\", opt_res, self.max_iter)\n"
     ]
    },
    {
     "name": "stdout",
     "output_type": "stream",
     "text": [
      "[CV]  clf__activation=relu, clf__alpha=0.01, clf__hidden_layer_sizes=(7, 7, 7), clf__learning_rate=constant, clf__solver=lbfgs, total=   0.5s\n",
      "[CV] clf__activation=relu, clf__alpha=0.01, clf__hidden_layer_sizes=(7, 7, 7), clf__learning_rate=constant, clf__solver=lbfgs \n",
      "[CV]  clf__activation=relu, clf__alpha=0.01, clf__hidden_layer_sizes=(7, 7, 7), clf__learning_rate=constant, clf__solver=lbfgs, total=   0.2s\n",
      "[CV] clf__activation=relu, clf__alpha=0.01, clf__hidden_layer_sizes=(7, 7, 7), clf__learning_rate=invscaling, clf__solver=lbfgs \n",
      "[CV]  clf__activation=relu, clf__alpha=0.01, clf__hidden_layer_sizes=(7, 7, 7), clf__learning_rate=invscaling, clf__solver=lbfgs, total=   0.1s\n",
      "[CV] clf__activation=relu, clf__alpha=0.01, clf__hidden_layer_sizes=(7, 7, 7), clf__learning_rate=invscaling, clf__solver=lbfgs \n"
     ]
    },
    {
     "name": "stderr",
     "output_type": "stream",
     "text": [
      "/root/anaconda3/envs/learn-ml/lib/python3.6/site-packages/sklearn/neural_network/_multilayer_perceptron.py:470: ConvergenceWarning: lbfgs failed to converge (status=2):\n",
      "ABNORMAL_TERMINATION_IN_LNSRCH.\n",
      "\n",
      "Increase the number of iterations (max_iter) or scale the data as shown in:\n",
      "    https://scikit-learn.org/stable/modules/preprocessing.html\n",
      "  self.n_iter_ = _check_optimize_result(\"lbfgs\", opt_res, self.max_iter)\n",
      "/root/anaconda3/envs/learn-ml/lib/python3.6/site-packages/sklearn/neural_network/_multilayer_perceptron.py:470: ConvergenceWarning: lbfgs failed to converge (status=1):\n",
      "STOP: TOTAL NO. of ITERATIONS REACHED LIMIT.\n",
      "\n",
      "Increase the number of iterations (max_iter) or scale the data as shown in:\n",
      "    https://scikit-learn.org/stable/modules/preprocessing.html\n",
      "  self.n_iter_ = _check_optimize_result(\"lbfgs\", opt_res, self.max_iter)\n"
     ]
    },
    {
     "name": "stdout",
     "output_type": "stream",
     "text": [
      "[CV]  clf__activation=relu, clf__alpha=0.01, clf__hidden_layer_sizes=(7, 7, 7), clf__learning_rate=invscaling, clf__solver=lbfgs, total=   0.9s\n",
      "[CV] clf__activation=relu, clf__alpha=0.01, clf__hidden_layer_sizes=(7, 7, 7), clf__learning_rate=invscaling, clf__solver=lbfgs \n"
     ]
    },
    {
     "name": "stderr",
     "output_type": "stream",
     "text": [
      "/root/anaconda3/envs/learn-ml/lib/python3.6/site-packages/sklearn/neural_network/_multilayer_perceptron.py:470: ConvergenceWarning: lbfgs failed to converge (status=1):\n",
      "STOP: TOTAL NO. of ITERATIONS REACHED LIMIT.\n",
      "\n",
      "Increase the number of iterations (max_iter) or scale the data as shown in:\n",
      "    https://scikit-learn.org/stable/modules/preprocessing.html\n",
      "  self.n_iter_ = _check_optimize_result(\"lbfgs\", opt_res, self.max_iter)\n",
      "/root/anaconda3/envs/learn-ml/lib/python3.6/site-packages/sklearn/neural_network/_multilayer_perceptron.py:470: ConvergenceWarning: lbfgs failed to converge (status=2):\n",
      "ABNORMAL_TERMINATION_IN_LNSRCH.\n",
      "\n",
      "Increase the number of iterations (max_iter) or scale the data as shown in:\n",
      "    https://scikit-learn.org/stable/modules/preprocessing.html\n",
      "  self.n_iter_ = _check_optimize_result(\"lbfgs\", opt_res, self.max_iter)\n"
     ]
    },
    {
     "name": "stdout",
     "output_type": "stream",
     "text": [
      "[CV]  clf__activation=relu, clf__alpha=0.01, clf__hidden_layer_sizes=(7, 7, 7), clf__learning_rate=invscaling, clf__solver=lbfgs, total=   0.9s\n",
      "[CV] clf__activation=relu, clf__alpha=0.01, clf__hidden_layer_sizes=(20, 20, 20, 20), clf__learning_rate=constant, clf__solver=lbfgs \n",
      "[CV]  clf__activation=relu, clf__alpha=0.01, clf__hidden_layer_sizes=(20, 20, 20, 20), clf__learning_rate=constant, clf__solver=lbfgs, total=   0.2s\n",
      "[CV] clf__activation=relu, clf__alpha=0.01, clf__hidden_layer_sizes=(20, 20, 20, 20), clf__learning_rate=constant, clf__solver=lbfgs \n"
     ]
    },
    {
     "name": "stderr",
     "output_type": "stream",
     "text": [
      "/root/anaconda3/envs/learn-ml/lib/python3.6/site-packages/sklearn/neural_network/_multilayer_perceptron.py:470: ConvergenceWarning: lbfgs failed to converge (status=1):\n",
      "STOP: TOTAL NO. of ITERATIONS REACHED LIMIT.\n",
      "\n",
      "Increase the number of iterations (max_iter) or scale the data as shown in:\n",
      "    https://scikit-learn.org/stable/modules/preprocessing.html\n",
      "  self.n_iter_ = _check_optimize_result(\"lbfgs\", opt_res, self.max_iter)\n",
      "/root/anaconda3/envs/learn-ml/lib/python3.6/site-packages/sklearn/neural_network/_multilayer_perceptron.py:470: ConvergenceWarning: lbfgs failed to converge (status=2):\n",
      "ABNORMAL_TERMINATION_IN_LNSRCH.\n",
      "\n",
      "Increase the number of iterations (max_iter) or scale the data as shown in:\n",
      "    https://scikit-learn.org/stable/modules/preprocessing.html\n",
      "  self.n_iter_ = _check_optimize_result(\"lbfgs\", opt_res, self.max_iter)\n"
     ]
    },
    {
     "name": "stdout",
     "output_type": "stream",
     "text": [
      "[CV]  clf__activation=relu, clf__alpha=0.01, clf__hidden_layer_sizes=(20, 20, 20, 20), clf__learning_rate=constant, clf__solver=lbfgs, total=   1.3s\n",
      "[CV] clf__activation=relu, clf__alpha=0.01, clf__hidden_layer_sizes=(20, 20, 20, 20), clf__learning_rate=constant, clf__solver=lbfgs \n",
      "[CV]  clf__activation=relu, clf__alpha=0.01, clf__hidden_layer_sizes=(20, 20, 20, 20), clf__learning_rate=constant, clf__solver=lbfgs, total=   0.1s\n",
      "[CV] clf__activation=relu, clf__alpha=0.01, clf__hidden_layer_sizes=(20, 20, 20, 20), clf__learning_rate=invscaling, clf__solver=lbfgs \n"
     ]
    },
    {
     "name": "stderr",
     "output_type": "stream",
     "text": [
      "/root/anaconda3/envs/learn-ml/lib/python3.6/site-packages/sklearn/neural_network/_multilayer_perceptron.py:470: ConvergenceWarning: lbfgs failed to converge (status=1):\n",
      "STOP: TOTAL NO. of ITERATIONS REACHED LIMIT.\n",
      "\n",
      "Increase the number of iterations (max_iter) or scale the data as shown in:\n",
      "    https://scikit-learn.org/stable/modules/preprocessing.html\n",
      "  self.n_iter_ = _check_optimize_result(\"lbfgs\", opt_res, self.max_iter)\n",
      "/root/anaconda3/envs/learn-ml/lib/python3.6/site-packages/sklearn/neural_network/_multilayer_perceptron.py:470: ConvergenceWarning: lbfgs failed to converge (status=2):\n",
      "ABNORMAL_TERMINATION_IN_LNSRCH.\n",
      "\n",
      "Increase the number of iterations (max_iter) or scale the data as shown in:\n",
      "    https://scikit-learn.org/stable/modules/preprocessing.html\n",
      "  self.n_iter_ = _check_optimize_result(\"lbfgs\", opt_res, self.max_iter)\n"
     ]
    },
    {
     "name": "stdout",
     "output_type": "stream",
     "text": [
      "[CV]  clf__activation=relu, clf__alpha=0.01, clf__hidden_layer_sizes=(20, 20, 20, 20), clf__learning_rate=invscaling, clf__solver=lbfgs, total=   1.2s\n",
      "[CV] clf__activation=relu, clf__alpha=0.01, clf__hidden_layer_sizes=(20, 20, 20, 20), clf__learning_rate=invscaling, clf__solver=lbfgs \n",
      "[CV]  clf__activation=relu, clf__alpha=0.01, clf__hidden_layer_sizes=(20, 20, 20, 20), clf__learning_rate=invscaling, clf__solver=lbfgs, total=   0.1s\n",
      "[CV] clf__activation=relu, clf__alpha=0.01, clf__hidden_layer_sizes=(20, 20, 20, 20), clf__learning_rate=invscaling, clf__solver=lbfgs \n"
     ]
    },
    {
     "name": "stderr",
     "output_type": "stream",
     "text": [
      "/root/anaconda3/envs/learn-ml/lib/python3.6/site-packages/sklearn/neural_network/_multilayer_perceptron.py:470: ConvergenceWarning: lbfgs failed to converge (status=1):\n",
      "STOP: TOTAL NO. of ITERATIONS REACHED LIMIT.\n",
      "\n",
      "Increase the number of iterations (max_iter) or scale the data as shown in:\n",
      "    https://scikit-learn.org/stable/modules/preprocessing.html\n",
      "  self.n_iter_ = _check_optimize_result(\"lbfgs\", opt_res, self.max_iter)\n"
     ]
    },
    {
     "name": "stdout",
     "output_type": "stream",
     "text": [
      "[CV]  clf__activation=relu, clf__alpha=0.01, clf__hidden_layer_sizes=(20, 20, 20, 20), clf__learning_rate=invscaling, clf__solver=lbfgs, total=   1.3s\n",
      "[CV] clf__activation=relu, clf__alpha=0.01, clf__hidden_layer_sizes=(30, 30, 30), clf__learning_rate=constant, clf__solver=lbfgs \n"
     ]
    },
    {
     "name": "stderr",
     "output_type": "stream",
     "text": [
      "/root/anaconda3/envs/learn-ml/lib/python3.6/site-packages/sklearn/neural_network/_multilayer_perceptron.py:470: ConvergenceWarning: lbfgs failed to converge (status=1):\n",
      "STOP: TOTAL NO. of ITERATIONS REACHED LIMIT.\n",
      "\n",
      "Increase the number of iterations (max_iter) or scale the data as shown in:\n",
      "    https://scikit-learn.org/stable/modules/preprocessing.html\n",
      "  self.n_iter_ = _check_optimize_result(\"lbfgs\", opt_res, self.max_iter)\n"
     ]
    },
    {
     "name": "stdout",
     "output_type": "stream",
     "text": [
      "[CV]  clf__activation=relu, clf__alpha=0.01, clf__hidden_layer_sizes=(30, 30, 30), clf__learning_rate=constant, clf__solver=lbfgs, total=   1.5s\n",
      "[CV] clf__activation=relu, clf__alpha=0.01, clf__hidden_layer_sizes=(30, 30, 30), clf__learning_rate=constant, clf__solver=lbfgs \n"
     ]
    },
    {
     "name": "stderr",
     "output_type": "stream",
     "text": [
      "/root/anaconda3/envs/learn-ml/lib/python3.6/site-packages/sklearn/neural_network/_multilayer_perceptron.py:470: ConvergenceWarning: lbfgs failed to converge (status=1):\n",
      "STOP: TOTAL NO. of ITERATIONS REACHED LIMIT.\n",
      "\n",
      "Increase the number of iterations (max_iter) or scale the data as shown in:\n",
      "    https://scikit-learn.org/stable/modules/preprocessing.html\n",
      "  self.n_iter_ = _check_optimize_result(\"lbfgs\", opt_res, self.max_iter)\n"
     ]
    },
    {
     "name": "stdout",
     "output_type": "stream",
     "text": [
      "[CV]  clf__activation=relu, clf__alpha=0.01, clf__hidden_layer_sizes=(30, 30, 30), clf__learning_rate=constant, clf__solver=lbfgs, total=   1.5s\n",
      "[CV] clf__activation=relu, clf__alpha=0.01, clf__hidden_layer_sizes=(30, 30, 30), clf__learning_rate=constant, clf__solver=lbfgs \n"
     ]
    },
    {
     "name": "stderr",
     "output_type": "stream",
     "text": [
      "/root/anaconda3/envs/learn-ml/lib/python3.6/site-packages/sklearn/neural_network/_multilayer_perceptron.py:470: ConvergenceWarning: lbfgs failed to converge (status=1):\n",
      "STOP: TOTAL NO. of ITERATIONS REACHED LIMIT.\n",
      "\n",
      "Increase the number of iterations (max_iter) or scale the data as shown in:\n",
      "    https://scikit-learn.org/stable/modules/preprocessing.html\n",
      "  self.n_iter_ = _check_optimize_result(\"lbfgs\", opt_res, self.max_iter)\n"
     ]
    },
    {
     "name": "stdout",
     "output_type": "stream",
     "text": [
      "[CV]  clf__activation=relu, clf__alpha=0.01, clf__hidden_layer_sizes=(30, 30, 30), clf__learning_rate=constant, clf__solver=lbfgs, total=   1.8s\n",
      "[CV] clf__activation=relu, clf__alpha=0.01, clf__hidden_layer_sizes=(30, 30, 30), clf__learning_rate=invscaling, clf__solver=lbfgs \n"
     ]
    },
    {
     "name": "stderr",
     "output_type": "stream",
     "text": [
      "/root/anaconda3/envs/learn-ml/lib/python3.6/site-packages/sklearn/neural_network/_multilayer_perceptron.py:470: ConvergenceWarning: lbfgs failed to converge (status=1):\n",
      "STOP: TOTAL NO. of ITERATIONS REACHED LIMIT.\n",
      "\n",
      "Increase the number of iterations (max_iter) or scale the data as shown in:\n",
      "    https://scikit-learn.org/stable/modules/preprocessing.html\n",
      "  self.n_iter_ = _check_optimize_result(\"lbfgs\", opt_res, self.max_iter)\n"
     ]
    },
    {
     "name": "stdout",
     "output_type": "stream",
     "text": [
      "[CV]  clf__activation=relu, clf__alpha=0.01, clf__hidden_layer_sizes=(30, 30, 30), clf__learning_rate=invscaling, clf__solver=lbfgs, total=   1.4s\n",
      "[CV] clf__activation=relu, clf__alpha=0.01, clf__hidden_layer_sizes=(30, 30, 30), clf__learning_rate=invscaling, clf__solver=lbfgs \n"
     ]
    },
    {
     "name": "stderr",
     "output_type": "stream",
     "text": [
      "/root/anaconda3/envs/learn-ml/lib/python3.6/site-packages/sklearn/neural_network/_multilayer_perceptron.py:470: ConvergenceWarning: lbfgs failed to converge (status=1):\n",
      "STOP: TOTAL NO. of ITERATIONS REACHED LIMIT.\n",
      "\n",
      "Increase the number of iterations (max_iter) or scale the data as shown in:\n",
      "    https://scikit-learn.org/stable/modules/preprocessing.html\n",
      "  self.n_iter_ = _check_optimize_result(\"lbfgs\", opt_res, self.max_iter)\n"
     ]
    },
    {
     "name": "stdout",
     "output_type": "stream",
     "text": [
      "[CV]  clf__activation=relu, clf__alpha=0.01, clf__hidden_layer_sizes=(30, 30, 30), clf__learning_rate=invscaling, clf__solver=lbfgs, total=   1.5s\n",
      "[CV] clf__activation=relu, clf__alpha=0.01, clf__hidden_layer_sizes=(30, 30, 30), clf__learning_rate=invscaling, clf__solver=lbfgs \n"
     ]
    },
    {
     "name": "stderr",
     "output_type": "stream",
     "text": [
      "/root/anaconda3/envs/learn-ml/lib/python3.6/site-packages/sklearn/neural_network/_multilayer_perceptron.py:470: ConvergenceWarning: lbfgs failed to converge (status=1):\n",
      "STOP: TOTAL NO. of ITERATIONS REACHED LIMIT.\n",
      "\n",
      "Increase the number of iterations (max_iter) or scale the data as shown in:\n",
      "    https://scikit-learn.org/stable/modules/preprocessing.html\n",
      "  self.n_iter_ = _check_optimize_result(\"lbfgs\", opt_res, self.max_iter)\n"
     ]
    },
    {
     "name": "stdout",
     "output_type": "stream",
     "text": [
      "[CV]  clf__activation=relu, clf__alpha=0.01, clf__hidden_layer_sizes=(30, 30, 30), clf__learning_rate=invscaling, clf__solver=lbfgs, total=   1.5s\n",
      "[CV] clf__activation=relu, clf__alpha=0.01, clf__hidden_layer_sizes=(20, 20, 20), clf__learning_rate=constant, clf__solver=lbfgs \n"
     ]
    },
    {
     "name": "stderr",
     "output_type": "stream",
     "text": [
      "/root/anaconda3/envs/learn-ml/lib/python3.6/site-packages/sklearn/neural_network/_multilayer_perceptron.py:470: ConvergenceWarning: lbfgs failed to converge (status=1):\n",
      "STOP: TOTAL NO. of ITERATIONS REACHED LIMIT.\n",
      "\n",
      "Increase the number of iterations (max_iter) or scale the data as shown in:\n",
      "    https://scikit-learn.org/stable/modules/preprocessing.html\n",
      "  self.n_iter_ = _check_optimize_result(\"lbfgs\", opt_res, self.max_iter)\n"
     ]
    },
    {
     "name": "stdout",
     "output_type": "stream",
     "text": [
      "[CV]  clf__activation=relu, clf__alpha=0.01, clf__hidden_layer_sizes=(20, 20, 20), clf__learning_rate=constant, clf__solver=lbfgs, total=   0.9s\n",
      "[CV] clf__activation=relu, clf__alpha=0.01, clf__hidden_layer_sizes=(20, 20, 20), clf__learning_rate=constant, clf__solver=lbfgs \n"
     ]
    },
    {
     "name": "stderr",
     "output_type": "stream",
     "text": [
      "/root/anaconda3/envs/learn-ml/lib/python3.6/site-packages/sklearn/neural_network/_multilayer_perceptron.py:470: ConvergenceWarning: lbfgs failed to converge (status=1):\n",
      "STOP: TOTAL NO. of ITERATIONS REACHED LIMIT.\n",
      "\n",
      "Increase the number of iterations (max_iter) or scale the data as shown in:\n",
      "    https://scikit-learn.org/stable/modules/preprocessing.html\n",
      "  self.n_iter_ = _check_optimize_result(\"lbfgs\", opt_res, self.max_iter)\n"
     ]
    },
    {
     "name": "stdout",
     "output_type": "stream",
     "text": [
      "[CV]  clf__activation=relu, clf__alpha=0.01, clf__hidden_layer_sizes=(20, 20, 20), clf__learning_rate=constant, clf__solver=lbfgs, total=   0.9s\n",
      "[CV] clf__activation=relu, clf__alpha=0.01, clf__hidden_layer_sizes=(20, 20, 20), clf__learning_rate=constant, clf__solver=lbfgs \n"
     ]
    },
    {
     "name": "stderr",
     "output_type": "stream",
     "text": [
      "/root/anaconda3/envs/learn-ml/lib/python3.6/site-packages/sklearn/neural_network/_multilayer_perceptron.py:470: ConvergenceWarning: lbfgs failed to converge (status=1):\n",
      "STOP: TOTAL NO. of ITERATIONS REACHED LIMIT.\n",
      "\n",
      "Increase the number of iterations (max_iter) or scale the data as shown in:\n",
      "    https://scikit-learn.org/stable/modules/preprocessing.html\n",
      "  self.n_iter_ = _check_optimize_result(\"lbfgs\", opt_res, self.max_iter)\n"
     ]
    },
    {
     "name": "stdout",
     "output_type": "stream",
     "text": [
      "[CV]  clf__activation=relu, clf__alpha=0.01, clf__hidden_layer_sizes=(20, 20, 20), clf__learning_rate=constant, clf__solver=lbfgs, total=   0.9s\n",
      "[CV] clf__activation=relu, clf__alpha=0.01, clf__hidden_layer_sizes=(20, 20, 20), clf__learning_rate=invscaling, clf__solver=lbfgs \n"
     ]
    },
    {
     "name": "stderr",
     "output_type": "stream",
     "text": [
      "/root/anaconda3/envs/learn-ml/lib/python3.6/site-packages/sklearn/neural_network/_multilayer_perceptron.py:470: ConvergenceWarning: lbfgs failed to converge (status=1):\n",
      "STOP: TOTAL NO. of ITERATIONS REACHED LIMIT.\n",
      "\n",
      "Increase the number of iterations (max_iter) or scale the data as shown in:\n",
      "    https://scikit-learn.org/stable/modules/preprocessing.html\n",
      "  self.n_iter_ = _check_optimize_result(\"lbfgs\", opt_res, self.max_iter)\n"
     ]
    },
    {
     "name": "stdout",
     "output_type": "stream",
     "text": [
      "[CV]  clf__activation=relu, clf__alpha=0.01, clf__hidden_layer_sizes=(20, 20, 20), clf__learning_rate=invscaling, clf__solver=lbfgs, total=   0.9s\n",
      "[CV] clf__activation=relu, clf__alpha=0.01, clf__hidden_layer_sizes=(20, 20, 20), clf__learning_rate=invscaling, clf__solver=lbfgs \n"
     ]
    },
    {
     "name": "stderr",
     "output_type": "stream",
     "text": [
      "/root/anaconda3/envs/learn-ml/lib/python3.6/site-packages/sklearn/neural_network/_multilayer_perceptron.py:470: ConvergenceWarning: lbfgs failed to converge (status=1):\n",
      "STOP: TOTAL NO. of ITERATIONS REACHED LIMIT.\n",
      "\n",
      "Increase the number of iterations (max_iter) or scale the data as shown in:\n",
      "    https://scikit-learn.org/stable/modules/preprocessing.html\n",
      "  self.n_iter_ = _check_optimize_result(\"lbfgs\", opt_res, self.max_iter)\n"
     ]
    },
    {
     "name": "stdout",
     "output_type": "stream",
     "text": [
      "[CV]  clf__activation=relu, clf__alpha=0.01, clf__hidden_layer_sizes=(20, 20, 20), clf__learning_rate=invscaling, clf__solver=lbfgs, total=   0.9s\n",
      "[CV] clf__activation=relu, clf__alpha=0.01, clf__hidden_layer_sizes=(20, 20, 20), clf__learning_rate=invscaling, clf__solver=lbfgs \n"
     ]
    },
    {
     "name": "stderr",
     "output_type": "stream",
     "text": [
      "/root/anaconda3/envs/learn-ml/lib/python3.6/site-packages/sklearn/neural_network/_multilayer_perceptron.py:470: ConvergenceWarning: lbfgs failed to converge (status=1):\n",
      "STOP: TOTAL NO. of ITERATIONS REACHED LIMIT.\n",
      "\n",
      "Increase the number of iterations (max_iter) or scale the data as shown in:\n",
      "    https://scikit-learn.org/stable/modules/preprocessing.html\n",
      "  self.n_iter_ = _check_optimize_result(\"lbfgs\", opt_res, self.max_iter)\n"
     ]
    },
    {
     "name": "stdout",
     "output_type": "stream",
     "text": [
      "[CV]  clf__activation=relu, clf__alpha=0.01, clf__hidden_layer_sizes=(20, 20, 20), clf__learning_rate=invscaling, clf__solver=lbfgs, total=   0.9s\n",
      "[CV] clf__activation=relu, clf__alpha=0.01, clf__hidden_layer_sizes=(15, 15, 15), clf__learning_rate=constant, clf__solver=lbfgs \n"
     ]
    },
    {
     "name": "stderr",
     "output_type": "stream",
     "text": [
      "/root/anaconda3/envs/learn-ml/lib/python3.6/site-packages/sklearn/neural_network/_multilayer_perceptron.py:470: ConvergenceWarning: lbfgs failed to converge (status=1):\n",
      "STOP: TOTAL NO. of ITERATIONS REACHED LIMIT.\n",
      "\n",
      "Increase the number of iterations (max_iter) or scale the data as shown in:\n",
      "    https://scikit-learn.org/stable/modules/preprocessing.html\n",
      "  self.n_iter_ = _check_optimize_result(\"lbfgs\", opt_res, self.max_iter)\n"
     ]
    },
    {
     "name": "stdout",
     "output_type": "stream",
     "text": [
      "[CV]  clf__activation=relu, clf__alpha=0.01, clf__hidden_layer_sizes=(15, 15, 15), clf__learning_rate=constant, clf__solver=lbfgs, total=   0.7s\n",
      "[CV] clf__activation=relu, clf__alpha=0.01, clf__hidden_layer_sizes=(15, 15, 15), clf__learning_rate=constant, clf__solver=lbfgs \n"
     ]
    },
    {
     "name": "stderr",
     "output_type": "stream",
     "text": [
      "/root/anaconda3/envs/learn-ml/lib/python3.6/site-packages/sklearn/neural_network/_multilayer_perceptron.py:470: ConvergenceWarning: lbfgs failed to converge (status=1):\n",
      "STOP: TOTAL NO. of ITERATIONS REACHED LIMIT.\n",
      "\n",
      "Increase the number of iterations (max_iter) or scale the data as shown in:\n",
      "    https://scikit-learn.org/stable/modules/preprocessing.html\n",
      "  self.n_iter_ = _check_optimize_result(\"lbfgs\", opt_res, self.max_iter)\n"
     ]
    },
    {
     "name": "stdout",
     "output_type": "stream",
     "text": [
      "[CV]  clf__activation=relu, clf__alpha=0.01, clf__hidden_layer_sizes=(15, 15, 15), clf__learning_rate=constant, clf__solver=lbfgs, total=   0.7s\n",
      "[CV] clf__activation=relu, clf__alpha=0.01, clf__hidden_layer_sizes=(15, 15, 15), clf__learning_rate=constant, clf__solver=lbfgs \n"
     ]
    },
    {
     "name": "stderr",
     "output_type": "stream",
     "text": [
      "/root/anaconda3/envs/learn-ml/lib/python3.6/site-packages/sklearn/neural_network/_multilayer_perceptron.py:470: ConvergenceWarning: lbfgs failed to converge (status=1):\n",
      "STOP: TOTAL NO. of ITERATIONS REACHED LIMIT.\n",
      "\n",
      "Increase the number of iterations (max_iter) or scale the data as shown in:\n",
      "    https://scikit-learn.org/stable/modules/preprocessing.html\n",
      "  self.n_iter_ = _check_optimize_result(\"lbfgs\", opt_res, self.max_iter)\n"
     ]
    },
    {
     "name": "stdout",
     "output_type": "stream",
     "text": [
      "[CV]  clf__activation=relu, clf__alpha=0.01, clf__hidden_layer_sizes=(15, 15, 15), clf__learning_rate=constant, clf__solver=lbfgs, total=   0.7s\n",
      "[CV] clf__activation=relu, clf__alpha=0.01, clf__hidden_layer_sizes=(15, 15, 15), clf__learning_rate=invscaling, clf__solver=lbfgs \n"
     ]
    },
    {
     "name": "stderr",
     "output_type": "stream",
     "text": [
      "/root/anaconda3/envs/learn-ml/lib/python3.6/site-packages/sklearn/neural_network/_multilayer_perceptron.py:470: ConvergenceWarning: lbfgs failed to converge (status=1):\n",
      "STOP: TOTAL NO. of ITERATIONS REACHED LIMIT.\n",
      "\n",
      "Increase the number of iterations (max_iter) or scale the data as shown in:\n",
      "    https://scikit-learn.org/stable/modules/preprocessing.html\n",
      "  self.n_iter_ = _check_optimize_result(\"lbfgs\", opt_res, self.max_iter)\n"
     ]
    },
    {
     "name": "stdout",
     "output_type": "stream",
     "text": [
      "[CV]  clf__activation=relu, clf__alpha=0.01, clf__hidden_layer_sizes=(15, 15, 15), clf__learning_rate=invscaling, clf__solver=lbfgs, total=   0.7s\n",
      "[CV] clf__activation=relu, clf__alpha=0.01, clf__hidden_layer_sizes=(15, 15, 15), clf__learning_rate=invscaling, clf__solver=lbfgs \n"
     ]
    },
    {
     "name": "stderr",
     "output_type": "stream",
     "text": [
      "/root/anaconda3/envs/learn-ml/lib/python3.6/site-packages/sklearn/neural_network/_multilayer_perceptron.py:470: ConvergenceWarning: lbfgs failed to converge (status=1):\n",
      "STOP: TOTAL NO. of ITERATIONS REACHED LIMIT.\n",
      "\n",
      "Increase the number of iterations (max_iter) or scale the data as shown in:\n",
      "    https://scikit-learn.org/stable/modules/preprocessing.html\n",
      "  self.n_iter_ = _check_optimize_result(\"lbfgs\", opt_res, self.max_iter)\n"
     ]
    },
    {
     "name": "stdout",
     "output_type": "stream",
     "text": [
      "[CV]  clf__activation=relu, clf__alpha=0.01, clf__hidden_layer_sizes=(15, 15, 15), clf__learning_rate=invscaling, clf__solver=lbfgs, total=   0.9s\n",
      "[CV] clf__activation=relu, clf__alpha=0.01, clf__hidden_layer_sizes=(15, 15, 15), clf__learning_rate=invscaling, clf__solver=lbfgs \n"
     ]
    },
    {
     "name": "stderr",
     "output_type": "stream",
     "text": [
      "/root/anaconda3/envs/learn-ml/lib/python3.6/site-packages/sklearn/neural_network/_multilayer_perceptron.py:470: ConvergenceWarning: lbfgs failed to converge (status=1):\n",
      "STOP: TOTAL NO. of ITERATIONS REACHED LIMIT.\n",
      "\n",
      "Increase the number of iterations (max_iter) or scale the data as shown in:\n",
      "    https://scikit-learn.org/stable/modules/preprocessing.html\n",
      "  self.n_iter_ = _check_optimize_result(\"lbfgs\", opt_res, self.max_iter)\n"
     ]
    },
    {
     "name": "stdout",
     "output_type": "stream",
     "text": [
      "[CV]  clf__activation=relu, clf__alpha=0.01, clf__hidden_layer_sizes=(15, 15, 15), clf__learning_rate=invscaling, clf__solver=lbfgs, total=   1.2s\n",
      "[CV] clf__activation=relu, clf__alpha=0.1, clf__hidden_layer_sizes=5, clf__learning_rate=constant, clf__solver=lbfgs \n"
     ]
    },
    {
     "name": "stderr",
     "output_type": "stream",
     "text": [
      "/root/anaconda3/envs/learn-ml/lib/python3.6/site-packages/sklearn/neural_network/_multilayer_perceptron.py:470: ConvergenceWarning: lbfgs failed to converge (status=1):\n",
      "STOP: TOTAL NO. of ITERATIONS REACHED LIMIT.\n",
      "\n",
      "Increase the number of iterations (max_iter) or scale the data as shown in:\n",
      "    https://scikit-learn.org/stable/modules/preprocessing.html\n",
      "  self.n_iter_ = _check_optimize_result(\"lbfgs\", opt_res, self.max_iter)\n"
     ]
    },
    {
     "name": "stdout",
     "output_type": "stream",
     "text": [
      "[CV]  clf__activation=relu, clf__alpha=0.1, clf__hidden_layer_sizes=5, clf__learning_rate=constant, clf__solver=lbfgs, total=   0.2s\n",
      "[CV] clf__activation=relu, clf__alpha=0.1, clf__hidden_layer_sizes=5, clf__learning_rate=constant, clf__solver=lbfgs \n"
     ]
    },
    {
     "name": "stderr",
     "output_type": "stream",
     "text": [
      "/root/anaconda3/envs/learn-ml/lib/python3.6/site-packages/sklearn/neural_network/_multilayer_perceptron.py:470: ConvergenceWarning: lbfgs failed to converge (status=1):\n",
      "STOP: TOTAL NO. of ITERATIONS REACHED LIMIT.\n",
      "\n",
      "Increase the number of iterations (max_iter) or scale the data as shown in:\n",
      "    https://scikit-learn.org/stable/modules/preprocessing.html\n",
      "  self.n_iter_ = _check_optimize_result(\"lbfgs\", opt_res, self.max_iter)\n"
     ]
    },
    {
     "name": "stdout",
     "output_type": "stream",
     "text": [
      "[CV]  clf__activation=relu, clf__alpha=0.1, clf__hidden_layer_sizes=5, clf__learning_rate=constant, clf__solver=lbfgs, total=   0.2s\n",
      "[CV] clf__activation=relu, clf__alpha=0.1, clf__hidden_layer_sizes=5, clf__learning_rate=constant, clf__solver=lbfgs \n"
     ]
    },
    {
     "name": "stderr",
     "output_type": "stream",
     "text": [
      "/root/anaconda3/envs/learn-ml/lib/python3.6/site-packages/sklearn/neural_network/_multilayer_perceptron.py:470: ConvergenceWarning: lbfgs failed to converge (status=1):\n",
      "STOP: TOTAL NO. of ITERATIONS REACHED LIMIT.\n",
      "\n",
      "Increase the number of iterations (max_iter) or scale the data as shown in:\n",
      "    https://scikit-learn.org/stable/modules/preprocessing.html\n",
      "  self.n_iter_ = _check_optimize_result(\"lbfgs\", opt_res, self.max_iter)\n"
     ]
    },
    {
     "name": "stdout",
     "output_type": "stream",
     "text": [
      "[CV]  clf__activation=relu, clf__alpha=0.1, clf__hidden_layer_sizes=5, clf__learning_rate=constant, clf__solver=lbfgs, total=   0.2s\n",
      "[CV] clf__activation=relu, clf__alpha=0.1, clf__hidden_layer_sizes=5, clf__learning_rate=invscaling, clf__solver=lbfgs \n",
      "[CV]  clf__activation=relu, clf__alpha=0.1, clf__hidden_layer_sizes=5, clf__learning_rate=invscaling, clf__solver=lbfgs, total=   0.1s\n",
      "[CV] clf__activation=relu, clf__alpha=0.1, clf__hidden_layer_sizes=5, clf__learning_rate=invscaling, clf__solver=lbfgs \n"
     ]
    },
    {
     "name": "stderr",
     "output_type": "stream",
     "text": [
      "/root/anaconda3/envs/learn-ml/lib/python3.6/site-packages/sklearn/neural_network/_multilayer_perceptron.py:470: ConvergenceWarning: lbfgs failed to converge (status=1):\n",
      "STOP: TOTAL NO. of ITERATIONS REACHED LIMIT.\n",
      "\n",
      "Increase the number of iterations (max_iter) or scale the data as shown in:\n",
      "    https://scikit-learn.org/stable/modules/preprocessing.html\n",
      "  self.n_iter_ = _check_optimize_result(\"lbfgs\", opt_res, self.max_iter)\n",
      "/root/anaconda3/envs/learn-ml/lib/python3.6/site-packages/sklearn/neural_network/_multilayer_perceptron.py:470: ConvergenceWarning: lbfgs failed to converge (status=1):\n",
      "STOP: TOTAL NO. of ITERATIONS REACHED LIMIT.\n",
      "\n",
      "Increase the number of iterations (max_iter) or scale the data as shown in:\n",
      "    https://scikit-learn.org/stable/modules/preprocessing.html\n",
      "  self.n_iter_ = _check_optimize_result(\"lbfgs\", opt_res, self.max_iter)\n"
     ]
    },
    {
     "name": "stdout",
     "output_type": "stream",
     "text": [
      "[CV]  clf__activation=relu, clf__alpha=0.1, clf__hidden_layer_sizes=5, clf__learning_rate=invscaling, clf__solver=lbfgs, total=   0.2s\n",
      "[CV] clf__activation=relu, clf__alpha=0.1, clf__hidden_layer_sizes=5, clf__learning_rate=invscaling, clf__solver=lbfgs \n",
      "[CV]  clf__activation=relu, clf__alpha=0.1, clf__hidden_layer_sizes=5, clf__learning_rate=invscaling, clf__solver=lbfgs, total=   0.2s\n",
      "[CV] clf__activation=relu, clf__alpha=0.1, clf__hidden_layer_sizes=(10, 10), clf__learning_rate=constant, clf__solver=lbfgs \n"
     ]
    },
    {
     "name": "stderr",
     "output_type": "stream",
     "text": [
      "/root/anaconda3/envs/learn-ml/lib/python3.6/site-packages/sklearn/neural_network/_multilayer_perceptron.py:470: ConvergenceWarning: lbfgs failed to converge (status=1):\n",
      "STOP: TOTAL NO. of ITERATIONS REACHED LIMIT.\n",
      "\n",
      "Increase the number of iterations (max_iter) or scale the data as shown in:\n",
      "    https://scikit-learn.org/stable/modules/preprocessing.html\n",
      "  self.n_iter_ = _check_optimize_result(\"lbfgs\", opt_res, self.max_iter)\n"
     ]
    },
    {
     "name": "stdout",
     "output_type": "stream",
     "text": [
      "[CV]  clf__activation=relu, clf__alpha=0.1, clf__hidden_layer_sizes=(10, 10), clf__learning_rate=constant, clf__solver=lbfgs, total=   0.4s\n",
      "[CV] clf__activation=relu, clf__alpha=0.1, clf__hidden_layer_sizes=(10, 10), clf__learning_rate=constant, clf__solver=lbfgs \n"
     ]
    },
    {
     "name": "stderr",
     "output_type": "stream",
     "text": [
      "/root/anaconda3/envs/learn-ml/lib/python3.6/site-packages/sklearn/neural_network/_multilayer_perceptron.py:470: ConvergenceWarning: lbfgs failed to converge (status=1):\n",
      "STOP: TOTAL NO. of ITERATIONS REACHED LIMIT.\n",
      "\n",
      "Increase the number of iterations (max_iter) or scale the data as shown in:\n",
      "    https://scikit-learn.org/stable/modules/preprocessing.html\n",
      "  self.n_iter_ = _check_optimize_result(\"lbfgs\", opt_res, self.max_iter)\n"
     ]
    },
    {
     "name": "stdout",
     "output_type": "stream",
     "text": [
      "[CV]  clf__activation=relu, clf__alpha=0.1, clf__hidden_layer_sizes=(10, 10), clf__learning_rate=constant, clf__solver=lbfgs, total=   0.5s\n",
      "[CV] clf__activation=relu, clf__alpha=0.1, clf__hidden_layer_sizes=(10, 10), clf__learning_rate=constant, clf__solver=lbfgs \n"
     ]
    },
    {
     "name": "stderr",
     "output_type": "stream",
     "text": [
      "/root/anaconda3/envs/learn-ml/lib/python3.6/site-packages/sklearn/neural_network/_multilayer_perceptron.py:470: ConvergenceWarning: lbfgs failed to converge (status=1):\n",
      "STOP: TOTAL NO. of ITERATIONS REACHED LIMIT.\n",
      "\n",
      "Increase the number of iterations (max_iter) or scale the data as shown in:\n",
      "    https://scikit-learn.org/stable/modules/preprocessing.html\n",
      "  self.n_iter_ = _check_optimize_result(\"lbfgs\", opt_res, self.max_iter)\n"
     ]
    },
    {
     "name": "stdout",
     "output_type": "stream",
     "text": [
      "[CV]  clf__activation=relu, clf__alpha=0.1, clf__hidden_layer_sizes=(10, 10), clf__learning_rate=constant, clf__solver=lbfgs, total=   0.5s\n",
      "[CV] clf__activation=relu, clf__alpha=0.1, clf__hidden_layer_sizes=(10, 10), clf__learning_rate=invscaling, clf__solver=lbfgs \n"
     ]
    },
    {
     "name": "stderr",
     "output_type": "stream",
     "text": [
      "/root/anaconda3/envs/learn-ml/lib/python3.6/site-packages/sklearn/neural_network/_multilayer_perceptron.py:470: ConvergenceWarning: lbfgs failed to converge (status=1):\n",
      "STOP: TOTAL NO. of ITERATIONS REACHED LIMIT.\n",
      "\n",
      "Increase the number of iterations (max_iter) or scale the data as shown in:\n",
      "    https://scikit-learn.org/stable/modules/preprocessing.html\n",
      "  self.n_iter_ = _check_optimize_result(\"lbfgs\", opt_res, self.max_iter)\n"
     ]
    },
    {
     "name": "stdout",
     "output_type": "stream",
     "text": [
      "[CV]  clf__activation=relu, clf__alpha=0.1, clf__hidden_layer_sizes=(10, 10), clf__learning_rate=invscaling, clf__solver=lbfgs, total=   0.5s\n",
      "[CV] clf__activation=relu, clf__alpha=0.1, clf__hidden_layer_sizes=(10, 10), clf__learning_rate=invscaling, clf__solver=lbfgs \n"
     ]
    },
    {
     "name": "stderr",
     "output_type": "stream",
     "text": [
      "/root/anaconda3/envs/learn-ml/lib/python3.6/site-packages/sklearn/neural_network/_multilayer_perceptron.py:470: ConvergenceWarning: lbfgs failed to converge (status=1):\n",
      "STOP: TOTAL NO. of ITERATIONS REACHED LIMIT.\n",
      "\n",
      "Increase the number of iterations (max_iter) or scale the data as shown in:\n",
      "    https://scikit-learn.org/stable/modules/preprocessing.html\n",
      "  self.n_iter_ = _check_optimize_result(\"lbfgs\", opt_res, self.max_iter)\n"
     ]
    },
    {
     "name": "stdout",
     "output_type": "stream",
     "text": [
      "[CV]  clf__activation=relu, clf__alpha=0.1, clf__hidden_layer_sizes=(10, 10), clf__learning_rate=invscaling, clf__solver=lbfgs, total=   0.4s\n",
      "[CV] clf__activation=relu, clf__alpha=0.1, clf__hidden_layer_sizes=(10, 10), clf__learning_rate=invscaling, clf__solver=lbfgs \n"
     ]
    },
    {
     "name": "stderr",
     "output_type": "stream",
     "text": [
      "/root/anaconda3/envs/learn-ml/lib/python3.6/site-packages/sklearn/neural_network/_multilayer_perceptron.py:470: ConvergenceWarning: lbfgs failed to converge (status=1):\n",
      "STOP: TOTAL NO. of ITERATIONS REACHED LIMIT.\n",
      "\n",
      "Increase the number of iterations (max_iter) or scale the data as shown in:\n",
      "    https://scikit-learn.org/stable/modules/preprocessing.html\n",
      "  self.n_iter_ = _check_optimize_result(\"lbfgs\", opt_res, self.max_iter)\n"
     ]
    },
    {
     "name": "stdout",
     "output_type": "stream",
     "text": [
      "[CV]  clf__activation=relu, clf__alpha=0.1, clf__hidden_layer_sizes=(10, 10), clf__learning_rate=invscaling, clf__solver=lbfgs, total=   0.6s\n",
      "[CV] clf__activation=relu, clf__alpha=0.1, clf__hidden_layer_sizes=(7, 7, 7), clf__learning_rate=constant, clf__solver=lbfgs \n"
     ]
    },
    {
     "name": "stderr",
     "output_type": "stream",
     "text": [
      "/root/anaconda3/envs/learn-ml/lib/python3.6/site-packages/sklearn/neural_network/_multilayer_perceptron.py:470: ConvergenceWarning: lbfgs failed to converge (status=1):\n",
      "STOP: TOTAL NO. of ITERATIONS REACHED LIMIT.\n",
      "\n",
      "Increase the number of iterations (max_iter) or scale the data as shown in:\n",
      "    https://scikit-learn.org/stable/modules/preprocessing.html\n",
      "  self.n_iter_ = _check_optimize_result(\"lbfgs\", opt_res, self.max_iter)\n"
     ]
    },
    {
     "name": "stdout",
     "output_type": "stream",
     "text": [
      "[CV]  clf__activation=relu, clf__alpha=0.1, clf__hidden_layer_sizes=(7, 7, 7), clf__learning_rate=constant, clf__solver=lbfgs, total=   0.5s\n",
      "[CV] clf__activation=relu, clf__alpha=0.1, clf__hidden_layer_sizes=(7, 7, 7), clf__learning_rate=constant, clf__solver=lbfgs \n"
     ]
    },
    {
     "name": "stderr",
     "output_type": "stream",
     "text": [
      "/root/anaconda3/envs/learn-ml/lib/python3.6/site-packages/sklearn/neural_network/_multilayer_perceptron.py:470: ConvergenceWarning: lbfgs failed to converge (status=1):\n",
      "STOP: TOTAL NO. of ITERATIONS REACHED LIMIT.\n",
      "\n",
      "Increase the number of iterations (max_iter) or scale the data as shown in:\n",
      "    https://scikit-learn.org/stable/modules/preprocessing.html\n",
      "  self.n_iter_ = _check_optimize_result(\"lbfgs\", opt_res, self.max_iter)\n"
     ]
    },
    {
     "name": "stdout",
     "output_type": "stream",
     "text": [
      "[CV]  clf__activation=relu, clf__alpha=0.1, clf__hidden_layer_sizes=(7, 7, 7), clf__learning_rate=constant, clf__solver=lbfgs, total=   0.5s\n",
      "[CV] clf__activation=relu, clf__alpha=0.1, clf__hidden_layer_sizes=(7, 7, 7), clf__learning_rate=constant, clf__solver=lbfgs \n",
      "[CV]  clf__activation=relu, clf__alpha=0.1, clf__hidden_layer_sizes=(7, 7, 7), clf__learning_rate=constant, clf__solver=lbfgs, total=   0.7s\n",
      "[CV] clf__activation=relu, clf__alpha=0.1, clf__hidden_layer_sizes=(7, 7, 7), clf__learning_rate=invscaling, clf__solver=lbfgs \n"
     ]
    },
    {
     "name": "stderr",
     "output_type": "stream",
     "text": [
      "/root/anaconda3/envs/learn-ml/lib/python3.6/site-packages/sklearn/neural_network/_multilayer_perceptron.py:470: ConvergenceWarning: lbfgs failed to converge (status=1):\n",
      "STOP: TOTAL NO. of ITERATIONS REACHED LIMIT.\n",
      "\n",
      "Increase the number of iterations (max_iter) or scale the data as shown in:\n",
      "    https://scikit-learn.org/stable/modules/preprocessing.html\n",
      "  self.n_iter_ = _check_optimize_result(\"lbfgs\", opt_res, self.max_iter)\n"
     ]
    },
    {
     "name": "stdout",
     "output_type": "stream",
     "text": [
      "[CV]  clf__activation=relu, clf__alpha=0.1, clf__hidden_layer_sizes=(7, 7, 7), clf__learning_rate=invscaling, clf__solver=lbfgs, total=   1.3s\n",
      "[CV] clf__activation=relu, clf__alpha=0.1, clf__hidden_layer_sizes=(7, 7, 7), clf__learning_rate=invscaling, clf__solver=lbfgs \n"
     ]
    },
    {
     "name": "stderr",
     "output_type": "stream",
     "text": [
      "/root/anaconda3/envs/learn-ml/lib/python3.6/site-packages/sklearn/neural_network/_multilayer_perceptron.py:470: ConvergenceWarning: lbfgs failed to converge (status=1):\n",
      "STOP: TOTAL NO. of ITERATIONS REACHED LIMIT.\n",
      "\n",
      "Increase the number of iterations (max_iter) or scale the data as shown in:\n",
      "    https://scikit-learn.org/stable/modules/preprocessing.html\n",
      "  self.n_iter_ = _check_optimize_result(\"lbfgs\", opt_res, self.max_iter)\n"
     ]
    },
    {
     "name": "stdout",
     "output_type": "stream",
     "text": [
      "[CV]  clf__activation=relu, clf__alpha=0.1, clf__hidden_layer_sizes=(7, 7, 7), clf__learning_rate=invscaling, clf__solver=lbfgs, total=   1.5s\n",
      "[CV] clf__activation=relu, clf__alpha=0.1, clf__hidden_layer_sizes=(7, 7, 7), clf__learning_rate=invscaling, clf__solver=lbfgs \n",
      "[CV]  clf__activation=relu, clf__alpha=0.1, clf__hidden_layer_sizes=(7, 7, 7), clf__learning_rate=invscaling, clf__solver=lbfgs, total=   0.3s\n",
      "[CV] clf__activation=relu, clf__alpha=0.1, clf__hidden_layer_sizes=(20, 20, 20, 20), clf__learning_rate=constant, clf__solver=lbfgs \n",
      "[CV]  clf__activation=relu, clf__alpha=0.1, clf__hidden_layer_sizes=(20, 20, 20, 20), clf__learning_rate=constant, clf__solver=lbfgs, total=   0.2s\n",
      "[CV] clf__activation=relu, clf__alpha=0.1, clf__hidden_layer_sizes=(20, 20, 20, 20), clf__learning_rate=constant, clf__solver=lbfgs \n"
     ]
    },
    {
     "name": "stderr",
     "output_type": "stream",
     "text": [
      "/root/anaconda3/envs/learn-ml/lib/python3.6/site-packages/sklearn/neural_network/_multilayer_perceptron.py:470: ConvergenceWarning: lbfgs failed to converge (status=2):\n",
      "ABNORMAL_TERMINATION_IN_LNSRCH.\n",
      "\n",
      "Increase the number of iterations (max_iter) or scale the data as shown in:\n",
      "    https://scikit-learn.org/stable/modules/preprocessing.html\n",
      "  self.n_iter_ = _check_optimize_result(\"lbfgs\", opt_res, self.max_iter)\n",
      "/root/anaconda3/envs/learn-ml/lib/python3.6/site-packages/sklearn/neural_network/_multilayer_perceptron.py:470: ConvergenceWarning: lbfgs failed to converge (status=2):\n",
      "ABNORMAL_TERMINATION_IN_LNSRCH.\n",
      "\n",
      "Increase the number of iterations (max_iter) or scale the data as shown in:\n",
      "    https://scikit-learn.org/stable/modules/preprocessing.html\n",
      "  self.n_iter_ = _check_optimize_result(\"lbfgs\", opt_res, self.max_iter)\n"
     ]
    },
    {
     "name": "stdout",
     "output_type": "stream",
     "text": [
      "[CV]  clf__activation=relu, clf__alpha=0.1, clf__hidden_layer_sizes=(20, 20, 20, 20), clf__learning_rate=constant, clf__solver=lbfgs, total=   0.2s\n",
      "[CV] clf__activation=relu, clf__alpha=0.1, clf__hidden_layer_sizes=(20, 20, 20, 20), clf__learning_rate=constant, clf__solver=lbfgs \n"
     ]
    },
    {
     "name": "stderr",
     "output_type": "stream",
     "text": [
      "/root/anaconda3/envs/learn-ml/lib/python3.6/site-packages/sklearn/neural_network/_multilayer_perceptron.py:470: ConvergenceWarning: lbfgs failed to converge (status=1):\n",
      "STOP: TOTAL NO. of ITERATIONS REACHED LIMIT.\n",
      "\n",
      "Increase the number of iterations (max_iter) or scale the data as shown in:\n",
      "    https://scikit-learn.org/stable/modules/preprocessing.html\n",
      "  self.n_iter_ = _check_optimize_result(\"lbfgs\", opt_res, self.max_iter)\n"
     ]
    },
    {
     "name": "stdout",
     "output_type": "stream",
     "text": [
      "[CV]  clf__activation=relu, clf__alpha=0.1, clf__hidden_layer_sizes=(20, 20, 20, 20), clf__learning_rate=constant, clf__solver=lbfgs, total=   1.2s\n",
      "[CV] clf__activation=relu, clf__alpha=0.1, clf__hidden_layer_sizes=(20, 20, 20, 20), clf__learning_rate=invscaling, clf__solver=lbfgs \n"
     ]
    },
    {
     "name": "stderr",
     "output_type": "stream",
     "text": [
      "/root/anaconda3/envs/learn-ml/lib/python3.6/site-packages/sklearn/neural_network/_multilayer_perceptron.py:470: ConvergenceWarning: lbfgs failed to converge (status=1):\n",
      "STOP: TOTAL NO. of ITERATIONS REACHED LIMIT.\n",
      "\n",
      "Increase the number of iterations (max_iter) or scale the data as shown in:\n",
      "    https://scikit-learn.org/stable/modules/preprocessing.html\n",
      "  self.n_iter_ = _check_optimize_result(\"lbfgs\", opt_res, self.max_iter)\n"
     ]
    },
    {
     "name": "stdout",
     "output_type": "stream",
     "text": [
      "[CV]  clf__activation=relu, clf__alpha=0.1, clf__hidden_layer_sizes=(20, 20, 20, 20), clf__learning_rate=invscaling, clf__solver=lbfgs, total=   1.9s\n",
      "[CV] clf__activation=relu, clf__alpha=0.1, clf__hidden_layer_sizes=(20, 20, 20, 20), clf__learning_rate=invscaling, clf__solver=lbfgs \n"
     ]
    },
    {
     "name": "stderr",
     "output_type": "stream",
     "text": [
      "/root/anaconda3/envs/learn-ml/lib/python3.6/site-packages/sklearn/neural_network/_multilayer_perceptron.py:470: ConvergenceWarning: lbfgs failed to converge (status=1):\n",
      "STOP: TOTAL NO. of ITERATIONS REACHED LIMIT.\n",
      "\n",
      "Increase the number of iterations (max_iter) or scale the data as shown in:\n",
      "    https://scikit-learn.org/stable/modules/preprocessing.html\n",
      "  self.n_iter_ = _check_optimize_result(\"lbfgs\", opt_res, self.max_iter)\n"
     ]
    },
    {
     "name": "stdout",
     "output_type": "stream",
     "text": [
      "[CV]  clf__activation=relu, clf__alpha=0.1, clf__hidden_layer_sizes=(20, 20, 20, 20), clf__learning_rate=invscaling, clf__solver=lbfgs, total=   1.2s\n",
      "[CV] clf__activation=relu, clf__alpha=0.1, clf__hidden_layer_sizes=(20, 20, 20, 20), clf__learning_rate=invscaling, clf__solver=lbfgs \n"
     ]
    },
    {
     "name": "stderr",
     "output_type": "stream",
     "text": [
      "/root/anaconda3/envs/learn-ml/lib/python3.6/site-packages/sklearn/neural_network/_multilayer_perceptron.py:470: ConvergenceWarning: lbfgs failed to converge (status=2):\n",
      "ABNORMAL_TERMINATION_IN_LNSRCH.\n",
      "\n",
      "Increase the number of iterations (max_iter) or scale the data as shown in:\n",
      "    https://scikit-learn.org/stable/modules/preprocessing.html\n",
      "  self.n_iter_ = _check_optimize_result(\"lbfgs\", opt_res, self.max_iter)\n"
     ]
    },
    {
     "name": "stdout",
     "output_type": "stream",
     "text": [
      "[CV]  clf__activation=relu, clf__alpha=0.1, clf__hidden_layer_sizes=(20, 20, 20, 20), clf__learning_rate=invscaling, clf__solver=lbfgs, total=   0.3s\n",
      "[CV] clf__activation=relu, clf__alpha=0.1, clf__hidden_layer_sizes=(30, 30, 30), clf__learning_rate=constant, clf__solver=lbfgs \n"
     ]
    },
    {
     "name": "stderr",
     "output_type": "stream",
     "text": [
      "/root/anaconda3/envs/learn-ml/lib/python3.6/site-packages/sklearn/neural_network/_multilayer_perceptron.py:470: ConvergenceWarning: lbfgs failed to converge (status=1):\n",
      "STOP: TOTAL NO. of ITERATIONS REACHED LIMIT.\n",
      "\n",
      "Increase the number of iterations (max_iter) or scale the data as shown in:\n",
      "    https://scikit-learn.org/stable/modules/preprocessing.html\n",
      "  self.n_iter_ = _check_optimize_result(\"lbfgs\", opt_res, self.max_iter)\n"
     ]
    },
    {
     "name": "stdout",
     "output_type": "stream",
     "text": [
      "[CV]  clf__activation=relu, clf__alpha=0.1, clf__hidden_layer_sizes=(30, 30, 30), clf__learning_rate=constant, clf__solver=lbfgs, total=   1.9s\n",
      "[CV] clf__activation=relu, clf__alpha=0.1, clf__hidden_layer_sizes=(30, 30, 30), clf__learning_rate=constant, clf__solver=lbfgs \n"
     ]
    },
    {
     "name": "stderr",
     "output_type": "stream",
     "text": [
      "/root/anaconda3/envs/learn-ml/lib/python3.6/site-packages/sklearn/neural_network/_multilayer_perceptron.py:470: ConvergenceWarning: lbfgs failed to converge (status=1):\n",
      "STOP: TOTAL NO. of ITERATIONS REACHED LIMIT.\n",
      "\n",
      "Increase the number of iterations (max_iter) or scale the data as shown in:\n",
      "    https://scikit-learn.org/stable/modules/preprocessing.html\n",
      "  self.n_iter_ = _check_optimize_result(\"lbfgs\", opt_res, self.max_iter)\n"
     ]
    },
    {
     "name": "stdout",
     "output_type": "stream",
     "text": [
      "[CV]  clf__activation=relu, clf__alpha=0.1, clf__hidden_layer_sizes=(30, 30, 30), clf__learning_rate=constant, clf__solver=lbfgs, total=   1.4s\n",
      "[CV] clf__activation=relu, clf__alpha=0.1, clf__hidden_layer_sizes=(30, 30, 30), clf__learning_rate=constant, clf__solver=lbfgs \n"
     ]
    },
    {
     "name": "stderr",
     "output_type": "stream",
     "text": [
      "/root/anaconda3/envs/learn-ml/lib/python3.6/site-packages/sklearn/neural_network/_multilayer_perceptron.py:470: ConvergenceWarning: lbfgs failed to converge (status=1):\n",
      "STOP: TOTAL NO. of ITERATIONS REACHED LIMIT.\n",
      "\n",
      "Increase the number of iterations (max_iter) or scale the data as shown in:\n",
      "    https://scikit-learn.org/stable/modules/preprocessing.html\n",
      "  self.n_iter_ = _check_optimize_result(\"lbfgs\", opt_res, self.max_iter)\n",
      "/root/anaconda3/envs/learn-ml/lib/python3.6/site-packages/sklearn/neural_network/_multilayer_perceptron.py:470: ConvergenceWarning: lbfgs failed to converge (status=2):\n",
      "ABNORMAL_TERMINATION_IN_LNSRCH.\n",
      "\n",
      "Increase the number of iterations (max_iter) or scale the data as shown in:\n",
      "    https://scikit-learn.org/stable/modules/preprocessing.html\n",
      "  self.n_iter_ = _check_optimize_result(\"lbfgs\", opt_res, self.max_iter)\n"
     ]
    },
    {
     "name": "stdout",
     "output_type": "stream",
     "text": [
      "[CV]  clf__activation=relu, clf__alpha=0.1, clf__hidden_layer_sizes=(30, 30, 30), clf__learning_rate=constant, clf__solver=lbfgs, total=   1.3s\n",
      "[CV] clf__activation=relu, clf__alpha=0.1, clf__hidden_layer_sizes=(30, 30, 30), clf__learning_rate=invscaling, clf__solver=lbfgs \n",
      "[CV]  clf__activation=relu, clf__alpha=0.1, clf__hidden_layer_sizes=(30, 30, 30), clf__learning_rate=invscaling, clf__solver=lbfgs, total=   0.2s\n",
      "[CV] clf__activation=relu, clf__alpha=0.1, clf__hidden_layer_sizes=(30, 30, 30), clf__learning_rate=invscaling, clf__solver=lbfgs \n"
     ]
    },
    {
     "name": "stderr",
     "output_type": "stream",
     "text": [
      "/root/anaconda3/envs/learn-ml/lib/python3.6/site-packages/sklearn/neural_network/_multilayer_perceptron.py:470: ConvergenceWarning: lbfgs failed to converge (status=1):\n",
      "STOP: TOTAL NO. of ITERATIONS REACHED LIMIT.\n",
      "\n",
      "Increase the number of iterations (max_iter) or scale the data as shown in:\n",
      "    https://scikit-learn.org/stable/modules/preprocessing.html\n",
      "  self.n_iter_ = _check_optimize_result(\"lbfgs\", opt_res, self.max_iter)\n"
     ]
    },
    {
     "name": "stdout",
     "output_type": "stream",
     "text": [
      "[CV]  clf__activation=relu, clf__alpha=0.1, clf__hidden_layer_sizes=(30, 30, 30), clf__learning_rate=invscaling, clf__solver=lbfgs, total=   1.5s\n",
      "[CV] clf__activation=relu, clf__alpha=0.1, clf__hidden_layer_sizes=(30, 30, 30), clf__learning_rate=invscaling, clf__solver=lbfgs \n"
     ]
    },
    {
     "name": "stderr",
     "output_type": "stream",
     "text": [
      "/root/anaconda3/envs/learn-ml/lib/python3.6/site-packages/sklearn/neural_network/_multilayer_perceptron.py:470: ConvergenceWarning: lbfgs failed to converge (status=1):\n",
      "STOP: TOTAL NO. of ITERATIONS REACHED LIMIT.\n",
      "\n",
      "Increase the number of iterations (max_iter) or scale the data as shown in:\n",
      "    https://scikit-learn.org/stable/modules/preprocessing.html\n",
      "  self.n_iter_ = _check_optimize_result(\"lbfgs\", opt_res, self.max_iter)\n"
     ]
    },
    {
     "name": "stdout",
     "output_type": "stream",
     "text": [
      "[CV]  clf__activation=relu, clf__alpha=0.1, clf__hidden_layer_sizes=(30, 30, 30), clf__learning_rate=invscaling, clf__solver=lbfgs, total=   1.6s\n",
      "[CV] clf__activation=relu, clf__alpha=0.1, clf__hidden_layer_sizes=(20, 20, 20), clf__learning_rate=constant, clf__solver=lbfgs \n"
     ]
    },
    {
     "name": "stderr",
     "output_type": "stream",
     "text": [
      "/root/anaconda3/envs/learn-ml/lib/python3.6/site-packages/sklearn/neural_network/_multilayer_perceptron.py:470: ConvergenceWarning: lbfgs failed to converge (status=1):\n",
      "STOP: TOTAL NO. of ITERATIONS REACHED LIMIT.\n",
      "\n",
      "Increase the number of iterations (max_iter) or scale the data as shown in:\n",
      "    https://scikit-learn.org/stable/modules/preprocessing.html\n",
      "  self.n_iter_ = _check_optimize_result(\"lbfgs\", opt_res, self.max_iter)\n"
     ]
    },
    {
     "name": "stdout",
     "output_type": "stream",
     "text": [
      "[CV]  clf__activation=relu, clf__alpha=0.1, clf__hidden_layer_sizes=(20, 20, 20), clf__learning_rate=constant, clf__solver=lbfgs, total=   1.4s\n",
      "[CV] clf__activation=relu, clf__alpha=0.1, clf__hidden_layer_sizes=(20, 20, 20), clf__learning_rate=constant, clf__solver=lbfgs \n"
     ]
    },
    {
     "name": "stderr",
     "output_type": "stream",
     "text": [
      "/root/anaconda3/envs/learn-ml/lib/python3.6/site-packages/sklearn/neural_network/_multilayer_perceptron.py:470: ConvergenceWarning: lbfgs failed to converge (status=2):\n",
      "ABNORMAL_TERMINATION_IN_LNSRCH.\n",
      "\n",
      "Increase the number of iterations (max_iter) or scale the data as shown in:\n",
      "    https://scikit-learn.org/stable/modules/preprocessing.html\n",
      "  self.n_iter_ = _check_optimize_result(\"lbfgs\", opt_res, self.max_iter)\n"
     ]
    },
    {
     "name": "stdout",
     "output_type": "stream",
     "text": [
      "[CV]  clf__activation=relu, clf__alpha=0.1, clf__hidden_layer_sizes=(20, 20, 20), clf__learning_rate=constant, clf__solver=lbfgs, total=   0.2s\n",
      "[CV] clf__activation=relu, clf__alpha=0.1, clf__hidden_layer_sizes=(20, 20, 20), clf__learning_rate=constant, clf__solver=lbfgs \n"
     ]
    },
    {
     "name": "stderr",
     "output_type": "stream",
     "text": [
      "/root/anaconda3/envs/learn-ml/lib/python3.6/site-packages/sklearn/neural_network/_multilayer_perceptron.py:470: ConvergenceWarning: lbfgs failed to converge (status=1):\n",
      "STOP: TOTAL NO. of ITERATIONS REACHED LIMIT.\n",
      "\n",
      "Increase the number of iterations (max_iter) or scale the data as shown in:\n",
      "    https://scikit-learn.org/stable/modules/preprocessing.html\n",
      "  self.n_iter_ = _check_optimize_result(\"lbfgs\", opt_res, self.max_iter)\n"
     ]
    },
    {
     "name": "stdout",
     "output_type": "stream",
     "text": [
      "[CV]  clf__activation=relu, clf__alpha=0.1, clf__hidden_layer_sizes=(20, 20, 20), clf__learning_rate=constant, clf__solver=lbfgs, total=   1.1s\n",
      "[CV] clf__activation=relu, clf__alpha=0.1, clf__hidden_layer_sizes=(20, 20, 20), clf__learning_rate=invscaling, clf__solver=lbfgs \n"
     ]
    },
    {
     "name": "stderr",
     "output_type": "stream",
     "text": [
      "/root/anaconda3/envs/learn-ml/lib/python3.6/site-packages/sklearn/neural_network/_multilayer_perceptron.py:470: ConvergenceWarning: lbfgs failed to converge (status=1):\n",
      "STOP: TOTAL NO. of ITERATIONS REACHED LIMIT.\n",
      "\n",
      "Increase the number of iterations (max_iter) or scale the data as shown in:\n",
      "    https://scikit-learn.org/stable/modules/preprocessing.html\n",
      "  self.n_iter_ = _check_optimize_result(\"lbfgs\", opt_res, self.max_iter)\n"
     ]
    },
    {
     "name": "stdout",
     "output_type": "stream",
     "text": [
      "[CV]  clf__activation=relu, clf__alpha=0.1, clf__hidden_layer_sizes=(20, 20, 20), clf__learning_rate=invscaling, clf__solver=lbfgs, total=   1.0s\n",
      "[CV] clf__activation=relu, clf__alpha=0.1, clf__hidden_layer_sizes=(20, 20, 20), clf__learning_rate=invscaling, clf__solver=lbfgs \n"
     ]
    },
    {
     "name": "stderr",
     "output_type": "stream",
     "text": [
      "/root/anaconda3/envs/learn-ml/lib/python3.6/site-packages/sklearn/neural_network/_multilayer_perceptron.py:470: ConvergenceWarning: lbfgs failed to converge (status=1):\n",
      "STOP: TOTAL NO. of ITERATIONS REACHED LIMIT.\n",
      "\n",
      "Increase the number of iterations (max_iter) or scale the data as shown in:\n",
      "    https://scikit-learn.org/stable/modules/preprocessing.html\n",
      "  self.n_iter_ = _check_optimize_result(\"lbfgs\", opt_res, self.max_iter)\n"
     ]
    },
    {
     "name": "stdout",
     "output_type": "stream",
     "text": [
      "[CV]  clf__activation=relu, clf__alpha=0.1, clf__hidden_layer_sizes=(20, 20, 20), clf__learning_rate=invscaling, clf__solver=lbfgs, total=   1.0s\n",
      "[CV] clf__activation=relu, clf__alpha=0.1, clf__hidden_layer_sizes=(20, 20, 20), clf__learning_rate=invscaling, clf__solver=lbfgs \n"
     ]
    },
    {
     "name": "stderr",
     "output_type": "stream",
     "text": [
      "/root/anaconda3/envs/learn-ml/lib/python3.6/site-packages/sklearn/neural_network/_multilayer_perceptron.py:470: ConvergenceWarning: lbfgs failed to converge (status=1):\n",
      "STOP: TOTAL NO. of ITERATIONS REACHED LIMIT.\n",
      "\n",
      "Increase the number of iterations (max_iter) or scale the data as shown in:\n",
      "    https://scikit-learn.org/stable/modules/preprocessing.html\n",
      "  self.n_iter_ = _check_optimize_result(\"lbfgs\", opt_res, self.max_iter)\n"
     ]
    },
    {
     "name": "stdout",
     "output_type": "stream",
     "text": [
      "[CV]  clf__activation=relu, clf__alpha=0.1, clf__hidden_layer_sizes=(20, 20, 20), clf__learning_rate=invscaling, clf__solver=lbfgs, total=   1.0s\n",
      "[CV] clf__activation=relu, clf__alpha=0.1, clf__hidden_layer_sizes=(15, 15, 15), clf__learning_rate=constant, clf__solver=lbfgs \n"
     ]
    },
    {
     "name": "stderr",
     "output_type": "stream",
     "text": [
      "/root/anaconda3/envs/learn-ml/lib/python3.6/site-packages/sklearn/neural_network/_multilayer_perceptron.py:470: ConvergenceWarning: lbfgs failed to converge (status=1):\n",
      "STOP: TOTAL NO. of ITERATIONS REACHED LIMIT.\n",
      "\n",
      "Increase the number of iterations (max_iter) or scale the data as shown in:\n",
      "    https://scikit-learn.org/stable/modules/preprocessing.html\n",
      "  self.n_iter_ = _check_optimize_result(\"lbfgs\", opt_res, self.max_iter)\n"
     ]
    },
    {
     "name": "stdout",
     "output_type": "stream",
     "text": [
      "[CV]  clf__activation=relu, clf__alpha=0.1, clf__hidden_layer_sizes=(15, 15, 15), clf__learning_rate=constant, clf__solver=lbfgs, total=   1.1s\n",
      "[CV] clf__activation=relu, clf__alpha=0.1, clf__hidden_layer_sizes=(15, 15, 15), clf__learning_rate=constant, clf__solver=lbfgs \n"
     ]
    },
    {
     "name": "stderr",
     "output_type": "stream",
     "text": [
      "/root/anaconda3/envs/learn-ml/lib/python3.6/site-packages/sklearn/neural_network/_multilayer_perceptron.py:470: ConvergenceWarning: lbfgs failed to converge (status=1):\n",
      "STOP: TOTAL NO. of ITERATIONS REACHED LIMIT.\n",
      "\n",
      "Increase the number of iterations (max_iter) or scale the data as shown in:\n",
      "    https://scikit-learn.org/stable/modules/preprocessing.html\n",
      "  self.n_iter_ = _check_optimize_result(\"lbfgs\", opt_res, self.max_iter)\n"
     ]
    },
    {
     "name": "stdout",
     "output_type": "stream",
     "text": [
      "[CV]  clf__activation=relu, clf__alpha=0.1, clf__hidden_layer_sizes=(15, 15, 15), clf__learning_rate=constant, clf__solver=lbfgs, total=   1.5s\n",
      "[CV] clf__activation=relu, clf__alpha=0.1, clf__hidden_layer_sizes=(15, 15, 15), clf__learning_rate=constant, clf__solver=lbfgs \n"
     ]
    },
    {
     "name": "stderr",
     "output_type": "stream",
     "text": [
      "/root/anaconda3/envs/learn-ml/lib/python3.6/site-packages/sklearn/neural_network/_multilayer_perceptron.py:470: ConvergenceWarning: lbfgs failed to converge (status=1):\n",
      "STOP: TOTAL NO. of ITERATIONS REACHED LIMIT.\n",
      "\n",
      "Increase the number of iterations (max_iter) or scale the data as shown in:\n",
      "    https://scikit-learn.org/stable/modules/preprocessing.html\n",
      "  self.n_iter_ = _check_optimize_result(\"lbfgs\", opt_res, self.max_iter)\n"
     ]
    },
    {
     "name": "stdout",
     "output_type": "stream",
     "text": [
      "[CV]  clf__activation=relu, clf__alpha=0.1, clf__hidden_layer_sizes=(15, 15, 15), clf__learning_rate=constant, clf__solver=lbfgs, total=   1.4s\n",
      "[CV] clf__activation=relu, clf__alpha=0.1, clf__hidden_layer_sizes=(15, 15, 15), clf__learning_rate=invscaling, clf__solver=lbfgs \n"
     ]
    },
    {
     "name": "stderr",
     "output_type": "stream",
     "text": [
      "/root/anaconda3/envs/learn-ml/lib/python3.6/site-packages/sklearn/neural_network/_multilayer_perceptron.py:470: ConvergenceWarning: lbfgs failed to converge (status=1):\n",
      "STOP: TOTAL NO. of ITERATIONS REACHED LIMIT.\n",
      "\n",
      "Increase the number of iterations (max_iter) or scale the data as shown in:\n",
      "    https://scikit-learn.org/stable/modules/preprocessing.html\n",
      "  self.n_iter_ = _check_optimize_result(\"lbfgs\", opt_res, self.max_iter)\n"
     ]
    },
    {
     "name": "stdout",
     "output_type": "stream",
     "text": [
      "[CV]  clf__activation=relu, clf__alpha=0.1, clf__hidden_layer_sizes=(15, 15, 15), clf__learning_rate=invscaling, clf__solver=lbfgs, total=   1.5s\n",
      "[CV] clf__activation=relu, clf__alpha=0.1, clf__hidden_layer_sizes=(15, 15, 15), clf__learning_rate=invscaling, clf__solver=lbfgs \n"
     ]
    },
    {
     "name": "stderr",
     "output_type": "stream",
     "text": [
      "/root/anaconda3/envs/learn-ml/lib/python3.6/site-packages/sklearn/neural_network/_multilayer_perceptron.py:470: ConvergenceWarning: lbfgs failed to converge (status=1):\n",
      "STOP: TOTAL NO. of ITERATIONS REACHED LIMIT.\n",
      "\n",
      "Increase the number of iterations (max_iter) or scale the data as shown in:\n",
      "    https://scikit-learn.org/stable/modules/preprocessing.html\n",
      "  self.n_iter_ = _check_optimize_result(\"lbfgs\", opt_res, self.max_iter)\n",
      "/root/anaconda3/envs/learn-ml/lib/python3.6/site-packages/sklearn/neural_network/_multilayer_perceptron.py:470: ConvergenceWarning: lbfgs failed to converge (status=2):\n",
      "ABNORMAL_TERMINATION_IN_LNSRCH.\n",
      "\n",
      "Increase the number of iterations (max_iter) or scale the data as shown in:\n",
      "    https://scikit-learn.org/stable/modules/preprocessing.html\n",
      "  self.n_iter_ = _check_optimize_result(\"lbfgs\", opt_res, self.max_iter)\n"
     ]
    },
    {
     "name": "stdout",
     "output_type": "stream",
     "text": [
      "[CV]  clf__activation=relu, clf__alpha=0.1, clf__hidden_layer_sizes=(15, 15, 15), clf__learning_rate=invscaling, clf__solver=lbfgs, total=   0.7s\n",
      "[CV] clf__activation=relu, clf__alpha=0.1, clf__hidden_layer_sizes=(15, 15, 15), clf__learning_rate=invscaling, clf__solver=lbfgs \n",
      "[CV]  clf__activation=relu, clf__alpha=0.1, clf__hidden_layer_sizes=(15, 15, 15), clf__learning_rate=invscaling, clf__solver=lbfgs, total=   0.1s\n",
      "[CV] clf__activation=relu, clf__alpha=1, clf__hidden_layer_sizes=5, clf__learning_rate=constant, clf__solver=lbfgs \n"
     ]
    },
    {
     "name": "stderr",
     "output_type": "stream",
     "text": [
      "/root/anaconda3/envs/learn-ml/lib/python3.6/site-packages/sklearn/neural_network/_multilayer_perceptron.py:470: ConvergenceWarning: lbfgs failed to converge (status=1):\n",
      "STOP: TOTAL NO. of ITERATIONS REACHED LIMIT.\n",
      "\n",
      "Increase the number of iterations (max_iter) or scale the data as shown in:\n",
      "    https://scikit-learn.org/stable/modules/preprocessing.html\n",
      "  self.n_iter_ = _check_optimize_result(\"lbfgs\", opt_res, self.max_iter)\n",
      "/root/anaconda3/envs/learn-ml/lib/python3.6/site-packages/sklearn/neural_network/_multilayer_perceptron.py:470: ConvergenceWarning: lbfgs failed to converge (status=1):\n",
      "STOP: TOTAL NO. of ITERATIONS REACHED LIMIT.\n",
      "\n",
      "Increase the number of iterations (max_iter) or scale the data as shown in:\n",
      "    https://scikit-learn.org/stable/modules/preprocessing.html\n",
      "  self.n_iter_ = _check_optimize_result(\"lbfgs\", opt_res, self.max_iter)\n"
     ]
    },
    {
     "name": "stdout",
     "output_type": "stream",
     "text": [
      "[CV]  clf__activation=relu, clf__alpha=1, clf__hidden_layer_sizes=5, clf__learning_rate=constant, clf__solver=lbfgs, total=   0.3s\n",
      "[CV] clf__activation=relu, clf__alpha=1, clf__hidden_layer_sizes=5, clf__learning_rate=constant, clf__solver=lbfgs \n",
      "[CV]  clf__activation=relu, clf__alpha=1, clf__hidden_layer_sizes=5, clf__learning_rate=constant, clf__solver=lbfgs, total=   0.2s\n",
      "[CV] clf__activation=relu, clf__alpha=1, clf__hidden_layer_sizes=5, clf__learning_rate=constant, clf__solver=lbfgs \n"
     ]
    },
    {
     "name": "stderr",
     "output_type": "stream",
     "text": [
      "/root/anaconda3/envs/learn-ml/lib/python3.6/site-packages/sklearn/neural_network/_multilayer_perceptron.py:470: ConvergenceWarning: lbfgs failed to converge (status=1):\n",
      "STOP: TOTAL NO. of ITERATIONS REACHED LIMIT.\n",
      "\n",
      "Increase the number of iterations (max_iter) or scale the data as shown in:\n",
      "    https://scikit-learn.org/stable/modules/preprocessing.html\n",
      "  self.n_iter_ = _check_optimize_result(\"lbfgs\", opt_res, self.max_iter)\n",
      "/root/anaconda3/envs/learn-ml/lib/python3.6/site-packages/sklearn/neural_network/_multilayer_perceptron.py:470: ConvergenceWarning: lbfgs failed to converge (status=1):\n",
      "STOP: TOTAL NO. of ITERATIONS REACHED LIMIT.\n",
      "\n",
      "Increase the number of iterations (max_iter) or scale the data as shown in:\n",
      "    https://scikit-learn.org/stable/modules/preprocessing.html\n",
      "  self.n_iter_ = _check_optimize_result(\"lbfgs\", opt_res, self.max_iter)\n"
     ]
    },
    {
     "name": "stdout",
     "output_type": "stream",
     "text": [
      "[CV]  clf__activation=relu, clf__alpha=1, clf__hidden_layer_sizes=5, clf__learning_rate=constant, clf__solver=lbfgs, total=   0.2s\n",
      "[CV] clf__activation=relu, clf__alpha=1, clf__hidden_layer_sizes=5, clf__learning_rate=invscaling, clf__solver=lbfgs \n",
      "[CV]  clf__activation=relu, clf__alpha=1, clf__hidden_layer_sizes=5, clf__learning_rate=invscaling, clf__solver=lbfgs, total=   0.2s\n",
      "[CV] clf__activation=relu, clf__alpha=1, clf__hidden_layer_sizes=5, clf__learning_rate=invscaling, clf__solver=lbfgs \n",
      "[CV]  clf__activation=relu, clf__alpha=1, clf__hidden_layer_sizes=5, clf__learning_rate=invscaling, clf__solver=lbfgs, total=   0.1s\n",
      "[CV] clf__activation=relu, clf__alpha=1, clf__hidden_layer_sizes=5, clf__learning_rate=invscaling, clf__solver=lbfgs \n",
      "[CV]  clf__activation=relu, clf__alpha=1, clf__hidden_layer_sizes=5, clf__learning_rate=invscaling, clf__solver=lbfgs, total=   0.2s\n",
      "[CV] clf__activation=relu, clf__alpha=1, clf__hidden_layer_sizes=(10, 10), clf__learning_rate=constant, clf__solver=lbfgs \n",
      "[CV]  clf__activation=relu, clf__alpha=1, clf__hidden_layer_sizes=(10, 10), clf__learning_rate=constant, clf__solver=lbfgs, total=   0.3s\n",
      "[CV] clf__activation=relu, clf__alpha=1, clf__hidden_layer_sizes=(10, 10), clf__learning_rate=constant, clf__solver=lbfgs \n"
     ]
    },
    {
     "name": "stderr",
     "output_type": "stream",
     "text": [
      "/root/anaconda3/envs/learn-ml/lib/python3.6/site-packages/sklearn/neural_network/_multilayer_perceptron.py:470: ConvergenceWarning: lbfgs failed to converge (status=1):\n",
      "STOP: TOTAL NO. of ITERATIONS REACHED LIMIT.\n",
      "\n",
      "Increase the number of iterations (max_iter) or scale the data as shown in:\n",
      "    https://scikit-learn.org/stable/modules/preprocessing.html\n",
      "  self.n_iter_ = _check_optimize_result(\"lbfgs\", opt_res, self.max_iter)\n"
     ]
    },
    {
     "name": "stdout",
     "output_type": "stream",
     "text": [
      "[CV]  clf__activation=relu, clf__alpha=1, clf__hidden_layer_sizes=(10, 10), clf__learning_rate=constant, clf__solver=lbfgs, total=   0.4s\n",
      "[CV] clf__activation=relu, clf__alpha=1, clf__hidden_layer_sizes=(10, 10), clf__learning_rate=constant, clf__solver=lbfgs \n"
     ]
    },
    {
     "name": "stderr",
     "output_type": "stream",
     "text": [
      "/root/anaconda3/envs/learn-ml/lib/python3.6/site-packages/sklearn/neural_network/_multilayer_perceptron.py:470: ConvergenceWarning: lbfgs failed to converge (status=1):\n",
      "STOP: TOTAL NO. of ITERATIONS REACHED LIMIT.\n",
      "\n",
      "Increase the number of iterations (max_iter) or scale the data as shown in:\n",
      "    https://scikit-learn.org/stable/modules/preprocessing.html\n",
      "  self.n_iter_ = _check_optimize_result(\"lbfgs\", opt_res, self.max_iter)\n"
     ]
    },
    {
     "name": "stdout",
     "output_type": "stream",
     "text": [
      "[CV]  clf__activation=relu, clf__alpha=1, clf__hidden_layer_sizes=(10, 10), clf__learning_rate=constant, clf__solver=lbfgs, total=   0.5s\n",
      "[CV] clf__activation=relu, clf__alpha=1, clf__hidden_layer_sizes=(10, 10), clf__learning_rate=invscaling, clf__solver=lbfgs \n"
     ]
    },
    {
     "name": "stderr",
     "output_type": "stream",
     "text": [
      "/root/anaconda3/envs/learn-ml/lib/python3.6/site-packages/sklearn/neural_network/_multilayer_perceptron.py:470: ConvergenceWarning: lbfgs failed to converge (status=1):\n",
      "STOP: TOTAL NO. of ITERATIONS REACHED LIMIT.\n",
      "\n",
      "Increase the number of iterations (max_iter) or scale the data as shown in:\n",
      "    https://scikit-learn.org/stable/modules/preprocessing.html\n",
      "  self.n_iter_ = _check_optimize_result(\"lbfgs\", opt_res, self.max_iter)\n"
     ]
    },
    {
     "name": "stdout",
     "output_type": "stream",
     "text": [
      "[CV]  clf__activation=relu, clf__alpha=1, clf__hidden_layer_sizes=(10, 10), clf__learning_rate=invscaling, clf__solver=lbfgs, total=   0.4s\n",
      "[CV] clf__activation=relu, clf__alpha=1, clf__hidden_layer_sizes=(10, 10), clf__learning_rate=invscaling, clf__solver=lbfgs \n",
      "[CV]  clf__activation=relu, clf__alpha=1, clf__hidden_layer_sizes=(10, 10), clf__learning_rate=invscaling, clf__solver=lbfgs, total=   0.0s\n",
      "[CV] clf__activation=relu, clf__alpha=1, clf__hidden_layer_sizes=(10, 10), clf__learning_rate=invscaling, clf__solver=lbfgs \n"
     ]
    },
    {
     "name": "stderr",
     "output_type": "stream",
     "text": [
      "/root/anaconda3/envs/learn-ml/lib/python3.6/site-packages/sklearn/neural_network/_multilayer_perceptron.py:470: ConvergenceWarning: lbfgs failed to converge (status=1):\n",
      "STOP: TOTAL NO. of ITERATIONS REACHED LIMIT.\n",
      "\n",
      "Increase the number of iterations (max_iter) or scale the data as shown in:\n",
      "    https://scikit-learn.org/stable/modules/preprocessing.html\n",
      "  self.n_iter_ = _check_optimize_result(\"lbfgs\", opt_res, self.max_iter)\n"
     ]
    },
    {
     "name": "stdout",
     "output_type": "stream",
     "text": [
      "[CV]  clf__activation=relu, clf__alpha=1, clf__hidden_layer_sizes=(10, 10), clf__learning_rate=invscaling, clf__solver=lbfgs, total=   0.5s\n",
      "[CV] clf__activation=relu, clf__alpha=1, clf__hidden_layer_sizes=(7, 7, 7), clf__learning_rate=constant, clf__solver=lbfgs \n"
     ]
    },
    {
     "name": "stderr",
     "output_type": "stream",
     "text": [
      "/root/anaconda3/envs/learn-ml/lib/python3.6/site-packages/sklearn/neural_network/_multilayer_perceptron.py:470: ConvergenceWarning: lbfgs failed to converge (status=1):\n",
      "STOP: TOTAL NO. of ITERATIONS REACHED LIMIT.\n",
      "\n",
      "Increase the number of iterations (max_iter) or scale the data as shown in:\n",
      "    https://scikit-learn.org/stable/modules/preprocessing.html\n",
      "  self.n_iter_ = _check_optimize_result(\"lbfgs\", opt_res, self.max_iter)\n"
     ]
    },
    {
     "name": "stdout",
     "output_type": "stream",
     "text": [
      "[CV]  clf__activation=relu, clf__alpha=1, clf__hidden_layer_sizes=(7, 7, 7), clf__learning_rate=constant, clf__solver=lbfgs, total=   0.5s\n",
      "[CV] clf__activation=relu, clf__alpha=1, clf__hidden_layer_sizes=(7, 7, 7), clf__learning_rate=constant, clf__solver=lbfgs \n"
     ]
    },
    {
     "name": "stderr",
     "output_type": "stream",
     "text": [
      "/root/anaconda3/envs/learn-ml/lib/python3.6/site-packages/sklearn/neural_network/_multilayer_perceptron.py:470: ConvergenceWarning: lbfgs failed to converge (status=1):\n",
      "STOP: TOTAL NO. of ITERATIONS REACHED LIMIT.\n",
      "\n",
      "Increase the number of iterations (max_iter) or scale the data as shown in:\n",
      "    https://scikit-learn.org/stable/modules/preprocessing.html\n",
      "  self.n_iter_ = _check_optimize_result(\"lbfgs\", opt_res, self.max_iter)\n"
     ]
    },
    {
     "name": "stdout",
     "output_type": "stream",
     "text": [
      "[CV]  clf__activation=relu, clf__alpha=1, clf__hidden_layer_sizes=(7, 7, 7), clf__learning_rate=constant, clf__solver=lbfgs, total=   0.5s\n",
      "[CV] clf__activation=relu, clf__alpha=1, clf__hidden_layer_sizes=(7, 7, 7), clf__learning_rate=constant, clf__solver=lbfgs \n",
      "[CV]  clf__activation=relu, clf__alpha=1, clf__hidden_layer_sizes=(7, 7, 7), clf__learning_rate=constant, clf__solver=lbfgs, total=   0.4s\n",
      "[CV] clf__activation=relu, clf__alpha=1, clf__hidden_layer_sizes=(7, 7, 7), clf__learning_rate=invscaling, clf__solver=lbfgs \n"
     ]
    },
    {
     "name": "stderr",
     "output_type": "stream",
     "text": [
      "/root/anaconda3/envs/learn-ml/lib/python3.6/site-packages/sklearn/neural_network/_multilayer_perceptron.py:470: ConvergenceWarning: lbfgs failed to converge (status=1):\n",
      "STOP: TOTAL NO. of ITERATIONS REACHED LIMIT.\n",
      "\n",
      "Increase the number of iterations (max_iter) or scale the data as shown in:\n",
      "    https://scikit-learn.org/stable/modules/preprocessing.html\n",
      "  self.n_iter_ = _check_optimize_result(\"lbfgs\", opt_res, self.max_iter)\n"
     ]
    },
    {
     "name": "stdout",
     "output_type": "stream",
     "text": [
      "[CV]  clf__activation=relu, clf__alpha=1, clf__hidden_layer_sizes=(7, 7, 7), clf__learning_rate=invscaling, clf__solver=lbfgs, total=   0.7s\n",
      "[CV] clf__activation=relu, clf__alpha=1, clf__hidden_layer_sizes=(7, 7, 7), clf__learning_rate=invscaling, clf__solver=lbfgs \n"
     ]
    },
    {
     "name": "stderr",
     "output_type": "stream",
     "text": [
      "/root/anaconda3/envs/learn-ml/lib/python3.6/site-packages/sklearn/neural_network/_multilayer_perceptron.py:470: ConvergenceWarning: lbfgs failed to converge (status=1):\n",
      "STOP: TOTAL NO. of ITERATIONS REACHED LIMIT.\n",
      "\n",
      "Increase the number of iterations (max_iter) or scale the data as shown in:\n",
      "    https://scikit-learn.org/stable/modules/preprocessing.html\n",
      "  self.n_iter_ = _check_optimize_result(\"lbfgs\", opt_res, self.max_iter)\n"
     ]
    },
    {
     "name": "stdout",
     "output_type": "stream",
     "text": [
      "[CV]  clf__activation=relu, clf__alpha=1, clf__hidden_layer_sizes=(7, 7, 7), clf__learning_rate=invscaling, clf__solver=lbfgs, total=   1.1s\n",
      "[CV] clf__activation=relu, clf__alpha=1, clf__hidden_layer_sizes=(7, 7, 7), clf__learning_rate=invscaling, clf__solver=lbfgs \n"
     ]
    },
    {
     "name": "stderr",
     "output_type": "stream",
     "text": [
      "/root/anaconda3/envs/learn-ml/lib/python3.6/site-packages/sklearn/neural_network/_multilayer_perceptron.py:470: ConvergenceWarning: lbfgs failed to converge (status=1):\n",
      "STOP: TOTAL NO. of ITERATIONS REACHED LIMIT.\n",
      "\n",
      "Increase the number of iterations (max_iter) or scale the data as shown in:\n",
      "    https://scikit-learn.org/stable/modules/preprocessing.html\n",
      "  self.n_iter_ = _check_optimize_result(\"lbfgs\", opt_res, self.max_iter)\n"
     ]
    },
    {
     "name": "stdout",
     "output_type": "stream",
     "text": [
      "[CV]  clf__activation=relu, clf__alpha=1, clf__hidden_layer_sizes=(7, 7, 7), clf__learning_rate=invscaling, clf__solver=lbfgs, total=   1.4s\n",
      "[CV] clf__activation=relu, clf__alpha=1, clf__hidden_layer_sizes=(20, 20, 20, 20), clf__learning_rate=constant, clf__solver=lbfgs \n"
     ]
    },
    {
     "name": "stderr",
     "output_type": "stream",
     "text": [
      "/root/anaconda3/envs/learn-ml/lib/python3.6/site-packages/sklearn/neural_network/_multilayer_perceptron.py:470: ConvergenceWarning: lbfgs failed to converge (status=1):\n",
      "STOP: TOTAL NO. of ITERATIONS REACHED LIMIT.\n",
      "\n",
      "Increase the number of iterations (max_iter) or scale the data as shown in:\n",
      "    https://scikit-learn.org/stable/modules/preprocessing.html\n",
      "  self.n_iter_ = _check_optimize_result(\"lbfgs\", opt_res, self.max_iter)\n"
     ]
    },
    {
     "name": "stdout",
     "output_type": "stream",
     "text": [
      "[CV]  clf__activation=relu, clf__alpha=1, clf__hidden_layer_sizes=(20, 20, 20, 20), clf__learning_rate=constant, clf__solver=lbfgs, total=   1.5s\n",
      "[CV] clf__activation=relu, clf__alpha=1, clf__hidden_layer_sizes=(20, 20, 20, 20), clf__learning_rate=constant, clf__solver=lbfgs \n"
     ]
    },
    {
     "name": "stderr",
     "output_type": "stream",
     "text": [
      "/root/anaconda3/envs/learn-ml/lib/python3.6/site-packages/sklearn/neural_network/_multilayer_perceptron.py:470: ConvergenceWarning: lbfgs failed to converge (status=1):\n",
      "STOP: TOTAL NO. of ITERATIONS REACHED LIMIT.\n",
      "\n",
      "Increase the number of iterations (max_iter) or scale the data as shown in:\n",
      "    https://scikit-learn.org/stable/modules/preprocessing.html\n",
      "  self.n_iter_ = _check_optimize_result(\"lbfgs\", opt_res, self.max_iter)\n"
     ]
    },
    {
     "name": "stdout",
     "output_type": "stream",
     "text": [
      "[CV]  clf__activation=relu, clf__alpha=1, clf__hidden_layer_sizes=(20, 20, 20, 20), clf__learning_rate=constant, clf__solver=lbfgs, total=   1.7s\n",
      "[CV] clf__activation=relu, clf__alpha=1, clf__hidden_layer_sizes=(20, 20, 20, 20), clf__learning_rate=constant, clf__solver=lbfgs \n"
     ]
    },
    {
     "name": "stderr",
     "output_type": "stream",
     "text": [
      "/root/anaconda3/envs/learn-ml/lib/python3.6/site-packages/sklearn/neural_network/_multilayer_perceptron.py:470: ConvergenceWarning: lbfgs failed to converge (status=2):\n",
      "ABNORMAL_TERMINATION_IN_LNSRCH.\n",
      "\n",
      "Increase the number of iterations (max_iter) or scale the data as shown in:\n",
      "    https://scikit-learn.org/stable/modules/preprocessing.html\n",
      "  self.n_iter_ = _check_optimize_result(\"lbfgs\", opt_res, self.max_iter)\n"
     ]
    },
    {
     "name": "stdout",
     "output_type": "stream",
     "text": [
      "[CV]  clf__activation=relu, clf__alpha=1, clf__hidden_layer_sizes=(20, 20, 20, 20), clf__learning_rate=constant, clf__solver=lbfgs, total=   0.4s\n",
      "[CV] clf__activation=relu, clf__alpha=1, clf__hidden_layer_sizes=(20, 20, 20, 20), clf__learning_rate=invscaling, clf__solver=lbfgs \n"
     ]
    },
    {
     "name": "stderr",
     "output_type": "stream",
     "text": [
      "/root/anaconda3/envs/learn-ml/lib/python3.6/site-packages/sklearn/neural_network/_multilayer_perceptron.py:470: ConvergenceWarning: lbfgs failed to converge (status=1):\n",
      "STOP: TOTAL NO. of ITERATIONS REACHED LIMIT.\n",
      "\n",
      "Increase the number of iterations (max_iter) or scale the data as shown in:\n",
      "    https://scikit-learn.org/stable/modules/preprocessing.html\n",
      "  self.n_iter_ = _check_optimize_result(\"lbfgs\", opt_res, self.max_iter)\n"
     ]
    },
    {
     "name": "stdout",
     "output_type": "stream",
     "text": [
      "[CV]  clf__activation=relu, clf__alpha=1, clf__hidden_layer_sizes=(20, 20, 20, 20), clf__learning_rate=invscaling, clf__solver=lbfgs, total=   1.2s\n",
      "[CV] clf__activation=relu, clf__alpha=1, clf__hidden_layer_sizes=(20, 20, 20, 20), clf__learning_rate=invscaling, clf__solver=lbfgs \n",
      "[CV]  clf__activation=relu, clf__alpha=1, clf__hidden_layer_sizes=(20, 20, 20, 20), clf__learning_rate=invscaling, clf__solver=lbfgs, total=   0.1s\n",
      "[CV] clf__activation=relu, clf__alpha=1, clf__hidden_layer_sizes=(20, 20, 20, 20), clf__learning_rate=invscaling, clf__solver=lbfgs \n"
     ]
    },
    {
     "name": "stderr",
     "output_type": "stream",
     "text": [
      "/root/anaconda3/envs/learn-ml/lib/python3.6/site-packages/sklearn/neural_network/_multilayer_perceptron.py:470: ConvergenceWarning: lbfgs failed to converge (status=1):\n",
      "STOP: TOTAL NO. of ITERATIONS REACHED LIMIT.\n",
      "\n",
      "Increase the number of iterations (max_iter) or scale the data as shown in:\n",
      "    https://scikit-learn.org/stable/modules/preprocessing.html\n",
      "  self.n_iter_ = _check_optimize_result(\"lbfgs\", opt_res, self.max_iter)\n",
      "/root/anaconda3/envs/learn-ml/lib/python3.6/site-packages/sklearn/neural_network/_multilayer_perceptron.py:470: ConvergenceWarning: lbfgs failed to converge (status=2):\n",
      "ABNORMAL_TERMINATION_IN_LNSRCH.\n",
      "\n",
      "Increase the number of iterations (max_iter) or scale the data as shown in:\n",
      "    https://scikit-learn.org/stable/modules/preprocessing.html\n",
      "  self.n_iter_ = _check_optimize_result(\"lbfgs\", opt_res, self.max_iter)\n"
     ]
    },
    {
     "name": "stdout",
     "output_type": "stream",
     "text": [
      "[CV]  clf__activation=relu, clf__alpha=1, clf__hidden_layer_sizes=(20, 20, 20, 20), clf__learning_rate=invscaling, clf__solver=lbfgs, total=   1.2s\n",
      "[CV] clf__activation=relu, clf__alpha=1, clf__hidden_layer_sizes=(30, 30, 30), clf__learning_rate=constant, clf__solver=lbfgs \n",
      "[CV]  clf__activation=relu, clf__alpha=1, clf__hidden_layer_sizes=(30, 30, 30), clf__learning_rate=constant, clf__solver=lbfgs, total=   0.2s\n",
      "[CV] clf__activation=relu, clf__alpha=1, clf__hidden_layer_sizes=(30, 30, 30), clf__learning_rate=constant, clf__solver=lbfgs \n"
     ]
    },
    {
     "name": "stderr",
     "output_type": "stream",
     "text": [
      "/root/anaconda3/envs/learn-ml/lib/python3.6/site-packages/sklearn/neural_network/_multilayer_perceptron.py:470: ConvergenceWarning: lbfgs failed to converge (status=1):\n",
      "STOP: TOTAL NO. of ITERATIONS REACHED LIMIT.\n",
      "\n",
      "Increase the number of iterations (max_iter) or scale the data as shown in:\n",
      "    https://scikit-learn.org/stable/modules/preprocessing.html\n",
      "  self.n_iter_ = _check_optimize_result(\"lbfgs\", opt_res, self.max_iter)\n"
     ]
    },
    {
     "name": "stdout",
     "output_type": "stream",
     "text": [
      "[CV]  clf__activation=relu, clf__alpha=1, clf__hidden_layer_sizes=(30, 30, 30), clf__learning_rate=constant, clf__solver=lbfgs, total=   1.7s\n",
      "[CV] clf__activation=relu, clf__alpha=1, clf__hidden_layer_sizes=(30, 30, 30), clf__learning_rate=constant, clf__solver=lbfgs \n"
     ]
    },
    {
     "name": "stderr",
     "output_type": "stream",
     "text": [
      "/root/anaconda3/envs/learn-ml/lib/python3.6/site-packages/sklearn/neural_network/_multilayer_perceptron.py:470: ConvergenceWarning: lbfgs failed to converge (status=2):\n",
      "ABNORMAL_TERMINATION_IN_LNSRCH.\n",
      "\n",
      "Increase the number of iterations (max_iter) or scale the data as shown in:\n",
      "    https://scikit-learn.org/stable/modules/preprocessing.html\n",
      "  self.n_iter_ = _check_optimize_result(\"lbfgs\", opt_res, self.max_iter)\n"
     ]
    },
    {
     "name": "stdout",
     "output_type": "stream",
     "text": [
      "[CV]  clf__activation=relu, clf__alpha=1, clf__hidden_layer_sizes=(30, 30, 30), clf__learning_rate=constant, clf__solver=lbfgs, total=   0.6s\n",
      "[CV] clf__activation=relu, clf__alpha=1, clf__hidden_layer_sizes=(30, 30, 30), clf__learning_rate=invscaling, clf__solver=lbfgs \n"
     ]
    },
    {
     "name": "stderr",
     "output_type": "stream",
     "text": [
      "/root/anaconda3/envs/learn-ml/lib/python3.6/site-packages/sklearn/neural_network/_multilayer_perceptron.py:470: ConvergenceWarning: lbfgs failed to converge (status=1):\n",
      "STOP: TOTAL NO. of ITERATIONS REACHED LIMIT.\n",
      "\n",
      "Increase the number of iterations (max_iter) or scale the data as shown in:\n",
      "    https://scikit-learn.org/stable/modules/preprocessing.html\n",
      "  self.n_iter_ = _check_optimize_result(\"lbfgs\", opt_res, self.max_iter)\n"
     ]
    },
    {
     "name": "stdout",
     "output_type": "stream",
     "text": [
      "[CV]  clf__activation=relu, clf__alpha=1, clf__hidden_layer_sizes=(30, 30, 30), clf__learning_rate=invscaling, clf__solver=lbfgs, total=   1.6s\n",
      "[CV] clf__activation=relu, clf__alpha=1, clf__hidden_layer_sizes=(30, 30, 30), clf__learning_rate=invscaling, clf__solver=lbfgs \n"
     ]
    },
    {
     "name": "stderr",
     "output_type": "stream",
     "text": [
      "/root/anaconda3/envs/learn-ml/lib/python3.6/site-packages/sklearn/neural_network/_multilayer_perceptron.py:470: ConvergenceWarning: lbfgs failed to converge (status=1):\n",
      "STOP: TOTAL NO. of ITERATIONS REACHED LIMIT.\n",
      "\n",
      "Increase the number of iterations (max_iter) or scale the data as shown in:\n",
      "    https://scikit-learn.org/stable/modules/preprocessing.html\n",
      "  self.n_iter_ = _check_optimize_result(\"lbfgs\", opt_res, self.max_iter)\n"
     ]
    },
    {
     "name": "stdout",
     "output_type": "stream",
     "text": [
      "[CV]  clf__activation=relu, clf__alpha=1, clf__hidden_layer_sizes=(30, 30, 30), clf__learning_rate=invscaling, clf__solver=lbfgs, total=   1.9s\n",
      "[CV] clf__activation=relu, clf__alpha=1, clf__hidden_layer_sizes=(30, 30, 30), clf__learning_rate=invscaling, clf__solver=lbfgs \n"
     ]
    },
    {
     "name": "stderr",
     "output_type": "stream",
     "text": [
      "/root/anaconda3/envs/learn-ml/lib/python3.6/site-packages/sklearn/neural_network/_multilayer_perceptron.py:470: ConvergenceWarning: lbfgs failed to converge (status=1):\n",
      "STOP: TOTAL NO. of ITERATIONS REACHED LIMIT.\n",
      "\n",
      "Increase the number of iterations (max_iter) or scale the data as shown in:\n",
      "    https://scikit-learn.org/stable/modules/preprocessing.html\n",
      "  self.n_iter_ = _check_optimize_result(\"lbfgs\", opt_res, self.max_iter)\n"
     ]
    },
    {
     "name": "stdout",
     "output_type": "stream",
     "text": [
      "[CV]  clf__activation=relu, clf__alpha=1, clf__hidden_layer_sizes=(30, 30, 30), clf__learning_rate=invscaling, clf__solver=lbfgs, total=   1.4s\n",
      "[CV] clf__activation=relu, clf__alpha=1, clf__hidden_layer_sizes=(20, 20, 20), clf__learning_rate=constant, clf__solver=lbfgs \n"
     ]
    },
    {
     "name": "stderr",
     "output_type": "stream",
     "text": [
      "/root/anaconda3/envs/learn-ml/lib/python3.6/site-packages/sklearn/neural_network/_multilayer_perceptron.py:470: ConvergenceWarning: lbfgs failed to converge (status=1):\n",
      "STOP: TOTAL NO. of ITERATIONS REACHED LIMIT.\n",
      "\n",
      "Increase the number of iterations (max_iter) or scale the data as shown in:\n",
      "    https://scikit-learn.org/stable/modules/preprocessing.html\n",
      "  self.n_iter_ = _check_optimize_result(\"lbfgs\", opt_res, self.max_iter)\n",
      "/root/anaconda3/envs/learn-ml/lib/python3.6/site-packages/sklearn/neural_network/_multilayer_perceptron.py:470: ConvergenceWarning: lbfgs failed to converge (status=2):\n",
      "ABNORMAL_TERMINATION_IN_LNSRCH.\n",
      "\n",
      "Increase the number of iterations (max_iter) or scale the data as shown in:\n",
      "    https://scikit-learn.org/stable/modules/preprocessing.html\n",
      "  self.n_iter_ = _check_optimize_result(\"lbfgs\", opt_res, self.max_iter)\n"
     ]
    },
    {
     "name": "stdout",
     "output_type": "stream",
     "text": [
      "[CV]  clf__activation=relu, clf__alpha=1, clf__hidden_layer_sizes=(20, 20, 20), clf__learning_rate=constant, clf__solver=lbfgs, total=   1.0s\n",
      "[CV] clf__activation=relu, clf__alpha=1, clf__hidden_layer_sizes=(20, 20, 20), clf__learning_rate=constant, clf__solver=lbfgs \n",
      "[CV]  clf__activation=relu, clf__alpha=1, clf__hidden_layer_sizes=(20, 20, 20), clf__learning_rate=constant, clf__solver=lbfgs, total=   0.1s\n",
      "[CV] clf__activation=relu, clf__alpha=1, clf__hidden_layer_sizes=(20, 20, 20), clf__learning_rate=constant, clf__solver=lbfgs \n"
     ]
    },
    {
     "name": "stderr",
     "output_type": "stream",
     "text": [
      "/root/anaconda3/envs/learn-ml/lib/python3.6/site-packages/sklearn/neural_network/_multilayer_perceptron.py:470: ConvergenceWarning: lbfgs failed to converge (status=1):\n",
      "STOP: TOTAL NO. of ITERATIONS REACHED LIMIT.\n",
      "\n",
      "Increase the number of iterations (max_iter) or scale the data as shown in:\n",
      "    https://scikit-learn.org/stable/modules/preprocessing.html\n",
      "  self.n_iter_ = _check_optimize_result(\"lbfgs\", opt_res, self.max_iter)\n"
     ]
    },
    {
     "name": "stdout",
     "output_type": "stream",
     "text": [
      "[CV]  clf__activation=relu, clf__alpha=1, clf__hidden_layer_sizes=(20, 20, 20), clf__learning_rate=constant, clf__solver=lbfgs, total=   1.0s\n",
      "[CV] clf__activation=relu, clf__alpha=1, clf__hidden_layer_sizes=(20, 20, 20), clf__learning_rate=invscaling, clf__solver=lbfgs \n"
     ]
    },
    {
     "name": "stderr",
     "output_type": "stream",
     "text": [
      "/root/anaconda3/envs/learn-ml/lib/python3.6/site-packages/sklearn/neural_network/_multilayer_perceptron.py:470: ConvergenceWarning: lbfgs failed to converge (status=1):\n",
      "STOP: TOTAL NO. of ITERATIONS REACHED LIMIT.\n",
      "\n",
      "Increase the number of iterations (max_iter) or scale the data as shown in:\n",
      "    https://scikit-learn.org/stable/modules/preprocessing.html\n",
      "  self.n_iter_ = _check_optimize_result(\"lbfgs\", opt_res, self.max_iter)\n",
      "/root/anaconda3/envs/learn-ml/lib/python3.6/site-packages/sklearn/neural_network/_multilayer_perceptron.py:470: ConvergenceWarning: lbfgs failed to converge (status=2):\n",
      "ABNORMAL_TERMINATION_IN_LNSRCH.\n",
      "\n",
      "Increase the number of iterations (max_iter) or scale the data as shown in:\n",
      "    https://scikit-learn.org/stable/modules/preprocessing.html\n",
      "  self.n_iter_ = _check_optimize_result(\"lbfgs\", opt_res, self.max_iter)\n"
     ]
    },
    {
     "name": "stdout",
     "output_type": "stream",
     "text": [
      "[CV]  clf__activation=relu, clf__alpha=1, clf__hidden_layer_sizes=(20, 20, 20), clf__learning_rate=invscaling, clf__solver=lbfgs, total=   1.5s\n",
      "[CV] clf__activation=relu, clf__alpha=1, clf__hidden_layer_sizes=(20, 20, 20), clf__learning_rate=invscaling, clf__solver=lbfgs \n",
      "[CV]  clf__activation=relu, clf__alpha=1, clf__hidden_layer_sizes=(20, 20, 20), clf__learning_rate=invscaling, clf__solver=lbfgs, total=   0.1s\n",
      "[CV] clf__activation=relu, clf__alpha=1, clf__hidden_layer_sizes=(20, 20, 20), clf__learning_rate=invscaling, clf__solver=lbfgs \n"
     ]
    },
    {
     "name": "stderr",
     "output_type": "stream",
     "text": [
      "/root/anaconda3/envs/learn-ml/lib/python3.6/site-packages/sklearn/neural_network/_multilayer_perceptron.py:470: ConvergenceWarning: lbfgs failed to converge (status=1):\n",
      "STOP: TOTAL NO. of ITERATIONS REACHED LIMIT.\n",
      "\n",
      "Increase the number of iterations (max_iter) or scale the data as shown in:\n",
      "    https://scikit-learn.org/stable/modules/preprocessing.html\n",
      "  self.n_iter_ = _check_optimize_result(\"lbfgs\", opt_res, self.max_iter)\n"
     ]
    },
    {
     "name": "stdout",
     "output_type": "stream",
     "text": [
      "[CV]  clf__activation=relu, clf__alpha=1, clf__hidden_layer_sizes=(20, 20, 20), clf__learning_rate=invscaling, clf__solver=lbfgs, total=   0.9s\n",
      "[CV] clf__activation=relu, clf__alpha=1, clf__hidden_layer_sizes=(15, 15, 15), clf__learning_rate=constant, clf__solver=lbfgs \n"
     ]
    },
    {
     "name": "stderr",
     "output_type": "stream",
     "text": [
      "/root/anaconda3/envs/learn-ml/lib/python3.6/site-packages/sklearn/neural_network/_multilayer_perceptron.py:470: ConvergenceWarning: lbfgs failed to converge (status=1):\n",
      "STOP: TOTAL NO. of ITERATIONS REACHED LIMIT.\n",
      "\n",
      "Increase the number of iterations (max_iter) or scale the data as shown in:\n",
      "    https://scikit-learn.org/stable/modules/preprocessing.html\n",
      "  self.n_iter_ = _check_optimize_result(\"lbfgs\", opt_res, self.max_iter)\n"
     ]
    },
    {
     "name": "stdout",
     "output_type": "stream",
     "text": [
      "[CV]  clf__activation=relu, clf__alpha=1, clf__hidden_layer_sizes=(15, 15, 15), clf__learning_rate=constant, clf__solver=lbfgs, total=   1.1s\n",
      "[CV] clf__activation=relu, clf__alpha=1, clf__hidden_layer_sizes=(15, 15, 15), clf__learning_rate=constant, clf__solver=lbfgs \n"
     ]
    },
    {
     "name": "stderr",
     "output_type": "stream",
     "text": [
      "/root/anaconda3/envs/learn-ml/lib/python3.6/site-packages/sklearn/neural_network/_multilayer_perceptron.py:470: ConvergenceWarning: lbfgs failed to converge (status=1):\n",
      "STOP: TOTAL NO. of ITERATIONS REACHED LIMIT.\n",
      "\n",
      "Increase the number of iterations (max_iter) or scale the data as shown in:\n",
      "    https://scikit-learn.org/stable/modules/preprocessing.html\n",
      "  self.n_iter_ = _check_optimize_result(\"lbfgs\", opt_res, self.max_iter)\n"
     ]
    },
    {
     "name": "stdout",
     "output_type": "stream",
     "text": [
      "[CV]  clf__activation=relu, clf__alpha=1, clf__hidden_layer_sizes=(15, 15, 15), clf__learning_rate=constant, clf__solver=lbfgs, total=   1.2s\n",
      "[CV] clf__activation=relu, clf__alpha=1, clf__hidden_layer_sizes=(15, 15, 15), clf__learning_rate=constant, clf__solver=lbfgs \n"
     ]
    },
    {
     "name": "stderr",
     "output_type": "stream",
     "text": [
      "/root/anaconda3/envs/learn-ml/lib/python3.6/site-packages/sklearn/neural_network/_multilayer_perceptron.py:470: ConvergenceWarning: lbfgs failed to converge (status=1):\n",
      "STOP: TOTAL NO. of ITERATIONS REACHED LIMIT.\n",
      "\n",
      "Increase the number of iterations (max_iter) or scale the data as shown in:\n",
      "    https://scikit-learn.org/stable/modules/preprocessing.html\n",
      "  self.n_iter_ = _check_optimize_result(\"lbfgs\", opt_res, self.max_iter)\n"
     ]
    },
    {
     "name": "stdout",
     "output_type": "stream",
     "text": [
      "[CV]  clf__activation=relu, clf__alpha=1, clf__hidden_layer_sizes=(15, 15, 15), clf__learning_rate=constant, clf__solver=lbfgs, total=   1.0s\n",
      "[CV] clf__activation=relu, clf__alpha=1, clf__hidden_layer_sizes=(15, 15, 15), clf__learning_rate=invscaling, clf__solver=lbfgs \n"
     ]
    },
    {
     "name": "stderr",
     "output_type": "stream",
     "text": [
      "/root/anaconda3/envs/learn-ml/lib/python3.6/site-packages/sklearn/neural_network/_multilayer_perceptron.py:470: ConvergenceWarning: lbfgs failed to converge (status=1):\n",
      "STOP: TOTAL NO. of ITERATIONS REACHED LIMIT.\n",
      "\n",
      "Increase the number of iterations (max_iter) or scale the data as shown in:\n",
      "    https://scikit-learn.org/stable/modules/preprocessing.html\n",
      "  self.n_iter_ = _check_optimize_result(\"lbfgs\", opt_res, self.max_iter)\n"
     ]
    },
    {
     "name": "stdout",
     "output_type": "stream",
     "text": [
      "[CV]  clf__activation=relu, clf__alpha=1, clf__hidden_layer_sizes=(15, 15, 15), clf__learning_rate=invscaling, clf__solver=lbfgs, total=   0.8s\n",
      "[CV] clf__activation=relu, clf__alpha=1, clf__hidden_layer_sizes=(15, 15, 15), clf__learning_rate=invscaling, clf__solver=lbfgs \n"
     ]
    },
    {
     "name": "stderr",
     "output_type": "stream",
     "text": [
      "/root/anaconda3/envs/learn-ml/lib/python3.6/site-packages/sklearn/neural_network/_multilayer_perceptron.py:470: ConvergenceWarning: lbfgs failed to converge (status=1):\n",
      "STOP: TOTAL NO. of ITERATIONS REACHED LIMIT.\n",
      "\n",
      "Increase the number of iterations (max_iter) or scale the data as shown in:\n",
      "    https://scikit-learn.org/stable/modules/preprocessing.html\n",
      "  self.n_iter_ = _check_optimize_result(\"lbfgs\", opt_res, self.max_iter)\n"
     ]
    },
    {
     "name": "stdout",
     "output_type": "stream",
     "text": [
      "[CV]  clf__activation=relu, clf__alpha=1, clf__hidden_layer_sizes=(15, 15, 15), clf__learning_rate=invscaling, clf__solver=lbfgs, total=   0.7s\n",
      "[CV] clf__activation=relu, clf__alpha=1, clf__hidden_layer_sizes=(15, 15, 15), clf__learning_rate=invscaling, clf__solver=lbfgs \n"
     ]
    },
    {
     "name": "stderr",
     "output_type": "stream",
     "text": [
      "/root/anaconda3/envs/learn-ml/lib/python3.6/site-packages/sklearn/neural_network/_multilayer_perceptron.py:470: ConvergenceWarning: lbfgs failed to converge (status=1):\n",
      "STOP: TOTAL NO. of ITERATIONS REACHED LIMIT.\n",
      "\n",
      "Increase the number of iterations (max_iter) or scale the data as shown in:\n",
      "    https://scikit-learn.org/stable/modules/preprocessing.html\n",
      "  self.n_iter_ = _check_optimize_result(\"lbfgs\", opt_res, self.max_iter)\n"
     ]
    },
    {
     "name": "stdout",
     "output_type": "stream",
     "text": [
      "[CV]  clf__activation=relu, clf__alpha=1, clf__hidden_layer_sizes=(15, 15, 15), clf__learning_rate=invscaling, clf__solver=lbfgs, total=   0.7s\n",
      "[CV] clf__activation=relu, clf__alpha=10, clf__hidden_layer_sizes=5, clf__learning_rate=constant, clf__solver=lbfgs \n",
      "[CV]  clf__activation=relu, clf__alpha=10, clf__hidden_layer_sizes=5, clf__learning_rate=constant, clf__solver=lbfgs, total=   0.2s\n",
      "[CV] clf__activation=relu, clf__alpha=10, clf__hidden_layer_sizes=5, clf__learning_rate=constant, clf__solver=lbfgs \n",
      "[CV]  clf__activation=relu, clf__alpha=10, clf__hidden_layer_sizes=5, clf__learning_rate=constant, clf__solver=lbfgs, total=   0.2s\n",
      "[CV] clf__activation=relu, clf__alpha=10, clf__hidden_layer_sizes=5, clf__learning_rate=constant, clf__solver=lbfgs \n",
      "[CV]  clf__activation=relu, clf__alpha=10, clf__hidden_layer_sizes=5, clf__learning_rate=constant, clf__solver=lbfgs, total=   0.1s\n",
      "[CV] clf__activation=relu, clf__alpha=10, clf__hidden_layer_sizes=5, clf__learning_rate=invscaling, clf__solver=lbfgs \n"
     ]
    },
    {
     "name": "stderr",
     "output_type": "stream",
     "text": [
      "/root/anaconda3/envs/learn-ml/lib/python3.6/site-packages/sklearn/neural_network/_multilayer_perceptron.py:470: ConvergenceWarning: lbfgs failed to converge (status=1):\n",
      "STOP: TOTAL NO. of ITERATIONS REACHED LIMIT.\n",
      "\n",
      "Increase the number of iterations (max_iter) or scale the data as shown in:\n",
      "    https://scikit-learn.org/stable/modules/preprocessing.html\n",
      "  self.n_iter_ = _check_optimize_result(\"lbfgs\", opt_res, self.max_iter)\n"
     ]
    },
    {
     "name": "stdout",
     "output_type": "stream",
     "text": [
      "[CV]  clf__activation=relu, clf__alpha=10, clf__hidden_layer_sizes=5, clf__learning_rate=invscaling, clf__solver=lbfgs, total=   0.3s\n",
      "[CV] clf__activation=relu, clf__alpha=10, clf__hidden_layer_sizes=5, clf__learning_rate=invscaling, clf__solver=lbfgs \n",
      "[CV]  clf__activation=relu, clf__alpha=10, clf__hidden_layer_sizes=5, clf__learning_rate=invscaling, clf__solver=lbfgs, total=   0.2s\n",
      "[CV] clf__activation=relu, clf__alpha=10, clf__hidden_layer_sizes=5, clf__learning_rate=invscaling, clf__solver=lbfgs \n",
      "[CV]  clf__activation=relu, clf__alpha=10, clf__hidden_layer_sizes=5, clf__learning_rate=invscaling, clf__solver=lbfgs, total=   0.2s\n",
      "[CV] clf__activation=relu, clf__alpha=10, clf__hidden_layer_sizes=(10, 10), clf__learning_rate=constant, clf__solver=lbfgs \n"
     ]
    },
    {
     "name": "stderr",
     "output_type": "stream",
     "text": [
      "/root/anaconda3/envs/learn-ml/lib/python3.6/site-packages/sklearn/neural_network/_multilayer_perceptron.py:470: ConvergenceWarning: lbfgs failed to converge (status=1):\n",
      "STOP: TOTAL NO. of ITERATIONS REACHED LIMIT.\n",
      "\n",
      "Increase the number of iterations (max_iter) or scale the data as shown in:\n",
      "    https://scikit-learn.org/stable/modules/preprocessing.html\n",
      "  self.n_iter_ = _check_optimize_result(\"lbfgs\", opt_res, self.max_iter)\n"
     ]
    },
    {
     "name": "stdout",
     "output_type": "stream",
     "text": [
      "[CV]  clf__activation=relu, clf__alpha=10, clf__hidden_layer_sizes=(10, 10), clf__learning_rate=constant, clf__solver=lbfgs, total=   0.5s\n",
      "[CV] clf__activation=relu, clf__alpha=10, clf__hidden_layer_sizes=(10, 10), clf__learning_rate=constant, clf__solver=lbfgs \n"
     ]
    },
    {
     "name": "stderr",
     "output_type": "stream",
     "text": [
      "/root/anaconda3/envs/learn-ml/lib/python3.6/site-packages/sklearn/neural_network/_multilayer_perceptron.py:470: ConvergenceWarning: lbfgs failed to converge (status=1):\n",
      "STOP: TOTAL NO. of ITERATIONS REACHED LIMIT.\n",
      "\n",
      "Increase the number of iterations (max_iter) or scale the data as shown in:\n",
      "    https://scikit-learn.org/stable/modules/preprocessing.html\n",
      "  self.n_iter_ = _check_optimize_result(\"lbfgs\", opt_res, self.max_iter)\n"
     ]
    },
    {
     "name": "stdout",
     "output_type": "stream",
     "text": [
      "[CV]  clf__activation=relu, clf__alpha=10, clf__hidden_layer_sizes=(10, 10), clf__learning_rate=constant, clf__solver=lbfgs, total=   0.4s\n",
      "[CV] clf__activation=relu, clf__alpha=10, clf__hidden_layer_sizes=(10, 10), clf__learning_rate=constant, clf__solver=lbfgs \n"
     ]
    },
    {
     "name": "stderr",
     "output_type": "stream",
     "text": [
      "/root/anaconda3/envs/learn-ml/lib/python3.6/site-packages/sklearn/neural_network/_multilayer_perceptron.py:470: ConvergenceWarning: lbfgs failed to converge (status=1):\n",
      "STOP: TOTAL NO. of ITERATIONS REACHED LIMIT.\n",
      "\n",
      "Increase the number of iterations (max_iter) or scale the data as shown in:\n",
      "    https://scikit-learn.org/stable/modules/preprocessing.html\n",
      "  self.n_iter_ = _check_optimize_result(\"lbfgs\", opt_res, self.max_iter)\n"
     ]
    },
    {
     "name": "stdout",
     "output_type": "stream",
     "text": [
      "[CV]  clf__activation=relu, clf__alpha=10, clf__hidden_layer_sizes=(10, 10), clf__learning_rate=constant, clf__solver=lbfgs, total=   0.4s\n",
      "[CV] clf__activation=relu, clf__alpha=10, clf__hidden_layer_sizes=(10, 10), clf__learning_rate=invscaling, clf__solver=lbfgs \n"
     ]
    },
    {
     "name": "stderr",
     "output_type": "stream",
     "text": [
      "/root/anaconda3/envs/learn-ml/lib/python3.6/site-packages/sklearn/neural_network/_multilayer_perceptron.py:470: ConvergenceWarning: lbfgs failed to converge (status=1):\n",
      "STOP: TOTAL NO. of ITERATIONS REACHED LIMIT.\n",
      "\n",
      "Increase the number of iterations (max_iter) or scale the data as shown in:\n",
      "    https://scikit-learn.org/stable/modules/preprocessing.html\n",
      "  self.n_iter_ = _check_optimize_result(\"lbfgs\", opt_res, self.max_iter)\n"
     ]
    },
    {
     "name": "stdout",
     "output_type": "stream",
     "text": [
      "[CV]  clf__activation=relu, clf__alpha=10, clf__hidden_layer_sizes=(10, 10), clf__learning_rate=invscaling, clf__solver=lbfgs, total=   0.5s\n",
      "[CV] clf__activation=relu, clf__alpha=10, clf__hidden_layer_sizes=(10, 10), clf__learning_rate=invscaling, clf__solver=lbfgs \n"
     ]
    },
    {
     "name": "stderr",
     "output_type": "stream",
     "text": [
      "/root/anaconda3/envs/learn-ml/lib/python3.6/site-packages/sklearn/neural_network/_multilayer_perceptron.py:470: ConvergenceWarning: lbfgs failed to converge (status=1):\n",
      "STOP: TOTAL NO. of ITERATIONS REACHED LIMIT.\n",
      "\n",
      "Increase the number of iterations (max_iter) or scale the data as shown in:\n",
      "    https://scikit-learn.org/stable/modules/preprocessing.html\n",
      "  self.n_iter_ = _check_optimize_result(\"lbfgs\", opt_res, self.max_iter)\n"
     ]
    },
    {
     "name": "stdout",
     "output_type": "stream",
     "text": [
      "[CV]  clf__activation=relu, clf__alpha=10, clf__hidden_layer_sizes=(10, 10), clf__learning_rate=invscaling, clf__solver=lbfgs, total=   0.5s\n",
      "[CV] clf__activation=relu, clf__alpha=10, clf__hidden_layer_sizes=(10, 10), clf__learning_rate=invscaling, clf__solver=lbfgs \n"
     ]
    },
    {
     "name": "stderr",
     "output_type": "stream",
     "text": [
      "/root/anaconda3/envs/learn-ml/lib/python3.6/site-packages/sklearn/neural_network/_multilayer_perceptron.py:470: ConvergenceWarning: lbfgs failed to converge (status=1):\n",
      "STOP: TOTAL NO. of ITERATIONS REACHED LIMIT.\n",
      "\n",
      "Increase the number of iterations (max_iter) or scale the data as shown in:\n",
      "    https://scikit-learn.org/stable/modules/preprocessing.html\n",
      "  self.n_iter_ = _check_optimize_result(\"lbfgs\", opt_res, self.max_iter)\n"
     ]
    },
    {
     "name": "stdout",
     "output_type": "stream",
     "text": [
      "[CV]  clf__activation=relu, clf__alpha=10, clf__hidden_layer_sizes=(10, 10), clf__learning_rate=invscaling, clf__solver=lbfgs, total=   0.5s\n",
      "[CV] clf__activation=relu, clf__alpha=10, clf__hidden_layer_sizes=(7, 7, 7), clf__learning_rate=constant, clf__solver=lbfgs \n"
     ]
    },
    {
     "name": "stderr",
     "output_type": "stream",
     "text": [
      "/root/anaconda3/envs/learn-ml/lib/python3.6/site-packages/sklearn/neural_network/_multilayer_perceptron.py:470: ConvergenceWarning: lbfgs failed to converge (status=1):\n",
      "STOP: TOTAL NO. of ITERATIONS REACHED LIMIT.\n",
      "\n",
      "Increase the number of iterations (max_iter) or scale the data as shown in:\n",
      "    https://scikit-learn.org/stable/modules/preprocessing.html\n",
      "  self.n_iter_ = _check_optimize_result(\"lbfgs\", opt_res, self.max_iter)\n"
     ]
    },
    {
     "name": "stdout",
     "output_type": "stream",
     "text": [
      "[CV]  clf__activation=relu, clf__alpha=10, clf__hidden_layer_sizes=(7, 7, 7), clf__learning_rate=constant, clf__solver=lbfgs, total=   0.8s\n",
      "[CV] clf__activation=relu, clf__alpha=10, clf__hidden_layer_sizes=(7, 7, 7), clf__learning_rate=constant, clf__solver=lbfgs \n"
     ]
    },
    {
     "name": "stderr",
     "output_type": "stream",
     "text": [
      "/root/anaconda3/envs/learn-ml/lib/python3.6/site-packages/sklearn/neural_network/_multilayer_perceptron.py:470: ConvergenceWarning: lbfgs failed to converge (status=1):\n",
      "STOP: TOTAL NO. of ITERATIONS REACHED LIMIT.\n",
      "\n",
      "Increase the number of iterations (max_iter) or scale the data as shown in:\n",
      "    https://scikit-learn.org/stable/modules/preprocessing.html\n",
      "  self.n_iter_ = _check_optimize_result(\"lbfgs\", opt_res, self.max_iter)\n"
     ]
    },
    {
     "name": "stdout",
     "output_type": "stream",
     "text": [
      "[CV]  clf__activation=relu, clf__alpha=10, clf__hidden_layer_sizes=(7, 7, 7), clf__learning_rate=constant, clf__solver=lbfgs, total=   0.5s\n",
      "[CV] clf__activation=relu, clf__alpha=10, clf__hidden_layer_sizes=(7, 7, 7), clf__learning_rate=constant, clf__solver=lbfgs \n"
     ]
    },
    {
     "name": "stderr",
     "output_type": "stream",
     "text": [
      "/root/anaconda3/envs/learn-ml/lib/python3.6/site-packages/sklearn/neural_network/_multilayer_perceptron.py:470: ConvergenceWarning: lbfgs failed to converge (status=1):\n",
      "STOP: TOTAL NO. of ITERATIONS REACHED LIMIT.\n",
      "\n",
      "Increase the number of iterations (max_iter) or scale the data as shown in:\n",
      "    https://scikit-learn.org/stable/modules/preprocessing.html\n",
      "  self.n_iter_ = _check_optimize_result(\"lbfgs\", opt_res, self.max_iter)\n"
     ]
    },
    {
     "name": "stdout",
     "output_type": "stream",
     "text": [
      "[CV]  clf__activation=relu, clf__alpha=10, clf__hidden_layer_sizes=(7, 7, 7), clf__learning_rate=constant, clf__solver=lbfgs, total=   0.5s\n",
      "[CV] clf__activation=relu, clf__alpha=10, clf__hidden_layer_sizes=(7, 7, 7), clf__learning_rate=invscaling, clf__solver=lbfgs \n"
     ]
    },
    {
     "name": "stderr",
     "output_type": "stream",
     "text": [
      "/root/anaconda3/envs/learn-ml/lib/python3.6/site-packages/sklearn/neural_network/_multilayer_perceptron.py:470: ConvergenceWarning: lbfgs failed to converge (status=1):\n",
      "STOP: TOTAL NO. of ITERATIONS REACHED LIMIT.\n",
      "\n",
      "Increase the number of iterations (max_iter) or scale the data as shown in:\n",
      "    https://scikit-learn.org/stable/modules/preprocessing.html\n",
      "  self.n_iter_ = _check_optimize_result(\"lbfgs\", opt_res, self.max_iter)\n"
     ]
    },
    {
     "name": "stdout",
     "output_type": "stream",
     "text": [
      "[CV]  clf__activation=relu, clf__alpha=10, clf__hidden_layer_sizes=(7, 7, 7), clf__learning_rate=invscaling, clf__solver=lbfgs, total=   0.6s\n",
      "[CV] clf__activation=relu, clf__alpha=10, clf__hidden_layer_sizes=(7, 7, 7), clf__learning_rate=invscaling, clf__solver=lbfgs \n",
      "[CV]  clf__activation=relu, clf__alpha=10, clf__hidden_layer_sizes=(7, 7, 7), clf__learning_rate=invscaling, clf__solver=lbfgs, total=   0.5s\n",
      "[CV] clf__activation=relu, clf__alpha=10, clf__hidden_layer_sizes=(7, 7, 7), clf__learning_rate=invscaling, clf__solver=lbfgs \n"
     ]
    },
    {
     "name": "stderr",
     "output_type": "stream",
     "text": [
      "/root/anaconda3/envs/learn-ml/lib/python3.6/site-packages/sklearn/neural_network/_multilayer_perceptron.py:470: ConvergenceWarning: lbfgs failed to converge (status=1):\n",
      "STOP: TOTAL NO. of ITERATIONS REACHED LIMIT.\n",
      "\n",
      "Increase the number of iterations (max_iter) or scale the data as shown in:\n",
      "    https://scikit-learn.org/stable/modules/preprocessing.html\n",
      "  self.n_iter_ = _check_optimize_result(\"lbfgs\", opt_res, self.max_iter)\n"
     ]
    },
    {
     "name": "stdout",
     "output_type": "stream",
     "text": [
      "[CV]  clf__activation=relu, clf__alpha=10, clf__hidden_layer_sizes=(7, 7, 7), clf__learning_rate=invscaling, clf__solver=lbfgs, total=   0.6s\n",
      "[CV] clf__activation=relu, clf__alpha=10, clf__hidden_layer_sizes=(20, 20, 20, 20), clf__learning_rate=constant, clf__solver=lbfgs \n"
     ]
    },
    {
     "name": "stderr",
     "output_type": "stream",
     "text": [
      "/root/anaconda3/envs/learn-ml/lib/python3.6/site-packages/sklearn/neural_network/_multilayer_perceptron.py:470: ConvergenceWarning: lbfgs failed to converge (status=1):\n",
      "STOP: TOTAL NO. of ITERATIONS REACHED LIMIT.\n",
      "\n",
      "Increase the number of iterations (max_iter) or scale the data as shown in:\n",
      "    https://scikit-learn.org/stable/modules/preprocessing.html\n",
      "  self.n_iter_ = _check_optimize_result(\"lbfgs\", opt_res, self.max_iter)\n"
     ]
    },
    {
     "name": "stdout",
     "output_type": "stream",
     "text": [
      "[CV]  clf__activation=relu, clf__alpha=10, clf__hidden_layer_sizes=(20, 20, 20, 20), clf__learning_rate=constant, clf__solver=lbfgs, total=   1.2s\n",
      "[CV] clf__activation=relu, clf__alpha=10, clf__hidden_layer_sizes=(20, 20, 20, 20), clf__learning_rate=constant, clf__solver=lbfgs \n"
     ]
    },
    {
     "name": "stderr",
     "output_type": "stream",
     "text": [
      "/root/anaconda3/envs/learn-ml/lib/python3.6/site-packages/sklearn/neural_network/_multilayer_perceptron.py:470: ConvergenceWarning: lbfgs failed to converge (status=1):\n",
      "STOP: TOTAL NO. of ITERATIONS REACHED LIMIT.\n",
      "\n",
      "Increase the number of iterations (max_iter) or scale the data as shown in:\n",
      "    https://scikit-learn.org/stable/modules/preprocessing.html\n",
      "  self.n_iter_ = _check_optimize_result(\"lbfgs\", opt_res, self.max_iter)\n"
     ]
    },
    {
     "name": "stdout",
     "output_type": "stream",
     "text": [
      "[CV]  clf__activation=relu, clf__alpha=10, clf__hidden_layer_sizes=(20, 20, 20, 20), clf__learning_rate=constant, clf__solver=lbfgs, total=   1.3s\n",
      "[CV] clf__activation=relu, clf__alpha=10, clf__hidden_layer_sizes=(20, 20, 20, 20), clf__learning_rate=constant, clf__solver=lbfgs \n"
     ]
    },
    {
     "name": "stderr",
     "output_type": "stream",
     "text": [
      "/root/anaconda3/envs/learn-ml/lib/python3.6/site-packages/sklearn/neural_network/_multilayer_perceptron.py:470: ConvergenceWarning: lbfgs failed to converge (status=1):\n",
      "STOP: TOTAL NO. of ITERATIONS REACHED LIMIT.\n",
      "\n",
      "Increase the number of iterations (max_iter) or scale the data as shown in:\n",
      "    https://scikit-learn.org/stable/modules/preprocessing.html\n",
      "  self.n_iter_ = _check_optimize_result(\"lbfgs\", opt_res, self.max_iter)\n",
      "/root/anaconda3/envs/learn-ml/lib/python3.6/site-packages/sklearn/neural_network/_multilayer_perceptron.py:470: ConvergenceWarning: lbfgs failed to converge (status=2):\n",
      "ABNORMAL_TERMINATION_IN_LNSRCH.\n",
      "\n",
      "Increase the number of iterations (max_iter) or scale the data as shown in:\n",
      "    https://scikit-learn.org/stable/modules/preprocessing.html\n",
      "  self.n_iter_ = _check_optimize_result(\"lbfgs\", opt_res, self.max_iter)\n"
     ]
    },
    {
     "name": "stdout",
     "output_type": "stream",
     "text": [
      "[CV]  clf__activation=relu, clf__alpha=10, clf__hidden_layer_sizes=(20, 20, 20, 20), clf__learning_rate=constant, clf__solver=lbfgs, total=   1.3s\n",
      "[CV] clf__activation=relu, clf__alpha=10, clf__hidden_layer_sizes=(20, 20, 20, 20), clf__learning_rate=invscaling, clf__solver=lbfgs \n",
      "[CV]  clf__activation=relu, clf__alpha=10, clf__hidden_layer_sizes=(20, 20, 20, 20), clf__learning_rate=invscaling, clf__solver=lbfgs, total=   0.1s\n",
      "[CV] clf__activation=relu, clf__alpha=10, clf__hidden_layer_sizes=(20, 20, 20, 20), clf__learning_rate=invscaling, clf__solver=lbfgs \n"
     ]
    },
    {
     "name": "stderr",
     "output_type": "stream",
     "text": [
      "/root/anaconda3/envs/learn-ml/lib/python3.6/site-packages/sklearn/neural_network/_multilayer_perceptron.py:470: ConvergenceWarning: lbfgs failed to converge (status=1):\n",
      "STOP: TOTAL NO. of ITERATIONS REACHED LIMIT.\n",
      "\n",
      "Increase the number of iterations (max_iter) or scale the data as shown in:\n",
      "    https://scikit-learn.org/stable/modules/preprocessing.html\n",
      "  self.n_iter_ = _check_optimize_result(\"lbfgs\", opt_res, self.max_iter)\n",
      "/root/anaconda3/envs/learn-ml/lib/python3.6/site-packages/sklearn/neural_network/_multilayer_perceptron.py:470: ConvergenceWarning: lbfgs failed to converge (status=2):\n",
      "ABNORMAL_TERMINATION_IN_LNSRCH.\n",
      "\n",
      "Increase the number of iterations (max_iter) or scale the data as shown in:\n",
      "    https://scikit-learn.org/stable/modules/preprocessing.html\n",
      "  self.n_iter_ = _check_optimize_result(\"lbfgs\", opt_res, self.max_iter)\n"
     ]
    },
    {
     "name": "stdout",
     "output_type": "stream",
     "text": [
      "[CV]  clf__activation=relu, clf__alpha=10, clf__hidden_layer_sizes=(20, 20, 20, 20), clf__learning_rate=invscaling, clf__solver=lbfgs, total=   1.3s\n",
      "[CV] clf__activation=relu, clf__alpha=10, clf__hidden_layer_sizes=(20, 20, 20, 20), clf__learning_rate=invscaling, clf__solver=lbfgs \n",
      "[CV]  clf__activation=relu, clf__alpha=10, clf__hidden_layer_sizes=(20, 20, 20, 20), clf__learning_rate=invscaling, clf__solver=lbfgs, total=   0.2s\n",
      "[CV] clf__activation=relu, clf__alpha=10, clf__hidden_layer_sizes=(30, 30, 30), clf__learning_rate=constant, clf__solver=lbfgs \n"
     ]
    },
    {
     "name": "stderr",
     "output_type": "stream",
     "text": [
      "/root/anaconda3/envs/learn-ml/lib/python3.6/site-packages/sklearn/neural_network/_multilayer_perceptron.py:470: ConvergenceWarning: lbfgs failed to converge (status=1):\n",
      "STOP: TOTAL NO. of ITERATIONS REACHED LIMIT.\n",
      "\n",
      "Increase the number of iterations (max_iter) or scale the data as shown in:\n",
      "    https://scikit-learn.org/stable/modules/preprocessing.html\n",
      "  self.n_iter_ = _check_optimize_result(\"lbfgs\", opt_res, self.max_iter)\n"
     ]
    },
    {
     "name": "stdout",
     "output_type": "stream",
     "text": [
      "[CV]  clf__activation=relu, clf__alpha=10, clf__hidden_layer_sizes=(30, 30, 30), clf__learning_rate=constant, clf__solver=lbfgs, total=   1.6s\n",
      "[CV] clf__activation=relu, clf__alpha=10, clf__hidden_layer_sizes=(30, 30, 30), clf__learning_rate=constant, clf__solver=lbfgs \n"
     ]
    },
    {
     "name": "stderr",
     "output_type": "stream",
     "text": [
      "/root/anaconda3/envs/learn-ml/lib/python3.6/site-packages/sklearn/neural_network/_multilayer_perceptron.py:470: ConvergenceWarning: lbfgs failed to converge (status=1):\n",
      "STOP: TOTAL NO. of ITERATIONS REACHED LIMIT.\n",
      "\n",
      "Increase the number of iterations (max_iter) or scale the data as shown in:\n",
      "    https://scikit-learn.org/stable/modules/preprocessing.html\n",
      "  self.n_iter_ = _check_optimize_result(\"lbfgs\", opt_res, self.max_iter)\n"
     ]
    },
    {
     "name": "stdout",
     "output_type": "stream",
     "text": [
      "[CV]  clf__activation=relu, clf__alpha=10, clf__hidden_layer_sizes=(30, 30, 30), clf__learning_rate=constant, clf__solver=lbfgs, total=   1.4s\n",
      "[CV] clf__activation=relu, clf__alpha=10, clf__hidden_layer_sizes=(30, 30, 30), clf__learning_rate=constant, clf__solver=lbfgs \n"
     ]
    },
    {
     "name": "stderr",
     "output_type": "stream",
     "text": [
      "/root/anaconda3/envs/learn-ml/lib/python3.6/site-packages/sklearn/neural_network/_multilayer_perceptron.py:470: ConvergenceWarning: lbfgs failed to converge (status=1):\n",
      "STOP: TOTAL NO. of ITERATIONS REACHED LIMIT.\n",
      "\n",
      "Increase the number of iterations (max_iter) or scale the data as shown in:\n",
      "    https://scikit-learn.org/stable/modules/preprocessing.html\n",
      "  self.n_iter_ = _check_optimize_result(\"lbfgs\", opt_res, self.max_iter)\n"
     ]
    },
    {
     "name": "stdout",
     "output_type": "stream",
     "text": [
      "[CV]  clf__activation=relu, clf__alpha=10, clf__hidden_layer_sizes=(30, 30, 30), clf__learning_rate=constant, clf__solver=lbfgs, total=   1.5s\n",
      "[CV] clf__activation=relu, clf__alpha=10, clf__hidden_layer_sizes=(30, 30, 30), clf__learning_rate=invscaling, clf__solver=lbfgs \n"
     ]
    },
    {
     "name": "stderr",
     "output_type": "stream",
     "text": [
      "/root/anaconda3/envs/learn-ml/lib/python3.6/site-packages/sklearn/neural_network/_multilayer_perceptron.py:470: ConvergenceWarning: lbfgs failed to converge (status=1):\n",
      "STOP: TOTAL NO. of ITERATIONS REACHED LIMIT.\n",
      "\n",
      "Increase the number of iterations (max_iter) or scale the data as shown in:\n",
      "    https://scikit-learn.org/stable/modules/preprocessing.html\n",
      "  self.n_iter_ = _check_optimize_result(\"lbfgs\", opt_res, self.max_iter)\n",
      "/root/anaconda3/envs/learn-ml/lib/python3.6/site-packages/sklearn/neural_network/_multilayer_perceptron.py:470: ConvergenceWarning: lbfgs failed to converge (status=2):\n",
      "ABNORMAL_TERMINATION_IN_LNSRCH.\n",
      "\n",
      "Increase the number of iterations (max_iter) or scale the data as shown in:\n",
      "    https://scikit-learn.org/stable/modules/preprocessing.html\n",
      "  self.n_iter_ = _check_optimize_result(\"lbfgs\", opt_res, self.max_iter)\n"
     ]
    },
    {
     "name": "stdout",
     "output_type": "stream",
     "text": [
      "[CV]  clf__activation=relu, clf__alpha=10, clf__hidden_layer_sizes=(30, 30, 30), clf__learning_rate=invscaling, clf__solver=lbfgs, total=   1.6s\n",
      "[CV] clf__activation=relu, clf__alpha=10, clf__hidden_layer_sizes=(30, 30, 30), clf__learning_rate=invscaling, clf__solver=lbfgs \n",
      "[CV]  clf__activation=relu, clf__alpha=10, clf__hidden_layer_sizes=(30, 30, 30), clf__learning_rate=invscaling, clf__solver=lbfgs, total=   0.2s\n",
      "[CV] clf__activation=relu, clf__alpha=10, clf__hidden_layer_sizes=(30, 30, 30), clf__learning_rate=invscaling, clf__solver=lbfgs \n"
     ]
    },
    {
     "name": "stderr",
     "output_type": "stream",
     "text": [
      "/root/anaconda3/envs/learn-ml/lib/python3.6/site-packages/sklearn/neural_network/_multilayer_perceptron.py:470: ConvergenceWarning: lbfgs failed to converge (status=1):\n",
      "STOP: TOTAL NO. of ITERATIONS REACHED LIMIT.\n",
      "\n",
      "Increase the number of iterations (max_iter) or scale the data as shown in:\n",
      "    https://scikit-learn.org/stable/modules/preprocessing.html\n",
      "  self.n_iter_ = _check_optimize_result(\"lbfgs\", opt_res, self.max_iter)\n"
     ]
    },
    {
     "name": "stdout",
     "output_type": "stream",
     "text": [
      "[CV]  clf__activation=relu, clf__alpha=10, clf__hidden_layer_sizes=(30, 30, 30), clf__learning_rate=invscaling, clf__solver=lbfgs, total=   1.7s\n",
      "[CV] clf__activation=relu, clf__alpha=10, clf__hidden_layer_sizes=(20, 20, 20), clf__learning_rate=constant, clf__solver=lbfgs \n"
     ]
    },
    {
     "name": "stderr",
     "output_type": "stream",
     "text": [
      "/root/anaconda3/envs/learn-ml/lib/python3.6/site-packages/sklearn/neural_network/_multilayer_perceptron.py:470: ConvergenceWarning: lbfgs failed to converge (status=1):\n",
      "STOP: TOTAL NO. of ITERATIONS REACHED LIMIT.\n",
      "\n",
      "Increase the number of iterations (max_iter) or scale the data as shown in:\n",
      "    https://scikit-learn.org/stable/modules/preprocessing.html\n",
      "  self.n_iter_ = _check_optimize_result(\"lbfgs\", opt_res, self.max_iter)\n"
     ]
    },
    {
     "name": "stdout",
     "output_type": "stream",
     "text": [
      "[CV]  clf__activation=relu, clf__alpha=10, clf__hidden_layer_sizes=(20, 20, 20), clf__learning_rate=constant, clf__solver=lbfgs, total=   1.0s\n",
      "[CV] clf__activation=relu, clf__alpha=10, clf__hidden_layer_sizes=(20, 20, 20), clf__learning_rate=constant, clf__solver=lbfgs \n"
     ]
    },
    {
     "name": "stderr",
     "output_type": "stream",
     "text": [
      "/root/anaconda3/envs/learn-ml/lib/python3.6/site-packages/sklearn/neural_network/_multilayer_perceptron.py:470: ConvergenceWarning: lbfgs failed to converge (status=1):\n",
      "STOP: TOTAL NO. of ITERATIONS REACHED LIMIT.\n",
      "\n",
      "Increase the number of iterations (max_iter) or scale the data as shown in:\n",
      "    https://scikit-learn.org/stable/modules/preprocessing.html\n",
      "  self.n_iter_ = _check_optimize_result(\"lbfgs\", opt_res, self.max_iter)\n"
     ]
    },
    {
     "name": "stdout",
     "output_type": "stream",
     "text": [
      "[CV]  clf__activation=relu, clf__alpha=10, clf__hidden_layer_sizes=(20, 20, 20), clf__learning_rate=constant, clf__solver=lbfgs, total=   0.9s\n",
      "[CV] clf__activation=relu, clf__alpha=10, clf__hidden_layer_sizes=(20, 20, 20), clf__learning_rate=constant, clf__solver=lbfgs \n"
     ]
    },
    {
     "name": "stderr",
     "output_type": "stream",
     "text": [
      "/root/anaconda3/envs/learn-ml/lib/python3.6/site-packages/sklearn/neural_network/_multilayer_perceptron.py:470: ConvergenceWarning: lbfgs failed to converge (status=1):\n",
      "STOP: TOTAL NO. of ITERATIONS REACHED LIMIT.\n",
      "\n",
      "Increase the number of iterations (max_iter) or scale the data as shown in:\n",
      "    https://scikit-learn.org/stable/modules/preprocessing.html\n",
      "  self.n_iter_ = _check_optimize_result(\"lbfgs\", opt_res, self.max_iter)\n",
      "/root/anaconda3/envs/learn-ml/lib/python3.6/site-packages/sklearn/neural_network/_multilayer_perceptron.py:470: ConvergenceWarning: lbfgs failed to converge (status=2):\n",
      "ABNORMAL_TERMINATION_IN_LNSRCH.\n",
      "\n",
      "Increase the number of iterations (max_iter) or scale the data as shown in:\n",
      "    https://scikit-learn.org/stable/modules/preprocessing.html\n",
      "  self.n_iter_ = _check_optimize_result(\"lbfgs\", opt_res, self.max_iter)\n"
     ]
    },
    {
     "name": "stdout",
     "output_type": "stream",
     "text": [
      "[CV]  clf__activation=relu, clf__alpha=10, clf__hidden_layer_sizes=(20, 20, 20), clf__learning_rate=constant, clf__solver=lbfgs, total=   1.0s\n",
      "[CV] clf__activation=relu, clf__alpha=10, clf__hidden_layer_sizes=(20, 20, 20), clf__learning_rate=invscaling, clf__solver=lbfgs \n",
      "[CV]  clf__activation=relu, clf__alpha=10, clf__hidden_layer_sizes=(20, 20, 20), clf__learning_rate=invscaling, clf__solver=lbfgs, total=   0.2s\n",
      "[CV] clf__activation=relu, clf__alpha=10, clf__hidden_layer_sizes=(20, 20, 20), clf__learning_rate=invscaling, clf__solver=lbfgs \n"
     ]
    },
    {
     "name": "stderr",
     "output_type": "stream",
     "text": [
      "/root/anaconda3/envs/learn-ml/lib/python3.6/site-packages/sklearn/neural_network/_multilayer_perceptron.py:470: ConvergenceWarning: lbfgs failed to converge (status=1):\n",
      "STOP: TOTAL NO. of ITERATIONS REACHED LIMIT.\n",
      "\n",
      "Increase the number of iterations (max_iter) or scale the data as shown in:\n",
      "    https://scikit-learn.org/stable/modules/preprocessing.html\n",
      "  self.n_iter_ = _check_optimize_result(\"lbfgs\", opt_res, self.max_iter)\n"
     ]
    },
    {
     "name": "stdout",
     "output_type": "stream",
     "text": [
      "[CV]  clf__activation=relu, clf__alpha=10, clf__hidden_layer_sizes=(20, 20, 20), clf__learning_rate=invscaling, clf__solver=lbfgs, total=   1.0s\n",
      "[CV] clf__activation=relu, clf__alpha=10, clf__hidden_layer_sizes=(20, 20, 20), clf__learning_rate=invscaling, clf__solver=lbfgs \n"
     ]
    },
    {
     "name": "stderr",
     "output_type": "stream",
     "text": [
      "/root/anaconda3/envs/learn-ml/lib/python3.6/site-packages/sklearn/neural_network/_multilayer_perceptron.py:470: ConvergenceWarning: lbfgs failed to converge (status=1):\n",
      "STOP: TOTAL NO. of ITERATIONS REACHED LIMIT.\n",
      "\n",
      "Increase the number of iterations (max_iter) or scale the data as shown in:\n",
      "    https://scikit-learn.org/stable/modules/preprocessing.html\n",
      "  self.n_iter_ = _check_optimize_result(\"lbfgs\", opt_res, self.max_iter)\n",
      "/root/anaconda3/envs/learn-ml/lib/python3.6/site-packages/sklearn/neural_network/_multilayer_perceptron.py:470: ConvergenceWarning: lbfgs failed to converge (status=2):\n",
      "ABNORMAL_TERMINATION_IN_LNSRCH.\n",
      "\n",
      "Increase the number of iterations (max_iter) or scale the data as shown in:\n",
      "    https://scikit-learn.org/stable/modules/preprocessing.html\n",
      "  self.n_iter_ = _check_optimize_result(\"lbfgs\", opt_res, self.max_iter)\n"
     ]
    },
    {
     "name": "stdout",
     "output_type": "stream",
     "text": [
      "[CV]  clf__activation=relu, clf__alpha=10, clf__hidden_layer_sizes=(20, 20, 20), clf__learning_rate=invscaling, clf__solver=lbfgs, total=   0.9s\n",
      "[CV] clf__activation=relu, clf__alpha=10, clf__hidden_layer_sizes=(15, 15, 15), clf__learning_rate=constant, clf__solver=lbfgs \n",
      "[CV]  clf__activation=relu, clf__alpha=10, clf__hidden_layer_sizes=(15, 15, 15), clf__learning_rate=constant, clf__solver=lbfgs, total=   0.1s\n",
      "[CV] clf__activation=relu, clf__alpha=10, clf__hidden_layer_sizes=(15, 15, 15), clf__learning_rate=constant, clf__solver=lbfgs \n"
     ]
    },
    {
     "name": "stderr",
     "output_type": "stream",
     "text": [
      "/root/anaconda3/envs/learn-ml/lib/python3.6/site-packages/sklearn/neural_network/_multilayer_perceptron.py:470: ConvergenceWarning: lbfgs failed to converge (status=1):\n",
      "STOP: TOTAL NO. of ITERATIONS REACHED LIMIT.\n",
      "\n",
      "Increase the number of iterations (max_iter) or scale the data as shown in:\n",
      "    https://scikit-learn.org/stable/modules/preprocessing.html\n",
      "  self.n_iter_ = _check_optimize_result(\"lbfgs\", opt_res, self.max_iter)\n",
      "/root/anaconda3/envs/learn-ml/lib/python3.6/site-packages/sklearn/neural_network/_multilayer_perceptron.py:470: ConvergenceWarning: lbfgs failed to converge (status=2):\n",
      "ABNORMAL_TERMINATION_IN_LNSRCH.\n",
      "\n",
      "Increase the number of iterations (max_iter) or scale the data as shown in:\n",
      "    https://scikit-learn.org/stable/modules/preprocessing.html\n",
      "  self.n_iter_ = _check_optimize_result(\"lbfgs\", opt_res, self.max_iter)\n"
     ]
    },
    {
     "name": "stdout",
     "output_type": "stream",
     "text": [
      "[CV]  clf__activation=relu, clf__alpha=10, clf__hidden_layer_sizes=(15, 15, 15), clf__learning_rate=constant, clf__solver=lbfgs, total=   0.8s\n",
      "[CV] clf__activation=relu, clf__alpha=10, clf__hidden_layer_sizes=(15, 15, 15), clf__learning_rate=constant, clf__solver=lbfgs \n",
      "[CV]  clf__activation=relu, clf__alpha=10, clf__hidden_layer_sizes=(15, 15, 15), clf__learning_rate=constant, clf__solver=lbfgs, total=   0.1s\n",
      "[CV] clf__activation=relu, clf__alpha=10, clf__hidden_layer_sizes=(15, 15, 15), clf__learning_rate=invscaling, clf__solver=lbfgs \n"
     ]
    },
    {
     "name": "stderr",
     "output_type": "stream",
     "text": [
      "/root/anaconda3/envs/learn-ml/lib/python3.6/site-packages/sklearn/neural_network/_multilayer_perceptron.py:470: ConvergenceWarning: lbfgs failed to converge (status=1):\n",
      "STOP: TOTAL NO. of ITERATIONS REACHED LIMIT.\n",
      "\n",
      "Increase the number of iterations (max_iter) or scale the data as shown in:\n",
      "    https://scikit-learn.org/stable/modules/preprocessing.html\n",
      "  self.n_iter_ = _check_optimize_result(\"lbfgs\", opt_res, self.max_iter)\n"
     ]
    },
    {
     "name": "stdout",
     "output_type": "stream",
     "text": [
      "[CV]  clf__activation=relu, clf__alpha=10, clf__hidden_layer_sizes=(15, 15, 15), clf__learning_rate=invscaling, clf__solver=lbfgs, total=   0.9s\n",
      "[CV] clf__activation=relu, clf__alpha=10, clf__hidden_layer_sizes=(15, 15, 15), clf__learning_rate=invscaling, clf__solver=lbfgs \n"
     ]
    },
    {
     "name": "stderr",
     "output_type": "stream",
     "text": [
      "/root/anaconda3/envs/learn-ml/lib/python3.6/site-packages/sklearn/neural_network/_multilayer_perceptron.py:470: ConvergenceWarning: lbfgs failed to converge (status=1):\n",
      "STOP: TOTAL NO. of ITERATIONS REACHED LIMIT.\n",
      "\n",
      "Increase the number of iterations (max_iter) or scale the data as shown in:\n",
      "    https://scikit-learn.org/stable/modules/preprocessing.html\n",
      "  self.n_iter_ = _check_optimize_result(\"lbfgs\", opt_res, self.max_iter)\n"
     ]
    },
    {
     "name": "stdout",
     "output_type": "stream",
     "text": [
      "[CV]  clf__activation=relu, clf__alpha=10, clf__hidden_layer_sizes=(15, 15, 15), clf__learning_rate=invscaling, clf__solver=lbfgs, total=   0.9s\n",
      "[CV] clf__activation=relu, clf__alpha=10, clf__hidden_layer_sizes=(15, 15, 15), clf__learning_rate=invscaling, clf__solver=lbfgs \n"
     ]
    },
    {
     "name": "stderr",
     "output_type": "stream",
     "text": [
      "/root/anaconda3/envs/learn-ml/lib/python3.6/site-packages/sklearn/neural_network/_multilayer_perceptron.py:470: ConvergenceWarning: lbfgs failed to converge (status=1):\n",
      "STOP: TOTAL NO. of ITERATIONS REACHED LIMIT.\n",
      "\n",
      "Increase the number of iterations (max_iter) or scale the data as shown in:\n",
      "    https://scikit-learn.org/stable/modules/preprocessing.html\n",
      "  self.n_iter_ = _check_optimize_result(\"lbfgs\", opt_res, self.max_iter)\n",
      "/root/anaconda3/envs/learn-ml/lib/python3.6/site-packages/sklearn/neural_network/_multilayer_perceptron.py:470: ConvergenceWarning: lbfgs failed to converge (status=1):\n",
      "STOP: TOTAL NO. of ITERATIONS REACHED LIMIT.\n",
      "\n",
      "Increase the number of iterations (max_iter) or scale the data as shown in:\n",
      "    https://scikit-learn.org/stable/modules/preprocessing.html\n",
      "  self.n_iter_ = _check_optimize_result(\"lbfgs\", opt_res, self.max_iter)\n"
     ]
    },
    {
     "name": "stdout",
     "output_type": "stream",
     "text": [
      "[CV]  clf__activation=relu, clf__alpha=10, clf__hidden_layer_sizes=(15, 15, 15), clf__learning_rate=invscaling, clf__solver=lbfgs, total=   0.8s\n",
      "[CV] clf__activation=relu, clf__alpha=100, clf__hidden_layer_sizes=5, clf__learning_rate=constant, clf__solver=lbfgs \n",
      "[CV]  clf__activation=relu, clf__alpha=100, clf__hidden_layer_sizes=5, clf__learning_rate=constant, clf__solver=lbfgs, total=   0.2s\n",
      "[CV] clf__activation=relu, clf__alpha=100, clf__hidden_layer_sizes=5, clf__learning_rate=constant, clf__solver=lbfgs \n"
     ]
    },
    {
     "name": "stderr",
     "output_type": "stream",
     "text": [
      "/root/anaconda3/envs/learn-ml/lib/python3.6/site-packages/sklearn/neural_network/_multilayer_perceptron.py:470: ConvergenceWarning: lbfgs failed to converge (status=1):\n",
      "STOP: TOTAL NO. of ITERATIONS REACHED LIMIT.\n",
      "\n",
      "Increase the number of iterations (max_iter) or scale the data as shown in:\n",
      "    https://scikit-learn.org/stable/modules/preprocessing.html\n",
      "  self.n_iter_ = _check_optimize_result(\"lbfgs\", opt_res, self.max_iter)\n",
      "/root/anaconda3/envs/learn-ml/lib/python3.6/site-packages/sklearn/neural_network/_multilayer_perceptron.py:470: ConvergenceWarning: lbfgs failed to converge (status=1):\n",
      "STOP: TOTAL NO. of ITERATIONS REACHED LIMIT.\n",
      "\n",
      "Increase the number of iterations (max_iter) or scale the data as shown in:\n",
      "    https://scikit-learn.org/stable/modules/preprocessing.html\n",
      "  self.n_iter_ = _check_optimize_result(\"lbfgs\", opt_res, self.max_iter)\n"
     ]
    },
    {
     "name": "stdout",
     "output_type": "stream",
     "text": [
      "[CV]  clf__activation=relu, clf__alpha=100, clf__hidden_layer_sizes=5, clf__learning_rate=constant, clf__solver=lbfgs, total=   0.2s\n",
      "[CV] clf__activation=relu, clf__alpha=100, clf__hidden_layer_sizes=5, clf__learning_rate=constant, clf__solver=lbfgs \n",
      "[CV]  clf__activation=relu, clf__alpha=100, clf__hidden_layer_sizes=5, clf__learning_rate=constant, clf__solver=lbfgs, total=   0.2s\n",
      "[CV] clf__activation=relu, clf__alpha=100, clf__hidden_layer_sizes=5, clf__learning_rate=invscaling, clf__solver=lbfgs \n",
      "[CV]  clf__activation=relu, clf__alpha=100, clf__hidden_layer_sizes=5, clf__learning_rate=invscaling, clf__solver=lbfgs, total=   0.1s\n",
      "[CV] clf__activation=relu, clf__alpha=100, clf__hidden_layer_sizes=5, clf__learning_rate=invscaling, clf__solver=lbfgs \n",
      "[CV]  clf__activation=relu, clf__alpha=100, clf__hidden_layer_sizes=5, clf__learning_rate=invscaling, clf__solver=lbfgs, total=   0.2s\n",
      "[CV] clf__activation=relu, clf__alpha=100, clf__hidden_layer_sizes=5, clf__learning_rate=invscaling, clf__solver=lbfgs \n"
     ]
    },
    {
     "name": "stderr",
     "output_type": "stream",
     "text": [
      "/root/anaconda3/envs/learn-ml/lib/python3.6/site-packages/sklearn/neural_network/_multilayer_perceptron.py:470: ConvergenceWarning: lbfgs failed to converge (status=1):\n",
      "STOP: TOTAL NO. of ITERATIONS REACHED LIMIT.\n",
      "\n",
      "Increase the number of iterations (max_iter) or scale the data as shown in:\n",
      "    https://scikit-learn.org/stable/modules/preprocessing.html\n",
      "  self.n_iter_ = _check_optimize_result(\"lbfgs\", opt_res, self.max_iter)\n",
      "/root/anaconda3/envs/learn-ml/lib/python3.6/site-packages/sklearn/neural_network/_multilayer_perceptron.py:470: ConvergenceWarning: lbfgs failed to converge (status=1):\n",
      "STOP: TOTAL NO. of ITERATIONS REACHED LIMIT.\n",
      "\n",
      "Increase the number of iterations (max_iter) or scale the data as shown in:\n",
      "    https://scikit-learn.org/stable/modules/preprocessing.html\n",
      "  self.n_iter_ = _check_optimize_result(\"lbfgs\", opt_res, self.max_iter)\n"
     ]
    },
    {
     "name": "stdout",
     "output_type": "stream",
     "text": [
      "[CV]  clf__activation=relu, clf__alpha=100, clf__hidden_layer_sizes=5, clf__learning_rate=invscaling, clf__solver=lbfgs, total=   0.2s\n",
      "[CV] clf__activation=relu, clf__alpha=100, clf__hidden_layer_sizes=(10, 10), clf__learning_rate=constant, clf__solver=lbfgs \n"
     ]
    },
    {
     "name": "stderr",
     "output_type": "stream",
     "text": [
      "/root/anaconda3/envs/learn-ml/lib/python3.6/site-packages/sklearn/neural_network/_multilayer_perceptron.py:470: ConvergenceWarning: lbfgs failed to converge (status=1):\n",
      "STOP: TOTAL NO. of ITERATIONS REACHED LIMIT.\n",
      "\n",
      "Increase the number of iterations (max_iter) or scale the data as shown in:\n",
      "    https://scikit-learn.org/stable/modules/preprocessing.html\n",
      "  self.n_iter_ = _check_optimize_result(\"lbfgs\", opt_res, self.max_iter)\n"
     ]
    },
    {
     "name": "stdout",
     "output_type": "stream",
     "text": [
      "[CV]  clf__activation=relu, clf__alpha=100, clf__hidden_layer_sizes=(10, 10), clf__learning_rate=constant, clf__solver=lbfgs, total=   0.4s\n",
      "[CV] clf__activation=relu, clf__alpha=100, clf__hidden_layer_sizes=(10, 10), clf__learning_rate=constant, clf__solver=lbfgs \n"
     ]
    },
    {
     "name": "stderr",
     "output_type": "stream",
     "text": [
      "/root/anaconda3/envs/learn-ml/lib/python3.6/site-packages/sklearn/neural_network/_multilayer_perceptron.py:470: ConvergenceWarning: lbfgs failed to converge (status=1):\n",
      "STOP: TOTAL NO. of ITERATIONS REACHED LIMIT.\n",
      "\n",
      "Increase the number of iterations (max_iter) or scale the data as shown in:\n",
      "    https://scikit-learn.org/stable/modules/preprocessing.html\n",
      "  self.n_iter_ = _check_optimize_result(\"lbfgs\", opt_res, self.max_iter)\n"
     ]
    },
    {
     "name": "stdout",
     "output_type": "stream",
     "text": [
      "[CV]  clf__activation=relu, clf__alpha=100, clf__hidden_layer_sizes=(10, 10), clf__learning_rate=constant, clf__solver=lbfgs, total=   0.4s\n",
      "[CV] clf__activation=relu, clf__alpha=100, clf__hidden_layer_sizes=(10, 10), clf__learning_rate=constant, clf__solver=lbfgs \n"
     ]
    },
    {
     "name": "stderr",
     "output_type": "stream",
     "text": [
      "/root/anaconda3/envs/learn-ml/lib/python3.6/site-packages/sklearn/neural_network/_multilayer_perceptron.py:470: ConvergenceWarning: lbfgs failed to converge (status=1):\n",
      "STOP: TOTAL NO. of ITERATIONS REACHED LIMIT.\n",
      "\n",
      "Increase the number of iterations (max_iter) or scale the data as shown in:\n",
      "    https://scikit-learn.org/stable/modules/preprocessing.html\n",
      "  self.n_iter_ = _check_optimize_result(\"lbfgs\", opt_res, self.max_iter)\n"
     ]
    },
    {
     "name": "stdout",
     "output_type": "stream",
     "text": [
      "[CV]  clf__activation=relu, clf__alpha=100, clf__hidden_layer_sizes=(10, 10), clf__learning_rate=constant, clf__solver=lbfgs, total=   0.4s\n",
      "[CV] clf__activation=relu, clf__alpha=100, clf__hidden_layer_sizes=(10, 10), clf__learning_rate=invscaling, clf__solver=lbfgs \n"
     ]
    },
    {
     "name": "stderr",
     "output_type": "stream",
     "text": [
      "/root/anaconda3/envs/learn-ml/lib/python3.6/site-packages/sklearn/neural_network/_multilayer_perceptron.py:470: ConvergenceWarning: lbfgs failed to converge (status=1):\n",
      "STOP: TOTAL NO. of ITERATIONS REACHED LIMIT.\n",
      "\n",
      "Increase the number of iterations (max_iter) or scale the data as shown in:\n",
      "    https://scikit-learn.org/stable/modules/preprocessing.html\n",
      "  self.n_iter_ = _check_optimize_result(\"lbfgs\", opt_res, self.max_iter)\n"
     ]
    },
    {
     "name": "stdout",
     "output_type": "stream",
     "text": [
      "[CV]  clf__activation=relu, clf__alpha=100, clf__hidden_layer_sizes=(10, 10), clf__learning_rate=invscaling, clf__solver=lbfgs, total=   0.4s\n",
      "[CV] clf__activation=relu, clf__alpha=100, clf__hidden_layer_sizes=(10, 10), clf__learning_rate=invscaling, clf__solver=lbfgs \n"
     ]
    },
    {
     "name": "stderr",
     "output_type": "stream",
     "text": [
      "/root/anaconda3/envs/learn-ml/lib/python3.6/site-packages/sklearn/neural_network/_multilayer_perceptron.py:470: ConvergenceWarning: lbfgs failed to converge (status=1):\n",
      "STOP: TOTAL NO. of ITERATIONS REACHED LIMIT.\n",
      "\n",
      "Increase the number of iterations (max_iter) or scale the data as shown in:\n",
      "    https://scikit-learn.org/stable/modules/preprocessing.html\n",
      "  self.n_iter_ = _check_optimize_result(\"lbfgs\", opt_res, self.max_iter)\n"
     ]
    },
    {
     "name": "stdout",
     "output_type": "stream",
     "text": [
      "[CV]  clf__activation=relu, clf__alpha=100, clf__hidden_layer_sizes=(10, 10), clf__learning_rate=invscaling, clf__solver=lbfgs, total=   0.5s\n",
      "[CV] clf__activation=relu, clf__alpha=100, clf__hidden_layer_sizes=(10, 10), clf__learning_rate=invscaling, clf__solver=lbfgs \n"
     ]
    },
    {
     "name": "stderr",
     "output_type": "stream",
     "text": [
      "/root/anaconda3/envs/learn-ml/lib/python3.6/site-packages/sklearn/neural_network/_multilayer_perceptron.py:470: ConvergenceWarning: lbfgs failed to converge (status=1):\n",
      "STOP: TOTAL NO. of ITERATIONS REACHED LIMIT.\n",
      "\n",
      "Increase the number of iterations (max_iter) or scale the data as shown in:\n",
      "    https://scikit-learn.org/stable/modules/preprocessing.html\n",
      "  self.n_iter_ = _check_optimize_result(\"lbfgs\", opt_res, self.max_iter)\n"
     ]
    },
    {
     "name": "stdout",
     "output_type": "stream",
     "text": [
      "[CV]  clf__activation=relu, clf__alpha=100, clf__hidden_layer_sizes=(10, 10), clf__learning_rate=invscaling, clf__solver=lbfgs, total=   0.4s\n",
      "[CV] clf__activation=relu, clf__alpha=100, clf__hidden_layer_sizes=(7, 7, 7), clf__learning_rate=constant, clf__solver=lbfgs \n"
     ]
    },
    {
     "name": "stderr",
     "output_type": "stream",
     "text": [
      "/root/anaconda3/envs/learn-ml/lib/python3.6/site-packages/sklearn/neural_network/_multilayer_perceptron.py:470: ConvergenceWarning: lbfgs failed to converge (status=1):\n",
      "STOP: TOTAL NO. of ITERATIONS REACHED LIMIT.\n",
      "\n",
      "Increase the number of iterations (max_iter) or scale the data as shown in:\n",
      "    https://scikit-learn.org/stable/modules/preprocessing.html\n",
      "  self.n_iter_ = _check_optimize_result(\"lbfgs\", opt_res, self.max_iter)\n"
     ]
    },
    {
     "name": "stdout",
     "output_type": "stream",
     "text": [
      "[CV]  clf__activation=relu, clf__alpha=100, clf__hidden_layer_sizes=(7, 7, 7), clf__learning_rate=constant, clf__solver=lbfgs, total=   0.5s\n",
      "[CV] clf__activation=relu, clf__alpha=100, clf__hidden_layer_sizes=(7, 7, 7), clf__learning_rate=constant, clf__solver=lbfgs \n"
     ]
    },
    {
     "name": "stderr",
     "output_type": "stream",
     "text": [
      "/root/anaconda3/envs/learn-ml/lib/python3.6/site-packages/sklearn/neural_network/_multilayer_perceptron.py:470: ConvergenceWarning: lbfgs failed to converge (status=1):\n",
      "STOP: TOTAL NO. of ITERATIONS REACHED LIMIT.\n",
      "\n",
      "Increase the number of iterations (max_iter) or scale the data as shown in:\n",
      "    https://scikit-learn.org/stable/modules/preprocessing.html\n",
      "  self.n_iter_ = _check_optimize_result(\"lbfgs\", opt_res, self.max_iter)\n"
     ]
    },
    {
     "name": "stdout",
     "output_type": "stream",
     "text": [
      "[CV]  clf__activation=relu, clf__alpha=100, clf__hidden_layer_sizes=(7, 7, 7), clf__learning_rate=constant, clf__solver=lbfgs, total=   0.5s\n",
      "[CV] clf__activation=relu, clf__alpha=100, clf__hidden_layer_sizes=(7, 7, 7), clf__learning_rate=constant, clf__solver=lbfgs \n"
     ]
    },
    {
     "name": "stderr",
     "output_type": "stream",
     "text": [
      "/root/anaconda3/envs/learn-ml/lib/python3.6/site-packages/sklearn/neural_network/_multilayer_perceptron.py:470: ConvergenceWarning: lbfgs failed to converge (status=1):\n",
      "STOP: TOTAL NO. of ITERATIONS REACHED LIMIT.\n",
      "\n",
      "Increase the number of iterations (max_iter) or scale the data as shown in:\n",
      "    https://scikit-learn.org/stable/modules/preprocessing.html\n",
      "  self.n_iter_ = _check_optimize_result(\"lbfgs\", opt_res, self.max_iter)\n"
     ]
    },
    {
     "name": "stdout",
     "output_type": "stream",
     "text": [
      "[CV]  clf__activation=relu, clf__alpha=100, clf__hidden_layer_sizes=(7, 7, 7), clf__learning_rate=constant, clf__solver=lbfgs, total=   0.6s\n",
      "[CV] clf__activation=relu, clf__alpha=100, clf__hidden_layer_sizes=(7, 7, 7), clf__learning_rate=invscaling, clf__solver=lbfgs \n"
     ]
    },
    {
     "name": "stderr",
     "output_type": "stream",
     "text": [
      "/root/anaconda3/envs/learn-ml/lib/python3.6/site-packages/sklearn/neural_network/_multilayer_perceptron.py:470: ConvergenceWarning: lbfgs failed to converge (status=1):\n",
      "STOP: TOTAL NO. of ITERATIONS REACHED LIMIT.\n",
      "\n",
      "Increase the number of iterations (max_iter) or scale the data as shown in:\n",
      "    https://scikit-learn.org/stable/modules/preprocessing.html\n",
      "  self.n_iter_ = _check_optimize_result(\"lbfgs\", opt_res, self.max_iter)\n"
     ]
    },
    {
     "name": "stdout",
     "output_type": "stream",
     "text": [
      "[CV]  clf__activation=relu, clf__alpha=100, clf__hidden_layer_sizes=(7, 7, 7), clf__learning_rate=invscaling, clf__solver=lbfgs, total=   0.7s\n",
      "[CV] clf__activation=relu, clf__alpha=100, clf__hidden_layer_sizes=(7, 7, 7), clf__learning_rate=invscaling, clf__solver=lbfgs \n"
     ]
    },
    {
     "name": "stderr",
     "output_type": "stream",
     "text": [
      "/root/anaconda3/envs/learn-ml/lib/python3.6/site-packages/sklearn/neural_network/_multilayer_perceptron.py:470: ConvergenceWarning: lbfgs failed to converge (status=1):\n",
      "STOP: TOTAL NO. of ITERATIONS REACHED LIMIT.\n",
      "\n",
      "Increase the number of iterations (max_iter) or scale the data as shown in:\n",
      "    https://scikit-learn.org/stable/modules/preprocessing.html\n",
      "  self.n_iter_ = _check_optimize_result(\"lbfgs\", opt_res, self.max_iter)\n"
     ]
    },
    {
     "name": "stdout",
     "output_type": "stream",
     "text": [
      "[CV]  clf__activation=relu, clf__alpha=100, clf__hidden_layer_sizes=(7, 7, 7), clf__learning_rate=invscaling, clf__solver=lbfgs, total=   0.6s\n",
      "[CV] clf__activation=relu, clf__alpha=100, clf__hidden_layer_sizes=(7, 7, 7), clf__learning_rate=invscaling, clf__solver=lbfgs \n"
     ]
    },
    {
     "name": "stderr",
     "output_type": "stream",
     "text": [
      "/root/anaconda3/envs/learn-ml/lib/python3.6/site-packages/sklearn/neural_network/_multilayer_perceptron.py:470: ConvergenceWarning: lbfgs failed to converge (status=1):\n",
      "STOP: TOTAL NO. of ITERATIONS REACHED LIMIT.\n",
      "\n",
      "Increase the number of iterations (max_iter) or scale the data as shown in:\n",
      "    https://scikit-learn.org/stable/modules/preprocessing.html\n",
      "  self.n_iter_ = _check_optimize_result(\"lbfgs\", opt_res, self.max_iter)\n"
     ]
    },
    {
     "name": "stdout",
     "output_type": "stream",
     "text": [
      "[CV]  clf__activation=relu, clf__alpha=100, clf__hidden_layer_sizes=(7, 7, 7), clf__learning_rate=invscaling, clf__solver=lbfgs, total=   0.5s\n",
      "[CV] clf__activation=relu, clf__alpha=100, clf__hidden_layer_sizes=(20, 20, 20, 20), clf__learning_rate=constant, clf__solver=lbfgs \n"
     ]
    },
    {
     "name": "stderr",
     "output_type": "stream",
     "text": [
      "/root/anaconda3/envs/learn-ml/lib/python3.6/site-packages/sklearn/neural_network/_multilayer_perceptron.py:470: ConvergenceWarning: lbfgs failed to converge (status=1):\n",
      "STOP: TOTAL NO. of ITERATIONS REACHED LIMIT.\n",
      "\n",
      "Increase the number of iterations (max_iter) or scale the data as shown in:\n",
      "    https://scikit-learn.org/stable/modules/preprocessing.html\n",
      "  self.n_iter_ = _check_optimize_result(\"lbfgs\", opt_res, self.max_iter)\n"
     ]
    },
    {
     "name": "stdout",
     "output_type": "stream",
     "text": [
      "[CV]  clf__activation=relu, clf__alpha=100, clf__hidden_layer_sizes=(20, 20, 20, 20), clf__learning_rate=constant, clf__solver=lbfgs, total=   1.4s\n",
      "[CV] clf__activation=relu, clf__alpha=100, clf__hidden_layer_sizes=(20, 20, 20, 20), clf__learning_rate=constant, clf__solver=lbfgs \n"
     ]
    },
    {
     "name": "stderr",
     "output_type": "stream",
     "text": [
      "/root/anaconda3/envs/learn-ml/lib/python3.6/site-packages/sklearn/neural_network/_multilayer_perceptron.py:470: ConvergenceWarning: lbfgs failed to converge (status=1):\n",
      "STOP: TOTAL NO. of ITERATIONS REACHED LIMIT.\n",
      "\n",
      "Increase the number of iterations (max_iter) or scale the data as shown in:\n",
      "    https://scikit-learn.org/stable/modules/preprocessing.html\n",
      "  self.n_iter_ = _check_optimize_result(\"lbfgs\", opt_res, self.max_iter)\n"
     ]
    },
    {
     "name": "stdout",
     "output_type": "stream",
     "text": [
      "[CV]  clf__activation=relu, clf__alpha=100, clf__hidden_layer_sizes=(20, 20, 20, 20), clf__learning_rate=constant, clf__solver=lbfgs, total=   1.3s\n",
      "[CV] clf__activation=relu, clf__alpha=100, clf__hidden_layer_sizes=(20, 20, 20, 20), clf__learning_rate=constant, clf__solver=lbfgs \n"
     ]
    },
    {
     "name": "stderr",
     "output_type": "stream",
     "text": [
      "/root/anaconda3/envs/learn-ml/lib/python3.6/site-packages/sklearn/neural_network/_multilayer_perceptron.py:470: ConvergenceWarning: lbfgs failed to converge (status=1):\n",
      "STOP: TOTAL NO. of ITERATIONS REACHED LIMIT.\n",
      "\n",
      "Increase the number of iterations (max_iter) or scale the data as shown in:\n",
      "    https://scikit-learn.org/stable/modules/preprocessing.html\n",
      "  self.n_iter_ = _check_optimize_result(\"lbfgs\", opt_res, self.max_iter)\n"
     ]
    },
    {
     "name": "stdout",
     "output_type": "stream",
     "text": [
      "[CV]  clf__activation=relu, clf__alpha=100, clf__hidden_layer_sizes=(20, 20, 20, 20), clf__learning_rate=constant, clf__solver=lbfgs, total=   1.5s\n",
      "[CV] clf__activation=relu, clf__alpha=100, clf__hidden_layer_sizes=(20, 20, 20, 20), clf__learning_rate=invscaling, clf__solver=lbfgs \n"
     ]
    },
    {
     "name": "stderr",
     "output_type": "stream",
     "text": [
      "/root/anaconda3/envs/learn-ml/lib/python3.6/site-packages/sklearn/neural_network/_multilayer_perceptron.py:470: ConvergenceWarning: lbfgs failed to converge (status=1):\n",
      "STOP: TOTAL NO. of ITERATIONS REACHED LIMIT.\n",
      "\n",
      "Increase the number of iterations (max_iter) or scale the data as shown in:\n",
      "    https://scikit-learn.org/stable/modules/preprocessing.html\n",
      "  self.n_iter_ = _check_optimize_result(\"lbfgs\", opt_res, self.max_iter)\n"
     ]
    },
    {
     "name": "stdout",
     "output_type": "stream",
     "text": [
      "[CV]  clf__activation=relu, clf__alpha=100, clf__hidden_layer_sizes=(20, 20, 20, 20), clf__learning_rate=invscaling, clf__solver=lbfgs, total=   1.2s\n",
      "[CV] clf__activation=relu, clf__alpha=100, clf__hidden_layer_sizes=(20, 20, 20, 20), clf__learning_rate=invscaling, clf__solver=lbfgs \n"
     ]
    },
    {
     "name": "stderr",
     "output_type": "stream",
     "text": [
      "/root/anaconda3/envs/learn-ml/lib/python3.6/site-packages/sklearn/neural_network/_multilayer_perceptron.py:470: ConvergenceWarning: lbfgs failed to converge (status=1):\n",
      "STOP: TOTAL NO. of ITERATIONS REACHED LIMIT.\n",
      "\n",
      "Increase the number of iterations (max_iter) or scale the data as shown in:\n",
      "    https://scikit-learn.org/stable/modules/preprocessing.html\n",
      "  self.n_iter_ = _check_optimize_result(\"lbfgs\", opt_res, self.max_iter)\n",
      "/root/anaconda3/envs/learn-ml/lib/python3.6/site-packages/sklearn/neural_network/_multilayer_perceptron.py:470: ConvergenceWarning: lbfgs failed to converge (status=2):\n",
      "ABNORMAL_TERMINATION_IN_LNSRCH.\n",
      "\n",
      "Increase the number of iterations (max_iter) or scale the data as shown in:\n",
      "    https://scikit-learn.org/stable/modules/preprocessing.html\n",
      "  self.n_iter_ = _check_optimize_result(\"lbfgs\", opt_res, self.max_iter)\n"
     ]
    },
    {
     "name": "stdout",
     "output_type": "stream",
     "text": [
      "[CV]  clf__activation=relu, clf__alpha=100, clf__hidden_layer_sizes=(20, 20, 20, 20), clf__learning_rate=invscaling, clf__solver=lbfgs, total=   1.3s\n",
      "[CV] clf__activation=relu, clf__alpha=100, clf__hidden_layer_sizes=(20, 20, 20, 20), clf__learning_rate=invscaling, clf__solver=lbfgs \n",
      "[CV]  clf__activation=relu, clf__alpha=100, clf__hidden_layer_sizes=(20, 20, 20, 20), clf__learning_rate=invscaling, clf__solver=lbfgs, total=   0.1s\n",
      "[CV] clf__activation=relu, clf__alpha=100, clf__hidden_layer_sizes=(30, 30, 30), clf__learning_rate=constant, clf__solver=lbfgs \n",
      "[CV]  clf__activation=relu, clf__alpha=100, clf__hidden_layer_sizes=(30, 30, 30), clf__learning_rate=constant, clf__solver=lbfgs, total=   0.4s\n",
      "[CV] clf__activation=relu, clf__alpha=100, clf__hidden_layer_sizes=(30, 30, 30), clf__learning_rate=constant, clf__solver=lbfgs \n"
     ]
    },
    {
     "name": "stderr",
     "output_type": "stream",
     "text": [
      "/root/anaconda3/envs/learn-ml/lib/python3.6/site-packages/sklearn/neural_network/_multilayer_perceptron.py:470: ConvergenceWarning: lbfgs failed to converge (status=1):\n",
      "STOP: TOTAL NO. of ITERATIONS REACHED LIMIT.\n",
      "\n",
      "Increase the number of iterations (max_iter) or scale the data as shown in:\n",
      "    https://scikit-learn.org/stable/modules/preprocessing.html\n",
      "  self.n_iter_ = _check_optimize_result(\"lbfgs\", opt_res, self.max_iter)\n"
     ]
    },
    {
     "name": "stdout",
     "output_type": "stream",
     "text": [
      "[CV]  clf__activation=relu, clf__alpha=100, clf__hidden_layer_sizes=(30, 30, 30), clf__learning_rate=constant, clf__solver=lbfgs, total=   1.4s\n",
      "[CV] clf__activation=relu, clf__alpha=100, clf__hidden_layer_sizes=(30, 30, 30), clf__learning_rate=constant, clf__solver=lbfgs \n"
     ]
    },
    {
     "name": "stderr",
     "output_type": "stream",
     "text": [
      "/root/anaconda3/envs/learn-ml/lib/python3.6/site-packages/sklearn/neural_network/_multilayer_perceptron.py:470: ConvergenceWarning: lbfgs failed to converge (status=1):\n",
      "STOP: TOTAL NO. of ITERATIONS REACHED LIMIT.\n",
      "\n",
      "Increase the number of iterations (max_iter) or scale the data as shown in:\n",
      "    https://scikit-learn.org/stable/modules/preprocessing.html\n",
      "  self.n_iter_ = _check_optimize_result(\"lbfgs\", opt_res, self.max_iter)\n"
     ]
    },
    {
     "name": "stdout",
     "output_type": "stream",
     "text": [
      "[CV]  clf__activation=relu, clf__alpha=100, clf__hidden_layer_sizes=(30, 30, 30), clf__learning_rate=constant, clf__solver=lbfgs, total=   2.2s\n",
      "[CV] clf__activation=relu, clf__alpha=100, clf__hidden_layer_sizes=(30, 30, 30), clf__learning_rate=invscaling, clf__solver=lbfgs \n"
     ]
    },
    {
     "name": "stderr",
     "output_type": "stream",
     "text": [
      "/root/anaconda3/envs/learn-ml/lib/python3.6/site-packages/sklearn/neural_network/_multilayer_perceptron.py:470: ConvergenceWarning: lbfgs failed to converge (status=2):\n",
      "ABNORMAL_TERMINATION_IN_LNSRCH.\n",
      "\n",
      "Increase the number of iterations (max_iter) or scale the data as shown in:\n",
      "    https://scikit-learn.org/stable/modules/preprocessing.html\n",
      "  self.n_iter_ = _check_optimize_result(\"lbfgs\", opt_res, self.max_iter)\n"
     ]
    },
    {
     "name": "stdout",
     "output_type": "stream",
     "text": [
      "[CV]  clf__activation=relu, clf__alpha=100, clf__hidden_layer_sizes=(30, 30, 30), clf__learning_rate=invscaling, clf__solver=lbfgs, total=   0.5s\n",
      "[CV] clf__activation=relu, clf__alpha=100, clf__hidden_layer_sizes=(30, 30, 30), clf__learning_rate=invscaling, clf__solver=lbfgs \n"
     ]
    },
    {
     "name": "stderr",
     "output_type": "stream",
     "text": [
      "/root/anaconda3/envs/learn-ml/lib/python3.6/site-packages/sklearn/neural_network/_multilayer_perceptron.py:470: ConvergenceWarning: lbfgs failed to converge (status=1):\n",
      "STOP: TOTAL NO. of ITERATIONS REACHED LIMIT.\n",
      "\n",
      "Increase the number of iterations (max_iter) or scale the data as shown in:\n",
      "    https://scikit-learn.org/stable/modules/preprocessing.html\n",
      "  self.n_iter_ = _check_optimize_result(\"lbfgs\", opt_res, self.max_iter)\n"
     ]
    },
    {
     "name": "stdout",
     "output_type": "stream",
     "text": [
      "[CV]  clf__activation=relu, clf__alpha=100, clf__hidden_layer_sizes=(30, 30, 30), clf__learning_rate=invscaling, clf__solver=lbfgs, total=   3.3s\n",
      "[CV] clf__activation=relu, clf__alpha=100, clf__hidden_layer_sizes=(30, 30, 30), clf__learning_rate=invscaling, clf__solver=lbfgs \n"
     ]
    },
    {
     "name": "stderr",
     "output_type": "stream",
     "text": [
      "/root/anaconda3/envs/learn-ml/lib/python3.6/site-packages/sklearn/neural_network/_multilayer_perceptron.py:470: ConvergenceWarning: lbfgs failed to converge (status=1):\n",
      "STOP: TOTAL NO. of ITERATIONS REACHED LIMIT.\n",
      "\n",
      "Increase the number of iterations (max_iter) or scale the data as shown in:\n",
      "    https://scikit-learn.org/stable/modules/preprocessing.html\n",
      "  self.n_iter_ = _check_optimize_result(\"lbfgs\", opt_res, self.max_iter)\n"
     ]
    },
    {
     "name": "stdout",
     "output_type": "stream",
     "text": [
      "[CV]  clf__activation=relu, clf__alpha=100, clf__hidden_layer_sizes=(30, 30, 30), clf__learning_rate=invscaling, clf__solver=lbfgs, total=   2.4s\n",
      "[CV] clf__activation=relu, clf__alpha=100, clf__hidden_layer_sizes=(20, 20, 20), clf__learning_rate=constant, clf__solver=lbfgs \n"
     ]
    },
    {
     "name": "stderr",
     "output_type": "stream",
     "text": [
      "/root/anaconda3/envs/learn-ml/lib/python3.6/site-packages/sklearn/neural_network/_multilayer_perceptron.py:470: ConvergenceWarning: lbfgs failed to converge (status=1):\n",
      "STOP: TOTAL NO. of ITERATIONS REACHED LIMIT.\n",
      "\n",
      "Increase the number of iterations (max_iter) or scale the data as shown in:\n",
      "    https://scikit-learn.org/stable/modules/preprocessing.html\n",
      "  self.n_iter_ = _check_optimize_result(\"lbfgs\", opt_res, self.max_iter)\n"
     ]
    },
    {
     "name": "stdout",
     "output_type": "stream",
     "text": [
      "[CV]  clf__activation=relu, clf__alpha=100, clf__hidden_layer_sizes=(20, 20, 20), clf__learning_rate=constant, clf__solver=lbfgs, total=   0.9s\n",
      "[CV] clf__activation=relu, clf__alpha=100, clf__hidden_layer_sizes=(20, 20, 20), clf__learning_rate=constant, clf__solver=lbfgs \n"
     ]
    },
    {
     "name": "stderr",
     "output_type": "stream",
     "text": [
      "/root/anaconda3/envs/learn-ml/lib/python3.6/site-packages/sklearn/neural_network/_multilayer_perceptron.py:470: ConvergenceWarning: lbfgs failed to converge (status=1):\n",
      "STOP: TOTAL NO. of ITERATIONS REACHED LIMIT.\n",
      "\n",
      "Increase the number of iterations (max_iter) or scale the data as shown in:\n",
      "    https://scikit-learn.org/stable/modules/preprocessing.html\n",
      "  self.n_iter_ = _check_optimize_result(\"lbfgs\", opt_res, self.max_iter)\n"
     ]
    },
    {
     "name": "stdout",
     "output_type": "stream",
     "text": [
      "[CV]  clf__activation=relu, clf__alpha=100, clf__hidden_layer_sizes=(20, 20, 20), clf__learning_rate=constant, clf__solver=lbfgs, total=   0.8s\n",
      "[CV] clf__activation=relu, clf__alpha=100, clf__hidden_layer_sizes=(20, 20, 20), clf__learning_rate=constant, clf__solver=lbfgs \n"
     ]
    },
    {
     "name": "stderr",
     "output_type": "stream",
     "text": [
      "/root/anaconda3/envs/learn-ml/lib/python3.6/site-packages/sklearn/neural_network/_multilayer_perceptron.py:470: ConvergenceWarning: lbfgs failed to converge (status=1):\n",
      "STOP: TOTAL NO. of ITERATIONS REACHED LIMIT.\n",
      "\n",
      "Increase the number of iterations (max_iter) or scale the data as shown in:\n",
      "    https://scikit-learn.org/stable/modules/preprocessing.html\n",
      "  self.n_iter_ = _check_optimize_result(\"lbfgs\", opt_res, self.max_iter)\n"
     ]
    },
    {
     "name": "stdout",
     "output_type": "stream",
     "text": [
      "[CV]  clf__activation=relu, clf__alpha=100, clf__hidden_layer_sizes=(20, 20, 20), clf__learning_rate=constant, clf__solver=lbfgs, total=   0.9s\n",
      "[CV] clf__activation=relu, clf__alpha=100, clf__hidden_layer_sizes=(20, 20, 20), clf__learning_rate=invscaling, clf__solver=lbfgs \n"
     ]
    },
    {
     "name": "stderr",
     "output_type": "stream",
     "text": [
      "/root/anaconda3/envs/learn-ml/lib/python3.6/site-packages/sklearn/neural_network/_multilayer_perceptron.py:470: ConvergenceWarning: lbfgs failed to converge (status=1):\n",
      "STOP: TOTAL NO. of ITERATIONS REACHED LIMIT.\n",
      "\n",
      "Increase the number of iterations (max_iter) or scale the data as shown in:\n",
      "    https://scikit-learn.org/stable/modules/preprocessing.html\n",
      "  self.n_iter_ = _check_optimize_result(\"lbfgs\", opt_res, self.max_iter)\n"
     ]
    },
    {
     "name": "stdout",
     "output_type": "stream",
     "text": [
      "[CV]  clf__activation=relu, clf__alpha=100, clf__hidden_layer_sizes=(20, 20, 20), clf__learning_rate=invscaling, clf__solver=lbfgs, total=   0.9s\n",
      "[CV] clf__activation=relu, clf__alpha=100, clf__hidden_layer_sizes=(20, 20, 20), clf__learning_rate=invscaling, clf__solver=lbfgs \n"
     ]
    },
    {
     "name": "stderr",
     "output_type": "stream",
     "text": [
      "/root/anaconda3/envs/learn-ml/lib/python3.6/site-packages/sklearn/neural_network/_multilayer_perceptron.py:470: ConvergenceWarning: lbfgs failed to converge (status=1):\n",
      "STOP: TOTAL NO. of ITERATIONS REACHED LIMIT.\n",
      "\n",
      "Increase the number of iterations (max_iter) or scale the data as shown in:\n",
      "    https://scikit-learn.org/stable/modules/preprocessing.html\n",
      "  self.n_iter_ = _check_optimize_result(\"lbfgs\", opt_res, self.max_iter)\n"
     ]
    },
    {
     "name": "stdout",
     "output_type": "stream",
     "text": [
      "[CV]  clf__activation=relu, clf__alpha=100, clf__hidden_layer_sizes=(20, 20, 20), clf__learning_rate=invscaling, clf__solver=lbfgs, total=   1.1s\n",
      "[CV] clf__activation=relu, clf__alpha=100, clf__hidden_layer_sizes=(20, 20, 20), clf__learning_rate=invscaling, clf__solver=lbfgs \n"
     ]
    },
    {
     "name": "stderr",
     "output_type": "stream",
     "text": [
      "/root/anaconda3/envs/learn-ml/lib/python3.6/site-packages/sklearn/neural_network/_multilayer_perceptron.py:470: ConvergenceWarning: lbfgs failed to converge (status=1):\n",
      "STOP: TOTAL NO. of ITERATIONS REACHED LIMIT.\n",
      "\n",
      "Increase the number of iterations (max_iter) or scale the data as shown in:\n",
      "    https://scikit-learn.org/stable/modules/preprocessing.html\n",
      "  self.n_iter_ = _check_optimize_result(\"lbfgs\", opt_res, self.max_iter)\n"
     ]
    },
    {
     "name": "stdout",
     "output_type": "stream",
     "text": [
      "[CV]  clf__activation=relu, clf__alpha=100, clf__hidden_layer_sizes=(20, 20, 20), clf__learning_rate=invscaling, clf__solver=lbfgs, total=   1.2s\n",
      "[CV] clf__activation=relu, clf__alpha=100, clf__hidden_layer_sizes=(15, 15, 15), clf__learning_rate=constant, clf__solver=lbfgs \n"
     ]
    },
    {
     "name": "stderr",
     "output_type": "stream",
     "text": [
      "/root/anaconda3/envs/learn-ml/lib/python3.6/site-packages/sklearn/neural_network/_multilayer_perceptron.py:470: ConvergenceWarning: lbfgs failed to converge (status=1):\n",
      "STOP: TOTAL NO. of ITERATIONS REACHED LIMIT.\n",
      "\n",
      "Increase the number of iterations (max_iter) or scale the data as shown in:\n",
      "    https://scikit-learn.org/stable/modules/preprocessing.html\n",
      "  self.n_iter_ = _check_optimize_result(\"lbfgs\", opt_res, self.max_iter)\n"
     ]
    },
    {
     "name": "stdout",
     "output_type": "stream",
     "text": [
      "[CV]  clf__activation=relu, clf__alpha=100, clf__hidden_layer_sizes=(15, 15, 15), clf__learning_rate=constant, clf__solver=lbfgs, total=   1.0s\n",
      "[CV] clf__activation=relu, clf__alpha=100, clf__hidden_layer_sizes=(15, 15, 15), clf__learning_rate=constant, clf__solver=lbfgs \n"
     ]
    },
    {
     "name": "stderr",
     "output_type": "stream",
     "text": [
      "/root/anaconda3/envs/learn-ml/lib/python3.6/site-packages/sklearn/neural_network/_multilayer_perceptron.py:470: ConvergenceWarning: lbfgs failed to converge (status=1):\n",
      "STOP: TOTAL NO. of ITERATIONS REACHED LIMIT.\n",
      "\n",
      "Increase the number of iterations (max_iter) or scale the data as shown in:\n",
      "    https://scikit-learn.org/stable/modules/preprocessing.html\n",
      "  self.n_iter_ = _check_optimize_result(\"lbfgs\", opt_res, self.max_iter)\n"
     ]
    },
    {
     "name": "stdout",
     "output_type": "stream",
     "text": [
      "[CV]  clf__activation=relu, clf__alpha=100, clf__hidden_layer_sizes=(15, 15, 15), clf__learning_rate=constant, clf__solver=lbfgs, total=   1.2s\n",
      "[CV] clf__activation=relu, clf__alpha=100, clf__hidden_layer_sizes=(15, 15, 15), clf__learning_rate=constant, clf__solver=lbfgs \n"
     ]
    },
    {
     "name": "stderr",
     "output_type": "stream",
     "text": [
      "/root/anaconda3/envs/learn-ml/lib/python3.6/site-packages/sklearn/neural_network/_multilayer_perceptron.py:470: ConvergenceWarning: lbfgs failed to converge (status=1):\n",
      "STOP: TOTAL NO. of ITERATIONS REACHED LIMIT.\n",
      "\n",
      "Increase the number of iterations (max_iter) or scale the data as shown in:\n",
      "    https://scikit-learn.org/stable/modules/preprocessing.html\n",
      "  self.n_iter_ = _check_optimize_result(\"lbfgs\", opt_res, self.max_iter)\n",
      "/root/anaconda3/envs/learn-ml/lib/python3.6/site-packages/sklearn/neural_network/_multilayer_perceptron.py:470: ConvergenceWarning: lbfgs failed to converge (status=2):\n",
      "ABNORMAL_TERMINATION_IN_LNSRCH.\n",
      "\n",
      "Increase the number of iterations (max_iter) or scale the data as shown in:\n",
      "    https://scikit-learn.org/stable/modules/preprocessing.html\n",
      "  self.n_iter_ = _check_optimize_result(\"lbfgs\", opt_res, self.max_iter)\n"
     ]
    },
    {
     "name": "stdout",
     "output_type": "stream",
     "text": [
      "[CV]  clf__activation=relu, clf__alpha=100, clf__hidden_layer_sizes=(15, 15, 15), clf__learning_rate=constant, clf__solver=lbfgs, total=   0.8s\n",
      "[CV] clf__activation=relu, clf__alpha=100, clf__hidden_layer_sizes=(15, 15, 15), clf__learning_rate=invscaling, clf__solver=lbfgs \n",
      "[CV]  clf__activation=relu, clf__alpha=100, clf__hidden_layer_sizes=(15, 15, 15), clf__learning_rate=invscaling, clf__solver=lbfgs, total=   0.1s\n",
      "[CV] clf__activation=relu, clf__alpha=100, clf__hidden_layer_sizes=(15, 15, 15), clf__learning_rate=invscaling, clf__solver=lbfgs \n"
     ]
    },
    {
     "name": "stderr",
     "output_type": "stream",
     "text": [
      "/root/anaconda3/envs/learn-ml/lib/python3.6/site-packages/sklearn/neural_network/_multilayer_perceptron.py:470: ConvergenceWarning: lbfgs failed to converge (status=1):\n",
      "STOP: TOTAL NO. of ITERATIONS REACHED LIMIT.\n",
      "\n",
      "Increase the number of iterations (max_iter) or scale the data as shown in:\n",
      "    https://scikit-learn.org/stable/modules/preprocessing.html\n",
      "  self.n_iter_ = _check_optimize_result(\"lbfgs\", opt_res, self.max_iter)\n"
     ]
    },
    {
     "name": "stdout",
     "output_type": "stream",
     "text": [
      "[CV]  clf__activation=relu, clf__alpha=100, clf__hidden_layer_sizes=(15, 15, 15), clf__learning_rate=invscaling, clf__solver=lbfgs, total=   0.7s\n",
      "[CV] clf__activation=relu, clf__alpha=100, clf__hidden_layer_sizes=(15, 15, 15), clf__learning_rate=invscaling, clf__solver=lbfgs \n"
     ]
    },
    {
     "name": "stderr",
     "output_type": "stream",
     "text": [
      "/root/anaconda3/envs/learn-ml/lib/python3.6/site-packages/sklearn/neural_network/_multilayer_perceptron.py:470: ConvergenceWarning: lbfgs failed to converge (status=1):\n",
      "STOP: TOTAL NO. of ITERATIONS REACHED LIMIT.\n",
      "\n",
      "Increase the number of iterations (max_iter) or scale the data as shown in:\n",
      "    https://scikit-learn.org/stable/modules/preprocessing.html\n",
      "  self.n_iter_ = _check_optimize_result(\"lbfgs\", opt_res, self.max_iter)\n",
      "/root/anaconda3/envs/learn-ml/lib/python3.6/site-packages/sklearn/neural_network/_multilayer_perceptron.py:470: ConvergenceWarning: lbfgs failed to converge (status=2):\n",
      "ABNORMAL_TERMINATION_IN_LNSRCH.\n",
      "\n",
      "Increase the number of iterations (max_iter) or scale the data as shown in:\n",
      "    https://scikit-learn.org/stable/modules/preprocessing.html\n",
      "  self.n_iter_ = _check_optimize_result(\"lbfgs\", opt_res, self.max_iter)\n"
     ]
    },
    {
     "name": "stdout",
     "output_type": "stream",
     "text": [
      "[CV]  clf__activation=relu, clf__alpha=100, clf__hidden_layer_sizes=(15, 15, 15), clf__learning_rate=invscaling, clf__solver=lbfgs, total=   0.8s\n",
      "[CV] clf__activation=tanh, clf__alpha=0.001, clf__hidden_layer_sizes=5, clf__learning_rate=constant, clf__solver=lbfgs \n",
      "[CV]  clf__activation=tanh, clf__alpha=0.001, clf__hidden_layer_sizes=5, clf__learning_rate=constant, clf__solver=lbfgs, total=   0.1s\n",
      "[CV] clf__activation=tanh, clf__alpha=0.001, clf__hidden_layer_sizes=5, clf__learning_rate=constant, clf__solver=lbfgs \n",
      "[CV]  clf__activation=tanh, clf__alpha=0.001, clf__hidden_layer_sizes=5, clf__learning_rate=constant, clf__solver=lbfgs, total=   0.1s\n",
      "[CV] clf__activation=tanh, clf__alpha=0.001, clf__hidden_layer_sizes=5, clf__learning_rate=constant, clf__solver=lbfgs \n",
      "[CV]  clf__activation=tanh, clf__alpha=0.001, clf__hidden_layer_sizes=5, clf__learning_rate=constant, clf__solver=lbfgs, total=   0.1s\n",
      "[CV] clf__activation=tanh, clf__alpha=0.001, clf__hidden_layer_sizes=5, clf__learning_rate=invscaling, clf__solver=lbfgs \n",
      "[CV]  clf__activation=tanh, clf__alpha=0.001, clf__hidden_layer_sizes=5, clf__learning_rate=invscaling, clf__solver=lbfgs, total=   0.1s\n",
      "[CV] clf__activation=tanh, clf__alpha=0.001, clf__hidden_layer_sizes=5, clf__learning_rate=invscaling, clf__solver=lbfgs \n",
      "[CV]  clf__activation=tanh, clf__alpha=0.001, clf__hidden_layer_sizes=5, clf__learning_rate=invscaling, clf__solver=lbfgs, total=   0.1s\n",
      "[CV] clf__activation=tanh, clf__alpha=0.001, clf__hidden_layer_sizes=5, clf__learning_rate=invscaling, clf__solver=lbfgs \n",
      "[CV]  clf__activation=tanh, clf__alpha=0.001, clf__hidden_layer_sizes=5, clf__learning_rate=invscaling, clf__solver=lbfgs, total=   0.1s\n",
      "[CV] clf__activation=tanh, clf__alpha=0.001, clf__hidden_layer_sizes=(10, 10), clf__learning_rate=constant, clf__solver=lbfgs \n",
      "[CV]  clf__activation=tanh, clf__alpha=0.001, clf__hidden_layer_sizes=(10, 10), clf__learning_rate=constant, clf__solver=lbfgs, total=   0.1s\n",
      "[CV] clf__activation=tanh, clf__alpha=0.001, clf__hidden_layer_sizes=(10, 10), clf__learning_rate=constant, clf__solver=lbfgs \n",
      "[CV]  clf__activation=tanh, clf__alpha=0.001, clf__hidden_layer_sizes=(10, 10), clf__learning_rate=constant, clf__solver=lbfgs, total=   0.1s\n",
      "[CV] clf__activation=tanh, clf__alpha=0.001, clf__hidden_layer_sizes=(10, 10), clf__learning_rate=constant, clf__solver=lbfgs \n",
      "[CV]  clf__activation=tanh, clf__alpha=0.001, clf__hidden_layer_sizes=(10, 10), clf__learning_rate=constant, clf__solver=lbfgs, total=   0.1s\n",
      "[CV] clf__activation=tanh, clf__alpha=0.001, clf__hidden_layer_sizes=(10, 10), clf__learning_rate=invscaling, clf__solver=lbfgs \n",
      "[CV]  clf__activation=tanh, clf__alpha=0.001, clf__hidden_layer_sizes=(10, 10), clf__learning_rate=invscaling, clf__solver=lbfgs, total=   0.1s\n",
      "[CV] clf__activation=tanh, clf__alpha=0.001, clf__hidden_layer_sizes=(10, 10), clf__learning_rate=invscaling, clf__solver=lbfgs \n",
      "[CV]  clf__activation=tanh, clf__alpha=0.001, clf__hidden_layer_sizes=(10, 10), clf__learning_rate=invscaling, clf__solver=lbfgs, total=   0.3s\n",
      "[CV] clf__activation=tanh, clf__alpha=0.001, clf__hidden_layer_sizes=(10, 10), clf__learning_rate=invscaling, clf__solver=lbfgs \n",
      "[CV]  clf__activation=tanh, clf__alpha=0.001, clf__hidden_layer_sizes=(10, 10), clf__learning_rate=invscaling, clf__solver=lbfgs, total=   0.4s\n",
      "[CV] clf__activation=tanh, clf__alpha=0.001, clf__hidden_layer_sizes=(7, 7, 7), clf__learning_rate=constant, clf__solver=lbfgs \n"
     ]
    },
    {
     "name": "stderr",
     "output_type": "stream",
     "text": [
      "/root/anaconda3/envs/learn-ml/lib/python3.6/site-packages/sklearn/neural_network/_multilayer_perceptron.py:470: ConvergenceWarning: lbfgs failed to converge (status=2):\n",
      "ABNORMAL_TERMINATION_IN_LNSRCH.\n",
      "\n",
      "Increase the number of iterations (max_iter) or scale the data as shown in:\n",
      "    https://scikit-learn.org/stable/modules/preprocessing.html\n",
      "  self.n_iter_ = _check_optimize_result(\"lbfgs\", opt_res, self.max_iter)\n"
     ]
    },
    {
     "name": "stdout",
     "output_type": "stream",
     "text": [
      "[CV]  clf__activation=tanh, clf__alpha=0.001, clf__hidden_layer_sizes=(7, 7, 7), clf__learning_rate=constant, clf__solver=lbfgs, total=   0.2s\n",
      "[CV] clf__activation=tanh, clf__alpha=0.001, clf__hidden_layer_sizes=(7, 7, 7), clf__learning_rate=constant, clf__solver=lbfgs \n",
      "[CV]  clf__activation=tanh, clf__alpha=0.001, clf__hidden_layer_sizes=(7, 7, 7), clf__learning_rate=constant, clf__solver=lbfgs, total=   0.2s\n",
      "[CV] clf__activation=tanh, clf__alpha=0.001, clf__hidden_layer_sizes=(7, 7, 7), clf__learning_rate=constant, clf__solver=lbfgs \n",
      "[CV]  clf__activation=tanh, clf__alpha=0.001, clf__hidden_layer_sizes=(7, 7, 7), clf__learning_rate=constant, clf__solver=lbfgs, total=   0.3s\n",
      "[CV] clf__activation=tanh, clf__alpha=0.001, clf__hidden_layer_sizes=(7, 7, 7), clf__learning_rate=invscaling, clf__solver=lbfgs \n",
      "[CV]  clf__activation=tanh, clf__alpha=0.001, clf__hidden_layer_sizes=(7, 7, 7), clf__learning_rate=invscaling, clf__solver=lbfgs, total=   0.2s\n",
      "[CV] clf__activation=tanh, clf__alpha=0.001, clf__hidden_layer_sizes=(7, 7, 7), clf__learning_rate=invscaling, clf__solver=lbfgs \n",
      "[CV]  clf__activation=tanh, clf__alpha=0.001, clf__hidden_layer_sizes=(7, 7, 7), clf__learning_rate=invscaling, clf__solver=lbfgs, total=   0.1s\n",
      "[CV] clf__activation=tanh, clf__alpha=0.001, clf__hidden_layer_sizes=(7, 7, 7), clf__learning_rate=invscaling, clf__solver=lbfgs \n",
      "[CV]  clf__activation=tanh, clf__alpha=0.001, clf__hidden_layer_sizes=(7, 7, 7), clf__learning_rate=invscaling, clf__solver=lbfgs, total=   0.2s\n",
      "[CV] clf__activation=tanh, clf__alpha=0.001, clf__hidden_layer_sizes=(20, 20, 20, 20), clf__learning_rate=constant, clf__solver=lbfgs \n"
     ]
    },
    {
     "name": "stderr",
     "output_type": "stream",
     "text": [
      "/root/anaconda3/envs/learn-ml/lib/python3.6/site-packages/sklearn/neural_network/_multilayer_perceptron.py:470: ConvergenceWarning: lbfgs failed to converge (status=2):\n",
      "ABNORMAL_TERMINATION_IN_LNSRCH.\n",
      "\n",
      "Increase the number of iterations (max_iter) or scale the data as shown in:\n",
      "    https://scikit-learn.org/stable/modules/preprocessing.html\n",
      "  self.n_iter_ = _check_optimize_result(\"lbfgs\", opt_res, self.max_iter)\n"
     ]
    },
    {
     "name": "stdout",
     "output_type": "stream",
     "text": [
      "[CV]  clf__activation=tanh, clf__alpha=0.001, clf__hidden_layer_sizes=(20, 20, 20, 20), clf__learning_rate=constant, clf__solver=lbfgs, total=   1.1s\n",
      "[CV] clf__activation=tanh, clf__alpha=0.001, clf__hidden_layer_sizes=(20, 20, 20, 20), clf__learning_rate=constant, clf__solver=lbfgs \n",
      "[CV]  clf__activation=tanh, clf__alpha=0.001, clf__hidden_layer_sizes=(20, 20, 20, 20), clf__learning_rate=constant, clf__solver=lbfgs, total=   0.2s\n",
      "[CV] clf__activation=tanh, clf__alpha=0.001, clf__hidden_layer_sizes=(20, 20, 20, 20), clf__learning_rate=constant, clf__solver=lbfgs \n",
      "[CV]  clf__activation=tanh, clf__alpha=0.001, clf__hidden_layer_sizes=(20, 20, 20, 20), clf__learning_rate=constant, clf__solver=lbfgs, total=   0.7s\n",
      "[CV] clf__activation=tanh, clf__alpha=0.001, clf__hidden_layer_sizes=(20, 20, 20, 20), clf__learning_rate=invscaling, clf__solver=lbfgs \n",
      "[CV]  clf__activation=tanh, clf__alpha=0.001, clf__hidden_layer_sizes=(20, 20, 20, 20), clf__learning_rate=invscaling, clf__solver=lbfgs, total=   0.4s\n",
      "[CV] clf__activation=tanh, clf__alpha=0.001, clf__hidden_layer_sizes=(20, 20, 20, 20), clf__learning_rate=invscaling, clf__solver=lbfgs \n",
      "[CV]  clf__activation=tanh, clf__alpha=0.001, clf__hidden_layer_sizes=(20, 20, 20, 20), clf__learning_rate=invscaling, clf__solver=lbfgs, total=   0.2s\n",
      "[CV] clf__activation=tanh, clf__alpha=0.001, clf__hidden_layer_sizes=(20, 20, 20, 20), clf__learning_rate=invscaling, clf__solver=lbfgs \n",
      "[CV]  clf__activation=tanh, clf__alpha=0.001, clf__hidden_layer_sizes=(20, 20, 20, 20), clf__learning_rate=invscaling, clf__solver=lbfgs, total=   0.6s\n",
      "[CV] clf__activation=tanh, clf__alpha=0.001, clf__hidden_layer_sizes=(30, 30, 30), clf__learning_rate=constant, clf__solver=lbfgs \n",
      "[CV]  clf__activation=tanh, clf__alpha=0.001, clf__hidden_layer_sizes=(30, 30, 30), clf__learning_rate=constant, clf__solver=lbfgs, total=   1.4s\n",
      "[CV] clf__activation=tanh, clf__alpha=0.001, clf__hidden_layer_sizes=(30, 30, 30), clf__learning_rate=constant, clf__solver=lbfgs \n"
     ]
    },
    {
     "name": "stderr",
     "output_type": "stream",
     "text": [
      "/root/anaconda3/envs/learn-ml/lib/python3.6/site-packages/sklearn/neural_network/_multilayer_perceptron.py:470: ConvergenceWarning: lbfgs failed to converge (status=2):\n",
      "ABNORMAL_TERMINATION_IN_LNSRCH.\n",
      "\n",
      "Increase the number of iterations (max_iter) or scale the data as shown in:\n",
      "    https://scikit-learn.org/stable/modules/preprocessing.html\n",
      "  self.n_iter_ = _check_optimize_result(\"lbfgs\", opt_res, self.max_iter)\n"
     ]
    },
    {
     "name": "stdout",
     "output_type": "stream",
     "text": [
      "[CV]  clf__activation=tanh, clf__alpha=0.001, clf__hidden_layer_sizes=(30, 30, 30), clf__learning_rate=constant, clf__solver=lbfgs, total=   1.0s\n",
      "[CV] clf__activation=tanh, clf__alpha=0.001, clf__hidden_layer_sizes=(30, 30, 30), clf__learning_rate=constant, clf__solver=lbfgs \n",
      "[CV]  clf__activation=tanh, clf__alpha=0.001, clf__hidden_layer_sizes=(30, 30, 30), clf__learning_rate=constant, clf__solver=lbfgs, total=   1.5s\n",
      "[CV] clf__activation=tanh, clf__alpha=0.001, clf__hidden_layer_sizes=(30, 30, 30), clf__learning_rate=invscaling, clf__solver=lbfgs \n",
      "[CV]  clf__activation=tanh, clf__alpha=0.001, clf__hidden_layer_sizes=(30, 30, 30), clf__learning_rate=invscaling, clf__solver=lbfgs, total=   0.5s\n",
      "[CV] clf__activation=tanh, clf__alpha=0.001, clf__hidden_layer_sizes=(30, 30, 30), clf__learning_rate=invscaling, clf__solver=lbfgs \n",
      "[CV]  clf__activation=tanh, clf__alpha=0.001, clf__hidden_layer_sizes=(30, 30, 30), clf__learning_rate=invscaling, clf__solver=lbfgs, total=   0.9s\n",
      "[CV] clf__activation=tanh, clf__alpha=0.001, clf__hidden_layer_sizes=(30, 30, 30), clf__learning_rate=invscaling, clf__solver=lbfgs \n",
      "[CV]  clf__activation=tanh, clf__alpha=0.001, clf__hidden_layer_sizes=(30, 30, 30), clf__learning_rate=invscaling, clf__solver=lbfgs, total=   0.7s\n",
      "[CV] clf__activation=tanh, clf__alpha=0.001, clf__hidden_layer_sizes=(20, 20, 20), clf__learning_rate=constant, clf__solver=lbfgs \n",
      "[CV]  clf__activation=tanh, clf__alpha=0.001, clf__hidden_layer_sizes=(20, 20, 20), clf__learning_rate=constant, clf__solver=lbfgs, total=   0.4s\n",
      "[CV] clf__activation=tanh, clf__alpha=0.001, clf__hidden_layer_sizes=(20, 20, 20), clf__learning_rate=constant, clf__solver=lbfgs \n",
      "[CV]  clf__activation=tanh, clf__alpha=0.001, clf__hidden_layer_sizes=(20, 20, 20), clf__learning_rate=constant, clf__solver=lbfgs, total=   0.2s\n",
      "[CV] clf__activation=tanh, clf__alpha=0.001, clf__hidden_layer_sizes=(20, 20, 20), clf__learning_rate=constant, clf__solver=lbfgs \n",
      "[CV]  clf__activation=tanh, clf__alpha=0.001, clf__hidden_layer_sizes=(20, 20, 20), clf__learning_rate=constant, clf__solver=lbfgs, total=   1.0s\n",
      "[CV] clf__activation=tanh, clf__alpha=0.001, clf__hidden_layer_sizes=(20, 20, 20), clf__learning_rate=invscaling, clf__solver=lbfgs \n"
     ]
    },
    {
     "name": "stderr",
     "output_type": "stream",
     "text": [
      "/root/anaconda3/envs/learn-ml/lib/python3.6/site-packages/sklearn/neural_network/_multilayer_perceptron.py:470: ConvergenceWarning: lbfgs failed to converge (status=2):\n",
      "ABNORMAL_TERMINATION_IN_LNSRCH.\n",
      "\n",
      "Increase the number of iterations (max_iter) or scale the data as shown in:\n",
      "    https://scikit-learn.org/stable/modules/preprocessing.html\n",
      "  self.n_iter_ = _check_optimize_result(\"lbfgs\", opt_res, self.max_iter)\n"
     ]
    },
    {
     "name": "stdout",
     "output_type": "stream",
     "text": [
      "[CV]  clf__activation=tanh, clf__alpha=0.001, clf__hidden_layer_sizes=(20, 20, 20), clf__learning_rate=invscaling, clf__solver=lbfgs, total=   0.6s\n",
      "[CV] clf__activation=tanh, clf__alpha=0.001, clf__hidden_layer_sizes=(20, 20, 20), clf__learning_rate=invscaling, clf__solver=lbfgs \n",
      "[CV]  clf__activation=tanh, clf__alpha=0.001, clf__hidden_layer_sizes=(20, 20, 20), clf__learning_rate=invscaling, clf__solver=lbfgs, total=   0.4s\n",
      "[CV] clf__activation=tanh, clf__alpha=0.001, clf__hidden_layer_sizes=(20, 20, 20), clf__learning_rate=invscaling, clf__solver=lbfgs \n",
      "[CV]  clf__activation=tanh, clf__alpha=0.001, clf__hidden_layer_sizes=(20, 20, 20), clf__learning_rate=invscaling, clf__solver=lbfgs, total=   0.3s\n",
      "[CV] clf__activation=tanh, clf__alpha=0.001, clf__hidden_layer_sizes=(15, 15, 15), clf__learning_rate=constant, clf__solver=lbfgs \n",
      "[CV]  clf__activation=tanh, clf__alpha=0.001, clf__hidden_layer_sizes=(15, 15, 15), clf__learning_rate=constant, clf__solver=lbfgs, total=   0.6s\n",
      "[CV] clf__activation=tanh, clf__alpha=0.001, clf__hidden_layer_sizes=(15, 15, 15), clf__learning_rate=constant, clf__solver=lbfgs \n",
      "[CV]  clf__activation=tanh, clf__alpha=0.001, clf__hidden_layer_sizes=(15, 15, 15), clf__learning_rate=constant, clf__solver=lbfgs, total=   0.1s\n",
      "[CV] clf__activation=tanh, clf__alpha=0.001, clf__hidden_layer_sizes=(15, 15, 15), clf__learning_rate=constant, clf__solver=lbfgs \n",
      "[CV]  clf__activation=tanh, clf__alpha=0.001, clf__hidden_layer_sizes=(15, 15, 15), clf__learning_rate=constant, clf__solver=lbfgs, total=   0.2s\n",
      "[CV] clf__activation=tanh, clf__alpha=0.001, clf__hidden_layer_sizes=(15, 15, 15), clf__learning_rate=invscaling, clf__solver=lbfgs \n",
      "[CV]  clf__activation=tanh, clf__alpha=0.001, clf__hidden_layer_sizes=(15, 15, 15), clf__learning_rate=invscaling, clf__solver=lbfgs, total=   0.6s\n",
      "[CV] clf__activation=tanh, clf__alpha=0.001, clf__hidden_layer_sizes=(15, 15, 15), clf__learning_rate=invscaling, clf__solver=lbfgs \n",
      "[CV]  clf__activation=tanh, clf__alpha=0.001, clf__hidden_layer_sizes=(15, 15, 15), clf__learning_rate=invscaling, clf__solver=lbfgs, total=   0.3s\n",
      "[CV] clf__activation=tanh, clf__alpha=0.001, clf__hidden_layer_sizes=(15, 15, 15), clf__learning_rate=invscaling, clf__solver=lbfgs \n",
      "[CV]  clf__activation=tanh, clf__alpha=0.001, clf__hidden_layer_sizes=(15, 15, 15), clf__learning_rate=invscaling, clf__solver=lbfgs, total=   0.1s\n",
      "[CV] clf__activation=tanh, clf__alpha=0.01, clf__hidden_layer_sizes=5, clf__learning_rate=constant, clf__solver=lbfgs \n",
      "[CV]  clf__activation=tanh, clf__alpha=0.01, clf__hidden_layer_sizes=5, clf__learning_rate=constant, clf__solver=lbfgs, total=   0.1s\n",
      "[CV] clf__activation=tanh, clf__alpha=0.01, clf__hidden_layer_sizes=5, clf__learning_rate=constant, clf__solver=lbfgs \n",
      "[CV]  clf__activation=tanh, clf__alpha=0.01, clf__hidden_layer_sizes=5, clf__learning_rate=constant, clf__solver=lbfgs, total=   0.2s\n",
      "[CV] clf__activation=tanh, clf__alpha=0.01, clf__hidden_layer_sizes=5, clf__learning_rate=constant, clf__solver=lbfgs \n",
      "[CV]  clf__activation=tanh, clf__alpha=0.01, clf__hidden_layer_sizes=5, clf__learning_rate=constant, clf__solver=lbfgs, total=   0.1s\n",
      "[CV] clf__activation=tanh, clf__alpha=0.01, clf__hidden_layer_sizes=5, clf__learning_rate=invscaling, clf__solver=lbfgs \n",
      "[CV]  clf__activation=tanh, clf__alpha=0.01, clf__hidden_layer_sizes=5, clf__learning_rate=invscaling, clf__solver=lbfgs, total=   0.1s\n",
      "[CV] clf__activation=tanh, clf__alpha=0.01, clf__hidden_layer_sizes=5, clf__learning_rate=invscaling, clf__solver=lbfgs \n"
     ]
    },
    {
     "name": "stderr",
     "output_type": "stream",
     "text": [
      "/root/anaconda3/envs/learn-ml/lib/python3.6/site-packages/sklearn/neural_network/_multilayer_perceptron.py:470: ConvergenceWarning: lbfgs failed to converge (status=2):\n",
      "ABNORMAL_TERMINATION_IN_LNSRCH.\n",
      "\n",
      "Increase the number of iterations (max_iter) or scale the data as shown in:\n",
      "    https://scikit-learn.org/stable/modules/preprocessing.html\n",
      "  self.n_iter_ = _check_optimize_result(\"lbfgs\", opt_res, self.max_iter)\n"
     ]
    },
    {
     "name": "stdout",
     "output_type": "stream",
     "text": [
      "[CV]  clf__activation=tanh, clf__alpha=0.01, clf__hidden_layer_sizes=5, clf__learning_rate=invscaling, clf__solver=lbfgs, total=   0.1s\n",
      "[CV] clf__activation=tanh, clf__alpha=0.01, clf__hidden_layer_sizes=5, clf__learning_rate=invscaling, clf__solver=lbfgs \n",
      "[CV]  clf__activation=tanh, clf__alpha=0.01, clf__hidden_layer_sizes=5, clf__learning_rate=invscaling, clf__solver=lbfgs, total=   0.1s\n",
      "[CV] clf__activation=tanh, clf__alpha=0.01, clf__hidden_layer_sizes=(10, 10), clf__learning_rate=constant, clf__solver=lbfgs \n",
      "[CV]  clf__activation=tanh, clf__alpha=0.01, clf__hidden_layer_sizes=(10, 10), clf__learning_rate=constant, clf__solver=lbfgs, total=   0.0s\n",
      "[CV] clf__activation=tanh, clf__alpha=0.01, clf__hidden_layer_sizes=(10, 10), clf__learning_rate=constant, clf__solver=lbfgs \n",
      "[CV]  clf__activation=tanh, clf__alpha=0.01, clf__hidden_layer_sizes=(10, 10), clf__learning_rate=constant, clf__solver=lbfgs, total=   0.3s\n",
      "[CV] clf__activation=tanh, clf__alpha=0.01, clf__hidden_layer_sizes=(10, 10), clf__learning_rate=constant, clf__solver=lbfgs \n",
      "[CV]  clf__activation=tanh, clf__alpha=0.01, clf__hidden_layer_sizes=(10, 10), clf__learning_rate=constant, clf__solver=lbfgs, total=   0.2s\n",
      "[CV] clf__activation=tanh, clf__alpha=0.01, clf__hidden_layer_sizes=(10, 10), clf__learning_rate=invscaling, clf__solver=lbfgs \n",
      "[CV]  clf__activation=tanh, clf__alpha=0.01, clf__hidden_layer_sizes=(10, 10), clf__learning_rate=invscaling, clf__solver=lbfgs, total=   0.5s\n",
      "[CV] clf__activation=tanh, clf__alpha=0.01, clf__hidden_layer_sizes=(10, 10), clf__learning_rate=invscaling, clf__solver=lbfgs \n",
      "[CV]  clf__activation=tanh, clf__alpha=0.01, clf__hidden_layer_sizes=(10, 10), clf__learning_rate=invscaling, clf__solver=lbfgs, total=   0.1s\n",
      "[CV] clf__activation=tanh, clf__alpha=0.01, clf__hidden_layer_sizes=(10, 10), clf__learning_rate=invscaling, clf__solver=lbfgs \n"
     ]
    },
    {
     "name": "stderr",
     "output_type": "stream",
     "text": [
      "/root/anaconda3/envs/learn-ml/lib/python3.6/site-packages/sklearn/neural_network/_multilayer_perceptron.py:470: ConvergenceWarning: lbfgs failed to converge (status=2):\n",
      "ABNORMAL_TERMINATION_IN_LNSRCH.\n",
      "\n",
      "Increase the number of iterations (max_iter) or scale the data as shown in:\n",
      "    https://scikit-learn.org/stable/modules/preprocessing.html\n",
      "  self.n_iter_ = _check_optimize_result(\"lbfgs\", opt_res, self.max_iter)\n"
     ]
    },
    {
     "name": "stdout",
     "output_type": "stream",
     "text": [
      "[CV]  clf__activation=tanh, clf__alpha=0.01, clf__hidden_layer_sizes=(10, 10), clf__learning_rate=invscaling, clf__solver=lbfgs, total=   0.5s\n",
      "[CV] clf__activation=tanh, clf__alpha=0.01, clf__hidden_layer_sizes=(7, 7, 7), clf__learning_rate=constant, clf__solver=lbfgs \n",
      "[CV]  clf__activation=tanh, clf__alpha=0.01, clf__hidden_layer_sizes=(7, 7, 7), clf__learning_rate=constant, clf__solver=lbfgs, total=   0.2s\n",
      "[CV] clf__activation=tanh, clf__alpha=0.01, clf__hidden_layer_sizes=(7, 7, 7), clf__learning_rate=constant, clf__solver=lbfgs \n",
      "[CV]  clf__activation=tanh, clf__alpha=0.01, clf__hidden_layer_sizes=(7, 7, 7), clf__learning_rate=constant, clf__solver=lbfgs, total=   0.2s\n",
      "[CV] clf__activation=tanh, clf__alpha=0.01, clf__hidden_layer_sizes=(7, 7, 7), clf__learning_rate=constant, clf__solver=lbfgs \n",
      "[CV]  clf__activation=tanh, clf__alpha=0.01, clf__hidden_layer_sizes=(7, 7, 7), clf__learning_rate=constant, clf__solver=lbfgs, total=   0.1s\n",
      "[CV] clf__activation=tanh, clf__alpha=0.01, clf__hidden_layer_sizes=(7, 7, 7), clf__learning_rate=invscaling, clf__solver=lbfgs \n",
      "[CV]  clf__activation=tanh, clf__alpha=0.01, clf__hidden_layer_sizes=(7, 7, 7), clf__learning_rate=invscaling, clf__solver=lbfgs, total=   0.1s\n",
      "[CV] clf__activation=tanh, clf__alpha=0.01, clf__hidden_layer_sizes=(7, 7, 7), clf__learning_rate=invscaling, clf__solver=lbfgs \n",
      "[CV]  clf__activation=tanh, clf__alpha=0.01, clf__hidden_layer_sizes=(7, 7, 7), clf__learning_rate=invscaling, clf__solver=lbfgs, total=   0.1s\n",
      "[CV] clf__activation=tanh, clf__alpha=0.01, clf__hidden_layer_sizes=(7, 7, 7), clf__learning_rate=invscaling, clf__solver=lbfgs \n",
      "[CV]  clf__activation=tanh, clf__alpha=0.01, clf__hidden_layer_sizes=(7, 7, 7), clf__learning_rate=invscaling, clf__solver=lbfgs, total=   0.2s\n",
      "[CV] clf__activation=tanh, clf__alpha=0.01, clf__hidden_layer_sizes=(20, 20, 20, 20), clf__learning_rate=constant, clf__solver=lbfgs \n",
      "[CV]  clf__activation=tanh, clf__alpha=0.01, clf__hidden_layer_sizes=(20, 20, 20, 20), clf__learning_rate=constant, clf__solver=lbfgs, total=   1.4s\n",
      "[CV] clf__activation=tanh, clf__alpha=0.01, clf__hidden_layer_sizes=(20, 20, 20, 20), clf__learning_rate=constant, clf__solver=lbfgs \n",
      "[CV]  clf__activation=tanh, clf__alpha=0.01, clf__hidden_layer_sizes=(20, 20, 20, 20), clf__learning_rate=constant, clf__solver=lbfgs, total=   1.3s\n",
      "[CV] clf__activation=tanh, clf__alpha=0.01, clf__hidden_layer_sizes=(20, 20, 20, 20), clf__learning_rate=constant, clf__solver=lbfgs \n",
      "[CV]  clf__activation=tanh, clf__alpha=0.01, clf__hidden_layer_sizes=(20, 20, 20, 20), clf__learning_rate=constant, clf__solver=lbfgs, total=   2.1s\n",
      "[CV] clf__activation=tanh, clf__alpha=0.01, clf__hidden_layer_sizes=(20, 20, 20, 20), clf__learning_rate=invscaling, clf__solver=lbfgs \n",
      "[CV]  clf__activation=tanh, clf__alpha=0.01, clf__hidden_layer_sizes=(20, 20, 20, 20), clf__learning_rate=invscaling, clf__solver=lbfgs, total=   1.6s\n",
      "[CV] clf__activation=tanh, clf__alpha=0.01, clf__hidden_layer_sizes=(20, 20, 20, 20), clf__learning_rate=invscaling, clf__solver=lbfgs \n",
      "[CV]  clf__activation=tanh, clf__alpha=0.01, clf__hidden_layer_sizes=(20, 20, 20, 20), clf__learning_rate=invscaling, clf__solver=lbfgs, total=   0.4s\n",
      "[CV] clf__activation=tanh, clf__alpha=0.01, clf__hidden_layer_sizes=(20, 20, 20, 20), clf__learning_rate=invscaling, clf__solver=lbfgs \n",
      "[CV]  clf__activation=tanh, clf__alpha=0.01, clf__hidden_layer_sizes=(20, 20, 20, 20), clf__learning_rate=invscaling, clf__solver=lbfgs, total=   0.5s\n",
      "[CV] clf__activation=tanh, clf__alpha=0.01, clf__hidden_layer_sizes=(30, 30, 30), clf__learning_rate=constant, clf__solver=lbfgs \n",
      "[CV]  clf__activation=tanh, clf__alpha=0.01, clf__hidden_layer_sizes=(30, 30, 30), clf__learning_rate=constant, clf__solver=lbfgs, total=   1.3s\n",
      "[CV] clf__activation=tanh, clf__alpha=0.01, clf__hidden_layer_sizes=(30, 30, 30), clf__learning_rate=constant, clf__solver=lbfgs \n"
     ]
    },
    {
     "name": "stderr",
     "output_type": "stream",
     "text": [
      "/root/anaconda3/envs/learn-ml/lib/python3.6/site-packages/sklearn/neural_network/_multilayer_perceptron.py:470: ConvergenceWarning: lbfgs failed to converge (status=2):\n",
      "ABNORMAL_TERMINATION_IN_LNSRCH.\n",
      "\n",
      "Increase the number of iterations (max_iter) or scale the data as shown in:\n",
      "    https://scikit-learn.org/stable/modules/preprocessing.html\n",
      "  self.n_iter_ = _check_optimize_result(\"lbfgs\", opt_res, self.max_iter)\n"
     ]
    },
    {
     "name": "stdout",
     "output_type": "stream",
     "text": [
      "[CV]  clf__activation=tanh, clf__alpha=0.01, clf__hidden_layer_sizes=(30, 30, 30), clf__learning_rate=constant, clf__solver=lbfgs, total=   2.9s\n",
      "[CV] clf__activation=tanh, clf__alpha=0.01, clf__hidden_layer_sizes=(30, 30, 30), clf__learning_rate=constant, clf__solver=lbfgs \n",
      "[CV]  clf__activation=tanh, clf__alpha=0.01, clf__hidden_layer_sizes=(30, 30, 30), clf__learning_rate=constant, clf__solver=lbfgs, total=   2.6s\n",
      "[CV] clf__activation=tanh, clf__alpha=0.01, clf__hidden_layer_sizes=(30, 30, 30), clf__learning_rate=invscaling, clf__solver=lbfgs \n",
      "[CV]  clf__activation=tanh, clf__alpha=0.01, clf__hidden_layer_sizes=(30, 30, 30), clf__learning_rate=invscaling, clf__solver=lbfgs, total=   0.7s\n",
      "[CV] clf__activation=tanh, clf__alpha=0.01, clf__hidden_layer_sizes=(30, 30, 30), clf__learning_rate=invscaling, clf__solver=lbfgs \n",
      "[CV]  clf__activation=tanh, clf__alpha=0.01, clf__hidden_layer_sizes=(30, 30, 30), clf__learning_rate=invscaling, clf__solver=lbfgs, total=   0.9s\n",
      "[CV] clf__activation=tanh, clf__alpha=0.01, clf__hidden_layer_sizes=(30, 30, 30), clf__learning_rate=invscaling, clf__solver=lbfgs \n",
      "[CV]  clf__activation=tanh, clf__alpha=0.01, clf__hidden_layer_sizes=(30, 30, 30), clf__learning_rate=invscaling, clf__solver=lbfgs, total=   0.6s\n",
      "[CV] clf__activation=tanh, clf__alpha=0.01, clf__hidden_layer_sizes=(20, 20, 20), clf__learning_rate=constant, clf__solver=lbfgs \n",
      "[CV]  clf__activation=tanh, clf__alpha=0.01, clf__hidden_layer_sizes=(20, 20, 20), clf__learning_rate=constant, clf__solver=lbfgs, total=   0.4s\n",
      "[CV] clf__activation=tanh, clf__alpha=0.01, clf__hidden_layer_sizes=(20, 20, 20), clf__learning_rate=constant, clf__solver=lbfgs \n"
     ]
    },
    {
     "name": "stderr",
     "output_type": "stream",
     "text": [
      "/root/anaconda3/envs/learn-ml/lib/python3.6/site-packages/sklearn/neural_network/_multilayer_perceptron.py:470: ConvergenceWarning: lbfgs failed to converge (status=2):\n",
      "ABNORMAL_TERMINATION_IN_LNSRCH.\n",
      "\n",
      "Increase the number of iterations (max_iter) or scale the data as shown in:\n",
      "    https://scikit-learn.org/stable/modules/preprocessing.html\n",
      "  self.n_iter_ = _check_optimize_result(\"lbfgs\", opt_res, self.max_iter)\n"
     ]
    },
    {
     "name": "stdout",
     "output_type": "stream",
     "text": [
      "[CV]  clf__activation=tanh, clf__alpha=0.01, clf__hidden_layer_sizes=(20, 20, 20), clf__learning_rate=constant, clf__solver=lbfgs, total=   1.1s\n",
      "[CV] clf__activation=tanh, clf__alpha=0.01, clf__hidden_layer_sizes=(20, 20, 20), clf__learning_rate=constant, clf__solver=lbfgs \n",
      "[CV]  clf__activation=tanh, clf__alpha=0.01, clf__hidden_layer_sizes=(20, 20, 20), clf__learning_rate=constant, clf__solver=lbfgs, total=   0.3s\n",
      "[CV] clf__activation=tanh, clf__alpha=0.01, clf__hidden_layer_sizes=(20, 20, 20), clf__learning_rate=invscaling, clf__solver=lbfgs \n",
      "[CV]  clf__activation=tanh, clf__alpha=0.01, clf__hidden_layer_sizes=(20, 20, 20), clf__learning_rate=invscaling, clf__solver=lbfgs, total=   0.6s\n",
      "[CV] clf__activation=tanh, clf__alpha=0.01, clf__hidden_layer_sizes=(20, 20, 20), clf__learning_rate=invscaling, clf__solver=lbfgs \n"
     ]
    },
    {
     "name": "stderr",
     "output_type": "stream",
     "text": [
      "/root/anaconda3/envs/learn-ml/lib/python3.6/site-packages/sklearn/neural_network/_multilayer_perceptron.py:470: ConvergenceWarning: lbfgs failed to converge (status=2):\n",
      "ABNORMAL_TERMINATION_IN_LNSRCH.\n",
      "\n",
      "Increase the number of iterations (max_iter) or scale the data as shown in:\n",
      "    https://scikit-learn.org/stable/modules/preprocessing.html\n",
      "  self.n_iter_ = _check_optimize_result(\"lbfgs\", opt_res, self.max_iter)\n"
     ]
    },
    {
     "name": "stdout",
     "output_type": "stream",
     "text": [
      "[CV]  clf__activation=tanh, clf__alpha=0.01, clf__hidden_layer_sizes=(20, 20, 20), clf__learning_rate=invscaling, clf__solver=lbfgs, total=   0.8s\n",
      "[CV] clf__activation=tanh, clf__alpha=0.01, clf__hidden_layer_sizes=(20, 20, 20), clf__learning_rate=invscaling, clf__solver=lbfgs \n",
      "[CV]  clf__activation=tanh, clf__alpha=0.01, clf__hidden_layer_sizes=(20, 20, 20), clf__learning_rate=invscaling, clf__solver=lbfgs, total=   0.8s\n",
      "[CV] clf__activation=tanh, clf__alpha=0.01, clf__hidden_layer_sizes=(15, 15, 15), clf__learning_rate=constant, clf__solver=lbfgs \n",
      "[CV]  clf__activation=tanh, clf__alpha=0.01, clf__hidden_layer_sizes=(15, 15, 15), clf__learning_rate=constant, clf__solver=lbfgs, total=   0.3s\n",
      "[CV] clf__activation=tanh, clf__alpha=0.01, clf__hidden_layer_sizes=(15, 15, 15), clf__learning_rate=constant, clf__solver=lbfgs \n",
      "[CV]  clf__activation=tanh, clf__alpha=0.01, clf__hidden_layer_sizes=(15, 15, 15), clf__learning_rate=constant, clf__solver=lbfgs, total=   0.3s\n",
      "[CV] clf__activation=tanh, clf__alpha=0.01, clf__hidden_layer_sizes=(15, 15, 15), clf__learning_rate=constant, clf__solver=lbfgs \n",
      "[CV]  clf__activation=tanh, clf__alpha=0.01, clf__hidden_layer_sizes=(15, 15, 15), clf__learning_rate=constant, clf__solver=lbfgs, total=   0.3s\n",
      "[CV] clf__activation=tanh, clf__alpha=0.01, clf__hidden_layer_sizes=(15, 15, 15), clf__learning_rate=invscaling, clf__solver=lbfgs \n",
      "[CV]  clf__activation=tanh, clf__alpha=0.01, clf__hidden_layer_sizes=(15, 15, 15), clf__learning_rate=invscaling, clf__solver=lbfgs, total=   0.2s\n",
      "[CV] clf__activation=tanh, clf__alpha=0.01, clf__hidden_layer_sizes=(15, 15, 15), clf__learning_rate=invscaling, clf__solver=lbfgs \n",
      "[CV]  clf__activation=tanh, clf__alpha=0.01, clf__hidden_layer_sizes=(15, 15, 15), clf__learning_rate=invscaling, clf__solver=lbfgs, total=   0.8s\n",
      "[CV] clf__activation=tanh, clf__alpha=0.01, clf__hidden_layer_sizes=(15, 15, 15), clf__learning_rate=invscaling, clf__solver=lbfgs \n",
      "[CV]  clf__activation=tanh, clf__alpha=0.01, clf__hidden_layer_sizes=(15, 15, 15), clf__learning_rate=invscaling, clf__solver=lbfgs, total=   0.7s\n",
      "[CV] clf__activation=tanh, clf__alpha=0.1, clf__hidden_layer_sizes=5, clf__learning_rate=constant, clf__solver=lbfgs \n",
      "[CV]  clf__activation=tanh, clf__alpha=0.1, clf__hidden_layer_sizes=5, clf__learning_rate=constant, clf__solver=lbfgs, total=   0.3s\n",
      "[CV] clf__activation=tanh, clf__alpha=0.1, clf__hidden_layer_sizes=5, clf__learning_rate=constant, clf__solver=lbfgs \n",
      "[CV]  clf__activation=tanh, clf__alpha=0.1, clf__hidden_layer_sizes=5, clf__learning_rate=constant, clf__solver=lbfgs, total=   0.1s\n",
      "[CV] clf__activation=tanh, clf__alpha=0.1, clf__hidden_layer_sizes=5, clf__learning_rate=constant, clf__solver=lbfgs \n",
      "[CV]  clf__activation=tanh, clf__alpha=0.1, clf__hidden_layer_sizes=5, clf__learning_rate=constant, clf__solver=lbfgs, total=   0.2s\n",
      "[CV] clf__activation=tanh, clf__alpha=0.1, clf__hidden_layer_sizes=5, clf__learning_rate=invscaling, clf__solver=lbfgs \n",
      "[CV]  clf__activation=tanh, clf__alpha=0.1, clf__hidden_layer_sizes=5, clf__learning_rate=invscaling, clf__solver=lbfgs, total=   0.1s\n",
      "[CV] clf__activation=tanh, clf__alpha=0.1, clf__hidden_layer_sizes=5, clf__learning_rate=invscaling, clf__solver=lbfgs \n",
      "[CV]  clf__activation=tanh, clf__alpha=0.1, clf__hidden_layer_sizes=5, clf__learning_rate=invscaling, clf__solver=lbfgs, total=   0.1s\n",
      "[CV] clf__activation=tanh, clf__alpha=0.1, clf__hidden_layer_sizes=5, clf__learning_rate=invscaling, clf__solver=lbfgs \n",
      "[CV]  clf__activation=tanh, clf__alpha=0.1, clf__hidden_layer_sizes=5, clf__learning_rate=invscaling, clf__solver=lbfgs, total=   0.3s\n",
      "[CV] clf__activation=tanh, clf__alpha=0.1, clf__hidden_layer_sizes=(10, 10), clf__learning_rate=constant, clf__solver=lbfgs \n",
      "[CV]  clf__activation=tanh, clf__alpha=0.1, clf__hidden_layer_sizes=(10, 10), clf__learning_rate=constant, clf__solver=lbfgs, total=   0.2s\n",
      "[CV] clf__activation=tanh, clf__alpha=0.1, clf__hidden_layer_sizes=(10, 10), clf__learning_rate=constant, clf__solver=lbfgs \n",
      "[CV]  clf__activation=tanh, clf__alpha=0.1, clf__hidden_layer_sizes=(10, 10), clf__learning_rate=constant, clf__solver=lbfgs, total=   0.4s\n",
      "[CV] clf__activation=tanh, clf__alpha=0.1, clf__hidden_layer_sizes=(10, 10), clf__learning_rate=constant, clf__solver=lbfgs \n"
     ]
    },
    {
     "name": "stderr",
     "output_type": "stream",
     "text": [
      "/root/anaconda3/envs/learn-ml/lib/python3.6/site-packages/sklearn/neural_network/_multilayer_perceptron.py:470: ConvergenceWarning: lbfgs failed to converge (status=2):\n",
      "ABNORMAL_TERMINATION_IN_LNSRCH.\n",
      "\n",
      "Increase the number of iterations (max_iter) or scale the data as shown in:\n",
      "    https://scikit-learn.org/stable/modules/preprocessing.html\n",
      "  self.n_iter_ = _check_optimize_result(\"lbfgs\", opt_res, self.max_iter)\n"
     ]
    },
    {
     "name": "stdout",
     "output_type": "stream",
     "text": [
      "[CV]  clf__activation=tanh, clf__alpha=0.1, clf__hidden_layer_sizes=(10, 10), clf__learning_rate=constant, clf__solver=lbfgs, total=   0.2s\n",
      "[CV] clf__activation=tanh, clf__alpha=0.1, clf__hidden_layer_sizes=(10, 10), clf__learning_rate=invscaling, clf__solver=lbfgs \n",
      "[CV]  clf__activation=tanh, clf__alpha=0.1, clf__hidden_layer_sizes=(10, 10), clf__learning_rate=invscaling, clf__solver=lbfgs, total=   0.2s\n",
      "[CV] clf__activation=tanh, clf__alpha=0.1, clf__hidden_layer_sizes=(10, 10), clf__learning_rate=invscaling, clf__solver=lbfgs \n",
      "[CV]  clf__activation=tanh, clf__alpha=0.1, clf__hidden_layer_sizes=(10, 10), clf__learning_rate=invscaling, clf__solver=lbfgs, total=   0.3s\n",
      "[CV] clf__activation=tanh, clf__alpha=0.1, clf__hidden_layer_sizes=(10, 10), clf__learning_rate=invscaling, clf__solver=lbfgs \n",
      "[CV]  clf__activation=tanh, clf__alpha=0.1, clf__hidden_layer_sizes=(10, 10), clf__learning_rate=invscaling, clf__solver=lbfgs, total=   0.2s\n",
      "[CV] clf__activation=tanh, clf__alpha=0.1, clf__hidden_layer_sizes=(7, 7, 7), clf__learning_rate=constant, clf__solver=lbfgs \n",
      "[CV]  clf__activation=tanh, clf__alpha=0.1, clf__hidden_layer_sizes=(7, 7, 7), clf__learning_rate=constant, clf__solver=lbfgs, total=   0.1s\n",
      "[CV] clf__activation=tanh, clf__alpha=0.1, clf__hidden_layer_sizes=(7, 7, 7), clf__learning_rate=constant, clf__solver=lbfgs \n",
      "[CV]  clf__activation=tanh, clf__alpha=0.1, clf__hidden_layer_sizes=(7, 7, 7), clf__learning_rate=constant, clf__solver=lbfgs, total=   0.1s\n",
      "[CV] clf__activation=tanh, clf__alpha=0.1, clf__hidden_layer_sizes=(7, 7, 7), clf__learning_rate=constant, clf__solver=lbfgs \n",
      "[CV]  clf__activation=tanh, clf__alpha=0.1, clf__hidden_layer_sizes=(7, 7, 7), clf__learning_rate=constant, clf__solver=lbfgs, total=   0.1s\n",
      "[CV] clf__activation=tanh, clf__alpha=0.1, clf__hidden_layer_sizes=(7, 7, 7), clf__learning_rate=invscaling, clf__solver=lbfgs \n",
      "[CV]  clf__activation=tanh, clf__alpha=0.1, clf__hidden_layer_sizes=(7, 7, 7), clf__learning_rate=invscaling, clf__solver=lbfgs, total=   0.5s\n",
      "[CV] clf__activation=tanh, clf__alpha=0.1, clf__hidden_layer_sizes=(7, 7, 7), clf__learning_rate=invscaling, clf__solver=lbfgs \n",
      "[CV]  clf__activation=tanh, clf__alpha=0.1, clf__hidden_layer_sizes=(7, 7, 7), clf__learning_rate=invscaling, clf__solver=lbfgs, total=   0.1s\n",
      "[CV] clf__activation=tanh, clf__alpha=0.1, clf__hidden_layer_sizes=(7, 7, 7), clf__learning_rate=invscaling, clf__solver=lbfgs \n"
     ]
    },
    {
     "name": "stderr",
     "output_type": "stream",
     "text": [
      "/root/anaconda3/envs/learn-ml/lib/python3.6/site-packages/sklearn/neural_network/_multilayer_perceptron.py:470: ConvergenceWarning: lbfgs failed to converge (status=2):\n",
      "ABNORMAL_TERMINATION_IN_LNSRCH.\n",
      "\n",
      "Increase the number of iterations (max_iter) or scale the data as shown in:\n",
      "    https://scikit-learn.org/stable/modules/preprocessing.html\n",
      "  self.n_iter_ = _check_optimize_result(\"lbfgs\", opt_res, self.max_iter)\n"
     ]
    },
    {
     "name": "stdout",
     "output_type": "stream",
     "text": [
      "[CV]  clf__activation=tanh, clf__alpha=0.1, clf__hidden_layer_sizes=(7, 7, 7), clf__learning_rate=invscaling, clf__solver=lbfgs, total=   0.4s\n",
      "[CV] clf__activation=tanh, clf__alpha=0.1, clf__hidden_layer_sizes=(20, 20, 20, 20), clf__learning_rate=constant, clf__solver=lbfgs \n",
      "[CV]  clf__activation=tanh, clf__alpha=0.1, clf__hidden_layer_sizes=(20, 20, 20, 20), clf__learning_rate=constant, clf__solver=lbfgs, total=   0.8s\n",
      "[CV] clf__activation=tanh, clf__alpha=0.1, clf__hidden_layer_sizes=(20, 20, 20, 20), clf__learning_rate=constant, clf__solver=lbfgs \n",
      "[CV]  clf__activation=tanh, clf__alpha=0.1, clf__hidden_layer_sizes=(20, 20, 20, 20), clf__learning_rate=constant, clf__solver=lbfgs, total=   0.4s\n",
      "[CV] clf__activation=tanh, clf__alpha=0.1, clf__hidden_layer_sizes=(20, 20, 20, 20), clf__learning_rate=constant, clf__solver=lbfgs \n",
      "[CV]  clf__activation=tanh, clf__alpha=0.1, clf__hidden_layer_sizes=(20, 20, 20, 20), clf__learning_rate=constant, clf__solver=lbfgs, total=   0.4s\n",
      "[CV] clf__activation=tanh, clf__alpha=0.1, clf__hidden_layer_sizes=(20, 20, 20, 20), clf__learning_rate=invscaling, clf__solver=lbfgs \n",
      "[CV]  clf__activation=tanh, clf__alpha=0.1, clf__hidden_layer_sizes=(20, 20, 20, 20), clf__learning_rate=invscaling, clf__solver=lbfgs, total=   0.8s\n",
      "[CV] clf__activation=tanh, clf__alpha=0.1, clf__hidden_layer_sizes=(20, 20, 20, 20), clf__learning_rate=invscaling, clf__solver=lbfgs \n",
      "[CV]  clf__activation=tanh, clf__alpha=0.1, clf__hidden_layer_sizes=(20, 20, 20, 20), clf__learning_rate=invscaling, clf__solver=lbfgs, total=   1.1s\n",
      "[CV] clf__activation=tanh, clf__alpha=0.1, clf__hidden_layer_sizes=(20, 20, 20, 20), clf__learning_rate=invscaling, clf__solver=lbfgs \n",
      "[CV]  clf__activation=tanh, clf__alpha=0.1, clf__hidden_layer_sizes=(20, 20, 20, 20), clf__learning_rate=invscaling, clf__solver=lbfgs, total=   0.9s\n",
      "[CV] clf__activation=tanh, clf__alpha=0.1, clf__hidden_layer_sizes=(30, 30, 30), clf__learning_rate=constant, clf__solver=lbfgs \n",
      "[CV]  clf__activation=tanh, clf__alpha=0.1, clf__hidden_layer_sizes=(30, 30, 30), clf__learning_rate=constant, clf__solver=lbfgs, total=   1.0s\n",
      "[CV] clf__activation=tanh, clf__alpha=0.1, clf__hidden_layer_sizes=(30, 30, 30), clf__learning_rate=constant, clf__solver=lbfgs \n",
      "[CV]  clf__activation=tanh, clf__alpha=0.1, clf__hidden_layer_sizes=(30, 30, 30), clf__learning_rate=constant, clf__solver=lbfgs, total=   0.7s\n",
      "[CV] clf__activation=tanh, clf__alpha=0.1, clf__hidden_layer_sizes=(30, 30, 30), clf__learning_rate=constant, clf__solver=lbfgs \n",
      "[CV]  clf__activation=tanh, clf__alpha=0.1, clf__hidden_layer_sizes=(30, 30, 30), clf__learning_rate=constant, clf__solver=lbfgs, total=   0.5s\n",
      "[CV] clf__activation=tanh, clf__alpha=0.1, clf__hidden_layer_sizes=(30, 30, 30), clf__learning_rate=invscaling, clf__solver=lbfgs \n",
      "[CV]  clf__activation=tanh, clf__alpha=0.1, clf__hidden_layer_sizes=(30, 30, 30), clf__learning_rate=invscaling, clf__solver=lbfgs, total=   1.2s\n",
      "[CV] clf__activation=tanh, clf__alpha=0.1, clf__hidden_layer_sizes=(30, 30, 30), clf__learning_rate=invscaling, clf__solver=lbfgs \n"
     ]
    },
    {
     "name": "stderr",
     "output_type": "stream",
     "text": [
      "/root/anaconda3/envs/learn-ml/lib/python3.6/site-packages/sklearn/neural_network/_multilayer_perceptron.py:470: ConvergenceWarning: lbfgs failed to converge (status=2):\n",
      "ABNORMAL_TERMINATION_IN_LNSRCH.\n",
      "\n",
      "Increase the number of iterations (max_iter) or scale the data as shown in:\n",
      "    https://scikit-learn.org/stable/modules/preprocessing.html\n",
      "  self.n_iter_ = _check_optimize_result(\"lbfgs\", opt_res, self.max_iter)\n"
     ]
    },
    {
     "name": "stdout",
     "output_type": "stream",
     "text": [
      "[CV]  clf__activation=tanh, clf__alpha=0.1, clf__hidden_layer_sizes=(30, 30, 30), clf__learning_rate=invscaling, clf__solver=lbfgs, total=   1.4s\n",
      "[CV] clf__activation=tanh, clf__alpha=0.1, clf__hidden_layer_sizes=(30, 30, 30), clf__learning_rate=invscaling, clf__solver=lbfgs \n",
      "[CV]  clf__activation=tanh, clf__alpha=0.1, clf__hidden_layer_sizes=(30, 30, 30), clf__learning_rate=invscaling, clf__solver=lbfgs, total=   1.1s\n",
      "[CV] clf__activation=tanh, clf__alpha=0.1, clf__hidden_layer_sizes=(20, 20, 20), clf__learning_rate=constant, clf__solver=lbfgs \n",
      "[CV]  clf__activation=tanh, clf__alpha=0.1, clf__hidden_layer_sizes=(20, 20, 20), clf__learning_rate=constant, clf__solver=lbfgs, total=   0.6s\n",
      "[CV] clf__activation=tanh, clf__alpha=0.1, clf__hidden_layer_sizes=(20, 20, 20), clf__learning_rate=constant, clf__solver=lbfgs \n"
     ]
    },
    {
     "name": "stderr",
     "output_type": "stream",
     "text": [
      "/root/anaconda3/envs/learn-ml/lib/python3.6/site-packages/sklearn/neural_network/_multilayer_perceptron.py:470: ConvergenceWarning: lbfgs failed to converge (status=2):\n",
      "ABNORMAL_TERMINATION_IN_LNSRCH.\n",
      "\n",
      "Increase the number of iterations (max_iter) or scale the data as shown in:\n",
      "    https://scikit-learn.org/stable/modules/preprocessing.html\n",
      "  self.n_iter_ = _check_optimize_result(\"lbfgs\", opt_res, self.max_iter)\n"
     ]
    },
    {
     "name": "stdout",
     "output_type": "stream",
     "text": [
      "[CV]  clf__activation=tanh, clf__alpha=0.1, clf__hidden_layer_sizes=(20, 20, 20), clf__learning_rate=constant, clf__solver=lbfgs, total=   0.7s\n",
      "[CV] clf__activation=tanh, clf__alpha=0.1, clf__hidden_layer_sizes=(20, 20, 20), clf__learning_rate=constant, clf__solver=lbfgs \n",
      "[CV]  clf__activation=tanh, clf__alpha=0.1, clf__hidden_layer_sizes=(20, 20, 20), clf__learning_rate=constant, clf__solver=lbfgs, total=   0.6s\n",
      "[CV] clf__activation=tanh, clf__alpha=0.1, clf__hidden_layer_sizes=(20, 20, 20), clf__learning_rate=invscaling, clf__solver=lbfgs \n",
      "[CV]  clf__activation=tanh, clf__alpha=0.1, clf__hidden_layer_sizes=(20, 20, 20), clf__learning_rate=invscaling, clf__solver=lbfgs, total=   0.6s\n",
      "[CV] clf__activation=tanh, clf__alpha=0.1, clf__hidden_layer_sizes=(20, 20, 20), clf__learning_rate=invscaling, clf__solver=lbfgs \n"
     ]
    },
    {
     "name": "stderr",
     "output_type": "stream",
     "text": [
      "/root/anaconda3/envs/learn-ml/lib/python3.6/site-packages/sklearn/neural_network/_multilayer_perceptron.py:470: ConvergenceWarning: lbfgs failed to converge (status=2):\n",
      "ABNORMAL_TERMINATION_IN_LNSRCH.\n",
      "\n",
      "Increase the number of iterations (max_iter) or scale the data as shown in:\n",
      "    https://scikit-learn.org/stable/modules/preprocessing.html\n",
      "  self.n_iter_ = _check_optimize_result(\"lbfgs\", opt_res, self.max_iter)\n"
     ]
    },
    {
     "name": "stdout",
     "output_type": "stream",
     "text": [
      "[CV]  clf__activation=tanh, clf__alpha=0.1, clf__hidden_layer_sizes=(20, 20, 20), clf__learning_rate=invscaling, clf__solver=lbfgs, total=   0.7s\n",
      "[CV] clf__activation=tanh, clf__alpha=0.1, clf__hidden_layer_sizes=(20, 20, 20), clf__learning_rate=invscaling, clf__solver=lbfgs \n",
      "[CV]  clf__activation=tanh, clf__alpha=0.1, clf__hidden_layer_sizes=(20, 20, 20), clf__learning_rate=invscaling, clf__solver=lbfgs, total=   0.2s\n",
      "[CV] clf__activation=tanh, clf__alpha=0.1, clf__hidden_layer_sizes=(15, 15, 15), clf__learning_rate=constant, clf__solver=lbfgs \n",
      "[CV]  clf__activation=tanh, clf__alpha=0.1, clf__hidden_layer_sizes=(15, 15, 15), clf__learning_rate=constant, clf__solver=lbfgs, total=   0.2s\n",
      "[CV] clf__activation=tanh, clf__alpha=0.1, clf__hidden_layer_sizes=(15, 15, 15), clf__learning_rate=constant, clf__solver=lbfgs \n",
      "[CV]  clf__activation=tanh, clf__alpha=0.1, clf__hidden_layer_sizes=(15, 15, 15), clf__learning_rate=constant, clf__solver=lbfgs, total=   1.3s\n",
      "[CV] clf__activation=tanh, clf__alpha=0.1, clf__hidden_layer_sizes=(15, 15, 15), clf__learning_rate=constant, clf__solver=lbfgs \n"
     ]
    },
    {
     "name": "stderr",
     "output_type": "stream",
     "text": [
      "/root/anaconda3/envs/learn-ml/lib/python3.6/site-packages/sklearn/neural_network/_multilayer_perceptron.py:470: ConvergenceWarning: lbfgs failed to converge (status=2):\n",
      "ABNORMAL_TERMINATION_IN_LNSRCH.\n",
      "\n",
      "Increase the number of iterations (max_iter) or scale the data as shown in:\n",
      "    https://scikit-learn.org/stable/modules/preprocessing.html\n",
      "  self.n_iter_ = _check_optimize_result(\"lbfgs\", opt_res, self.max_iter)\n"
     ]
    },
    {
     "name": "stdout",
     "output_type": "stream",
     "text": [
      "[CV]  clf__activation=tanh, clf__alpha=0.1, clf__hidden_layer_sizes=(15, 15, 15), clf__learning_rate=constant, clf__solver=lbfgs, total=   0.8s\n",
      "[CV] clf__activation=tanh, clf__alpha=0.1, clf__hidden_layer_sizes=(15, 15, 15), clf__learning_rate=invscaling, clf__solver=lbfgs \n",
      "[CV]  clf__activation=tanh, clf__alpha=0.1, clf__hidden_layer_sizes=(15, 15, 15), clf__learning_rate=invscaling, clf__solver=lbfgs, total=   0.8s\n",
      "[CV] clf__activation=tanh, clf__alpha=0.1, clf__hidden_layer_sizes=(15, 15, 15), clf__learning_rate=invscaling, clf__solver=lbfgs \n"
     ]
    },
    {
     "name": "stderr",
     "output_type": "stream",
     "text": [
      "/root/anaconda3/envs/learn-ml/lib/python3.6/site-packages/sklearn/neural_network/_multilayer_perceptron.py:470: ConvergenceWarning: lbfgs failed to converge (status=2):\n",
      "ABNORMAL_TERMINATION_IN_LNSRCH.\n",
      "\n",
      "Increase the number of iterations (max_iter) or scale the data as shown in:\n",
      "    https://scikit-learn.org/stable/modules/preprocessing.html\n",
      "  self.n_iter_ = _check_optimize_result(\"lbfgs\", opt_res, self.max_iter)\n"
     ]
    },
    {
     "name": "stdout",
     "output_type": "stream",
     "text": [
      "[CV]  clf__activation=tanh, clf__alpha=0.1, clf__hidden_layer_sizes=(15, 15, 15), clf__learning_rate=invscaling, clf__solver=lbfgs, total=   0.5s\n",
      "[CV] clf__activation=tanh, clf__alpha=0.1, clf__hidden_layer_sizes=(15, 15, 15), clf__learning_rate=invscaling, clf__solver=lbfgs \n",
      "[CV]  clf__activation=tanh, clf__alpha=0.1, clf__hidden_layer_sizes=(15, 15, 15), clf__learning_rate=invscaling, clf__solver=lbfgs, total=   0.4s\n",
      "[CV] clf__activation=tanh, clf__alpha=1, clf__hidden_layer_sizes=5, clf__learning_rate=constant, clf__solver=lbfgs \n",
      "[CV]  clf__activation=tanh, clf__alpha=1, clf__hidden_layer_sizes=5, clf__learning_rate=constant, clf__solver=lbfgs, total=   0.1s\n",
      "[CV] clf__activation=tanh, clf__alpha=1, clf__hidden_layer_sizes=5, clf__learning_rate=constant, clf__solver=lbfgs \n",
      "[CV]  clf__activation=tanh, clf__alpha=1, clf__hidden_layer_sizes=5, clf__learning_rate=constant, clf__solver=lbfgs, total=   0.1s\n",
      "[CV] clf__activation=tanh, clf__alpha=1, clf__hidden_layer_sizes=5, clf__learning_rate=constant, clf__solver=lbfgs \n",
      "[CV]  clf__activation=tanh, clf__alpha=1, clf__hidden_layer_sizes=5, clf__learning_rate=constant, clf__solver=lbfgs, total=   0.1s\n",
      "[CV] clf__activation=tanh, clf__alpha=1, clf__hidden_layer_sizes=5, clf__learning_rate=invscaling, clf__solver=lbfgs \n",
      "[CV]  clf__activation=tanh, clf__alpha=1, clf__hidden_layer_sizes=5, clf__learning_rate=invscaling, clf__solver=lbfgs, total=   0.1s\n",
      "[CV] clf__activation=tanh, clf__alpha=1, clf__hidden_layer_sizes=5, clf__learning_rate=invscaling, clf__solver=lbfgs \n",
      "[CV]  clf__activation=tanh, clf__alpha=1, clf__hidden_layer_sizes=5, clf__learning_rate=invscaling, clf__solver=lbfgs, total=   0.2s\n",
      "[CV] clf__activation=tanh, clf__alpha=1, clf__hidden_layer_sizes=5, clf__learning_rate=invscaling, clf__solver=lbfgs \n",
      "[CV]  clf__activation=tanh, clf__alpha=1, clf__hidden_layer_sizes=5, clf__learning_rate=invscaling, clf__solver=lbfgs, total=   0.2s\n",
      "[CV] clf__activation=tanh, clf__alpha=1, clf__hidden_layer_sizes=(10, 10), clf__learning_rate=constant, clf__solver=lbfgs \n",
      "[CV]  clf__activation=tanh, clf__alpha=1, clf__hidden_layer_sizes=(10, 10), clf__learning_rate=constant, clf__solver=lbfgs, total=   0.2s\n",
      "[CV] clf__activation=tanh, clf__alpha=1, clf__hidden_layer_sizes=(10, 10), clf__learning_rate=constant, clf__solver=lbfgs \n"
     ]
    },
    {
     "name": "stderr",
     "output_type": "stream",
     "text": [
      "/root/anaconda3/envs/learn-ml/lib/python3.6/site-packages/sklearn/neural_network/_multilayer_perceptron.py:470: ConvergenceWarning: lbfgs failed to converge (status=2):\n",
      "ABNORMAL_TERMINATION_IN_LNSRCH.\n",
      "\n",
      "Increase the number of iterations (max_iter) or scale the data as shown in:\n",
      "    https://scikit-learn.org/stable/modules/preprocessing.html\n",
      "  self.n_iter_ = _check_optimize_result(\"lbfgs\", opt_res, self.max_iter)\n"
     ]
    },
    {
     "name": "stdout",
     "output_type": "stream",
     "text": [
      "[CV]  clf__activation=tanh, clf__alpha=1, clf__hidden_layer_sizes=(10, 10), clf__learning_rate=constant, clf__solver=lbfgs, total=   0.2s\n",
      "[CV] clf__activation=tanh, clf__alpha=1, clf__hidden_layer_sizes=(10, 10), clf__learning_rate=constant, clf__solver=lbfgs \n"
     ]
    },
    {
     "name": "stderr",
     "output_type": "stream",
     "text": [
      "/root/anaconda3/envs/learn-ml/lib/python3.6/site-packages/sklearn/neural_network/_multilayer_perceptron.py:470: ConvergenceWarning: lbfgs failed to converge (status=2):\n",
      "ABNORMAL_TERMINATION_IN_LNSRCH.\n",
      "\n",
      "Increase the number of iterations (max_iter) or scale the data as shown in:\n",
      "    https://scikit-learn.org/stable/modules/preprocessing.html\n",
      "  self.n_iter_ = _check_optimize_result(\"lbfgs\", opt_res, self.max_iter)\n"
     ]
    },
    {
     "name": "stdout",
     "output_type": "stream",
     "text": [
      "[CV]  clf__activation=tanh, clf__alpha=1, clf__hidden_layer_sizes=(10, 10), clf__learning_rate=constant, clf__solver=lbfgs, total=   0.3s\n",
      "[CV] clf__activation=tanh, clf__alpha=1, clf__hidden_layer_sizes=(10, 10), clf__learning_rate=invscaling, clf__solver=lbfgs \n"
     ]
    },
    {
     "name": "stderr",
     "output_type": "stream",
     "text": [
      "/root/anaconda3/envs/learn-ml/lib/python3.6/site-packages/sklearn/neural_network/_multilayer_perceptron.py:470: ConvergenceWarning: lbfgs failed to converge (status=2):\n",
      "ABNORMAL_TERMINATION_IN_LNSRCH.\n",
      "\n",
      "Increase the number of iterations (max_iter) or scale the data as shown in:\n",
      "    https://scikit-learn.org/stable/modules/preprocessing.html\n",
      "  self.n_iter_ = _check_optimize_result(\"lbfgs\", opt_res, self.max_iter)\n"
     ]
    },
    {
     "name": "stdout",
     "output_type": "stream",
     "text": [
      "[CV]  clf__activation=tanh, clf__alpha=1, clf__hidden_layer_sizes=(10, 10), clf__learning_rate=invscaling, clf__solver=lbfgs, total=   0.4s\n",
      "[CV] clf__activation=tanh, clf__alpha=1, clf__hidden_layer_sizes=(10, 10), clf__learning_rate=invscaling, clf__solver=lbfgs \n",
      "[CV]  clf__activation=tanh, clf__alpha=1, clf__hidden_layer_sizes=(10, 10), clf__learning_rate=invscaling, clf__solver=lbfgs, total=   0.2s\n",
      "[CV] clf__activation=tanh, clf__alpha=1, clf__hidden_layer_sizes=(10, 10), clf__learning_rate=invscaling, clf__solver=lbfgs \n"
     ]
    },
    {
     "name": "stderr",
     "output_type": "stream",
     "text": [
      "/root/anaconda3/envs/learn-ml/lib/python3.6/site-packages/sklearn/neural_network/_multilayer_perceptron.py:470: ConvergenceWarning: lbfgs failed to converge (status=2):\n",
      "ABNORMAL_TERMINATION_IN_LNSRCH.\n",
      "\n",
      "Increase the number of iterations (max_iter) or scale the data as shown in:\n",
      "    https://scikit-learn.org/stable/modules/preprocessing.html\n",
      "  self.n_iter_ = _check_optimize_result(\"lbfgs\", opt_res, self.max_iter)\n",
      "/root/anaconda3/envs/learn-ml/lib/python3.6/site-packages/sklearn/neural_network/_multilayer_perceptron.py:470: ConvergenceWarning: lbfgs failed to converge (status=2):\n",
      "ABNORMAL_TERMINATION_IN_LNSRCH.\n",
      "\n",
      "Increase the number of iterations (max_iter) or scale the data as shown in:\n",
      "    https://scikit-learn.org/stable/modules/preprocessing.html\n",
      "  self.n_iter_ = _check_optimize_result(\"lbfgs\", opt_res, self.max_iter)\n"
     ]
    },
    {
     "name": "stdout",
     "output_type": "stream",
     "text": [
      "[CV]  clf__activation=tanh, clf__alpha=1, clf__hidden_layer_sizes=(10, 10), clf__learning_rate=invscaling, clf__solver=lbfgs, total=   0.2s\n",
      "[CV] clf__activation=tanh, clf__alpha=1, clf__hidden_layer_sizes=(7, 7, 7), clf__learning_rate=constant, clf__solver=lbfgs \n",
      "[CV]  clf__activation=tanh, clf__alpha=1, clf__hidden_layer_sizes=(7, 7, 7), clf__learning_rate=constant, clf__solver=lbfgs, total=   0.2s\n",
      "[CV] clf__activation=tanh, clf__alpha=1, clf__hidden_layer_sizes=(7, 7, 7), clf__learning_rate=constant, clf__solver=lbfgs \n",
      "[CV]  clf__activation=tanh, clf__alpha=1, clf__hidden_layer_sizes=(7, 7, 7), clf__learning_rate=constant, clf__solver=lbfgs, total=   0.2s\n",
      "[CV] clf__activation=tanh, clf__alpha=1, clf__hidden_layer_sizes=(7, 7, 7), clf__learning_rate=constant, clf__solver=lbfgs \n"
     ]
    },
    {
     "name": "stderr",
     "output_type": "stream",
     "text": [
      "/root/anaconda3/envs/learn-ml/lib/python3.6/site-packages/sklearn/neural_network/_multilayer_perceptron.py:470: ConvergenceWarning: lbfgs failed to converge (status=2):\n",
      "ABNORMAL_TERMINATION_IN_LNSRCH.\n",
      "\n",
      "Increase the number of iterations (max_iter) or scale the data as shown in:\n",
      "    https://scikit-learn.org/stable/modules/preprocessing.html\n",
      "  self.n_iter_ = _check_optimize_result(\"lbfgs\", opt_res, self.max_iter)\n"
     ]
    },
    {
     "name": "stdout",
     "output_type": "stream",
     "text": [
      "[CV]  clf__activation=tanh, clf__alpha=1, clf__hidden_layer_sizes=(7, 7, 7), clf__learning_rate=constant, clf__solver=lbfgs, total=   0.3s\n",
      "[CV] clf__activation=tanh, clf__alpha=1, clf__hidden_layer_sizes=(7, 7, 7), clf__learning_rate=invscaling, clf__solver=lbfgs \n"
     ]
    },
    {
     "name": "stderr",
     "output_type": "stream",
     "text": [
      "/root/anaconda3/envs/learn-ml/lib/python3.6/site-packages/sklearn/neural_network/_multilayer_perceptron.py:470: ConvergenceWarning: lbfgs failed to converge (status=2):\n",
      "ABNORMAL_TERMINATION_IN_LNSRCH.\n",
      "\n",
      "Increase the number of iterations (max_iter) or scale the data as shown in:\n",
      "    https://scikit-learn.org/stable/modules/preprocessing.html\n",
      "  self.n_iter_ = _check_optimize_result(\"lbfgs\", opt_res, self.max_iter)\n"
     ]
    },
    {
     "name": "stdout",
     "output_type": "stream",
     "text": [
      "[CV]  clf__activation=tanh, clf__alpha=1, clf__hidden_layer_sizes=(7, 7, 7), clf__learning_rate=invscaling, clf__solver=lbfgs, total=   0.3s\n",
      "[CV] clf__activation=tanh, clf__alpha=1, clf__hidden_layer_sizes=(7, 7, 7), clf__learning_rate=invscaling, clf__solver=lbfgs \n"
     ]
    },
    {
     "name": "stderr",
     "output_type": "stream",
     "text": [
      "/root/anaconda3/envs/learn-ml/lib/python3.6/site-packages/sklearn/neural_network/_multilayer_perceptron.py:470: ConvergenceWarning: lbfgs failed to converge (status=2):\n",
      "ABNORMAL_TERMINATION_IN_LNSRCH.\n",
      "\n",
      "Increase the number of iterations (max_iter) or scale the data as shown in:\n",
      "    https://scikit-learn.org/stable/modules/preprocessing.html\n",
      "  self.n_iter_ = _check_optimize_result(\"lbfgs\", opt_res, self.max_iter)\n"
     ]
    },
    {
     "name": "stdout",
     "output_type": "stream",
     "text": [
      "[CV]  clf__activation=tanh, clf__alpha=1, clf__hidden_layer_sizes=(7, 7, 7), clf__learning_rate=invscaling, clf__solver=lbfgs, total=   0.2s\n",
      "[CV] clf__activation=tanh, clf__alpha=1, clf__hidden_layer_sizes=(7, 7, 7), clf__learning_rate=invscaling, clf__solver=lbfgs \n",
      "[CV]  clf__activation=tanh, clf__alpha=1, clf__hidden_layer_sizes=(7, 7, 7), clf__learning_rate=invscaling, clf__solver=lbfgs, total=   0.1s\n",
      "[CV] clf__activation=tanh, clf__alpha=1, clf__hidden_layer_sizes=(20, 20, 20, 20), clf__learning_rate=constant, clf__solver=lbfgs \n",
      "[CV]  clf__activation=tanh, clf__alpha=1, clf__hidden_layer_sizes=(20, 20, 20, 20), clf__learning_rate=constant, clf__solver=lbfgs, total=   0.7s\n",
      "[CV] clf__activation=tanh, clf__alpha=1, clf__hidden_layer_sizes=(20, 20, 20, 20), clf__learning_rate=constant, clf__solver=lbfgs \n"
     ]
    },
    {
     "name": "stderr",
     "output_type": "stream",
     "text": [
      "/root/anaconda3/envs/learn-ml/lib/python3.6/site-packages/sklearn/neural_network/_multilayer_perceptron.py:470: ConvergenceWarning: lbfgs failed to converge (status=2):\n",
      "ABNORMAL_TERMINATION_IN_LNSRCH.\n",
      "\n",
      "Increase the number of iterations (max_iter) or scale the data as shown in:\n",
      "    https://scikit-learn.org/stable/modules/preprocessing.html\n",
      "  self.n_iter_ = _check_optimize_result(\"lbfgs\", opt_res, self.max_iter)\n"
     ]
    },
    {
     "name": "stdout",
     "output_type": "stream",
     "text": [
      "[CV]  clf__activation=tanh, clf__alpha=1, clf__hidden_layer_sizes=(20, 20, 20, 20), clf__learning_rate=constant, clf__solver=lbfgs, total=   0.8s\n",
      "[CV] clf__activation=tanh, clf__alpha=1, clf__hidden_layer_sizes=(20, 20, 20, 20), clf__learning_rate=constant, clf__solver=lbfgs \n"
     ]
    },
    {
     "name": "stderr",
     "output_type": "stream",
     "text": [
      "/root/anaconda3/envs/learn-ml/lib/python3.6/site-packages/sklearn/neural_network/_multilayer_perceptron.py:470: ConvergenceWarning: lbfgs failed to converge (status=2):\n",
      "ABNORMAL_TERMINATION_IN_LNSRCH.\n",
      "\n",
      "Increase the number of iterations (max_iter) or scale the data as shown in:\n",
      "    https://scikit-learn.org/stable/modules/preprocessing.html\n",
      "  self.n_iter_ = _check_optimize_result(\"lbfgs\", opt_res, self.max_iter)\n"
     ]
    },
    {
     "name": "stdout",
     "output_type": "stream",
     "text": [
      "[CV]  clf__activation=tanh, clf__alpha=1, clf__hidden_layer_sizes=(20, 20, 20, 20), clf__learning_rate=constant, clf__solver=lbfgs, total=   0.9s\n",
      "[CV] clf__activation=tanh, clf__alpha=1, clf__hidden_layer_sizes=(20, 20, 20, 20), clf__learning_rate=invscaling, clf__solver=lbfgs \n",
      "[CV]  clf__activation=tanh, clf__alpha=1, clf__hidden_layer_sizes=(20, 20, 20, 20), clf__learning_rate=invscaling, clf__solver=lbfgs, total=   0.2s\n",
      "[CV] clf__activation=tanh, clf__alpha=1, clf__hidden_layer_sizes=(20, 20, 20, 20), clf__learning_rate=invscaling, clf__solver=lbfgs \n"
     ]
    },
    {
     "name": "stderr",
     "output_type": "stream",
     "text": [
      "/root/anaconda3/envs/learn-ml/lib/python3.6/site-packages/sklearn/neural_network/_multilayer_perceptron.py:470: ConvergenceWarning: lbfgs failed to converge (status=2):\n",
      "ABNORMAL_TERMINATION_IN_LNSRCH.\n",
      "\n",
      "Increase the number of iterations (max_iter) or scale the data as shown in:\n",
      "    https://scikit-learn.org/stable/modules/preprocessing.html\n",
      "  self.n_iter_ = _check_optimize_result(\"lbfgs\", opt_res, self.max_iter)\n"
     ]
    },
    {
     "name": "stdout",
     "output_type": "stream",
     "text": [
      "[CV]  clf__activation=tanh, clf__alpha=1, clf__hidden_layer_sizes=(20, 20, 20, 20), clf__learning_rate=invscaling, clf__solver=lbfgs, total=   0.8s\n",
      "[CV] clf__activation=tanh, clf__alpha=1, clf__hidden_layer_sizes=(20, 20, 20, 20), clf__learning_rate=invscaling, clf__solver=lbfgs \n",
      "[CV]  clf__activation=tanh, clf__alpha=1, clf__hidden_layer_sizes=(20, 20, 20, 20), clf__learning_rate=invscaling, clf__solver=lbfgs, total=   0.7s\n",
      "[CV] clf__activation=tanh, clf__alpha=1, clf__hidden_layer_sizes=(30, 30, 30), clf__learning_rate=constant, clf__solver=lbfgs \n"
     ]
    },
    {
     "name": "stderr",
     "output_type": "stream",
     "text": [
      "/root/anaconda3/envs/learn-ml/lib/python3.6/site-packages/sklearn/neural_network/_multilayer_perceptron.py:470: ConvergenceWarning: lbfgs failed to converge (status=2):\n",
      "ABNORMAL_TERMINATION_IN_LNSRCH.\n",
      "\n",
      "Increase the number of iterations (max_iter) or scale the data as shown in:\n",
      "    https://scikit-learn.org/stable/modules/preprocessing.html\n",
      "  self.n_iter_ = _check_optimize_result(\"lbfgs\", opt_res, self.max_iter)\n"
     ]
    },
    {
     "name": "stdout",
     "output_type": "stream",
     "text": [
      "[CV]  clf__activation=tanh, clf__alpha=1, clf__hidden_layer_sizes=(30, 30, 30), clf__learning_rate=constant, clf__solver=lbfgs, total=   1.1s\n",
      "[CV] clf__activation=tanh, clf__alpha=1, clf__hidden_layer_sizes=(30, 30, 30), clf__learning_rate=constant, clf__solver=lbfgs \n",
      "[CV]  clf__activation=tanh, clf__alpha=1, clf__hidden_layer_sizes=(30, 30, 30), clf__learning_rate=constant, clf__solver=lbfgs, total=   0.7s\n",
      "[CV] clf__activation=tanh, clf__alpha=1, clf__hidden_layer_sizes=(30, 30, 30), clf__learning_rate=constant, clf__solver=lbfgs \n"
     ]
    },
    {
     "name": "stderr",
     "output_type": "stream",
     "text": [
      "/root/anaconda3/envs/learn-ml/lib/python3.6/site-packages/sklearn/neural_network/_multilayer_perceptron.py:470: ConvergenceWarning: lbfgs failed to converge (status=2):\n",
      "ABNORMAL_TERMINATION_IN_LNSRCH.\n",
      "\n",
      "Increase the number of iterations (max_iter) or scale the data as shown in:\n",
      "    https://scikit-learn.org/stable/modules/preprocessing.html\n",
      "  self.n_iter_ = _check_optimize_result(\"lbfgs\", opt_res, self.max_iter)\n"
     ]
    },
    {
     "name": "stdout",
     "output_type": "stream",
     "text": [
      "[CV]  clf__activation=tanh, clf__alpha=1, clf__hidden_layer_sizes=(30, 30, 30), clf__learning_rate=constant, clf__solver=lbfgs, total=   1.0s\n",
      "[CV] clf__activation=tanh, clf__alpha=1, clf__hidden_layer_sizes=(30, 30, 30), clf__learning_rate=invscaling, clf__solver=lbfgs \n",
      "[CV]  clf__activation=tanh, clf__alpha=1, clf__hidden_layer_sizes=(30, 30, 30), clf__learning_rate=invscaling, clf__solver=lbfgs, total=   1.0s\n",
      "[CV] clf__activation=tanh, clf__alpha=1, clf__hidden_layer_sizes=(30, 30, 30), clf__learning_rate=invscaling, clf__solver=lbfgs \n"
     ]
    },
    {
     "name": "stderr",
     "output_type": "stream",
     "text": [
      "/root/anaconda3/envs/learn-ml/lib/python3.6/site-packages/sklearn/neural_network/_multilayer_perceptron.py:470: ConvergenceWarning: lbfgs failed to converge (status=2):\n",
      "ABNORMAL_TERMINATION_IN_LNSRCH.\n",
      "\n",
      "Increase the number of iterations (max_iter) or scale the data as shown in:\n",
      "    https://scikit-learn.org/stable/modules/preprocessing.html\n",
      "  self.n_iter_ = _check_optimize_result(\"lbfgs\", opt_res, self.max_iter)\n"
     ]
    },
    {
     "name": "stdout",
     "output_type": "stream",
     "text": [
      "[CV]  clf__activation=tanh, clf__alpha=1, clf__hidden_layer_sizes=(30, 30, 30), clf__learning_rate=invscaling, clf__solver=lbfgs, total=   0.6s\n",
      "[CV] clf__activation=tanh, clf__alpha=1, clf__hidden_layer_sizes=(30, 30, 30), clf__learning_rate=invscaling, clf__solver=lbfgs \n"
     ]
    },
    {
     "name": "stderr",
     "output_type": "stream",
     "text": [
      "/root/anaconda3/envs/learn-ml/lib/python3.6/site-packages/sklearn/neural_network/_multilayer_perceptron.py:470: ConvergenceWarning: lbfgs failed to converge (status=2):\n",
      "ABNORMAL_TERMINATION_IN_LNSRCH.\n",
      "\n",
      "Increase the number of iterations (max_iter) or scale the data as shown in:\n",
      "    https://scikit-learn.org/stable/modules/preprocessing.html\n",
      "  self.n_iter_ = _check_optimize_result(\"lbfgs\", opt_res, self.max_iter)\n"
     ]
    },
    {
     "name": "stdout",
     "output_type": "stream",
     "text": [
      "[CV]  clf__activation=tanh, clf__alpha=1, clf__hidden_layer_sizes=(30, 30, 30), clf__learning_rate=invscaling, clf__solver=lbfgs, total=   0.7s\n",
      "[CV] clf__activation=tanh, clf__alpha=1, clf__hidden_layer_sizes=(20, 20, 20), clf__learning_rate=constant, clf__solver=lbfgs \n",
      "[CV]  clf__activation=tanh, clf__alpha=1, clf__hidden_layer_sizes=(20, 20, 20), clf__learning_rate=constant, clf__solver=lbfgs, total=   0.7s\n",
      "[CV] clf__activation=tanh, clf__alpha=1, clf__hidden_layer_sizes=(20, 20, 20), clf__learning_rate=constant, clf__solver=lbfgs \n",
      "[CV]  clf__activation=tanh, clf__alpha=1, clf__hidden_layer_sizes=(20, 20, 20), clf__learning_rate=constant, clf__solver=lbfgs, total=   0.6s\n",
      "[CV] clf__activation=tanh, clf__alpha=1, clf__hidden_layer_sizes=(20, 20, 20), clf__learning_rate=constant, clf__solver=lbfgs \n"
     ]
    },
    {
     "name": "stderr",
     "output_type": "stream",
     "text": [
      "/root/anaconda3/envs/learn-ml/lib/python3.6/site-packages/sklearn/neural_network/_multilayer_perceptron.py:470: ConvergenceWarning: lbfgs failed to converge (status=2):\n",
      "ABNORMAL_TERMINATION_IN_LNSRCH.\n",
      "\n",
      "Increase the number of iterations (max_iter) or scale the data as shown in:\n",
      "    https://scikit-learn.org/stable/modules/preprocessing.html\n",
      "  self.n_iter_ = _check_optimize_result(\"lbfgs\", opt_res, self.max_iter)\n"
     ]
    },
    {
     "name": "stdout",
     "output_type": "stream",
     "text": [
      "[CV]  clf__activation=tanh, clf__alpha=1, clf__hidden_layer_sizes=(20, 20, 20), clf__learning_rate=constant, clf__solver=lbfgs, total=   0.4s\n",
      "[CV] clf__activation=tanh, clf__alpha=1, clf__hidden_layer_sizes=(20, 20, 20), clf__learning_rate=invscaling, clf__solver=lbfgs \n",
      "[CV]  clf__activation=tanh, clf__alpha=1, clf__hidden_layer_sizes=(20, 20, 20), clf__learning_rate=invscaling, clf__solver=lbfgs, total=   0.5s\n",
      "[CV] clf__activation=tanh, clf__alpha=1, clf__hidden_layer_sizes=(20, 20, 20), clf__learning_rate=invscaling, clf__solver=lbfgs \n",
      "[CV]  clf__activation=tanh, clf__alpha=1, clf__hidden_layer_sizes=(20, 20, 20), clf__learning_rate=invscaling, clf__solver=lbfgs, total=   0.8s\n",
      "[CV] clf__activation=tanh, clf__alpha=1, clf__hidden_layer_sizes=(20, 20, 20), clf__learning_rate=invscaling, clf__solver=lbfgs \n"
     ]
    },
    {
     "name": "stderr",
     "output_type": "stream",
     "text": [
      "/root/anaconda3/envs/learn-ml/lib/python3.6/site-packages/sklearn/neural_network/_multilayer_perceptron.py:470: ConvergenceWarning: lbfgs failed to converge (status=2):\n",
      "ABNORMAL_TERMINATION_IN_LNSRCH.\n",
      "\n",
      "Increase the number of iterations (max_iter) or scale the data as shown in:\n",
      "    https://scikit-learn.org/stable/modules/preprocessing.html\n",
      "  self.n_iter_ = _check_optimize_result(\"lbfgs\", opt_res, self.max_iter)\n"
     ]
    },
    {
     "name": "stdout",
     "output_type": "stream",
     "text": [
      "[CV]  clf__activation=tanh, clf__alpha=1, clf__hidden_layer_sizes=(20, 20, 20), clf__learning_rate=invscaling, clf__solver=lbfgs, total=   0.6s\n",
      "[CV] clf__activation=tanh, clf__alpha=1, clf__hidden_layer_sizes=(15, 15, 15), clf__learning_rate=constant, clf__solver=lbfgs \n",
      "[CV]  clf__activation=tanh, clf__alpha=1, clf__hidden_layer_sizes=(15, 15, 15), clf__learning_rate=constant, clf__solver=lbfgs, total=   0.6s\n",
      "[CV] clf__activation=tanh, clf__alpha=1, clf__hidden_layer_sizes=(15, 15, 15), clf__learning_rate=constant, clf__solver=lbfgs \n"
     ]
    },
    {
     "name": "stderr",
     "output_type": "stream",
     "text": [
      "/root/anaconda3/envs/learn-ml/lib/python3.6/site-packages/sklearn/neural_network/_multilayer_perceptron.py:470: ConvergenceWarning: lbfgs failed to converge (status=2):\n",
      "ABNORMAL_TERMINATION_IN_LNSRCH.\n",
      "\n",
      "Increase the number of iterations (max_iter) or scale the data as shown in:\n",
      "    https://scikit-learn.org/stable/modules/preprocessing.html\n",
      "  self.n_iter_ = _check_optimize_result(\"lbfgs\", opt_res, self.max_iter)\n"
     ]
    },
    {
     "name": "stdout",
     "output_type": "stream",
     "text": [
      "[CV]  clf__activation=tanh, clf__alpha=1, clf__hidden_layer_sizes=(15, 15, 15), clf__learning_rate=constant, clf__solver=lbfgs, total=   0.5s\n",
      "[CV] clf__activation=tanh, clf__alpha=1, clf__hidden_layer_sizes=(15, 15, 15), clf__learning_rate=constant, clf__solver=lbfgs \n",
      "[CV]  clf__activation=tanh, clf__alpha=1, clf__hidden_layer_sizes=(15, 15, 15), clf__learning_rate=constant, clf__solver=lbfgs, total=   0.5s\n",
      "[CV] clf__activation=tanh, clf__alpha=1, clf__hidden_layer_sizes=(15, 15, 15), clf__learning_rate=invscaling, clf__solver=lbfgs \n",
      "[CV]  clf__activation=tanh, clf__alpha=1, clf__hidden_layer_sizes=(15, 15, 15), clf__learning_rate=invscaling, clf__solver=lbfgs, total=   0.3s\n",
      "[CV] clf__activation=tanh, clf__alpha=1, clf__hidden_layer_sizes=(15, 15, 15), clf__learning_rate=invscaling, clf__solver=lbfgs \n"
     ]
    },
    {
     "name": "stderr",
     "output_type": "stream",
     "text": [
      "/root/anaconda3/envs/learn-ml/lib/python3.6/site-packages/sklearn/neural_network/_multilayer_perceptron.py:470: ConvergenceWarning: lbfgs failed to converge (status=2):\n",
      "ABNORMAL_TERMINATION_IN_LNSRCH.\n",
      "\n",
      "Increase the number of iterations (max_iter) or scale the data as shown in:\n",
      "    https://scikit-learn.org/stable/modules/preprocessing.html\n",
      "  self.n_iter_ = _check_optimize_result(\"lbfgs\", opt_res, self.max_iter)\n"
     ]
    },
    {
     "name": "stdout",
     "output_type": "stream",
     "text": [
      "[CV]  clf__activation=tanh, clf__alpha=1, clf__hidden_layer_sizes=(15, 15, 15), clf__learning_rate=invscaling, clf__solver=lbfgs, total=   0.2s\n",
      "[CV] clf__activation=tanh, clf__alpha=1, clf__hidden_layer_sizes=(15, 15, 15), clf__learning_rate=invscaling, clf__solver=lbfgs \n",
      "[CV]  clf__activation=tanh, clf__alpha=1, clf__hidden_layer_sizes=(15, 15, 15), clf__learning_rate=invscaling, clf__solver=lbfgs, total=   0.9s\n",
      "[CV] clf__activation=tanh, clf__alpha=10, clf__hidden_layer_sizes=5, clf__learning_rate=constant, clf__solver=lbfgs \n",
      "[CV]  clf__activation=tanh, clf__alpha=10, clf__hidden_layer_sizes=5, clf__learning_rate=constant, clf__solver=lbfgs, total=   0.1s\n",
      "[CV] clf__activation=tanh, clf__alpha=10, clf__hidden_layer_sizes=5, clf__learning_rate=constant, clf__solver=lbfgs \n",
      "[CV]  clf__activation=tanh, clf__alpha=10, clf__hidden_layer_sizes=5, clf__learning_rate=constant, clf__solver=lbfgs, total=   0.1s\n",
      "[CV] clf__activation=tanh, clf__alpha=10, clf__hidden_layer_sizes=5, clf__learning_rate=constant, clf__solver=lbfgs \n"
     ]
    },
    {
     "name": "stderr",
     "output_type": "stream",
     "text": [
      "/root/anaconda3/envs/learn-ml/lib/python3.6/site-packages/sklearn/neural_network/_multilayer_perceptron.py:470: ConvergenceWarning: lbfgs failed to converge (status=2):\n",
      "ABNORMAL_TERMINATION_IN_LNSRCH.\n",
      "\n",
      "Increase the number of iterations (max_iter) or scale the data as shown in:\n",
      "    https://scikit-learn.org/stable/modules/preprocessing.html\n",
      "  self.n_iter_ = _check_optimize_result(\"lbfgs\", opt_res, self.max_iter)\n"
     ]
    },
    {
     "name": "stdout",
     "output_type": "stream",
     "text": [
      "[CV]  clf__activation=tanh, clf__alpha=10, clf__hidden_layer_sizes=5, clf__learning_rate=constant, clf__solver=lbfgs, total=   0.2s\n",
      "[CV] clf__activation=tanh, clf__alpha=10, clf__hidden_layer_sizes=5, clf__learning_rate=invscaling, clf__solver=lbfgs \n",
      "[CV]  clf__activation=tanh, clf__alpha=10, clf__hidden_layer_sizes=5, clf__learning_rate=invscaling, clf__solver=lbfgs, total=   0.1s\n",
      "[CV] clf__activation=tanh, clf__alpha=10, clf__hidden_layer_sizes=5, clf__learning_rate=invscaling, clf__solver=lbfgs \n",
      "[CV]  clf__activation=tanh, clf__alpha=10, clf__hidden_layer_sizes=5, clf__learning_rate=invscaling, clf__solver=lbfgs, total=   0.1s\n",
      "[CV] clf__activation=tanh, clf__alpha=10, clf__hidden_layer_sizes=5, clf__learning_rate=invscaling, clf__solver=lbfgs \n"
     ]
    },
    {
     "name": "stderr",
     "output_type": "stream",
     "text": [
      "/root/anaconda3/envs/learn-ml/lib/python3.6/site-packages/sklearn/neural_network/_multilayer_perceptron.py:470: ConvergenceWarning: lbfgs failed to converge (status=2):\n",
      "ABNORMAL_TERMINATION_IN_LNSRCH.\n",
      "\n",
      "Increase the number of iterations (max_iter) or scale the data as shown in:\n",
      "    https://scikit-learn.org/stable/modules/preprocessing.html\n",
      "  self.n_iter_ = _check_optimize_result(\"lbfgs\", opt_res, self.max_iter)\n"
     ]
    },
    {
     "name": "stdout",
     "output_type": "stream",
     "text": [
      "[CV]  clf__activation=tanh, clf__alpha=10, clf__hidden_layer_sizes=5, clf__learning_rate=invscaling, clf__solver=lbfgs, total=   0.1s\n",
      "[CV] clf__activation=tanh, clf__alpha=10, clf__hidden_layer_sizes=(10, 10), clf__learning_rate=constant, clf__solver=lbfgs \n",
      "[CV]  clf__activation=tanh, clf__alpha=10, clf__hidden_layer_sizes=(10, 10), clf__learning_rate=constant, clf__solver=lbfgs, total=   0.1s\n",
      "[CV] clf__activation=tanh, clf__alpha=10, clf__hidden_layer_sizes=(10, 10), clf__learning_rate=constant, clf__solver=lbfgs \n"
     ]
    },
    {
     "name": "stderr",
     "output_type": "stream",
     "text": [
      "/root/anaconda3/envs/learn-ml/lib/python3.6/site-packages/sklearn/neural_network/_multilayer_perceptron.py:470: ConvergenceWarning: lbfgs failed to converge (status=2):\n",
      "ABNORMAL_TERMINATION_IN_LNSRCH.\n",
      "\n",
      "Increase the number of iterations (max_iter) or scale the data as shown in:\n",
      "    https://scikit-learn.org/stable/modules/preprocessing.html\n",
      "  self.n_iter_ = _check_optimize_result(\"lbfgs\", opt_res, self.max_iter)\n"
     ]
    },
    {
     "name": "stdout",
     "output_type": "stream",
     "text": [
      "[CV]  clf__activation=tanh, clf__alpha=10, clf__hidden_layer_sizes=(10, 10), clf__learning_rate=constant, clf__solver=lbfgs, total=   0.3s\n",
      "[CV] clf__activation=tanh, clf__alpha=10, clf__hidden_layer_sizes=(10, 10), clf__learning_rate=constant, clf__solver=lbfgs \n",
      "[CV]  clf__activation=tanh, clf__alpha=10, clf__hidden_layer_sizes=(10, 10), clf__learning_rate=constant, clf__solver=lbfgs, total=   0.3s\n",
      "[CV] clf__activation=tanh, clf__alpha=10, clf__hidden_layer_sizes=(10, 10), clf__learning_rate=invscaling, clf__solver=lbfgs \n"
     ]
    },
    {
     "name": "stderr",
     "output_type": "stream",
     "text": [
      "/root/anaconda3/envs/learn-ml/lib/python3.6/site-packages/sklearn/neural_network/_multilayer_perceptron.py:470: ConvergenceWarning: lbfgs failed to converge (status=2):\n",
      "ABNORMAL_TERMINATION_IN_LNSRCH.\n",
      "\n",
      "Increase the number of iterations (max_iter) or scale the data as shown in:\n",
      "    https://scikit-learn.org/stable/modules/preprocessing.html\n",
      "  self.n_iter_ = _check_optimize_result(\"lbfgs\", opt_res, self.max_iter)\n",
      "/root/anaconda3/envs/learn-ml/lib/python3.6/site-packages/sklearn/neural_network/_multilayer_perceptron.py:470: ConvergenceWarning: lbfgs failed to converge (status=2):\n",
      "ABNORMAL_TERMINATION_IN_LNSRCH.\n",
      "\n",
      "Increase the number of iterations (max_iter) or scale the data as shown in:\n",
      "    https://scikit-learn.org/stable/modules/preprocessing.html\n",
      "  self.n_iter_ = _check_optimize_result(\"lbfgs\", opt_res, self.max_iter)\n"
     ]
    },
    {
     "name": "stdout",
     "output_type": "stream",
     "text": [
      "[CV]  clf__activation=tanh, clf__alpha=10, clf__hidden_layer_sizes=(10, 10), clf__learning_rate=invscaling, clf__solver=lbfgs, total=   0.4s\n",
      "[CV] clf__activation=tanh, clf__alpha=10, clf__hidden_layer_sizes=(10, 10), clf__learning_rate=invscaling, clf__solver=lbfgs \n",
      "[CV]  clf__activation=tanh, clf__alpha=10, clf__hidden_layer_sizes=(10, 10), clf__learning_rate=invscaling, clf__solver=lbfgs, total=   0.2s\n",
      "[CV] clf__activation=tanh, clf__alpha=10, clf__hidden_layer_sizes=(10, 10), clf__learning_rate=invscaling, clf__solver=lbfgs \n",
      "[CV]  clf__activation=tanh, clf__alpha=10, clf__hidden_layer_sizes=(10, 10), clf__learning_rate=invscaling, clf__solver=lbfgs, total=   0.5s\n",
      "[CV] clf__activation=tanh, clf__alpha=10, clf__hidden_layer_sizes=(7, 7, 7), clf__learning_rate=constant, clf__solver=lbfgs \n",
      "[CV]  clf__activation=tanh, clf__alpha=10, clf__hidden_layer_sizes=(7, 7, 7), clf__learning_rate=constant, clf__solver=lbfgs, total=   0.1s\n",
      "[CV] clf__activation=tanh, clf__alpha=10, clf__hidden_layer_sizes=(7, 7, 7), clf__learning_rate=constant, clf__solver=lbfgs \n",
      "[CV]  clf__activation=tanh, clf__alpha=10, clf__hidden_layer_sizes=(7, 7, 7), clf__learning_rate=constant, clf__solver=lbfgs, total=   0.2s\n",
      "[CV] clf__activation=tanh, clf__alpha=10, clf__hidden_layer_sizes=(7, 7, 7), clf__learning_rate=constant, clf__solver=lbfgs \n"
     ]
    },
    {
     "name": "stderr",
     "output_type": "stream",
     "text": [
      "/root/anaconda3/envs/learn-ml/lib/python3.6/site-packages/sklearn/neural_network/_multilayer_perceptron.py:470: ConvergenceWarning: lbfgs failed to converge (status=2):\n",
      "ABNORMAL_TERMINATION_IN_LNSRCH.\n",
      "\n",
      "Increase the number of iterations (max_iter) or scale the data as shown in:\n",
      "    https://scikit-learn.org/stable/modules/preprocessing.html\n",
      "  self.n_iter_ = _check_optimize_result(\"lbfgs\", opt_res, self.max_iter)\n"
     ]
    },
    {
     "name": "stdout",
     "output_type": "stream",
     "text": [
      "[CV]  clf__activation=tanh, clf__alpha=10, clf__hidden_layer_sizes=(7, 7, 7), clf__learning_rate=constant, clf__solver=lbfgs, total=   0.3s\n",
      "[CV] clf__activation=tanh, clf__alpha=10, clf__hidden_layer_sizes=(7, 7, 7), clf__learning_rate=invscaling, clf__solver=lbfgs \n",
      "[CV]  clf__activation=tanh, clf__alpha=10, clf__hidden_layer_sizes=(7, 7, 7), clf__learning_rate=invscaling, clf__solver=lbfgs, total=   0.2s\n",
      "[CV] clf__activation=tanh, clf__alpha=10, clf__hidden_layer_sizes=(7, 7, 7), clf__learning_rate=invscaling, clf__solver=lbfgs \n"
     ]
    },
    {
     "name": "stderr",
     "output_type": "stream",
     "text": [
      "/root/anaconda3/envs/learn-ml/lib/python3.6/site-packages/sklearn/neural_network/_multilayer_perceptron.py:470: ConvergenceWarning: lbfgs failed to converge (status=2):\n",
      "ABNORMAL_TERMINATION_IN_LNSRCH.\n",
      "\n",
      "Increase the number of iterations (max_iter) or scale the data as shown in:\n",
      "    https://scikit-learn.org/stable/modules/preprocessing.html\n",
      "  self.n_iter_ = _check_optimize_result(\"lbfgs\", opt_res, self.max_iter)\n"
     ]
    },
    {
     "name": "stdout",
     "output_type": "stream",
     "text": [
      "[CV]  clf__activation=tanh, clf__alpha=10, clf__hidden_layer_sizes=(7, 7, 7), clf__learning_rate=invscaling, clf__solver=lbfgs, total=   0.5s\n",
      "[CV] clf__activation=tanh, clf__alpha=10, clf__hidden_layer_sizes=(7, 7, 7), clf__learning_rate=invscaling, clf__solver=lbfgs \n"
     ]
    },
    {
     "name": "stderr",
     "output_type": "stream",
     "text": [
      "/root/anaconda3/envs/learn-ml/lib/python3.6/site-packages/sklearn/neural_network/_multilayer_perceptron.py:470: ConvergenceWarning: lbfgs failed to converge (status=2):\n",
      "ABNORMAL_TERMINATION_IN_LNSRCH.\n",
      "\n",
      "Increase the number of iterations (max_iter) or scale the data as shown in:\n",
      "    https://scikit-learn.org/stable/modules/preprocessing.html\n",
      "  self.n_iter_ = _check_optimize_result(\"lbfgs\", opt_res, self.max_iter)\n"
     ]
    },
    {
     "name": "stdout",
     "output_type": "stream",
     "text": [
      "[CV]  clf__activation=tanh, clf__alpha=10, clf__hidden_layer_sizes=(7, 7, 7), clf__learning_rate=invscaling, clf__solver=lbfgs, total=   0.3s\n",
      "[CV] clf__activation=tanh, clf__alpha=10, clf__hidden_layer_sizes=(20, 20, 20, 20), clf__learning_rate=constant, clf__solver=lbfgs \n",
      "[CV]  clf__activation=tanh, clf__alpha=10, clf__hidden_layer_sizes=(20, 20, 20, 20), clf__learning_rate=constant, clf__solver=lbfgs, total=   1.2s\n",
      "[CV] clf__activation=tanh, clf__alpha=10, clf__hidden_layer_sizes=(20, 20, 20, 20), clf__learning_rate=constant, clf__solver=lbfgs \n"
     ]
    },
    {
     "name": "stderr",
     "output_type": "stream",
     "text": [
      "/root/anaconda3/envs/learn-ml/lib/python3.6/site-packages/sklearn/neural_network/_multilayer_perceptron.py:470: ConvergenceWarning: lbfgs failed to converge (status=2):\n",
      "ABNORMAL_TERMINATION_IN_LNSRCH.\n",
      "\n",
      "Increase the number of iterations (max_iter) or scale the data as shown in:\n",
      "    https://scikit-learn.org/stable/modules/preprocessing.html\n",
      "  self.n_iter_ = _check_optimize_result(\"lbfgs\", opt_res, self.max_iter)\n"
     ]
    },
    {
     "name": "stdout",
     "output_type": "stream",
     "text": [
      "[CV]  clf__activation=tanh, clf__alpha=10, clf__hidden_layer_sizes=(20, 20, 20, 20), clf__learning_rate=constant, clf__solver=lbfgs, total=   1.2s\n",
      "[CV] clf__activation=tanh, clf__alpha=10, clf__hidden_layer_sizes=(20, 20, 20, 20), clf__learning_rate=constant, clf__solver=lbfgs \n"
     ]
    },
    {
     "name": "stderr",
     "output_type": "stream",
     "text": [
      "/root/anaconda3/envs/learn-ml/lib/python3.6/site-packages/sklearn/neural_network/_multilayer_perceptron.py:470: ConvergenceWarning: lbfgs failed to converge (status=2):\n",
      "ABNORMAL_TERMINATION_IN_LNSRCH.\n",
      "\n",
      "Increase the number of iterations (max_iter) or scale the data as shown in:\n",
      "    https://scikit-learn.org/stable/modules/preprocessing.html\n",
      "  self.n_iter_ = _check_optimize_result(\"lbfgs\", opt_res, self.max_iter)\n"
     ]
    },
    {
     "name": "stdout",
     "output_type": "stream",
     "text": [
      "[CV]  clf__activation=tanh, clf__alpha=10, clf__hidden_layer_sizes=(20, 20, 20, 20), clf__learning_rate=constant, clf__solver=lbfgs, total=   0.6s\n",
      "[CV] clf__activation=tanh, clf__alpha=10, clf__hidden_layer_sizes=(20, 20, 20, 20), clf__learning_rate=invscaling, clf__solver=lbfgs \n",
      "[CV]  clf__activation=tanh, clf__alpha=10, clf__hidden_layer_sizes=(20, 20, 20, 20), clf__learning_rate=invscaling, clf__solver=lbfgs, total=   0.9s\n",
      "[CV] clf__activation=tanh, clf__alpha=10, clf__hidden_layer_sizes=(20, 20, 20, 20), clf__learning_rate=invscaling, clf__solver=lbfgs \n"
     ]
    },
    {
     "name": "stderr",
     "output_type": "stream",
     "text": [
      "/root/anaconda3/envs/learn-ml/lib/python3.6/site-packages/sklearn/neural_network/_multilayer_perceptron.py:470: ConvergenceWarning: lbfgs failed to converge (status=2):\n",
      "ABNORMAL_TERMINATION_IN_LNSRCH.\n",
      "\n",
      "Increase the number of iterations (max_iter) or scale the data as shown in:\n",
      "    https://scikit-learn.org/stable/modules/preprocessing.html\n",
      "  self.n_iter_ = _check_optimize_result(\"lbfgs\", opt_res, self.max_iter)\n"
     ]
    },
    {
     "name": "stdout",
     "output_type": "stream",
     "text": [
      "[CV]  clf__activation=tanh, clf__alpha=10, clf__hidden_layer_sizes=(20, 20, 20, 20), clf__learning_rate=invscaling, clf__solver=lbfgs, total=   2.8s\n",
      "[CV] clf__activation=tanh, clf__alpha=10, clf__hidden_layer_sizes=(20, 20, 20, 20), clf__learning_rate=invscaling, clf__solver=lbfgs \n",
      "[CV]  clf__activation=tanh, clf__alpha=10, clf__hidden_layer_sizes=(20, 20, 20, 20), clf__learning_rate=invscaling, clf__solver=lbfgs, total=   0.9s\n",
      "[CV] clf__activation=tanh, clf__alpha=10, clf__hidden_layer_sizes=(30, 30, 30), clf__learning_rate=constant, clf__solver=lbfgs \n"
     ]
    },
    {
     "name": "stderr",
     "output_type": "stream",
     "text": [
      "/root/anaconda3/envs/learn-ml/lib/python3.6/site-packages/sklearn/neural_network/_multilayer_perceptron.py:470: ConvergenceWarning: lbfgs failed to converge (status=2):\n",
      "ABNORMAL_TERMINATION_IN_LNSRCH.\n",
      "\n",
      "Increase the number of iterations (max_iter) or scale the data as shown in:\n",
      "    https://scikit-learn.org/stable/modules/preprocessing.html\n",
      "  self.n_iter_ = _check_optimize_result(\"lbfgs\", opt_res, self.max_iter)\n"
     ]
    },
    {
     "name": "stdout",
     "output_type": "stream",
     "text": [
      "[CV]  clf__activation=tanh, clf__alpha=10, clf__hidden_layer_sizes=(30, 30, 30), clf__learning_rate=constant, clf__solver=lbfgs, total=   1.3s\n",
      "[CV] clf__activation=tanh, clf__alpha=10, clf__hidden_layer_sizes=(30, 30, 30), clf__learning_rate=constant, clf__solver=lbfgs \n"
     ]
    },
    {
     "name": "stderr",
     "output_type": "stream",
     "text": [
      "/root/anaconda3/envs/learn-ml/lib/python3.6/site-packages/sklearn/neural_network/_multilayer_perceptron.py:470: ConvergenceWarning: lbfgs failed to converge (status=2):\n",
      "ABNORMAL_TERMINATION_IN_LNSRCH.\n",
      "\n",
      "Increase the number of iterations (max_iter) or scale the data as shown in:\n",
      "    https://scikit-learn.org/stable/modules/preprocessing.html\n",
      "  self.n_iter_ = _check_optimize_result(\"lbfgs\", opt_res, self.max_iter)\n"
     ]
    },
    {
     "name": "stdout",
     "output_type": "stream",
     "text": [
      "[CV]  clf__activation=tanh, clf__alpha=10, clf__hidden_layer_sizes=(30, 30, 30), clf__learning_rate=constant, clf__solver=lbfgs, total=   0.7s\n",
      "[CV] clf__activation=tanh, clf__alpha=10, clf__hidden_layer_sizes=(30, 30, 30), clf__learning_rate=constant, clf__solver=lbfgs \n"
     ]
    },
    {
     "name": "stderr",
     "output_type": "stream",
     "text": [
      "/root/anaconda3/envs/learn-ml/lib/python3.6/site-packages/sklearn/neural_network/_multilayer_perceptron.py:470: ConvergenceWarning: lbfgs failed to converge (status=2):\n",
      "ABNORMAL_TERMINATION_IN_LNSRCH.\n",
      "\n",
      "Increase the number of iterations (max_iter) or scale the data as shown in:\n",
      "    https://scikit-learn.org/stable/modules/preprocessing.html\n",
      "  self.n_iter_ = _check_optimize_result(\"lbfgs\", opt_res, self.max_iter)\n"
     ]
    },
    {
     "name": "stdout",
     "output_type": "stream",
     "text": [
      "[CV]  clf__activation=tanh, clf__alpha=10, clf__hidden_layer_sizes=(30, 30, 30), clf__learning_rate=constant, clf__solver=lbfgs, total=   1.1s\n",
      "[CV] clf__activation=tanh, clf__alpha=10, clf__hidden_layer_sizes=(30, 30, 30), clf__learning_rate=invscaling, clf__solver=lbfgs \n"
     ]
    },
    {
     "name": "stderr",
     "output_type": "stream",
     "text": [
      "/root/anaconda3/envs/learn-ml/lib/python3.6/site-packages/sklearn/neural_network/_multilayer_perceptron.py:470: ConvergenceWarning: lbfgs failed to converge (status=2):\n",
      "ABNORMAL_TERMINATION_IN_LNSRCH.\n",
      "\n",
      "Increase the number of iterations (max_iter) or scale the data as shown in:\n",
      "    https://scikit-learn.org/stable/modules/preprocessing.html\n",
      "  self.n_iter_ = _check_optimize_result(\"lbfgs\", opt_res, self.max_iter)\n"
     ]
    },
    {
     "name": "stdout",
     "output_type": "stream",
     "text": [
      "[CV]  clf__activation=tanh, clf__alpha=10, clf__hidden_layer_sizes=(30, 30, 30), clf__learning_rate=invscaling, clf__solver=lbfgs, total=   0.9s\n",
      "[CV] clf__activation=tanh, clf__alpha=10, clf__hidden_layer_sizes=(30, 30, 30), clf__learning_rate=invscaling, clf__solver=lbfgs \n"
     ]
    },
    {
     "name": "stderr",
     "output_type": "stream",
     "text": [
      "/root/anaconda3/envs/learn-ml/lib/python3.6/site-packages/sklearn/neural_network/_multilayer_perceptron.py:470: ConvergenceWarning: lbfgs failed to converge (status=2):\n",
      "ABNORMAL_TERMINATION_IN_LNSRCH.\n",
      "\n",
      "Increase the number of iterations (max_iter) or scale the data as shown in:\n",
      "    https://scikit-learn.org/stable/modules/preprocessing.html\n",
      "  self.n_iter_ = _check_optimize_result(\"lbfgs\", opt_res, self.max_iter)\n"
     ]
    },
    {
     "name": "stdout",
     "output_type": "stream",
     "text": [
      "[CV]  clf__activation=tanh, clf__alpha=10, clf__hidden_layer_sizes=(30, 30, 30), clf__learning_rate=invscaling, clf__solver=lbfgs, total=   0.6s\n",
      "[CV] clf__activation=tanh, clf__alpha=10, clf__hidden_layer_sizes=(30, 30, 30), clf__learning_rate=invscaling, clf__solver=lbfgs \n",
      "[CV]  clf__activation=tanh, clf__alpha=10, clf__hidden_layer_sizes=(30, 30, 30), clf__learning_rate=invscaling, clf__solver=lbfgs, total=   1.0s\n",
      "[CV] clf__activation=tanh, clf__alpha=10, clf__hidden_layer_sizes=(20, 20, 20), clf__learning_rate=constant, clf__solver=lbfgs \n"
     ]
    },
    {
     "name": "stderr",
     "output_type": "stream",
     "text": [
      "/root/anaconda3/envs/learn-ml/lib/python3.6/site-packages/sklearn/neural_network/_multilayer_perceptron.py:470: ConvergenceWarning: lbfgs failed to converge (status=2):\n",
      "ABNORMAL_TERMINATION_IN_LNSRCH.\n",
      "\n",
      "Increase the number of iterations (max_iter) or scale the data as shown in:\n",
      "    https://scikit-learn.org/stable/modules/preprocessing.html\n",
      "  self.n_iter_ = _check_optimize_result(\"lbfgs\", opt_res, self.max_iter)\n"
     ]
    },
    {
     "name": "stdout",
     "output_type": "stream",
     "text": [
      "[CV]  clf__activation=tanh, clf__alpha=10, clf__hidden_layer_sizes=(20, 20, 20), clf__learning_rate=constant, clf__solver=lbfgs, total=   0.8s\n",
      "[CV] clf__activation=tanh, clf__alpha=10, clf__hidden_layer_sizes=(20, 20, 20), clf__learning_rate=constant, clf__solver=lbfgs \n"
     ]
    },
    {
     "name": "stderr",
     "output_type": "stream",
     "text": [
      "/root/anaconda3/envs/learn-ml/lib/python3.6/site-packages/sklearn/neural_network/_multilayer_perceptron.py:470: ConvergenceWarning: lbfgs failed to converge (status=2):\n",
      "ABNORMAL_TERMINATION_IN_LNSRCH.\n",
      "\n",
      "Increase the number of iterations (max_iter) or scale the data as shown in:\n",
      "    https://scikit-learn.org/stable/modules/preprocessing.html\n",
      "  self.n_iter_ = _check_optimize_result(\"lbfgs\", opt_res, self.max_iter)\n"
     ]
    },
    {
     "name": "stdout",
     "output_type": "stream",
     "text": [
      "[CV]  clf__activation=tanh, clf__alpha=10, clf__hidden_layer_sizes=(20, 20, 20), clf__learning_rate=constant, clf__solver=lbfgs, total=   0.6s\n",
      "[CV] clf__activation=tanh, clf__alpha=10, clf__hidden_layer_sizes=(20, 20, 20), clf__learning_rate=constant, clf__solver=lbfgs \n"
     ]
    },
    {
     "name": "stderr",
     "output_type": "stream",
     "text": [
      "/root/anaconda3/envs/learn-ml/lib/python3.6/site-packages/sklearn/neural_network/_multilayer_perceptron.py:470: ConvergenceWarning: lbfgs failed to converge (status=2):\n",
      "ABNORMAL_TERMINATION_IN_LNSRCH.\n",
      "\n",
      "Increase the number of iterations (max_iter) or scale the data as shown in:\n",
      "    https://scikit-learn.org/stable/modules/preprocessing.html\n",
      "  self.n_iter_ = _check_optimize_result(\"lbfgs\", opt_res, self.max_iter)\n"
     ]
    },
    {
     "name": "stdout",
     "output_type": "stream",
     "text": [
      "[CV]  clf__activation=tanh, clf__alpha=10, clf__hidden_layer_sizes=(20, 20, 20), clf__learning_rate=constant, clf__solver=lbfgs, total=   0.6s\n",
      "[CV] clf__activation=tanh, clf__alpha=10, clf__hidden_layer_sizes=(20, 20, 20), clf__learning_rate=invscaling, clf__solver=lbfgs \n",
      "[CV]  clf__activation=tanh, clf__alpha=10, clf__hidden_layer_sizes=(20, 20, 20), clf__learning_rate=invscaling, clf__solver=lbfgs, total=   0.5s\n",
      "[CV] clf__activation=tanh, clf__alpha=10, clf__hidden_layer_sizes=(20, 20, 20), clf__learning_rate=invscaling, clf__solver=lbfgs \n",
      "[CV]  clf__activation=tanh, clf__alpha=10, clf__hidden_layer_sizes=(20, 20, 20), clf__learning_rate=invscaling, clf__solver=lbfgs, total=   0.8s\n",
      "[CV] clf__activation=tanh, clf__alpha=10, clf__hidden_layer_sizes=(20, 20, 20), clf__learning_rate=invscaling, clf__solver=lbfgs \n"
     ]
    },
    {
     "name": "stderr",
     "output_type": "stream",
     "text": [
      "/root/anaconda3/envs/learn-ml/lib/python3.6/site-packages/sklearn/neural_network/_multilayer_perceptron.py:470: ConvergenceWarning: lbfgs failed to converge (status=2):\n",
      "ABNORMAL_TERMINATION_IN_LNSRCH.\n",
      "\n",
      "Increase the number of iterations (max_iter) or scale the data as shown in:\n",
      "    https://scikit-learn.org/stable/modules/preprocessing.html\n",
      "  self.n_iter_ = _check_optimize_result(\"lbfgs\", opt_res, self.max_iter)\n"
     ]
    },
    {
     "name": "stdout",
     "output_type": "stream",
     "text": [
      "[CV]  clf__activation=tanh, clf__alpha=10, clf__hidden_layer_sizes=(20, 20, 20), clf__learning_rate=invscaling, clf__solver=lbfgs, total=   0.6s\n",
      "[CV] clf__activation=tanh, clf__alpha=10, clf__hidden_layer_sizes=(15, 15, 15), clf__learning_rate=constant, clf__solver=lbfgs \n",
      "[CV]  clf__activation=tanh, clf__alpha=10, clf__hidden_layer_sizes=(15, 15, 15), clf__learning_rate=constant, clf__solver=lbfgs, total=   0.2s\n",
      "[CV] clf__activation=tanh, clf__alpha=10, clf__hidden_layer_sizes=(15, 15, 15), clf__learning_rate=constant, clf__solver=lbfgs \n",
      "[CV]  clf__activation=tanh, clf__alpha=10, clf__hidden_layer_sizes=(15, 15, 15), clf__learning_rate=constant, clf__solver=lbfgs, total=   0.7s\n",
      "[CV] clf__activation=tanh, clf__alpha=10, clf__hidden_layer_sizes=(15, 15, 15), clf__learning_rate=constant, clf__solver=lbfgs \n",
      "[CV]  clf__activation=tanh, clf__alpha=10, clf__hidden_layer_sizes=(15, 15, 15), clf__learning_rate=constant, clf__solver=lbfgs, total=   0.5s\n",
      "[CV] clf__activation=tanh, clf__alpha=10, clf__hidden_layer_sizes=(15, 15, 15), clf__learning_rate=invscaling, clf__solver=lbfgs \n"
     ]
    },
    {
     "name": "stderr",
     "output_type": "stream",
     "text": [
      "/root/anaconda3/envs/learn-ml/lib/python3.6/site-packages/sklearn/neural_network/_multilayer_perceptron.py:470: ConvergenceWarning: lbfgs failed to converge (status=2):\n",
      "ABNORMAL_TERMINATION_IN_LNSRCH.\n",
      "\n",
      "Increase the number of iterations (max_iter) or scale the data as shown in:\n",
      "    https://scikit-learn.org/stable/modules/preprocessing.html\n",
      "  self.n_iter_ = _check_optimize_result(\"lbfgs\", opt_res, self.max_iter)\n"
     ]
    },
    {
     "name": "stdout",
     "output_type": "stream",
     "text": [
      "[CV]  clf__activation=tanh, clf__alpha=10, clf__hidden_layer_sizes=(15, 15, 15), clf__learning_rate=invscaling, clf__solver=lbfgs, total=   0.6s\n",
      "[CV] clf__activation=tanh, clf__alpha=10, clf__hidden_layer_sizes=(15, 15, 15), clf__learning_rate=invscaling, clf__solver=lbfgs \n",
      "[CV]  clf__activation=tanh, clf__alpha=10, clf__hidden_layer_sizes=(15, 15, 15), clf__learning_rate=invscaling, clf__solver=lbfgs, total=   0.4s\n",
      "[CV] clf__activation=tanh, clf__alpha=10, clf__hidden_layer_sizes=(15, 15, 15), clf__learning_rate=invscaling, clf__solver=lbfgs \n"
     ]
    },
    {
     "name": "stderr",
     "output_type": "stream",
     "text": [
      "/root/anaconda3/envs/learn-ml/lib/python3.6/site-packages/sklearn/neural_network/_multilayer_perceptron.py:470: ConvergenceWarning: lbfgs failed to converge (status=2):\n",
      "ABNORMAL_TERMINATION_IN_LNSRCH.\n",
      "\n",
      "Increase the number of iterations (max_iter) or scale the data as shown in:\n",
      "    https://scikit-learn.org/stable/modules/preprocessing.html\n",
      "  self.n_iter_ = _check_optimize_result(\"lbfgs\", opt_res, self.max_iter)\n",
      "/root/anaconda3/envs/learn-ml/lib/python3.6/site-packages/sklearn/neural_network/_multilayer_perceptron.py:470: ConvergenceWarning: lbfgs failed to converge (status=2):\n",
      "ABNORMAL_TERMINATION_IN_LNSRCH.\n",
      "\n",
      "Increase the number of iterations (max_iter) or scale the data as shown in:\n",
      "    https://scikit-learn.org/stable/modules/preprocessing.html\n",
      "  self.n_iter_ = _check_optimize_result(\"lbfgs\", opt_res, self.max_iter)\n"
     ]
    },
    {
     "name": "stdout",
     "output_type": "stream",
     "text": [
      "[CV]  clf__activation=tanh, clf__alpha=10, clf__hidden_layer_sizes=(15, 15, 15), clf__learning_rate=invscaling, clf__solver=lbfgs, total=   0.5s\n",
      "[CV] clf__activation=tanh, clf__alpha=100, clf__hidden_layer_sizes=5, clf__learning_rate=constant, clf__solver=lbfgs \n",
      "[CV]  clf__activation=tanh, clf__alpha=100, clf__hidden_layer_sizes=5, clf__learning_rate=constant, clf__solver=lbfgs, total=   0.2s\n",
      "[CV] clf__activation=tanh, clf__alpha=100, clf__hidden_layer_sizes=5, clf__learning_rate=constant, clf__solver=lbfgs \n",
      "[CV]  clf__activation=tanh, clf__alpha=100, clf__hidden_layer_sizes=5, clf__learning_rate=constant, clf__solver=lbfgs, total=   0.4s\n",
      "[CV] clf__activation=tanh, clf__alpha=100, clf__hidden_layer_sizes=5, clf__learning_rate=constant, clf__solver=lbfgs \n",
      "[CV]  clf__activation=tanh, clf__alpha=100, clf__hidden_layer_sizes=5, clf__learning_rate=constant, clf__solver=lbfgs, total=   0.2s\n",
      "[CV] clf__activation=tanh, clf__alpha=100, clf__hidden_layer_sizes=5, clf__learning_rate=invscaling, clf__solver=lbfgs \n",
      "[CV]  clf__activation=tanh, clf__alpha=100, clf__hidden_layer_sizes=5, clf__learning_rate=invscaling, clf__solver=lbfgs, total=   0.4s\n",
      "[CV] clf__activation=tanh, clf__alpha=100, clf__hidden_layer_sizes=5, clf__learning_rate=invscaling, clf__solver=lbfgs \n",
      "[CV]  clf__activation=tanh, clf__alpha=100, clf__hidden_layer_sizes=5, clf__learning_rate=invscaling, clf__solver=lbfgs, total=   0.1s\n",
      "[CV] clf__activation=tanh, clf__alpha=100, clf__hidden_layer_sizes=5, clf__learning_rate=invscaling, clf__solver=lbfgs \n",
      "[CV]  clf__activation=tanh, clf__alpha=100, clf__hidden_layer_sizes=5, clf__learning_rate=invscaling, clf__solver=lbfgs, total=   0.2s\n",
      "[CV] clf__activation=tanh, clf__alpha=100, clf__hidden_layer_sizes=(10, 10), clf__learning_rate=constant, clf__solver=lbfgs \n"
     ]
    },
    {
     "name": "stderr",
     "output_type": "stream",
     "text": [
      "/root/anaconda3/envs/learn-ml/lib/python3.6/site-packages/sklearn/neural_network/_multilayer_perceptron.py:470: ConvergenceWarning: lbfgs failed to converge (status=2):\n",
      "ABNORMAL_TERMINATION_IN_LNSRCH.\n",
      "\n",
      "Increase the number of iterations (max_iter) or scale the data as shown in:\n",
      "    https://scikit-learn.org/stable/modules/preprocessing.html\n",
      "  self.n_iter_ = _check_optimize_result(\"lbfgs\", opt_res, self.max_iter)\n",
      "/root/anaconda3/envs/learn-ml/lib/python3.6/site-packages/sklearn/neural_network/_multilayer_perceptron.py:470: ConvergenceWarning: lbfgs failed to converge (status=2):\n",
      "ABNORMAL_TERMINATION_IN_LNSRCH.\n",
      "\n",
      "Increase the number of iterations (max_iter) or scale the data as shown in:\n",
      "    https://scikit-learn.org/stable/modules/preprocessing.html\n",
      "  self.n_iter_ = _check_optimize_result(\"lbfgs\", opt_res, self.max_iter)\n"
     ]
    },
    {
     "name": "stdout",
     "output_type": "stream",
     "text": [
      "[CV]  clf__activation=tanh, clf__alpha=100, clf__hidden_layer_sizes=(10, 10), clf__learning_rate=constant, clf__solver=lbfgs, total=   0.3s\n",
      "[CV] clf__activation=tanh, clf__alpha=100, clf__hidden_layer_sizes=(10, 10), clf__learning_rate=constant, clf__solver=lbfgs \n",
      "[CV]  clf__activation=tanh, clf__alpha=100, clf__hidden_layer_sizes=(10, 10), clf__learning_rate=constant, clf__solver=lbfgs, total=   0.1s\n",
      "[CV] clf__activation=tanh, clf__alpha=100, clf__hidden_layer_sizes=(10, 10), clf__learning_rate=constant, clf__solver=lbfgs \n"
     ]
    },
    {
     "name": "stderr",
     "output_type": "stream",
     "text": [
      "/root/anaconda3/envs/learn-ml/lib/python3.6/site-packages/sklearn/neural_network/_multilayer_perceptron.py:470: ConvergenceWarning: lbfgs failed to converge (status=2):\n",
      "ABNORMAL_TERMINATION_IN_LNSRCH.\n",
      "\n",
      "Increase the number of iterations (max_iter) or scale the data as shown in:\n",
      "    https://scikit-learn.org/stable/modules/preprocessing.html\n",
      "  self.n_iter_ = _check_optimize_result(\"lbfgs\", opt_res, self.max_iter)\n",
      "/root/anaconda3/envs/learn-ml/lib/python3.6/site-packages/sklearn/neural_network/_multilayer_perceptron.py:470: ConvergenceWarning: lbfgs failed to converge (status=2):\n",
      "ABNORMAL_TERMINATION_IN_LNSRCH.\n",
      "\n",
      "Increase the number of iterations (max_iter) or scale the data as shown in:\n",
      "    https://scikit-learn.org/stable/modules/preprocessing.html\n",
      "  self.n_iter_ = _check_optimize_result(\"lbfgs\", opt_res, self.max_iter)\n"
     ]
    },
    {
     "name": "stdout",
     "output_type": "stream",
     "text": [
      "[CV]  clf__activation=tanh, clf__alpha=100, clf__hidden_layer_sizes=(10, 10), clf__learning_rate=constant, clf__solver=lbfgs, total=   0.3s\n",
      "[CV] clf__activation=tanh, clf__alpha=100, clf__hidden_layer_sizes=(10, 10), clf__learning_rate=invscaling, clf__solver=lbfgs \n",
      "[CV]  clf__activation=tanh, clf__alpha=100, clf__hidden_layer_sizes=(10, 10), clf__learning_rate=invscaling, clf__solver=lbfgs, total=   0.1s\n",
      "[CV] clf__activation=tanh, clf__alpha=100, clf__hidden_layer_sizes=(10, 10), clf__learning_rate=invscaling, clf__solver=lbfgs \n",
      "[CV]  clf__activation=tanh, clf__alpha=100, clf__hidden_layer_sizes=(10, 10), clf__learning_rate=invscaling, clf__solver=lbfgs, total=   0.2s\n",
      "[CV] clf__activation=tanh, clf__alpha=100, clf__hidden_layer_sizes=(10, 10), clf__learning_rate=invscaling, clf__solver=lbfgs \n"
     ]
    },
    {
     "name": "stderr",
     "output_type": "stream",
     "text": [
      "/root/anaconda3/envs/learn-ml/lib/python3.6/site-packages/sklearn/neural_network/_multilayer_perceptron.py:470: ConvergenceWarning: lbfgs failed to converge (status=2):\n",
      "ABNORMAL_TERMINATION_IN_LNSRCH.\n",
      "\n",
      "Increase the number of iterations (max_iter) or scale the data as shown in:\n",
      "    https://scikit-learn.org/stable/modules/preprocessing.html\n",
      "  self.n_iter_ = _check_optimize_result(\"lbfgs\", opt_res, self.max_iter)\n"
     ]
    },
    {
     "name": "stdout",
     "output_type": "stream",
     "text": [
      "[CV]  clf__activation=tanh, clf__alpha=100, clf__hidden_layer_sizes=(10, 10), clf__learning_rate=invscaling, clf__solver=lbfgs, total=   0.4s\n",
      "[CV] clf__activation=tanh, clf__alpha=100, clf__hidden_layer_sizes=(7, 7, 7), clf__learning_rate=constant, clf__solver=lbfgs \n"
     ]
    },
    {
     "name": "stderr",
     "output_type": "stream",
     "text": [
      "/root/anaconda3/envs/learn-ml/lib/python3.6/site-packages/sklearn/neural_network/_multilayer_perceptron.py:470: ConvergenceWarning: lbfgs failed to converge (status=2):\n",
      "ABNORMAL_TERMINATION_IN_LNSRCH.\n",
      "\n",
      "Increase the number of iterations (max_iter) or scale the data as shown in:\n",
      "    https://scikit-learn.org/stable/modules/preprocessing.html\n",
      "  self.n_iter_ = _check_optimize_result(\"lbfgs\", opt_res, self.max_iter)\n"
     ]
    },
    {
     "name": "stdout",
     "output_type": "stream",
     "text": [
      "[CV]  clf__activation=tanh, clf__alpha=100, clf__hidden_layer_sizes=(7, 7, 7), clf__learning_rate=constant, clf__solver=lbfgs, total=   0.5s\n",
      "[CV] clf__activation=tanh, clf__alpha=100, clf__hidden_layer_sizes=(7, 7, 7), clf__learning_rate=constant, clf__solver=lbfgs \n"
     ]
    },
    {
     "name": "stderr",
     "output_type": "stream",
     "text": [
      "/root/anaconda3/envs/learn-ml/lib/python3.6/site-packages/sklearn/neural_network/_multilayer_perceptron.py:470: ConvergenceWarning: lbfgs failed to converge (status=2):\n",
      "ABNORMAL_TERMINATION_IN_LNSRCH.\n",
      "\n",
      "Increase the number of iterations (max_iter) or scale the data as shown in:\n",
      "    https://scikit-learn.org/stable/modules/preprocessing.html\n",
      "  self.n_iter_ = _check_optimize_result(\"lbfgs\", opt_res, self.max_iter)\n"
     ]
    },
    {
     "name": "stdout",
     "output_type": "stream",
     "text": [
      "[CV]  clf__activation=tanh, clf__alpha=100, clf__hidden_layer_sizes=(7, 7, 7), clf__learning_rate=constant, clf__solver=lbfgs, total=   0.3s\n",
      "[CV] clf__activation=tanh, clf__alpha=100, clf__hidden_layer_sizes=(7, 7, 7), clf__learning_rate=constant, clf__solver=lbfgs \n",
      "[CV]  clf__activation=tanh, clf__alpha=100, clf__hidden_layer_sizes=(7, 7, 7), clf__learning_rate=constant, clf__solver=lbfgs, total=   0.5s\n",
      "[CV] clf__activation=tanh, clf__alpha=100, clf__hidden_layer_sizes=(7, 7, 7), clf__learning_rate=invscaling, clf__solver=lbfgs \n"
     ]
    },
    {
     "name": "stderr",
     "output_type": "stream",
     "text": [
      "/root/anaconda3/envs/learn-ml/lib/python3.6/site-packages/sklearn/neural_network/_multilayer_perceptron.py:470: ConvergenceWarning: lbfgs failed to converge (status=2):\n",
      "ABNORMAL_TERMINATION_IN_LNSRCH.\n",
      "\n",
      "Increase the number of iterations (max_iter) or scale the data as shown in:\n",
      "    https://scikit-learn.org/stable/modules/preprocessing.html\n",
      "  self.n_iter_ = _check_optimize_result(\"lbfgs\", opt_res, self.max_iter)\n"
     ]
    },
    {
     "name": "stdout",
     "output_type": "stream",
     "text": [
      "[CV]  clf__activation=tanh, clf__alpha=100, clf__hidden_layer_sizes=(7, 7, 7), clf__learning_rate=invscaling, clf__solver=lbfgs, total=   0.2s\n",
      "[CV] clf__activation=tanh, clf__alpha=100, clf__hidden_layer_sizes=(7, 7, 7), clf__learning_rate=invscaling, clf__solver=lbfgs \n"
     ]
    },
    {
     "name": "stderr",
     "output_type": "stream",
     "text": [
      "/root/anaconda3/envs/learn-ml/lib/python3.6/site-packages/sklearn/neural_network/_multilayer_perceptron.py:470: ConvergenceWarning: lbfgs failed to converge (status=2):\n",
      "ABNORMAL_TERMINATION_IN_LNSRCH.\n",
      "\n",
      "Increase the number of iterations (max_iter) or scale the data as shown in:\n",
      "    https://scikit-learn.org/stable/modules/preprocessing.html\n",
      "  self.n_iter_ = _check_optimize_result(\"lbfgs\", opt_res, self.max_iter)\n",
      "/root/anaconda3/envs/learn-ml/lib/python3.6/site-packages/sklearn/neural_network/_multilayer_perceptron.py:470: ConvergenceWarning: lbfgs failed to converge (status=2):\n",
      "ABNORMAL_TERMINATION_IN_LNSRCH.\n",
      "\n",
      "Increase the number of iterations (max_iter) or scale the data as shown in:\n",
      "    https://scikit-learn.org/stable/modules/preprocessing.html\n",
      "  self.n_iter_ = _check_optimize_result(\"lbfgs\", opt_res, self.max_iter)\n"
     ]
    },
    {
     "name": "stdout",
     "output_type": "stream",
     "text": [
      "[CV]  clf__activation=tanh, clf__alpha=100, clf__hidden_layer_sizes=(7, 7, 7), clf__learning_rate=invscaling, clf__solver=lbfgs, total=   0.3s\n",
      "[CV] clf__activation=tanh, clf__alpha=100, clf__hidden_layer_sizes=(7, 7, 7), clf__learning_rate=invscaling, clf__solver=lbfgs \n",
      "[CV]  clf__activation=tanh, clf__alpha=100, clf__hidden_layer_sizes=(7, 7, 7), clf__learning_rate=invscaling, clf__solver=lbfgs, total=   0.1s\n",
      "[CV] clf__activation=tanh, clf__alpha=100, clf__hidden_layer_sizes=(20, 20, 20, 20), clf__learning_rate=constant, clf__solver=lbfgs \n",
      "[CV]  clf__activation=tanh, clf__alpha=100, clf__hidden_layer_sizes=(20, 20, 20, 20), clf__learning_rate=constant, clf__solver=lbfgs, total=   1.7s\n",
      "[CV] clf__activation=tanh, clf__alpha=100, clf__hidden_layer_sizes=(20, 20, 20, 20), clf__learning_rate=constant, clf__solver=lbfgs \n",
      "[CV]  clf__activation=tanh, clf__alpha=100, clf__hidden_layer_sizes=(20, 20, 20, 20), clf__learning_rate=constant, clf__solver=lbfgs, total=   0.4s\n",
      "[CV] clf__activation=tanh, clf__alpha=100, clf__hidden_layer_sizes=(20, 20, 20, 20), clf__learning_rate=constant, clf__solver=lbfgs \n"
     ]
    },
    {
     "name": "stderr",
     "output_type": "stream",
     "text": [
      "/root/anaconda3/envs/learn-ml/lib/python3.6/site-packages/sklearn/neural_network/_multilayer_perceptron.py:470: ConvergenceWarning: lbfgs failed to converge (status=2):\n",
      "ABNORMAL_TERMINATION_IN_LNSRCH.\n",
      "\n",
      "Increase the number of iterations (max_iter) or scale the data as shown in:\n",
      "    https://scikit-learn.org/stable/modules/preprocessing.html\n",
      "  self.n_iter_ = _check_optimize_result(\"lbfgs\", opt_res, self.max_iter)\n"
     ]
    },
    {
     "name": "stdout",
     "output_type": "stream",
     "text": [
      "[CV]  clf__activation=tanh, clf__alpha=100, clf__hidden_layer_sizes=(20, 20, 20, 20), clf__learning_rate=constant, clf__solver=lbfgs, total=   1.5s\n",
      "[CV] clf__activation=tanh, clf__alpha=100, clf__hidden_layer_sizes=(20, 20, 20, 20), clf__learning_rate=invscaling, clf__solver=lbfgs \n",
      "[CV]  clf__activation=tanh, clf__alpha=100, clf__hidden_layer_sizes=(20, 20, 20, 20), clf__learning_rate=invscaling, clf__solver=lbfgs, total=   1.0s\n",
      "[CV] clf__activation=tanh, clf__alpha=100, clf__hidden_layer_sizes=(20, 20, 20, 20), clf__learning_rate=invscaling, clf__solver=lbfgs \n"
     ]
    },
    {
     "name": "stderr",
     "output_type": "stream",
     "text": [
      "/root/anaconda3/envs/learn-ml/lib/python3.6/site-packages/sklearn/neural_network/_multilayer_perceptron.py:470: ConvergenceWarning: lbfgs failed to converge (status=2):\n",
      "ABNORMAL_TERMINATION_IN_LNSRCH.\n",
      "\n",
      "Increase the number of iterations (max_iter) or scale the data as shown in:\n",
      "    https://scikit-learn.org/stable/modules/preprocessing.html\n",
      "  self.n_iter_ = _check_optimize_result(\"lbfgs\", opt_res, self.max_iter)\n"
     ]
    },
    {
     "name": "stdout",
     "output_type": "stream",
     "text": [
      "[CV]  clf__activation=tanh, clf__alpha=100, clf__hidden_layer_sizes=(20, 20, 20, 20), clf__learning_rate=invscaling, clf__solver=lbfgs, total=   0.7s\n",
      "[CV] clf__activation=tanh, clf__alpha=100, clf__hidden_layer_sizes=(20, 20, 20, 20), clf__learning_rate=invscaling, clf__solver=lbfgs \n"
     ]
    },
    {
     "name": "stderr",
     "output_type": "stream",
     "text": [
      "/root/anaconda3/envs/learn-ml/lib/python3.6/site-packages/sklearn/neural_network/_multilayer_perceptron.py:470: ConvergenceWarning: lbfgs failed to converge (status=2):\n",
      "ABNORMAL_TERMINATION_IN_LNSRCH.\n",
      "\n",
      "Increase the number of iterations (max_iter) or scale the data as shown in:\n",
      "    https://scikit-learn.org/stable/modules/preprocessing.html\n",
      "  self.n_iter_ = _check_optimize_result(\"lbfgs\", opt_res, self.max_iter)\n"
     ]
    },
    {
     "name": "stdout",
     "output_type": "stream",
     "text": [
      "[CV]  clf__activation=tanh, clf__alpha=100, clf__hidden_layer_sizes=(20, 20, 20, 20), clf__learning_rate=invscaling, clf__solver=lbfgs, total=   0.8s\n",
      "[CV] clf__activation=tanh, clf__alpha=100, clf__hidden_layer_sizes=(30, 30, 30), clf__learning_rate=constant, clf__solver=lbfgs \n",
      "[CV]  clf__activation=tanh, clf__alpha=100, clf__hidden_layer_sizes=(30, 30, 30), clf__learning_rate=constant, clf__solver=lbfgs, total=   1.2s\n",
      "[CV] clf__activation=tanh, clf__alpha=100, clf__hidden_layer_sizes=(30, 30, 30), clf__learning_rate=constant, clf__solver=lbfgs \n",
      "[CV]  clf__activation=tanh, clf__alpha=100, clf__hidden_layer_sizes=(30, 30, 30), clf__learning_rate=constant, clf__solver=lbfgs, total=   1.4s\n",
      "[CV] clf__activation=tanh, clf__alpha=100, clf__hidden_layer_sizes=(30, 30, 30), clf__learning_rate=constant, clf__solver=lbfgs \n",
      "[CV]  clf__activation=tanh, clf__alpha=100, clf__hidden_layer_sizes=(30, 30, 30), clf__learning_rate=constant, clf__solver=lbfgs, total=   1.2s\n",
      "[CV] clf__activation=tanh, clf__alpha=100, clf__hidden_layer_sizes=(30, 30, 30), clf__learning_rate=invscaling, clf__solver=lbfgs \n"
     ]
    },
    {
     "name": "stderr",
     "output_type": "stream",
     "text": [
      "/root/anaconda3/envs/learn-ml/lib/python3.6/site-packages/sklearn/neural_network/_multilayer_perceptron.py:470: ConvergenceWarning: lbfgs failed to converge (status=2):\n",
      "ABNORMAL_TERMINATION_IN_LNSRCH.\n",
      "\n",
      "Increase the number of iterations (max_iter) or scale the data as shown in:\n",
      "    https://scikit-learn.org/stable/modules/preprocessing.html\n",
      "  self.n_iter_ = _check_optimize_result(\"lbfgs\", opt_res, self.max_iter)\n"
     ]
    },
    {
     "name": "stdout",
     "output_type": "stream",
     "text": [
      "[CV]  clf__activation=tanh, clf__alpha=100, clf__hidden_layer_sizes=(30, 30, 30), clf__learning_rate=invscaling, clf__solver=lbfgs, total=   1.1s\n",
      "[CV] clf__activation=tanh, clf__alpha=100, clf__hidden_layer_sizes=(30, 30, 30), clf__learning_rate=invscaling, clf__solver=lbfgs \n"
     ]
    },
    {
     "name": "stderr",
     "output_type": "stream",
     "text": [
      "/root/anaconda3/envs/learn-ml/lib/python3.6/site-packages/sklearn/neural_network/_multilayer_perceptron.py:470: ConvergenceWarning: lbfgs failed to converge (status=2):\n",
      "ABNORMAL_TERMINATION_IN_LNSRCH.\n",
      "\n",
      "Increase the number of iterations (max_iter) or scale the data as shown in:\n",
      "    https://scikit-learn.org/stable/modules/preprocessing.html\n",
      "  self.n_iter_ = _check_optimize_result(\"lbfgs\", opt_res, self.max_iter)\n"
     ]
    },
    {
     "name": "stdout",
     "output_type": "stream",
     "text": [
      "[CV]  clf__activation=tanh, clf__alpha=100, clf__hidden_layer_sizes=(30, 30, 30), clf__learning_rate=invscaling, clf__solver=lbfgs, total=   0.8s\n",
      "[CV] clf__activation=tanh, clf__alpha=100, clf__hidden_layer_sizes=(30, 30, 30), clf__learning_rate=invscaling, clf__solver=lbfgs \n"
     ]
    },
    {
     "name": "stderr",
     "output_type": "stream",
     "text": [
      "/root/anaconda3/envs/learn-ml/lib/python3.6/site-packages/sklearn/neural_network/_multilayer_perceptron.py:470: ConvergenceWarning: lbfgs failed to converge (status=2):\n",
      "ABNORMAL_TERMINATION_IN_LNSRCH.\n",
      "\n",
      "Increase the number of iterations (max_iter) or scale the data as shown in:\n",
      "    https://scikit-learn.org/stable/modules/preprocessing.html\n",
      "  self.n_iter_ = _check_optimize_result(\"lbfgs\", opt_res, self.max_iter)\n"
     ]
    },
    {
     "name": "stdout",
     "output_type": "stream",
     "text": [
      "[CV]  clf__activation=tanh, clf__alpha=100, clf__hidden_layer_sizes=(30, 30, 30), clf__learning_rate=invscaling, clf__solver=lbfgs, total=   2.1s\n",
      "[CV] clf__activation=tanh, clf__alpha=100, clf__hidden_layer_sizes=(20, 20, 20), clf__learning_rate=constant, clf__solver=lbfgs \n"
     ]
    },
    {
     "name": "stderr",
     "output_type": "stream",
     "text": [
      "/root/anaconda3/envs/learn-ml/lib/python3.6/site-packages/sklearn/neural_network/_multilayer_perceptron.py:470: ConvergenceWarning: lbfgs failed to converge (status=2):\n",
      "ABNORMAL_TERMINATION_IN_LNSRCH.\n",
      "\n",
      "Increase the number of iterations (max_iter) or scale the data as shown in:\n",
      "    https://scikit-learn.org/stable/modules/preprocessing.html\n",
      "  self.n_iter_ = _check_optimize_result(\"lbfgs\", opt_res, self.max_iter)\n"
     ]
    },
    {
     "name": "stdout",
     "output_type": "stream",
     "text": [
      "[CV]  clf__activation=tanh, clf__alpha=100, clf__hidden_layer_sizes=(20, 20, 20), clf__learning_rate=constant, clf__solver=lbfgs, total=   0.7s\n",
      "[CV] clf__activation=tanh, clf__alpha=100, clf__hidden_layer_sizes=(20, 20, 20), clf__learning_rate=constant, clf__solver=lbfgs \n",
      "[CV]  clf__activation=tanh, clf__alpha=100, clf__hidden_layer_sizes=(20, 20, 20), clf__learning_rate=constant, clf__solver=lbfgs, total=   0.9s\n",
      "[CV] clf__activation=tanh, clf__alpha=100, clf__hidden_layer_sizes=(20, 20, 20), clf__learning_rate=constant, clf__solver=lbfgs \n",
      "[CV]  clf__activation=tanh, clf__alpha=100, clf__hidden_layer_sizes=(20, 20, 20), clf__learning_rate=constant, clf__solver=lbfgs, total=   0.5s\n",
      "[CV] clf__activation=tanh, clf__alpha=100, clf__hidden_layer_sizes=(20, 20, 20), clf__learning_rate=invscaling, clf__solver=lbfgs \n",
      "[CV]  clf__activation=tanh, clf__alpha=100, clf__hidden_layer_sizes=(20, 20, 20), clf__learning_rate=invscaling, clf__solver=lbfgs, total=   0.8s\n",
      "[CV] clf__activation=tanh, clf__alpha=100, clf__hidden_layer_sizes=(20, 20, 20), clf__learning_rate=invscaling, clf__solver=lbfgs \n"
     ]
    },
    {
     "name": "stderr",
     "output_type": "stream",
     "text": [
      "/root/anaconda3/envs/learn-ml/lib/python3.6/site-packages/sklearn/neural_network/_multilayer_perceptron.py:470: ConvergenceWarning: lbfgs failed to converge (status=2):\n",
      "ABNORMAL_TERMINATION_IN_LNSRCH.\n",
      "\n",
      "Increase the number of iterations (max_iter) or scale the data as shown in:\n",
      "    https://scikit-learn.org/stable/modules/preprocessing.html\n",
      "  self.n_iter_ = _check_optimize_result(\"lbfgs\", opt_res, self.max_iter)\n"
     ]
    },
    {
     "name": "stdout",
     "output_type": "stream",
     "text": [
      "[CV]  clf__activation=tanh, clf__alpha=100, clf__hidden_layer_sizes=(20, 20, 20), clf__learning_rate=invscaling, clf__solver=lbfgs, total=   0.4s\n",
      "[CV] clf__activation=tanh, clf__alpha=100, clf__hidden_layer_sizes=(20, 20, 20), clf__learning_rate=invscaling, clf__solver=lbfgs \n",
      "[CV]  clf__activation=tanh, clf__alpha=100, clf__hidden_layer_sizes=(20, 20, 20), clf__learning_rate=invscaling, clf__solver=lbfgs, total=   0.3s\n",
      "[CV] clf__activation=tanh, clf__alpha=100, clf__hidden_layer_sizes=(15, 15, 15), clf__learning_rate=constant, clf__solver=lbfgs \n"
     ]
    },
    {
     "name": "stderr",
     "output_type": "stream",
     "text": [
      "/root/anaconda3/envs/learn-ml/lib/python3.6/site-packages/sklearn/neural_network/_multilayer_perceptron.py:470: ConvergenceWarning: lbfgs failed to converge (status=2):\n",
      "ABNORMAL_TERMINATION_IN_LNSRCH.\n",
      "\n",
      "Increase the number of iterations (max_iter) or scale the data as shown in:\n",
      "    https://scikit-learn.org/stable/modules/preprocessing.html\n",
      "  self.n_iter_ = _check_optimize_result(\"lbfgs\", opt_res, self.max_iter)\n"
     ]
    },
    {
     "name": "stdout",
     "output_type": "stream",
     "text": [
      "[CV]  clf__activation=tanh, clf__alpha=100, clf__hidden_layer_sizes=(15, 15, 15), clf__learning_rate=constant, clf__solver=lbfgs, total=   0.5s\n",
      "[CV] clf__activation=tanh, clf__alpha=100, clf__hidden_layer_sizes=(15, 15, 15), clf__learning_rate=constant, clf__solver=lbfgs \n"
     ]
    },
    {
     "name": "stderr",
     "output_type": "stream",
     "text": [
      "/root/anaconda3/envs/learn-ml/lib/python3.6/site-packages/sklearn/neural_network/_multilayer_perceptron.py:470: ConvergenceWarning: lbfgs failed to converge (status=2):\n",
      "ABNORMAL_TERMINATION_IN_LNSRCH.\n",
      "\n",
      "Increase the number of iterations (max_iter) or scale the data as shown in:\n",
      "    https://scikit-learn.org/stable/modules/preprocessing.html\n",
      "  self.n_iter_ = _check_optimize_result(\"lbfgs\", opt_res, self.max_iter)\n"
     ]
    },
    {
     "name": "stdout",
     "output_type": "stream",
     "text": [
      "[CV]  clf__activation=tanh, clf__alpha=100, clf__hidden_layer_sizes=(15, 15, 15), clf__learning_rate=constant, clf__solver=lbfgs, total=   1.7s\n",
      "[CV] clf__activation=tanh, clf__alpha=100, clf__hidden_layer_sizes=(15, 15, 15), clf__learning_rate=constant, clf__solver=lbfgs \n"
     ]
    },
    {
     "name": "stderr",
     "output_type": "stream",
     "text": [
      "/root/anaconda3/envs/learn-ml/lib/python3.6/site-packages/sklearn/neural_network/_multilayer_perceptron.py:470: ConvergenceWarning: lbfgs failed to converge (status=2):\n",
      "ABNORMAL_TERMINATION_IN_LNSRCH.\n",
      "\n",
      "Increase the number of iterations (max_iter) or scale the data as shown in:\n",
      "    https://scikit-learn.org/stable/modules/preprocessing.html\n",
      "  self.n_iter_ = _check_optimize_result(\"lbfgs\", opt_res, self.max_iter)\n"
     ]
    },
    {
     "name": "stdout",
     "output_type": "stream",
     "text": [
      "[CV]  clf__activation=tanh, clf__alpha=100, clf__hidden_layer_sizes=(15, 15, 15), clf__learning_rate=constant, clf__solver=lbfgs, total=   0.6s\n",
      "[CV] clf__activation=tanh, clf__alpha=100, clf__hidden_layer_sizes=(15, 15, 15), clf__learning_rate=invscaling, clf__solver=lbfgs \n",
      "[CV]  clf__activation=tanh, clf__alpha=100, clf__hidden_layer_sizes=(15, 15, 15), clf__learning_rate=invscaling, clf__solver=lbfgs, total=   0.6s\n",
      "[CV] clf__activation=tanh, clf__alpha=100, clf__hidden_layer_sizes=(15, 15, 15), clf__learning_rate=invscaling, clf__solver=lbfgs \n",
      "[CV]  clf__activation=tanh, clf__alpha=100, clf__hidden_layer_sizes=(15, 15, 15), clf__learning_rate=invscaling, clf__solver=lbfgs, total=   0.4s\n",
      "[CV] clf__activation=tanh, clf__alpha=100, clf__hidden_layer_sizes=(15, 15, 15), clf__learning_rate=invscaling, clf__solver=lbfgs \n",
      "[CV]  clf__activation=tanh, clf__alpha=100, clf__hidden_layer_sizes=(15, 15, 15), clf__learning_rate=invscaling, clf__solver=lbfgs, total=   0.5s\n"
     ]
    },
    {
     "name": "stderr",
     "output_type": "stream",
     "text": [
      "[Parallel(n_jobs=1)]: Done 504 out of 504 | elapsed:  5.4min finished\n",
      "/root/anaconda3/envs/learn-ml/lib/python3.6/site-packages/sklearn/neural_network/_multilayer_perceptron.py:470: ConvergenceWarning: lbfgs failed to converge (status=1):\n",
      "STOP: TOTAL NO. of ITERATIONS REACHED LIMIT.\n",
      "\n",
      "Increase the number of iterations (max_iter) or scale the data as shown in:\n",
      "    https://scikit-learn.org/stable/modules/preprocessing.html\n",
      "  self.n_iter_ = _check_optimize_result(\"lbfgs\", opt_res, self.max_iter)\n"
     ]
    },
    {
     "name": "stdout",
     "output_type": "stream",
     "text": [
      "#### Results\n",
      "     mean_fit_time  std_fit_time  mean_score_time  std_score_time  \\\n",
      "10        0.971784      0.120816         0.005269        0.003580   \n",
      "25        0.879321      0.020342         0.002716        0.000052   \n",
      "55        0.732722      0.031331         0.002615        0.000025   \n",
      "69        0.887806      0.049760         0.003384        0.001097   \n",
      "16        0.407977      0.006256         0.002570        0.000375   \n",
      "..             ...           ...              ...             ...   \n",
      "130       0.201452      0.044536         0.002192        0.000111   \n",
      "116       0.054953      0.004424         0.002049        0.000052   \n",
      "72        0.393467      0.020651         0.002062        0.000025   \n",
      "67        0.698753      0.383100         0.002637        0.000058   \n",
      "68        0.318343      0.322665         0.002415        0.000054   \n",
      "\n",
      "    param_clf__activation param_clf__alpha param_clf__hidden_layer_sizes  \\\n",
      "10                   relu            0.001                  (20, 20, 20)   \n",
      "25                   relu             0.01                  (20, 20, 20)   \n",
      "55                   relu                1                  (15, 15, 15)   \n",
      "69                   relu               10                  (15, 15, 15)   \n",
      "16                   relu             0.01                      (10, 10)   \n",
      "..                    ...              ...                           ...   \n",
      "130                  tanh                1                     (7, 7, 7)   \n",
      "116                  tanh              0.1                     (7, 7, 7)   \n",
      "72                   relu              100                      (10, 10)   \n",
      "67                   relu               10                  (20, 20, 20)   \n",
      "68                   relu               10                  (15, 15, 15)   \n",
      "\n",
      "    param_clf__learning_rate param_clf__solver  \\\n",
      "10                  constant             lbfgs   \n",
      "25                invscaling             lbfgs   \n",
      "55                invscaling             lbfgs   \n",
      "69                invscaling             lbfgs   \n",
      "16                  constant             lbfgs   \n",
      "..                       ...               ...   \n",
      "130                 constant             lbfgs   \n",
      "116                 constant             lbfgs   \n",
      "72                  constant             lbfgs   \n",
      "67                invscaling             lbfgs   \n",
      "68                  constant             lbfgs   \n",
      "\n",
      "                                                params  split0_test_score  \\\n",
      "10   {'clf__activation': 'relu', 'clf__alpha': 0.00...           0.617462   \n",
      "25   {'clf__activation': 'relu', 'clf__alpha': 0.01...           0.618697   \n",
      "55   {'clf__activation': 'relu', 'clf__alpha': 1, '...           0.614717   \n",
      "69   {'clf__activation': 'relu', 'clf__alpha': 10, ...           0.558657   \n",
      "16   {'clf__activation': 'relu', 'clf__alpha': 0.01...           0.587836   \n",
      "..                                                 ...                ...   \n",
      "130  {'clf__activation': 'tanh', 'clf__alpha': 1, '...           0.002412   \n",
      "116  {'clf__activation': 'tanh', 'clf__alpha': 0.1,...          -0.004852   \n",
      "72   {'clf__activation': 'relu', 'clf__alpha': 100,...           0.569592   \n",
      "67   {'clf__activation': 'relu', 'clf__alpha': 10, ...           0.309974   \n",
      "68   {'clf__activation': 'relu', 'clf__alpha': 10, ...           0.338306   \n",
      "\n",
      "     split1_test_score  split2_test_score  mean_test_score  std_test_score  \\\n",
      "10            0.553303           0.584814         0.585193        0.026194   \n",
      "25            0.462790           0.629495         0.570327        0.076168   \n",
      "55            0.457644           0.638354         0.570239        0.080199   \n",
      "69            0.526507           0.574068         0.553077        0.019813   \n",
      "16            0.477439           0.585129         0.550135        0.051415   \n",
      "..                 ...                ...              ...             ...   \n",
      "130          -0.000141          -0.004090        -0.000606        0.002675   \n",
      "116          -0.000141          -0.004116        -0.003036        0.002069   \n",
      "72           -1.390167           0.457240        -0.121112        0.898529   \n",
      "67           -5.157062           0.631540        -1.405182        2.656225   \n",
      "68           -9.609933           0.307025        -2.988201        4.682289   \n",
      "\n",
      "     rank_test_score  \n",
      "10                 1  \n",
      "25                 2  \n",
      "55                 3  \n",
      "69                 4  \n",
      "16                 5  \n",
      "..               ...  \n",
      "130              164  \n",
      "116              165  \n",
      "72               166  \n",
      "67               167  \n",
      "68               168  \n",
      "\n",
      "[168 rows x 16 columns]\n",
      "GridSearchCV(cv=3, error_score='raise',\n",
      "             estimator=Pipeline(memory=None,\n",
      "                                steps=[('scl',\n",
      "                                        StandardScaler(copy=True,\n",
      "                                                       with_mean=True,\n",
      "                                                       with_std=True)),\n",
      "                                       ('clf',\n",
      "                                        MLPRegressor(activation='relu',\n",
      "                                                     alpha=0.0001,\n",
      "                                                     batch_size='auto',\n",
      "                                                     beta_1=0.9, beta_2=0.999,\n",
      "                                                     early_stopping=False,\n",
      "                                                     epsilon=1e-08,\n",
      "                                                     hidden_layer_sizes=(100,),\n",
      "                                                     learning_rate='constant',\n",
      "                                                     learning_rate_init=0.001,\n",
      "                                                     max_fun...\n",
      "             iid='deprecated', n_jobs=1,\n",
      "             param_grid={'clf__activation': ['relu', 'tanh'],\n",
      "                         'clf__alpha': [0.001, 0.01, 0.1, 1, 10, 100],\n",
      "                         'clf__hidden_layer_sizes': [5, (10, 10), (7, 7, 7),\n",
      "                                                     (20, 20, 20, 20),\n",
      "                                                     (30, 30, 30), (20, 20, 20),\n",
      "                                                     (15, 15, 15)],\n",
      "                         'clf__learning_rate': ['constant', 'invscaling'],\n",
      "                         'clf__solver': ['lbfgs']},\n",
      "             pre_dispatch='2*n_jobs', refit=True, return_train_score=False,\n",
      "             scoring=None, verbose=2)\n",
      "best index 10\n",
      "best score 0.5851930459304203\n",
      "best params {'clf__activation': 'relu', 'clf__alpha': 0.001, 'clf__hidden_layer_sizes': (20, 20, 20), 'clf__learning_rate': 'constant', 'clf__solver': 'lbfgs'}\n",
      "Pipeline(memory=None,\n",
      "         steps=[('scl',\n",
      "                 StandardScaler(copy=True, with_mean=True, with_std=True)),\n",
      "                ('clf',\n",
      "                 MLPRegressor(activation='relu', alpha=0.001, batch_size='auto',\n",
      "                              beta_1=0.9, beta_2=0.999, early_stopping=False,\n",
      "                              epsilon=1e-08, hidden_layer_sizes=(20, 20, 20),\n",
      "                              learning_rate='constant',\n",
      "                              learning_rate_init=0.001, max_fun=15000,\n",
      "                              max_iter=200, momentum=0.9, n_iter_no_change=10,\n",
      "                              nesterovs_momentum=True, power_t=0.5,\n",
      "                              random_state=None, shuffle=True, solver='lbfgs',\n",
      "                              tol=0.0001, validation_fraction=0.1,\n",
      "                              verbose=False, warm_start=False))],\n",
      "         verbose=False)\n"
     ]
    },
    {
     "name": "stderr",
     "output_type": "stream",
     "text": [
      "/root/anaconda3/envs/learn-ml/lib/python3.6/site-packages/sklearn/neural_network/_multilayer_perceptron.py:470: ConvergenceWarning: lbfgs failed to converge (status=1):\n",
      "STOP: TOTAL NO. of ITERATIONS REACHED LIMIT.\n",
      "\n",
      "Increase the number of iterations (max_iter) or scale the data as shown in:\n",
      "    https://scikit-learn.org/stable/modules/preprocessing.html\n",
      "  self.n_iter_ = _check_optimize_result(\"lbfgs\", opt_res, self.max_iter)\n",
      "/root/anaconda3/envs/learn-ml/lib/python3.6/site-packages/sklearn/neural_network/_multilayer_perceptron.py:470: ConvergenceWarning: lbfgs failed to converge (status=1):\n",
      "STOP: TOTAL NO. of ITERATIONS REACHED LIMIT.\n",
      "\n",
      "Increase the number of iterations (max_iter) or scale the data as shown in:\n",
      "    https://scikit-learn.org/stable/modules/preprocessing.html\n",
      "  self.n_iter_ = _check_optimize_result(\"lbfgs\", opt_res, self.max_iter)\n",
      "/root/anaconda3/envs/learn-ml/lib/python3.6/site-packages/sklearn/neural_network/_multilayer_perceptron.py:470: ConvergenceWarning: lbfgs failed to converge (status=1):\n",
      "STOP: TOTAL NO. of ITERATIONS REACHED LIMIT.\n",
      "\n",
      "Increase the number of iterations (max_iter) or scale the data as shown in:\n",
      "    https://scikit-learn.org/stable/modules/preprocessing.html\n",
      "  self.n_iter_ = _check_optimize_result(\"lbfgs\", opt_res, self.max_iter)\n",
      "/root/anaconda3/envs/learn-ml/lib/python3.6/site-packages/sklearn/neural_network/_multilayer_perceptron.py:470: ConvergenceWarning: lbfgs failed to converge (status=2):\n",
      "ABNORMAL_TERMINATION_IN_LNSRCH.\n",
      "\n",
      "Increase the number of iterations (max_iter) or scale the data as shown in:\n",
      "    https://scikit-learn.org/stable/modules/preprocessing.html\n",
      "  self.n_iter_ = _check_optimize_result(\"lbfgs\", opt_res, self.max_iter)\n"
     ]
    },
    {
     "name": "stdout",
     "output_type": "stream",
     "text": [
      "#### CV Results\n",
      "mean score 0.5138389261710116\n",
      "Test train split\n",
      "-3.305482222270231\n"
     ]
    },
    {
     "data": {
      "image/png": "[encoded data removed]",
      "text/plain": [
       "<Figure size 432x288 with 1 Axes>"
      ]
     },
     "metadata": {
      "needs_background": "light"
     },
     "output_type": "display_data"
    },
    {
     "name": "stdout",
     "output_type": "stream",
     "text": [
      "*********************************************************************\n",
      "r2 :  -3.305482222270231\n",
      "best:  {'clf__activation': 'relu', 'clf__alpha': 0.001, 'clf__hidden_layer_sizes': (20, 20, 20), 'clf__learning_rate': 'constant', 'clf__solver': 'lbfgs'}\n",
      "rmse:  31163900.030862525\n",
      "*********************************************************************\n",
      "Model does not support model coefficients\n",
      "Model does not support feature importances\n"
     ]
    },
    {
     "name": "stderr",
     "output_type": "stream",
     "text": [
      "/root/anaconda3/envs/learn-ml/lib/python3.6/site-packages/sklearn/neural_network/_multilayer_perceptron.py:470: ConvergenceWarning: lbfgs failed to converge (status=1):\n",
      "STOP: TOTAL NO. of ITERATIONS REACHED LIMIT.\n",
      "\n",
      "Increase the number of iterations (max_iter) or scale the data as shown in:\n",
      "    https://scikit-learn.org/stable/modules/preprocessing.html\n",
      "  self.n_iter_ = _check_optimize_result(\"lbfgs\", opt_res, self.max_iter)\n",
      "/root/anaconda3/envs/learn-ml/lib/python3.6/site-packages/sklearn/neural_network/_multilayer_perceptron.py:470: ConvergenceWarning: lbfgs failed to converge (status=1):\n",
      "STOP: TOTAL NO. of ITERATIONS REACHED LIMIT.\n",
      "\n",
      "Increase the number of iterations (max_iter) or scale the data as shown in:\n",
      "    https://scikit-learn.org/stable/modules/preprocessing.html\n",
      "  self.n_iter_ = _check_optimize_result(\"lbfgs\", opt_res, self.max_iter)\n",
      "/root/anaconda3/envs/learn-ml/lib/python3.6/site-packages/sklearn/neural_network/_multilayer_perceptron.py:470: ConvergenceWarning: lbfgs failed to converge (status=2):\n",
      "ABNORMAL_TERMINATION_IN_LNSRCH.\n",
      "\n",
      "Increase the number of iterations (max_iter) or scale the data as shown in:\n",
      "    https://scikit-learn.org/stable/modules/preprocessing.html\n",
      "  self.n_iter_ = _check_optimize_result(\"lbfgs\", opt_res, self.max_iter)\n"
     ]
    },
    {
     "data": {
      "image/png": "[encoded data removed]",
      "text/plain": [
       "<Figure size 432x288 with 1 Axes>"
      ]
     },
     "metadata": {
      "needs_background": "light"
     },
     "output_type": "display_data"
    },
    {
     "name": "stdout",
     "output_type": "stream",
     "text": [
      "*********************************************************************\n",
      "r2 :  0.514\n",
      "best:  {'clf__activation': 'relu', 'clf__alpha': 0.001, 'clf__hidden_layer_sizes': (20, 20, 20), 'clf__learning_rate': 'constant', 'clf__solver': 'lbfgs'}\n",
      "rmse:  25505416.339804363\n",
      "*********************************************************************\n"
     ]
    }
   ],
   "source": [
    "model(pipe_neural, param_neural, X_train, Y_train, X, Y, X_test, Y_test)"
   ]
  },
  {
   "cell_type": "code",
   "execution_count": null,
   "metadata": {},
   "outputs": [],
   "source": []
  },
  {
   "cell_type": "code",
   "execution_count": null,
   "metadata": {},
   "outputs": [],
   "source": []
  }
 ],
 "metadata": {
  "kernelspec": {
   "display_name": "Python 3",
   "language": "python",
   "name": "python3"
  },
  "language_info": {
   "codemirror_mode": {
    "name": "ipython",
    "version": 3
   },
   "file_extension": ".py",
   "mimetype": "text/x-python",
   "name": "python",
   "nbconvert_exporter": "python",
   "pygments_lexer": "ipython3",
   "version": "3.7.6"
  }
 },
 "nbformat": 4,
 "nbformat_minor": 4
}
