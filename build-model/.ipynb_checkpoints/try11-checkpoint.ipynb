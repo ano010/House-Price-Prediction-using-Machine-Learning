{
 "cells": [
  {
   "cell_type": "code",
   "execution_count": 79,
   "metadata": {},
   "outputs": [],
   "source": [
    "import numpy as np\n",
    "import pandas as pd\n",
    "import matplotlib.pyplot as plt\n",
    "from sklearn.cluster import KMeans\n",
    "\n",
    "from sklearn.model_selection import train_test_split\n",
    "from sklearn.preprocessing import LabelEncoder\n",
    "\n",
    "from sklearn.ensemble import RandomForestRegressor\n",
    "from sklearn.linear_model import LinearRegression, Lasso, Ridge\n",
    "from sklearn.neighbors import KNeighborsRegressor\n",
    "from sklearn.neural_network import MLPRegressor\n",
    "from sklearn.tree import DecisionTreeRegressor\n",
    "from sklearn.model_selection import train_test_split, GridSearchCV, cross_val_score, cross_val_predict, KFold\n",
    "from sklearn.preprocessing import StandardScaler, PolynomialFeatures, OneHotEncoder, MinMaxScaler\n",
    "from sklearn.pipeline import Pipeline\n",
    "from sklearn import linear_model\n",
    "from sklearn.svm import SVR \n",
    "\n",
    "import seaborn as sns"
   ]
  },
  {
   "cell_type": "code",
   "execution_count": 80,
   "metadata": {},
   "outputs": [],
   "source": [
    "df = pd.read_csv('./house_data_set_cleaned_2.csv')"
   ]
  },
  {
   "cell_type": "code",
   "execution_count": 81,
   "metadata": {},
   "outputs": [
    {
     "data": {
      "text/html": [
       "<div>\n",
       "<style scoped>\n",
       "    .dataframe tbody tr th:only-of-type {\n",
       "        vertical-align: middle;\n",
       "    }\n",
       "\n",
       "    .dataframe tbody tr th {\n",
       "        vertical-align: top;\n",
       "    }\n",
       "\n",
       "    .dataframe thead th {\n",
       "        text-align: right;\n",
       "    }\n",
       "</style>\n",
       "<table border=\"1\" class=\"dataframe\">\n",
       "  <thead>\n",
       "    <tr style=\"text-align: right;\">\n",
       "      <th></th>\n",
       "      <th>Unnamed: 0</th>\n",
       "      <th>Location</th>\n",
       "      <th>Price</th>\n",
       "      <th>Beds</th>\n",
       "      <th>Baths</th>\n",
       "      <th>House Size</th>\n",
       "      <th>Land Size</th>\n",
       "    </tr>\n",
       "  </thead>\n",
       "  <tbody>\n",
       "    <tr>\n",
       "      <th>0</th>\n",
       "      <td>0</td>\n",
       "      <td>Piliyandala</td>\n",
       "      <td>12500000</td>\n",
       "      <td>4</td>\n",
       "      <td>2</td>\n",
       "      <td>1750.0</td>\n",
       "      <td>6.5</td>\n",
       "    </tr>\n",
       "    <tr>\n",
       "      <th>1</th>\n",
       "      <td>1</td>\n",
       "      <td>Kottawa</td>\n",
       "      <td>29500000</td>\n",
       "      <td>4</td>\n",
       "      <td>4</td>\n",
       "      <td>3510.0</td>\n",
       "      <td>9.0</td>\n",
       "    </tr>\n",
       "    <tr>\n",
       "      <th>2</th>\n",
       "      <td>2</td>\n",
       "      <td>Malabe</td>\n",
       "      <td>19000000</td>\n",
       "      <td>4</td>\n",
       "      <td>3</td>\n",
       "      <td>2850.0</td>\n",
       "      <td>7.5</td>\n",
       "    </tr>\n",
       "    <tr>\n",
       "      <th>3</th>\n",
       "      <td>3</td>\n",
       "      <td>Kottawa</td>\n",
       "      <td>35000000</td>\n",
       "      <td>7</td>\n",
       "      <td>4</td>\n",
       "      <td>1700.0</td>\n",
       "      <td>15.0</td>\n",
       "    </tr>\n",
       "    <tr>\n",
       "      <th>4</th>\n",
       "      <td>4</td>\n",
       "      <td>Boralesgamuwa</td>\n",
       "      <td>29500000</td>\n",
       "      <td>5</td>\n",
       "      <td>4</td>\n",
       "      <td>3500.0</td>\n",
       "      <td>8.0</td>\n",
       "    </tr>\n",
       "  </tbody>\n",
       "</table>\n",
       "</div>"
      ],
      "text/plain": [
       "   Unnamed: 0       Location     Price  Beds  Baths  House Size  Land Size\n",
       "0           0    Piliyandala  12500000     4      2      1750.0        6.5\n",
       "1           1        Kottawa  29500000     4      4      3510.0        9.0\n",
       "2           2         Malabe  19000000     4      3      2850.0        7.5\n",
       "3           3        Kottawa  35000000     7      4      1700.0       15.0\n",
       "4           4  Boralesgamuwa  29500000     5      4      3500.0        8.0"
      ]
     },
     "execution_count": 81,
     "metadata": {},
     "output_type": "execute_result"
    }
   ],
   "source": [
    "df.head()"
   ]
  },
  {
   "cell_type": "markdown",
   "metadata": {},
   "source": [
    "<h1>Convert Location using One Hot Encoder"
   ]
  },
  {
   "cell_type": "code",
   "execution_count": 82,
   "metadata": {},
   "outputs": [
    {
     "name": "stderr",
     "output_type": "stream",
     "text": [
      "C:\\Users\\Shankeerthan\\Anaconda3\\envs\\learn-ml\\lib\\site-packages\\sklearn\\preprocessing\\_label.py:251: DataConversionWarning: A column-vector y was passed when a 1d array was expected. Please change the shape of y to (n_samples, ), for example using ravel().\n",
      "  y = column_or_1d(y, warn=True)\n"
     ]
    }
   ],
   "source": [
    "label_encoder = LabelEncoder()\n",
    "integer_encoded = label_encoder.fit_transform(df['Location'].values.reshape(-1,1))\n",
    "# binary encode\n",
    "onehot_encoder = OneHotEncoder(sparse=False)\n",
    "integer_encoded = integer_encoded.reshape(len(integer_encoded), 1)\n",
    "onehot_encoded = onehot_encoder.fit_transform(integer_encoded)\n"
   ]
  },
  {
   "cell_type": "code",
   "execution_count": 84,
   "metadata": {},
   "outputs": [],
   "source": [
    "ohe_df = pd.DataFrame(onehot_encoded)\n",
    "# data = pd.concat([df, ohe_df], axis=1).drop(['Location'], axis=1)\n",
    "data = pd.concat([df, ohe_df], axis=1)"
   ]
  },
  {
   "cell_type": "code",
   "execution_count": 85,
   "metadata": {},
   "outputs": [
    {
     "data": {
      "text/plain": [
       "Index(['Unnamed: 0',   'Location',      'Price',       'Beds',      'Baths',\n",
       "       'House Size',  'Land Size',            0,            1,            2,\n",
       "                  3,            4,            5,            6,            7,\n",
       "                  8,            9,           10,           11,           12,\n",
       "                 13,           14,           15,           16,           17,\n",
       "                 18,           19,           20,           21,           22,\n",
       "                 23,           24,           25,           26,           27,\n",
       "                 28,           29,           30,           31,           32,\n",
       "                 33,           34,           35,           36,           37,\n",
       "                 38,           39],\n",
       "      dtype='object')"
      ]
     },
     "execution_count": 85,
     "metadata": {},
     "output_type": "execute_result"
    }
   ],
   "source": [
    "data.columns"
   ]
  },
  {
   "cell_type": "markdown",
   "metadata": {},
   "source": [
    "<h1>Split data set into 3 parts based on Price"
   ]
  },
  {
   "cell_type": "code",
   "execution_count": 86,
   "metadata": {},
   "outputs": [],
   "source": [
    "data['h_l_ratio'] = data['House Size'].apply(lambda x: x * 0.0036730945821854912)/ data['Land Size']\n",
    "data['Bed Size'] = data['House Size'] / data['Beds']\n",
    "data['beds_bath_ratio'] = data['Beds']/data['Baths']"
   ]
  },
  {
   "cell_type": "code",
   "execution_count": 87,
   "metadata": {},
   "outputs": [],
   "source": [
    "data = data.drop(['Unnamed: 0'], axis=1)"
   ]
  },
  {
   "cell_type": "code",
   "execution_count": 88,
   "metadata": {},
   "outputs": [],
   "source": [
    "df_range_1 = data.query('Price < 2.0e7')\n",
    "df_range_2 = data.query('Price >= 2.0e7 & Price < 4.0e7')\n",
    "df_range_3 = data.query('Price > 4.0e7' )"
   ]
  },
  {
   "cell_type": "code",
   "execution_count": 89,
   "metadata": {},
   "outputs": [
    {
     "data": {
      "text/plain": [
       "(3162, 49)"
      ]
     },
     "execution_count": 89,
     "metadata": {},
     "output_type": "execute_result"
    }
   ],
   "source": [
    "df_range_1.shape"
   ]
  },
  {
   "cell_type": "code",
   "execution_count": 90,
   "metadata": {},
   "outputs": [
    {
     "data": {
      "text/plain": [
       "(3164, 49)"
      ]
     },
     "execution_count": 90,
     "metadata": {},
     "output_type": "execute_result"
    }
   ],
   "source": [
    "df_range_2.shape"
   ]
  },
  {
   "cell_type": "code",
   "execution_count": 91,
   "metadata": {},
   "outputs": [
    {
     "data": {
      "text/plain": [
       "(1211, 49)"
      ]
     },
     "execution_count": 91,
     "metadata": {},
     "output_type": "execute_result"
    }
   ],
   "source": [
    "df_range_3.shape"
   ]
  },
  {
   "cell_type": "markdown",
   "metadata": {},
   "source": [
    "<h1>Important Features combinations"
   ]
  },
  {
   "cell_type": "code",
   "execution_count": 92,
   "metadata": {},
   "outputs": [],
   "source": [
    "features_important =[\n",
    "    [0,            1,            2,            3,\n",
    "                  4,            5,            6,            7,            8,\n",
    "                  9,           10,           11,           12,           13,\n",
    "                 14,           15,           16,           17,           18,\n",
    "                 19,           20,           21,           22,           23,\n",
    "                 24,           25,           26,           27,           28,\n",
    "                 29,           30,           31,           32,           33,\n",
    "                 34,           35,           36,           37,           38,\n",
    "                 39, 'Beds', 'Baths', 'Land Size', ],\n",
    "    [0,            1,            2,            3,\n",
    "                  4,            5,            6,            7,            8,\n",
    "                  9,           10,           11,           12,           13,\n",
    "                 14,           15,           16,           17,           18,\n",
    "                 19,           20,           21,           22,           23,\n",
    "                 24,           25,           26,           27,           28,\n",
    "                 29,           30,           31,           32,           33,\n",
    "                 34,           35,           36,           37,           38,\n",
    "                 39, 'Beds', 'Baths','House Size', 'h_l_ratio'],\n",
    "    [0,            1,            2,            3,\n",
    "                  4,            5,            6,            7,            8,\n",
    "                  9,           10,           11,           12,           13,\n",
    "                 14,           15,           16,           17,           18,\n",
    "                 19,           20,           21,           22,           23,\n",
    "                 24,           25,           26,           27,           28,\n",
    "                 29,           30,           31,           32,           33,\n",
    "                 34,           35,           36,           37,           38,\n",
    "                 39, 'Beds', 'Baths', 'Land Size', 'h_l_ratio'],\n",
    "    [0,            1,            2,            3,\n",
    "                  4,            5,            6,            7,            8,\n",
    "                  9,           10,           11,           12,           13,\n",
    "                 14,           15,           16,           17,           18,\n",
    "                 19,           20,           21,           22,           23,\n",
    "                 24,           25,           26,           27,           28,\n",
    "                 29,           30,           31,           32,           33,\n",
    "                 34,           35,           36,           37,           38,\n",
    "                 39, 'Beds', 'Baths', 'Land Size', 'Bed Size'],\n",
    "    [0,            1,            2,            3,\n",
    "                  4,            5,            6,            7,            8,\n",
    "                  9,           10,           11,           12,           13,\n",
    "                 14,           15,           16,           17,           18,\n",
    "                 19,           20,           21,           22,           23,\n",
    "                 24,           25,           26,           27,           28,\n",
    "                 29,           30,           31,           32,           33,\n",
    "                 34,           35,           36,           37,           38,\n",
    "                 39, 'Beds', 'House Size', 'Land Size', 'beds_bath_ratio'],\n",
    "    [0,            1,            2,            3,\n",
    "                  4,            5,            6,            7,            8,\n",
    "                  9,           10,           11,           12,           13,\n",
    "                 14,           15,           16,           17,           18,\n",
    "                 19,           20,           21,           22,           23,\n",
    "                 24,           25,           26,           27,           28,\n",
    "                 29,           30,           31,           32,           33,\n",
    "                 34,           35,           36,           37,           38,\n",
    "                 39, 'Beds', 'House Size', 'h_l_ratio', 'beds_bath_ratio'],\n",
    "    [0,            1,            2,            3,\n",
    "                  4,            5,            6,            7,            8,\n",
    "                  9,           10,           11,           12,           13,\n",
    "                 14,           15,           16,           17,           18,\n",
    "                 19,           20,           21,           22,           23,\n",
    "                 24,           25,           26,           27,           28,\n",
    "                 29,           30,           31,           32,           33,\n",
    "                 34,           35,           36,           37,           38,\n",
    "                 39, 'Beds', 'Land Size', 'h_l_ratio', 'beds_bath_ratio'],\n",
    "    [0,            1,            2,            3,\n",
    "                  4,            5,            6,            7,            8,\n",
    "                  9,           10,           11,           12,           13,\n",
    "                 14,           15,           16,           17,           18,\n",
    "                 19,           20,           21,           22,           23,\n",
    "                 24,           25,           26,           27,           28,\n",
    "                 29,           30,           31,           32,           33,\n",
    "                 34,           35,           36,           37,           38,\n",
    "     0,            1,            2,            3,\n",
    "                  4,            5,            6,            7,            8,\n",
    "                  9,           10,           11,           12,           13,\n",
    "                 14,           15,           16,           17,           18,\n",
    "                 19,           20,           21,           22,           23,\n",
    "                 24,           25,           26,           27,           28,\n",
    "                 29,           30,           31,           32,           33,\n",
    "                 34,           35,           36,           37,           38,\n",
    "                 39, 'Beds', 'Baths', 'Land Size', 'h_l_ratio', 'beds_bath_ratio'],\n",
    "    [0,            1,            2,            3,\n",
    "                  4,            5,            6,            7,            8,\n",
    "                  9,           10,           11,           12,           13,\n",
    "                 14,           15,           16,           17,           18,\n",
    "                 19,           20,           21,           22,           23,\n",
    "                 24,           25,           26,           27,           28,\n",
    "                 29,           30,           31,           32,           33,\n",
    "                 34,           35,           36,           37,           38,\n",
    "                 39, 'Beds', 'Baths', 'h_l_ratio', 'Bed Size', 'beds_bath_ratio']  \n",
    "]"
   ]
  },
  {
   "cell_type": "code",
   "execution_count": 93,
   "metadata": {},
   "outputs": [],
   "source": [
    "def build_rf_models(imp_features, df_range):\n",
    "    rf_results = []\n",
    "    for index, features in enumerate(imp_features):\n",
    "        model = RandomForestRegressor(n_jobs=-1)\n",
    "        max_scores_param = []\n",
    "        X_train, X_test, Y_train, Y_test = train_test_split(\n",
    "            df_range[features],\n",
    "            df_range['Price'],\n",
    "            test_size=0.33,\n",
    "            random_state=42\n",
    "        )\n",
    "        estimators = np.arange(10, 400, 10)\n",
    "        scores = []\n",
    "        rmse = 0.0\n",
    "        rmses = []\n",
    "        for n in estimators:\n",
    "            model.set_params(n_estimators=n)\n",
    "            model.fit(X_train, Y_train)\n",
    "            pred_y = model.predict(X_test)\n",
    "            rmse = np.sqrt(((pred_y - Y_test) ** 2).mean())\n",
    "            score = model.score(X_test, Y_test)\n",
    "        scores.append(score)\n",
    "        rmses.append(rmse)\n",
    "    max_scores_param.append((max(scores), estimators[scores.index(max(scores))], rmses[scores.index(max(scores))] ))\n",
    "    print((max(scores), estimators[scores.index(max(scores))], rmses[scores.index(max(scores))] ))\n",
    "    rf_results.append((features, max_scores_param))\n",
    "    print('#######################################################################################################################')\n",
    "    return rf_results\n"
   ]
  },
  {
   "cell_type": "code",
   "execution_count": 30,
   "metadata": {},
   "outputs": [
    {
     "name": "stdout",
     "output_type": "stream",
     "text": [
      "(0.6491302323421233, 10, 2608312.736248724)\n",
      "#######################################################################################################################\n"
     ]
    },
    {
     "data": {
      "text/plain": [
       "[([0,\n",
       "   1,\n",
       "   2,\n",
       "   3,\n",
       "   4,\n",
       "   5,\n",
       "   6,\n",
       "   7,\n",
       "   8,\n",
       "   9,\n",
       "   10,\n",
       "   11,\n",
       "   12,\n",
       "   13,\n",
       "   14,\n",
       "   15,\n",
       "   16,\n",
       "   17,\n",
       "   18,\n",
       "   19,\n",
       "   20,\n",
       "   21,\n",
       "   22,\n",
       "   23,\n",
       "   24,\n",
       "   25,\n",
       "   26,\n",
       "   27,\n",
       "   28,\n",
       "   29,\n",
       "   30,\n",
       "   31,\n",
       "   32,\n",
       "   33,\n",
       "   34,\n",
       "   35,\n",
       "   36,\n",
       "   37,\n",
       "   38,\n",
       "   39,\n",
       "   'Beds',\n",
       "   'Baths',\n",
       "   'h_l_ratio',\n",
       "   'Bed Size',\n",
       "   'beds_bath_ratio'],\n",
       "  [(0.6491302323421233, 10, 2608312.736248724)])]"
      ]
     },
     "execution_count": 30,
     "metadata": {},
     "output_type": "execute_result"
    }
   ],
   "source": [
    "build_rf_models(features_important, df_range_1)"
   ]
  },
  {
   "cell_type": "code",
   "execution_count": 31,
   "metadata": {},
   "outputs": [
    {
     "name": "stdout",
     "output_type": "stream",
     "text": [
      "(0.6088976720226134, 10, 3260146.0450336677)\n",
      "#######################################################################################################################\n"
     ]
    },
    {
     "data": {
      "text/plain": [
       "[([0,\n",
       "   1,\n",
       "   2,\n",
       "   3,\n",
       "   4,\n",
       "   5,\n",
       "   6,\n",
       "   7,\n",
       "   8,\n",
       "   9,\n",
       "   10,\n",
       "   11,\n",
       "   12,\n",
       "   13,\n",
       "   14,\n",
       "   15,\n",
       "   16,\n",
       "   17,\n",
       "   18,\n",
       "   19,\n",
       "   20,\n",
       "   21,\n",
       "   22,\n",
       "   23,\n",
       "   24,\n",
       "   25,\n",
       "   26,\n",
       "   27,\n",
       "   28,\n",
       "   29,\n",
       "   30,\n",
       "   31,\n",
       "   32,\n",
       "   33,\n",
       "   34,\n",
       "   35,\n",
       "   36,\n",
       "   37,\n",
       "   38,\n",
       "   39,\n",
       "   'Beds',\n",
       "   'Baths',\n",
       "   'h_l_ratio',\n",
       "   'Bed Size',\n",
       "   'beds_bath_ratio'],\n",
       "  [(0.6088976720226134, 10, 3260146.0450336677)])]"
      ]
     },
     "execution_count": 31,
     "metadata": {},
     "output_type": "execute_result"
    }
   ],
   "source": [
    "build_rf_models(features_important, df_range_2)"
   ]
  },
  {
   "cell_type": "code",
   "execution_count": 32,
   "metadata": {},
   "outputs": [
    {
     "name": "stdout",
     "output_type": "stream",
     "text": [
      "(0.20298034018456146, 10, 56732410.44885345)\n",
      "#######################################################################################################################\n"
     ]
    },
    {
     "data": {
      "text/plain": [
       "[([0,\n",
       "   1,\n",
       "   2,\n",
       "   3,\n",
       "   4,\n",
       "   5,\n",
       "   6,\n",
       "   7,\n",
       "   8,\n",
       "   9,\n",
       "   10,\n",
       "   11,\n",
       "   12,\n",
       "   13,\n",
       "   14,\n",
       "   15,\n",
       "   16,\n",
       "   17,\n",
       "   18,\n",
       "   19,\n",
       "   20,\n",
       "   21,\n",
       "   22,\n",
       "   23,\n",
       "   24,\n",
       "   25,\n",
       "   26,\n",
       "   27,\n",
       "   28,\n",
       "   29,\n",
       "   30,\n",
       "   31,\n",
       "   32,\n",
       "   33,\n",
       "   34,\n",
       "   35,\n",
       "   36,\n",
       "   37,\n",
       "   38,\n",
       "   39,\n",
       "   'Beds',\n",
       "   'Baths',\n",
       "   'h_l_ratio',\n",
       "   'Bed Size',\n",
       "   'beds_bath_ratio'],\n",
       "  [(0.20298034018456146, 10, 56732410.44885345)])]"
      ]
     },
     "execution_count": 32,
     "metadata": {},
     "output_type": "execute_result"
    }
   ],
   "source": [
    "build_rf_models(features_important, df_range_3)"
   ]
  },
  {
   "cell_type": "code",
   "execution_count": 15,
   "metadata": {},
   "outputs": [],
   "source": [
    "def cluster(df_to_cluster, n_cluster):\n",
    "    km = KMeans(\n",
    "        n_clusters=n_cluster\n",
    "    )\n",
    "    km.fit(df_to_cluster)\n",
    "    y_km = km.predict(df_to_cluster)\n",
    "    return y_km"
   ]
  },
  {
   "cell_type": "markdown",
   "metadata": {},
   "source": [
    "<h1>Clustering into 2"
   ]
  },
  {
   "cell_type": "code",
   "execution_count": 100,
   "metadata": {},
   "outputs": [],
   "source": [
    "y_km_1 = cluster(df_range_1.drop(['Price', 'Location'],axis=1), 2)"
   ]
  },
  {
   "cell_type": "code",
   "execution_count": 101,
   "metadata": {},
   "outputs": [
    {
     "data": {
      "text/plain": [
       "(1, 49)"
      ]
     },
     "execution_count": 101,
     "metadata": {},
     "output_type": "execute_result"
    }
   ],
   "source": [
    "df_range_1.loc[df_range_1[y_km_1 == 1].index].shape"
   ]
  },
  {
   "cell_type": "code",
   "execution_count": 102,
   "metadata": {},
   "outputs": [
    {
     "data": {
      "text/plain": [
       "(3161, 49)"
      ]
     },
     "execution_count": 102,
     "metadata": {},
     "output_type": "execute_result"
    }
   ],
   "source": [
    "df_range_1.loc[df_range_1[y_km_1 == 0].index].shape"
   ]
  },
  {
   "cell_type": "markdown",
   "metadata": {},
   "source": [
    "<h1>Remove That cluster"
   ]
  },
  {
   "cell_type": "code",
   "execution_count": 103,
   "metadata": {},
   "outputs": [],
   "source": [
    "df_range_1 = df_range_1.drop(df_range_1[y_km_1 == 1].index, axis=0)"
   ]
  },
  {
   "cell_type": "code",
   "execution_count": 104,
   "metadata": {},
   "outputs": [],
   "source": [
    "y_km_new_1 = np.delete(y_km_1,np.where(y_km_1==1)[0][0])"
   ]
  },
  {
   "cell_type": "code",
   "execution_count": 105,
   "metadata": {},
   "outputs": [
    {
     "data": {
      "text/plain": [
       "(3161, 49)"
      ]
     },
     "execution_count": 105,
     "metadata": {},
     "output_type": "execute_result"
    }
   ],
   "source": [
    "df_range_1.shape"
   ]
  },
  {
   "cell_type": "markdown",
   "metadata": {},
   "source": [
    "<h1>Try RF with cluster(biggest cluster)"
   ]
  },
  {
   "cell_type": "code",
   "execution_count": 84,
   "metadata": {},
   "outputs": [
    {
     "ename": "KeyboardInterrupt",
     "evalue": "",
     "output_type": "error",
     "traceback": [
      "\u001b[1;31m---------------------------------------------------------------------------\u001b[0m",
      "\u001b[1;31mKeyboardInterrupt\u001b[0m                         Traceback (most recent call last)",
      "\u001b[1;32m<ipython-input-84-0756b621e36c>\u001b[0m in \u001b[0;36m<module>\u001b[1;34m\u001b[0m\n\u001b[1;32m----> 1\u001b[1;33m \u001b[0mbuild_rf_models\u001b[0m\u001b[1;33m(\u001b[0m\u001b[0mfeatures_important\u001b[0m\u001b[1;33m,\u001b[0m \u001b[0mdf_range_1\u001b[0m\u001b[1;33m.\u001b[0m\u001b[0mloc\u001b[0m\u001b[1;33m[\u001b[0m\u001b[0mdf_range_1\u001b[0m\u001b[1;33m[\u001b[0m\u001b[0my_km_new_1\u001b[0m \u001b[1;33m==\u001b[0m \u001b[1;36m0\u001b[0m\u001b[1;33m]\u001b[0m\u001b[1;33m.\u001b[0m\u001b[0mindex\u001b[0m\u001b[1;33m]\u001b[0m\u001b[1;33m)\u001b[0m\u001b[1;33m\u001b[0m\u001b[1;33m\u001b[0m\u001b[0m\n\u001b[0m",
      "\u001b[1;32m<ipython-input-29-e27070b47584>\u001b[0m in \u001b[0;36mbuild_rf_models\u001b[1;34m(imp_features, df_range)\u001b[0m\n\u001b[0;32m     17\u001b[0m             \u001b[0mmodel\u001b[0m\u001b[1;33m.\u001b[0m\u001b[0mset_params\u001b[0m\u001b[1;33m(\u001b[0m\u001b[0mn_estimators\u001b[0m\u001b[1;33m=\u001b[0m\u001b[0mn\u001b[0m\u001b[1;33m)\u001b[0m\u001b[1;33m\u001b[0m\u001b[1;33m\u001b[0m\u001b[0m\n\u001b[0;32m     18\u001b[0m             \u001b[0mmodel\u001b[0m\u001b[1;33m.\u001b[0m\u001b[0mfit\u001b[0m\u001b[1;33m(\u001b[0m\u001b[0mX_train\u001b[0m\u001b[1;33m,\u001b[0m \u001b[0mY_train\u001b[0m\u001b[1;33m)\u001b[0m\u001b[1;33m\u001b[0m\u001b[1;33m\u001b[0m\u001b[0m\n\u001b[1;32m---> 19\u001b[1;33m             \u001b[0mpred_y\u001b[0m \u001b[1;33m=\u001b[0m \u001b[0mmodel\u001b[0m\u001b[1;33m.\u001b[0m\u001b[0mpredict\u001b[0m\u001b[1;33m(\u001b[0m\u001b[0mX_test\u001b[0m\u001b[1;33m)\u001b[0m\u001b[1;33m\u001b[0m\u001b[1;33m\u001b[0m\u001b[0m\n\u001b[0m\u001b[0;32m     20\u001b[0m             \u001b[0mrmse\u001b[0m \u001b[1;33m=\u001b[0m \u001b[0mnp\u001b[0m\u001b[1;33m.\u001b[0m\u001b[0msqrt\u001b[0m\u001b[1;33m(\u001b[0m\u001b[1;33m(\u001b[0m\u001b[1;33m(\u001b[0m\u001b[0mpred_y\u001b[0m \u001b[1;33m-\u001b[0m \u001b[0mY_test\u001b[0m\u001b[1;33m)\u001b[0m \u001b[1;33m**\u001b[0m \u001b[1;36m2\u001b[0m\u001b[1;33m)\u001b[0m\u001b[1;33m.\u001b[0m\u001b[0mmean\u001b[0m\u001b[1;33m(\u001b[0m\u001b[1;33m)\u001b[0m\u001b[1;33m)\u001b[0m\u001b[1;33m\u001b[0m\u001b[1;33m\u001b[0m\u001b[0m\n\u001b[0;32m     21\u001b[0m             \u001b[0mscore\u001b[0m \u001b[1;33m=\u001b[0m \u001b[0mmodel\u001b[0m\u001b[1;33m.\u001b[0m\u001b[0mscore\u001b[0m\u001b[1;33m(\u001b[0m\u001b[0mX_test\u001b[0m\u001b[1;33m,\u001b[0m \u001b[0mY_test\u001b[0m\u001b[1;33m)\u001b[0m\u001b[1;33m\u001b[0m\u001b[1;33m\u001b[0m\u001b[0m\n",
      "\u001b[1;32m~\\Anaconda3\\envs\\learn-ml\\lib\\site-packages\\sklearn\\ensemble\\_forest.py\u001b[0m in \u001b[0;36mpredict\u001b[1;34m(self, X)\u001b[0m\n\u001b[0;32m    780\u001b[0m                  \u001b[1;33m**\u001b[0m\u001b[0m_joblib_parallel_args\u001b[0m\u001b[1;33m(\u001b[0m\u001b[0mrequire\u001b[0m\u001b[1;33m=\u001b[0m\u001b[1;34m\"sharedmem\"\u001b[0m\u001b[1;33m)\u001b[0m\u001b[1;33m)\u001b[0m\u001b[1;33m(\u001b[0m\u001b[1;33m\u001b[0m\u001b[1;33m\u001b[0m\u001b[0m\n\u001b[0;32m    781\u001b[0m             \u001b[0mdelayed\u001b[0m\u001b[1;33m(\u001b[0m\u001b[0m_accumulate_prediction\u001b[0m\u001b[1;33m)\u001b[0m\u001b[1;33m(\u001b[0m\u001b[0me\u001b[0m\u001b[1;33m.\u001b[0m\u001b[0mpredict\u001b[0m\u001b[1;33m,\u001b[0m \u001b[0mX\u001b[0m\u001b[1;33m,\u001b[0m \u001b[1;33m[\u001b[0m\u001b[0my_hat\u001b[0m\u001b[1;33m]\u001b[0m\u001b[1;33m,\u001b[0m \u001b[0mlock\u001b[0m\u001b[1;33m)\u001b[0m\u001b[1;33m\u001b[0m\u001b[1;33m\u001b[0m\u001b[0m\n\u001b[1;32m--> 782\u001b[1;33m             for e in self.estimators_)\n\u001b[0m\u001b[0;32m    783\u001b[0m \u001b[1;33m\u001b[0m\u001b[0m\n\u001b[0;32m    784\u001b[0m         \u001b[0my_hat\u001b[0m \u001b[1;33m/=\u001b[0m \u001b[0mlen\u001b[0m\u001b[1;33m(\u001b[0m\u001b[0mself\u001b[0m\u001b[1;33m.\u001b[0m\u001b[0mestimators_\u001b[0m\u001b[1;33m)\u001b[0m\u001b[1;33m\u001b[0m\u001b[1;33m\u001b[0m\u001b[0m\n",
      "\u001b[1;32m~\\Anaconda3\\envs\\learn-ml\\lib\\site-packages\\joblib\\parallel.py\u001b[0m in \u001b[0;36m__call__\u001b[1;34m(self, iterable)\u001b[0m\n\u001b[0;32m   1025\u001b[0m                 \u001b[0mself\u001b[0m\u001b[1;33m.\u001b[0m\u001b[0m_backend\u001b[0m\u001b[1;33m.\u001b[0m\u001b[0mstop_call\u001b[0m\u001b[1;33m(\u001b[0m\u001b[1;33m)\u001b[0m\u001b[1;33m\u001b[0m\u001b[1;33m\u001b[0m\u001b[0m\n\u001b[0;32m   1026\u001b[0m             \u001b[1;32mif\u001b[0m \u001b[1;32mnot\u001b[0m \u001b[0mself\u001b[0m\u001b[1;33m.\u001b[0m\u001b[0m_managed_backend\u001b[0m\u001b[1;33m:\u001b[0m\u001b[1;33m\u001b[0m\u001b[1;33m\u001b[0m\u001b[0m\n\u001b[1;32m-> 1027\u001b[1;33m                 \u001b[0mself\u001b[0m\u001b[1;33m.\u001b[0m\u001b[0m_terminate_backend\u001b[0m\u001b[1;33m(\u001b[0m\u001b[1;33m)\u001b[0m\u001b[1;33m\u001b[0m\u001b[1;33m\u001b[0m\u001b[0m\n\u001b[0m\u001b[0;32m   1028\u001b[0m             \u001b[0mself\u001b[0m\u001b[1;33m.\u001b[0m\u001b[0m_jobs\u001b[0m \u001b[1;33m=\u001b[0m \u001b[0mlist\u001b[0m\u001b[1;33m(\u001b[0m\u001b[1;33m)\u001b[0m\u001b[1;33m\u001b[0m\u001b[1;33m\u001b[0m\u001b[0m\n\u001b[0;32m   1029\u001b[0m             \u001b[0mself\u001b[0m\u001b[1;33m.\u001b[0m\u001b[0m_pickle_cache\u001b[0m \u001b[1;33m=\u001b[0m \u001b[1;32mNone\u001b[0m\u001b[1;33m\u001b[0m\u001b[1;33m\u001b[0m\u001b[0m\n",
      "\u001b[1;32m~\\Anaconda3\\envs\\learn-ml\\lib\\site-packages\\joblib\\parallel.py\u001b[0m in \u001b[0;36m_terminate_backend\u001b[1;34m(self)\u001b[0m\n\u001b[0;32m    732\u001b[0m     \u001b[1;32mdef\u001b[0m \u001b[0m_terminate_backend\u001b[0m\u001b[1;33m(\u001b[0m\u001b[0mself\u001b[0m\u001b[1;33m)\u001b[0m\u001b[1;33m:\u001b[0m\u001b[1;33m\u001b[0m\u001b[1;33m\u001b[0m\u001b[0m\n\u001b[0;32m    733\u001b[0m         \u001b[1;32mif\u001b[0m \u001b[0mself\u001b[0m\u001b[1;33m.\u001b[0m\u001b[0m_backend\u001b[0m \u001b[1;32mis\u001b[0m \u001b[1;32mnot\u001b[0m \u001b[1;32mNone\u001b[0m\u001b[1;33m:\u001b[0m\u001b[1;33m\u001b[0m\u001b[1;33m\u001b[0m\u001b[0m\n\u001b[1;32m--> 734\u001b[1;33m             \u001b[0mself\u001b[0m\u001b[1;33m.\u001b[0m\u001b[0m_backend\u001b[0m\u001b[1;33m.\u001b[0m\u001b[0mterminate\u001b[0m\u001b[1;33m(\u001b[0m\u001b[1;33m)\u001b[0m\u001b[1;33m\u001b[0m\u001b[1;33m\u001b[0m\u001b[0m\n\u001b[0m\u001b[0;32m    735\u001b[0m \u001b[1;33m\u001b[0m\u001b[0m\n\u001b[0;32m    736\u001b[0m     \u001b[1;32mdef\u001b[0m \u001b[0m_dispatch\u001b[0m\u001b[1;33m(\u001b[0m\u001b[0mself\u001b[0m\u001b[1;33m,\u001b[0m \u001b[0mbatch\u001b[0m\u001b[1;33m)\u001b[0m\u001b[1;33m:\u001b[0m\u001b[1;33m\u001b[0m\u001b[1;33m\u001b[0m\u001b[0m\n",
      "\u001b[1;32m~\\Anaconda3\\envs\\learn-ml\\lib\\site-packages\\joblib\\_parallel_backends.py\u001b[0m in \u001b[0;36mterminate\u001b[1;34m(self)\u001b[0m\n\u001b[0;32m    242\u001b[0m         \u001b[1;32mif\u001b[0m \u001b[0mself\u001b[0m\u001b[1;33m.\u001b[0m\u001b[0m_pool\u001b[0m \u001b[1;32mis\u001b[0m \u001b[1;32mnot\u001b[0m \u001b[1;32mNone\u001b[0m\u001b[1;33m:\u001b[0m\u001b[1;33m\u001b[0m\u001b[1;33m\u001b[0m\u001b[0m\n\u001b[0;32m    243\u001b[0m             \u001b[0mself\u001b[0m\u001b[1;33m.\u001b[0m\u001b[0m_pool\u001b[0m\u001b[1;33m.\u001b[0m\u001b[0mclose\u001b[0m\u001b[1;33m(\u001b[0m\u001b[1;33m)\u001b[0m\u001b[1;33m\u001b[0m\u001b[1;33m\u001b[0m\u001b[0m\n\u001b[1;32m--> 244\u001b[1;33m             \u001b[0mself\u001b[0m\u001b[1;33m.\u001b[0m\u001b[0m_pool\u001b[0m\u001b[1;33m.\u001b[0m\u001b[0mterminate\u001b[0m\u001b[1;33m(\u001b[0m\u001b[1;33m)\u001b[0m  \u001b[1;31m# terminate does a join()\u001b[0m\u001b[1;33m\u001b[0m\u001b[1;33m\u001b[0m\u001b[0m\n\u001b[0m\u001b[0;32m    245\u001b[0m             \u001b[0mself\u001b[0m\u001b[1;33m.\u001b[0m\u001b[0m_pool\u001b[0m \u001b[1;33m=\u001b[0m \u001b[1;32mNone\u001b[0m\u001b[1;33m\u001b[0m\u001b[1;33m\u001b[0m\u001b[0m\n\u001b[0;32m    246\u001b[0m \u001b[1;33m\u001b[0m\u001b[0m\n",
      "\u001b[1;32m~\\Anaconda3\\envs\\learn-ml\\lib\\multiprocessing\\pool.py\u001b[0m in \u001b[0;36mterminate\u001b[1;34m(self)\u001b[0m\n\u001b[0;32m    546\u001b[0m         \u001b[0mself\u001b[0m\u001b[1;33m.\u001b[0m\u001b[0m_state\u001b[0m \u001b[1;33m=\u001b[0m \u001b[0mTERMINATE\u001b[0m\u001b[1;33m\u001b[0m\u001b[1;33m\u001b[0m\u001b[0m\n\u001b[0;32m    547\u001b[0m         \u001b[0mself\u001b[0m\u001b[1;33m.\u001b[0m\u001b[0m_worker_handler\u001b[0m\u001b[1;33m.\u001b[0m\u001b[0m_state\u001b[0m \u001b[1;33m=\u001b[0m \u001b[0mTERMINATE\u001b[0m\u001b[1;33m\u001b[0m\u001b[1;33m\u001b[0m\u001b[0m\n\u001b[1;32m--> 548\u001b[1;33m         \u001b[0mself\u001b[0m\u001b[1;33m.\u001b[0m\u001b[0m_terminate\u001b[0m\u001b[1;33m(\u001b[0m\u001b[1;33m)\u001b[0m\u001b[1;33m\u001b[0m\u001b[1;33m\u001b[0m\u001b[0m\n\u001b[0m\u001b[0;32m    549\u001b[0m \u001b[1;33m\u001b[0m\u001b[0m\n\u001b[0;32m    550\u001b[0m     \u001b[1;32mdef\u001b[0m \u001b[0mjoin\u001b[0m\u001b[1;33m(\u001b[0m\u001b[0mself\u001b[0m\u001b[1;33m)\u001b[0m\u001b[1;33m:\u001b[0m\u001b[1;33m\u001b[0m\u001b[1;33m\u001b[0m\u001b[0m\n",
      "\u001b[1;32m~\\Anaconda3\\envs\\learn-ml\\lib\\multiprocessing\\util.py\u001b[0m in \u001b[0;36m__call__\u001b[1;34m(self, wr, _finalizer_registry, sub_debug, getpid)\u001b[0m\n\u001b[0;32m    199\u001b[0m                 sub_debug('finalizer calling %s with args %s and kwargs %s',\n\u001b[0;32m    200\u001b[0m                           self._callback, self._args, self._kwargs)\n\u001b[1;32m--> 201\u001b[1;33m                 \u001b[0mres\u001b[0m \u001b[1;33m=\u001b[0m \u001b[0mself\u001b[0m\u001b[1;33m.\u001b[0m\u001b[0m_callback\u001b[0m\u001b[1;33m(\u001b[0m\u001b[1;33m*\u001b[0m\u001b[0mself\u001b[0m\u001b[1;33m.\u001b[0m\u001b[0m_args\u001b[0m\u001b[1;33m,\u001b[0m \u001b[1;33m**\u001b[0m\u001b[0mself\u001b[0m\u001b[1;33m.\u001b[0m\u001b[0m_kwargs\u001b[0m\u001b[1;33m)\u001b[0m\u001b[1;33m\u001b[0m\u001b[1;33m\u001b[0m\u001b[0m\n\u001b[0m\u001b[0;32m    202\u001b[0m             \u001b[0mself\u001b[0m\u001b[1;33m.\u001b[0m\u001b[0m_weakref\u001b[0m \u001b[1;33m=\u001b[0m \u001b[0mself\u001b[0m\u001b[1;33m.\u001b[0m\u001b[0m_callback\u001b[0m \u001b[1;33m=\u001b[0m \u001b[0mself\u001b[0m\u001b[1;33m.\u001b[0m\u001b[0m_args\u001b[0m \u001b[1;33m=\u001b[0m\u001b[0;31m \u001b[0m\u001b[0;31m\\\u001b[0m\u001b[1;33m\u001b[0m\u001b[1;33m\u001b[0m\u001b[0m\n\u001b[0;32m    203\u001b[0m                             \u001b[0mself\u001b[0m\u001b[1;33m.\u001b[0m\u001b[0m_kwargs\u001b[0m \u001b[1;33m=\u001b[0m \u001b[0mself\u001b[0m\u001b[1;33m.\u001b[0m\u001b[0m_key\u001b[0m \u001b[1;33m=\u001b[0m \u001b[1;32mNone\u001b[0m\u001b[1;33m\u001b[0m\u001b[1;33m\u001b[0m\u001b[0m\n",
      "\u001b[1;32m~\\Anaconda3\\envs\\learn-ml\\lib\\multiprocessing\\pool.py\u001b[0m in \u001b[0;36m_terminate_pool\u001b[1;34m(cls, taskqueue, inqueue, outqueue, pool, worker_handler, task_handler, result_handler, cache)\u001b[0m\n\u001b[0;32m    592\u001b[0m         \u001b[0mutil\u001b[0m\u001b[1;33m.\u001b[0m\u001b[0mdebug\u001b[0m\u001b[1;33m(\u001b[0m\u001b[1;34m'joining worker handler'\u001b[0m\u001b[1;33m)\u001b[0m\u001b[1;33m\u001b[0m\u001b[1;33m\u001b[0m\u001b[0m\n\u001b[0;32m    593\u001b[0m         \u001b[1;32mif\u001b[0m \u001b[0mthreading\u001b[0m\u001b[1;33m.\u001b[0m\u001b[0mcurrent_thread\u001b[0m\u001b[1;33m(\u001b[0m\u001b[1;33m)\u001b[0m \u001b[1;32mis\u001b[0m \u001b[1;32mnot\u001b[0m \u001b[0mworker_handler\u001b[0m\u001b[1;33m:\u001b[0m\u001b[1;33m\u001b[0m\u001b[1;33m\u001b[0m\u001b[0m\n\u001b[1;32m--> 594\u001b[1;33m             \u001b[0mworker_handler\u001b[0m\u001b[1;33m.\u001b[0m\u001b[0mjoin\u001b[0m\u001b[1;33m(\u001b[0m\u001b[1;33m)\u001b[0m\u001b[1;33m\u001b[0m\u001b[1;33m\u001b[0m\u001b[0m\n\u001b[0m\u001b[0;32m    595\u001b[0m \u001b[1;33m\u001b[0m\u001b[0m\n\u001b[0;32m    596\u001b[0m         \u001b[1;31m# Terminate workers which haven't already finished.\u001b[0m\u001b[1;33m\u001b[0m\u001b[1;33m\u001b[0m\u001b[1;33m\u001b[0m\u001b[0m\n",
      "\u001b[1;32m~\\Anaconda3\\envs\\learn-ml\\lib\\threading.py\u001b[0m in \u001b[0;36mjoin\u001b[1;34m(self, timeout)\u001b[0m\n\u001b[0;32m   1042\u001b[0m \u001b[1;33m\u001b[0m\u001b[0m\n\u001b[0;32m   1043\u001b[0m         \u001b[1;32mif\u001b[0m \u001b[0mtimeout\u001b[0m \u001b[1;32mis\u001b[0m \u001b[1;32mNone\u001b[0m\u001b[1;33m:\u001b[0m\u001b[1;33m\u001b[0m\u001b[1;33m\u001b[0m\u001b[0m\n\u001b[1;32m-> 1044\u001b[1;33m             \u001b[0mself\u001b[0m\u001b[1;33m.\u001b[0m\u001b[0m_wait_for_tstate_lock\u001b[0m\u001b[1;33m(\u001b[0m\u001b[1;33m)\u001b[0m\u001b[1;33m\u001b[0m\u001b[1;33m\u001b[0m\u001b[0m\n\u001b[0m\u001b[0;32m   1045\u001b[0m         \u001b[1;32melse\u001b[0m\u001b[1;33m:\u001b[0m\u001b[1;33m\u001b[0m\u001b[1;33m\u001b[0m\u001b[0m\n\u001b[0;32m   1046\u001b[0m             \u001b[1;31m# the behavior of a negative timeout isn't documented, but\u001b[0m\u001b[1;33m\u001b[0m\u001b[1;33m\u001b[0m\u001b[1;33m\u001b[0m\u001b[0m\n",
      "\u001b[1;32m~\\Anaconda3\\envs\\learn-ml\\lib\\threading.py\u001b[0m in \u001b[0;36m_wait_for_tstate_lock\u001b[1;34m(self, block, timeout)\u001b[0m\n\u001b[0;32m   1058\u001b[0m         \u001b[1;32mif\u001b[0m \u001b[0mlock\u001b[0m \u001b[1;32mis\u001b[0m \u001b[1;32mNone\u001b[0m\u001b[1;33m:\u001b[0m  \u001b[1;31m# already determined that the C code is done\u001b[0m\u001b[1;33m\u001b[0m\u001b[1;33m\u001b[0m\u001b[0m\n\u001b[0;32m   1059\u001b[0m             \u001b[1;32massert\u001b[0m \u001b[0mself\u001b[0m\u001b[1;33m.\u001b[0m\u001b[0m_is_stopped\u001b[0m\u001b[1;33m\u001b[0m\u001b[1;33m\u001b[0m\u001b[0m\n\u001b[1;32m-> 1060\u001b[1;33m         \u001b[1;32melif\u001b[0m \u001b[0mlock\u001b[0m\u001b[1;33m.\u001b[0m\u001b[0macquire\u001b[0m\u001b[1;33m(\u001b[0m\u001b[0mblock\u001b[0m\u001b[1;33m,\u001b[0m \u001b[0mtimeout\u001b[0m\u001b[1;33m)\u001b[0m\u001b[1;33m:\u001b[0m\u001b[1;33m\u001b[0m\u001b[1;33m\u001b[0m\u001b[0m\n\u001b[0m\u001b[0;32m   1061\u001b[0m             \u001b[0mlock\u001b[0m\u001b[1;33m.\u001b[0m\u001b[0mrelease\u001b[0m\u001b[1;33m(\u001b[0m\u001b[1;33m)\u001b[0m\u001b[1;33m\u001b[0m\u001b[1;33m\u001b[0m\u001b[0m\n\u001b[0;32m   1062\u001b[0m             \u001b[0mself\u001b[0m\u001b[1;33m.\u001b[0m\u001b[0m_stop\u001b[0m\u001b[1;33m(\u001b[0m\u001b[1;33m)\u001b[0m\u001b[1;33m\u001b[0m\u001b[1;33m\u001b[0m\u001b[0m\n",
      "\u001b[1;31mKeyboardInterrupt\u001b[0m: "
     ]
    }
   ],
   "source": [
    "build_rf_models(features_important, df_range_1.loc[df_range_1[y_km_new_1 == 0].index])"
   ]
  },
  {
   "cell_type": "markdown",
   "metadata": {},
   "source": [
    "<h1>Try 3 clusters"
   ]
  },
  {
   "cell_type": "code",
   "execution_count": 106,
   "metadata": {},
   "outputs": [],
   "source": [
    "y_km_1_3 = cluster(df_range_1.drop(['Price', 'Location'],axis=1), 3)"
   ]
  },
  {
   "cell_type": "code",
   "execution_count": 107,
   "metadata": {},
   "outputs": [
    {
     "data": {
      "text/plain": [
       "(1976, 49)"
      ]
     },
     "execution_count": 107,
     "metadata": {},
     "output_type": "execute_result"
    }
   ],
   "source": [
    "df_range_1.loc[df_range_1[y_km_1_3 == 0].index].shape"
   ]
  },
  {
   "cell_type": "code",
   "execution_count": 108,
   "metadata": {},
   "outputs": [
    {
     "data": {
      "text/plain": [
       "(8, 49)"
      ]
     },
     "execution_count": 108,
     "metadata": {},
     "output_type": "execute_result"
    }
   ],
   "source": [
    "df_range_1.loc[df_range_1[y_km_1_3 == 1].index].shape"
   ]
  },
  {
   "cell_type": "code",
   "execution_count": 109,
   "metadata": {},
   "outputs": [
    {
     "data": {
      "text/plain": [
       "(1177, 49)"
      ]
     },
     "execution_count": 109,
     "metadata": {},
     "output_type": "execute_result"
    }
   ],
   "source": [
    "df_range_1.loc[df_range_1[y_km_1_3 == 2].index].shape"
   ]
  },
  {
   "cell_type": "code",
   "execution_count": 89,
   "metadata": {},
   "outputs": [
    {
     "name": "stdout",
     "output_type": "stream",
     "text": [
      "(0.5060636840604082, 10, 2753429.6719166567)\n",
      "#######################################################################################################################\n"
     ]
    },
    {
     "data": {
      "text/plain": [
       "[([0,\n",
       "   1,\n",
       "   2,\n",
       "   3,\n",
       "   4,\n",
       "   5,\n",
       "   6,\n",
       "   7,\n",
       "   8,\n",
       "   9,\n",
       "   10,\n",
       "   11,\n",
       "   12,\n",
       "   13,\n",
       "   14,\n",
       "   15,\n",
       "   16,\n",
       "   17,\n",
       "   18,\n",
       "   19,\n",
       "   20,\n",
       "   21,\n",
       "   22,\n",
       "   23,\n",
       "   24,\n",
       "   25,\n",
       "   26,\n",
       "   27,\n",
       "   28,\n",
       "   29,\n",
       "   30,\n",
       "   31,\n",
       "   32,\n",
       "   33,\n",
       "   34,\n",
       "   35,\n",
       "   36,\n",
       "   37,\n",
       "   38,\n",
       "   39,\n",
       "   'Beds',\n",
       "   'Baths',\n",
       "   'h_l_ratio',\n",
       "   'Bed Size',\n",
       "   'beds_bath_ratio'],\n",
       "  [(0.5060636840604082, 10, 2753429.6719166567)])]"
      ]
     },
     "execution_count": 89,
     "metadata": {},
     "output_type": "execute_result"
    }
   ],
   "source": [
    "build_rf_models(features_important, df_range_1.loc[df_range_1[y_km_1_3 == 0].index])"
   ]
  },
  {
   "cell_type": "code",
   "execution_count": 90,
   "metadata": {},
   "outputs": [
    {
     "name": "stdout",
     "output_type": "stream",
     "text": [
      "(0.5476407582962461, 10, 2450137.1348725795)\n",
      "#######################################################################################################################\n"
     ]
    },
    {
     "data": {
      "text/plain": [
       "[([0,\n",
       "   1,\n",
       "   2,\n",
       "   3,\n",
       "   4,\n",
       "   5,\n",
       "   6,\n",
       "   7,\n",
       "   8,\n",
       "   9,\n",
       "   10,\n",
       "   11,\n",
       "   12,\n",
       "   13,\n",
       "   14,\n",
       "   15,\n",
       "   16,\n",
       "   17,\n",
       "   18,\n",
       "   19,\n",
       "   20,\n",
       "   21,\n",
       "   22,\n",
       "   23,\n",
       "   24,\n",
       "   25,\n",
       "   26,\n",
       "   27,\n",
       "   28,\n",
       "   29,\n",
       "   30,\n",
       "   31,\n",
       "   32,\n",
       "   33,\n",
       "   34,\n",
       "   35,\n",
       "   36,\n",
       "   37,\n",
       "   38,\n",
       "   39,\n",
       "   'Beds',\n",
       "   'Baths',\n",
       "   'h_l_ratio',\n",
       "   'Bed Size',\n",
       "   'beds_bath_ratio'],\n",
       "  [(0.5476407582962461, 10, 2450137.1348725795)])]"
      ]
     },
     "execution_count": 90,
     "metadata": {},
     "output_type": "execute_result"
    }
   ],
   "source": [
    "build_rf_models(features_important, df_range_1.loc[df_range_1[y_km_1_3 == 1].index])"
   ]
  },
  {
   "cell_type": "code",
   "execution_count": 113,
   "metadata": {},
   "outputs": [],
   "source": [
    "df_range_1 = df_range_1.drop(df_range_1[y_km_1_3 == 2].index, axis=0)"
   ]
  },
  {
   "cell_type": "code",
   "execution_count": 114,
   "metadata": {},
   "outputs": [
    {
     "name": "stdout",
     "output_type": "stream",
     "text": [
      "(0.6155303908802869, 10, 2744476.286028711)\n",
      "#######################################################################################################################\n"
     ]
    },
    {
     "data": {
      "text/plain": [
       "[([0,\n",
       "   1,\n",
       "   2,\n",
       "   3,\n",
       "   4,\n",
       "   5,\n",
       "   6,\n",
       "   7,\n",
       "   8,\n",
       "   9,\n",
       "   10,\n",
       "   11,\n",
       "   12,\n",
       "   13,\n",
       "   14,\n",
       "   15,\n",
       "   16,\n",
       "   17,\n",
       "   18,\n",
       "   19,\n",
       "   20,\n",
       "   21,\n",
       "   22,\n",
       "   23,\n",
       "   24,\n",
       "   25,\n",
       "   26,\n",
       "   27,\n",
       "   28,\n",
       "   29,\n",
       "   30,\n",
       "   31,\n",
       "   32,\n",
       "   33,\n",
       "   34,\n",
       "   35,\n",
       "   36,\n",
       "   37,\n",
       "   38,\n",
       "   39,\n",
       "   'Beds',\n",
       "   'Baths',\n",
       "   'h_l_ratio',\n",
       "   'Bed Size',\n",
       "   'beds_bath_ratio'],\n",
       "  [(0.6155303908802869, 10, 2744476.286028711)])]"
      ]
     },
     "execution_count": 114,
     "metadata": {},
     "output_type": "execute_result"
    }
   ],
   "source": [
    "build_rf_models(features_important, df_range_1)"
   ]
  },
  {
   "cell_type": "markdown",
   "metadata": {},
   "source": [
    "<h1>Cluster Again"
   ]
  },
  {
   "cell_type": "code",
   "execution_count": 115,
   "metadata": {},
   "outputs": [
    {
     "data": {
      "text/plain": [
       "(3153, 48)"
      ]
     },
     "execution_count": 115,
     "metadata": {},
     "output_type": "execute_result"
    }
   ],
   "source": [
    "df_range_1.shape"
   ]
  },
  {
   "cell_type": "code",
   "execution_count": 116,
   "metadata": {},
   "outputs": [],
   "source": [
    "y_km_1_2 = cluster(df_range_1.drop(['Price'],axis=1), 3)"
   ]
  },
  {
   "cell_type": "code",
   "execution_count": 117,
   "metadata": {},
   "outputs": [
    {
     "data": {
      "text/plain": [
       "(1239, 48)"
      ]
     },
     "execution_count": 117,
     "metadata": {},
     "output_type": "execute_result"
    }
   ],
   "source": [
    "df_range_1.loc[df_range_1[y_km_1_2 == 0].index].shape"
   ]
  },
  {
   "cell_type": "code",
   "execution_count": 118,
   "metadata": {},
   "outputs": [
    {
     "data": {
      "text/plain": [
       "(621, 48)"
      ]
     },
     "execution_count": 118,
     "metadata": {},
     "output_type": "execute_result"
    }
   ],
   "source": [
    "df_range_1.loc[df_range_1[y_km_1_2 == 1].index].shape"
   ]
  },
  {
   "cell_type": "code",
   "execution_count": 119,
   "metadata": {},
   "outputs": [
    {
     "data": {
      "text/plain": [
       "(1293, 48)"
      ]
     },
     "execution_count": 119,
     "metadata": {},
     "output_type": "execute_result"
    }
   ],
   "source": [
    "df_range_1.loc[df_range_1[y_km_1_2 == 2].index].shape"
   ]
  },
  {
   "cell_type": "code",
   "execution_count": 120,
   "metadata": {},
   "outputs": [
    {
     "name": "stdout",
     "output_type": "stream",
     "text": [
      "(0.355852627114135, 10, 2858238.118940638)\n",
      "#######################################################################################################################\n"
     ]
    },
    {
     "data": {
      "text/plain": [
       "[([0,\n",
       "   1,\n",
       "   2,\n",
       "   3,\n",
       "   4,\n",
       "   5,\n",
       "   6,\n",
       "   7,\n",
       "   8,\n",
       "   9,\n",
       "   10,\n",
       "   11,\n",
       "   12,\n",
       "   13,\n",
       "   14,\n",
       "   15,\n",
       "   16,\n",
       "   17,\n",
       "   18,\n",
       "   19,\n",
       "   20,\n",
       "   21,\n",
       "   22,\n",
       "   23,\n",
       "   24,\n",
       "   25,\n",
       "   26,\n",
       "   27,\n",
       "   28,\n",
       "   29,\n",
       "   30,\n",
       "   31,\n",
       "   32,\n",
       "   33,\n",
       "   34,\n",
       "   35,\n",
       "   36,\n",
       "   37,\n",
       "   38,\n",
       "   39,\n",
       "   'Beds',\n",
       "   'Baths',\n",
       "   'h_l_ratio',\n",
       "   'Bed Size',\n",
       "   'beds_bath_ratio'],\n",
       "  [(0.355852627114135, 10, 2858238.118940638)])]"
      ]
     },
     "execution_count": 120,
     "metadata": {},
     "output_type": "execute_result"
    }
   ],
   "source": [
    "build_rf_models(features_important, df_range_1.loc[df_range_1[y_km_1_2 == 0].index])\n"
   ]
  },
  {
   "cell_type": "code",
   "execution_count": 121,
   "metadata": {},
   "outputs": [
    {
     "name": "stdout",
     "output_type": "stream",
     "text": [
      "(0.386383373026031, 10, 2740678.143230195)\n",
      "#######################################################################################################################\n"
     ]
    },
    {
     "data": {
      "text/plain": [
       "[([0,\n",
       "   1,\n",
       "   2,\n",
       "   3,\n",
       "   4,\n",
       "   5,\n",
       "   6,\n",
       "   7,\n",
       "   8,\n",
       "   9,\n",
       "   10,\n",
       "   11,\n",
       "   12,\n",
       "   13,\n",
       "   14,\n",
       "   15,\n",
       "   16,\n",
       "   17,\n",
       "   18,\n",
       "   19,\n",
       "   20,\n",
       "   21,\n",
       "   22,\n",
       "   23,\n",
       "   24,\n",
       "   25,\n",
       "   26,\n",
       "   27,\n",
       "   28,\n",
       "   29,\n",
       "   30,\n",
       "   31,\n",
       "   32,\n",
       "   33,\n",
       "   34,\n",
       "   35,\n",
       "   36,\n",
       "   37,\n",
       "   38,\n",
       "   39,\n",
       "   'Beds',\n",
       "   'Baths',\n",
       "   'h_l_ratio',\n",
       "   'Bed Size',\n",
       "   'beds_bath_ratio'],\n",
       "  [(0.386383373026031, 10, 2740678.143230195)])]"
      ]
     },
     "execution_count": 121,
     "metadata": {},
     "output_type": "execute_result"
    }
   ],
   "source": [
    "build_rf_models(features_important, df_range_1.loc[df_range_1[y_km_1_2 == 1].index])\n"
   ]
  },
  {
   "cell_type": "code",
   "execution_count": null,
   "metadata": {},
   "outputs": [],
   "source": [
    "build_rf_models(features_important, df_range_1.loc[df_range_1[y_km_1_2 == 2].index])\n"
   ]
  },
  {
   "cell_type": "markdown",
   "metadata": {},
   "source": [
    "<h1>Try clustering with price"
   ]
  },
  {
   "cell_type": "code",
   "execution_count": 111,
   "metadata": {},
   "outputs": [],
   "source": [
    "y_km_1_2_price =  cluster(df_range_1.drop(['Location'], axis=1),2)"
   ]
  },
  {
   "cell_type": "code",
   "execution_count": 18,
   "metadata": {},
   "outputs": [
    {
     "name": "stdout",
     "output_type": "stream",
     "text": [
      "(0.46724281406089374, 10, 1493555.142991163)\n",
      "#######################################################################################################################\n"
     ]
    },
    {
     "data": {
      "text/plain": [
       "[([0,\n",
       "   1,\n",
       "   2,\n",
       "   3,\n",
       "   4,\n",
       "   5,\n",
       "   6,\n",
       "   7,\n",
       "   8,\n",
       "   9,\n",
       "   10,\n",
       "   11,\n",
       "   12,\n",
       "   13,\n",
       "   14,\n",
       "   15,\n",
       "   16,\n",
       "   17,\n",
       "   18,\n",
       "   19,\n",
       "   20,\n",
       "   21,\n",
       "   22,\n",
       "   23,\n",
       "   24,\n",
       "   25,\n",
       "   26,\n",
       "   27,\n",
       "   28,\n",
       "   29,\n",
       "   30,\n",
       "   31,\n",
       "   32,\n",
       "   33,\n",
       "   34,\n",
       "   35,\n",
       "   36,\n",
       "   37,\n",
       "   38,\n",
       "   39,\n",
       "   'Beds',\n",
       "   'Baths',\n",
       "   'h_l_ratio',\n",
       "   'Bed Size',\n",
       "   'beds_bath_ratio'],\n",
       "  [(0.46724281406089374, 10, 1493555.142991163)])]"
      ]
     },
     "execution_count": 18,
     "metadata": {},
     "output_type": "execute_result"
    }
   ],
   "source": [
    "build_rf_models(features_important, df_range_1.loc[df_range_1[y_km_1_2_price == 0].index])"
   ]
  },
  {
   "cell_type": "markdown",
   "metadata": {},
   "source": [
    "<h1> RMSE is above model = 14lahks"
   ]
  },
  {
   "cell_type": "code",
   "execution_count": 19,
   "metadata": {},
   "outputs": [
    {
     "name": "stdout",
     "output_type": "stream",
     "text": [
      "(0.48050917125367987, 10, 1937938.0007581837)\n",
      "#######################################################################################################################\n"
     ]
    },
    {
     "data": {
      "text/plain": [
       "[([0,\n",
       "   1,\n",
       "   2,\n",
       "   3,\n",
       "   4,\n",
       "   5,\n",
       "   6,\n",
       "   7,\n",
       "   8,\n",
       "   9,\n",
       "   10,\n",
       "   11,\n",
       "   12,\n",
       "   13,\n",
       "   14,\n",
       "   15,\n",
       "   16,\n",
       "   17,\n",
       "   18,\n",
       "   19,\n",
       "   20,\n",
       "   21,\n",
       "   22,\n",
       "   23,\n",
       "   24,\n",
       "   25,\n",
       "   26,\n",
       "   27,\n",
       "   28,\n",
       "   29,\n",
       "   30,\n",
       "   31,\n",
       "   32,\n",
       "   33,\n",
       "   34,\n",
       "   35,\n",
       "   36,\n",
       "   37,\n",
       "   38,\n",
       "   39,\n",
       "   'Beds',\n",
       "   'Baths',\n",
       "   'h_l_ratio',\n",
       "   'Bed Size',\n",
       "   'beds_bath_ratio'],\n",
       "  [(0.48050917125367987, 10, 1937938.0007581837)])]"
      ]
     },
     "execution_count": 19,
     "metadata": {},
     "output_type": "execute_result"
    }
   ],
   "source": [
    "build_rf_models(features_important, df_range_1.loc[df_range_1[y_km_1_2_price == 1].index])"
   ]
  },
  {
   "cell_type": "markdown",
   "metadata": {},
   "source": [
    "<h1>RMSE is 19laks"
   ]
  },
  {
   "cell_type": "code",
   "execution_count": 112,
   "metadata": {},
   "outputs": [
    {
     "data": {
      "text/plain": [
       "(1417, 49)"
      ]
     },
     "execution_count": 112,
     "metadata": {},
     "output_type": "execute_result"
    }
   ],
   "source": [
    "df_range_1[y_km_1_2_price == 1].shape"
   ]
  },
  {
   "cell_type": "code",
   "execution_count": null,
   "metadata": {},
   "outputs": [],
   "source": []
  },
  {
   "cell_type": "code",
   "execution_count": 113,
   "metadata": {},
   "outputs": [
    {
     "data": {
      "text/plain": [
       "(1744, 49)"
      ]
     },
     "execution_count": 113,
     "metadata": {},
     "output_type": "execute_result"
    }
   ],
   "source": [
    "df_range_1[y_km_1_2_price == 0].shape"
   ]
  },
  {
   "cell_type": "markdown",
   "metadata": {},
   "source": [
    "<h1>Try range1 with 3 cluster"
   ]
  },
  {
   "cell_type": "code",
   "execution_count": 115,
   "metadata": {},
   "outputs": [],
   "source": [
    "y_km_1_3_price =  cluster(df_range_1.drop(['Location'], axis=1),3)"
   ]
  },
  {
   "cell_type": "code",
   "execution_count": 116,
   "metadata": {},
   "outputs": [
    {
     "data": {
      "text/plain": [
       "(823, 49)"
      ]
     },
     "execution_count": 116,
     "metadata": {},
     "output_type": "execute_result"
    }
   ],
   "source": [
    "df_range_1[y_km_1_3_price == 2].shape"
   ]
  },
  {
   "cell_type": "code",
   "execution_count": 120,
   "metadata": {},
   "outputs": [],
   "source": [
    "df_range_1[y_km_1_3_price == 2].to_csv(\"range_1_cluster_1.csv\")"
   ]
  },
  {
   "cell_type": "code",
   "execution_count": 117,
   "metadata": {},
   "outputs": [
    {
     "data": {
      "text/plain": [
       "(1031, 49)"
      ]
     },
     "execution_count": 117,
     "metadata": {},
     "output_type": "execute_result"
    }
   ],
   "source": [
    "df_range_1[y_km_1_3_price == 1].shape"
   ]
  },
  {
   "cell_type": "code",
   "execution_count": 121,
   "metadata": {},
   "outputs": [],
   "source": [
    "df_range_1[y_km_1_3_price == 1].to_csv('range_1_cluster_2.csv')"
   ]
  },
  {
   "cell_type": "code",
   "execution_count": 118,
   "metadata": {},
   "outputs": [
    {
     "data": {
      "text/plain": [
       "(1307, 49)"
      ]
     },
     "execution_count": 118,
     "metadata": {},
     "output_type": "execute_result"
    }
   ],
   "source": [
    "df_range_1[y_km_1_3_price == 0].shape"
   ]
  },
  {
   "cell_type": "code",
   "execution_count": 122,
   "metadata": {},
   "outputs": [],
   "source": [
    "df_range_1[y_km_1_3_price == 0].to_csv('range_1_cluster_3.csv')"
   ]
  },
  {
   "cell_type": "code",
   "execution_count": 22,
   "metadata": {},
   "outputs": [],
   "source": [
    "y_km_1_3_price =  cluster(df_range_1,3)"
   ]
  },
  {
   "cell_type": "code",
   "execution_count": 24,
   "metadata": {},
   "outputs": [
    {
     "name": "stdout",
     "output_type": "stream",
     "text": [
      "(0.4118259958079, 10, 1125959.8193299184)\n",
      "#######################################################################################################################\n"
     ]
    },
    {
     "data": {
      "text/plain": [
       "[([0,\n",
       "   1,\n",
       "   2,\n",
       "   3,\n",
       "   4,\n",
       "   5,\n",
       "   6,\n",
       "   7,\n",
       "   8,\n",
       "   9,\n",
       "   10,\n",
       "   11,\n",
       "   12,\n",
       "   13,\n",
       "   14,\n",
       "   15,\n",
       "   16,\n",
       "   17,\n",
       "   18,\n",
       "   19,\n",
       "   20,\n",
       "   21,\n",
       "   22,\n",
       "   23,\n",
       "   24,\n",
       "   25,\n",
       "   26,\n",
       "   27,\n",
       "   28,\n",
       "   29,\n",
       "   30,\n",
       "   31,\n",
       "   32,\n",
       "   33,\n",
       "   34,\n",
       "   35,\n",
       "   36,\n",
       "   37,\n",
       "   38,\n",
       "   39,\n",
       "   'Beds',\n",
       "   'Baths',\n",
       "   'h_l_ratio',\n",
       "   'Bed Size',\n",
       "   'beds_bath_ratio'],\n",
       "  [(0.4118259958079, 10, 1125959.8193299184)])]"
      ]
     },
     "execution_count": 24,
     "metadata": {},
     "output_type": "execute_result"
    }
   ],
   "source": [
    "build_rf_models(features_important, df_range_1.loc[df_range_1[y_km_1_3_price == 0].index])"
   ]
  },
  {
   "cell_type": "code",
   "execution_count": 25,
   "metadata": {},
   "outputs": [
    {
     "name": "stdout",
     "output_type": "stream",
     "text": [
      "(0.25858722050023886, 10, 1533336.4736452827)\n",
      "#######################################################################################################################\n"
     ]
    },
    {
     "data": {
      "text/plain": [
       "[([0,\n",
       "   1,\n",
       "   2,\n",
       "   3,\n",
       "   4,\n",
       "   5,\n",
       "   6,\n",
       "   7,\n",
       "   8,\n",
       "   9,\n",
       "   10,\n",
       "   11,\n",
       "   12,\n",
       "   13,\n",
       "   14,\n",
       "   15,\n",
       "   16,\n",
       "   17,\n",
       "   18,\n",
       "   19,\n",
       "   20,\n",
       "   21,\n",
       "   22,\n",
       "   23,\n",
       "   24,\n",
       "   25,\n",
       "   26,\n",
       "   27,\n",
       "   28,\n",
       "   29,\n",
       "   30,\n",
       "   31,\n",
       "   32,\n",
       "   33,\n",
       "   34,\n",
       "   35,\n",
       "   36,\n",
       "   37,\n",
       "   38,\n",
       "   39,\n",
       "   'Beds',\n",
       "   'Baths',\n",
       "   'h_l_ratio',\n",
       "   'Bed Size',\n",
       "   'beds_bath_ratio'],\n",
       "  [(0.25858722050023886, 10, 1533336.4736452827)])]"
      ]
     },
     "execution_count": 25,
     "metadata": {},
     "output_type": "execute_result"
    }
   ],
   "source": [
    "build_rf_models(features_important, df_range_1.loc[df_range_1[y_km_1_3_price == 1].index])"
   ]
  },
  {
   "cell_type": "code",
   "execution_count": 26,
   "metadata": {},
   "outputs": [
    {
     "name": "stdout",
     "output_type": "stream",
     "text": [
      "(0.28458706561231417, 10, 1149891.8270019589)\n",
      "#######################################################################################################################\n"
     ]
    },
    {
     "data": {
      "text/plain": [
       "[([0,\n",
       "   1,\n",
       "   2,\n",
       "   3,\n",
       "   4,\n",
       "   5,\n",
       "   6,\n",
       "   7,\n",
       "   8,\n",
       "   9,\n",
       "   10,\n",
       "   11,\n",
       "   12,\n",
       "   13,\n",
       "   14,\n",
       "   15,\n",
       "   16,\n",
       "   17,\n",
       "   18,\n",
       "   19,\n",
       "   20,\n",
       "   21,\n",
       "   22,\n",
       "   23,\n",
       "   24,\n",
       "   25,\n",
       "   26,\n",
       "   27,\n",
       "   28,\n",
       "   29,\n",
       "   30,\n",
       "   31,\n",
       "   32,\n",
       "   33,\n",
       "   34,\n",
       "   35,\n",
       "   36,\n",
       "   37,\n",
       "   38,\n",
       "   39,\n",
       "   'Beds',\n",
       "   'Baths',\n",
       "   'h_l_ratio',\n",
       "   'Bed Size',\n",
       "   'beds_bath_ratio'],\n",
       "  [(0.28458706561231417, 10, 1149891.8270019589)])]"
      ]
     },
     "execution_count": 26,
     "metadata": {},
     "output_type": "execute_result"
    }
   ],
   "source": [
    "build_rf_models(features_important, df_range_1.loc[df_range_1[y_km_1_3_price == 2].index])"
   ]
  },
  {
   "cell_type": "markdown",
   "metadata": {},
   "source": [
    "<h1>Try 2 cluster with range 2"
   ]
  },
  {
   "cell_type": "code",
   "execution_count": 32,
   "metadata": {},
   "outputs": [],
   "source": [
    "y_km_2_2_price =  cluster(df_range_2,2)"
   ]
  },
  {
   "cell_type": "code",
   "execution_count": 33,
   "metadata": {},
   "outputs": [
    {
     "name": "stdout",
     "output_type": "stream",
     "text": [
      "(0.358036319108728, 10, 2529170.880785753)\n",
      "#######################################################################################################################\n"
     ]
    },
    {
     "data": {
      "text/plain": [
       "[([0,\n",
       "   1,\n",
       "   2,\n",
       "   3,\n",
       "   4,\n",
       "   5,\n",
       "   6,\n",
       "   7,\n",
       "   8,\n",
       "   9,\n",
       "   10,\n",
       "   11,\n",
       "   12,\n",
       "   13,\n",
       "   14,\n",
       "   15,\n",
       "   16,\n",
       "   17,\n",
       "   18,\n",
       "   19,\n",
       "   20,\n",
       "   21,\n",
       "   22,\n",
       "   23,\n",
       "   24,\n",
       "   25,\n",
       "   26,\n",
       "   27,\n",
       "   28,\n",
       "   29,\n",
       "   30,\n",
       "   31,\n",
       "   32,\n",
       "   33,\n",
       "   34,\n",
       "   35,\n",
       "   36,\n",
       "   37,\n",
       "   38,\n",
       "   39,\n",
       "   'Beds',\n",
       "   'Baths',\n",
       "   'h_l_ratio',\n",
       "   'Bed Size',\n",
       "   'beds_bath_ratio'],\n",
       "  [(0.358036319108728, 10, 2529170.880785753)])]"
      ]
     },
     "execution_count": 33,
     "metadata": {},
     "output_type": "execute_result"
    }
   ],
   "source": [
    "build_rf_models(features_important, df_range_2.loc[df_range_2[y_km_2_2_price == 0].index])"
   ]
  },
  {
   "cell_type": "code",
   "execution_count": 34,
   "metadata": {},
   "outputs": [
    {
     "name": "stdout",
     "output_type": "stream",
     "text": [
      "(0.46176673631190013, 10, 1732973.915464965)\n",
      "#######################################################################################################################\n"
     ]
    },
    {
     "data": {
      "text/plain": [
       "[([0,\n",
       "   1,\n",
       "   2,\n",
       "   3,\n",
       "   4,\n",
       "   5,\n",
       "   6,\n",
       "   7,\n",
       "   8,\n",
       "   9,\n",
       "   10,\n",
       "   11,\n",
       "   12,\n",
       "   13,\n",
       "   14,\n",
       "   15,\n",
       "   16,\n",
       "   17,\n",
       "   18,\n",
       "   19,\n",
       "   20,\n",
       "   21,\n",
       "   22,\n",
       "   23,\n",
       "   24,\n",
       "   25,\n",
       "   26,\n",
       "   27,\n",
       "   28,\n",
       "   29,\n",
       "   30,\n",
       "   31,\n",
       "   32,\n",
       "   33,\n",
       "   34,\n",
       "   35,\n",
       "   36,\n",
       "   37,\n",
       "   38,\n",
       "   39,\n",
       "   'Beds',\n",
       "   'Baths',\n",
       "   'h_l_ratio',\n",
       "   'Bed Size',\n",
       "   'beds_bath_ratio'],\n",
       "  [(0.46176673631190013, 10, 1732973.915464965)])]"
      ]
     },
     "execution_count": 34,
     "metadata": {},
     "output_type": "execute_result"
    }
   ],
   "source": [
    "build_rf_models(features_important, df_range_2.loc[df_range_2[y_km_2_2_price == 1].index])"
   ]
  },
  {
   "cell_type": "markdown",
   "metadata": {},
   "source": [
    "<h1>Try 3 clustes with range 2"
   ]
  },
  {
   "cell_type": "code",
   "execution_count": 124,
   "metadata": {},
   "outputs": [],
   "source": [
    "y_km_2_3_price =  cluster(df_range_2.drop(['Location'], axis=1),3)"
   ]
  },
  {
   "cell_type": "code",
   "execution_count": 125,
   "metadata": {},
   "outputs": [
    {
     "data": {
      "text/plain": [
       "(1354, 49)"
      ]
     },
     "execution_count": 125,
     "metadata": {},
     "output_type": "execute_result"
    }
   ],
   "source": [
    "df_range_2[y_km_2_3_price == 0].shape"
   ]
  },
  {
   "cell_type": "code",
   "execution_count": 128,
   "metadata": {},
   "outputs": [],
   "source": [
    "df_range_2[y_km_2_3_price == 0].to_csv('range_2_cluster_1.csv')"
   ]
  },
  {
   "cell_type": "code",
   "execution_count": 126,
   "metadata": {},
   "outputs": [
    {
     "data": {
      "text/plain": [
       "(1129, 49)"
      ]
     },
     "execution_count": 126,
     "metadata": {},
     "output_type": "execute_result"
    }
   ],
   "source": [
    "df_range_2[y_km_2_3_price == 1].shape"
   ]
  },
  {
   "cell_type": "code",
   "execution_count": 129,
   "metadata": {},
   "outputs": [],
   "source": [
    "df_range_2[y_km_2_3_price == 1].to_csv('range_2_cluter_2.csv')"
   ]
  },
  {
   "cell_type": "code",
   "execution_count": 130,
   "metadata": {},
   "outputs": [
    {
     "data": {
      "text/plain": [
       "(681, 49)"
      ]
     },
     "execution_count": 130,
     "metadata": {},
     "output_type": "execute_result"
    }
   ],
   "source": [
    "df_range_2[y_km_2_3_price == 2].shape"
   ]
  },
  {
   "cell_type": "code",
   "execution_count": 36,
   "metadata": {},
   "outputs": [
    {
     "name": "stdout",
     "output_type": "stream",
     "text": [
      "(0.18415187163218527, 10, 1898621.3289477802)\n",
      "#######################################################################################################################\n"
     ]
    },
    {
     "data": {
      "text/plain": [
       "[([0,\n",
       "   1,\n",
       "   2,\n",
       "   3,\n",
       "   4,\n",
       "   5,\n",
       "   6,\n",
       "   7,\n",
       "   8,\n",
       "   9,\n",
       "   10,\n",
       "   11,\n",
       "   12,\n",
       "   13,\n",
       "   14,\n",
       "   15,\n",
       "   16,\n",
       "   17,\n",
       "   18,\n",
       "   19,\n",
       "   20,\n",
       "   21,\n",
       "   22,\n",
       "   23,\n",
       "   24,\n",
       "   25,\n",
       "   26,\n",
       "   27,\n",
       "   28,\n",
       "   29,\n",
       "   30,\n",
       "   31,\n",
       "   32,\n",
       "   33,\n",
       "   34,\n",
       "   35,\n",
       "   36,\n",
       "   37,\n",
       "   38,\n",
       "   39,\n",
       "   'Beds',\n",
       "   'Baths',\n",
       "   'h_l_ratio',\n",
       "   'Bed Size',\n",
       "   'beds_bath_ratio'],\n",
       "  [(0.18415187163218527, 10, 1898621.3289477802)])]"
      ]
     },
     "execution_count": 36,
     "metadata": {},
     "output_type": "execute_result"
    }
   ],
   "source": [
    "build_rf_models(features_important, df_range_2.loc[df_range_2[y_km_2_3_price == 0].index])"
   ]
  },
  {
   "cell_type": "code",
   "execution_count": 131,
   "metadata": {},
   "outputs": [],
   "source": [
    "df_range_2[y_km_2_3_price == 2].to_csv('range_2_cluter_3.csv')"
   ]
  },
  {
   "cell_type": "code",
   "execution_count": 37,
   "metadata": {},
   "outputs": [
    {
     "name": "stdout",
     "output_type": "stream",
     "text": [
      "(0.5169615133408777, 10, 1173997.9524873185)\n",
      "#######################################################################################################################\n"
     ]
    },
    {
     "data": {
      "text/plain": [
       "[([0,\n",
       "   1,\n",
       "   2,\n",
       "   3,\n",
       "   4,\n",
       "   5,\n",
       "   6,\n",
       "   7,\n",
       "   8,\n",
       "   9,\n",
       "   10,\n",
       "   11,\n",
       "   12,\n",
       "   13,\n",
       "   14,\n",
       "   15,\n",
       "   16,\n",
       "   17,\n",
       "   18,\n",
       "   19,\n",
       "   20,\n",
       "   21,\n",
       "   22,\n",
       "   23,\n",
       "   24,\n",
       "   25,\n",
       "   26,\n",
       "   27,\n",
       "   28,\n",
       "   29,\n",
       "   30,\n",
       "   31,\n",
       "   32,\n",
       "   33,\n",
       "   34,\n",
       "   35,\n",
       "   36,\n",
       "   37,\n",
       "   38,\n",
       "   39,\n",
       "   'Beds',\n",
       "   'Baths',\n",
       "   'h_l_ratio',\n",
       "   'Bed Size',\n",
       "   'beds_bath_ratio'],\n",
       "  [(0.5169615133408777, 10, 1173997.9524873185)])]"
      ]
     },
     "execution_count": 37,
     "metadata": {},
     "output_type": "execute_result"
    }
   ],
   "source": [
    "build_rf_models(features_important, df_range_2.loc[df_range_2[y_km_2_3_price == 1].index])"
   ]
  },
  {
   "cell_type": "code",
   "execution_count": 38,
   "metadata": {},
   "outputs": [
    {
     "name": "stdout",
     "output_type": "stream",
     "text": [
      "(0.34703784495592416, 10, 1139008.8395743656)\n",
      "#######################################################################################################################\n"
     ]
    },
    {
     "data": {
      "text/plain": [
       "[([0,\n",
       "   1,\n",
       "   2,\n",
       "   3,\n",
       "   4,\n",
       "   5,\n",
       "   6,\n",
       "   7,\n",
       "   8,\n",
       "   9,\n",
       "   10,\n",
       "   11,\n",
       "   12,\n",
       "   13,\n",
       "   14,\n",
       "   15,\n",
       "   16,\n",
       "   17,\n",
       "   18,\n",
       "   19,\n",
       "   20,\n",
       "   21,\n",
       "   22,\n",
       "   23,\n",
       "   24,\n",
       "   25,\n",
       "   26,\n",
       "   27,\n",
       "   28,\n",
       "   29,\n",
       "   30,\n",
       "   31,\n",
       "   32,\n",
       "   33,\n",
       "   34,\n",
       "   35,\n",
       "   36,\n",
       "   37,\n",
       "   38,\n",
       "   39,\n",
       "   'Beds',\n",
       "   'Baths',\n",
       "   'h_l_ratio',\n",
       "   'Bed Size',\n",
       "   'beds_bath_ratio'],\n",
       "  [(0.34703784495592416, 10, 1139008.8395743656)])]"
      ]
     },
     "execution_count": 38,
     "metadata": {},
     "output_type": "execute_result"
    }
   ],
   "source": [
    "build_rf_models(features_important, df_range_2.loc[df_range_2[y_km_2_3_price == 2].index])"
   ]
  },
  {
   "cell_type": "markdown",
   "metadata": {},
   "source": [
    "<h1>Try 2 cluster with range 2"
   ]
  },
  {
   "cell_type": "code",
   "execution_count": 133,
   "metadata": {},
   "outputs": [],
   "source": [
    "y_km_3_2_price =  cluster(df_range_3.drop(['Location'], axis=1),2)"
   ]
  },
  {
   "cell_type": "code",
   "execution_count": 134,
   "metadata": {},
   "outputs": [],
   "source": [
    "df_range_3.to_csv('range_3.csv')"
   ]
  },
  {
   "cell_type": "code",
   "execution_count": 41,
   "metadata": {},
   "outputs": [
    {
     "name": "stdout",
     "output_type": "stream",
     "text": [
      "(0.5279554295566109, 10, 17732298.68724528)\n",
      "#######################################################################################################################\n"
     ]
    },
    {
     "data": {
      "text/plain": [
       "[([0,\n",
       "   1,\n",
       "   2,\n",
       "   3,\n",
       "   4,\n",
       "   5,\n",
       "   6,\n",
       "   7,\n",
       "   8,\n",
       "   9,\n",
       "   10,\n",
       "   11,\n",
       "   12,\n",
       "   13,\n",
       "   14,\n",
       "   15,\n",
       "   16,\n",
       "   17,\n",
       "   18,\n",
       "   19,\n",
       "   20,\n",
       "   21,\n",
       "   22,\n",
       "   23,\n",
       "   24,\n",
       "   25,\n",
       "   26,\n",
       "   27,\n",
       "   28,\n",
       "   29,\n",
       "   30,\n",
       "   31,\n",
       "   32,\n",
       "   33,\n",
       "   34,\n",
       "   35,\n",
       "   36,\n",
       "   37,\n",
       "   38,\n",
       "   39,\n",
       "   'Beds',\n",
       "   'Baths',\n",
       "   'h_l_ratio',\n",
       "   'Bed Size',\n",
       "   'beds_bath_ratio'],\n",
       "  [(0.5279554295566109, 10, 17732298.68724528)])]"
      ]
     },
     "execution_count": 41,
     "metadata": {},
     "output_type": "execute_result"
    }
   ],
   "source": [
    "build_rf_models(features_important, df_range_3.loc[df_range_3[y_km_3_2_price == 0].index])"
   ]
  },
  {
   "cell_type": "code",
   "execution_count": 42,
   "metadata": {},
   "outputs": [
    {
     "name": "stdout",
     "output_type": "stream",
     "text": [
      "(-0.1312317684926203, 10, 121059489.95565465)\n",
      "#######################################################################################################################\n"
     ]
    },
    {
     "data": {
      "text/plain": [
       "[([0,\n",
       "   1,\n",
       "   2,\n",
       "   3,\n",
       "   4,\n",
       "   5,\n",
       "   6,\n",
       "   7,\n",
       "   8,\n",
       "   9,\n",
       "   10,\n",
       "   11,\n",
       "   12,\n",
       "   13,\n",
       "   14,\n",
       "   15,\n",
       "   16,\n",
       "   17,\n",
       "   18,\n",
       "   19,\n",
       "   20,\n",
       "   21,\n",
       "   22,\n",
       "   23,\n",
       "   24,\n",
       "   25,\n",
       "   26,\n",
       "   27,\n",
       "   28,\n",
       "   29,\n",
       "   30,\n",
       "   31,\n",
       "   32,\n",
       "   33,\n",
       "   34,\n",
       "   35,\n",
       "   36,\n",
       "   37,\n",
       "   38,\n",
       "   39,\n",
       "   'Beds',\n",
       "   'Baths',\n",
       "   'h_l_ratio',\n",
       "   'Bed Size',\n",
       "   'beds_bath_ratio'],\n",
       "  [(-0.1312317684926203, 10, 121059489.95565465)])]"
      ]
     },
     "execution_count": 42,
     "metadata": {},
     "output_type": "execute_result"
    }
   ],
   "source": [
    "build_rf_models(features_important, df_range_3.loc[df_range_3[y_km_3_2_price == 1].index])"
   ]
  },
  {
   "cell_type": "code",
   "execution_count": 44,
   "metadata": {},
   "outputs": [],
   "source": [
    "y_km_3_3_price =  cluster(df_range_3,3)"
   ]
  },
  {
   "cell_type": "code",
   "execution_count": 45,
   "metadata": {},
   "outputs": [
    {
     "name": "stdout",
     "output_type": "stream",
     "text": [
      "(0.4458267019311328, 10, 17330890.6955009)\n",
      "#######################################################################################################################\n"
     ]
    },
    {
     "data": {
      "text/plain": [
       "[([0,\n",
       "   1,\n",
       "   2,\n",
       "   3,\n",
       "   4,\n",
       "   5,\n",
       "   6,\n",
       "   7,\n",
       "   8,\n",
       "   9,\n",
       "   10,\n",
       "   11,\n",
       "   12,\n",
       "   13,\n",
       "   14,\n",
       "   15,\n",
       "   16,\n",
       "   17,\n",
       "   18,\n",
       "   19,\n",
       "   20,\n",
       "   21,\n",
       "   22,\n",
       "   23,\n",
       "   24,\n",
       "   25,\n",
       "   26,\n",
       "   27,\n",
       "   28,\n",
       "   29,\n",
       "   30,\n",
       "   31,\n",
       "   32,\n",
       "   33,\n",
       "   34,\n",
       "   35,\n",
       "   36,\n",
       "   37,\n",
       "   38,\n",
       "   39,\n",
       "   'Beds',\n",
       "   'Baths',\n",
       "   'h_l_ratio',\n",
       "   'Bed Size',\n",
       "   'beds_bath_ratio'],\n",
       "  [(0.4458267019311328, 10, 17330890.6955009)])]"
      ]
     },
     "execution_count": 45,
     "metadata": {},
     "output_type": "execute_result"
    }
   ],
   "source": [
    "build_rf_models(features_important, df_range_3.loc[df_range_3[y_km_3_3_price == 0].index])"
   ]
  },
  {
   "cell_type": "code",
   "execution_count": 46,
   "metadata": {},
   "outputs": [
    {
     "name": "stdout",
     "output_type": "stream",
     "text": [
      "(0.07108333371317843, 10, 45766671.81792696)\n",
      "#######################################################################################################################\n"
     ]
    },
    {
     "data": {
      "text/plain": [
       "[([0,\n",
       "   1,\n",
       "   2,\n",
       "   3,\n",
       "   4,\n",
       "   5,\n",
       "   6,\n",
       "   7,\n",
       "   8,\n",
       "   9,\n",
       "   10,\n",
       "   11,\n",
       "   12,\n",
       "   13,\n",
       "   14,\n",
       "   15,\n",
       "   16,\n",
       "   17,\n",
       "   18,\n",
       "   19,\n",
       "   20,\n",
       "   21,\n",
       "   22,\n",
       "   23,\n",
       "   24,\n",
       "   25,\n",
       "   26,\n",
       "   27,\n",
       "   28,\n",
       "   29,\n",
       "   30,\n",
       "   31,\n",
       "   32,\n",
       "   33,\n",
       "   34,\n",
       "   35,\n",
       "   36,\n",
       "   37,\n",
       "   38,\n",
       "   39,\n",
       "   'Beds',\n",
       "   'Baths',\n",
       "   'h_l_ratio',\n",
       "   'Bed Size',\n",
       "   'beds_bath_ratio'],\n",
       "  [(0.07108333371317843, 10, 45766671.81792696)])]"
      ]
     },
     "execution_count": 46,
     "metadata": {},
     "output_type": "execute_result"
    }
   ],
   "source": [
    "build_rf_models(features_important, df_range_3.loc[df_range_3[y_km_3_3_price == 1].index])"
   ]
  },
  {
   "cell_type": "code",
   "execution_count": 47,
   "metadata": {},
   "outputs": [
    {
     "name": "stderr",
     "output_type": "stream",
     "text": [
      "C:\\Users\\Shankeerthan\\Anaconda3\\envs\\learn-ml\\lib\\site-packages\\sklearn\\metrics\\_regression.py:582: UndefinedMetricWarning: R^2 score is not well-defined with less than two samples.\n",
      "  warnings.warn(msg, UndefinedMetricWarning)\n",
      "C:\\Users\\Shankeerthan\\Anaconda3\\envs\\learn-ml\\lib\\site-packages\\sklearn\\metrics\\_regression.py:582: UndefinedMetricWarning: R^2 score is not well-defined with less than two samples.\n",
      "  warnings.warn(msg, UndefinedMetricWarning)\n",
      "C:\\Users\\Shankeerthan\\Anaconda3\\envs\\learn-ml\\lib\\site-packages\\sklearn\\metrics\\_regression.py:582: UndefinedMetricWarning: R^2 score is not well-defined with less than two samples.\n",
      "  warnings.warn(msg, UndefinedMetricWarning)\n",
      "C:\\Users\\Shankeerthan\\Anaconda3\\envs\\learn-ml\\lib\\site-packages\\sklearn\\metrics\\_regression.py:582: UndefinedMetricWarning: R^2 score is not well-defined with less than two samples.\n",
      "  warnings.warn(msg, UndefinedMetricWarning)\n",
      "C:\\Users\\Shankeerthan\\Anaconda3\\envs\\learn-ml\\lib\\site-packages\\sklearn\\metrics\\_regression.py:582: UndefinedMetricWarning: R^2 score is not well-defined with less than two samples.\n",
      "  warnings.warn(msg, UndefinedMetricWarning)\n",
      "C:\\Users\\Shankeerthan\\Anaconda3\\envs\\learn-ml\\lib\\site-packages\\sklearn\\metrics\\_regression.py:582: UndefinedMetricWarning: R^2 score is not well-defined with less than two samples.\n",
      "  warnings.warn(msg, UndefinedMetricWarning)\n",
      "C:\\Users\\Shankeerthan\\Anaconda3\\envs\\learn-ml\\lib\\site-packages\\sklearn\\metrics\\_regression.py:582: UndefinedMetricWarning: R^2 score is not well-defined with less than two samples.\n",
      "  warnings.warn(msg, UndefinedMetricWarning)\n",
      "C:\\Users\\Shankeerthan\\Anaconda3\\envs\\learn-ml\\lib\\site-packages\\sklearn\\metrics\\_regression.py:582: UndefinedMetricWarning: R^2 score is not well-defined with less than two samples.\n",
      "  warnings.warn(msg, UndefinedMetricWarning)\n",
      "C:\\Users\\Shankeerthan\\Anaconda3\\envs\\learn-ml\\lib\\site-packages\\sklearn\\metrics\\_regression.py:582: UndefinedMetricWarning: R^2 score is not well-defined with less than two samples.\n",
      "  warnings.warn(msg, UndefinedMetricWarning)\n",
      "C:\\Users\\Shankeerthan\\Anaconda3\\envs\\learn-ml\\lib\\site-packages\\sklearn\\metrics\\_regression.py:582: UndefinedMetricWarning: R^2 score is not well-defined with less than two samples.\n",
      "  warnings.warn(msg, UndefinedMetricWarning)\n",
      "C:\\Users\\Shankeerthan\\Anaconda3\\envs\\learn-ml\\lib\\site-packages\\sklearn\\metrics\\_regression.py:582: UndefinedMetricWarning: R^2 score is not well-defined with less than two samples.\n",
      "  warnings.warn(msg, UndefinedMetricWarning)\n",
      "C:\\Users\\Shankeerthan\\Anaconda3\\envs\\learn-ml\\lib\\site-packages\\sklearn\\metrics\\_regression.py:582: UndefinedMetricWarning: R^2 score is not well-defined with less than two samples.\n",
      "  warnings.warn(msg, UndefinedMetricWarning)\n",
      "C:\\Users\\Shankeerthan\\Anaconda3\\envs\\learn-ml\\lib\\site-packages\\sklearn\\metrics\\_regression.py:582: UndefinedMetricWarning: R^2 score is not well-defined with less than two samples.\n",
      "  warnings.warn(msg, UndefinedMetricWarning)\n",
      "C:\\Users\\Shankeerthan\\Anaconda3\\envs\\learn-ml\\lib\\site-packages\\sklearn\\metrics\\_regression.py:582: UndefinedMetricWarning: R^2 score is not well-defined with less than two samples.\n",
      "  warnings.warn(msg, UndefinedMetricWarning)\n",
      "C:\\Users\\Shankeerthan\\Anaconda3\\envs\\learn-ml\\lib\\site-packages\\sklearn\\metrics\\_regression.py:582: UndefinedMetricWarning: R^2 score is not well-defined with less than two samples.\n",
      "  warnings.warn(msg, UndefinedMetricWarning)\n",
      "C:\\Users\\Shankeerthan\\Anaconda3\\envs\\learn-ml\\lib\\site-packages\\sklearn\\metrics\\_regression.py:582: UndefinedMetricWarning: R^2 score is not well-defined with less than two samples.\n",
      "  warnings.warn(msg, UndefinedMetricWarning)\n",
      "C:\\Users\\Shankeerthan\\Anaconda3\\envs\\learn-ml\\lib\\site-packages\\sklearn\\metrics\\_regression.py:582: UndefinedMetricWarning: R^2 score is not well-defined with less than two samples.\n",
      "  warnings.warn(msg, UndefinedMetricWarning)\n",
      "C:\\Users\\Shankeerthan\\Anaconda3\\envs\\learn-ml\\lib\\site-packages\\sklearn\\metrics\\_regression.py:582: UndefinedMetricWarning: R^2 score is not well-defined with less than two samples.\n",
      "  warnings.warn(msg, UndefinedMetricWarning)\n",
      "C:\\Users\\Shankeerthan\\Anaconda3\\envs\\learn-ml\\lib\\site-packages\\sklearn\\metrics\\_regression.py:582: UndefinedMetricWarning: R^2 score is not well-defined with less than two samples.\n",
      "  warnings.warn(msg, UndefinedMetricWarning)\n",
      "C:\\Users\\Shankeerthan\\Anaconda3\\envs\\learn-ml\\lib\\site-packages\\sklearn\\metrics\\_regression.py:582: UndefinedMetricWarning: R^2 score is not well-defined with less than two samples.\n",
      "  warnings.warn(msg, UndefinedMetricWarning)\n",
      "C:\\Users\\Shankeerthan\\Anaconda3\\envs\\learn-ml\\lib\\site-packages\\sklearn\\metrics\\_regression.py:582: UndefinedMetricWarning: R^2 score is not well-defined with less than two samples.\n",
      "  warnings.warn(msg, UndefinedMetricWarning)\n",
      "C:\\Users\\Shankeerthan\\Anaconda3\\envs\\learn-ml\\lib\\site-packages\\sklearn\\metrics\\_regression.py:582: UndefinedMetricWarning: R^2 score is not well-defined with less than two samples.\n",
      "  warnings.warn(msg, UndefinedMetricWarning)\n",
      "C:\\Users\\Shankeerthan\\Anaconda3\\envs\\learn-ml\\lib\\site-packages\\sklearn\\metrics\\_regression.py:582: UndefinedMetricWarning: R^2 score is not well-defined with less than two samples.\n",
      "  warnings.warn(msg, UndefinedMetricWarning)\n",
      "C:\\Users\\Shankeerthan\\Anaconda3\\envs\\learn-ml\\lib\\site-packages\\sklearn\\metrics\\_regression.py:582: UndefinedMetricWarning: R^2 score is not well-defined with less than two samples.\n",
      "  warnings.warn(msg, UndefinedMetricWarning)\n",
      "C:\\Users\\Shankeerthan\\Anaconda3\\envs\\learn-ml\\lib\\site-packages\\sklearn\\metrics\\_regression.py:582: UndefinedMetricWarning: R^2 score is not well-defined with less than two samples.\n",
      "  warnings.warn(msg, UndefinedMetricWarning)\n",
      "C:\\Users\\Shankeerthan\\Anaconda3\\envs\\learn-ml\\lib\\site-packages\\sklearn\\metrics\\_regression.py:582: UndefinedMetricWarning: R^2 score is not well-defined with less than two samples.\n",
      "  warnings.warn(msg, UndefinedMetricWarning)\n",
      "C:\\Users\\Shankeerthan\\Anaconda3\\envs\\learn-ml\\lib\\site-packages\\sklearn\\metrics\\_regression.py:582: UndefinedMetricWarning: R^2 score is not well-defined with less than two samples.\n",
      "  warnings.warn(msg, UndefinedMetricWarning)\n",
      "C:\\Users\\Shankeerthan\\Anaconda3\\envs\\learn-ml\\lib\\site-packages\\sklearn\\metrics\\_regression.py:582: UndefinedMetricWarning: R^2 score is not well-defined with less than two samples.\n",
      "  warnings.warn(msg, UndefinedMetricWarning)\n",
      "C:\\Users\\Shankeerthan\\Anaconda3\\envs\\learn-ml\\lib\\site-packages\\sklearn\\metrics\\_regression.py:582: UndefinedMetricWarning: R^2 score is not well-defined with less than two samples.\n",
      "  warnings.warn(msg, UndefinedMetricWarning)\n",
      "C:\\Users\\Shankeerthan\\Anaconda3\\envs\\learn-ml\\lib\\site-packages\\sklearn\\metrics\\_regression.py:582: UndefinedMetricWarning: R^2 score is not well-defined with less than two samples.\n",
      "  warnings.warn(msg, UndefinedMetricWarning)\n",
      "C:\\Users\\Shankeerthan\\Anaconda3\\envs\\learn-ml\\lib\\site-packages\\sklearn\\metrics\\_regression.py:582: UndefinedMetricWarning: R^2 score is not well-defined with less than two samples.\n",
      "  warnings.warn(msg, UndefinedMetricWarning)\n",
      "C:\\Users\\Shankeerthan\\Anaconda3\\envs\\learn-ml\\lib\\site-packages\\sklearn\\metrics\\_regression.py:582: UndefinedMetricWarning: R^2 score is not well-defined with less than two samples.\n",
      "  warnings.warn(msg, UndefinedMetricWarning)\n",
      "C:\\Users\\Shankeerthan\\Anaconda3\\envs\\learn-ml\\lib\\site-packages\\sklearn\\metrics\\_regression.py:582: UndefinedMetricWarning: R^2 score is not well-defined with less than two samples.\n",
      "  warnings.warn(msg, UndefinedMetricWarning)\n",
      "C:\\Users\\Shankeerthan\\Anaconda3\\envs\\learn-ml\\lib\\site-packages\\sklearn\\metrics\\_regression.py:582: UndefinedMetricWarning: R^2 score is not well-defined with less than two samples.\n",
      "  warnings.warn(msg, UndefinedMetricWarning)\n",
      "C:\\Users\\Shankeerthan\\Anaconda3\\envs\\learn-ml\\lib\\site-packages\\sklearn\\metrics\\_regression.py:582: UndefinedMetricWarning: R^2 score is not well-defined with less than two samples.\n",
      "  warnings.warn(msg, UndefinedMetricWarning)\n",
      "C:\\Users\\Shankeerthan\\Anaconda3\\envs\\learn-ml\\lib\\site-packages\\sklearn\\metrics\\_regression.py:582: UndefinedMetricWarning: R^2 score is not well-defined with less than two samples.\n",
      "  warnings.warn(msg, UndefinedMetricWarning)\n",
      "C:\\Users\\Shankeerthan\\Anaconda3\\envs\\learn-ml\\lib\\site-packages\\sklearn\\metrics\\_regression.py:582: UndefinedMetricWarning: R^2 score is not well-defined with less than two samples.\n",
      "  warnings.warn(msg, UndefinedMetricWarning)\n",
      "C:\\Users\\Shankeerthan\\Anaconda3\\envs\\learn-ml\\lib\\site-packages\\sklearn\\metrics\\_regression.py:582: UndefinedMetricWarning: R^2 score is not well-defined with less than two samples.\n",
      "  warnings.warn(msg, UndefinedMetricWarning)\n",
      "C:\\Users\\Shankeerthan\\Anaconda3\\envs\\learn-ml\\lib\\site-packages\\sklearn\\metrics\\_regression.py:582: UndefinedMetricWarning: R^2 score is not well-defined with less than two samples.\n",
      "  warnings.warn(msg, UndefinedMetricWarning)\n",
      "C:\\Users\\Shankeerthan\\Anaconda3\\envs\\learn-ml\\lib\\site-packages\\sklearn\\metrics\\_regression.py:582: UndefinedMetricWarning: R^2 score is not well-defined with less than two samples.\n",
      "  warnings.warn(msg, UndefinedMetricWarning)\n",
      "C:\\Users\\Shankeerthan\\Anaconda3\\envs\\learn-ml\\lib\\site-packages\\sklearn\\metrics\\_regression.py:582: UndefinedMetricWarning: R^2 score is not well-defined with less than two samples.\n",
      "  warnings.warn(msg, UndefinedMetricWarning)\n",
      "C:\\Users\\Shankeerthan\\Anaconda3\\envs\\learn-ml\\lib\\site-packages\\sklearn\\metrics\\_regression.py:582: UndefinedMetricWarning: R^2 score is not well-defined with less than two samples.\n",
      "  warnings.warn(msg, UndefinedMetricWarning)\n",
      "C:\\Users\\Shankeerthan\\Anaconda3\\envs\\learn-ml\\lib\\site-packages\\sklearn\\metrics\\_regression.py:582: UndefinedMetricWarning: R^2 score is not well-defined with less than two samples.\n",
      "  warnings.warn(msg, UndefinedMetricWarning)\n",
      "C:\\Users\\Shankeerthan\\Anaconda3\\envs\\learn-ml\\lib\\site-packages\\sklearn\\metrics\\_regression.py:582: UndefinedMetricWarning: R^2 score is not well-defined with less than two samples.\n",
      "  warnings.warn(msg, UndefinedMetricWarning)\n",
      "C:\\Users\\Shankeerthan\\Anaconda3\\envs\\learn-ml\\lib\\site-packages\\sklearn\\metrics\\_regression.py:582: UndefinedMetricWarning: R^2 score is not well-defined with less than two samples.\n",
      "  warnings.warn(msg, UndefinedMetricWarning)\n",
      "C:\\Users\\Shankeerthan\\Anaconda3\\envs\\learn-ml\\lib\\site-packages\\sklearn\\metrics\\_regression.py:582: UndefinedMetricWarning: R^2 score is not well-defined with less than two samples.\n",
      "  warnings.warn(msg, UndefinedMetricWarning)\n",
      "C:\\Users\\Shankeerthan\\Anaconda3\\envs\\learn-ml\\lib\\site-packages\\sklearn\\metrics\\_regression.py:582: UndefinedMetricWarning: R^2 score is not well-defined with less than two samples.\n",
      "  warnings.warn(msg, UndefinedMetricWarning)\n",
      "C:\\Users\\Shankeerthan\\Anaconda3\\envs\\learn-ml\\lib\\site-packages\\sklearn\\metrics\\_regression.py:582: UndefinedMetricWarning: R^2 score is not well-defined with less than two samples.\n",
      "  warnings.warn(msg, UndefinedMetricWarning)\n",
      "C:\\Users\\Shankeerthan\\Anaconda3\\envs\\learn-ml\\lib\\site-packages\\sklearn\\metrics\\_regression.py:582: UndefinedMetricWarning: R^2 score is not well-defined with less than two samples.\n",
      "  warnings.warn(msg, UndefinedMetricWarning)\n",
      "C:\\Users\\Shankeerthan\\Anaconda3\\envs\\learn-ml\\lib\\site-packages\\sklearn\\metrics\\_regression.py:582: UndefinedMetricWarning: R^2 score is not well-defined with less than two samples.\n",
      "  warnings.warn(msg, UndefinedMetricWarning)\n",
      "C:\\Users\\Shankeerthan\\Anaconda3\\envs\\learn-ml\\lib\\site-packages\\sklearn\\metrics\\_regression.py:582: UndefinedMetricWarning: R^2 score is not well-defined with less than two samples.\n",
      "  warnings.warn(msg, UndefinedMetricWarning)\n",
      "C:\\Users\\Shankeerthan\\Anaconda3\\envs\\learn-ml\\lib\\site-packages\\sklearn\\metrics\\_regression.py:582: UndefinedMetricWarning: R^2 score is not well-defined with less than two samples.\n",
      "  warnings.warn(msg, UndefinedMetricWarning)\n",
      "C:\\Users\\Shankeerthan\\Anaconda3\\envs\\learn-ml\\lib\\site-packages\\sklearn\\metrics\\_regression.py:582: UndefinedMetricWarning: R^2 score is not well-defined with less than two samples.\n",
      "  warnings.warn(msg, UndefinedMetricWarning)\n",
      "C:\\Users\\Shankeerthan\\Anaconda3\\envs\\learn-ml\\lib\\site-packages\\sklearn\\metrics\\_regression.py:582: UndefinedMetricWarning: R^2 score is not well-defined with less than two samples.\n",
      "  warnings.warn(msg, UndefinedMetricWarning)\n",
      "C:\\Users\\Shankeerthan\\Anaconda3\\envs\\learn-ml\\lib\\site-packages\\sklearn\\metrics\\_regression.py:582: UndefinedMetricWarning: R^2 score is not well-defined with less than two samples.\n",
      "  warnings.warn(msg, UndefinedMetricWarning)\n",
      "C:\\Users\\Shankeerthan\\Anaconda3\\envs\\learn-ml\\lib\\site-packages\\sklearn\\metrics\\_regression.py:582: UndefinedMetricWarning: R^2 score is not well-defined with less than two samples.\n",
      "  warnings.warn(msg, UndefinedMetricWarning)\n",
      "C:\\Users\\Shankeerthan\\Anaconda3\\envs\\learn-ml\\lib\\site-packages\\sklearn\\metrics\\_regression.py:582: UndefinedMetricWarning: R^2 score is not well-defined with less than two samples.\n",
      "  warnings.warn(msg, UndefinedMetricWarning)\n",
      "C:\\Users\\Shankeerthan\\Anaconda3\\envs\\learn-ml\\lib\\site-packages\\sklearn\\metrics\\_regression.py:582: UndefinedMetricWarning: R^2 score is not well-defined with less than two samples.\n",
      "  warnings.warn(msg, UndefinedMetricWarning)\n",
      "C:\\Users\\Shankeerthan\\Anaconda3\\envs\\learn-ml\\lib\\site-packages\\sklearn\\metrics\\_regression.py:582: UndefinedMetricWarning: R^2 score is not well-defined with less than two samples.\n",
      "  warnings.warn(msg, UndefinedMetricWarning)\n",
      "C:\\Users\\Shankeerthan\\Anaconda3\\envs\\learn-ml\\lib\\site-packages\\sklearn\\metrics\\_regression.py:582: UndefinedMetricWarning: R^2 score is not well-defined with less than two samples.\n",
      "  warnings.warn(msg, UndefinedMetricWarning)\n",
      "C:\\Users\\Shankeerthan\\Anaconda3\\envs\\learn-ml\\lib\\site-packages\\sklearn\\metrics\\_regression.py:582: UndefinedMetricWarning: R^2 score is not well-defined with less than two samples.\n",
      "  warnings.warn(msg, UndefinedMetricWarning)\n",
      "C:\\Users\\Shankeerthan\\Anaconda3\\envs\\learn-ml\\lib\\site-packages\\sklearn\\metrics\\_regression.py:582: UndefinedMetricWarning: R^2 score is not well-defined with less than two samples.\n",
      "  warnings.warn(msg, UndefinedMetricWarning)\n",
      "C:\\Users\\Shankeerthan\\Anaconda3\\envs\\learn-ml\\lib\\site-packages\\sklearn\\metrics\\_regression.py:582: UndefinedMetricWarning: R^2 score is not well-defined with less than two samples.\n",
      "  warnings.warn(msg, UndefinedMetricWarning)\n",
      "C:\\Users\\Shankeerthan\\Anaconda3\\envs\\learn-ml\\lib\\site-packages\\sklearn\\metrics\\_regression.py:582: UndefinedMetricWarning: R^2 score is not well-defined with less than two samples.\n",
      "  warnings.warn(msg, UndefinedMetricWarning)\n",
      "C:\\Users\\Shankeerthan\\Anaconda3\\envs\\learn-ml\\lib\\site-packages\\sklearn\\metrics\\_regression.py:582: UndefinedMetricWarning: R^2 score is not well-defined with less than two samples.\n",
      "  warnings.warn(msg, UndefinedMetricWarning)\n",
      "C:\\Users\\Shankeerthan\\Anaconda3\\envs\\learn-ml\\lib\\site-packages\\sklearn\\metrics\\_regression.py:582: UndefinedMetricWarning: R^2 score is not well-defined with less than two samples.\n",
      "  warnings.warn(msg, UndefinedMetricWarning)\n",
      "C:\\Users\\Shankeerthan\\Anaconda3\\envs\\learn-ml\\lib\\site-packages\\sklearn\\metrics\\_regression.py:582: UndefinedMetricWarning: R^2 score is not well-defined with less than two samples.\n",
      "  warnings.warn(msg, UndefinedMetricWarning)\n",
      "C:\\Users\\Shankeerthan\\Anaconda3\\envs\\learn-ml\\lib\\site-packages\\sklearn\\metrics\\_regression.py:582: UndefinedMetricWarning: R^2 score is not well-defined with less than two samples.\n",
      "  warnings.warn(msg, UndefinedMetricWarning)\n",
      "C:\\Users\\Shankeerthan\\Anaconda3\\envs\\learn-ml\\lib\\site-packages\\sklearn\\metrics\\_regression.py:582: UndefinedMetricWarning: R^2 score is not well-defined with less than two samples.\n",
      "  warnings.warn(msg, UndefinedMetricWarning)\n",
      "C:\\Users\\Shankeerthan\\Anaconda3\\envs\\learn-ml\\lib\\site-packages\\sklearn\\metrics\\_regression.py:582: UndefinedMetricWarning: R^2 score is not well-defined with less than two samples.\n",
      "  warnings.warn(msg, UndefinedMetricWarning)\n",
      "C:\\Users\\Shankeerthan\\Anaconda3\\envs\\learn-ml\\lib\\site-packages\\sklearn\\metrics\\_regression.py:582: UndefinedMetricWarning: R^2 score is not well-defined with less than two samples.\n",
      "  warnings.warn(msg, UndefinedMetricWarning)\n",
      "C:\\Users\\Shankeerthan\\Anaconda3\\envs\\learn-ml\\lib\\site-packages\\sklearn\\metrics\\_regression.py:582: UndefinedMetricWarning: R^2 score is not well-defined with less than two samples.\n",
      "  warnings.warn(msg, UndefinedMetricWarning)\n",
      "C:\\Users\\Shankeerthan\\Anaconda3\\envs\\learn-ml\\lib\\site-packages\\sklearn\\metrics\\_regression.py:582: UndefinedMetricWarning: R^2 score is not well-defined with less than two samples.\n",
      "  warnings.warn(msg, UndefinedMetricWarning)\n",
      "C:\\Users\\Shankeerthan\\Anaconda3\\envs\\learn-ml\\lib\\site-packages\\sklearn\\metrics\\_regression.py:582: UndefinedMetricWarning: R^2 score is not well-defined with less than two samples.\n",
      "  warnings.warn(msg, UndefinedMetricWarning)\n",
      "C:\\Users\\Shankeerthan\\Anaconda3\\envs\\learn-ml\\lib\\site-packages\\sklearn\\metrics\\_regression.py:582: UndefinedMetricWarning: R^2 score is not well-defined with less than two samples.\n",
      "  warnings.warn(msg, UndefinedMetricWarning)\n",
      "C:\\Users\\Shankeerthan\\Anaconda3\\envs\\learn-ml\\lib\\site-packages\\sklearn\\metrics\\_regression.py:582: UndefinedMetricWarning: R^2 score is not well-defined with less than two samples.\n",
      "  warnings.warn(msg, UndefinedMetricWarning)\n",
      "C:\\Users\\Shankeerthan\\Anaconda3\\envs\\learn-ml\\lib\\site-packages\\sklearn\\metrics\\_regression.py:582: UndefinedMetricWarning: R^2 score is not well-defined with less than two samples.\n",
      "  warnings.warn(msg, UndefinedMetricWarning)\n",
      "C:\\Users\\Shankeerthan\\Anaconda3\\envs\\learn-ml\\lib\\site-packages\\sklearn\\metrics\\_regression.py:582: UndefinedMetricWarning: R^2 score is not well-defined with less than two samples.\n",
      "  warnings.warn(msg, UndefinedMetricWarning)\n",
      "C:\\Users\\Shankeerthan\\Anaconda3\\envs\\learn-ml\\lib\\site-packages\\sklearn\\metrics\\_regression.py:582: UndefinedMetricWarning: R^2 score is not well-defined with less than two samples.\n",
      "  warnings.warn(msg, UndefinedMetricWarning)\n",
      "C:\\Users\\Shankeerthan\\Anaconda3\\envs\\learn-ml\\lib\\site-packages\\sklearn\\metrics\\_regression.py:582: UndefinedMetricWarning: R^2 score is not well-defined with less than two samples.\n",
      "  warnings.warn(msg, UndefinedMetricWarning)\n",
      "C:\\Users\\Shankeerthan\\Anaconda3\\envs\\learn-ml\\lib\\site-packages\\sklearn\\metrics\\_regression.py:582: UndefinedMetricWarning: R^2 score is not well-defined with less than two samples.\n",
      "  warnings.warn(msg, UndefinedMetricWarning)\n",
      "C:\\Users\\Shankeerthan\\Anaconda3\\envs\\learn-ml\\lib\\site-packages\\sklearn\\metrics\\_regression.py:582: UndefinedMetricWarning: R^2 score is not well-defined with less than two samples.\n",
      "  warnings.warn(msg, UndefinedMetricWarning)\n",
      "C:\\Users\\Shankeerthan\\Anaconda3\\envs\\learn-ml\\lib\\site-packages\\sklearn\\metrics\\_regression.py:582: UndefinedMetricWarning: R^2 score is not well-defined with less than two samples.\n",
      "  warnings.warn(msg, UndefinedMetricWarning)\n",
      "C:\\Users\\Shankeerthan\\Anaconda3\\envs\\learn-ml\\lib\\site-packages\\sklearn\\metrics\\_regression.py:582: UndefinedMetricWarning: R^2 score is not well-defined with less than two samples.\n",
      "  warnings.warn(msg, UndefinedMetricWarning)\n",
      "C:\\Users\\Shankeerthan\\Anaconda3\\envs\\learn-ml\\lib\\site-packages\\sklearn\\metrics\\_regression.py:582: UndefinedMetricWarning: R^2 score is not well-defined with less than two samples.\n",
      "  warnings.warn(msg, UndefinedMetricWarning)\n",
      "C:\\Users\\Shankeerthan\\Anaconda3\\envs\\learn-ml\\lib\\site-packages\\sklearn\\metrics\\_regression.py:582: UndefinedMetricWarning: R^2 score is not well-defined with less than two samples.\n",
      "  warnings.warn(msg, UndefinedMetricWarning)\n",
      "C:\\Users\\Shankeerthan\\Anaconda3\\envs\\learn-ml\\lib\\site-packages\\sklearn\\metrics\\_regression.py:582: UndefinedMetricWarning: R^2 score is not well-defined with less than two samples.\n",
      "  warnings.warn(msg, UndefinedMetricWarning)\n",
      "C:\\Users\\Shankeerthan\\Anaconda3\\envs\\learn-ml\\lib\\site-packages\\sklearn\\metrics\\_regression.py:582: UndefinedMetricWarning: R^2 score is not well-defined with less than two samples.\n",
      "  warnings.warn(msg, UndefinedMetricWarning)\n",
      "C:\\Users\\Shankeerthan\\Anaconda3\\envs\\learn-ml\\lib\\site-packages\\sklearn\\metrics\\_regression.py:582: UndefinedMetricWarning: R^2 score is not well-defined with less than two samples.\n",
      "  warnings.warn(msg, UndefinedMetricWarning)\n",
      "C:\\Users\\Shankeerthan\\Anaconda3\\envs\\learn-ml\\lib\\site-packages\\sklearn\\metrics\\_regression.py:582: UndefinedMetricWarning: R^2 score is not well-defined with less than two samples.\n",
      "  warnings.warn(msg, UndefinedMetricWarning)\n",
      "C:\\Users\\Shankeerthan\\Anaconda3\\envs\\learn-ml\\lib\\site-packages\\sklearn\\metrics\\_regression.py:582: UndefinedMetricWarning: R^2 score is not well-defined with less than two samples.\n",
      "  warnings.warn(msg, UndefinedMetricWarning)\n",
      "C:\\Users\\Shankeerthan\\Anaconda3\\envs\\learn-ml\\lib\\site-packages\\sklearn\\metrics\\_regression.py:582: UndefinedMetricWarning: R^2 score is not well-defined with less than two samples.\n",
      "  warnings.warn(msg, UndefinedMetricWarning)\n",
      "C:\\Users\\Shankeerthan\\Anaconda3\\envs\\learn-ml\\lib\\site-packages\\sklearn\\metrics\\_regression.py:582: UndefinedMetricWarning: R^2 score is not well-defined with less than two samples.\n",
      "  warnings.warn(msg, UndefinedMetricWarning)\n",
      "C:\\Users\\Shankeerthan\\Anaconda3\\envs\\learn-ml\\lib\\site-packages\\sklearn\\metrics\\_regression.py:582: UndefinedMetricWarning: R^2 score is not well-defined with less than two samples.\n",
      "  warnings.warn(msg, UndefinedMetricWarning)\n",
      "C:\\Users\\Shankeerthan\\Anaconda3\\envs\\learn-ml\\lib\\site-packages\\sklearn\\metrics\\_regression.py:582: UndefinedMetricWarning: R^2 score is not well-defined with less than two samples.\n",
      "  warnings.warn(msg, UndefinedMetricWarning)\n",
      "C:\\Users\\Shankeerthan\\Anaconda3\\envs\\learn-ml\\lib\\site-packages\\sklearn\\metrics\\_regression.py:582: UndefinedMetricWarning: R^2 score is not well-defined with less than two samples.\n",
      "  warnings.warn(msg, UndefinedMetricWarning)\n",
      "C:\\Users\\Shankeerthan\\Anaconda3\\envs\\learn-ml\\lib\\site-packages\\sklearn\\metrics\\_regression.py:582: UndefinedMetricWarning: R^2 score is not well-defined with less than two samples.\n",
      "  warnings.warn(msg, UndefinedMetricWarning)\n",
      "C:\\Users\\Shankeerthan\\Anaconda3\\envs\\learn-ml\\lib\\site-packages\\sklearn\\metrics\\_regression.py:582: UndefinedMetricWarning: R^2 score is not well-defined with less than two samples.\n",
      "  warnings.warn(msg, UndefinedMetricWarning)\n",
      "C:\\Users\\Shankeerthan\\Anaconda3\\envs\\learn-ml\\lib\\site-packages\\sklearn\\metrics\\_regression.py:582: UndefinedMetricWarning: R^2 score is not well-defined with less than two samples.\n",
      "  warnings.warn(msg, UndefinedMetricWarning)\n",
      "C:\\Users\\Shankeerthan\\Anaconda3\\envs\\learn-ml\\lib\\site-packages\\sklearn\\metrics\\_regression.py:582: UndefinedMetricWarning: R^2 score is not well-defined with less than two samples.\n",
      "  warnings.warn(msg, UndefinedMetricWarning)\n",
      "C:\\Users\\Shankeerthan\\Anaconda3\\envs\\learn-ml\\lib\\site-packages\\sklearn\\metrics\\_regression.py:582: UndefinedMetricWarning: R^2 score is not well-defined with less than two samples.\n",
      "  warnings.warn(msg, UndefinedMetricWarning)\n",
      "C:\\Users\\Shankeerthan\\Anaconda3\\envs\\learn-ml\\lib\\site-packages\\sklearn\\metrics\\_regression.py:582: UndefinedMetricWarning: R^2 score is not well-defined with less than two samples.\n",
      "  warnings.warn(msg, UndefinedMetricWarning)\n",
      "C:\\Users\\Shankeerthan\\Anaconda3\\envs\\learn-ml\\lib\\site-packages\\sklearn\\metrics\\_regression.py:582: UndefinedMetricWarning: R^2 score is not well-defined with less than two samples.\n",
      "  warnings.warn(msg, UndefinedMetricWarning)\n",
      "C:\\Users\\Shankeerthan\\Anaconda3\\envs\\learn-ml\\lib\\site-packages\\sklearn\\metrics\\_regression.py:582: UndefinedMetricWarning: R^2 score is not well-defined with less than two samples.\n",
      "  warnings.warn(msg, UndefinedMetricWarning)\n",
      "C:\\Users\\Shankeerthan\\Anaconda3\\envs\\learn-ml\\lib\\site-packages\\sklearn\\metrics\\_regression.py:582: UndefinedMetricWarning: R^2 score is not well-defined with less than two samples.\n",
      "  warnings.warn(msg, UndefinedMetricWarning)\n",
      "C:\\Users\\Shankeerthan\\Anaconda3\\envs\\learn-ml\\lib\\site-packages\\sklearn\\metrics\\_regression.py:582: UndefinedMetricWarning: R^2 score is not well-defined with less than two samples.\n",
      "  warnings.warn(msg, UndefinedMetricWarning)\n",
      "C:\\Users\\Shankeerthan\\Anaconda3\\envs\\learn-ml\\lib\\site-packages\\sklearn\\metrics\\_regression.py:582: UndefinedMetricWarning: R^2 score is not well-defined with less than two samples.\n",
      "  warnings.warn(msg, UndefinedMetricWarning)\n",
      "C:\\Users\\Shankeerthan\\Anaconda3\\envs\\learn-ml\\lib\\site-packages\\sklearn\\metrics\\_regression.py:582: UndefinedMetricWarning: R^2 score is not well-defined with less than two samples.\n",
      "  warnings.warn(msg, UndefinedMetricWarning)\n",
      "C:\\Users\\Shankeerthan\\Anaconda3\\envs\\learn-ml\\lib\\site-packages\\sklearn\\metrics\\_regression.py:582: UndefinedMetricWarning: R^2 score is not well-defined with less than two samples.\n",
      "  warnings.warn(msg, UndefinedMetricWarning)\n",
      "C:\\Users\\Shankeerthan\\Anaconda3\\envs\\learn-ml\\lib\\site-packages\\sklearn\\metrics\\_regression.py:582: UndefinedMetricWarning: R^2 score is not well-defined with less than two samples.\n",
      "  warnings.warn(msg, UndefinedMetricWarning)\n",
      "C:\\Users\\Shankeerthan\\Anaconda3\\envs\\learn-ml\\lib\\site-packages\\sklearn\\metrics\\_regression.py:582: UndefinedMetricWarning: R^2 score is not well-defined with less than two samples.\n",
      "  warnings.warn(msg, UndefinedMetricWarning)\n",
      "C:\\Users\\Shankeerthan\\Anaconda3\\envs\\learn-ml\\lib\\site-packages\\sklearn\\metrics\\_regression.py:582: UndefinedMetricWarning: R^2 score is not well-defined with less than two samples.\n",
      "  warnings.warn(msg, UndefinedMetricWarning)\n",
      "C:\\Users\\Shankeerthan\\Anaconda3\\envs\\learn-ml\\lib\\site-packages\\sklearn\\metrics\\_regression.py:582: UndefinedMetricWarning: R^2 score is not well-defined with less than two samples.\n",
      "  warnings.warn(msg, UndefinedMetricWarning)\n",
      "C:\\Users\\Shankeerthan\\Anaconda3\\envs\\learn-ml\\lib\\site-packages\\sklearn\\metrics\\_regression.py:582: UndefinedMetricWarning: R^2 score is not well-defined with less than two samples.\n",
      "  warnings.warn(msg, UndefinedMetricWarning)\n",
      "C:\\Users\\Shankeerthan\\Anaconda3\\envs\\learn-ml\\lib\\site-packages\\sklearn\\metrics\\_regression.py:582: UndefinedMetricWarning: R^2 score is not well-defined with less than two samples.\n",
      "  warnings.warn(msg, UndefinedMetricWarning)\n",
      "C:\\Users\\Shankeerthan\\Anaconda3\\envs\\learn-ml\\lib\\site-packages\\sklearn\\metrics\\_regression.py:582: UndefinedMetricWarning: R^2 score is not well-defined with less than two samples.\n",
      "  warnings.warn(msg, UndefinedMetricWarning)\n",
      "C:\\Users\\Shankeerthan\\Anaconda3\\envs\\learn-ml\\lib\\site-packages\\sklearn\\metrics\\_regression.py:582: UndefinedMetricWarning: R^2 score is not well-defined with less than two samples.\n",
      "  warnings.warn(msg, UndefinedMetricWarning)\n",
      "C:\\Users\\Shankeerthan\\Anaconda3\\envs\\learn-ml\\lib\\site-packages\\sklearn\\metrics\\_regression.py:582: UndefinedMetricWarning: R^2 score is not well-defined with less than two samples.\n",
      "  warnings.warn(msg, UndefinedMetricWarning)\n",
      "C:\\Users\\Shankeerthan\\Anaconda3\\envs\\learn-ml\\lib\\site-packages\\sklearn\\metrics\\_regression.py:582: UndefinedMetricWarning: R^2 score is not well-defined with less than two samples.\n",
      "  warnings.warn(msg, UndefinedMetricWarning)\n",
      "C:\\Users\\Shankeerthan\\Anaconda3\\envs\\learn-ml\\lib\\site-packages\\sklearn\\metrics\\_regression.py:582: UndefinedMetricWarning: R^2 score is not well-defined with less than two samples.\n",
      "  warnings.warn(msg, UndefinedMetricWarning)\n",
      "C:\\Users\\Shankeerthan\\Anaconda3\\envs\\learn-ml\\lib\\site-packages\\sklearn\\metrics\\_regression.py:582: UndefinedMetricWarning: R^2 score is not well-defined with less than two samples.\n",
      "  warnings.warn(msg, UndefinedMetricWarning)\n",
      "C:\\Users\\Shankeerthan\\Anaconda3\\envs\\learn-ml\\lib\\site-packages\\sklearn\\metrics\\_regression.py:582: UndefinedMetricWarning: R^2 score is not well-defined with less than two samples.\n",
      "  warnings.warn(msg, UndefinedMetricWarning)\n",
      "C:\\Users\\Shankeerthan\\Anaconda3\\envs\\learn-ml\\lib\\site-packages\\sklearn\\metrics\\_regression.py:582: UndefinedMetricWarning: R^2 score is not well-defined with less than two samples.\n",
      "  warnings.warn(msg, UndefinedMetricWarning)\n",
      "C:\\Users\\Shankeerthan\\Anaconda3\\envs\\learn-ml\\lib\\site-packages\\sklearn\\metrics\\_regression.py:582: UndefinedMetricWarning: R^2 score is not well-defined with less than two samples.\n",
      "  warnings.warn(msg, UndefinedMetricWarning)\n",
      "C:\\Users\\Shankeerthan\\Anaconda3\\envs\\learn-ml\\lib\\site-packages\\sklearn\\metrics\\_regression.py:582: UndefinedMetricWarning: R^2 score is not well-defined with less than two samples.\n",
      "  warnings.warn(msg, UndefinedMetricWarning)\n",
      "C:\\Users\\Shankeerthan\\Anaconda3\\envs\\learn-ml\\lib\\site-packages\\sklearn\\metrics\\_regression.py:582: UndefinedMetricWarning: R^2 score is not well-defined with less than two samples.\n",
      "  warnings.warn(msg, UndefinedMetricWarning)\n",
      "C:\\Users\\Shankeerthan\\Anaconda3\\envs\\learn-ml\\lib\\site-packages\\sklearn\\metrics\\_regression.py:582: UndefinedMetricWarning: R^2 score is not well-defined with less than two samples.\n",
      "  warnings.warn(msg, UndefinedMetricWarning)\n",
      "C:\\Users\\Shankeerthan\\Anaconda3\\envs\\learn-ml\\lib\\site-packages\\sklearn\\metrics\\_regression.py:582: UndefinedMetricWarning: R^2 score is not well-defined with less than two samples.\n",
      "  warnings.warn(msg, UndefinedMetricWarning)\n",
      "C:\\Users\\Shankeerthan\\Anaconda3\\envs\\learn-ml\\lib\\site-packages\\sklearn\\metrics\\_regression.py:582: UndefinedMetricWarning: R^2 score is not well-defined with less than two samples.\n",
      "  warnings.warn(msg, UndefinedMetricWarning)\n",
      "C:\\Users\\Shankeerthan\\Anaconda3\\envs\\learn-ml\\lib\\site-packages\\sklearn\\metrics\\_regression.py:582: UndefinedMetricWarning: R^2 score is not well-defined with less than two samples.\n",
      "  warnings.warn(msg, UndefinedMetricWarning)\n",
      "C:\\Users\\Shankeerthan\\Anaconda3\\envs\\learn-ml\\lib\\site-packages\\sklearn\\metrics\\_regression.py:582: UndefinedMetricWarning: R^2 score is not well-defined with less than two samples.\n",
      "  warnings.warn(msg, UndefinedMetricWarning)\n",
      "C:\\Users\\Shankeerthan\\Anaconda3\\envs\\learn-ml\\lib\\site-packages\\sklearn\\metrics\\_regression.py:582: UndefinedMetricWarning: R^2 score is not well-defined with less than two samples.\n",
      "  warnings.warn(msg, UndefinedMetricWarning)\n",
      "C:\\Users\\Shankeerthan\\Anaconda3\\envs\\learn-ml\\lib\\site-packages\\sklearn\\metrics\\_regression.py:582: UndefinedMetricWarning: R^2 score is not well-defined with less than two samples.\n",
      "  warnings.warn(msg, UndefinedMetricWarning)\n",
      "C:\\Users\\Shankeerthan\\Anaconda3\\envs\\learn-ml\\lib\\site-packages\\sklearn\\metrics\\_regression.py:582: UndefinedMetricWarning: R^2 score is not well-defined with less than two samples.\n",
      "  warnings.warn(msg, UndefinedMetricWarning)\n",
      "C:\\Users\\Shankeerthan\\Anaconda3\\envs\\learn-ml\\lib\\site-packages\\sklearn\\metrics\\_regression.py:582: UndefinedMetricWarning: R^2 score is not well-defined with less than two samples.\n",
      "  warnings.warn(msg, UndefinedMetricWarning)\n",
      "C:\\Users\\Shankeerthan\\Anaconda3\\envs\\learn-ml\\lib\\site-packages\\sklearn\\metrics\\_regression.py:582: UndefinedMetricWarning: R^2 score is not well-defined with less than two samples.\n",
      "  warnings.warn(msg, UndefinedMetricWarning)\n",
      "C:\\Users\\Shankeerthan\\Anaconda3\\envs\\learn-ml\\lib\\site-packages\\sklearn\\metrics\\_regression.py:582: UndefinedMetricWarning: R^2 score is not well-defined with less than two samples.\n",
      "  warnings.warn(msg, UndefinedMetricWarning)\n",
      "C:\\Users\\Shankeerthan\\Anaconda3\\envs\\learn-ml\\lib\\site-packages\\sklearn\\metrics\\_regression.py:582: UndefinedMetricWarning: R^2 score is not well-defined with less than two samples.\n",
      "  warnings.warn(msg, UndefinedMetricWarning)\n",
      "C:\\Users\\Shankeerthan\\Anaconda3\\envs\\learn-ml\\lib\\site-packages\\sklearn\\metrics\\_regression.py:582: UndefinedMetricWarning: R^2 score is not well-defined with less than two samples.\n",
      "  warnings.warn(msg, UndefinedMetricWarning)\n",
      "C:\\Users\\Shankeerthan\\Anaconda3\\envs\\learn-ml\\lib\\site-packages\\sklearn\\metrics\\_regression.py:582: UndefinedMetricWarning: R^2 score is not well-defined with less than two samples.\n",
      "  warnings.warn(msg, UndefinedMetricWarning)\n",
      "C:\\Users\\Shankeerthan\\Anaconda3\\envs\\learn-ml\\lib\\site-packages\\sklearn\\metrics\\_regression.py:582: UndefinedMetricWarning: R^2 score is not well-defined with less than two samples.\n",
      "  warnings.warn(msg, UndefinedMetricWarning)\n",
      "C:\\Users\\Shankeerthan\\Anaconda3\\envs\\learn-ml\\lib\\site-packages\\sklearn\\metrics\\_regression.py:582: UndefinedMetricWarning: R^2 score is not well-defined with less than two samples.\n",
      "  warnings.warn(msg, UndefinedMetricWarning)\n",
      "C:\\Users\\Shankeerthan\\Anaconda3\\envs\\learn-ml\\lib\\site-packages\\sklearn\\metrics\\_regression.py:582: UndefinedMetricWarning: R^2 score is not well-defined with less than two samples.\n",
      "  warnings.warn(msg, UndefinedMetricWarning)\n",
      "C:\\Users\\Shankeerthan\\Anaconda3\\envs\\learn-ml\\lib\\site-packages\\sklearn\\metrics\\_regression.py:582: UndefinedMetricWarning: R^2 score is not well-defined with less than two samples.\n",
      "  warnings.warn(msg, UndefinedMetricWarning)\n",
      "C:\\Users\\Shankeerthan\\Anaconda3\\envs\\learn-ml\\lib\\site-packages\\sklearn\\metrics\\_regression.py:582: UndefinedMetricWarning: R^2 score is not well-defined with less than two samples.\n",
      "  warnings.warn(msg, UndefinedMetricWarning)\n",
      "C:\\Users\\Shankeerthan\\Anaconda3\\envs\\learn-ml\\lib\\site-packages\\sklearn\\metrics\\_regression.py:582: UndefinedMetricWarning: R^2 score is not well-defined with less than two samples.\n",
      "  warnings.warn(msg, UndefinedMetricWarning)\n",
      "C:\\Users\\Shankeerthan\\Anaconda3\\envs\\learn-ml\\lib\\site-packages\\sklearn\\metrics\\_regression.py:582: UndefinedMetricWarning: R^2 score is not well-defined with less than two samples.\n",
      "  warnings.warn(msg, UndefinedMetricWarning)\n",
      "C:\\Users\\Shankeerthan\\Anaconda3\\envs\\learn-ml\\lib\\site-packages\\sklearn\\metrics\\_regression.py:582: UndefinedMetricWarning: R^2 score is not well-defined with less than two samples.\n",
      "  warnings.warn(msg, UndefinedMetricWarning)\n",
      "C:\\Users\\Shankeerthan\\Anaconda3\\envs\\learn-ml\\lib\\site-packages\\sklearn\\metrics\\_regression.py:582: UndefinedMetricWarning: R^2 score is not well-defined with less than two samples.\n",
      "  warnings.warn(msg, UndefinedMetricWarning)\n",
      "C:\\Users\\Shankeerthan\\Anaconda3\\envs\\learn-ml\\lib\\site-packages\\sklearn\\metrics\\_regression.py:582: UndefinedMetricWarning: R^2 score is not well-defined with less than two samples.\n",
      "  warnings.warn(msg, UndefinedMetricWarning)\n",
      "C:\\Users\\Shankeerthan\\Anaconda3\\envs\\learn-ml\\lib\\site-packages\\sklearn\\metrics\\_regression.py:582: UndefinedMetricWarning: R^2 score is not well-defined with less than two samples.\n",
      "  warnings.warn(msg, UndefinedMetricWarning)\n",
      "C:\\Users\\Shankeerthan\\Anaconda3\\envs\\learn-ml\\lib\\site-packages\\sklearn\\metrics\\_regression.py:582: UndefinedMetricWarning: R^2 score is not well-defined with less than two samples.\n",
      "  warnings.warn(msg, UndefinedMetricWarning)\n",
      "C:\\Users\\Shankeerthan\\Anaconda3\\envs\\learn-ml\\lib\\site-packages\\sklearn\\metrics\\_regression.py:582: UndefinedMetricWarning: R^2 score is not well-defined with less than two samples.\n",
      "  warnings.warn(msg, UndefinedMetricWarning)\n",
      "C:\\Users\\Shankeerthan\\Anaconda3\\envs\\learn-ml\\lib\\site-packages\\sklearn\\metrics\\_regression.py:582: UndefinedMetricWarning: R^2 score is not well-defined with less than two samples.\n",
      "  warnings.warn(msg, UndefinedMetricWarning)\n",
      "C:\\Users\\Shankeerthan\\Anaconda3\\envs\\learn-ml\\lib\\site-packages\\sklearn\\metrics\\_regression.py:582: UndefinedMetricWarning: R^2 score is not well-defined with less than two samples.\n",
      "  warnings.warn(msg, UndefinedMetricWarning)\n",
      "C:\\Users\\Shankeerthan\\Anaconda3\\envs\\learn-ml\\lib\\site-packages\\sklearn\\metrics\\_regression.py:582: UndefinedMetricWarning: R^2 score is not well-defined with less than two samples.\n",
      "  warnings.warn(msg, UndefinedMetricWarning)\n",
      "C:\\Users\\Shankeerthan\\Anaconda3\\envs\\learn-ml\\lib\\site-packages\\sklearn\\metrics\\_regression.py:582: UndefinedMetricWarning: R^2 score is not well-defined with less than two samples.\n",
      "  warnings.warn(msg, UndefinedMetricWarning)\n",
      "C:\\Users\\Shankeerthan\\Anaconda3\\envs\\learn-ml\\lib\\site-packages\\sklearn\\metrics\\_regression.py:582: UndefinedMetricWarning: R^2 score is not well-defined with less than two samples.\n",
      "  warnings.warn(msg, UndefinedMetricWarning)\n",
      "C:\\Users\\Shankeerthan\\Anaconda3\\envs\\learn-ml\\lib\\site-packages\\sklearn\\metrics\\_regression.py:582: UndefinedMetricWarning: R^2 score is not well-defined with less than two samples.\n",
      "  warnings.warn(msg, UndefinedMetricWarning)\n",
      "C:\\Users\\Shankeerthan\\Anaconda3\\envs\\learn-ml\\lib\\site-packages\\sklearn\\metrics\\_regression.py:582: UndefinedMetricWarning: R^2 score is not well-defined with less than two samples.\n",
      "  warnings.warn(msg, UndefinedMetricWarning)\n",
      "C:\\Users\\Shankeerthan\\Anaconda3\\envs\\learn-ml\\lib\\site-packages\\sklearn\\metrics\\_regression.py:582: UndefinedMetricWarning: R^2 score is not well-defined with less than two samples.\n",
      "  warnings.warn(msg, UndefinedMetricWarning)\n",
      "C:\\Users\\Shankeerthan\\Anaconda3\\envs\\learn-ml\\lib\\site-packages\\sklearn\\metrics\\_regression.py:582: UndefinedMetricWarning: R^2 score is not well-defined with less than two samples.\n",
      "  warnings.warn(msg, UndefinedMetricWarning)\n",
      "C:\\Users\\Shankeerthan\\Anaconda3\\envs\\learn-ml\\lib\\site-packages\\sklearn\\metrics\\_regression.py:582: UndefinedMetricWarning: R^2 score is not well-defined with less than two samples.\n",
      "  warnings.warn(msg, UndefinedMetricWarning)\n",
      "C:\\Users\\Shankeerthan\\Anaconda3\\envs\\learn-ml\\lib\\site-packages\\sklearn\\metrics\\_regression.py:582: UndefinedMetricWarning: R^2 score is not well-defined with less than two samples.\n",
      "  warnings.warn(msg, UndefinedMetricWarning)\n",
      "C:\\Users\\Shankeerthan\\Anaconda3\\envs\\learn-ml\\lib\\site-packages\\sklearn\\metrics\\_regression.py:582: UndefinedMetricWarning: R^2 score is not well-defined with less than two samples.\n",
      "  warnings.warn(msg, UndefinedMetricWarning)\n",
      "C:\\Users\\Shankeerthan\\Anaconda3\\envs\\learn-ml\\lib\\site-packages\\sklearn\\metrics\\_regression.py:582: UndefinedMetricWarning: R^2 score is not well-defined with less than two samples.\n",
      "  warnings.warn(msg, UndefinedMetricWarning)\n",
      "C:\\Users\\Shankeerthan\\Anaconda3\\envs\\learn-ml\\lib\\site-packages\\sklearn\\metrics\\_regression.py:582: UndefinedMetricWarning: R^2 score is not well-defined with less than two samples.\n",
      "  warnings.warn(msg, UndefinedMetricWarning)\n",
      "C:\\Users\\Shankeerthan\\Anaconda3\\envs\\learn-ml\\lib\\site-packages\\sklearn\\metrics\\_regression.py:582: UndefinedMetricWarning: R^2 score is not well-defined with less than two samples.\n",
      "  warnings.warn(msg, UndefinedMetricWarning)\n",
      "C:\\Users\\Shankeerthan\\Anaconda3\\envs\\learn-ml\\lib\\site-packages\\sklearn\\metrics\\_regression.py:582: UndefinedMetricWarning: R^2 score is not well-defined with less than two samples.\n",
      "  warnings.warn(msg, UndefinedMetricWarning)\n",
      "C:\\Users\\Shankeerthan\\Anaconda3\\envs\\learn-ml\\lib\\site-packages\\sklearn\\metrics\\_regression.py:582: UndefinedMetricWarning: R^2 score is not well-defined with less than two samples.\n",
      "  warnings.warn(msg, UndefinedMetricWarning)\n",
      "C:\\Users\\Shankeerthan\\Anaconda3\\envs\\learn-ml\\lib\\site-packages\\sklearn\\metrics\\_regression.py:582: UndefinedMetricWarning: R^2 score is not well-defined with less than two samples.\n",
      "  warnings.warn(msg, UndefinedMetricWarning)\n",
      "C:\\Users\\Shankeerthan\\Anaconda3\\envs\\learn-ml\\lib\\site-packages\\sklearn\\metrics\\_regression.py:582: UndefinedMetricWarning: R^2 score is not well-defined with less than two samples.\n",
      "  warnings.warn(msg, UndefinedMetricWarning)\n",
      "C:\\Users\\Shankeerthan\\Anaconda3\\envs\\learn-ml\\lib\\site-packages\\sklearn\\metrics\\_regression.py:582: UndefinedMetricWarning: R^2 score is not well-defined with less than two samples.\n",
      "  warnings.warn(msg, UndefinedMetricWarning)\n",
      "C:\\Users\\Shankeerthan\\Anaconda3\\envs\\learn-ml\\lib\\site-packages\\sklearn\\metrics\\_regression.py:582: UndefinedMetricWarning: R^2 score is not well-defined with less than two samples.\n",
      "  warnings.warn(msg, UndefinedMetricWarning)\n",
      "C:\\Users\\Shankeerthan\\Anaconda3\\envs\\learn-ml\\lib\\site-packages\\sklearn\\metrics\\_regression.py:582: UndefinedMetricWarning: R^2 score is not well-defined with less than two samples.\n",
      "  warnings.warn(msg, UndefinedMetricWarning)\n",
      "C:\\Users\\Shankeerthan\\Anaconda3\\envs\\learn-ml\\lib\\site-packages\\sklearn\\metrics\\_regression.py:582: UndefinedMetricWarning: R^2 score is not well-defined with less than two samples.\n",
      "  warnings.warn(msg, UndefinedMetricWarning)\n",
      "C:\\Users\\Shankeerthan\\Anaconda3\\envs\\learn-ml\\lib\\site-packages\\sklearn\\metrics\\_regression.py:582: UndefinedMetricWarning: R^2 score is not well-defined with less than two samples.\n",
      "  warnings.warn(msg, UndefinedMetricWarning)\n",
      "C:\\Users\\Shankeerthan\\Anaconda3\\envs\\learn-ml\\lib\\site-packages\\sklearn\\metrics\\_regression.py:582: UndefinedMetricWarning: R^2 score is not well-defined with less than two samples.\n",
      "  warnings.warn(msg, UndefinedMetricWarning)\n",
      "C:\\Users\\Shankeerthan\\Anaconda3\\envs\\learn-ml\\lib\\site-packages\\sklearn\\metrics\\_regression.py:582: UndefinedMetricWarning: R^2 score is not well-defined with less than two samples.\n",
      "  warnings.warn(msg, UndefinedMetricWarning)\n",
      "C:\\Users\\Shankeerthan\\Anaconda3\\envs\\learn-ml\\lib\\site-packages\\sklearn\\metrics\\_regression.py:582: UndefinedMetricWarning: R^2 score is not well-defined with less than two samples.\n",
      "  warnings.warn(msg, UndefinedMetricWarning)\n",
      "C:\\Users\\Shankeerthan\\Anaconda3\\envs\\learn-ml\\lib\\site-packages\\sklearn\\metrics\\_regression.py:582: UndefinedMetricWarning: R^2 score is not well-defined with less than two samples.\n",
      "  warnings.warn(msg, UndefinedMetricWarning)\n",
      "C:\\Users\\Shankeerthan\\Anaconda3\\envs\\learn-ml\\lib\\site-packages\\sklearn\\metrics\\_regression.py:582: UndefinedMetricWarning: R^2 score is not well-defined with less than two samples.\n",
      "  warnings.warn(msg, UndefinedMetricWarning)\n",
      "C:\\Users\\Shankeerthan\\Anaconda3\\envs\\learn-ml\\lib\\site-packages\\sklearn\\metrics\\_regression.py:582: UndefinedMetricWarning: R^2 score is not well-defined with less than two samples.\n",
      "  warnings.warn(msg, UndefinedMetricWarning)\n",
      "C:\\Users\\Shankeerthan\\Anaconda3\\envs\\learn-ml\\lib\\site-packages\\sklearn\\metrics\\_regression.py:582: UndefinedMetricWarning: R^2 score is not well-defined with less than two samples.\n",
      "  warnings.warn(msg, UndefinedMetricWarning)\n",
      "C:\\Users\\Shankeerthan\\Anaconda3\\envs\\learn-ml\\lib\\site-packages\\sklearn\\metrics\\_regression.py:582: UndefinedMetricWarning: R^2 score is not well-defined with less than two samples.\n",
      "  warnings.warn(msg, UndefinedMetricWarning)\n",
      "C:\\Users\\Shankeerthan\\Anaconda3\\envs\\learn-ml\\lib\\site-packages\\sklearn\\metrics\\_regression.py:582: UndefinedMetricWarning: R^2 score is not well-defined with less than two samples.\n",
      "  warnings.warn(msg, UndefinedMetricWarning)\n",
      "C:\\Users\\Shankeerthan\\Anaconda3\\envs\\learn-ml\\lib\\site-packages\\sklearn\\metrics\\_regression.py:582: UndefinedMetricWarning: R^2 score is not well-defined with less than two samples.\n",
      "  warnings.warn(msg, UndefinedMetricWarning)\n",
      "C:\\Users\\Shankeerthan\\Anaconda3\\envs\\learn-ml\\lib\\site-packages\\sklearn\\metrics\\_regression.py:582: UndefinedMetricWarning: R^2 score is not well-defined with less than two samples.\n",
      "  warnings.warn(msg, UndefinedMetricWarning)\n",
      "C:\\Users\\Shankeerthan\\Anaconda3\\envs\\learn-ml\\lib\\site-packages\\sklearn\\metrics\\_regression.py:582: UndefinedMetricWarning: R^2 score is not well-defined with less than two samples.\n",
      "  warnings.warn(msg, UndefinedMetricWarning)\n",
      "C:\\Users\\Shankeerthan\\Anaconda3\\envs\\learn-ml\\lib\\site-packages\\sklearn\\metrics\\_regression.py:582: UndefinedMetricWarning: R^2 score is not well-defined with less than two samples.\n",
      "  warnings.warn(msg, UndefinedMetricWarning)\n",
      "C:\\Users\\Shankeerthan\\Anaconda3\\envs\\learn-ml\\lib\\site-packages\\sklearn\\metrics\\_regression.py:582: UndefinedMetricWarning: R^2 score is not well-defined with less than two samples.\n",
      "  warnings.warn(msg, UndefinedMetricWarning)\n",
      "C:\\Users\\Shankeerthan\\Anaconda3\\envs\\learn-ml\\lib\\site-packages\\sklearn\\metrics\\_regression.py:582: UndefinedMetricWarning: R^2 score is not well-defined with less than two samples.\n",
      "  warnings.warn(msg, UndefinedMetricWarning)\n",
      "C:\\Users\\Shankeerthan\\Anaconda3\\envs\\learn-ml\\lib\\site-packages\\sklearn\\metrics\\_regression.py:582: UndefinedMetricWarning: R^2 score is not well-defined with less than two samples.\n",
      "  warnings.warn(msg, UndefinedMetricWarning)\n",
      "C:\\Users\\Shankeerthan\\Anaconda3\\envs\\learn-ml\\lib\\site-packages\\sklearn\\metrics\\_regression.py:582: UndefinedMetricWarning: R^2 score is not well-defined with less than two samples.\n",
      "  warnings.warn(msg, UndefinedMetricWarning)\n",
      "C:\\Users\\Shankeerthan\\Anaconda3\\envs\\learn-ml\\lib\\site-packages\\sklearn\\metrics\\_regression.py:582: UndefinedMetricWarning: R^2 score is not well-defined with less than two samples.\n",
      "  warnings.warn(msg, UndefinedMetricWarning)\n",
      "C:\\Users\\Shankeerthan\\Anaconda3\\envs\\learn-ml\\lib\\site-packages\\sklearn\\metrics\\_regression.py:582: UndefinedMetricWarning: R^2 score is not well-defined with less than two samples.\n",
      "  warnings.warn(msg, UndefinedMetricWarning)\n",
      "C:\\Users\\Shankeerthan\\Anaconda3\\envs\\learn-ml\\lib\\site-packages\\sklearn\\metrics\\_regression.py:582: UndefinedMetricWarning: R^2 score is not well-defined with less than two samples.\n",
      "  warnings.warn(msg, UndefinedMetricWarning)\n",
      "C:\\Users\\Shankeerthan\\Anaconda3\\envs\\learn-ml\\lib\\site-packages\\sklearn\\metrics\\_regression.py:582: UndefinedMetricWarning: R^2 score is not well-defined with less than two samples.\n",
      "  warnings.warn(msg, UndefinedMetricWarning)\n",
      "C:\\Users\\Shankeerthan\\Anaconda3\\envs\\learn-ml\\lib\\site-packages\\sklearn\\metrics\\_regression.py:582: UndefinedMetricWarning: R^2 score is not well-defined with less than two samples.\n",
      "  warnings.warn(msg, UndefinedMetricWarning)\n",
      "C:\\Users\\Shankeerthan\\Anaconda3\\envs\\learn-ml\\lib\\site-packages\\sklearn\\metrics\\_regression.py:582: UndefinedMetricWarning: R^2 score is not well-defined with less than two samples.\n",
      "  warnings.warn(msg, UndefinedMetricWarning)\n",
      "C:\\Users\\Shankeerthan\\Anaconda3\\envs\\learn-ml\\lib\\site-packages\\sklearn\\metrics\\_regression.py:582: UndefinedMetricWarning: R^2 score is not well-defined with less than two samples.\n",
      "  warnings.warn(msg, UndefinedMetricWarning)\n",
      "C:\\Users\\Shankeerthan\\Anaconda3\\envs\\learn-ml\\lib\\site-packages\\sklearn\\metrics\\_regression.py:582: UndefinedMetricWarning: R^2 score is not well-defined with less than two samples.\n",
      "  warnings.warn(msg, UndefinedMetricWarning)\n",
      "C:\\Users\\Shankeerthan\\Anaconda3\\envs\\learn-ml\\lib\\site-packages\\sklearn\\metrics\\_regression.py:582: UndefinedMetricWarning: R^2 score is not well-defined with less than two samples.\n",
      "  warnings.warn(msg, UndefinedMetricWarning)\n",
      "C:\\Users\\Shankeerthan\\Anaconda3\\envs\\learn-ml\\lib\\site-packages\\sklearn\\metrics\\_regression.py:582: UndefinedMetricWarning: R^2 score is not well-defined with less than two samples.\n",
      "  warnings.warn(msg, UndefinedMetricWarning)\n",
      "C:\\Users\\Shankeerthan\\Anaconda3\\envs\\learn-ml\\lib\\site-packages\\sklearn\\metrics\\_regression.py:582: UndefinedMetricWarning: R^2 score is not well-defined with less than two samples.\n",
      "  warnings.warn(msg, UndefinedMetricWarning)\n",
      "C:\\Users\\Shankeerthan\\Anaconda3\\envs\\learn-ml\\lib\\site-packages\\sklearn\\metrics\\_regression.py:582: UndefinedMetricWarning: R^2 score is not well-defined with less than two samples.\n",
      "  warnings.warn(msg, UndefinedMetricWarning)\n",
      "C:\\Users\\Shankeerthan\\Anaconda3\\envs\\learn-ml\\lib\\site-packages\\sklearn\\metrics\\_regression.py:582: UndefinedMetricWarning: R^2 score is not well-defined with less than two samples.\n",
      "  warnings.warn(msg, UndefinedMetricWarning)\n",
      "C:\\Users\\Shankeerthan\\Anaconda3\\envs\\learn-ml\\lib\\site-packages\\sklearn\\metrics\\_regression.py:582: UndefinedMetricWarning: R^2 score is not well-defined with less than two samples.\n",
      "  warnings.warn(msg, UndefinedMetricWarning)\n",
      "C:\\Users\\Shankeerthan\\Anaconda3\\envs\\learn-ml\\lib\\site-packages\\sklearn\\metrics\\_regression.py:582: UndefinedMetricWarning: R^2 score is not well-defined with less than two samples.\n",
      "  warnings.warn(msg, UndefinedMetricWarning)\n",
      "C:\\Users\\Shankeerthan\\Anaconda3\\envs\\learn-ml\\lib\\site-packages\\sklearn\\metrics\\_regression.py:582: UndefinedMetricWarning: R^2 score is not well-defined with less than two samples.\n",
      "  warnings.warn(msg, UndefinedMetricWarning)\n",
      "C:\\Users\\Shankeerthan\\Anaconda3\\envs\\learn-ml\\lib\\site-packages\\sklearn\\metrics\\_regression.py:582: UndefinedMetricWarning: R^2 score is not well-defined with less than two samples.\n",
      "  warnings.warn(msg, UndefinedMetricWarning)\n",
      "C:\\Users\\Shankeerthan\\Anaconda3\\envs\\learn-ml\\lib\\site-packages\\sklearn\\metrics\\_regression.py:582: UndefinedMetricWarning: R^2 score is not well-defined with less than two samples.\n",
      "  warnings.warn(msg, UndefinedMetricWarning)\n",
      "C:\\Users\\Shankeerthan\\Anaconda3\\envs\\learn-ml\\lib\\site-packages\\sklearn\\metrics\\_regression.py:582: UndefinedMetricWarning: R^2 score is not well-defined with less than two samples.\n",
      "  warnings.warn(msg, UndefinedMetricWarning)\n",
      "C:\\Users\\Shankeerthan\\Anaconda3\\envs\\learn-ml\\lib\\site-packages\\sklearn\\metrics\\_regression.py:582: UndefinedMetricWarning: R^2 score is not well-defined with less than two samples.\n",
      "  warnings.warn(msg, UndefinedMetricWarning)\n",
      "C:\\Users\\Shankeerthan\\Anaconda3\\envs\\learn-ml\\lib\\site-packages\\sklearn\\metrics\\_regression.py:582: UndefinedMetricWarning: R^2 score is not well-defined with less than two samples.\n",
      "  warnings.warn(msg, UndefinedMetricWarning)\n",
      "C:\\Users\\Shankeerthan\\Anaconda3\\envs\\learn-ml\\lib\\site-packages\\sklearn\\metrics\\_regression.py:582: UndefinedMetricWarning: R^2 score is not well-defined with less than two samples.\n",
      "  warnings.warn(msg, UndefinedMetricWarning)\n",
      "C:\\Users\\Shankeerthan\\Anaconda3\\envs\\learn-ml\\lib\\site-packages\\sklearn\\metrics\\_regression.py:582: UndefinedMetricWarning: R^2 score is not well-defined with less than two samples.\n",
      "  warnings.warn(msg, UndefinedMetricWarning)\n",
      "C:\\Users\\Shankeerthan\\Anaconda3\\envs\\learn-ml\\lib\\site-packages\\sklearn\\metrics\\_regression.py:582: UndefinedMetricWarning: R^2 score is not well-defined with less than two samples.\n",
      "  warnings.warn(msg, UndefinedMetricWarning)\n",
      "C:\\Users\\Shankeerthan\\Anaconda3\\envs\\learn-ml\\lib\\site-packages\\sklearn\\metrics\\_regression.py:582: UndefinedMetricWarning: R^2 score is not well-defined with less than two samples.\n",
      "  warnings.warn(msg, UndefinedMetricWarning)\n",
      "C:\\Users\\Shankeerthan\\Anaconda3\\envs\\learn-ml\\lib\\site-packages\\sklearn\\metrics\\_regression.py:582: UndefinedMetricWarning: R^2 score is not well-defined with less than two samples.\n",
      "  warnings.warn(msg, UndefinedMetricWarning)\n",
      "C:\\Users\\Shankeerthan\\Anaconda3\\envs\\learn-ml\\lib\\site-packages\\sklearn\\metrics\\_regression.py:582: UndefinedMetricWarning: R^2 score is not well-defined with less than two samples.\n",
      "  warnings.warn(msg, UndefinedMetricWarning)\n",
      "C:\\Users\\Shankeerthan\\Anaconda3\\envs\\learn-ml\\lib\\site-packages\\sklearn\\metrics\\_regression.py:582: UndefinedMetricWarning: R^2 score is not well-defined with less than two samples.\n",
      "  warnings.warn(msg, UndefinedMetricWarning)\n",
      "C:\\Users\\Shankeerthan\\Anaconda3\\envs\\learn-ml\\lib\\site-packages\\sklearn\\metrics\\_regression.py:582: UndefinedMetricWarning: R^2 score is not well-defined with less than two samples.\n",
      "  warnings.warn(msg, UndefinedMetricWarning)\n",
      "C:\\Users\\Shankeerthan\\Anaconda3\\envs\\learn-ml\\lib\\site-packages\\sklearn\\metrics\\_regression.py:582: UndefinedMetricWarning: R^2 score is not well-defined with less than two samples.\n",
      "  warnings.warn(msg, UndefinedMetricWarning)\n",
      "C:\\Users\\Shankeerthan\\Anaconda3\\envs\\learn-ml\\lib\\site-packages\\sklearn\\metrics\\_regression.py:582: UndefinedMetricWarning: R^2 score is not well-defined with less than two samples.\n",
      "  warnings.warn(msg, UndefinedMetricWarning)\n",
      "C:\\Users\\Shankeerthan\\Anaconda3\\envs\\learn-ml\\lib\\site-packages\\sklearn\\metrics\\_regression.py:582: UndefinedMetricWarning: R^2 score is not well-defined with less than two samples.\n",
      "  warnings.warn(msg, UndefinedMetricWarning)\n",
      "C:\\Users\\Shankeerthan\\Anaconda3\\envs\\learn-ml\\lib\\site-packages\\sklearn\\metrics\\_regression.py:582: UndefinedMetricWarning: R^2 score is not well-defined with less than two samples.\n",
      "  warnings.warn(msg, UndefinedMetricWarning)\n",
      "C:\\Users\\Shankeerthan\\Anaconda3\\envs\\learn-ml\\lib\\site-packages\\sklearn\\metrics\\_regression.py:582: UndefinedMetricWarning: R^2 score is not well-defined with less than two samples.\n",
      "  warnings.warn(msg, UndefinedMetricWarning)\n",
      "C:\\Users\\Shankeerthan\\Anaconda3\\envs\\learn-ml\\lib\\site-packages\\sklearn\\metrics\\_regression.py:582: UndefinedMetricWarning: R^2 score is not well-defined with less than two samples.\n",
      "  warnings.warn(msg, UndefinedMetricWarning)\n",
      "C:\\Users\\Shankeerthan\\Anaconda3\\envs\\learn-ml\\lib\\site-packages\\sklearn\\metrics\\_regression.py:582: UndefinedMetricWarning: R^2 score is not well-defined with less than two samples.\n",
      "  warnings.warn(msg, UndefinedMetricWarning)\n",
      "C:\\Users\\Shankeerthan\\Anaconda3\\envs\\learn-ml\\lib\\site-packages\\sklearn\\metrics\\_regression.py:582: UndefinedMetricWarning: R^2 score is not well-defined with less than two samples.\n",
      "  warnings.warn(msg, UndefinedMetricWarning)\n",
      "C:\\Users\\Shankeerthan\\Anaconda3\\envs\\learn-ml\\lib\\site-packages\\sklearn\\metrics\\_regression.py:582: UndefinedMetricWarning: R^2 score is not well-defined with less than two samples.\n",
      "  warnings.warn(msg, UndefinedMetricWarning)\n",
      "C:\\Users\\Shankeerthan\\Anaconda3\\envs\\learn-ml\\lib\\site-packages\\sklearn\\metrics\\_regression.py:582: UndefinedMetricWarning: R^2 score is not well-defined with less than two samples.\n",
      "  warnings.warn(msg, UndefinedMetricWarning)\n",
      "C:\\Users\\Shankeerthan\\Anaconda3\\envs\\learn-ml\\lib\\site-packages\\sklearn\\metrics\\_regression.py:582: UndefinedMetricWarning: R^2 score is not well-defined with less than two samples.\n",
      "  warnings.warn(msg, UndefinedMetricWarning)\n",
      "C:\\Users\\Shankeerthan\\Anaconda3\\envs\\learn-ml\\lib\\site-packages\\sklearn\\metrics\\_regression.py:582: UndefinedMetricWarning: R^2 score is not well-defined with less than two samples.\n",
      "  warnings.warn(msg, UndefinedMetricWarning)\n",
      "C:\\Users\\Shankeerthan\\Anaconda3\\envs\\learn-ml\\lib\\site-packages\\sklearn\\metrics\\_regression.py:582: UndefinedMetricWarning: R^2 score is not well-defined with less than two samples.\n",
      "  warnings.warn(msg, UndefinedMetricWarning)\n",
      "C:\\Users\\Shankeerthan\\Anaconda3\\envs\\learn-ml\\lib\\site-packages\\sklearn\\metrics\\_regression.py:582: UndefinedMetricWarning: R^2 score is not well-defined with less than two samples.\n",
      "  warnings.warn(msg, UndefinedMetricWarning)\n",
      "C:\\Users\\Shankeerthan\\Anaconda3\\envs\\learn-ml\\lib\\site-packages\\sklearn\\metrics\\_regression.py:582: UndefinedMetricWarning: R^2 score is not well-defined with less than two samples.\n",
      "  warnings.warn(msg, UndefinedMetricWarning)\n",
      "C:\\Users\\Shankeerthan\\Anaconda3\\envs\\learn-ml\\lib\\site-packages\\sklearn\\metrics\\_regression.py:582: UndefinedMetricWarning: R^2 score is not well-defined with less than two samples.\n",
      "  warnings.warn(msg, UndefinedMetricWarning)\n",
      "C:\\Users\\Shankeerthan\\Anaconda3\\envs\\learn-ml\\lib\\site-packages\\sklearn\\metrics\\_regression.py:582: UndefinedMetricWarning: R^2 score is not well-defined with less than two samples.\n",
      "  warnings.warn(msg, UndefinedMetricWarning)\n",
      "C:\\Users\\Shankeerthan\\Anaconda3\\envs\\learn-ml\\lib\\site-packages\\sklearn\\metrics\\_regression.py:582: UndefinedMetricWarning: R^2 score is not well-defined with less than two samples.\n",
      "  warnings.warn(msg, UndefinedMetricWarning)\n",
      "C:\\Users\\Shankeerthan\\Anaconda3\\envs\\learn-ml\\lib\\site-packages\\sklearn\\metrics\\_regression.py:582: UndefinedMetricWarning: R^2 score is not well-defined with less than two samples.\n",
      "  warnings.warn(msg, UndefinedMetricWarning)\n",
      "C:\\Users\\Shankeerthan\\Anaconda3\\envs\\learn-ml\\lib\\site-packages\\sklearn\\metrics\\_regression.py:582: UndefinedMetricWarning: R^2 score is not well-defined with less than two samples.\n",
      "  warnings.warn(msg, UndefinedMetricWarning)\n",
      "C:\\Users\\Shankeerthan\\Anaconda3\\envs\\learn-ml\\lib\\site-packages\\sklearn\\metrics\\_regression.py:582: UndefinedMetricWarning: R^2 score is not well-defined with less than two samples.\n",
      "  warnings.warn(msg, UndefinedMetricWarning)\n",
      "C:\\Users\\Shankeerthan\\Anaconda3\\envs\\learn-ml\\lib\\site-packages\\sklearn\\metrics\\_regression.py:582: UndefinedMetricWarning: R^2 score is not well-defined with less than two samples.\n",
      "  warnings.warn(msg, UndefinedMetricWarning)\n",
      "C:\\Users\\Shankeerthan\\Anaconda3\\envs\\learn-ml\\lib\\site-packages\\sklearn\\metrics\\_regression.py:582: UndefinedMetricWarning: R^2 score is not well-defined with less than two samples.\n",
      "  warnings.warn(msg, UndefinedMetricWarning)\n",
      "C:\\Users\\Shankeerthan\\Anaconda3\\envs\\learn-ml\\lib\\site-packages\\sklearn\\metrics\\_regression.py:582: UndefinedMetricWarning: R^2 score is not well-defined with less than two samples.\n",
      "  warnings.warn(msg, UndefinedMetricWarning)\n",
      "C:\\Users\\Shankeerthan\\Anaconda3\\envs\\learn-ml\\lib\\site-packages\\sklearn\\metrics\\_regression.py:582: UndefinedMetricWarning: R^2 score is not well-defined with less than two samples.\n",
      "  warnings.warn(msg, UndefinedMetricWarning)\n",
      "C:\\Users\\Shankeerthan\\Anaconda3\\envs\\learn-ml\\lib\\site-packages\\sklearn\\metrics\\_regression.py:582: UndefinedMetricWarning: R^2 score is not well-defined with less than two samples.\n",
      "  warnings.warn(msg, UndefinedMetricWarning)\n",
      "C:\\Users\\Shankeerthan\\Anaconda3\\envs\\learn-ml\\lib\\site-packages\\sklearn\\metrics\\_regression.py:582: UndefinedMetricWarning: R^2 score is not well-defined with less than two samples.\n",
      "  warnings.warn(msg, UndefinedMetricWarning)\n",
      "C:\\Users\\Shankeerthan\\Anaconda3\\envs\\learn-ml\\lib\\site-packages\\sklearn\\metrics\\_regression.py:582: UndefinedMetricWarning: R^2 score is not well-defined with less than two samples.\n",
      "  warnings.warn(msg, UndefinedMetricWarning)\n",
      "C:\\Users\\Shankeerthan\\Anaconda3\\envs\\learn-ml\\lib\\site-packages\\sklearn\\metrics\\_regression.py:582: UndefinedMetricWarning: R^2 score is not well-defined with less than two samples.\n",
      "  warnings.warn(msg, UndefinedMetricWarning)\n",
      "C:\\Users\\Shankeerthan\\Anaconda3\\envs\\learn-ml\\lib\\site-packages\\sklearn\\metrics\\_regression.py:582: UndefinedMetricWarning: R^2 score is not well-defined with less than two samples.\n",
      "  warnings.warn(msg, UndefinedMetricWarning)\n",
      "C:\\Users\\Shankeerthan\\Anaconda3\\envs\\learn-ml\\lib\\site-packages\\sklearn\\metrics\\_regression.py:582: UndefinedMetricWarning: R^2 score is not well-defined with less than two samples.\n",
      "  warnings.warn(msg, UndefinedMetricWarning)\n",
      "C:\\Users\\Shankeerthan\\Anaconda3\\envs\\learn-ml\\lib\\site-packages\\sklearn\\metrics\\_regression.py:582: UndefinedMetricWarning: R^2 score is not well-defined with less than two samples.\n",
      "  warnings.warn(msg, UndefinedMetricWarning)\n",
      "C:\\Users\\Shankeerthan\\Anaconda3\\envs\\learn-ml\\lib\\site-packages\\sklearn\\metrics\\_regression.py:582: UndefinedMetricWarning: R^2 score is not well-defined with less than two samples.\n",
      "  warnings.warn(msg, UndefinedMetricWarning)\n",
      "C:\\Users\\Shankeerthan\\Anaconda3\\envs\\learn-ml\\lib\\site-packages\\sklearn\\metrics\\_regression.py:582: UndefinedMetricWarning: R^2 score is not well-defined with less than two samples.\n",
      "  warnings.warn(msg, UndefinedMetricWarning)\n",
      "C:\\Users\\Shankeerthan\\Anaconda3\\envs\\learn-ml\\lib\\site-packages\\sklearn\\metrics\\_regression.py:582: UndefinedMetricWarning: R^2 score is not well-defined with less than two samples.\n",
      "  warnings.warn(msg, UndefinedMetricWarning)\n",
      "C:\\Users\\Shankeerthan\\Anaconda3\\envs\\learn-ml\\lib\\site-packages\\sklearn\\metrics\\_regression.py:582: UndefinedMetricWarning: R^2 score is not well-defined with less than two samples.\n",
      "  warnings.warn(msg, UndefinedMetricWarning)\n",
      "C:\\Users\\Shankeerthan\\Anaconda3\\envs\\learn-ml\\lib\\site-packages\\sklearn\\metrics\\_regression.py:582: UndefinedMetricWarning: R^2 score is not well-defined with less than two samples.\n",
      "  warnings.warn(msg, UndefinedMetricWarning)\n",
      "C:\\Users\\Shankeerthan\\Anaconda3\\envs\\learn-ml\\lib\\site-packages\\sklearn\\metrics\\_regression.py:582: UndefinedMetricWarning: R^2 score is not well-defined with less than two samples.\n",
      "  warnings.warn(msg, UndefinedMetricWarning)\n",
      "C:\\Users\\Shankeerthan\\Anaconda3\\envs\\learn-ml\\lib\\site-packages\\sklearn\\metrics\\_regression.py:582: UndefinedMetricWarning: R^2 score is not well-defined with less than two samples.\n",
      "  warnings.warn(msg, UndefinedMetricWarning)\n",
      "C:\\Users\\Shankeerthan\\Anaconda3\\envs\\learn-ml\\lib\\site-packages\\sklearn\\metrics\\_regression.py:582: UndefinedMetricWarning: R^2 score is not well-defined with less than two samples.\n",
      "  warnings.warn(msg, UndefinedMetricWarning)\n",
      "C:\\Users\\Shankeerthan\\Anaconda3\\envs\\learn-ml\\lib\\site-packages\\sklearn\\metrics\\_regression.py:582: UndefinedMetricWarning: R^2 score is not well-defined with less than two samples.\n",
      "  warnings.warn(msg, UndefinedMetricWarning)\n",
      "C:\\Users\\Shankeerthan\\Anaconda3\\envs\\learn-ml\\lib\\site-packages\\sklearn\\metrics\\_regression.py:582: UndefinedMetricWarning: R^2 score is not well-defined with less than two samples.\n",
      "  warnings.warn(msg, UndefinedMetricWarning)\n",
      "C:\\Users\\Shankeerthan\\Anaconda3\\envs\\learn-ml\\lib\\site-packages\\sklearn\\metrics\\_regression.py:582: UndefinedMetricWarning: R^2 score is not well-defined with less than two samples.\n",
      "  warnings.warn(msg, UndefinedMetricWarning)\n",
      "C:\\Users\\Shankeerthan\\Anaconda3\\envs\\learn-ml\\lib\\site-packages\\sklearn\\metrics\\_regression.py:582: UndefinedMetricWarning: R^2 score is not well-defined with less than two samples.\n",
      "  warnings.warn(msg, UndefinedMetricWarning)\n",
      "C:\\Users\\Shankeerthan\\Anaconda3\\envs\\learn-ml\\lib\\site-packages\\sklearn\\metrics\\_regression.py:582: UndefinedMetricWarning: R^2 score is not well-defined with less than two samples.\n",
      "  warnings.warn(msg, UndefinedMetricWarning)\n",
      "C:\\Users\\Shankeerthan\\Anaconda3\\envs\\learn-ml\\lib\\site-packages\\sklearn\\metrics\\_regression.py:582: UndefinedMetricWarning: R^2 score is not well-defined with less than two samples.\n",
      "  warnings.warn(msg, UndefinedMetricWarning)\n",
      "C:\\Users\\Shankeerthan\\Anaconda3\\envs\\learn-ml\\lib\\site-packages\\sklearn\\metrics\\_regression.py:582: UndefinedMetricWarning: R^2 score is not well-defined with less than two samples.\n",
      "  warnings.warn(msg, UndefinedMetricWarning)\n",
      "C:\\Users\\Shankeerthan\\Anaconda3\\envs\\learn-ml\\lib\\site-packages\\sklearn\\metrics\\_regression.py:582: UndefinedMetricWarning: R^2 score is not well-defined with less than two samples.\n",
      "  warnings.warn(msg, UndefinedMetricWarning)\n",
      "C:\\Users\\Shankeerthan\\Anaconda3\\envs\\learn-ml\\lib\\site-packages\\sklearn\\metrics\\_regression.py:582: UndefinedMetricWarning: R^2 score is not well-defined with less than two samples.\n",
      "  warnings.warn(msg, UndefinedMetricWarning)\n",
      "C:\\Users\\Shankeerthan\\Anaconda3\\envs\\learn-ml\\lib\\site-packages\\sklearn\\metrics\\_regression.py:582: UndefinedMetricWarning: R^2 score is not well-defined with less than two samples.\n",
      "  warnings.warn(msg, UndefinedMetricWarning)\n",
      "C:\\Users\\Shankeerthan\\Anaconda3\\envs\\learn-ml\\lib\\site-packages\\sklearn\\metrics\\_regression.py:582: UndefinedMetricWarning: R^2 score is not well-defined with less than two samples.\n",
      "  warnings.warn(msg, UndefinedMetricWarning)\n",
      "C:\\Users\\Shankeerthan\\Anaconda3\\envs\\learn-ml\\lib\\site-packages\\sklearn\\metrics\\_regression.py:582: UndefinedMetricWarning: R^2 score is not well-defined with less than two samples.\n",
      "  warnings.warn(msg, UndefinedMetricWarning)\n",
      "C:\\Users\\Shankeerthan\\Anaconda3\\envs\\learn-ml\\lib\\site-packages\\sklearn\\metrics\\_regression.py:582: UndefinedMetricWarning: R^2 score is not well-defined with less than two samples.\n",
      "  warnings.warn(msg, UndefinedMetricWarning)\n",
      "C:\\Users\\Shankeerthan\\Anaconda3\\envs\\learn-ml\\lib\\site-packages\\sklearn\\metrics\\_regression.py:582: UndefinedMetricWarning: R^2 score is not well-defined with less than two samples.\n",
      "  warnings.warn(msg, UndefinedMetricWarning)\n",
      "C:\\Users\\Shankeerthan\\Anaconda3\\envs\\learn-ml\\lib\\site-packages\\sklearn\\metrics\\_regression.py:582: UndefinedMetricWarning: R^2 score is not well-defined with less than two samples.\n",
      "  warnings.warn(msg, UndefinedMetricWarning)\n",
      "C:\\Users\\Shankeerthan\\Anaconda3\\envs\\learn-ml\\lib\\site-packages\\sklearn\\metrics\\_regression.py:582: UndefinedMetricWarning: R^2 score is not well-defined with less than two samples.\n",
      "  warnings.warn(msg, UndefinedMetricWarning)\n",
      "C:\\Users\\Shankeerthan\\Anaconda3\\envs\\learn-ml\\lib\\site-packages\\sklearn\\metrics\\_regression.py:582: UndefinedMetricWarning: R^2 score is not well-defined with less than two samples.\n",
      "  warnings.warn(msg, UndefinedMetricWarning)\n",
      "C:\\Users\\Shankeerthan\\Anaconda3\\envs\\learn-ml\\lib\\site-packages\\sklearn\\metrics\\_regression.py:582: UndefinedMetricWarning: R^2 score is not well-defined with less than two samples.\n",
      "  warnings.warn(msg, UndefinedMetricWarning)\n",
      "C:\\Users\\Shankeerthan\\Anaconda3\\envs\\learn-ml\\lib\\site-packages\\sklearn\\metrics\\_regression.py:582: UndefinedMetricWarning: R^2 score is not well-defined with less than two samples.\n",
      "  warnings.warn(msg, UndefinedMetricWarning)\n",
      "C:\\Users\\Shankeerthan\\Anaconda3\\envs\\learn-ml\\lib\\site-packages\\sklearn\\metrics\\_regression.py:582: UndefinedMetricWarning: R^2 score is not well-defined with less than two samples.\n",
      "  warnings.warn(msg, UndefinedMetricWarning)\n",
      "C:\\Users\\Shankeerthan\\Anaconda3\\envs\\learn-ml\\lib\\site-packages\\sklearn\\metrics\\_regression.py:582: UndefinedMetricWarning: R^2 score is not well-defined with less than two samples.\n",
      "  warnings.warn(msg, UndefinedMetricWarning)\n",
      "C:\\Users\\Shankeerthan\\Anaconda3\\envs\\learn-ml\\lib\\site-packages\\sklearn\\metrics\\_regression.py:582: UndefinedMetricWarning: R^2 score is not well-defined with less than two samples.\n",
      "  warnings.warn(msg, UndefinedMetricWarning)\n",
      "C:\\Users\\Shankeerthan\\Anaconda3\\envs\\learn-ml\\lib\\site-packages\\sklearn\\metrics\\_regression.py:582: UndefinedMetricWarning: R^2 score is not well-defined with less than two samples.\n",
      "  warnings.warn(msg, UndefinedMetricWarning)\n",
      "C:\\Users\\Shankeerthan\\Anaconda3\\envs\\learn-ml\\lib\\site-packages\\sklearn\\metrics\\_regression.py:582: UndefinedMetricWarning: R^2 score is not well-defined with less than two samples.\n",
      "  warnings.warn(msg, UndefinedMetricWarning)\n",
      "C:\\Users\\Shankeerthan\\Anaconda3\\envs\\learn-ml\\lib\\site-packages\\sklearn\\metrics\\_regression.py:582: UndefinedMetricWarning: R^2 score is not well-defined with less than two samples.\n",
      "  warnings.warn(msg, UndefinedMetricWarning)\n",
      "C:\\Users\\Shankeerthan\\Anaconda3\\envs\\learn-ml\\lib\\site-packages\\sklearn\\metrics\\_regression.py:582: UndefinedMetricWarning: R^2 score is not well-defined with less than two samples.\n",
      "  warnings.warn(msg, UndefinedMetricWarning)\n",
      "C:\\Users\\Shankeerthan\\Anaconda3\\envs\\learn-ml\\lib\\site-packages\\sklearn\\metrics\\_regression.py:582: UndefinedMetricWarning: R^2 score is not well-defined with less than two samples.\n",
      "  warnings.warn(msg, UndefinedMetricWarning)\n",
      "C:\\Users\\Shankeerthan\\Anaconda3\\envs\\learn-ml\\lib\\site-packages\\sklearn\\metrics\\_regression.py:582: UndefinedMetricWarning: R^2 score is not well-defined with less than two samples.\n",
      "  warnings.warn(msg, UndefinedMetricWarning)\n",
      "C:\\Users\\Shankeerthan\\Anaconda3\\envs\\learn-ml\\lib\\site-packages\\sklearn\\metrics\\_regression.py:582: UndefinedMetricWarning: R^2 score is not well-defined with less than two samples.\n",
      "  warnings.warn(msg, UndefinedMetricWarning)\n",
      "C:\\Users\\Shankeerthan\\Anaconda3\\envs\\learn-ml\\lib\\site-packages\\sklearn\\metrics\\_regression.py:582: UndefinedMetricWarning: R^2 score is not well-defined with less than two samples.\n",
      "  warnings.warn(msg, UndefinedMetricWarning)\n",
      "C:\\Users\\Shankeerthan\\Anaconda3\\envs\\learn-ml\\lib\\site-packages\\sklearn\\metrics\\_regression.py:582: UndefinedMetricWarning: R^2 score is not well-defined with less than two samples.\n",
      "  warnings.warn(msg, UndefinedMetricWarning)\n",
      "C:\\Users\\Shankeerthan\\Anaconda3\\envs\\learn-ml\\lib\\site-packages\\sklearn\\metrics\\_regression.py:582: UndefinedMetricWarning: R^2 score is not well-defined with less than two samples.\n",
      "  warnings.warn(msg, UndefinedMetricWarning)\n",
      "C:\\Users\\Shankeerthan\\Anaconda3\\envs\\learn-ml\\lib\\site-packages\\sklearn\\metrics\\_regression.py:582: UndefinedMetricWarning: R^2 score is not well-defined with less than two samples.\n",
      "  warnings.warn(msg, UndefinedMetricWarning)\n",
      "C:\\Users\\Shankeerthan\\Anaconda3\\envs\\learn-ml\\lib\\site-packages\\sklearn\\metrics\\_regression.py:582: UndefinedMetricWarning: R^2 score is not well-defined with less than two samples.\n",
      "  warnings.warn(msg, UndefinedMetricWarning)\n",
      "C:\\Users\\Shankeerthan\\Anaconda3\\envs\\learn-ml\\lib\\site-packages\\sklearn\\metrics\\_regression.py:582: UndefinedMetricWarning: R^2 score is not well-defined with less than two samples.\n",
      "  warnings.warn(msg, UndefinedMetricWarning)\n",
      "C:\\Users\\Shankeerthan\\Anaconda3\\envs\\learn-ml\\lib\\site-packages\\sklearn\\metrics\\_regression.py:582: UndefinedMetricWarning: R^2 score is not well-defined with less than two samples.\n",
      "  warnings.warn(msg, UndefinedMetricWarning)\n",
      "C:\\Users\\Shankeerthan\\Anaconda3\\envs\\learn-ml\\lib\\site-packages\\sklearn\\metrics\\_regression.py:582: UndefinedMetricWarning: R^2 score is not well-defined with less than two samples.\n",
      "  warnings.warn(msg, UndefinedMetricWarning)\n",
      "C:\\Users\\Shankeerthan\\Anaconda3\\envs\\learn-ml\\lib\\site-packages\\sklearn\\metrics\\_regression.py:582: UndefinedMetricWarning: R^2 score is not well-defined with less than two samples.\n",
      "  warnings.warn(msg, UndefinedMetricWarning)\n",
      "C:\\Users\\Shankeerthan\\Anaconda3\\envs\\learn-ml\\lib\\site-packages\\sklearn\\metrics\\_regression.py:582: UndefinedMetricWarning: R^2 score is not well-defined with less than two samples.\n",
      "  warnings.warn(msg, UndefinedMetricWarning)\n",
      "C:\\Users\\Shankeerthan\\Anaconda3\\envs\\learn-ml\\lib\\site-packages\\sklearn\\metrics\\_regression.py:582: UndefinedMetricWarning: R^2 score is not well-defined with less than two samples.\n",
      "  warnings.warn(msg, UndefinedMetricWarning)\n",
      "C:\\Users\\Shankeerthan\\Anaconda3\\envs\\learn-ml\\lib\\site-packages\\sklearn\\metrics\\_regression.py:582: UndefinedMetricWarning: R^2 score is not well-defined with less than two samples.\n",
      "  warnings.warn(msg, UndefinedMetricWarning)\n",
      "C:\\Users\\Shankeerthan\\Anaconda3\\envs\\learn-ml\\lib\\site-packages\\sklearn\\metrics\\_regression.py:582: UndefinedMetricWarning: R^2 score is not well-defined with less than two samples.\n",
      "  warnings.warn(msg, UndefinedMetricWarning)\n",
      "C:\\Users\\Shankeerthan\\Anaconda3\\envs\\learn-ml\\lib\\site-packages\\sklearn\\metrics\\_regression.py:582: UndefinedMetricWarning: R^2 score is not well-defined with less than two samples.\n",
      "  warnings.warn(msg, UndefinedMetricWarning)\n",
      "C:\\Users\\Shankeerthan\\Anaconda3\\envs\\learn-ml\\lib\\site-packages\\sklearn\\metrics\\_regression.py:582: UndefinedMetricWarning: R^2 score is not well-defined with less than two samples.\n",
      "  warnings.warn(msg, UndefinedMetricWarning)\n",
      "C:\\Users\\Shankeerthan\\Anaconda3\\envs\\learn-ml\\lib\\site-packages\\sklearn\\metrics\\_regression.py:582: UndefinedMetricWarning: R^2 score is not well-defined with less than two samples.\n",
      "  warnings.warn(msg, UndefinedMetricWarning)\n",
      "C:\\Users\\Shankeerthan\\Anaconda3\\envs\\learn-ml\\lib\\site-packages\\sklearn\\metrics\\_regression.py:582: UndefinedMetricWarning: R^2 score is not well-defined with less than two samples.\n",
      "  warnings.warn(msg, UndefinedMetricWarning)\n",
      "C:\\Users\\Shankeerthan\\Anaconda3\\envs\\learn-ml\\lib\\site-packages\\sklearn\\metrics\\_regression.py:582: UndefinedMetricWarning: R^2 score is not well-defined with less than two samples.\n",
      "  warnings.warn(msg, UndefinedMetricWarning)\n",
      "C:\\Users\\Shankeerthan\\Anaconda3\\envs\\learn-ml\\lib\\site-packages\\sklearn\\metrics\\_regression.py:582: UndefinedMetricWarning: R^2 score is not well-defined with less than two samples.\n",
      "  warnings.warn(msg, UndefinedMetricWarning)\n",
      "C:\\Users\\Shankeerthan\\Anaconda3\\envs\\learn-ml\\lib\\site-packages\\sklearn\\metrics\\_regression.py:582: UndefinedMetricWarning: R^2 score is not well-defined with less than two samples.\n",
      "  warnings.warn(msg, UndefinedMetricWarning)\n",
      "C:\\Users\\Shankeerthan\\Anaconda3\\envs\\learn-ml\\lib\\site-packages\\sklearn\\metrics\\_regression.py:582: UndefinedMetricWarning: R^2 score is not well-defined with less than two samples.\n",
      "  warnings.warn(msg, UndefinedMetricWarning)\n",
      "C:\\Users\\Shankeerthan\\Anaconda3\\envs\\learn-ml\\lib\\site-packages\\sklearn\\metrics\\_regression.py:582: UndefinedMetricWarning: R^2 score is not well-defined with less than two samples.\n",
      "  warnings.warn(msg, UndefinedMetricWarning)\n",
      "C:\\Users\\Shankeerthan\\Anaconda3\\envs\\learn-ml\\lib\\site-packages\\sklearn\\metrics\\_regression.py:582: UndefinedMetricWarning: R^2 score is not well-defined with less than two samples.\n",
      "  warnings.warn(msg, UndefinedMetricWarning)\n",
      "C:\\Users\\Shankeerthan\\Anaconda3\\envs\\learn-ml\\lib\\site-packages\\sklearn\\metrics\\_regression.py:582: UndefinedMetricWarning: R^2 score is not well-defined with less than two samples.\n",
      "  warnings.warn(msg, UndefinedMetricWarning)\n",
      "C:\\Users\\Shankeerthan\\Anaconda3\\envs\\learn-ml\\lib\\site-packages\\sklearn\\metrics\\_regression.py:582: UndefinedMetricWarning: R^2 score is not well-defined with less than two samples.\n",
      "  warnings.warn(msg, UndefinedMetricWarning)\n",
      "C:\\Users\\Shankeerthan\\Anaconda3\\envs\\learn-ml\\lib\\site-packages\\sklearn\\metrics\\_regression.py:582: UndefinedMetricWarning: R^2 score is not well-defined with less than two samples.\n",
      "  warnings.warn(msg, UndefinedMetricWarning)\n",
      "C:\\Users\\Shankeerthan\\Anaconda3\\envs\\learn-ml\\lib\\site-packages\\sklearn\\metrics\\_regression.py:582: UndefinedMetricWarning: R^2 score is not well-defined with less than two samples.\n",
      "  warnings.warn(msg, UndefinedMetricWarning)\n",
      "C:\\Users\\Shankeerthan\\Anaconda3\\envs\\learn-ml\\lib\\site-packages\\sklearn\\metrics\\_regression.py:582: UndefinedMetricWarning: R^2 score is not well-defined with less than two samples.\n",
      "  warnings.warn(msg, UndefinedMetricWarning)\n",
      "C:\\Users\\Shankeerthan\\Anaconda3\\envs\\learn-ml\\lib\\site-packages\\sklearn\\metrics\\_regression.py:582: UndefinedMetricWarning: R^2 score is not well-defined with less than two samples.\n",
      "  warnings.warn(msg, UndefinedMetricWarning)\n",
      "C:\\Users\\Shankeerthan\\Anaconda3\\envs\\learn-ml\\lib\\site-packages\\sklearn\\metrics\\_regression.py:582: UndefinedMetricWarning: R^2 score is not well-defined with less than two samples.\n",
      "  warnings.warn(msg, UndefinedMetricWarning)\n",
      "C:\\Users\\Shankeerthan\\Anaconda3\\envs\\learn-ml\\lib\\site-packages\\sklearn\\metrics\\_regression.py:582: UndefinedMetricWarning: R^2 score is not well-defined with less than two samples.\n",
      "  warnings.warn(msg, UndefinedMetricWarning)\n",
      "C:\\Users\\Shankeerthan\\Anaconda3\\envs\\learn-ml\\lib\\site-packages\\sklearn\\metrics\\_regression.py:582: UndefinedMetricWarning: R^2 score is not well-defined with less than two samples.\n",
      "  warnings.warn(msg, UndefinedMetricWarning)\n",
      "C:\\Users\\Shankeerthan\\Anaconda3\\envs\\learn-ml\\lib\\site-packages\\sklearn\\metrics\\_regression.py:582: UndefinedMetricWarning: R^2 score is not well-defined with less than two samples.\n",
      "  warnings.warn(msg, UndefinedMetricWarning)\n",
      "C:\\Users\\Shankeerthan\\Anaconda3\\envs\\learn-ml\\lib\\site-packages\\sklearn\\metrics\\_regression.py:582: UndefinedMetricWarning: R^2 score is not well-defined with less than two samples.\n",
      "  warnings.warn(msg, UndefinedMetricWarning)\n",
      "C:\\Users\\Shankeerthan\\Anaconda3\\envs\\learn-ml\\lib\\site-packages\\sklearn\\metrics\\_regression.py:582: UndefinedMetricWarning: R^2 score is not well-defined with less than two samples.\n",
      "  warnings.warn(msg, UndefinedMetricWarning)\n",
      "C:\\Users\\Shankeerthan\\Anaconda3\\envs\\learn-ml\\lib\\site-packages\\sklearn\\metrics\\_regression.py:582: UndefinedMetricWarning: R^2 score is not well-defined with less than two samples.\n",
      "  warnings.warn(msg, UndefinedMetricWarning)\n",
      "C:\\Users\\Shankeerthan\\Anaconda3\\envs\\learn-ml\\lib\\site-packages\\sklearn\\metrics\\_regression.py:582: UndefinedMetricWarning: R^2 score is not well-defined with less than two samples.\n",
      "  warnings.warn(msg, UndefinedMetricWarning)\n",
      "C:\\Users\\Shankeerthan\\Anaconda3\\envs\\learn-ml\\lib\\site-packages\\sklearn\\metrics\\_regression.py:582: UndefinedMetricWarning: R^2 score is not well-defined with less than two samples.\n",
      "  warnings.warn(msg, UndefinedMetricWarning)\n",
      "C:\\Users\\Shankeerthan\\Anaconda3\\envs\\learn-ml\\lib\\site-packages\\sklearn\\metrics\\_regression.py:582: UndefinedMetricWarning: R^2 score is not well-defined with less than two samples.\n",
      "  warnings.warn(msg, UndefinedMetricWarning)\n",
      "C:\\Users\\Shankeerthan\\Anaconda3\\envs\\learn-ml\\lib\\site-packages\\sklearn\\metrics\\_regression.py:582: UndefinedMetricWarning: R^2 score is not well-defined with less than two samples.\n",
      "  warnings.warn(msg, UndefinedMetricWarning)\n",
      "C:\\Users\\Shankeerthan\\Anaconda3\\envs\\learn-ml\\lib\\site-packages\\sklearn\\metrics\\_regression.py:582: UndefinedMetricWarning: R^2 score is not well-defined with less than two samples.\n",
      "  warnings.warn(msg, UndefinedMetricWarning)\n",
      "C:\\Users\\Shankeerthan\\Anaconda3\\envs\\learn-ml\\lib\\site-packages\\sklearn\\metrics\\_regression.py:582: UndefinedMetricWarning: R^2 score is not well-defined with less than two samples.\n",
      "  warnings.warn(msg, UndefinedMetricWarning)\n",
      "C:\\Users\\Shankeerthan\\Anaconda3\\envs\\learn-ml\\lib\\site-packages\\sklearn\\metrics\\_regression.py:582: UndefinedMetricWarning: R^2 score is not well-defined with less than two samples.\n",
      "  warnings.warn(msg, UndefinedMetricWarning)\n",
      "C:\\Users\\Shankeerthan\\Anaconda3\\envs\\learn-ml\\lib\\site-packages\\sklearn\\metrics\\_regression.py:582: UndefinedMetricWarning: R^2 score is not well-defined with less than two samples.\n",
      "  warnings.warn(msg, UndefinedMetricWarning)\n",
      "C:\\Users\\Shankeerthan\\Anaconda3\\envs\\learn-ml\\lib\\site-packages\\sklearn\\metrics\\_regression.py:582: UndefinedMetricWarning: R^2 score is not well-defined with less than two samples.\n",
      "  warnings.warn(msg, UndefinedMetricWarning)\n",
      "C:\\Users\\Shankeerthan\\Anaconda3\\envs\\learn-ml\\lib\\site-packages\\sklearn\\metrics\\_regression.py:582: UndefinedMetricWarning: R^2 score is not well-defined with less than two samples.\n",
      "  warnings.warn(msg, UndefinedMetricWarning)\n",
      "C:\\Users\\Shankeerthan\\Anaconda3\\envs\\learn-ml\\lib\\site-packages\\sklearn\\metrics\\_regression.py:582: UndefinedMetricWarning: R^2 score is not well-defined with less than two samples.\n",
      "  warnings.warn(msg, UndefinedMetricWarning)\n",
      "C:\\Users\\Shankeerthan\\Anaconda3\\envs\\learn-ml\\lib\\site-packages\\sklearn\\metrics\\_regression.py:582: UndefinedMetricWarning: R^2 score is not well-defined with less than two samples.\n",
      "  warnings.warn(msg, UndefinedMetricWarning)\n",
      "C:\\Users\\Shankeerthan\\Anaconda3\\envs\\learn-ml\\lib\\site-packages\\sklearn\\metrics\\_regression.py:582: UndefinedMetricWarning: R^2 score is not well-defined with less than two samples.\n",
      "  warnings.warn(msg, UndefinedMetricWarning)\n",
      "C:\\Users\\Shankeerthan\\Anaconda3\\envs\\learn-ml\\lib\\site-packages\\sklearn\\metrics\\_regression.py:582: UndefinedMetricWarning: R^2 score is not well-defined with less than two samples.\n",
      "  warnings.warn(msg, UndefinedMetricWarning)\n",
      "C:\\Users\\Shankeerthan\\Anaconda3\\envs\\learn-ml\\lib\\site-packages\\sklearn\\metrics\\_regression.py:582: UndefinedMetricWarning: R^2 score is not well-defined with less than two samples.\n",
      "  warnings.warn(msg, UndefinedMetricWarning)\n",
      "C:\\Users\\Shankeerthan\\Anaconda3\\envs\\learn-ml\\lib\\site-packages\\sklearn\\metrics\\_regression.py:582: UndefinedMetricWarning: R^2 score is not well-defined with less than two samples.\n",
      "  warnings.warn(msg, UndefinedMetricWarning)\n",
      "C:\\Users\\Shankeerthan\\Anaconda3\\envs\\learn-ml\\lib\\site-packages\\sklearn\\metrics\\_regression.py:582: UndefinedMetricWarning: R^2 score is not well-defined with less than two samples.\n",
      "  warnings.warn(msg, UndefinedMetricWarning)\n",
      "C:\\Users\\Shankeerthan\\Anaconda3\\envs\\learn-ml\\lib\\site-packages\\sklearn\\metrics\\_regression.py:582: UndefinedMetricWarning: R^2 score is not well-defined with less than two samples.\n",
      "  warnings.warn(msg, UndefinedMetricWarning)\n",
      "C:\\Users\\Shankeerthan\\Anaconda3\\envs\\learn-ml\\lib\\site-packages\\sklearn\\metrics\\_regression.py:582: UndefinedMetricWarning: R^2 score is not well-defined with less than two samples.\n",
      "  warnings.warn(msg, UndefinedMetricWarning)\n",
      "C:\\Users\\Shankeerthan\\Anaconda3\\envs\\learn-ml\\lib\\site-packages\\sklearn\\metrics\\_regression.py:582: UndefinedMetricWarning: R^2 score is not well-defined with less than two samples.\n",
      "  warnings.warn(msg, UndefinedMetricWarning)\n",
      "C:\\Users\\Shankeerthan\\Anaconda3\\envs\\learn-ml\\lib\\site-packages\\sklearn\\metrics\\_regression.py:582: UndefinedMetricWarning: R^2 score is not well-defined with less than two samples.\n",
      "  warnings.warn(msg, UndefinedMetricWarning)\n",
      "C:\\Users\\Shankeerthan\\Anaconda3\\envs\\learn-ml\\lib\\site-packages\\sklearn\\metrics\\_regression.py:582: UndefinedMetricWarning: R^2 score is not well-defined with less than two samples.\n",
      "  warnings.warn(msg, UndefinedMetricWarning)\n"
     ]
    },
    {
     "name": "stdout",
     "output_type": "stream",
     "text": [
      "(nan, 10, 146923076.92307687)\n",
      "#######################################################################################################################\n"
     ]
    },
    {
     "name": "stderr",
     "output_type": "stream",
     "text": [
      "C:\\Users\\Shankeerthan\\Anaconda3\\envs\\learn-ml\\lib\\site-packages\\sklearn\\metrics\\_regression.py:582: UndefinedMetricWarning: R^2 score is not well-defined with less than two samples.\n",
      "  warnings.warn(msg, UndefinedMetricWarning)\n"
     ]
    },
    {
     "data": {
      "text/plain": [
       "[([0,\n",
       "   1,\n",
       "   2,\n",
       "   3,\n",
       "   4,\n",
       "   5,\n",
       "   6,\n",
       "   7,\n",
       "   8,\n",
       "   9,\n",
       "   10,\n",
       "   11,\n",
       "   12,\n",
       "   13,\n",
       "   14,\n",
       "   15,\n",
       "   16,\n",
       "   17,\n",
       "   18,\n",
       "   19,\n",
       "   20,\n",
       "   21,\n",
       "   22,\n",
       "   23,\n",
       "   24,\n",
       "   25,\n",
       "   26,\n",
       "   27,\n",
       "   28,\n",
       "   29,\n",
       "   30,\n",
       "   31,\n",
       "   32,\n",
       "   33,\n",
       "   34,\n",
       "   35,\n",
       "   36,\n",
       "   37,\n",
       "   38,\n",
       "   39,\n",
       "   'Beds',\n",
       "   'Baths',\n",
       "   'h_l_ratio',\n",
       "   'Bed Size',\n",
       "   'beds_bath_ratio'],\n",
       "  [(nan, 10, 146923076.92307687)])]"
      ]
     },
     "execution_count": 47,
     "metadata": {},
     "output_type": "execute_result"
    }
   ],
   "source": [
    "build_rf_models(features_important, df_range_3.loc[df_range_3[y_km_3_3_price == 2].index])"
   ]
  },
  {
   "cell_type": "markdown",
   "metadata": {},
   "source": [
    "<h1>Best clusters to continue"
   ]
  },
  {
   "cell_type": "markdown",
   "metadata": {},
   "source": [
    "<ul>\n",
    "    <li>Range 1\n",
    "        <ul>\n",
    "            <li>Price Range : Below 2 crore </li>\n",
    "            <li>Choosen no of clusters: 3 </li>\n",
    "            <li>RMSE cluster 1 (1307 instances): 11 lakhs </li>\n",
    "            <li>RMSE cluster 2 (1031)          : 15 lakhs</li>\n",
    "            <li>RMSE cluster 3 (823)           : 11 lakhs</li>\n",
    "        </ul>\n",
    "    </li>\n",
    "    <li>Range 2\n",
    "        <ul>\n",
    "           <li>Price Range :  2 crore to  4 crore </li>\n",
    "           <li>Choosen no of clusters: 3 </li>\n",
    "           <li>RMSE cluster 1  (1354 instances) : 19lakhs </li>\n",
    "            <li>RMSE cluster 2 (1129)           : 11lakhs</li>\n",
    "            <li>RMSE cluster 3 (681)            : 11 lakhs</li>\n",
    "        </ul>\n",
    "    </li>\n",
    "    <li>Range 3\n",
    "         <ul>\n",
    "           <li>Price Range :  Above 4 crore </li>\n",
    "           <li>RMSE:Not Decided ideal number of clusters due to high RMSE </li>\n",
    "           \n",
    "        </ul>\n",
    "    </li>\n",
    "\n",
    " </ul>"
   ]
  },
  {
   "cell_type": "code",
   "execution_count": null,
   "metadata": {},
   "outputs": [],
   "source": [
    "def to_locations(df, cols):\n",
    "    "
   ]
  },
  {
   "cell_type": "code",
   "execution_count": null,
   "metadata": {},
   "outputs": [],
   "source": [
    "# label_encoder = LabelEncoder()\n",
    "# integer_encoded = label_encoder.fit_transform(df['Location'].values.reshape(-1,1))\n",
    "# # binary encode\n",
    "# onehot_encoder = OneHotEncoder(sparse=False)\n",
    "# integer_encoded = integer_encoded.reshape(len(integer_encoded), 1)\n",
    "# onehot_encoded = onehot_encoder.fit_transform(integer_encoded)"
   ]
  },
  {
   "cell_type": "code",
   "execution_count": 54,
   "metadata": {},
   "outputs": [
    {
     "data": {
      "text/plain": [
       "(7609, 40)"
      ]
     },
     "execution_count": 54,
     "metadata": {},
     "output_type": "execute_result"
    }
   ],
   "source": [
    "onehot_encoded[0:, ].shape"
   ]
  },
  {
   "cell_type": "code",
   "execution_count": 55,
   "metadata": {},
   "outputs": [],
   "source": [
    "cols = list(range(0,40))"
   ]
  },
  {
   "cell_type": "code",
   "execution_count": 78,
   "metadata": {},
   "outputs": [
    {
     "data": {
      "text/plain": [
       "35"
      ]
     },
     "execution_count": 78,
     "metadata": {},
     "output_type": "execute_result"
    }
   ],
   "source": [
    "np.array([[np.argmax(data[cols].values[0, :])]])[0][0]"
   ]
  },
  {
   "cell_type": "code",
   "execution_count": 77,
   "metadata": {},
   "outputs": [
    {
     "ename": "IndexError",
     "evalue": "index 7609 is out of bounds for axis 0 with size 7609",
     "output_type": "error",
     "traceback": [
      "\u001b[1;31m---------------------------------------------------------------------------\u001b[0m",
      "\u001b[1;31mIndexError\u001b[0m                                Traceback (most recent call last)",
      "\u001b[1;32m<ipython-input-77-8ec68014ca80>\u001b[0m in \u001b[0;36m<module>\u001b[1;34m\u001b[0m\n\u001b[1;32m----> 1\u001b[1;33m \u001b[0mlabel_encoder\u001b[0m\u001b[1;33m.\u001b[0m\u001b[0minverse_transform\u001b[0m\u001b[1;33m(\u001b[0m\u001b[1;33m[\u001b[0m\u001b[0mnp\u001b[0m\u001b[1;33m.\u001b[0m\u001b[0margmax\u001b[0m\u001b[1;33m(\u001b[0m\u001b[0monehot_encoded\u001b[0m\u001b[1;33m[\u001b[0m\u001b[1;36m7609\u001b[0m\u001b[1;33m,\u001b[0m \u001b[1;33m:\u001b[0m\u001b[1;33m]\u001b[0m\u001b[1;33m)\u001b[0m\u001b[1;33m]\u001b[0m\u001b[1;33m)\u001b[0m\u001b[1;33m\u001b[0m\u001b[1;33m\u001b[0m\u001b[0m\n\u001b[0m",
      "\u001b[1;31mIndexError\u001b[0m: index 7609 is out of bounds for axis 0 with size 7609"
     ]
    }
   ],
   "source": [
    "label_encoder.inverse_transform([np.argmax(onehot_encoded[7609, :])])"
   ]
  },
  {
   "cell_type": "code",
   "execution_count": 136,
   "metadata": {},
   "outputs": [],
   "source": [
    "np.save('location_label_mapping.npy', label_encoder.classes_)"
   ]
  },
  {
   "cell_type": "code",
   "execution_count": 137,
   "metadata": {},
   "outputs": [],
   "source": [
    "import pickle\n",
    "with open('one_hot_encoder', 'wb') as file:\n",
    "  pickle.dump(onehot_encoder, file)"
   ]
  },
  {
   "cell_type": "code",
   "execution_count": 140,
   "metadata": {},
   "outputs": [
    {
     "name": "stdout",
     "output_type": "stream",
     "text": [
      "OneHotEncoder(categories='auto', drop=None, dtype=<class 'numpy.float64'>,\n",
      "              handle_unknown='error', sparse=False)\n"
     ]
    }
   ],
   "source": [
    "loaded_one_hot_encoder = None;\n",
    "with open('one_hot_encoder', 'rb') as file:\n",
    "    loaded_one_hot_encoder = pickle.load(file)\n",
    "    print(loaded_one_hot_encoder)"
   ]
  },
  {
   "cell_type": "code",
   "execution_count": 143,
   "metadata": {},
   "outputs": [],
   "source": [
    "check = loaded_one_hot_encoder.fit_transform(integer_encoded)"
   ]
  },
  {
   "cell_type": "code",
   "execution_count": 149,
   "metadata": {},
   "outputs": [
    {
     "data": {
      "text/plain": [
       "38"
      ]
     },
     "execution_count": 149,
     "metadata": {},
     "output_type": "execute_result"
    }
   ],
   "source": [
    "np.argmax(check[300])"
   ]
  },
  {
   "cell_type": "code",
   "execution_count": 148,
   "metadata": {},
   "outputs": [
    {
     "data": {
      "text/plain": [
       "38"
      ]
     },
     "execution_count": 148,
     "metadata": {},
     "output_type": "execute_result"
    }
   ],
   "source": [
    "np.argmax(onehot_encoded[300])"
   ]
  },
  {
   "cell_type": "code",
   "execution_count": null,
   "metadata": {},
   "outputs": [],
   "source": []
  }
 ],
 "metadata": {
  "kernelspec": {
   "display_name": "Python 3",
   "language": "python",
   "name": "python3"
  },
  "language_info": {
   "codemirror_mode": {
    "name": "ipython",
    "version": 3
   },
   "file_extension": ".py",
   "mimetype": "text/x-python",
   "name": "python",
   "nbconvert_exporter": "python",
   "pygments_lexer": "ipython3",
   "version": "3.7.6"
  }
 },
 "nbformat": 4,
 "nbformat_minor": 4
}
