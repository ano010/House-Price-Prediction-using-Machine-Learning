{
 "cells": [
  {
   "cell_type": "code",
   "execution_count": 1,
   "metadata": {},
   "outputs": [],
   "source": [
    "import numpy as np\n",
    "import pandas as pd\n",
    "import matplotlib.pyplot as plt\n",
    "from sklearn.cluster import KMeans\n",
    "\n",
    "from sklearn.model_selection import train_test_split\n",
    "from sklearn.preprocessing import LabelEncoder\n",
    "\n",
    "from sklearn.ensemble import RandomForestRegressor\n",
    "from sklearn.linear_model import LinearRegression, Lasso, Ridge\n",
    "from sklearn.neighbors import KNeighborsRegressor\n",
    "from sklearn.neural_network import MLPRegressor\n",
    "from sklearn.tree import DecisionTreeRegressor\n",
    "from sklearn.model_selection import train_test_split, GridSearchCV, cross_val_score, cross_val_predict, KFold\n",
    "from sklearn.preprocessing import StandardScaler, PolynomialFeatures, OneHotEncoder, MinMaxScaler\n",
    "from sklearn.pipeline import Pipeline\n",
    "from sklearn import linear_model\n",
    "from sklearn.svm import SVR \n",
    "\n",
    "import seaborn as sns"
   ]
  },
  {
   "cell_type": "code",
   "execution_count": 2,
   "metadata": {},
   "outputs": [],
   "source": [
    "df = pd.read_csv('./house_data_colombo_cluster1 (1).csv')"
   ]
  },
  {
   "cell_type": "code",
   "execution_count": 3,
   "metadata": {},
   "outputs": [
    {
     "data": {
      "text/html": [
       "<div>\n",
       "<style scoped>\n",
       "    .dataframe tbody tr th:only-of-type {\n",
       "        vertical-align: middle;\n",
       "    }\n",
       "\n",
       "    .dataframe tbody tr th {\n",
       "        vertical-align: top;\n",
       "    }\n",
       "\n",
       "    .dataframe thead th {\n",
       "        text-align: right;\n",
       "    }\n",
       "</style>\n",
       "<table border=\"1\" class=\"dataframe\">\n",
       "  <thead>\n",
       "    <tr style=\"text-align: right;\">\n",
       "      <th></th>\n",
       "      <th>price</th>\n",
       "      <th>beds</th>\n",
       "      <th>baths</th>\n",
       "      <th>house_size</th>\n",
       "      <th>land_size</th>\n",
       "      <th>0</th>\n",
       "      <th>1</th>\n",
       "      <th>2</th>\n",
       "      <th>3</th>\n",
       "      <th>4</th>\n",
       "      <th>...</th>\n",
       "      <th>29</th>\n",
       "      <th>30</th>\n",
       "      <th>31</th>\n",
       "      <th>32</th>\n",
       "      <th>33</th>\n",
       "      <th>34</th>\n",
       "      <th>35</th>\n",
       "      <th>36</th>\n",
       "      <th>37</th>\n",
       "      <th>38</th>\n",
       "    </tr>\n",
       "  </thead>\n",
       "  <tbody>\n",
       "    <tr>\n",
       "      <th>0</th>\n",
       "      <td>12500000</td>\n",
       "      <td>4</td>\n",
       "      <td>2</td>\n",
       "      <td>1750.0</td>\n",
       "      <td>6.5</td>\n",
       "      <td>0</td>\n",
       "      <td>0</td>\n",
       "      <td>0</td>\n",
       "      <td>0</td>\n",
       "      <td>0</td>\n",
       "      <td>...</td>\n",
       "      <td>0</td>\n",
       "      <td>0</td>\n",
       "      <td>0</td>\n",
       "      <td>0</td>\n",
       "      <td>0</td>\n",
       "      <td>0</td>\n",
       "      <td>1</td>\n",
       "      <td>0</td>\n",
       "      <td>0</td>\n",
       "      <td>0</td>\n",
       "    </tr>\n",
       "  </tbody>\n",
       "</table>\n",
       "<p>1 rows × 44 columns</p>\n",
       "</div>"
      ],
      "text/plain": [
       "      price  beds  baths  house_size  land_size  0  1  2  3  4  ...  29  30  \\\n",
       "0  12500000     4      2      1750.0        6.5  0  0  0  0  0  ...   0   0   \n",
       "\n",
       "   31  32  33  34  35  36  37  38  \n",
       "0   0   0   0   0   1   0   0   0  \n",
       "\n",
       "[1 rows x 44 columns]"
      ]
     },
     "execution_count": 3,
     "metadata": {},
     "output_type": "execute_result"
    }
   ],
   "source": [
    "df.head(1)"
   ]
  },
  {
   "cell_type": "code",
   "execution_count": 5,
   "metadata": {},
   "outputs": [],
   "source": [
    "featuers_list  = [ 'beds', 'baths', 'house_size', 'land_size', '0', '1', '2', '3',\n",
    "       '4', '5', '6', '7', '8', '9', '10', '11', '12', '13', '14', '15', '16',\n",
    "       '17', '18', '19', '20', '21', '22', '23', '24', '25', '26', '27', '28',\n",
    "       '29', '30', '31', '32', '33', '34', '35', '36', '37', '38']"
   ]
  },
  {
   "cell_type": "code",
   "execution_count": null,
   "metadata": {},
   "outputs": [
    {
     "name": "stdout",
     "output_type": "stream",
     "text": [
      "(5427000.259120438, 0.7480048290622876, 10)\n",
      "(5369323.704402257, 0.7533326270772693, 20)\n",
      "(5314567.039427962, 0.7583380290549816, 30)\n",
      "(5300405.192946861, 0.7596242372677341, 40)\n",
      "(5356384.306443586, 0.7545200695357807, 50)\n",
      "(5303474.876007419, 0.759345733625931, 60)\n",
      "(5298667.557723848, 0.7597818165137902, 70)\n",
      "(5306456.180540132, 0.759075093967946, 80)\n",
      "(5298273.925400374, 0.7598175062899021, 90)\n",
      "(5262717.9300881205, 0.7630303535659079, 100)\n",
      "(5295693.232486471, 0.760051426359931, 110)\n",
      "(5252472.288071157, 0.7639521368848905, 120)\n",
      "(5273926.61415954, 0.7620198694495735, 130)\n",
      "(5289076.8842467405, 0.7606506270702051, 140)\n",
      "(5268824.772038124, 0.7624800767609659, 150)\n",
      "(5290541.019403235, 0.7605180941749321, 160)\n",
      "(5257691.424710552, 0.7634828043279436, 170)\n",
      "(5280856.590180949, 0.7613940434770542, 180)\n",
      "(5266037.742158803, 0.7627312902935554, 190)\n",
      "(5292083.211582085, 0.7603784559223624, 200)\n",
      "(5287808.67004568, 0.7607653956350278, 210)\n",
      "(5256638.481832901, 0.7635775280914111, 220)\n",
      "(5286968.49929338, 0.7608414127385053, 230)\n",
      "(5296856.093838408, 0.7599460359810989, 240)\n",
      "(5297166.375955672, 0.7599179111340241, 250)\n",
      "(5288247.673498276, 0.7607256706058048, 260)\n",
      "(5284649.431797119, 0.7610511750120458, 270)\n",
      "(5298475.450371143, 0.7597992347957405, 280)\n",
      "(5291379.594681926, 0.760442170173618, 290)\n"
     ]
    }
   ],
   "source": [
    "rf_results = []\n",
    "for index, features in enumerate([featuers_list]):\n",
    "    model = RandomForestRegressor(n_jobs=-1)\n",
    "    max_scores_param = []\n",
    "    X_train, X_test, Y_train, Y_test = train_test_split(\n",
    "        df[features],\n",
    "        df['price'],\n",
    "        test_size=0.25,\n",
    "        random_state=42\n",
    "    )\n",
    "    estimators = np.arange(10, 400, 10)\n",
    "    scores = []\n",
    "    rmse = 0.0\n",
    "    rmses = []\n",
    "    for n in estimators:\n",
    "        model.set_params(n_estimators=n)\n",
    "        model.fit(X_train, Y_train)\n",
    "        pred_y = model.predict(X_test)\n",
    "        rmse = np.sqrt(((pred_y - Y_test) ** 2).mean())\n",
    "        score = model.score(X_test, Y_test)\n",
    "        scores.append(score)\n",
    "        rmses.append(rmse)\n",
    "        print((rmse, score, n))\n",
    "    max_scores_param.append((max(scores), estimators[scores.index(max(scores))], rmses[scores.index(max(scores))] ))\n",
    "#     print(max_scores_param)\n",
    "# ax.legend([\n",
    "#     'cluser1' + 'max_score: '+ str(max_scores_param [0][0])  + ' n_estimator: ' + str(max_scores_param [0][1]) + ' rmse: ' + str(max_scores_param [0][2]),\n",
    "#     'cluster2' + 'max_score: '+ str(max_scores_param [1][0])  + ' n_estimator: ' + str(max_scores_param [1][1]) + ' rmse: ' + str(max_scores_param [1][2])\n",
    "# #     'cluster3' + 'max_score: '+ str(max_scores_param [2][0])  + ' n_estimator: ' + str(max_scores_param [2][1]) + ' rmse: ' + str(max_scores_param [2][2])\n",
    "# #     'cluster4' + 'max_score: '+ str(max_scores_param [3][0])  + ' n_estimator: ' + str(max_scores_param [3][1]) + ' rmse: ' + str(max_scores_param [3][2]),\n",
    "# ])\n",
    "#     print(features)\n",
    "#     print(max_scores_param)\n",
    "    rf_results.append((features, max_scores_param))\n",
    "    print('#######################################################################################################################')\n"
   ]
  },
  {
   "cell_type": "code",
   "execution_count": null,
   "metadata": {},
   "outputs": [],
   "source": []
  }
 ],
 "metadata": {
  "kernelspec": {
   "display_name": "Python 3",
   "language": "python",
   "name": "python3"
  },
  "language_info": {
   "codemirror_mode": {
    "name": "ipython",
    "version": 3
   },
   "file_extension": ".py",
   "mimetype": "text/x-python",
   "name": "python",
   "nbconvert_exporter": "python",
   "pygments_lexer": "ipython3",
   "version": "3.7.6"
  }
 },
 "nbformat": 4,
 "nbformat_minor": 4
}
