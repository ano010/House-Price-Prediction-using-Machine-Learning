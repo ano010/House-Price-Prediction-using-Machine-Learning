{
 "cells": [
  {
   "cell_type": "code",
   "execution_count": 9,
   "metadata": {},
   "outputs": [],
   "source": [
    "import numpy as np\n",
    "import pandas as pd\n",
    "import matplotlib.pyplot as plt\n",
    "from sklearn.cluster import KMeans\n",
    "\n",
    "from sklearn.model_selection import train_test_split\n",
    "from sklearn.preprocessing import LabelEncoder\n",
    "\n",
    "from sklearn.ensemble import RandomForestRegressor\n",
    "from sklearn.linear_model import LinearRegression, Lasso, Ridge\n",
    "from sklearn.neighbors import KNeighborsRegressor\n",
    "from sklearn.neural_network import MLPRegressor\n",
    "from sklearn.tree import DecisionTreeRegressor\n",
    "from sklearn.model_selection import train_test_split, GridSearchCV, cross_val_score, cross_val_predict, KFold\n",
    "from sklearn.preprocessing import StandardScaler, PolynomialFeatures, OneHotEncoder, MinMaxScaler\n",
    "from sklearn.pipeline import Pipeline\n",
    "from sklearn import linear_model\n",
    "\n",
    "import seaborn as sns\n",
    "import pickle"
   ]
  },
  {
   "cell_type": "markdown",
   "metadata": {},
   "source": [
    "<h1>Load data sets"
   ]
  },
  {
   "cell_type": "code",
   "execution_count": 17,
   "metadata": {},
   "outputs": [],
   "source": [
    "df_range_3 =  pd.read_csv('range_3.csv')\n",
    "df_range_1_cluster_1 = pd.read_csv('range_1_cluster_1.csv')\n",
    "df_range_1_cluster_2 = pd.read_csv('range_1_cluster_2.csv')\n",
    "df_range_1_cluster_3 = pd.read_csv('range_1_cluster_3.csv')\n",
    "df_range_2_cluster_1 = pd.read_csv('range_2_cluster_1.csv')\n",
    "df_range_2_cluster_2 = pd.read_csv('range_2_cluter_2.csv')\n",
    "df_range_2_cluster_3 = pd.read_csv('range_2_cluter_3.csv')"
   ]
  },
  {
   "cell_type": "code",
   "execution_count": 24,
   "metadata": {},
   "outputs": [],
   "source": [
    "important_features = ['Beds','Baths','h_l_ratio','Bed Size','beds_bath_ratio', 0,1,2,3,4,5,6,7,8,9,10,11,12,13,14,15,16,17,18,19,20,21,22,23,24,25,26,27,28,29,30,31,32,33,34,35,36,37,38,39]\n",
    "important_features = [ str(f) for f in important_features]"
   ]
  },
  {
   "cell_type": "code",
   "execution_count": 39,
   "metadata": {},
   "outputs": [],
   "source": [
    "params_grid = { \n",
    "    'n_estimators': list(range(10, 100, 3)),\n",
    "    'max_features': [1, 2, 3, 4, 5, 6,7, 8, 9, 10, 13, 14, 15,'auto', 'sqrt', 'log2'],\n",
    "    'max_depth' : [4,5,6,7,8],\n",
    "    'criterion' :['mse', 'mae']\n",
    "}"
   ]
  },
  {
   "cell_type": "code",
   "execution_count": 40,
   "metadata": {},
   "outputs": [],
   "source": [
    "def tune_params(df, params, file_name, cols):\n",
    "    X_train, X_test, Y_train, Y_test = train_test_split(\n",
    "        df[cols],\n",
    "        df['Price'],\n",
    "        test_size=0.33,\n",
    "        random_state=42\n",
    "    )\n",
    "    grid_search = GridSearchCV(param_grid=params_grid, estimator=RandomForestRegressor(), cv=5, n_jobs=-1, scoring='r2')\n",
    "    grid_search.fit(X_train,Y_train)\n",
    "    #Save grid_search obj\n",
    "    with open(file_name, 'wb') as file:\n",
    "      pickle.dump(grid_search, file)\n",
    "    print(grid_search.best_params_)\n",
    "    return grid_search"
   ]
  },
  {
   "cell_type": "code",
   "execution_count": null,
   "metadata": {},
   "outputs": [],
   "source": [
    "tune_params(df_range_3,params_grid, 'range_3', important_features).best_score_"
   ]
  },
  {
   "cell_type": "code",
   "execution_count": null,
   "metadata": {},
   "outputs": [],
   "source": [
    "print(tune_params(df_range_1_cluster_1,params_grid, 'range_1_cluster_1', important_features).best_score_)\n",
    "print(tune_params(df_range_1_cluster_2,params_grid, 'range_1_cluster_2', important_features).best_score_)\n",
    "print(tune_params(df_range_1_cluster_3,params_grid, 'range_1_cluster_3', important_features).best_score_)\n",
    "print(tune_params(df_range_2_cluster_1,params_grid, 'range_2_cluster_1', important_features).best_score_)\n",
    "print(tune_params(df_range_2_cluster_2,params_grid, 'range_2_cluster_2', important_features).best_score_)\n",
    "print(tune_params(df_range_2_cluster_3,params_grid, 'range_2_cluster_3', important_features).best_score_)"
   ]
  },
  {
   "cell_type": "code",
   "execution_count": null,
   "metadata": {},
   "outputs": [],
   "source": []
  }
 ],
 "metadata": {
  "kernelspec": {
   "display_name": "Python 3",
   "language": "python",
   "name": "python3"
  },
  "language_info": {
   "codemirror_mode": {
    "name": "ipython",
    "version": 3
   },
   "file_extension": ".py",
   "mimetype": "text/x-python",
   "name": "python",
   "nbconvert_exporter": "python",
   "pygments_lexer": "ipython3",
   "version": "3.7.6"
  }
 },
 "nbformat": 4,
 "nbformat_minor": 4
}
